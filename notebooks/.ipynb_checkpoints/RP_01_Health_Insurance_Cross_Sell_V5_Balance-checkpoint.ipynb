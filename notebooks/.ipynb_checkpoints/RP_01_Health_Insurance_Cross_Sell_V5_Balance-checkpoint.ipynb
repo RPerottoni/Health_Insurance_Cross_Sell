{
 "cells": [
  {
   "cell_type": "markdown",
   "id": "8ba1e0d7",
   "metadata": {},
   "source": [
    "# PA004 - HEALTH INSURANCE CROS-SELL"
   ]
  },
  {
   "cell_type": "markdown",
   "id": "c8ee28ec",
   "metadata": {},
   "source": [
    "Last version of project, according Machine Learning Fundamentals course"
   ]
  },
  {
   "cell_type": "markdown",
   "id": "ce96817c",
   "metadata": {},
   "source": [
    "## 0 - IMPORTS AND FUNCTIONS"
   ]
  },
  {
   "cell_type": "code",
   "execution_count": 1,
   "id": "17f6ae08",
   "metadata": {
    "ExecuteTime": {
     "end_time": "2023-05-05T18:16:24.946817Z",
     "start_time": "2023-05-05T18:16:21.310693Z"
    }
   },
   "outputs": [
    {
     "name": "stderr",
     "output_type": "stream",
     "text": [
      "C:\\Users\\perot\\anaconda3\\envs\\health_insurance_venv\\lib\\site-packages\\tqdm\\auto.py:22: TqdmWarning: IProgress not found. Please update jupyter and ipywidgets. See https://ipywidgets.readthedocs.io/en/stable/user_install.html\n",
      "  from .autonotebook import tqdm as notebook_tqdm\n",
      "C:\\Users\\perot\\AppData\\Local\\Temp\\ipykernel_14424\\1835649154.py:6: DeprecationWarning: `import pandas_profiling` is going to be deprecated by April 1st. Please use `import ydata_profiling` instead.\n",
      "  from pandas_profiling      import ProfileReport\n"
     ]
    }
   ],
   "source": [
    "import pandas              as pd\n",
    "import scikitplot          as skplt\n",
    "import matplotlib.pyplot   as plt\n",
    "import lightgbm            as lgbm\n",
    "\n",
    "from pandas_profiling      import ProfileReport\n",
    "from IPython.display       import HTML\n",
    "from catboost              import CatBoostClassifier\n",
    "from xgboost               import XGBClassifier\n",
    "from sklearn.utils         import resample\n",
    "from sklearn               import metrics               as mt\n",
    "from sklearn               import model_selection       as ms"
   ]
  },
  {
   "cell_type": "markdown",
   "id": "43cdef58",
   "metadata": {},
   "source": [
    "### 0.1 - HELPER FUNCTIONS"
   ]
  },
  {
   "cell_type": "code",
   "execution_count": 2,
   "id": "1dd3bff4",
   "metadata": {
    "ExecuteTime": {
     "end_time": "2023-05-05T18:16:25.945667Z",
     "start_time": "2023-05-05T18:16:25.929226Z"
    }
   },
   "outputs": [],
   "source": [
    "def ml_performance( model_name, precision_atK, recall_atK, accuracy ):\n",
    "        \n",
    "        return pd.DataFrame( {'Model Name': model_name,\n",
    "                              'Precision_at_K': precision_atK,\n",
    "                              'Recall_at_K': recall_atK}, index=[0] )\n",
    "                          \n",
    "def recall_at_k (data, k=20000):\n",
    "    # Reset Index\n",
    "    data = data.reset_index( drop=True )\n",
    "\n",
    "    # Create Ranking Order\n",
    "    data['ranking'] = data.index + 1\n",
    "\n",
    "    data['recall_at_k'] = data['response'].cumsum() / data['response'].sum()\n",
    "\n",
    "    return data.loc[k, 'recall_at_k'] \n",
    "\n",
    "def precision_at_k (data, k=20000):\n",
    "    # Reset Index\n",
    "    data = data.reset_index( drop=True )\n",
    "\n",
    "    # Create Ranking Order\n",
    "    data['ranking'] = data.index + 1\n",
    "\n",
    "    data['precision_at_k'] = data['response'].cumsum() / data['ranking']\n",
    "\n",
    "    return data.loc[k, 'precision_at_k']\n",
    "\n",
    "def prediction_score(model, data):\n",
    "    # Separating train and validation dataset for each kfold\n",
    "    x_train = data.drop(columns=['response'])\n",
    "    y_train = data['response']\n",
    "    \n",
    "    # prediction probability (score)\n",
    "    yhat_proba = model.predict_proba(x_train)[:, 1].tolist()\n",
    "    \n",
    "    # merging score to dataset\n",
    "    data_scored = data.copy()\n",
    "    data_scored['score'] = yhat_proba\n",
    "    \n",
    "    # sort\n",
    "    data_scored = data_scored.sort_values('score', ascending=False)\n",
    "    \n",
    "    # precision and recall\n",
    "    data_scored = data_scored.reset_index(drop=True)\n",
    "    data_scored['n_samples'] = data_scored.index + 1\n",
    "    data_scored['precision_at_k'] = data_scored['response'].cumsum() / data_scored['n_samples']\n",
    "    data_scored['recall_at_k'] = data_scored['response'].cumsum() / data_scored['response'].sum()\n",
    "    \n",
    "    return data_scored\n",
    "\n",
    "def cross_validation(kfold, modelName, model, data, at_k):\n",
    "    \n",
    "    # Number of folds\n",
    "    fold=ms.StratifiedKFold(n_splits = kfold, shuffle=True, random_state=42)\n",
    "    \n",
    "    # Performance variables\n",
    "    precision_list = []\n",
    "    recall_list = []\n",
    "    cv_performance = {}\n",
    "    \n",
    "    for train_cv,val_cv in fold.split(data, data['response']):\n",
    "        \n",
    "        # Separating train and validation dataset for each kfold\n",
    "        # training data\n",
    "        x_train_fold = data.iloc[train_cv]\n",
    "        x_train_fold = x_train_fold[cols_selected]\n",
    "        \n",
    "        y_train_fold = data['response'].iloc[train_cv]\n",
    "        \n",
    "        # validation data\n",
    "        x_val_fold = data.iloc[val_cv]\n",
    "        x_val_fold = x_val_fold[cols_selected]\n",
    "        \n",
    "        y_val_fold = data['response'].iloc[val_cv]\n",
    "        \n",
    "        # fitting the model\n",
    "        model_fitted = model.fit(x_train_fold,y_train_fold)\n",
    "        \n",
    "        # getting the prediction probability\n",
    "        x_val_fold['response'] = y_val_fold\n",
    "        val_scored = prediction_score(model_fitted, x_val_fold)\n",
    "        \n",
    "        # Getting precision and recall at k\n",
    "        precision = val_scored.loc[at_k, 'precision_at_k']\n",
    "        recall = val_scored.loc[at_k, 'recall_at_k']\n",
    "        \n",
    "        precision_list.append(precision)\n",
    "        recall_list.append(recall)\n",
    "        \n",
    "    # calculating the mean and std performance of all kfolds\n",
    "    precision_cv = np.round(np.mean(precision_list),4).astype(float)\n",
    "    std_precision_cv = '+/-' + np.round(np.std(precision_list),4).astype(str)\n",
    "    recall_cv = np.round(np.mean(recall_list),4).astype(float)\n",
    "    std_recall_cv = ' +/- ' + np.round(np.std(recall_list),4).astype(str)\n",
    "        \n",
    "    cv_performance[modelName] = [precision_cv, std_precision_cv, recall_cv, std_recall_cv]\n",
    "    model_performance_cv = pd.DataFrame(cv_performance, index=['precision_at_k', 'std_precision', 'recall_at_k', 'std_recall'])\n",
    "\n",
    "    return model_performance_cv\n",
    "\n",
    "def ml_performance( model_name, precision_atK, recall_atK ):\n",
    "    \n",
    "    return pd.DataFrame( {'Model Name': model_name,\n",
    "                          'Precision_at_K': precision_atK,\n",
    "                          'Recall_at_K': recall_atK}, index=[0])"
   ]
  },
  {
   "cell_type": "markdown",
   "id": "82380eb7",
   "metadata": {
    "cell_style": "center"
   },
   "source": [
    "## 1 - LOADING AND UNDESTANDING DATA"
   ]
  },
  {
   "cell_type": "code",
   "execution_count": 3,
   "id": "c520d31c",
   "metadata": {
    "ExecuteTime": {
     "end_time": "2023-05-05T18:16:29.559824Z",
     "start_time": "2023-05-05T18:16:29.245206Z"
    },
    "cell_style": "center"
   },
   "outputs": [],
   "source": [
    "# All data - Linux\n",
    "#df = pd.read_csv('/home/reng/Documents/ds_repos/Projects/Health_Insurance_Cross_Sell/data/raw/data.csv')\n",
    "\n",
    "# All Data - Windows\n",
    "df = pd.read_csv('C:/Users/perot/Documents/ds_repos/projects/Health_Insurance_Cross_Sell/data/raw/data.csv') "
   ]
  },
  {
   "cell_type": "markdown",
   "id": "3495e100",
   "metadata": {},
   "source": [
    "### 1.1 - SPLIT DATASET INTO TRAINING, TEST AND VALIDATION"
   ]
  },
  {
   "cell_type": "code",
   "execution_count": 5,
   "id": "e6fc3fe6",
   "metadata": {
    "ExecuteTime": {
     "end_time": "2023-05-05T18:17:31.201945Z",
     "start_time": "2023-05-05T18:17:31.060350Z"
    }
   },
   "outputs": [
    {
     "name": "stdout",
     "output_type": "stream",
     "text": [
      " x_train: (243909, 11)\n",
      " y_train: (243909,)\n",
      " x_valid: (76222, 11)\n",
      " y_valid: (76222,)\n",
      " x_test: (60978, 11)\n",
      " y_test: (60978,)\n",
      "\n"
     ]
    }
   ],
   "source": [
    "# Applying train test split to create Train, Validation and Test datasets\n",
    "\n",
    "X = df.drop( 'response', axis=1 )\n",
    "y = df['response'].copy()\n",
    "x_train, x_valid, y_train, y_valid = ms.train_test_split( X, y, test_size=0.2 )\n",
    "x_train, x_test, y_train, y_test = ms.train_test_split( x_train, y_train, test_size=0.2, shuffle=True, random_state=None )\n",
    "\n",
    "print(f\" x_train: {x_train.shape}\\n y_train: {y_train.shape}\\n x_valid: {x_valid.shape}\\n y_valid: {y_valid.shape}\\n x_test: {x_test.shape}\\n y_test: {y_test.shape}\\n\")"
   ]
  },
  {
   "cell_type": "code",
   "execution_count": 6,
   "id": "a99a17f8",
   "metadata": {
    "ExecuteTime": {
     "end_time": "2023-05-05T18:18:06.299627Z",
     "start_time": "2023-05-05T18:18:06.274304Z"
    }
   },
   "outputs": [],
   "source": [
    "df_train_balanced = pd.concat([x_train,y_train], axis=1)"
   ]
  },
  {
   "cell_type": "code",
   "execution_count": 7,
   "id": "061388b5",
   "metadata": {
    "ExecuteTime": {
     "end_time": "2023-05-05T18:18:14.350820Z",
     "start_time": "2023-05-05T18:18:14.302590Z"
    }
   },
   "outputs": [
    {
     "data": {
      "text/html": [
       "<div>\n",
       "<style scoped>\n",
       "    .dataframe tbody tr th:only-of-type {\n",
       "        vertical-align: middle;\n",
       "    }\n",
       "\n",
       "    .dataframe tbody tr th {\n",
       "        vertical-align: top;\n",
       "    }\n",
       "\n",
       "    .dataframe thead th {\n",
       "        text-align: right;\n",
       "    }\n",
       "</style>\n",
       "<table border=\"1\" class=\"dataframe\">\n",
       "  <thead>\n",
       "    <tr style=\"text-align: right;\">\n",
       "      <th></th>\n",
       "      <th>id</th>\n",
       "      <th>gender</th>\n",
       "      <th>age</th>\n",
       "      <th>region_code</th>\n",
       "      <th>policy_sales_channel</th>\n",
       "      <th>driving_license</th>\n",
       "      <th>vehicle_age</th>\n",
       "      <th>vehicle_damage</th>\n",
       "      <th>previously_insured</th>\n",
       "      <th>annual_premium</th>\n",
       "      <th>vintage</th>\n",
       "      <th>response</th>\n",
       "    </tr>\n",
       "  </thead>\n",
       "  <tbody>\n",
       "    <tr>\n",
       "      <th>310172</th>\n",
       "      <td>192007</td>\n",
       "      <td>Male</td>\n",
       "      <td>43</td>\n",
       "      <td>28</td>\n",
       "      <td>156</td>\n",
       "      <td>1</td>\n",
       "      <td>1-2 Year</td>\n",
       "      <td>Yes</td>\n",
       "      <td>0</td>\n",
       "      <td>34158</td>\n",
       "      <td>62</td>\n",
       "      <td>1</td>\n",
       "    </tr>\n",
       "    <tr>\n",
       "      <th>374546</th>\n",
       "      <td>328741</td>\n",
       "      <td>Female</td>\n",
       "      <td>38</td>\n",
       "      <td>45</td>\n",
       "      <td>30</td>\n",
       "      <td>1</td>\n",
       "      <td>1-2 Year</td>\n",
       "      <td>No</td>\n",
       "      <td>0</td>\n",
       "      <td>21078</td>\n",
       "      <td>15</td>\n",
       "      <td>0</td>\n",
       "    </tr>\n",
       "    <tr>\n",
       "      <th>43598</th>\n",
       "      <td>348115</td>\n",
       "      <td>Female</td>\n",
       "      <td>74</td>\n",
       "      <td>28</td>\n",
       "      <td>26</td>\n",
       "      <td>1</td>\n",
       "      <td>1-2 Year</td>\n",
       "      <td>No</td>\n",
       "      <td>1</td>\n",
       "      <td>67875</td>\n",
       "      <td>160</td>\n",
       "      <td>0</td>\n",
       "    </tr>\n",
       "    <tr>\n",
       "      <th>152555</th>\n",
       "      <td>76243</td>\n",
       "      <td>Male</td>\n",
       "      <td>52</td>\n",
       "      <td>28</td>\n",
       "      <td>26</td>\n",
       "      <td>1</td>\n",
       "      <td>1-2 Year</td>\n",
       "      <td>Yes</td>\n",
       "      <td>0</td>\n",
       "      <td>44267</td>\n",
       "      <td>190</td>\n",
       "      <td>1</td>\n",
       "    </tr>\n",
       "    <tr>\n",
       "      <th>328853</th>\n",
       "      <td>342098</td>\n",
       "      <td>Female</td>\n",
       "      <td>67</td>\n",
       "      <td>28</td>\n",
       "      <td>26</td>\n",
       "      <td>1</td>\n",
       "      <td>1-2 Year</td>\n",
       "      <td>Yes</td>\n",
       "      <td>0</td>\n",
       "      <td>33880</td>\n",
       "      <td>216</td>\n",
       "      <td>0</td>\n",
       "    </tr>\n",
       "  </tbody>\n",
       "</table>\n",
       "</div>"
      ],
      "text/plain": [
       "            id  gender  age  region_code  policy_sales_channel  \\\n",
       "310172  192007    Male   43           28                   156   \n",
       "374546  328741  Female   38           45                    30   \n",
       "43598   348115  Female   74           28                    26   \n",
       "152555   76243    Male   52           28                    26   \n",
       "328853  342098  Female   67           28                    26   \n",
       "\n",
       "        driving_license vehicle_age vehicle_damage  previously_insured  \\\n",
       "310172                1    1-2 Year            Yes                   0   \n",
       "374546                1    1-2 Year             No                   0   \n",
       "43598                 1    1-2 Year             No                   1   \n",
       "152555                1    1-2 Year            Yes                   0   \n",
       "328853                1    1-2 Year            Yes                   0   \n",
       "\n",
       "        annual_premium  vintage  response  \n",
       "310172           34158       62         1  \n",
       "374546           21078       15         0  \n",
       "43598            67875      160         0  \n",
       "152555           44267      190         1  \n",
       "328853           33880      216         0  "
      ]
     },
     "execution_count": 7,
     "metadata": {},
     "output_type": "execute_result"
    }
   ],
   "source": [
    "df_train_balanced.head()"
   ]
  },
  {
   "cell_type": "code",
   "execution_count": 8,
   "id": "078ac753",
   "metadata": {
    "ExecuteTime": {
     "end_time": "2023-05-05T18:18:37.990649Z",
     "start_time": "2023-05-05T18:18:37.967588Z"
    }
   },
   "outputs": [
    {
     "data": {
      "text/plain": [
       "0    214091\n",
       "1     29818\n",
       "Name: response, dtype: int64"
      ]
     },
     "execution_count": 8,
     "metadata": {},
     "output_type": "execute_result"
    }
   ],
   "source": [
    "df_train_balanced['response'].value_counts()"
   ]
  },
  {
   "cell_type": "markdown",
   "id": "030882a0",
   "metadata": {},
   "source": [
    "##### 1.1.1 - Balancing Datasets according to majority class qty"
   ]
  },
  {
   "cell_type": "code",
   "execution_count": 9,
   "id": "2c2201bb",
   "metadata": {
    "ExecuteTime": {
     "end_time": "2023-05-05T18:20:06.675556Z",
     "start_time": "2023-05-05T18:20:06.587630Z"
    }
   },
   "outputs": [],
   "source": [
    "#create two different dataframe of majority and minority class \n",
    "df_majority = df_train_balanced[(df_train_balanced['response']==0)] \n",
    "df_minority = df_train_balanced[(df_train_balanced['response']==1)] \n",
    "\n",
    "# upsample minority class\n",
    "df_minority_upsampled = resample(df_minority, \n",
    "                                 replace=True,    # sample with replacement\n",
    "                                 n_samples= 214091, # to match majority class\n",
    "                                 random_state=0)  # reproducible results\n",
    "\n",
    "# Combine majority class with upsampled minority class\n",
    "df_upsampled = pd.concat([df_minority_upsampled, df_majority])"
   ]
  },
  {
   "cell_type": "code",
   "execution_count": 10,
   "id": "2a91b716",
   "metadata": {
    "ExecuteTime": {
     "end_time": "2023-05-05T18:20:07.662453Z",
     "start_time": "2023-05-05T18:20:07.638344Z"
    }
   },
   "outputs": [
    {
     "data": {
      "text/plain": [
       "1    214091\n",
       "0    214091\n",
       "Name: response, dtype: int64"
      ]
     },
     "execution_count": 10,
     "metadata": {},
     "output_type": "execute_result"
    }
   ],
   "source": [
    "df_upsampled['response'].value_counts()"
   ]
  },
  {
   "cell_type": "code",
   "execution_count": 11,
   "id": "b5564f87",
   "metadata": {
    "ExecuteTime": {
     "end_time": "2023-05-05T18:20:54.523912Z",
     "start_time": "2023-05-05T18:20:54.514660Z"
    }
   },
   "outputs": [
    {
     "data": {
      "text/plain": [
       "id                       int64\n",
       "gender                  object\n",
       "age                      int64\n",
       "region_code              int64\n",
       "policy_sales_channel     int64\n",
       "driving_license          int64\n",
       "vehicle_age             object\n",
       "vehicle_damage          object\n",
       "previously_insured       int64\n",
       "annual_premium           int64\n",
       "vintage                  int64\n",
       "response                 int64\n",
       "dtype: object"
      ]
     },
     "execution_count": 11,
     "metadata": {},
     "output_type": "execute_result"
    }
   ],
   "source": [
    "df_upsampled.dtypes"
   ]
  },
  {
   "cell_type": "code",
   "execution_count": 12,
   "id": "9519e4ed",
   "metadata": {
    "ExecuteTime": {
     "end_time": "2023-05-05T18:21:44.117942Z",
     "start_time": "2023-05-05T18:21:43.950271Z"
    }
   },
   "outputs": [],
   "source": [
    "df_upsampled['id'] = df_upsampled['id'].astype('category')\n",
    "df_upsampled['gender'] = df_upsampled['gender'].astype('category')\n",
    "df_upsampled['region_code'] = df_upsampled['region_code'].astype('category')\n",
    "df_upsampled['policy_sales_channel'] = df_upsampled['policy_sales_channel'].astype('category')\n",
    "df_upsampled['vehicle_age'] = df_upsampled['vehicle_age'].astype('category')\n",
    "df_upsampled['vehicle_damage'] = df_upsampled['vehicle_damage'].astype('category')\n",
    "df_upsampled['driving_license'] = df_upsampled['driving_license'].astype('category')\n",
    "df_upsampled['previously_insured'] = df_upsampled['previously_insured'].astype('category')\n",
    "df_upsampled['age'] = df_upsampled['age'].astype('float')\n",
    "df_upsampled['vintage'] = df_upsampled['vintage'].astype('float')\n",
    "df_upsampled['annual_premium'] = df_upsampled['annual_premium'].astype('float')\n",
    "df_upsampled['response'] = df_upsampled['response'].astype('category')"
   ]
  },
  {
   "cell_type": "code",
   "execution_count": 14,
   "id": "823b1670",
   "metadata": {
    "ExecuteTime": {
     "end_time": "2023-05-05T18:23:33.405816Z",
     "start_time": "2023-05-05T18:23:33.390316Z"
    }
   },
   "outputs": [],
   "source": [
    "x_training = df_upsampled.drop('response', axis = 1)\n",
    "y_training = df_upsampled['response'].copy()"
   ]
  },
  {
   "cell_type": "code",
   "execution_count": null,
   "id": "5a43aa81",
   "metadata": {
    "ExecuteTime": {
     "start_time": "2023-05-04T21:22:45.942Z"
    }
   },
   "outputs": [],
   "source": [
    "#Remove Outlier using Z-Score Method\n",
    "import scipy.stats as stats\n",
    "import numpy       as np\n",
    "z = np.abs(stats.zscore(df_upsampled))\n",
    "data_clean = df_upsampled[(z<3).all(axis = 1)] \n",
    "data_clean.shape"
   ]
  },
  {
   "cell_type": "markdown",
   "id": "c71cfb62",
   "metadata": {},
   "source": [
    "### 1.2 - DATA DESCRIPTION"
   ]
  },
  {
   "cell_type": "code",
   "execution_count": null,
   "id": "5d193971",
   "metadata": {
    "ExecuteTime": {
     "end_time": "2023-05-04T20:11:56.237280Z",
     "start_time": "2023-05-04T20:11:56.223251Z"
    }
   },
   "outputs": [],
   "source": [
    "#df1 = pd.concat([x_train,y_train], axis=1)"
   ]
  },
  {
   "cell_type": "code",
   "execution_count": null,
   "id": "6c6ce7d6",
   "metadata": {
    "ExecuteTime": {
     "end_time": "2023-05-04T20:11:56.253320Z",
     "start_time": "2023-05-04T20:11:56.239281Z"
    }
   },
   "outputs": [],
   "source": [
    "#prof = ProfileReport(df1)\n",
    "#prof.to_file(output_file='eda_x_training.html')"
   ]
  },
  {
   "cell_type": "code",
   "execution_count": null,
   "id": "c536f3d3",
   "metadata": {
    "ExecuteTime": {
     "end_time": "2023-05-04T20:11:56.268915Z",
     "start_time": "2023-05-04T20:11:56.255321Z"
    }
   },
   "outputs": [],
   "source": [
    "#HTML(filename='eda_x_training.html')"
   ]
  },
  {
   "cell_type": "markdown",
   "id": "8a2a7dd3",
   "metadata": {},
   "source": [
    "## 2 - FEATURE ENGINEERING"
   ]
  },
  {
   "cell_type": "code",
   "execution_count": null,
   "id": "c16f684f",
   "metadata": {
    "ExecuteTime": {
     "end_time": "2023-05-04T20:48:01.212948Z",
     "start_time": "2023-05-04T20:48:01.194174Z"
    }
   },
   "outputs": [],
   "source": [
    "df2 = x_train.copy()"
   ]
  },
  {
   "cell_type": "code",
   "execution_count": null,
   "id": "d0572822",
   "metadata": {
    "ExecuteTime": {
     "end_time": "2023-05-04T20:48:01.761226Z",
     "start_time": "2023-05-04T20:48:01.526097Z"
    }
   },
   "outputs": [],
   "source": [
    "df2['id'] = df2['id'].astype('category')\n",
    "df2['gender'] = df2['gender'].astype('category')\n",
    "df2['region_code'] = df2['region_code'].astype('category')\n",
    "df2['policy_sales_channel'] = df2['policy_sales_channel'].astype('category')\n",
    "df2['vehicle_age'] = df2['vehicle_age'].astype('category')\n",
    "df2['vehicle_damage'] = df2['vehicle_damage'].astype('category')\n",
    "df2['driving_license'] = df2['driving_license'].astype('category')\n",
    "df2['previously_insured'] = df2['previously_insured'].astype('category')"
   ]
  },
  {
   "cell_type": "code",
   "execution_count": 16,
   "id": "0ed5c07c",
   "metadata": {
    "ExecuteTime": {
     "end_time": "2023-05-05T18:24:35.279761Z",
     "start_time": "2023-05-05T18:24:35.228604Z"
    }
   },
   "outputs": [],
   "source": [
    "x_valid['id'] = x_valid['id'].astype('category')\n",
    "x_valid['gender'] = x_valid['gender'].astype('category')\n",
    "x_valid['region_code'] = x_valid['region_code'].astype('category')\n",
    "x_valid['policy_sales_channel'] = x_valid['policy_sales_channel'].astype('category')\n",
    "x_valid['vehicle_age'] = x_valid['vehicle_age'].astype('category')\n",
    "x_valid['vehicle_damage'] = x_valid['vehicle_damage'].astype('category')\n",
    "x_valid['driving_license'] = x_valid['driving_license'].astype('category')\n",
    "x_valid['previously_insured'] = x_valid['previously_insured'].astype('category')"
   ]
  },
  {
   "cell_type": "code",
   "execution_count": 17,
   "id": "a7228449",
   "metadata": {
    "ExecuteTime": {
     "end_time": "2023-05-05T18:24:47.030549Z",
     "start_time": "2023-05-05T18:24:47.006437Z"
    }
   },
   "outputs": [],
   "source": [
    "x_validation = x_valid\n",
    "y_validation = y_valid"
   ]
  },
  {
   "cell_type": "markdown",
   "id": "d4c0ce6e",
   "metadata": {},
   "source": [
    "## 7 - ML MODELS TRAINING"
   ]
  },
  {
   "cell_type": "code",
   "execution_count": null,
   "id": "a6be452a",
   "metadata": {
    "ExecuteTime": {
     "end_time": "2023-05-04T20:48:06.112471Z",
     "start_time": "2023-05-04T20:48:06.068682Z"
    }
   },
   "outputs": [],
   "source": [
    "# Parameter \"scale_pos_weight\" definition\n",
    "\n",
    "from collections import Counter\n",
    "\n",
    "# ESTIMATE SCALE_POS_WEIGHT\n",
    "counter = Counter(y_train)\n",
    "estimate = counter[0]/counter[1]\n",
    "print('Estimate: %.3f' % estimate)"
   ]
  },
  {
   "cell_type": "markdown",
   "id": "273e03ee",
   "metadata": {},
   "source": [
    "#### 7.1.1 - LGBM Baseline Model"
   ]
  },
  {
   "cell_type": "code",
   "execution_count": 21,
   "id": "f5335dba",
   "metadata": {
    "ExecuteTime": {
     "end_time": "2023-05-05T18:25:50.367826Z",
     "start_time": "2023-05-05T18:25:50.359427Z"
    }
   },
   "outputs": [
    {
     "data": {
      "text/plain": [
       "(428182,)"
      ]
     },
     "execution_count": 21,
     "metadata": {},
     "output_type": "execute_result"
    }
   ],
   "source": [
    "y_training.shape"
   ]
  },
  {
   "cell_type": "code",
   "execution_count": 18,
   "id": "1024fd6d",
   "metadata": {
    "ExecuteTime": {
     "end_time": "2023-05-05T18:24:56.976017Z",
     "start_time": "2023-05-05T18:24:50.300133Z"
    }
   },
   "outputs": [],
   "source": [
    "# Model Definition\n",
    "lgbm_base_model = lgbm.LGBMClassifier()\n",
    "\n",
    "# Model training\n",
    "lgbm_baseline = lgbm_base_model.fit( x_training, y_training )\n",
    "\n",
    "# Model Prediction\n",
    "yhat_lgbm_baseline = lgbm_baseline.predict_proba( x_validation )"
   ]
  },
  {
   "cell_type": "code",
   "execution_count": 19,
   "id": "f7a122fb",
   "metadata": {
    "ExecuteTime": {
     "end_time": "2023-05-05T18:25:00.642764Z",
     "start_time": "2023-05-05T18:25:00.082327Z"
    }
   },
   "outputs": [
    {
     "data": {
      "image/png": "[encoded data removed]",
      "text/plain": [
       "<Figure size 1800x500 with 3 Axes>"
      ]
     },
     "metadata": {},
     "output_type": "display_data"
    }
   ],
   "source": [
    "fig, axs = plt.subplots(ncols= 3, figsize = (18,5))\n",
    "\n",
    "# cumulative gain - Metric for sorting problem\n",
    "skplt.metrics.plot_cumulative_gain(y_validation, yhat_lgbm_baseline, ax=axs[0],title='Cumulative Gain - LGBM');\n",
    "\n",
    "# Lift Curve\n",
    "skplt.metrics.plot_lift_curve(y_validation, yhat_lgbm_baseline,ax=axs[1],title='Lift Curve - LGBM');\n",
    "\n",
    "# Roc Curve\n",
    "skplt.metrics.plot_roc(y_validation, yhat_lgbm_baseline, ax=axs[2], title='ROC-Curve - LGBM');\n",
    "\n",
    "plt.tight_layout()"
   ]
  },
  {
   "cell_type": "code",
   "execution_count": 20,
   "id": "c9b7ce56",
   "metadata": {
    "ExecuteTime": {
     "end_time": "2023-05-05T18:25:01.026729Z",
     "start_time": "2023-05-05T18:25:00.975587Z"
    }
   },
   "outputs": [
    {
     "data": {
      "text/html": [
       "<div>\n",
       "<style scoped>\n",
       "    .dataframe tbody tr th:only-of-type {\n",
       "        vertical-align: middle;\n",
       "    }\n",
       "\n",
       "    .dataframe tbody tr th {\n",
       "        vertical-align: top;\n",
       "    }\n",
       "\n",
       "    .dataframe thead th {\n",
       "        text-align: right;\n",
       "    }\n",
       "</style>\n",
       "<table border=\"1\" class=\"dataframe\">\n",
       "  <thead>\n",
       "    <tr style=\"text-align: right;\">\n",
       "      <th></th>\n",
       "      <th>Model Name</th>\n",
       "      <th>Precision_at_K</th>\n",
       "      <th>Recall_at_K</th>\n",
       "    </tr>\n",
       "  </thead>\n",
       "  <tbody>\n",
       "    <tr>\n",
       "      <th>0</th>\n",
       "      <td>LGBM Baseline Model</td>\n",
       "      <td>0.330983</td>\n",
       "      <td>0.712134</td>\n",
       "    </tr>\n",
       "  </tbody>\n",
       "</table>\n",
       "</div>"
      ],
      "text/plain": [
       "            Model Name  Precision_at_K  Recall_at_K\n",
       "0  LGBM Baseline Model        0.330983     0.712134"
      ]
     },
     "execution_count": 20,
     "metadata": {},
     "output_type": "execute_result"
    }
   ],
   "source": [
    "# Copy Data\n",
    "perf_valid = x_validation.copy()\n",
    "perf_valid['response'] = y_validation.copy()\n",
    "\n",
    "# Propensity score\n",
    "perf_valid['score'] = yhat_lgbm_baseline[:,1].tolist()\n",
    "\n",
    "# sorted clients by score\n",
    "perf_valid = perf_valid.sort_values( 'score', ascending=False )\n",
    "\n",
    "# Compute precision at K\n",
    "precision_atK = precision_at_k(perf_valid, k=20000 )\n",
    "\n",
    "# Compute precision at K\n",
    "recall_atK = recall_at_k(perf_valid, k=20000 )\n",
    "\n",
    "lgbm_baseline_performance = ml_performance('LGBM Baseline Model', precision_atK, recall_atK )\n",
    "lgbm_baseline_performance"
   ]
  },
  {
   "cell_type": "markdown",
   "id": "8e502283",
   "metadata": {},
   "source": [
    "#### 7.1.2 - CatBoost Baseline Model"
   ]
  },
  {
   "cell_type": "code",
   "execution_count": 22,
   "id": "5ebecece",
   "metadata": {
    "ExecuteTime": {
     "end_time": "2023-05-05T18:27:30.339806Z",
     "start_time": "2023-05-05T18:27:30.324119Z"
    }
   },
   "outputs": [],
   "source": [
    "cat_features=['id',\n",
    "              'gender',\n",
    "              'region_code',\n",
    "              'policy_sales_channel',\n",
    "              'driving_license',\n",
    "              'vehicle_age',\n",
    "              'vehicle_damage',\n",
    "              'previously_insured'   \n",
    "]"
   ]
  },
  {
   "cell_type": "code",
   "execution_count": 25,
   "id": "bc4e9b0f",
   "metadata": {
    "ExecuteTime": {
     "end_time": "2023-05-05T18:28:23.616292Z",
     "start_time": "2023-05-05T18:27:49.767754Z"
    }
   },
   "outputs": [
    {
     "name": "stderr",
     "output_type": "stream",
     "text": [
      "C:\\Users\\perot\\anaconda3\\envs\\health_insurance_venv\\lib\\site-packages\\catboost\\core.py:1411: FutureWarning: iteritems is deprecated and will be removed in a future version. Use .items instead.\n",
      "  self._init_pool(data, label, cat_features, text_features, embedding_features, embedding_features_data, pairs, weight,\n"
     ]
    },
    {
     "name": "stdout",
     "output_type": "stream",
     "text": [
      "Learning rate set to 0.024157\n",
      "0:\tlearn: 0.5950284\ttotal: 29.2ms\tremaining: 29.2s\n",
      "1:\tlearn: 0.5114839\ttotal: 59.6ms\tremaining: 29.8s\n",
      "2:\tlearn: 0.4322978\ttotal: 78ms\tremaining: 25.9s\n",
      "3:\tlearn: 0.3698002\ttotal: 105ms\tremaining: 26.1s\n",
      "4:\tlearn: 0.3133390\ttotal: 131ms\tremaining: 26.1s\n",
      "5:\tlearn: 0.2666596\ttotal: 157ms\tremaining: 26s\n",
      "6:\tlearn: 0.2255850\ttotal: 185ms\tremaining: 26.3s\n",
      "7:\tlearn: 0.1910669\ttotal: 214ms\tremaining: 26.5s\n",
      "8:\tlearn: 0.1625685\ttotal: 242ms\tremaining: 26.6s\n",
      "9:\tlearn: 0.1383142\ttotal: 269ms\tremaining: 26.7s\n",
      "10:\tlearn: 0.1183079\ttotal: 295ms\tremaining: 26.5s\n",
      "11:\tlearn: 0.1015846\ttotal: 322ms\tremaining: 26.5s\n",
      "12:\tlearn: 0.0878746\ttotal: 351ms\tremaining: 26.6s\n",
      "13:\tlearn: 0.0763246\ttotal: 376ms\tremaining: 26.4s\n",
      "14:\tlearn: 0.0662565\ttotal: 403ms\tremaining: 26.5s\n",
      "15:\tlearn: 0.0578939\ttotal: 428ms\tremaining: 26.3s\n",
      "16:\tlearn: 0.0506840\ttotal: 453ms\tremaining: 26.2s\n",
      "17:\tlearn: 0.0446106\ttotal: 482ms\tremaining: 26.3s\n",
      "18:\tlearn: 0.0394741\ttotal: 508ms\tremaining: 26.2s\n",
      "19:\tlearn: 0.0350751\ttotal: 534ms\tremaining: 26.2s\n",
      "20:\tlearn: 0.0312583\ttotal: 559ms\tremaining: 26.1s\n",
      "21:\tlearn: 0.0279455\ttotal: 595ms\tremaining: 26.4s\n",
      "22:\tlearn: 0.0251510\ttotal: 619ms\tremaining: 26.3s\n",
      "23:\tlearn: 0.0227163\ttotal: 647ms\tremaining: 26.3s\n",
      "24:\tlearn: 0.0205974\ttotal: 680ms\tremaining: 26.5s\n",
      "25:\tlearn: 0.0187262\ttotal: 707ms\tremaining: 26.5s\n",
      "26:\tlearn: 0.0171109\ttotal: 732ms\tremaining: 26.4s\n",
      "27:\tlearn: 0.0156757\ttotal: 759ms\tremaining: 26.3s\n",
      "28:\tlearn: 0.0144334\ttotal: 785ms\tremaining: 26.3s\n",
      "29:\tlearn: 0.0133114\ttotal: 811ms\tremaining: 26.2s\n",
      "30:\tlearn: 0.0123183\ttotal: 836ms\tremaining: 26.1s\n",
      "31:\tlearn: 0.0114544\ttotal: 863ms\tremaining: 26.1s\n",
      "32:\tlearn: 0.0106580\ttotal: 890ms\tremaining: 26.1s\n",
      "33:\tlearn: 0.0099807\ttotal: 922ms\tremaining: 26.2s\n",
      "34:\tlearn: 0.0093645\ttotal: 948ms\tremaining: 26.1s\n",
      "35:\tlearn: 0.0088088\ttotal: 974ms\tremaining: 26.1s\n",
      "36:\tlearn: 0.0083159\ttotal: 1.01s\tremaining: 26.4s\n",
      "37:\tlearn: 0.0078736\ttotal: 1.04s\tremaining: 26.3s\n",
      "38:\tlearn: 0.0074590\ttotal: 1.06s\tremaining: 26.2s\n",
      "39:\tlearn: 0.0070984\ttotal: 1.09s\tremaining: 26.3s\n",
      "40:\tlearn: 0.0067728\ttotal: 1.13s\tremaining: 26.5s\n",
      "41:\tlearn: 0.0064727\ttotal: 1.16s\tremaining: 26.4s\n",
      "42:\tlearn: 0.0062064\ttotal: 1.19s\tremaining: 26.6s\n",
      "43:\tlearn: 0.0059536\ttotal: 1.22s\tremaining: 26.5s\n",
      "44:\tlearn: 0.0057218\ttotal: 1.25s\tremaining: 26.5s\n",
      "45:\tlearn: 0.0055145\ttotal: 1.29s\tremaining: 26.7s\n",
      "46:\tlearn: 0.0053267\ttotal: 1.31s\tremaining: 26.7s\n",
      "47:\tlearn: 0.0051558\ttotal: 1.34s\tremaining: 26.6s\n",
      "48:\tlearn: 0.0050055\ttotal: 1.37s\tremaining: 26.5s\n",
      "49:\tlearn: 0.0048611\ttotal: 1.39s\tremaining: 26.4s\n",
      "50:\tlearn: 0.0047308\ttotal: 1.42s\tremaining: 26.4s\n",
      "51:\tlearn: 0.0046075\ttotal: 1.44s\tremaining: 26.3s\n",
      "52:\tlearn: 0.0044954\ttotal: 1.47s\tremaining: 26.2s\n",
      "53:\tlearn: 0.0043914\ttotal: 1.49s\tremaining: 26.1s\n",
      "54:\tlearn: 0.0042938\ttotal: 1.52s\tremaining: 26.1s\n",
      "55:\tlearn: 0.0042029\ttotal: 1.55s\tremaining: 26.1s\n",
      "56:\tlearn: 0.0041159\ttotal: 1.57s\tremaining: 26s\n",
      "57:\tlearn: 0.0040849\ttotal: 1.59s\tremaining: 25.9s\n",
      "58:\tlearn: 0.0040541\ttotal: 1.62s\tremaining: 25.9s\n",
      "59:\tlearn: 0.0040268\ttotal: 1.65s\tremaining: 25.8s\n",
      "60:\tlearn: 0.0039540\ttotal: 1.67s\tremaining: 25.7s\n",
      "61:\tlearn: 0.0038834\ttotal: 1.7s\tremaining: 25.7s\n",
      "62:\tlearn: 0.0038189\ttotal: 1.72s\tremaining: 25.6s\n",
      "63:\tlearn: 0.0037952\ttotal: 1.75s\tremaining: 25.5s\n",
      "64:\tlearn: 0.0037399\ttotal: 1.77s\tremaining: 25.4s\n",
      "65:\tlearn: 0.0036904\ttotal: 1.79s\tremaining: 25.4s\n",
      "66:\tlearn: 0.0036427\ttotal: 1.82s\tremaining: 25.3s\n",
      "67:\tlearn: 0.0036218\ttotal: 1.84s\tremaining: 25.3s\n",
      "68:\tlearn: 0.0035797\ttotal: 1.87s\tremaining: 25.2s\n",
      "69:\tlearn: 0.0035614\ttotal: 1.89s\tremaining: 25.1s\n",
      "70:\tlearn: 0.0035192\ttotal: 1.92s\tremaining: 25.1s\n",
      "71:\tlearn: 0.0035016\ttotal: 1.95s\tremaining: 25.1s\n",
      "72:\tlearn: 0.0034854\ttotal: 1.98s\tremaining: 25.1s\n",
      "73:\tlearn: 0.0034694\ttotal: 2.01s\tremaining: 25.1s\n",
      "74:\tlearn: 0.0034547\ttotal: 2.04s\tremaining: 25.2s\n",
      "75:\tlearn: 0.0034418\ttotal: 2.07s\tremaining: 25.1s\n",
      "76:\tlearn: 0.0034286\ttotal: 2.09s\tremaining: 25.1s\n",
      "77:\tlearn: 0.0034170\ttotal: 2.12s\tremaining: 25.1s\n",
      "78:\tlearn: 0.0034048\ttotal: 2.15s\tremaining: 25s\n",
      "79:\tlearn: 0.0033933\ttotal: 2.17s\tremaining: 25s\n",
      "80:\tlearn: 0.0033836\ttotal: 2.19s\tremaining: 24.9s\n",
      "81:\tlearn: 0.0033743\ttotal: 2.22s\tremaining: 24.8s\n",
      "82:\tlearn: 0.0033658\ttotal: 2.24s\tremaining: 24.8s\n",
      "83:\tlearn: 0.0033572\ttotal: 2.27s\tremaining: 24.7s\n",
      "84:\tlearn: 0.0033479\ttotal: 2.29s\tremaining: 24.7s\n",
      "85:\tlearn: 0.0033405\ttotal: 2.31s\tremaining: 24.6s\n",
      "86:\tlearn: 0.0033321\ttotal: 2.34s\tremaining: 24.6s\n",
      "87:\tlearn: 0.0033247\ttotal: 2.37s\tremaining: 24.5s\n",
      "88:\tlearn: 0.0033185\ttotal: 2.39s\tremaining: 24.5s\n",
      "89:\tlearn: 0.0033120\ttotal: 2.42s\tremaining: 24.5s\n",
      "90:\tlearn: 0.0033064\ttotal: 2.44s\tremaining: 24.4s\n",
      "91:\tlearn: 0.0033002\ttotal: 2.47s\tremaining: 24.4s\n",
      "92:\tlearn: 0.0032938\ttotal: 2.5s\tremaining: 24.4s\n",
      "93:\tlearn: 0.0032889\ttotal: 2.52s\tremaining: 24.3s\n",
      "94:\tlearn: 0.0032840\ttotal: 2.55s\tremaining: 24.3s\n",
      "95:\tlearn: 0.0032794\ttotal: 2.57s\tremaining: 24.2s\n",
      "96:\tlearn: 0.0032744\ttotal: 2.59s\tremaining: 24.1s\n",
      "97:\tlearn: 0.0032704\ttotal: 2.61s\tremaining: 24s\n",
      "98:\tlearn: 0.0032653\ttotal: 2.64s\tremaining: 24s\n",
      "99:\tlearn: 0.0032610\ttotal: 2.66s\tremaining: 24s\n",
      "100:\tlearn: 0.0032565\ttotal: 2.69s\tremaining: 24s\n",
      "101:\tlearn: 0.0032514\ttotal: 2.72s\tremaining: 23.9s\n",
      "102:\tlearn: 0.0032482\ttotal: 2.75s\tremaining: 23.9s\n",
      "103:\tlearn: 0.0032447\ttotal: 2.77s\tremaining: 23.9s\n",
      "104:\tlearn: 0.0032417\ttotal: 2.8s\tremaining: 23.8s\n",
      "105:\tlearn: 0.0032377\ttotal: 2.83s\tremaining: 23.8s\n",
      "106:\tlearn: 0.0032346\ttotal: 2.89s\tremaining: 24.1s\n",
      "107:\tlearn: 0.0032322\ttotal: 2.91s\tremaining: 24s\n",
      "108:\tlearn: 0.0032298\ttotal: 2.94s\tremaining: 24s\n",
      "109:\tlearn: 0.0032271\ttotal: 2.96s\tremaining: 24s\n",
      "110:\tlearn: 0.0032247\ttotal: 2.99s\tremaining: 23.9s\n",
      "111:\tlearn: 0.0032227\ttotal: 3.01s\tremaining: 23.9s\n",
      "112:\tlearn: 0.0032202\ttotal: 3.04s\tremaining: 23.9s\n",
      "113:\tlearn: 0.0032172\ttotal: 3.06s\tremaining: 23.8s\n",
      "114:\tlearn: 0.0032154\ttotal: 3.09s\tremaining: 23.8s\n",
      "115:\tlearn: 0.0032136\ttotal: 3.11s\tremaining: 23.7s\n",
      "116:\tlearn: 0.0031883\ttotal: 3.14s\tremaining: 23.7s\n",
      "117:\tlearn: 0.0031866\ttotal: 3.16s\tremaining: 23.6s\n",
      "118:\tlearn: 0.0031844\ttotal: 3.18s\tremaining: 23.6s\n",
      "119:\tlearn: 0.0031828\ttotal: 3.21s\tremaining: 23.5s\n",
      "120:\tlearn: 0.0031814\ttotal: 3.23s\tremaining: 23.5s\n",
      "121:\tlearn: 0.0031799\ttotal: 3.26s\tremaining: 23.5s\n",
      "122:\tlearn: 0.0031784\ttotal: 3.28s\tremaining: 23.4s\n",
      "123:\tlearn: 0.0031768\ttotal: 3.31s\tremaining: 23.3s\n",
      "124:\tlearn: 0.0031756\ttotal: 3.33s\tremaining: 23.3s\n",
      "125:\tlearn: 0.0031544\ttotal: 3.35s\tremaining: 23.3s\n",
      "126:\tlearn: 0.0031532\ttotal: 3.38s\tremaining: 23.2s\n",
      "127:\tlearn: 0.0031513\ttotal: 3.4s\tremaining: 23.2s\n",
      "128:\tlearn: 0.0031502\ttotal: 3.42s\tremaining: 23.1s\n",
      "129:\tlearn: 0.0031492\ttotal: 3.45s\tremaining: 23.1s\n",
      "130:\tlearn: 0.0031479\ttotal: 3.48s\tremaining: 23.1s\n",
      "131:\tlearn: 0.0031470\ttotal: 3.5s\tremaining: 23s\n",
      "132:\tlearn: 0.0031456\ttotal: 3.52s\tremaining: 23s\n",
      "133:\tlearn: 0.0031446\ttotal: 3.55s\tremaining: 22.9s\n",
      "134:\tlearn: 0.0031437\ttotal: 3.57s\tremaining: 22.9s\n",
      "135:\tlearn: 0.0031428\ttotal: 3.59s\tremaining: 22.8s\n",
      "136:\tlearn: 0.0031416\ttotal: 3.62s\tremaining: 22.8s\n",
      "137:\tlearn: 0.0031408\ttotal: 3.65s\tremaining: 22.8s\n",
      "138:\tlearn: 0.0031401\ttotal: 3.67s\tremaining: 22.7s\n",
      "139:\tlearn: 0.0031390\ttotal: 3.7s\tremaining: 22.7s\n",
      "140:\tlearn: 0.0031381\ttotal: 3.73s\tremaining: 22.7s\n",
      "141:\tlearn: 0.0031176\ttotal: 3.75s\tremaining: 22.7s\n",
      "142:\tlearn: 0.0031165\ttotal: 3.78s\tremaining: 22.6s\n",
      "143:\tlearn: 0.0030989\ttotal: 3.81s\tremaining: 22.6s\n",
      "144:\tlearn: 0.0030976\ttotal: 3.84s\tremaining: 22.6s\n",
      "145:\tlearn: 0.0030968\ttotal: 3.87s\tremaining: 22.6s\n",
      "146:\tlearn: 0.0030805\ttotal: 3.89s\tremaining: 22.6s\n",
      "147:\tlearn: 0.0030659\ttotal: 3.93s\tremaining: 22.6s\n",
      "148:\tlearn: 0.0030649\ttotal: 3.96s\tremaining: 22.6s\n",
      "149:\tlearn: 0.0030641\ttotal: 3.99s\tremaining: 22.6s\n",
      "150:\tlearn: 0.0030627\ttotal: 4.02s\tremaining: 22.6s\n",
      "151:\tlearn: 0.0030621\ttotal: 4.05s\tremaining: 22.6s\n",
      "152:\tlearn: 0.0030616\ttotal: 4.06s\tremaining: 22.5s\n",
      "153:\tlearn: 0.0030606\ttotal: 4.09s\tremaining: 22.5s\n",
      "154:\tlearn: 0.0030599\ttotal: 4.12s\tremaining: 22.5s\n",
      "155:\tlearn: 0.0030586\ttotal: 4.15s\tremaining: 22.5s\n",
      "156:\tlearn: 0.0030444\ttotal: 4.17s\tremaining: 22.4s\n",
      "157:\tlearn: 0.0030439\ttotal: 4.2s\tremaining: 22.4s\n",
      "158:\tlearn: 0.0030432\ttotal: 4.22s\tremaining: 22.3s\n",
      "159:\tlearn: 0.0030426\ttotal: 4.25s\tremaining: 22.3s\n",
      "160:\tlearn: 0.0030415\ttotal: 4.28s\tremaining: 22.3s\n",
      "161:\tlearn: 0.0030403\ttotal: 4.31s\tremaining: 22.3s\n",
      "162:\tlearn: 0.0030396\ttotal: 4.33s\tremaining: 22.3s\n"
     ]
    },
    {
     "name": "stdout",
     "output_type": "stream",
     "text": [
      "163:\tlearn: 0.0030380\ttotal: 4.36s\tremaining: 22.2s\n",
      "164:\tlearn: 0.0030375\ttotal: 4.39s\tremaining: 22.2s\n",
      "165:\tlearn: 0.0030370\ttotal: 4.43s\tremaining: 22.2s\n",
      "166:\tlearn: 0.0030366\ttotal: 4.46s\tremaining: 22.2s\n",
      "167:\tlearn: 0.0030361\ttotal: 4.49s\tremaining: 22.2s\n",
      "168:\tlearn: 0.0030356\ttotal: 4.52s\tremaining: 22.2s\n",
      "169:\tlearn: 0.0030343\ttotal: 4.55s\tremaining: 22.2s\n",
      "170:\tlearn: 0.0030332\ttotal: 4.58s\tremaining: 22.2s\n",
      "171:\tlearn: 0.0030214\ttotal: 4.61s\tremaining: 22.2s\n",
      "172:\tlearn: 0.0030208\ttotal: 4.63s\tremaining: 22.2s\n",
      "173:\tlearn: 0.0030195\ttotal: 4.66s\tremaining: 22.1s\n",
      "174:\tlearn: 0.0030190\ttotal: 4.69s\tremaining: 22.1s\n",
      "175:\tlearn: 0.0030186\ttotal: 4.72s\tremaining: 22.1s\n",
      "176:\tlearn: 0.0030182\ttotal: 4.74s\tremaining: 22.1s\n",
      "177:\tlearn: 0.0030170\ttotal: 4.78s\tremaining: 22.1s\n",
      "178:\tlearn: 0.0030053\ttotal: 4.8s\tremaining: 22s\n",
      "179:\tlearn: 0.0030049\ttotal: 4.83s\tremaining: 22s\n",
      "180:\tlearn: 0.0030043\ttotal: 4.86s\tremaining: 22s\n",
      "181:\tlearn: 0.0030040\ttotal: 4.89s\tremaining: 22s\n",
      "182:\tlearn: 0.0030035\ttotal: 4.93s\tremaining: 22s\n",
      "183:\tlearn: 0.0030034\ttotal: 4.97s\tremaining: 22s\n",
      "184:\tlearn: 0.0029935\ttotal: 5s\tremaining: 22s\n",
      "185:\tlearn: 0.0029933\ttotal: 5.04s\tremaining: 22.1s\n",
      "186:\tlearn: 0.0029926\ttotal: 5.08s\tremaining: 22.1s\n",
      "187:\tlearn: 0.0029918\ttotal: 5.12s\tremaining: 22.1s\n",
      "188:\tlearn: 0.0029912\ttotal: 5.15s\tremaining: 22.1s\n",
      "189:\tlearn: 0.0029828\ttotal: 5.18s\tremaining: 22.1s\n",
      "190:\tlearn: 0.0029816\ttotal: 5.23s\tremaining: 22.2s\n",
      "191:\tlearn: 0.0029814\ttotal: 5.26s\tremaining: 22.1s\n",
      "192:\tlearn: 0.0029810\ttotal: 5.28s\tremaining: 22.1s\n",
      "193:\tlearn: 0.0029808\ttotal: 5.31s\tremaining: 22s\n",
      "194:\tlearn: 0.0029802\ttotal: 5.34s\tremaining: 22s\n",
      "195:\tlearn: 0.0029795\ttotal: 5.37s\tremaining: 22s\n",
      "196:\tlearn: 0.0029783\ttotal: 5.39s\tremaining: 22s\n",
      "197:\tlearn: 0.0029719\ttotal: 5.42s\tremaining: 21.9s\n",
      "198:\tlearn: 0.0029713\ttotal: 5.44s\tremaining: 21.9s\n",
      "199:\tlearn: 0.0029704\ttotal: 5.46s\tremaining: 21.9s\n",
      "200:\tlearn: 0.0029696\ttotal: 5.5s\tremaining: 21.8s\n",
      "201:\tlearn: 0.0029693\ttotal: 5.53s\tremaining: 21.8s\n",
      "202:\tlearn: 0.0029689\ttotal: 5.55s\tremaining: 21.8s\n",
      "203:\tlearn: 0.0029683\ttotal: 5.58s\tremaining: 21.8s\n",
      "204:\tlearn: 0.0029678\ttotal: 5.61s\tremaining: 21.7s\n",
      "205:\tlearn: 0.0029672\ttotal: 5.63s\tremaining: 21.7s\n",
      "206:\tlearn: 0.0029670\ttotal: 5.65s\tremaining: 21.7s\n",
      "207:\tlearn: 0.0029666\ttotal: 5.68s\tremaining: 21.6s\n",
      "208:\tlearn: 0.0029663\ttotal: 5.71s\tremaining: 21.6s\n",
      "209:\tlearn: 0.0029654\ttotal: 5.74s\tremaining: 21.6s\n",
      "210:\tlearn: 0.0029647\ttotal: 5.77s\tremaining: 21.6s\n",
      "211:\tlearn: 0.0029644\ttotal: 5.79s\tremaining: 21.5s\n",
      "212:\tlearn: 0.0029636\ttotal: 5.82s\tremaining: 21.5s\n",
      "213:\tlearn: 0.0029633\ttotal: 5.84s\tremaining: 21.4s\n",
      "214:\tlearn: 0.0029630\ttotal: 5.86s\tremaining: 21.4s\n",
      "215:\tlearn: 0.0029626\ttotal: 5.89s\tremaining: 21.4s\n",
      "216:\tlearn: 0.0029618\ttotal: 5.92s\tremaining: 21.4s\n",
      "217:\tlearn: 0.0029544\ttotal: 5.95s\tremaining: 21.3s\n",
      "218:\tlearn: 0.0029539\ttotal: 5.97s\tremaining: 21.3s\n",
      "219:\tlearn: 0.0029531\ttotal: 5.99s\tremaining: 21.2s\n",
      "220:\tlearn: 0.0029530\ttotal: 6.01s\tremaining: 21.2s\n",
      "221:\tlearn: 0.0029528\ttotal: 6.04s\tremaining: 21.2s\n",
      "222:\tlearn: 0.0029524\ttotal: 6.06s\tremaining: 21.1s\n",
      "223:\tlearn: 0.0029522\ttotal: 6.09s\tremaining: 21.1s\n",
      "224:\tlearn: 0.0029521\ttotal: 6.1s\tremaining: 21s\n",
      "225:\tlearn: 0.0029517\ttotal: 6.13s\tremaining: 21s\n",
      "226:\tlearn: 0.0029514\ttotal: 6.16s\tremaining: 21s\n",
      "227:\tlearn: 0.0029512\ttotal: 6.18s\tremaining: 20.9s\n",
      "228:\tlearn: 0.0029442\ttotal: 6.2s\tremaining: 20.9s\n",
      "229:\tlearn: 0.0029440\ttotal: 6.22s\tremaining: 20.8s\n",
      "230:\tlearn: 0.0029430\ttotal: 6.25s\tremaining: 20.8s\n",
      "231:\tlearn: 0.0029428\ttotal: 6.28s\tremaining: 20.8s\n",
      "232:\tlearn: 0.0029424\ttotal: 6.3s\tremaining: 20.8s\n",
      "233:\tlearn: 0.0029421\ttotal: 6.33s\tremaining: 20.7s\n",
      "234:\tlearn: 0.0029417\ttotal: 6.36s\tremaining: 20.7s\n",
      "235:\tlearn: 0.0029414\ttotal: 6.38s\tremaining: 20.7s\n",
      "236:\tlearn: 0.0029412\ttotal: 6.41s\tremaining: 20.6s\n",
      "237:\tlearn: 0.0029402\ttotal: 6.44s\tremaining: 20.6s\n",
      "238:\tlearn: 0.0029395\ttotal: 6.47s\tremaining: 20.6s\n",
      "239:\tlearn: 0.0029393\ttotal: 6.5s\tremaining: 20.6s\n",
      "240:\tlearn: 0.0029386\ttotal: 6.53s\tremaining: 20.6s\n",
      "241:\tlearn: 0.0029372\ttotal: 6.55s\tremaining: 20.5s\n",
      "242:\tlearn: 0.0029368\ttotal: 6.58s\tremaining: 20.5s\n",
      "243:\tlearn: 0.0029358\ttotal: 6.6s\tremaining: 20.5s\n",
      "244:\tlearn: 0.0029345\ttotal: 6.63s\tremaining: 20.4s\n",
      "245:\tlearn: 0.0029342\ttotal: 6.65s\tremaining: 20.4s\n",
      "246:\tlearn: 0.0029340\ttotal: 6.67s\tremaining: 20.3s\n",
      "247:\tlearn: 0.0029329\ttotal: 6.7s\tremaining: 20.3s\n",
      "248:\tlearn: 0.0029322\ttotal: 6.73s\tremaining: 20.3s\n",
      "249:\tlearn: 0.0029313\ttotal: 6.76s\tremaining: 20.3s\n",
      "250:\tlearn: 0.0029311\ttotal: 6.78s\tremaining: 20.2s\n",
      "251:\tlearn: 0.0029306\ttotal: 6.81s\tremaining: 20.2s\n",
      "252:\tlearn: 0.0029302\ttotal: 6.84s\tremaining: 20.2s\n",
      "253:\tlearn: 0.0029301\ttotal: 6.87s\tremaining: 20.2s\n",
      "254:\tlearn: 0.0029299\ttotal: 6.89s\tremaining: 20.1s\n",
      "255:\tlearn: 0.0029230\ttotal: 6.92s\tremaining: 20.1s\n",
      "256:\tlearn: 0.0029218\ttotal: 6.94s\tremaining: 20.1s\n",
      "257:\tlearn: 0.0029215\ttotal: 6.97s\tremaining: 20.1s\n",
      "258:\tlearn: 0.0029210\ttotal: 7s\tremaining: 20s\n",
      "259:\tlearn: 0.0029155\ttotal: 7.04s\tremaining: 20s\n",
      "260:\tlearn: 0.0029141\ttotal: 7.06s\tremaining: 20s\n",
      "261:\tlearn: 0.0029138\ttotal: 7.09s\tremaining: 20s\n",
      "262:\tlearn: 0.0029135\ttotal: 7.11s\tremaining: 19.9s\n",
      "263:\tlearn: 0.0029127\ttotal: 7.14s\tremaining: 19.9s\n",
      "264:\tlearn: 0.0029125\ttotal: 7.16s\tremaining: 19.9s\n",
      "265:\tlearn: 0.0029125\ttotal: 7.18s\tremaining: 19.8s\n",
      "266:\tlearn: 0.0029122\ttotal: 7.2s\tremaining: 19.8s\n",
      "267:\tlearn: 0.0029120\ttotal: 7.22s\tremaining: 19.7s\n",
      "268:\tlearn: 0.0029117\ttotal: 7.25s\tremaining: 19.7s\n",
      "269:\tlearn: 0.0029109\ttotal: 7.27s\tremaining: 19.7s\n",
      "270:\tlearn: 0.0029103\ttotal: 7.31s\tremaining: 19.7s\n",
      "271:\tlearn: 0.0029102\ttotal: 7.33s\tremaining: 19.6s\n",
      "272:\tlearn: 0.0029095\ttotal: 7.36s\tremaining: 19.6s\n",
      "273:\tlearn: 0.0029092\ttotal: 7.39s\tremaining: 19.6s\n",
      "274:\tlearn: 0.0029090\ttotal: 7.42s\tremaining: 19.6s\n",
      "275:\tlearn: 0.0029089\ttotal: 7.44s\tremaining: 19.5s\n",
      "276:\tlearn: 0.0029086\ttotal: 7.46s\tremaining: 19.5s\n",
      "277:\tlearn: 0.0029082\ttotal: 7.5s\tremaining: 19.5s\n",
      "278:\tlearn: 0.0029079\ttotal: 7.51s\tremaining: 19.4s\n",
      "279:\tlearn: 0.0029073\ttotal: 7.54s\tremaining: 19.4s\n",
      "280:\tlearn: 0.0029072\ttotal: 7.57s\tremaining: 19.4s\n",
      "281:\tlearn: 0.0029070\ttotal: 7.59s\tremaining: 19.3s\n",
      "282:\tlearn: 0.0029069\ttotal: 7.63s\tremaining: 19.3s\n",
      "283:\tlearn: 0.0029067\ttotal: 7.65s\tremaining: 19.3s\n",
      "284:\tlearn: 0.0029066\ttotal: 7.67s\tremaining: 19.3s\n",
      "285:\tlearn: 0.0029060\ttotal: 7.7s\tremaining: 19.2s\n",
      "286:\tlearn: 0.0029045\ttotal: 7.73s\tremaining: 19.2s\n",
      "287:\tlearn: 0.0029040\ttotal: 7.76s\tremaining: 19.2s\n",
      "288:\tlearn: 0.0029037\ttotal: 7.78s\tremaining: 19.1s\n",
      "289:\tlearn: 0.0028979\ttotal: 7.8s\tremaining: 19.1s\n",
      "290:\tlearn: 0.0028971\ttotal: 7.83s\tremaining: 19.1s\n",
      "291:\tlearn: 0.0028969\ttotal: 7.86s\tremaining: 19.1s\n",
      "292:\tlearn: 0.0028964\ttotal: 7.89s\tremaining: 19s\n",
      "293:\tlearn: 0.0028956\ttotal: 7.92s\tremaining: 19s\n",
      "294:\tlearn: 0.0028949\ttotal: 7.95s\tremaining: 19s\n",
      "295:\tlearn: 0.0028945\ttotal: 7.98s\tremaining: 19s\n",
      "296:\tlearn: 0.0028943\ttotal: 8s\tremaining: 18.9s\n",
      "297:\tlearn: 0.0028941\ttotal: 8.04s\tremaining: 18.9s\n",
      "298:\tlearn: 0.0028938\ttotal: 8.07s\tremaining: 18.9s\n",
      "299:\tlearn: 0.0028931\ttotal: 8.09s\tremaining: 18.9s\n",
      "300:\tlearn: 0.0028926\ttotal: 8.12s\tremaining: 18.9s\n",
      "301:\tlearn: 0.0028919\ttotal: 8.14s\tremaining: 18.8s\n",
      "302:\tlearn: 0.0028908\ttotal: 8.17s\tremaining: 18.8s\n",
      "303:\tlearn: 0.0028906\ttotal: 8.2s\tremaining: 18.8s\n",
      "304:\tlearn: 0.0028904\ttotal: 8.22s\tremaining: 18.7s\n",
      "305:\tlearn: 0.0028900\ttotal: 8.25s\tremaining: 18.7s\n",
      "306:\tlearn: 0.0028888\ttotal: 8.28s\tremaining: 18.7s\n",
      "307:\tlearn: 0.0028883\ttotal: 8.3s\tremaining: 18.7s\n",
      "308:\tlearn: 0.0028878\ttotal: 8.33s\tremaining: 18.6s\n",
      "309:\tlearn: 0.0028871\ttotal: 8.36s\tremaining: 18.6s\n",
      "310:\tlearn: 0.0028859\ttotal: 8.39s\tremaining: 18.6s\n",
      "311:\tlearn: 0.0028853\ttotal: 8.41s\tremaining: 18.6s\n",
      "312:\tlearn: 0.0028852\ttotal: 8.44s\tremaining: 18.5s\n",
      "313:\tlearn: 0.0028847\ttotal: 8.47s\tremaining: 18.5s\n",
      "314:\tlearn: 0.0028844\ttotal: 8.49s\tremaining: 18.5s\n",
      "315:\tlearn: 0.0028840\ttotal: 8.52s\tremaining: 18.4s\n",
      "316:\tlearn: 0.0028839\ttotal: 8.54s\tremaining: 18.4s\n",
      "317:\tlearn: 0.0028833\ttotal: 8.57s\tremaining: 18.4s\n",
      "318:\tlearn: 0.0028832\ttotal: 8.6s\tremaining: 18.4s\n",
      "319:\tlearn: 0.0028830\ttotal: 8.63s\tremaining: 18.3s\n",
      "320:\tlearn: 0.0028825\ttotal: 8.65s\tremaining: 18.3s\n",
      "321:\tlearn: 0.0028787\ttotal: 8.69s\tremaining: 18.3s\n",
      "322:\tlearn: 0.0028773\ttotal: 8.71s\tremaining: 18.3s\n",
      "323:\tlearn: 0.0028770\ttotal: 8.74s\tremaining: 18.2s\n",
      "324:\tlearn: 0.0028769\ttotal: 8.77s\tremaining: 18.2s\n",
      "325:\tlearn: 0.0028729\ttotal: 8.8s\tremaining: 18.2s\n",
      "326:\tlearn: 0.0028726\ttotal: 8.83s\tremaining: 18.2s\n",
      "327:\tlearn: 0.0028725\ttotal: 8.85s\tremaining: 18.1s\n",
      "328:\tlearn: 0.0028720\ttotal: 8.87s\tremaining: 18.1s\n"
     ]
    },
    {
     "name": "stdout",
     "output_type": "stream",
     "text": [
      "329:\tlearn: 0.0028712\ttotal: 8.9s\tremaining: 18.1s\n",
      "330:\tlearn: 0.0028705\ttotal: 8.93s\tremaining: 18.1s\n",
      "331:\tlearn: 0.0028695\ttotal: 8.96s\tremaining: 18s\n",
      "332:\tlearn: 0.0028688\ttotal: 8.99s\tremaining: 18s\n",
      "333:\tlearn: 0.0028680\ttotal: 9.02s\tremaining: 18s\n",
      "334:\tlearn: 0.0028679\ttotal: 9.05s\tremaining: 18s\n",
      "335:\tlearn: 0.0028675\ttotal: 9.08s\tremaining: 17.9s\n",
      "336:\tlearn: 0.0028668\ttotal: 9.11s\tremaining: 17.9s\n",
      "337:\tlearn: 0.0028662\ttotal: 9.14s\tremaining: 17.9s\n",
      "338:\tlearn: 0.0028660\ttotal: 9.16s\tremaining: 17.9s\n",
      "339:\tlearn: 0.0028660\ttotal: 9.18s\tremaining: 17.8s\n",
      "340:\tlearn: 0.0028651\ttotal: 9.21s\tremaining: 17.8s\n",
      "341:\tlearn: 0.0028644\ttotal: 9.24s\tremaining: 17.8s\n",
      "342:\tlearn: 0.0028638\ttotal: 9.26s\tremaining: 17.7s\n",
      "343:\tlearn: 0.0028624\ttotal: 9.29s\tremaining: 17.7s\n",
      "344:\tlearn: 0.0028618\ttotal: 9.31s\tremaining: 17.7s\n",
      "345:\tlearn: 0.0028608\ttotal: 9.34s\tremaining: 17.7s\n",
      "346:\tlearn: 0.0028604\ttotal: 9.36s\tremaining: 17.6s\n",
      "347:\tlearn: 0.0028604\ttotal: 9.39s\tremaining: 17.6s\n",
      "348:\tlearn: 0.0028597\ttotal: 9.41s\tremaining: 17.6s\n",
      "349:\tlearn: 0.0028564\ttotal: 9.44s\tremaining: 17.5s\n",
      "350:\tlearn: 0.0028562\ttotal: 9.46s\tremaining: 17.5s\n",
      "351:\tlearn: 0.0028561\ttotal: 9.49s\tremaining: 17.5s\n",
      "352:\tlearn: 0.0028558\ttotal: 9.52s\tremaining: 17.4s\n",
      "353:\tlearn: 0.0028550\ttotal: 9.54s\tremaining: 17.4s\n",
      "354:\tlearn: 0.0028544\ttotal: 9.56s\tremaining: 17.4s\n",
      "355:\tlearn: 0.0028539\ttotal: 9.6s\tremaining: 17.4s\n",
      "356:\tlearn: 0.0028513\ttotal: 9.62s\tremaining: 17.3s\n",
      "357:\tlearn: 0.0028472\ttotal: 9.64s\tremaining: 17.3s\n",
      "358:\tlearn: 0.0028439\ttotal: 9.67s\tremaining: 17.3s\n",
      "359:\tlearn: 0.0028432\ttotal: 9.7s\tremaining: 17.2s\n",
      "360:\tlearn: 0.0028428\ttotal: 9.73s\tremaining: 17.2s\n",
      "361:\tlearn: 0.0028421\ttotal: 9.76s\tremaining: 17.2s\n",
      "362:\tlearn: 0.0028416\ttotal: 9.79s\tremaining: 17.2s\n",
      "363:\tlearn: 0.0028413\ttotal: 9.82s\tremaining: 17.2s\n",
      "364:\tlearn: 0.0028411\ttotal: 9.84s\tremaining: 17.1s\n",
      "365:\tlearn: 0.0028409\ttotal: 9.87s\tremaining: 17.1s\n",
      "366:\tlearn: 0.0028375\ttotal: 9.89s\tremaining: 17.1s\n",
      "367:\tlearn: 0.0028370\ttotal: 9.92s\tremaining: 17s\n",
      "368:\tlearn: 0.0028362\ttotal: 9.94s\tremaining: 17s\n",
      "369:\tlearn: 0.0028360\ttotal: 9.97s\tremaining: 17s\n",
      "370:\tlearn: 0.0028355\ttotal: 10s\tremaining: 16.9s\n",
      "371:\tlearn: 0.0028349\ttotal: 10s\tremaining: 16.9s\n",
      "372:\tlearn: 0.0028340\ttotal: 10.1s\tremaining: 16.9s\n",
      "373:\tlearn: 0.0028334\ttotal: 10.1s\tremaining: 16.9s\n",
      "374:\tlearn: 0.0028327\ttotal: 10.1s\tremaining: 16.9s\n",
      "375:\tlearn: 0.0028318\ttotal: 10.1s\tremaining: 16.8s\n",
      "376:\tlearn: 0.0028314\ttotal: 10.2s\tremaining: 16.8s\n",
      "377:\tlearn: 0.0028303\ttotal: 10.2s\tremaining: 16.8s\n",
      "378:\tlearn: 0.0028296\ttotal: 10.2s\tremaining: 16.7s\n",
      "379:\tlearn: 0.0028290\ttotal: 10.2s\tremaining: 16.7s\n",
      "380:\tlearn: 0.0028288\ttotal: 10.3s\tremaining: 16.7s\n",
      "381:\tlearn: 0.0028276\ttotal: 10.3s\tremaining: 16.7s\n",
      "382:\tlearn: 0.0028276\ttotal: 10.3s\tremaining: 16.6s\n",
      "383:\tlearn: 0.0028245\ttotal: 10.3s\tremaining: 16.6s\n",
      "384:\tlearn: 0.0028223\ttotal: 10.4s\tremaining: 16.6s\n",
      "385:\tlearn: 0.0028220\ttotal: 10.4s\tremaining: 16.5s\n",
      "386:\tlearn: 0.0028218\ttotal: 10.4s\tremaining: 16.5s\n",
      "387:\tlearn: 0.0028212\ttotal: 10.4s\tremaining: 16.5s\n",
      "388:\tlearn: 0.0028203\ttotal: 10.5s\tremaining: 16.4s\n",
      "389:\tlearn: 0.0028182\ttotal: 10.5s\tremaining: 16.4s\n",
      "390:\tlearn: 0.0028178\ttotal: 10.5s\tremaining: 16.4s\n",
      "391:\tlearn: 0.0028175\ttotal: 10.5s\tremaining: 16.4s\n",
      "392:\tlearn: 0.0028174\ttotal: 10.6s\tremaining: 16.3s\n",
      "393:\tlearn: 0.0028167\ttotal: 10.6s\tremaining: 16.3s\n",
      "394:\tlearn: 0.0028162\ttotal: 10.6s\tremaining: 16.3s\n",
      "395:\tlearn: 0.0028161\ttotal: 10.7s\tremaining: 16.2s\n",
      "396:\tlearn: 0.0028147\ttotal: 10.7s\tremaining: 16.2s\n",
      "397:\tlearn: 0.0028144\ttotal: 10.7s\tremaining: 16.2s\n",
      "398:\tlearn: 0.0028143\ttotal: 10.7s\tremaining: 16.2s\n",
      "399:\tlearn: 0.0028141\ttotal: 10.8s\tremaining: 16.1s\n",
      "400:\tlearn: 0.0028125\ttotal: 10.8s\tremaining: 16.1s\n",
      "401:\tlearn: 0.0028123\ttotal: 10.8s\tremaining: 16.1s\n",
      "402:\tlearn: 0.0028119\ttotal: 10.8s\tremaining: 16.1s\n",
      "403:\tlearn: 0.0028117\ttotal: 10.9s\tremaining: 16s\n",
      "404:\tlearn: 0.0028110\ttotal: 10.9s\tremaining: 16s\n",
      "405:\tlearn: 0.0028104\ttotal: 10.9s\tremaining: 16s\n",
      "406:\tlearn: 0.0028102\ttotal: 10.9s\tremaining: 15.9s\n",
      "407:\tlearn: 0.0028098\ttotal: 11s\tremaining: 15.9s\n",
      "408:\tlearn: 0.0028092\ttotal: 11s\tremaining: 15.9s\n",
      "409:\tlearn: 0.0028089\ttotal: 11s\tremaining: 15.9s\n",
      "410:\tlearn: 0.0028084\ttotal: 11s\tremaining: 15.8s\n",
      "411:\tlearn: 0.0028083\ttotal: 11.1s\tremaining: 15.8s\n",
      "412:\tlearn: 0.0028079\ttotal: 11.1s\tremaining: 15.8s\n",
      "413:\tlearn: 0.0028069\ttotal: 11.1s\tremaining: 15.8s\n",
      "414:\tlearn: 0.0028067\ttotal: 11.2s\tremaining: 15.8s\n",
      "415:\tlearn: 0.0028062\ttotal: 11.2s\tremaining: 15.8s\n",
      "416:\tlearn: 0.0028060\ttotal: 11.2s\tremaining: 15.7s\n",
      "417:\tlearn: 0.0028046\ttotal: 11.3s\tremaining: 15.7s\n",
      "418:\tlearn: 0.0028042\ttotal: 11.3s\tremaining: 15.7s\n",
      "419:\tlearn: 0.0028033\ttotal: 11.3s\tremaining: 15.7s\n",
      "420:\tlearn: 0.0028032\ttotal: 11.4s\tremaining: 15.6s\n",
      "421:\tlearn: 0.0028029\ttotal: 11.4s\tremaining: 15.6s\n",
      "422:\tlearn: 0.0028026\ttotal: 11.4s\tremaining: 15.6s\n",
      "423:\tlearn: 0.0028025\ttotal: 11.4s\tremaining: 15.5s\n",
      "424:\tlearn: 0.0028018\ttotal: 11.5s\tremaining: 15.5s\n",
      "425:\tlearn: 0.0028011\ttotal: 11.5s\tremaining: 15.5s\n",
      "426:\tlearn: 0.0028009\ttotal: 11.5s\tremaining: 15.5s\n",
      "427:\tlearn: 0.0028000\ttotal: 11.6s\tremaining: 15.4s\n",
      "428:\tlearn: 0.0027995\ttotal: 11.6s\tremaining: 15.4s\n",
      "429:\tlearn: 0.0027993\ttotal: 11.6s\tremaining: 15.4s\n",
      "430:\tlearn: 0.0027990\ttotal: 11.6s\tremaining: 15.4s\n",
      "431:\tlearn: 0.0027984\ttotal: 11.7s\tremaining: 15.4s\n",
      "432:\tlearn: 0.0027982\ttotal: 11.7s\tremaining: 15.3s\n",
      "433:\tlearn: 0.0027978\ttotal: 11.7s\tremaining: 15.3s\n",
      "434:\tlearn: 0.0027975\ttotal: 11.8s\tremaining: 15.3s\n",
      "435:\tlearn: 0.0027974\ttotal: 11.8s\tremaining: 15.3s\n",
      "436:\tlearn: 0.0027970\ttotal: 11.8s\tremaining: 15.2s\n",
      "437:\tlearn: 0.0027969\ttotal: 11.9s\tremaining: 15.2s\n",
      "438:\tlearn: 0.0027968\ttotal: 11.9s\tremaining: 15.2s\n",
      "439:\tlearn: 0.0027965\ttotal: 11.9s\tremaining: 15.2s\n",
      "440:\tlearn: 0.0027959\ttotal: 12s\tremaining: 15.1s\n",
      "441:\tlearn: 0.0027957\ttotal: 12s\tremaining: 15.1s\n",
      "442:\tlearn: 0.0027927\ttotal: 12s\tremaining: 15.1s\n",
      "443:\tlearn: 0.0027925\ttotal: 12s\tremaining: 15.1s\n",
      "444:\tlearn: 0.0027919\ttotal: 12.1s\tremaining: 15s\n",
      "445:\tlearn: 0.0027899\ttotal: 12.1s\tremaining: 15s\n",
      "446:\tlearn: 0.0027895\ttotal: 12.1s\tremaining: 15s\n",
      "447:\tlearn: 0.0027894\ttotal: 12.1s\tremaining: 15s\n",
      "448:\tlearn: 0.0027888\ttotal: 12.2s\tremaining: 14.9s\n",
      "449:\tlearn: 0.0027881\ttotal: 12.2s\tremaining: 14.9s\n",
      "450:\tlearn: 0.0027878\ttotal: 12.2s\tremaining: 14.9s\n",
      "451:\tlearn: 0.0027874\ttotal: 12.3s\tremaining: 14.9s\n",
      "452:\tlearn: 0.0027868\ttotal: 12.3s\tremaining: 14.8s\n",
      "453:\tlearn: 0.0027864\ttotal: 12.3s\tremaining: 14.8s\n",
      "454:\tlearn: 0.0027863\ttotal: 12.3s\tremaining: 14.8s\n",
      "455:\tlearn: 0.0027854\ttotal: 12.4s\tremaining: 14.8s\n",
      "456:\tlearn: 0.0027842\ttotal: 12.4s\tremaining: 14.8s\n",
      "457:\tlearn: 0.0027835\ttotal: 12.4s\tremaining: 14.7s\n",
      "458:\tlearn: 0.0027828\ttotal: 12.5s\tremaining: 14.7s\n",
      "459:\tlearn: 0.0027823\ttotal: 12.5s\tremaining: 14.7s\n",
      "460:\tlearn: 0.0027812\ttotal: 12.5s\tremaining: 14.7s\n",
      "461:\tlearn: 0.0027808\ttotal: 12.6s\tremaining: 14.6s\n",
      "462:\tlearn: 0.0027804\ttotal: 12.6s\tremaining: 14.6s\n",
      "463:\tlearn: 0.0027803\ttotal: 12.6s\tremaining: 14.6s\n",
      "464:\tlearn: 0.0027800\ttotal: 12.7s\tremaining: 14.6s\n",
      "465:\tlearn: 0.0027791\ttotal: 12.7s\tremaining: 14.6s\n",
      "466:\tlearn: 0.0027784\ttotal: 12.8s\tremaining: 14.6s\n",
      "467:\tlearn: 0.0027775\ttotal: 12.8s\tremaining: 14.6s\n",
      "468:\tlearn: 0.0027769\ttotal: 12.8s\tremaining: 14.5s\n",
      "469:\tlearn: 0.0027769\ttotal: 12.9s\tremaining: 14.5s\n",
      "470:\tlearn: 0.0027767\ttotal: 12.9s\tremaining: 14.5s\n",
      "471:\tlearn: 0.0027756\ttotal: 12.9s\tremaining: 14.5s\n",
      "472:\tlearn: 0.0027741\ttotal: 13s\tremaining: 14.5s\n",
      "473:\tlearn: 0.0027737\ttotal: 13s\tremaining: 14.4s\n",
      "474:\tlearn: 0.0027732\ttotal: 13s\tremaining: 14.4s\n",
      "475:\tlearn: 0.0027731\ttotal: 13.1s\tremaining: 14.4s\n",
      "476:\tlearn: 0.0027721\ttotal: 13.1s\tremaining: 14.4s\n",
      "477:\tlearn: 0.0027717\ttotal: 13.1s\tremaining: 14.4s\n",
      "478:\tlearn: 0.0027715\ttotal: 13.2s\tremaining: 14.3s\n",
      "479:\tlearn: 0.0027713\ttotal: 13.2s\tremaining: 14.3s\n",
      "480:\tlearn: 0.0027707\ttotal: 13.3s\tremaining: 14.3s\n",
      "481:\tlearn: 0.0027698\ttotal: 13.3s\tremaining: 14.3s\n",
      "482:\tlearn: 0.0027692\ttotal: 13.4s\tremaining: 14.3s\n",
      "483:\tlearn: 0.0027685\ttotal: 13.4s\tremaining: 14.3s\n",
      "484:\tlearn: 0.0027678\ttotal: 13.4s\tremaining: 14.3s\n",
      "485:\tlearn: 0.0027675\ttotal: 13.5s\tremaining: 14.2s\n",
      "486:\tlearn: 0.0027674\ttotal: 13.5s\tremaining: 14.2s\n",
      "487:\tlearn: 0.0027671\ttotal: 13.5s\tremaining: 14.2s\n",
      "488:\tlearn: 0.0027668\ttotal: 13.6s\tremaining: 14.2s\n",
      "489:\tlearn: 0.0027655\ttotal: 13.6s\tremaining: 14.2s\n",
      "490:\tlearn: 0.0027645\ttotal: 13.6s\tremaining: 14.1s\n",
      "491:\tlearn: 0.0027641\ttotal: 13.7s\tremaining: 14.1s\n",
      "492:\tlearn: 0.0027633\ttotal: 13.7s\tremaining: 14.1s\n"
     ]
    },
    {
     "name": "stdout",
     "output_type": "stream",
     "text": [
      "493:\tlearn: 0.0027632\ttotal: 13.7s\tremaining: 14.1s\n",
      "494:\tlearn: 0.0027628\ttotal: 13.8s\tremaining: 14.1s\n",
      "495:\tlearn: 0.0027627\ttotal: 13.8s\tremaining: 14s\n",
      "496:\tlearn: 0.0027616\ttotal: 13.8s\tremaining: 14s\n",
      "497:\tlearn: 0.0027615\ttotal: 13.9s\tremaining: 14s\n",
      "498:\tlearn: 0.0027614\ttotal: 13.9s\tremaining: 14s\n",
      "499:\tlearn: 0.0027599\ttotal: 13.9s\tremaining: 13.9s\n",
      "500:\tlearn: 0.0027598\ttotal: 14s\tremaining: 13.9s\n",
      "501:\tlearn: 0.0027574\ttotal: 14s\tremaining: 13.9s\n",
      "502:\tlearn: 0.0027574\ttotal: 14s\tremaining: 13.8s\n",
      "503:\tlearn: 0.0027572\ttotal: 14.1s\tremaining: 13.8s\n",
      "504:\tlearn: 0.0027566\ttotal: 14.1s\tremaining: 13.8s\n",
      "505:\tlearn: 0.0027562\ttotal: 14.1s\tremaining: 13.8s\n",
      "506:\tlearn: 0.0027558\ttotal: 14.2s\tremaining: 13.8s\n",
      "507:\tlearn: 0.0027554\ttotal: 14.2s\tremaining: 13.7s\n",
      "508:\tlearn: 0.0027550\ttotal: 14.2s\tremaining: 13.7s\n",
      "509:\tlearn: 0.0027547\ttotal: 14.3s\tremaining: 13.7s\n",
      "510:\tlearn: 0.0027540\ttotal: 14.3s\tremaining: 13.7s\n",
      "511:\tlearn: 0.0027537\ttotal: 14.3s\tremaining: 13.6s\n",
      "512:\tlearn: 0.0027530\ttotal: 14.3s\tremaining: 13.6s\n",
      "513:\tlearn: 0.0027522\ttotal: 14.4s\tremaining: 13.6s\n",
      "514:\tlearn: 0.0027512\ttotal: 14.4s\tremaining: 13.6s\n",
      "515:\tlearn: 0.0027509\ttotal: 14.4s\tremaining: 13.5s\n",
      "516:\tlearn: 0.0027503\ttotal: 14.5s\tremaining: 13.5s\n",
      "517:\tlearn: 0.0027502\ttotal: 14.5s\tremaining: 13.5s\n",
      "518:\tlearn: 0.0027490\ttotal: 14.5s\tremaining: 13.5s\n",
      "519:\tlearn: 0.0027489\ttotal: 14.6s\tremaining: 13.4s\n",
      "520:\tlearn: 0.0027480\ttotal: 14.6s\tremaining: 13.4s\n",
      "521:\tlearn: 0.0027476\ttotal: 14.6s\tremaining: 13.4s\n",
      "522:\tlearn: 0.0027470\ttotal: 14.7s\tremaining: 13.4s\n",
      "523:\tlearn: 0.0027468\ttotal: 14.7s\tremaining: 13.4s\n",
      "524:\tlearn: 0.0027466\ttotal: 14.7s\tremaining: 13.3s\n",
      "525:\tlearn: 0.0027463\ttotal: 14.8s\tremaining: 13.3s\n",
      "526:\tlearn: 0.0027459\ttotal: 14.9s\tremaining: 13.3s\n",
      "527:\tlearn: 0.0027455\ttotal: 15s\tremaining: 13.4s\n",
      "528:\tlearn: 0.0027442\ttotal: 15s\tremaining: 13.3s\n",
      "529:\tlearn: 0.0027438\ttotal: 15s\tremaining: 13.3s\n",
      "530:\tlearn: 0.0027432\ttotal: 15s\tremaining: 13.3s\n",
      "531:\tlearn: 0.0027426\ttotal: 15.1s\tremaining: 13.3s\n",
      "532:\tlearn: 0.0027417\ttotal: 15.1s\tremaining: 13.2s\n",
      "533:\tlearn: 0.0027414\ttotal: 15.1s\tremaining: 13.2s\n",
      "534:\tlearn: 0.0027413\ttotal: 15.2s\tremaining: 13.2s\n",
      "535:\tlearn: 0.0027400\ttotal: 15.2s\tremaining: 13.2s\n",
      "536:\tlearn: 0.0027396\ttotal: 15.2s\tremaining: 13.1s\n",
      "537:\tlearn: 0.0027392\ttotal: 15.3s\tremaining: 13.1s\n",
      "538:\tlearn: 0.0027381\ttotal: 15.3s\tremaining: 13.1s\n",
      "539:\tlearn: 0.0027370\ttotal: 15.3s\tremaining: 13.1s\n",
      "540:\tlearn: 0.0027365\ttotal: 15.4s\tremaining: 13s\n",
      "541:\tlearn: 0.0027357\ttotal: 15.4s\tremaining: 13s\n",
      "542:\tlearn: 0.0027355\ttotal: 15.4s\tremaining: 13s\n",
      "543:\tlearn: 0.0027353\ttotal: 15.4s\tremaining: 12.9s\n",
      "544:\tlearn: 0.0027350\ttotal: 15.5s\tremaining: 12.9s\n",
      "545:\tlearn: 0.0027348\ttotal: 15.5s\tremaining: 12.9s\n",
      "546:\tlearn: 0.0027342\ttotal: 15.5s\tremaining: 12.9s\n",
      "547:\tlearn: 0.0027339\ttotal: 15.6s\tremaining: 12.8s\n",
      "548:\tlearn: 0.0027338\ttotal: 15.6s\tremaining: 12.8s\n",
      "549:\tlearn: 0.0027335\ttotal: 15.6s\tremaining: 12.8s\n",
      "550:\tlearn: 0.0027329\ttotal: 15.6s\tremaining: 12.7s\n",
      "551:\tlearn: 0.0027327\ttotal: 15.7s\tremaining: 12.7s\n",
      "552:\tlearn: 0.0027323\ttotal: 15.7s\tremaining: 12.7s\n",
      "553:\tlearn: 0.0027320\ttotal: 15.7s\tremaining: 12.7s\n",
      "554:\tlearn: 0.0027316\ttotal: 15.8s\tremaining: 12.6s\n",
      "555:\tlearn: 0.0027314\ttotal: 15.8s\tremaining: 12.6s\n",
      "556:\tlearn: 0.0027306\ttotal: 15.8s\tremaining: 12.6s\n",
      "557:\tlearn: 0.0027301\ttotal: 15.9s\tremaining: 12.6s\n",
      "558:\tlearn: 0.0027298\ttotal: 15.9s\tremaining: 12.5s\n",
      "559:\tlearn: 0.0027298\ttotal: 15.9s\tremaining: 12.5s\n",
      "560:\tlearn: 0.0027294\ttotal: 15.9s\tremaining: 12.5s\n",
      "561:\tlearn: 0.0027289\ttotal: 16s\tremaining: 12.5s\n",
      "562:\tlearn: 0.0027276\ttotal: 16s\tremaining: 12.4s\n",
      "563:\tlearn: 0.0027275\ttotal: 16s\tremaining: 12.4s\n",
      "564:\tlearn: 0.0027273\ttotal: 16.1s\tremaining: 12.4s\n",
      "565:\tlearn: 0.0027265\ttotal: 16.1s\tremaining: 12.3s\n",
      "566:\tlearn: 0.0027257\ttotal: 16.1s\tremaining: 12.3s\n",
      "567:\tlearn: 0.0027255\ttotal: 16.2s\tremaining: 12.3s\n",
      "568:\tlearn: 0.0027252\ttotal: 16.2s\tremaining: 12.3s\n",
      "569:\tlearn: 0.0027251\ttotal: 16.2s\tremaining: 12.2s\n",
      "570:\tlearn: 0.0027244\ttotal: 16.2s\tremaining: 12.2s\n",
      "571:\tlearn: 0.0027238\ttotal: 16.3s\tremaining: 12.2s\n",
      "572:\tlearn: 0.0027235\ttotal: 16.3s\tremaining: 12.2s\n",
      "573:\tlearn: 0.0027225\ttotal: 16.3s\tremaining: 12.1s\n",
      "574:\tlearn: 0.0027225\ttotal: 16.4s\tremaining: 12.1s\n",
      "575:\tlearn: 0.0027224\ttotal: 16.4s\tremaining: 12.1s\n",
      "576:\tlearn: 0.0027214\ttotal: 16.4s\tremaining: 12.1s\n",
      "577:\tlearn: 0.0027212\ttotal: 16.5s\tremaining: 12s\n",
      "578:\tlearn: 0.0027206\ttotal: 16.5s\tremaining: 12s\n",
      "579:\tlearn: 0.0027202\ttotal: 16.5s\tremaining: 12s\n",
      "580:\tlearn: 0.0027197\ttotal: 16.6s\tremaining: 12s\n",
      "581:\tlearn: 0.0027194\ttotal: 16.6s\tremaining: 11.9s\n",
      "582:\tlearn: 0.0027192\ttotal: 16.6s\tremaining: 11.9s\n",
      "583:\tlearn: 0.0027188\ttotal: 16.7s\tremaining: 11.9s\n",
      "584:\tlearn: 0.0027186\ttotal: 16.7s\tremaining: 11.8s\n",
      "585:\tlearn: 0.0027182\ttotal: 16.7s\tremaining: 11.8s\n",
      "586:\tlearn: 0.0027178\ttotal: 16.8s\tremaining: 11.8s\n",
      "587:\tlearn: 0.0027175\ttotal: 16.8s\tremaining: 11.8s\n",
      "588:\tlearn: 0.0027169\ttotal: 16.8s\tremaining: 11.7s\n",
      "589:\tlearn: 0.0027148\ttotal: 16.8s\tremaining: 11.7s\n",
      "590:\tlearn: 0.0027143\ttotal: 16.9s\tremaining: 11.7s\n",
      "591:\tlearn: 0.0027138\ttotal: 16.9s\tremaining: 11.7s\n",
      "592:\tlearn: 0.0027131\ttotal: 16.9s\tremaining: 11.6s\n",
      "593:\tlearn: 0.0027124\ttotal: 17s\tremaining: 11.6s\n",
      "594:\tlearn: 0.0027121\ttotal: 17s\tremaining: 11.6s\n",
      "595:\tlearn: 0.0027115\ttotal: 17.1s\tremaining: 11.6s\n",
      "596:\tlearn: 0.0027113\ttotal: 17.1s\tremaining: 11.5s\n",
      "597:\tlearn: 0.0027110\ttotal: 17.1s\tremaining: 11.5s\n",
      "598:\tlearn: 0.0027107\ttotal: 17.2s\tremaining: 11.5s\n",
      "599:\tlearn: 0.0027104\ttotal: 17.2s\tremaining: 11.5s\n",
      "600:\tlearn: 0.0027099\ttotal: 17.2s\tremaining: 11.4s\n",
      "601:\tlearn: 0.0027095\ttotal: 17.3s\tremaining: 11.4s\n",
      "602:\tlearn: 0.0027087\ttotal: 17.3s\tremaining: 11.4s\n",
      "603:\tlearn: 0.0027067\ttotal: 17.3s\tremaining: 11.4s\n",
      "604:\tlearn: 0.0027066\ttotal: 17.4s\tremaining: 11.3s\n",
      "605:\tlearn: 0.0027060\ttotal: 17.4s\tremaining: 11.3s\n",
      "606:\tlearn: 0.0027053\ttotal: 17.4s\tremaining: 11.3s\n",
      "607:\tlearn: 0.0027047\ttotal: 17.5s\tremaining: 11.3s\n",
      "608:\tlearn: 0.0027043\ttotal: 17.5s\tremaining: 11.2s\n",
      "609:\tlearn: 0.0027033\ttotal: 17.5s\tremaining: 11.2s\n",
      "610:\tlearn: 0.0027028\ttotal: 17.6s\tremaining: 11.2s\n",
      "611:\tlearn: 0.0027028\ttotal: 17.6s\tremaining: 11.2s\n",
      "612:\tlearn: 0.0027022\ttotal: 17.7s\tremaining: 11.2s\n",
      "613:\tlearn: 0.0027014\ttotal: 17.7s\tremaining: 11.1s\n",
      "614:\tlearn: 0.0027010\ttotal: 17.7s\tremaining: 11.1s\n",
      "615:\tlearn: 0.0027007\ttotal: 17.7s\tremaining: 11.1s\n",
      "616:\tlearn: 0.0027005\ttotal: 17.8s\tremaining: 11s\n",
      "617:\tlearn: 0.0026995\ttotal: 17.8s\tremaining: 11s\n",
      "618:\tlearn: 0.0026989\ttotal: 17.8s\tremaining: 11s\n",
      "619:\tlearn: 0.0026980\ttotal: 17.9s\tremaining: 11s\n",
      "620:\tlearn: 0.0026972\ttotal: 17.9s\tremaining: 10.9s\n",
      "621:\tlearn: 0.0026967\ttotal: 17.9s\tremaining: 10.9s\n",
      "622:\tlearn: 0.0026963\ttotal: 18s\tremaining: 10.9s\n",
      "623:\tlearn: 0.0026957\ttotal: 18s\tremaining: 10.9s\n",
      "624:\tlearn: 0.0026955\ttotal: 18.1s\tremaining: 10.8s\n",
      "625:\tlearn: 0.0026953\ttotal: 18.1s\tremaining: 10.8s\n",
      "626:\tlearn: 0.0026951\ttotal: 18.1s\tremaining: 10.8s\n",
      "627:\tlearn: 0.0026940\ttotal: 18.1s\tremaining: 10.7s\n",
      "628:\tlearn: 0.0026935\ttotal: 18.2s\tremaining: 10.7s\n",
      "629:\tlearn: 0.0026927\ttotal: 18.2s\tremaining: 10.7s\n",
      "630:\tlearn: 0.0026921\ttotal: 18.2s\tremaining: 10.7s\n",
      "631:\tlearn: 0.0026917\ttotal: 18.3s\tremaining: 10.6s\n",
      "632:\tlearn: 0.0026912\ttotal: 18.3s\tremaining: 10.6s\n",
      "633:\tlearn: 0.0026902\ttotal: 18.3s\tremaining: 10.6s\n",
      "634:\tlearn: 0.0026896\ttotal: 18.4s\tremaining: 10.6s\n",
      "635:\tlearn: 0.0026893\ttotal: 18.4s\tremaining: 10.5s\n",
      "636:\tlearn: 0.0026887\ttotal: 18.4s\tremaining: 10.5s\n",
      "637:\tlearn: 0.0026882\ttotal: 18.5s\tremaining: 10.5s\n",
      "638:\tlearn: 0.0026877\ttotal: 18.5s\tremaining: 10.4s\n",
      "639:\tlearn: 0.0026873\ttotal: 18.5s\tremaining: 10.4s\n",
      "640:\tlearn: 0.0026859\ttotal: 18.5s\tremaining: 10.4s\n",
      "641:\tlearn: 0.0026853\ttotal: 18.6s\tremaining: 10.4s\n",
      "642:\tlearn: 0.0026839\ttotal: 18.6s\tremaining: 10.3s\n",
      "643:\tlearn: 0.0026836\ttotal: 18.6s\tremaining: 10.3s\n",
      "644:\tlearn: 0.0026831\ttotal: 18.7s\tremaining: 10.3s\n",
      "645:\tlearn: 0.0026830\ttotal: 18.7s\tremaining: 10.2s\n",
      "646:\tlearn: 0.0026827\ttotal: 18.7s\tremaining: 10.2s\n",
      "647:\tlearn: 0.0026826\ttotal: 18.8s\tremaining: 10.2s\n",
      "648:\tlearn: 0.0026804\ttotal: 18.8s\tremaining: 10.2s\n",
      "649:\tlearn: 0.0026800\ttotal: 18.8s\tremaining: 10.1s\n",
      "650:\tlearn: 0.0026791\ttotal: 18.8s\tremaining: 10.1s\n",
      "651:\tlearn: 0.0026788\ttotal: 18.9s\tremaining: 10.1s\n",
      "652:\tlearn: 0.0026787\ttotal: 18.9s\tremaining: 10s\n",
      "653:\tlearn: 0.0026785\ttotal: 19s\tremaining: 10s\n",
      "654:\tlearn: 0.0026784\ttotal: 19s\tremaining: 10s\n",
      "655:\tlearn: 0.0026783\ttotal: 19s\tremaining: 9.97s\n"
     ]
    },
    {
     "name": "stdout",
     "output_type": "stream",
     "text": [
      "656:\tlearn: 0.0026782\ttotal: 19s\tremaining: 9.94s\n",
      "657:\tlearn: 0.0026777\ttotal: 19.1s\tremaining: 9.92s\n",
      "658:\tlearn: 0.0026773\ttotal: 19.1s\tremaining: 9.89s\n",
      "659:\tlearn: 0.0026772\ttotal: 19.1s\tremaining: 9.86s\n",
      "660:\tlearn: 0.0026757\ttotal: 19.2s\tremaining: 9.83s\n",
      "661:\tlearn: 0.0026746\ttotal: 19.2s\tremaining: 9.8s\n",
      "662:\tlearn: 0.0026742\ttotal: 19.2s\tremaining: 9.78s\n",
      "663:\tlearn: 0.0026739\ttotal: 19.3s\tremaining: 9.75s\n",
      "664:\tlearn: 0.0026738\ttotal: 19.3s\tremaining: 9.72s\n",
      "665:\tlearn: 0.0026729\ttotal: 19.3s\tremaining: 9.69s\n",
      "666:\tlearn: 0.0026721\ttotal: 19.4s\tremaining: 9.66s\n",
      "667:\tlearn: 0.0026712\ttotal: 19.4s\tremaining: 9.63s\n",
      "668:\tlearn: 0.0026710\ttotal: 19.4s\tremaining: 9.6s\n",
      "669:\tlearn: 0.0026707\ttotal: 19.4s\tremaining: 9.57s\n",
      "670:\tlearn: 0.0026702\ttotal: 19.5s\tremaining: 9.55s\n",
      "671:\tlearn: 0.0026700\ttotal: 19.5s\tremaining: 9.52s\n",
      "672:\tlearn: 0.0026695\ttotal: 19.5s\tremaining: 9.5s\n",
      "673:\tlearn: 0.0026693\ttotal: 19.6s\tremaining: 9.47s\n",
      "674:\tlearn: 0.0026680\ttotal: 19.6s\tremaining: 9.44s\n",
      "675:\tlearn: 0.0026676\ttotal: 19.6s\tremaining: 9.41s\n",
      "676:\tlearn: 0.0026671\ttotal: 19.7s\tremaining: 9.38s\n",
      "677:\tlearn: 0.0026663\ttotal: 19.7s\tremaining: 9.35s\n",
      "678:\tlearn: 0.0026654\ttotal: 19.7s\tremaining: 9.33s\n",
      "679:\tlearn: 0.0026650\ttotal: 19.8s\tremaining: 9.3s\n",
      "680:\tlearn: 0.0026639\ttotal: 19.8s\tremaining: 9.27s\n",
      "681:\tlearn: 0.0026636\ttotal: 19.8s\tremaining: 9.24s\n",
      "682:\tlearn: 0.0026631\ttotal: 19.9s\tremaining: 9.21s\n",
      "683:\tlearn: 0.0026622\ttotal: 19.9s\tremaining: 9.19s\n",
      "684:\tlearn: 0.0026612\ttotal: 19.9s\tremaining: 9.16s\n",
      "685:\tlearn: 0.0026604\ttotal: 19.9s\tremaining: 9.13s\n",
      "686:\tlearn: 0.0026597\ttotal: 20s\tremaining: 9.1s\n",
      "687:\tlearn: 0.0026594\ttotal: 20s\tremaining: 9.08s\n",
      "688:\tlearn: 0.0026585\ttotal: 20.1s\tremaining: 9.06s\n",
      "689:\tlearn: 0.0026584\ttotal: 20.1s\tremaining: 9.03s\n",
      "690:\tlearn: 0.0026575\ttotal: 20.1s\tremaining: 9s\n",
      "691:\tlearn: 0.0026572\ttotal: 20.2s\tremaining: 8.97s\n",
      "692:\tlearn: 0.0026568\ttotal: 20.2s\tremaining: 8.95s\n",
      "693:\tlearn: 0.0026563\ttotal: 20.2s\tremaining: 8.92s\n",
      "694:\tlearn: 0.0026555\ttotal: 20.3s\tremaining: 8.89s\n",
      "695:\tlearn: 0.0026545\ttotal: 20.3s\tremaining: 8.87s\n",
      "696:\tlearn: 0.0026542\ttotal: 20.3s\tremaining: 8.84s\n",
      "697:\tlearn: 0.0026538\ttotal: 20.4s\tremaining: 8.81s\n",
      "698:\tlearn: 0.0026536\ttotal: 20.4s\tremaining: 8.78s\n",
      "699:\tlearn: 0.0026531\ttotal: 20.4s\tremaining: 8.75s\n",
      "700:\tlearn: 0.0026529\ttotal: 20.5s\tremaining: 8.72s\n",
      "701:\tlearn: 0.0026521\ttotal: 20.5s\tremaining: 8.7s\n",
      "702:\tlearn: 0.0026517\ttotal: 20.5s\tremaining: 8.67s\n",
      "703:\tlearn: 0.0026512\ttotal: 20.6s\tremaining: 8.65s\n",
      "704:\tlearn: 0.0026509\ttotal: 20.6s\tremaining: 8.62s\n",
      "705:\tlearn: 0.0026507\ttotal: 20.6s\tremaining: 8.59s\n",
      "706:\tlearn: 0.0026503\ttotal: 20.7s\tremaining: 8.56s\n",
      "707:\tlearn: 0.0026497\ttotal: 20.7s\tremaining: 8.53s\n",
      "708:\tlearn: 0.0026496\ttotal: 20.7s\tremaining: 8.5s\n",
      "709:\tlearn: 0.0026491\ttotal: 20.8s\tremaining: 8.48s\n",
      "710:\tlearn: 0.0026484\ttotal: 20.8s\tremaining: 8.45s\n",
      "711:\tlearn: 0.0026480\ttotal: 20.8s\tremaining: 8.42s\n",
      "712:\tlearn: 0.0026474\ttotal: 20.9s\tremaining: 8.4s\n",
      "713:\tlearn: 0.0026468\ttotal: 20.9s\tremaining: 8.37s\n",
      "714:\tlearn: 0.0026458\ttotal: 20.9s\tremaining: 8.34s\n",
      "715:\tlearn: 0.0026452\ttotal: 21s\tremaining: 8.31s\n",
      "716:\tlearn: 0.0026450\ttotal: 21s\tremaining: 8.29s\n",
      "717:\tlearn: 0.0026446\ttotal: 21s\tremaining: 8.26s\n",
      "718:\tlearn: 0.0026440\ttotal: 21.1s\tremaining: 8.23s\n",
      "719:\tlearn: 0.0026432\ttotal: 21.1s\tremaining: 8.21s\n",
      "720:\tlearn: 0.0026425\ttotal: 21.1s\tremaining: 8.18s\n",
      "721:\tlearn: 0.0026420\ttotal: 21.2s\tremaining: 8.15s\n",
      "722:\tlearn: 0.0026416\ttotal: 21.2s\tremaining: 8.12s\n",
      "723:\tlearn: 0.0026414\ttotal: 21.2s\tremaining: 8.09s\n",
      "724:\tlearn: 0.0026409\ttotal: 21.3s\tremaining: 8.06s\n",
      "725:\tlearn: 0.0026408\ttotal: 21.3s\tremaining: 8.03s\n",
      "726:\tlearn: 0.0026404\ttotal: 21.3s\tremaining: 8s\n",
      "727:\tlearn: 0.0026401\ttotal: 21.4s\tremaining: 7.98s\n",
      "728:\tlearn: 0.0026394\ttotal: 21.4s\tremaining: 7.95s\n",
      "729:\tlearn: 0.0026389\ttotal: 21.4s\tremaining: 7.92s\n",
      "730:\tlearn: 0.0026382\ttotal: 21.5s\tremaining: 7.89s\n",
      "731:\tlearn: 0.0026379\ttotal: 21.5s\tremaining: 7.87s\n",
      "732:\tlearn: 0.0026372\ttotal: 21.5s\tremaining: 7.84s\n",
      "733:\tlearn: 0.0026357\ttotal: 21.6s\tremaining: 7.81s\n",
      "734:\tlearn: 0.0026354\ttotal: 21.6s\tremaining: 7.79s\n",
      "735:\tlearn: 0.0026353\ttotal: 21.6s\tremaining: 7.76s\n",
      "736:\tlearn: 0.0026347\ttotal: 21.7s\tremaining: 7.74s\n",
      "737:\tlearn: 0.0026344\ttotal: 21.7s\tremaining: 7.71s\n",
      "738:\tlearn: 0.0026336\ttotal: 21.7s\tremaining: 7.68s\n",
      "739:\tlearn: 0.0026333\ttotal: 21.8s\tremaining: 7.65s\n",
      "740:\tlearn: 0.0026332\ttotal: 21.8s\tremaining: 7.63s\n",
      "741:\tlearn: 0.0026331\ttotal: 21.9s\tremaining: 7.6s\n",
      "742:\tlearn: 0.0026326\ttotal: 21.9s\tremaining: 7.57s\n",
      "743:\tlearn: 0.0026319\ttotal: 21.9s\tremaining: 7.54s\n",
      "744:\tlearn: 0.0026310\ttotal: 22s\tremaining: 7.51s\n",
      "745:\tlearn: 0.0026305\ttotal: 22s\tremaining: 7.49s\n",
      "746:\tlearn: 0.0026296\ttotal: 22s\tremaining: 7.46s\n",
      "747:\tlearn: 0.0026293\ttotal: 22.1s\tremaining: 7.43s\n",
      "748:\tlearn: 0.0026291\ttotal: 22.1s\tremaining: 7.42s\n",
      "749:\tlearn: 0.0026288\ttotal: 22.2s\tremaining: 7.39s\n",
      "750:\tlearn: 0.0026281\ttotal: 22.2s\tremaining: 7.37s\n",
      "751:\tlearn: 0.0026270\ttotal: 22.3s\tremaining: 7.34s\n",
      "752:\tlearn: 0.0026263\ttotal: 22.3s\tremaining: 7.31s\n",
      "753:\tlearn: 0.0026256\ttotal: 22.3s\tremaining: 7.28s\n",
      "754:\tlearn: 0.0026250\ttotal: 22.4s\tremaining: 7.25s\n",
      "755:\tlearn: 0.0026248\ttotal: 22.4s\tremaining: 7.22s\n",
      "756:\tlearn: 0.0026243\ttotal: 22.4s\tremaining: 7.2s\n",
      "757:\tlearn: 0.0026241\ttotal: 22.4s\tremaining: 7.17s\n",
      "758:\tlearn: 0.0026231\ttotal: 22.5s\tremaining: 7.14s\n",
      "759:\tlearn: 0.0026228\ttotal: 22.5s\tremaining: 7.11s\n",
      "760:\tlearn: 0.0026222\ttotal: 22.5s\tremaining: 7.08s\n",
      "761:\tlearn: 0.0026221\ttotal: 22.6s\tremaining: 7.05s\n",
      "762:\tlearn: 0.0026208\ttotal: 22.6s\tremaining: 7.02s\n",
      "763:\tlearn: 0.0026199\ttotal: 22.6s\tremaining: 6.99s\n",
      "764:\tlearn: 0.0026195\ttotal: 22.7s\tremaining: 6.96s\n",
      "765:\tlearn: 0.0026193\ttotal: 22.7s\tremaining: 6.93s\n",
      "766:\tlearn: 0.0026189\ttotal: 22.7s\tremaining: 6.9s\n",
      "767:\tlearn: 0.0026184\ttotal: 22.8s\tremaining: 6.88s\n",
      "768:\tlearn: 0.0026183\ttotal: 22.8s\tremaining: 6.84s\n",
      "769:\tlearn: 0.0026177\ttotal: 22.8s\tremaining: 6.82s\n",
      "770:\tlearn: 0.0026172\ttotal: 22.9s\tremaining: 6.79s\n",
      "771:\tlearn: 0.0026170\ttotal: 22.9s\tremaining: 6.76s\n",
      "772:\tlearn: 0.0026164\ttotal: 22.9s\tremaining: 6.73s\n",
      "773:\tlearn: 0.0026161\ttotal: 23s\tremaining: 6.71s\n",
      "774:\tlearn: 0.0026152\ttotal: 23s\tremaining: 6.68s\n",
      "775:\tlearn: 0.0026146\ttotal: 23.1s\tremaining: 6.65s\n",
      "776:\tlearn: 0.0026144\ttotal: 23.1s\tremaining: 6.62s\n",
      "777:\tlearn: 0.0026132\ttotal: 23.1s\tremaining: 6.59s\n",
      "778:\tlearn: 0.0026127\ttotal: 23.1s\tremaining: 6.57s\n",
      "779:\tlearn: 0.0026123\ttotal: 23.2s\tremaining: 6.54s\n",
      "780:\tlearn: 0.0026120\ttotal: 23.2s\tremaining: 6.51s\n",
      "781:\tlearn: 0.0026119\ttotal: 23.2s\tremaining: 6.48s\n",
      "782:\tlearn: 0.0026116\ttotal: 23.3s\tremaining: 6.45s\n",
      "783:\tlearn: 0.0026111\ttotal: 23.3s\tremaining: 6.42s\n",
      "784:\tlearn: 0.0026103\ttotal: 23.3s\tremaining: 6.39s\n",
      "785:\tlearn: 0.0026102\ttotal: 23.4s\tremaining: 6.36s\n",
      "786:\tlearn: 0.0026100\ttotal: 23.4s\tremaining: 6.33s\n",
      "787:\tlearn: 0.0026091\ttotal: 23.4s\tremaining: 6.3s\n",
      "788:\tlearn: 0.0026082\ttotal: 23.5s\tremaining: 6.28s\n",
      "789:\tlearn: 0.0026076\ttotal: 23.5s\tremaining: 6.25s\n",
      "790:\tlearn: 0.0026067\ttotal: 23.5s\tremaining: 6.22s\n",
      "791:\tlearn: 0.0026066\ttotal: 23.6s\tremaining: 6.19s\n",
      "792:\tlearn: 0.0026063\ttotal: 23.6s\tremaining: 6.16s\n",
      "793:\tlearn: 0.0026056\ttotal: 23.6s\tremaining: 6.13s\n",
      "794:\tlearn: 0.0026050\ttotal: 23.7s\tremaining: 6.1s\n",
      "795:\tlearn: 0.0026046\ttotal: 23.7s\tremaining: 6.07s\n",
      "796:\tlearn: 0.0026040\ttotal: 23.7s\tremaining: 6.04s\n",
      "797:\tlearn: 0.0026036\ttotal: 23.8s\tremaining: 6.02s\n",
      "798:\tlearn: 0.0026033\ttotal: 23.8s\tremaining: 5.99s\n",
      "799:\tlearn: 0.0026029\ttotal: 23.8s\tremaining: 5.96s\n",
      "800:\tlearn: 0.0026008\ttotal: 23.9s\tremaining: 5.93s\n",
      "801:\tlearn: 0.0026003\ttotal: 23.9s\tremaining: 5.9s\n",
      "802:\tlearn: 0.0025995\ttotal: 23.9s\tremaining: 5.87s\n",
      "803:\tlearn: 0.0025989\ttotal: 24s\tremaining: 5.84s\n",
      "804:\tlearn: 0.0025979\ttotal: 24s\tremaining: 5.81s\n",
      "805:\tlearn: 0.0025971\ttotal: 24s\tremaining: 5.78s\n",
      "806:\tlearn: 0.0025965\ttotal: 24.1s\tremaining: 5.75s\n",
      "807:\tlearn: 0.0025956\ttotal: 24.1s\tremaining: 5.73s\n",
      "808:\tlearn: 0.0025948\ttotal: 24.1s\tremaining: 5.7s\n",
      "809:\tlearn: 0.0025943\ttotal: 24.2s\tremaining: 5.67s\n",
      "810:\tlearn: 0.0025933\ttotal: 24.2s\tremaining: 5.64s\n",
      "811:\tlearn: 0.0025930\ttotal: 24.2s\tremaining: 5.61s\n",
      "812:\tlearn: 0.0025924\ttotal: 24.3s\tremaining: 5.58s\n",
      "813:\tlearn: 0.0025912\ttotal: 24.3s\tremaining: 5.55s\n",
      "814:\tlearn: 0.0025905\ttotal: 24.3s\tremaining: 5.52s\n",
      "815:\tlearn: 0.0025894\ttotal: 24.4s\tremaining: 5.49s\n",
      "816:\tlearn: 0.0025888\ttotal: 24.4s\tremaining: 5.46s\n"
     ]
    },
    {
     "name": "stdout",
     "output_type": "stream",
     "text": [
      "817:\tlearn: 0.0025882\ttotal: 24.4s\tremaining: 5.43s\n",
      "818:\tlearn: 0.0025874\ttotal: 24.4s\tremaining: 5.4s\n",
      "819:\tlearn: 0.0025869\ttotal: 24.5s\tremaining: 5.37s\n",
      "820:\tlearn: 0.0025862\ttotal: 24.5s\tremaining: 5.35s\n",
      "821:\tlearn: 0.0025859\ttotal: 24.6s\tremaining: 5.32s\n",
      "822:\tlearn: 0.0025856\ttotal: 24.6s\tremaining: 5.29s\n",
      "823:\tlearn: 0.0025848\ttotal: 24.6s\tremaining: 5.26s\n",
      "824:\tlearn: 0.0025844\ttotal: 24.6s\tremaining: 5.23s\n",
      "825:\tlearn: 0.0025842\ttotal: 24.7s\tremaining: 5.2s\n",
      "826:\tlearn: 0.0025838\ttotal: 24.7s\tremaining: 5.17s\n",
      "827:\tlearn: 0.0025819\ttotal: 24.7s\tremaining: 5.14s\n",
      "828:\tlearn: 0.0025815\ttotal: 24.8s\tremaining: 5.11s\n",
      "829:\tlearn: 0.0025811\ttotal: 24.8s\tremaining: 5.08s\n",
      "830:\tlearn: 0.0025807\ttotal: 24.8s\tremaining: 5.05s\n",
      "831:\tlearn: 0.0025806\ttotal: 24.9s\tremaining: 5.02s\n",
      "832:\tlearn: 0.0025798\ttotal: 24.9s\tremaining: 4.99s\n",
      "833:\tlearn: 0.0025794\ttotal: 24.9s\tremaining: 4.96s\n",
      "834:\tlearn: 0.0025787\ttotal: 25s\tremaining: 4.93s\n",
      "835:\tlearn: 0.0025784\ttotal: 25s\tremaining: 4.9s\n",
      "836:\tlearn: 0.0025783\ttotal: 25s\tremaining: 4.88s\n",
      "837:\tlearn: 0.0025778\ttotal: 25.1s\tremaining: 4.85s\n",
      "838:\tlearn: 0.0025776\ttotal: 25.1s\tremaining: 4.82s\n",
      "839:\tlearn: 0.0025767\ttotal: 25.1s\tremaining: 4.79s\n",
      "840:\tlearn: 0.0025760\ttotal: 25.2s\tremaining: 4.76s\n",
      "841:\tlearn: 0.0025755\ttotal: 25.2s\tremaining: 4.73s\n",
      "842:\tlearn: 0.0025747\ttotal: 25.2s\tremaining: 4.7s\n",
      "843:\tlearn: 0.0025747\ttotal: 25.3s\tremaining: 4.67s\n",
      "844:\tlearn: 0.0025738\ttotal: 25.3s\tremaining: 4.64s\n",
      "845:\tlearn: 0.0025735\ttotal: 25.3s\tremaining: 4.61s\n",
      "846:\tlearn: 0.0025727\ttotal: 25.4s\tremaining: 4.58s\n",
      "847:\tlearn: 0.0025719\ttotal: 25.4s\tremaining: 4.55s\n",
      "848:\tlearn: 0.0025711\ttotal: 25.4s\tremaining: 4.52s\n",
      "849:\tlearn: 0.0025708\ttotal: 25.4s\tremaining: 4.49s\n",
      "850:\tlearn: 0.0025703\ttotal: 25.5s\tremaining: 4.46s\n",
      "851:\tlearn: 0.0025693\ttotal: 25.5s\tremaining: 4.43s\n",
      "852:\tlearn: 0.0025692\ttotal: 25.5s\tremaining: 4.4s\n",
      "853:\tlearn: 0.0025689\ttotal: 25.6s\tremaining: 4.37s\n",
      "854:\tlearn: 0.0025683\ttotal: 25.6s\tremaining: 4.34s\n",
      "855:\tlearn: 0.0025676\ttotal: 25.6s\tremaining: 4.31s\n",
      "856:\tlearn: 0.0025670\ttotal: 25.7s\tremaining: 4.28s\n",
      "857:\tlearn: 0.0025669\ttotal: 25.7s\tremaining: 4.25s\n",
      "858:\tlearn: 0.0025658\ttotal: 25.7s\tremaining: 4.22s\n",
      "859:\tlearn: 0.0025640\ttotal: 25.8s\tremaining: 4.19s\n",
      "860:\tlearn: 0.0025635\ttotal: 25.8s\tremaining: 4.16s\n",
      "861:\tlearn: 0.0025625\ttotal: 25.8s\tremaining: 4.13s\n",
      "862:\tlearn: 0.0025613\ttotal: 25.9s\tremaining: 4.1s\n",
      "863:\tlearn: 0.0025610\ttotal: 25.9s\tremaining: 4.07s\n",
      "864:\tlearn: 0.0025594\ttotal: 25.9s\tremaining: 4.04s\n",
      "865:\tlearn: 0.0025589\ttotal: 25.9s\tremaining: 4.01s\n",
      "866:\tlearn: 0.0025583\ttotal: 26s\tremaining: 3.98s\n",
      "867:\tlearn: 0.0025580\ttotal: 26s\tremaining: 3.95s\n",
      "868:\tlearn: 0.0025575\ttotal: 26s\tremaining: 3.92s\n",
      "869:\tlearn: 0.0025572\ttotal: 26.1s\tremaining: 3.89s\n",
      "870:\tlearn: 0.0025568\ttotal: 26.1s\tremaining: 3.87s\n",
      "871:\tlearn: 0.0025563\ttotal: 26.1s\tremaining: 3.83s\n",
      "872:\tlearn: 0.0025562\ttotal: 26.2s\tremaining: 3.8s\n",
      "873:\tlearn: 0.0025553\ttotal: 26.2s\tremaining: 3.77s\n",
      "874:\tlearn: 0.0025551\ttotal: 26.2s\tremaining: 3.74s\n",
      "875:\tlearn: 0.0025546\ttotal: 26.2s\tremaining: 3.71s\n",
      "876:\tlearn: 0.0025545\ttotal: 26.3s\tremaining: 3.68s\n",
      "877:\tlearn: 0.0025542\ttotal: 26.3s\tremaining: 3.65s\n",
      "878:\tlearn: 0.0025528\ttotal: 26.3s\tremaining: 3.62s\n",
      "879:\tlearn: 0.0025522\ttotal: 26.4s\tremaining: 3.59s\n",
      "880:\tlearn: 0.0025514\ttotal: 26.4s\tremaining: 3.56s\n",
      "881:\tlearn: 0.0025505\ttotal: 26.4s\tremaining: 3.53s\n",
      "882:\tlearn: 0.0025493\ttotal: 26.4s\tremaining: 3.5s\n",
      "883:\tlearn: 0.0025491\ttotal: 26.5s\tremaining: 3.47s\n",
      "884:\tlearn: 0.0025488\ttotal: 26.5s\tremaining: 3.44s\n",
      "885:\tlearn: 0.0025486\ttotal: 26.5s\tremaining: 3.41s\n",
      "886:\tlearn: 0.0025481\ttotal: 26.6s\tremaining: 3.38s\n",
      "887:\tlearn: 0.0025478\ttotal: 26.6s\tremaining: 3.35s\n",
      "888:\tlearn: 0.0025470\ttotal: 26.6s\tremaining: 3.32s\n",
      "889:\tlearn: 0.0025459\ttotal: 26.6s\tremaining: 3.29s\n",
      "890:\tlearn: 0.0025454\ttotal: 26.7s\tremaining: 3.26s\n",
      "891:\tlearn: 0.0025451\ttotal: 26.7s\tremaining: 3.23s\n",
      "892:\tlearn: 0.0025449\ttotal: 26.7s\tremaining: 3.2s\n",
      "893:\tlearn: 0.0025442\ttotal: 26.8s\tremaining: 3.17s\n",
      "894:\tlearn: 0.0025434\ttotal: 26.8s\tremaining: 3.14s\n",
      "895:\tlearn: 0.0025431\ttotal: 26.8s\tremaining: 3.11s\n",
      "896:\tlearn: 0.0025429\ttotal: 26.9s\tremaining: 3.08s\n",
      "897:\tlearn: 0.0025428\ttotal: 26.9s\tremaining: 3.06s\n",
      "898:\tlearn: 0.0025425\ttotal: 26.9s\tremaining: 3.03s\n",
      "899:\tlearn: 0.0025419\ttotal: 27s\tremaining: 3s\n",
      "900:\tlearn: 0.0025418\ttotal: 27s\tremaining: 2.97s\n",
      "901:\tlearn: 0.0025410\ttotal: 27s\tremaining: 2.94s\n",
      "902:\tlearn: 0.0025406\ttotal: 27.1s\tremaining: 2.91s\n",
      "903:\tlearn: 0.0025401\ttotal: 27.1s\tremaining: 2.88s\n",
      "904:\tlearn: 0.0025397\ttotal: 27.1s\tremaining: 2.85s\n",
      "905:\tlearn: 0.0025391\ttotal: 27.2s\tremaining: 2.82s\n",
      "906:\tlearn: 0.0025383\ttotal: 27.2s\tremaining: 2.79s\n",
      "907:\tlearn: 0.0025367\ttotal: 27.2s\tremaining: 2.76s\n",
      "908:\tlearn: 0.0025363\ttotal: 27.2s\tremaining: 2.73s\n",
      "909:\tlearn: 0.0025361\ttotal: 27.3s\tremaining: 2.7s\n",
      "910:\tlearn: 0.0025353\ttotal: 27.3s\tremaining: 2.67s\n",
      "911:\tlearn: 0.0025350\ttotal: 27.3s\tremaining: 2.64s\n",
      "912:\tlearn: 0.0025345\ttotal: 27.4s\tremaining: 2.61s\n",
      "913:\tlearn: 0.0025333\ttotal: 27.4s\tremaining: 2.58s\n",
      "914:\tlearn: 0.0025330\ttotal: 27.4s\tremaining: 2.55s\n",
      "915:\tlearn: 0.0025323\ttotal: 27.5s\tremaining: 2.52s\n",
      "916:\tlearn: 0.0025312\ttotal: 27.5s\tremaining: 2.49s\n",
      "917:\tlearn: 0.0025309\ttotal: 27.5s\tremaining: 2.46s\n",
      "918:\tlearn: 0.0025307\ttotal: 27.5s\tremaining: 2.43s\n",
      "919:\tlearn: 0.0025300\ttotal: 27.6s\tremaining: 2.4s\n",
      "920:\tlearn: 0.0025298\ttotal: 27.6s\tremaining: 2.37s\n",
      "921:\tlearn: 0.0025284\ttotal: 27.6s\tremaining: 2.34s\n",
      "922:\tlearn: 0.0025274\ttotal: 27.7s\tremaining: 2.31s\n",
      "923:\tlearn: 0.0025270\ttotal: 27.7s\tremaining: 2.28s\n",
      "924:\tlearn: 0.0025260\ttotal: 27.7s\tremaining: 2.25s\n",
      "925:\tlearn: 0.0025257\ttotal: 27.8s\tremaining: 2.22s\n",
      "926:\tlearn: 0.0025250\ttotal: 27.8s\tremaining: 2.19s\n",
      "927:\tlearn: 0.0025247\ttotal: 27.8s\tremaining: 2.16s\n",
      "928:\tlearn: 0.0025244\ttotal: 27.9s\tremaining: 2.13s\n",
      "929:\tlearn: 0.0025242\ttotal: 27.9s\tremaining: 2.1s\n",
      "930:\tlearn: 0.0025235\ttotal: 27.9s\tremaining: 2.07s\n",
      "931:\tlearn: 0.0025232\ttotal: 28s\tremaining: 2.04s\n",
      "932:\tlearn: 0.0025229\ttotal: 28s\tremaining: 2.01s\n",
      "933:\tlearn: 0.0025225\ttotal: 28s\tremaining: 1.98s\n",
      "934:\tlearn: 0.0025220\ttotal: 28.1s\tremaining: 1.95s\n",
      "935:\tlearn: 0.0025216\ttotal: 28.1s\tremaining: 1.92s\n",
      "936:\tlearn: 0.0025210\ttotal: 28.1s\tremaining: 1.89s\n",
      "937:\tlearn: 0.0025205\ttotal: 28.2s\tremaining: 1.86s\n",
      "938:\tlearn: 0.0025197\ttotal: 28.2s\tremaining: 1.83s\n",
      "939:\tlearn: 0.0025189\ttotal: 28.2s\tremaining: 1.8s\n",
      "940:\tlearn: 0.0025181\ttotal: 28.2s\tremaining: 1.77s\n",
      "941:\tlearn: 0.0025177\ttotal: 28.3s\tremaining: 1.74s\n",
      "942:\tlearn: 0.0025169\ttotal: 28.3s\tremaining: 1.71s\n",
      "943:\tlearn: 0.0025165\ttotal: 28.3s\tremaining: 1.68s\n",
      "944:\tlearn: 0.0025162\ttotal: 28.4s\tremaining: 1.65s\n",
      "945:\tlearn: 0.0025159\ttotal: 28.4s\tremaining: 1.62s\n",
      "946:\tlearn: 0.0025155\ttotal: 28.4s\tremaining: 1.59s\n",
      "947:\tlearn: 0.0025150\ttotal: 28.4s\tremaining: 1.56s\n",
      "948:\tlearn: 0.0025123\ttotal: 28.5s\tremaining: 1.53s\n",
      "949:\tlearn: 0.0025117\ttotal: 28.5s\tremaining: 1.5s\n",
      "950:\tlearn: 0.0025109\ttotal: 28.5s\tremaining: 1.47s\n",
      "951:\tlearn: 0.0025105\ttotal: 28.6s\tremaining: 1.44s\n",
      "952:\tlearn: 0.0025104\ttotal: 28.6s\tremaining: 1.41s\n",
      "953:\tlearn: 0.0025085\ttotal: 28.6s\tremaining: 1.38s\n",
      "954:\tlearn: 0.0025078\ttotal: 28.7s\tremaining: 1.35s\n",
      "955:\tlearn: 0.0025072\ttotal: 28.7s\tremaining: 1.32s\n",
      "956:\tlearn: 0.0025066\ttotal: 28.7s\tremaining: 1.29s\n",
      "957:\tlearn: 0.0025062\ttotal: 28.7s\tremaining: 1.26s\n",
      "958:\tlearn: 0.0025053\ttotal: 28.8s\tremaining: 1.23s\n",
      "959:\tlearn: 0.0025049\ttotal: 28.8s\tremaining: 1.2s\n",
      "960:\tlearn: 0.0025042\ttotal: 28.8s\tremaining: 1.17s\n",
      "961:\tlearn: 0.0025037\ttotal: 28.9s\tremaining: 1.14s\n",
      "962:\tlearn: 0.0025030\ttotal: 28.9s\tremaining: 1.11s\n",
      "963:\tlearn: 0.0025017\ttotal: 28.9s\tremaining: 1.08s\n",
      "964:\tlearn: 0.0025004\ttotal: 28.9s\tremaining: 1.05s\n",
      "965:\tlearn: 0.0025000\ttotal: 29s\tremaining: 1.02s\n",
      "966:\tlearn: 0.0024990\ttotal: 29s\tremaining: 990ms\n",
      "967:\tlearn: 0.0024988\ttotal: 29s\tremaining: 960ms\n",
      "968:\tlearn: 0.0024986\ttotal: 29.1s\tremaining: 930ms\n",
      "969:\tlearn: 0.0024981\ttotal: 29.1s\tremaining: 900ms\n",
      "970:\tlearn: 0.0024979\ttotal: 29.1s\tremaining: 870ms\n",
      "971:\tlearn: 0.0024975\ttotal: 29.2s\tremaining: 840ms\n",
      "972:\tlearn: 0.0024970\ttotal: 29.2s\tremaining: 810ms\n",
      "973:\tlearn: 0.0024967\ttotal: 29.2s\tremaining: 780ms\n",
      "974:\tlearn: 0.0024966\ttotal: 29.3s\tremaining: 750ms\n",
      "975:\tlearn: 0.0024961\ttotal: 29.3s\tremaining: 720ms\n",
      "976:\tlearn: 0.0024951\ttotal: 29.3s\tremaining: 690ms\n",
      "977:\tlearn: 0.0024948\ttotal: 29.3s\tremaining: 660ms\n"
     ]
    },
    {
     "name": "stdout",
     "output_type": "stream",
     "text": [
      "978:\tlearn: 0.0024946\ttotal: 29.4s\tremaining: 630ms\n",
      "979:\tlearn: 0.0024937\ttotal: 29.4s\tremaining: 600ms\n",
      "980:\tlearn: 0.0024932\ttotal: 29.4s\tremaining: 570ms\n",
      "981:\tlearn: 0.0024928\ttotal: 29.5s\tremaining: 540ms\n",
      "982:\tlearn: 0.0024922\ttotal: 29.5s\tremaining: 510ms\n",
      "983:\tlearn: 0.0024911\ttotal: 29.5s\tremaining: 480ms\n",
      "984:\tlearn: 0.0024908\ttotal: 29.5s\tremaining: 450ms\n",
      "985:\tlearn: 0.0024903\ttotal: 29.6s\tremaining: 420ms\n",
      "986:\tlearn: 0.0024897\ttotal: 29.6s\tremaining: 390ms\n",
      "987:\tlearn: 0.0024893\ttotal: 29.6s\tremaining: 360ms\n",
      "988:\tlearn: 0.0024889\ttotal: 29.7s\tremaining: 330ms\n",
      "989:\tlearn: 0.0024881\ttotal: 29.7s\tremaining: 300ms\n",
      "990:\tlearn: 0.0024879\ttotal: 29.7s\tremaining: 270ms\n",
      "991:\tlearn: 0.0024877\ttotal: 29.8s\tremaining: 240ms\n",
      "992:\tlearn: 0.0024869\ttotal: 29.8s\tremaining: 210ms\n",
      "993:\tlearn: 0.0024866\ttotal: 29.8s\tremaining: 180ms\n",
      "994:\tlearn: 0.0024863\ttotal: 29.9s\tremaining: 150ms\n",
      "995:\tlearn: 0.0024849\ttotal: 29.9s\tremaining: 120ms\n",
      "996:\tlearn: 0.0024844\ttotal: 29.9s\tremaining: 90.1ms\n",
      "997:\tlearn: 0.0024841\ttotal: 30s\tremaining: 60ms\n",
      "998:\tlearn: 0.0024839\ttotal: 30s\tremaining: 30ms\n",
      "999:\tlearn: 0.0024832\ttotal: 30s\tremaining: 0us\n"
     ]
    }
   ],
   "source": [
    "# Model Definition\n",
    "cb_base_model = CatBoostClassifier(task_type='GPU')\n",
    "\n",
    "# Model training\n",
    "cb_baseline = cb_base_model.fit( x_training, y_training, cat_features)\n",
    "\n",
    "# Model Prediction\n",
    "yhat_cb_baseline = cb_baseline.predict_proba( x_validation )"
   ]
  },
  {
   "cell_type": "code",
   "execution_count": 26,
   "id": "b73e4d72",
   "metadata": {
    "ExecuteTime": {
     "end_time": "2023-05-05T18:28:35.012197Z",
     "start_time": "2023-05-05T18:28:34.529660Z"
    }
   },
   "outputs": [
    {
     "data": {
      "image/png": "[encoded data removed]",
      "text/plain": [
       "<Figure size 1800x500 with 3 Axes>"
      ]
     },
     "metadata": {},
     "output_type": "display_data"
    }
   ],
   "source": [
    "fig, axs = plt.subplots(ncols= 3, figsize = (18,5))\n",
    "\n",
    "# cumulative gain - Metric for sorting problem\n",
    "skplt.metrics.plot_cumulative_gain(y_validation, yhat_cb_baseline, ax=axs[0],title='Cumulative Gain - LGBM');\n",
    "\n",
    "# Lift Curve\n",
    "skplt.metrics.plot_lift_curve(y_validation, yhat_cb_baseline, ax=axs[1],title='Lift Curve - LGBM');\n",
    "\n",
    "# Roc Curve\n",
    "skplt.metrics.plot_roc(y_validation, yhat_cb_baseline, ax=axs[2], title='ROC-Curve - LGBM');\n",
    "\n",
    "plt.tight_layout()"
   ]
  },
  {
   "cell_type": "code",
   "execution_count": 27,
   "id": "b3e374bd",
   "metadata": {
    "ExecuteTime": {
     "end_time": "2023-05-05T18:28:35.080417Z",
     "start_time": "2023-05-05T18:28:35.036870Z"
    }
   },
   "outputs": [
    {
     "data": {
      "text/html": [
       "<div>\n",
       "<style scoped>\n",
       "    .dataframe tbody tr th:only-of-type {\n",
       "        vertical-align: middle;\n",
       "    }\n",
       "\n",
       "    .dataframe tbody tr th {\n",
       "        vertical-align: top;\n",
       "    }\n",
       "\n",
       "    .dataframe thead th {\n",
       "        text-align: right;\n",
       "    }\n",
       "</style>\n",
       "<table border=\"1\" class=\"dataframe\">\n",
       "  <thead>\n",
       "    <tr style=\"text-align: right;\">\n",
       "      <th></th>\n",
       "      <th>Model Name</th>\n",
       "      <th>Precision_at_K</th>\n",
       "      <th>Recall_at_K</th>\n",
       "    </tr>\n",
       "  </thead>\n",
       "  <tbody>\n",
       "    <tr>\n",
       "      <th>0</th>\n",
       "      <td>CatBoost Baseline Model</td>\n",
       "      <td>0.312934</td>\n",
       "      <td>0.6733</td>\n",
       "    </tr>\n",
       "  </tbody>\n",
       "</table>\n",
       "</div>"
      ],
      "text/plain": [
       "                Model Name  Precision_at_K  Recall_at_K\n",
       "0  CatBoost Baseline Model        0.312934       0.6733"
      ]
     },
     "execution_count": 27,
     "metadata": {},
     "output_type": "execute_result"
    }
   ],
   "source": [
    "# Copy Data\n",
    "perf_valid = x_validation.copy()\n",
    "perf_valid['response'] = y_validation.copy()\n",
    "\n",
    "# Propensity score\n",
    "perf_valid['score'] = yhat_cb_baseline[:,1].tolist()\n",
    "\n",
    "# sorted clients by score\n",
    "perf_valid = perf_valid.sort_values( 'score', ascending=False )\n",
    "\n",
    "# Compute precision at K\n",
    "precision_atK = precision_at_k(perf_valid, k=20000 )\n",
    "\n",
    "# Compute precision at K\n",
    "recall_atK = recall_at_k(perf_valid, k=20000 )\n",
    "\n",
    "cb_baseline_performance = ml_performance('CatBoost Baseline Model', precision_atK, recall_atK )\n",
    "cb_baseline_performance"
   ]
  },
  {
   "cell_type": "markdown",
   "id": "882d3f52",
   "metadata": {},
   "source": [
    "#### XGB Classifier Baseline Model"
   ]
  },
  {
   "cell_type": "code",
   "execution_count": 30,
   "id": "71bcd3c0",
   "metadata": {
    "ExecuteTime": {
     "end_time": "2023-05-05T18:29:40.292652Z",
     "start_time": "2023-05-05T18:28:54.821658Z"
    }
   },
   "outputs": [],
   "source": [
    "# Model Definition\n",
    "xgb_base_model = XGBClassifier(enable_categorical=True, tree_method='gpu_hist')\n",
    "\n",
    "# Model training\n",
    "xgb_baseline = xgb_base_model.fit( x_training, y_training )\n",
    "\n",
    "# Model Prediction\n",
    "yhat_xgb_baseline = xgb_baseline.predict_proba( x_validation )"
   ]
  },
  {
   "cell_type": "code",
   "execution_count": 31,
   "id": "d511cc79",
   "metadata": {
    "ExecuteTime": {
     "end_time": "2023-05-05T18:29:40.803968Z",
     "start_time": "2023-05-05T18:29:40.295521Z"
    }
   },
   "outputs": [
    {
     "data": {
      "image/png": "[encoded data removed]",
      "text/plain": [
       "<Figure size 1800x500 with 3 Axes>"
      ]
     },
     "metadata": {},
     "output_type": "display_data"
    }
   ],
   "source": [
    "fig, axs = plt.subplots(ncols= 3, figsize = (18,5))\n",
    "\n",
    "# cumulative gain - Metric for sorting problem\n",
    "skplt.metrics.plot_cumulative_gain(y_validation, yhat_xgb_baseline, ax=axs[0],title='Cumulative Gain - LGBM');\n",
    "\n",
    "# Lift Curve\n",
    "skplt.metrics.plot_lift_curve(y_validation, yhat_xgb_baseline, ax=axs[1],title='Lift Curve - LGBM');\n",
    "\n",
    "# Roc Curve\n",
    "skplt.metrics.plot_roc(y_validation, yhat_xgb_baseline, ax=axs[2], title='ROC-Curve - LGBM');\n",
    "\n",
    "plt.tight_layout()"
   ]
  },
  {
   "cell_type": "code",
   "execution_count": 32,
   "id": "e182b2b8",
   "metadata": {
    "ExecuteTime": {
     "end_time": "2023-05-05T18:29:40.854968Z",
     "start_time": "2023-05-05T18:29:40.803968Z"
    }
   },
   "outputs": [
    {
     "data": {
      "text/html": [
       "<div>\n",
       "<style scoped>\n",
       "    .dataframe tbody tr th:only-of-type {\n",
       "        vertical-align: middle;\n",
       "    }\n",
       "\n",
       "    .dataframe tbody tr th {\n",
       "        vertical-align: top;\n",
       "    }\n",
       "\n",
       "    .dataframe thead th {\n",
       "        text-align: right;\n",
       "    }\n",
       "</style>\n",
       "<table border=\"1\" class=\"dataframe\">\n",
       "  <thead>\n",
       "    <tr style=\"text-align: right;\">\n",
       "      <th></th>\n",
       "      <th>Model Name</th>\n",
       "      <th>Precision_at_K</th>\n",
       "      <th>Recall_at_K</th>\n",
       "    </tr>\n",
       "  </thead>\n",
       "  <tbody>\n",
       "    <tr>\n",
       "      <th>0</th>\n",
       "      <td>XGB Baseline Model</td>\n",
       "      <td>0.321084</td>\n",
       "      <td>0.690835</td>\n",
       "    </tr>\n",
       "  </tbody>\n",
       "</table>\n",
       "</div>"
      ],
      "text/plain": [
       "           Model Name  Precision_at_K  Recall_at_K\n",
       "0  XGB Baseline Model        0.321084     0.690835"
      ]
     },
     "execution_count": 32,
     "metadata": {},
     "output_type": "execute_result"
    }
   ],
   "source": [
    "# Copy Data\n",
    "perf_valid = x_validation.copy()\n",
    "perf_valid['response'] = y_validation.copy()\n",
    "\n",
    "# Propensity score\n",
    "perf_valid['score'] = yhat_xgb_baseline[:,1].tolist()\n",
    "\n",
    "# sorted clients by score\n",
    "perf_valid = perf_valid.sort_values( 'score', ascending=False )\n",
    "\n",
    "# Compute precision at K\n",
    "precision_atK = precision_at_k(perf_valid, k=20000 )\n",
    "\n",
    "# Compute precision at K\n",
    "recall_atK = recall_at_k(perf_valid, k=20000 )\n",
    "\n",
    "xgb_baseline_performance = ml_performance('XGB Baseline Model', precision_atK, recall_atK )\n",
    "xgb_baseline_performance"
   ]
  },
  {
   "cell_type": "code",
   "execution_count": 33,
   "id": "6c9d4318",
   "metadata": {
    "ExecuteTime": {
     "end_time": "2023-05-05T18:29:40.867065Z",
     "start_time": "2023-05-05T18:29:40.856285Z"
    }
   },
   "outputs": [
    {
     "data": {
      "text/html": [
       "<div>\n",
       "<style scoped>\n",
       "    .dataframe tbody tr th:only-of-type {\n",
       "        vertical-align: middle;\n",
       "    }\n",
       "\n",
       "    .dataframe tbody tr th {\n",
       "        vertical-align: top;\n",
       "    }\n",
       "\n",
       "    .dataframe thead th {\n",
       "        text-align: right;\n",
       "    }\n",
       "</style>\n",
       "<table border=\"1\" class=\"dataframe\">\n",
       "  <thead>\n",
       "    <tr style=\"text-align: right;\">\n",
       "      <th></th>\n",
       "      <th>Model Name</th>\n",
       "      <th>Precision_at_K</th>\n",
       "      <th>Recall_at_K</th>\n",
       "    </tr>\n",
       "  </thead>\n",
       "  <tbody>\n",
       "    <tr>\n",
       "      <th>0</th>\n",
       "      <td>LGBM Baseline Model</td>\n",
       "      <td>0.330983</td>\n",
       "      <td>0.712134</td>\n",
       "    </tr>\n",
       "    <tr>\n",
       "      <th>0</th>\n",
       "      <td>XGB Baseline Model</td>\n",
       "      <td>0.321084</td>\n",
       "      <td>0.690835</td>\n",
       "    </tr>\n",
       "    <tr>\n",
       "      <th>0</th>\n",
       "      <td>CatBoost Baseline Model</td>\n",
       "      <td>0.312934</td>\n",
       "      <td>0.673300</td>\n",
       "    </tr>\n",
       "  </tbody>\n",
       "</table>\n",
       "</div>"
      ],
      "text/plain": [
       "                Model Name  Precision_at_K  Recall_at_K\n",
       "0      LGBM Baseline Model        0.330983     0.712134\n",
       "0       XGB Baseline Model        0.321084     0.690835\n",
       "0  CatBoost Baseline Model        0.312934     0.673300"
      ]
     },
     "execution_count": 33,
     "metadata": {},
     "output_type": "execute_result"
    }
   ],
   "source": [
    "# Baseline Performance for all Machine Leraning Algorithms\n",
    "baseline_performance = pd.concat( [lgbm_baseline_performance, cb_baseline_performance, xgb_baseline_performance] )\n",
    "baseline_performance.sort_values('Precision_at_K', ascending= False)"
   ]
  },
  {
   "cell_type": "markdown",
   "id": "a742dc95",
   "metadata": {},
   "source": [
    "## 9 - HYPERPARAMETER FINE TUNING"
   ]
  },
  {
   "cell_type": "markdown",
   "id": "470b77a0",
   "metadata": {
    "heading_collapsed": true
   },
   "source": [
    "### 9.1 - LGBM Fine Tunning"
   ]
  },
  {
   "cell_type": "markdown",
   "id": "deab9d90",
   "metadata": {},
   "source": [
    "### 9.2 - CatBoost Fine Tunning"
   ]
  },
  {
   "cell_type": "markdown",
   "id": "c1b8e019",
   "metadata": {},
   "source": [
    "### 9.2 - XGBoost Fine Tunning"
   ]
  },
  {
   "cell_type": "markdown",
   "id": "bdb0ee87",
   "metadata": {},
   "source": [
    "###  9.3 - Last model training with all datas"
   ]
  },
  {
   "cell_type": "markdown",
   "id": "f7415b67",
   "metadata": {},
   "source": [
    "#### 9.3.2.1 - Data preparation applied on validation and test datasets."
   ]
  },
  {
   "cell_type": "code",
   "execution_count": null,
   "id": "96633515",
   "metadata": {
    "ExecuteTime": {
     "end_time": "2023-05-01T14:02:29.331456Z",
     "start_time": "2023-05-01T14:02:29.211905Z"
    }
   },
   "outputs": [],
   "source": [
    "x_test = data_preparation( x_test )"
   ]
  },
  {
   "cell_type": "markdown",
   "id": "c982ff47",
   "metadata": {},
   "source": [
    "#### 9.3.2.2 - Union of training and validation data."
   ]
  },
  {
   "cell_type": "code",
   "execution_count": null,
   "id": "9e7dd1b9",
   "metadata": {
    "ExecuteTime": {
     "end_time": "2023-05-01T14:02:36.876062Z",
     "start_time": "2023-05-01T14:02:36.838997Z"
    }
   },
   "outputs": [],
   "source": [
    "x_train_treino = pd.concat([ x_training, x_validation ] )\n",
    "y_train_treino = pd.concat([ y_train, y_validation ] )"
   ]
  },
  {
   "cell_type": "markdown",
   "id": "35a62cfd",
   "metadata": {},
   "source": [
    "#### 9.3.2.3 - Generalization capacity of LGBM Model"
   ]
  },
  {
   "cell_type": "code",
   "execution_count": null,
   "id": "edb17247",
   "metadata": {
    "ExecuteTime": {
     "end_time": "2023-05-01T14:03:02.276890Z",
     "start_time": "2023-05-01T14:02:51.722883Z"
    }
   },
   "outputs": [],
   "source": [
    "# Model Definition\n",
    "lgbm_model = lgbm.LGBMClassifier(**params )\n",
    "\n",
    "# Model Training\n",
    "model_lgbm = lgbm_model.fit( x_train_treino, y_train_treino )"
   ]
  },
  {
   "cell_type": "code",
   "execution_count": null,
   "id": "4a2b3362",
   "metadata": {
    "ExecuteTime": {
     "end_time": "2023-05-01T14:03:03.192451Z",
     "start_time": "2023-05-01T14:03:03.149550Z"
    }
   },
   "outputs": [],
   "source": [
    "# Model Prediction\n",
    "yhat_lgbm = model_lgbm.predict_proba( x_test )"
   ]
  },
  {
   "cell_type": "code",
   "execution_count": null,
   "id": "04cbc24b",
   "metadata": {
    "ExecuteTime": {
     "end_time": "2023-05-01T14:03:05.769720Z",
     "start_time": "2023-05-01T14:03:05.706840Z"
    }
   },
   "outputs": [],
   "source": [
    "# Copy Data\n",
    "df_test = x_test.copy()\n",
    "df_test['response'] = y_test.copy()\n",
    "\n",
    "# Propensity score\n",
    "df_test['score'] = yhat_lgbm[:,1].tolist()\n",
    "\n",
    "# sorted clients by score\n",
    "df_test = df_test.sort_values( 'score', ascending=False )\n",
    "\n",
    "# Compute precision at K\n",
    "precision_atK = precision_at_k(df_test, k=20000 )\n",
    "\n",
    "# Compute precision at K\n",
    "recall_atK = recall_at_k(df_test, k=20000 )\n",
    "\n",
    "lgbm_performance_cv = ml_performance('LGBM Model', precision_atK, recall_atK )\n",
    "lgbm_performance_cv"
   ]
  },
  {
   "cell_type": "code",
   "execution_count": null,
   "id": "ddeb2e5f",
   "metadata": {
    "ExecuteTime": {
     "end_time": "2023-05-01T14:03:18.850934Z",
     "start_time": "2023-05-01T14:03:18.830934Z"
    }
   },
   "outputs": [],
   "source": [
    "yhat_lgbm_curve = yhat_lgbm[:,1]"
   ]
  },
  {
   "cell_type": "code",
   "execution_count": null,
   "id": "90e1e47b",
   "metadata": {
    "ExecuteTime": {
     "end_time": "2023-05-01T14:03:19.487476Z",
     "start_time": "2023-05-01T14:03:19.461357Z"
    }
   },
   "outputs": [],
   "source": [
    "precision, recall, thresholds = precision_recall_curve(y_test, yhat_lgbm_curve)"
   ]
  },
  {
   "cell_type": "code",
   "execution_count": null,
   "id": "e5af7a3d",
   "metadata": {
    "ExecuteTime": {
     "end_time": "2023-05-01T14:03:20.551766Z",
     "start_time": "2023-05-01T14:03:20.181592Z"
    }
   },
   "outputs": [],
   "source": [
    "# plot curves\n",
    "plt.plot(thresholds, precision[:-1], marker='.', label='Precision')\n",
    "plt.plot(thresholds, recall[:-1], marker='.', label='Recall')\n",
    "plt.xlabel('thresholds')\n",
    "plt.ylabel('Precision, Recall')\n",
    "plt.legend()\n",
    "plt.show()"
   ]
  },
  {
   "cell_type": "markdown",
   "id": "22900979",
   "metadata": {
    "heading_collapsed": true
   },
   "source": [
    "#### 9.3.2.4 - Generalization capacity of XGB Model"
   ]
  },
  {
   "cell_type": "code",
   "execution_count": null,
   "id": "18f1961d",
   "metadata": {
    "ExecuteTime": {
     "end_time": "2023-05-01T14:04:07.648942Z",
     "start_time": "2023-05-01T14:03:31.147129Z"
    },
    "hidden": true
   },
   "outputs": [],
   "source": [
    "# XGB Model\n",
    "\n",
    "# model definition\n",
    "model_xgb_cv = XGBClassifier( scale_pos_weight=7.2,\n",
    "                              colsample_bytree = 0.3,\n",
    "                              subsample = 0.5,\n",
    "                              objective='binary:logistic', \n",
    "                              n_estimators=1500, \n",
    "                              max_depth=3,\n",
    "                              min_child_weight = 3,\n",
    "                              eta= 0.03 )\n",
    "\n",
    "# model training\n",
    "model_xgb_cv.fit( x_training, y_train )\n",
    "\n",
    "# model prediction - The generalization POWER\n",
    "yhat_xgb_cv = model_xgb_cv.predict_proba( x_test )"
   ]
  },
  {
   "cell_type": "code",
   "execution_count": null,
   "id": "40cc77d8",
   "metadata": {
    "ExecuteTime": {
     "end_time": "2023-05-01T14:04:07.711451Z",
     "start_time": "2023-05-01T14:04:07.651446Z"
    },
    "hidden": true
   },
   "outputs": [],
   "source": [
    "# Copy Data\n",
    "df_test = x_test.copy()\n",
    "df_test['response'] = y_test.copy()\n",
    "\n",
    "# Propensity score\n",
    "df_test['score'] = yhat_xgb_cv[:,1].tolist()\n",
    "\n",
    "# sorted clients by score\n",
    "df_test = df_test.sort_values( 'score', ascending=False )\n",
    "\n",
    "# Compute precision at K\n",
    "precision_atK = precision_at_k(df_test, k=20000 )\n",
    "\n",
    "# Compute precision at K\n",
    "recall_atK = recall_at_k(df_test, k=20000 )\n",
    "\n",
    "xgb_performance_cv = ml_performance('XGB Model', precision_atK, recall_atK )\n",
    "xgb_performance_cv"
   ]
  },
  {
   "cell_type": "code",
   "execution_count": null,
   "id": "e81de3bf",
   "metadata": {
    "ExecuteTime": {
     "end_time": "2023-05-01T14:04:08.576862Z",
     "start_time": "2023-05-01T14:04:07.714454Z"
    },
    "hidden": true
   },
   "outputs": [],
   "source": [
    "fig, axs = plt.subplots(ncols= 3, figsize = (18,5))\n",
    "\n",
    "# cumulative gain - Metric for sorting problem\n",
    "skplt.metrics.plot_cumulative_gain(y_test, yhat_xgb_cv, ax=axs[0],title='Cumulative Gain - XGB');\n",
    "\n",
    "# Lift Curve\n",
    "skplt.metrics.plot_lift_curve(y_test, yhat_xgb_cv,ax=axs[1],title='Lift Curve - XGB');\n",
    "\n",
    "# Roc Curve\n",
    "skplt.metrics.plot_roc(y_test, yhat_xgb_cv, ax=axs[2], title='ROC-Curve - XGB');\n",
    "\n",
    "plt.tight_layout()"
   ]
  },
  {
   "cell_type": "code",
   "execution_count": null,
   "id": "03a25b92",
   "metadata": {
    "ExecuteTime": {
     "end_time": "2023-05-01T14:04:08.592959Z",
     "start_time": "2023-05-01T14:04:08.578893Z"
    },
    "hidden": true
   },
   "outputs": [],
   "source": [
    "yhat_xgb_curve = yhat_xgb_cv[:,1]"
   ]
  },
  {
   "cell_type": "code",
   "execution_count": null,
   "id": "e0b8047d",
   "metadata": {
    "ExecuteTime": {
     "end_time": "2023-05-01T14:04:08.625130Z",
     "start_time": "2023-05-01T14:04:08.595937Z"
    },
    "hidden": true
   },
   "outputs": [],
   "source": [
    "precision, recall, thresholds = precision_recall_curve( y_test, yhat_xgb_curve)"
   ]
  },
  {
   "cell_type": "code",
   "execution_count": null,
   "id": "04ca8348",
   "metadata": {
    "ExecuteTime": {
     "end_time": "2023-05-01T14:04:08.640358Z",
     "start_time": "2023-05-01T14:04:08.629251Z"
    },
    "hidden": true
   },
   "outputs": [],
   "source": [
    "x_test.shape"
   ]
  },
  {
   "cell_type": "code",
   "execution_count": null,
   "id": "aa49427f",
   "metadata": {
    "ExecuteTime": {
     "end_time": "2023-05-01T14:04:08.655490Z",
     "start_time": "2023-05-01T14:04:08.645370Z"
    },
    "hidden": true
   },
   "outputs": [],
   "source": [
    "thresholds"
   ]
  },
  {
   "cell_type": "code",
   "execution_count": null,
   "id": "1eda4357",
   "metadata": {
    "ExecuteTime": {
     "end_time": "2023-05-01T14:04:09.253843Z",
     "start_time": "2023-05-01T14:04:08.659400Z"
    },
    "hidden": true
   },
   "outputs": [],
   "source": [
    "# plot curves\n",
    "plt.plot(thresholds, precision[:-1], marker='.', label='Precision')\n",
    "plt.plot(thresholds, recall[:-1], marker='.', label='Recall')\n",
    "plt.xlabel('thresholds')\n",
    "plt.ylabel('Precision, Recall')\n",
    "plt.legend()\n",
    "plt.show()"
   ]
  },
  {
   "cell_type": "markdown",
   "id": "d66bf176",
   "metadata": {
    "heading_collapsed": true
   },
   "source": [
    "### 9.1 - Cross Validation"
   ]
  },
  {
   "cell_type": "code",
   "execution_count": null,
   "id": "aaeb314b",
   "metadata": {
    "ExecuteTime": {
     "end_time": "2023-04-19T20:53:36.468517Z",
     "start_time": "2023-04-19T20:53:36.447284Z"
    },
    "hidden": true
   },
   "outputs": [],
   "source": [
    "df_cc = pd.concat([x_train_treino, y_train_treino], axis=1)"
   ]
  },
  {
   "cell_type": "code",
   "execution_count": null,
   "id": "a8ef51e5",
   "metadata": {
    "ExecuteTime": {
     "end_time": "2023-04-19T20:57:38.338190Z",
     "start_time": "2023-04-19T20:53:36.873045Z"
    },
    "hidden": true
   },
   "outputs": [],
   "source": [
    "# Dictioary with models instantiated\n",
    "models = {'XGB Model': model_xgb_cv,\n",
    "          'LGBM Model': model_lgbm }\n",
    "\n",
    "# Cross-validated models performance\n",
    "model_performance = pd.DataFrame()\n",
    "\n",
    "for key in models.keys():\n",
    "    performance_cv = cross_validation(5, key, models[key], df_cc, 20000)\n",
    "    model_performance = pd.concat([model_performance, performance_cv], axis=1)\n",
    "\n",
    "model_performance.T"
   ]
  },
  {
   "cell_type": "markdown",
   "id": "0c9860a3",
   "metadata": {
    "hidden": true
   },
   "source": [
    "#### 9.3.2.5 - Last training with all datas before deploying to production"
   ]
  },
  {
   "cell_type": "code",
   "execution_count": null,
   "id": "e3762813",
   "metadata": {
    "ExecuteTime": {
     "end_time": "2023-04-19T20:58:59.227851Z",
     "start_time": "2023-04-19T20:58:58.656778Z"
    },
    "hidden": true
   },
   "outputs": [],
   "source": [
    "# Union of training, validation and test datasets\n",
    "df_last = df.copy()\n",
    "\n",
    "# Split response variable into a new dataset\n",
    "x_last_training = df_last.drop( 'response', axis=1 )\n",
    "y_last_training = df_last['response'].copy()\n",
    "\n",
    "# Applying data transformation\n",
    "x_last_training = data_preparation( x_last_training )"
   ]
  },
  {
   "cell_type": "code",
   "execution_count": null,
   "id": "c6a383b7",
   "metadata": {
    "ExecuteTime": {
     "end_time": "2023-04-19T20:59:56.215232Z",
     "start_time": "2023-04-19T20:59:00.058906Z"
    },
    "hidden": true
   },
   "outputs": [],
   "source": [
    "# XGB Model Last Training\n",
    "\n",
    "# model definition\n",
    "model_xgb_lv= XGBClassifier( scale_pos_weight=7.2,\n",
    "                              colsample_bytree = 0.3,\n",
    "                              subsample = 0.5,\n",
    "                              objective='binary:logistic', \n",
    "                              n_estimators=1500, \n",
    "                              max_depth=3,\n",
    "                              min_child_weight = 3,\n",
    "                              eta= 0.03 )\n",
    "\n",
    "# model training\n",
    "model_xgb_lv.fit( x_last_training, y_last_training )"
   ]
  },
  {
   "cell_type": "code",
   "execution_count": null,
   "id": "a56d8bc8",
   "metadata": {
    "ExecuteTime": {
     "end_time": "2023-04-19T20:59:56.262585Z",
     "start_time": "2023-04-19T20:59:56.218237Z"
    },
    "hidden": true
   },
   "outputs": [],
   "source": [
    "pickle.dump(model_xgb_lv, open('C:/Users/perot/Documents/ds_repos/projects/Health_Insurance_Cross_Sell/src/models/xgb_model.pkl', 'wb'))"
   ]
  },
  {
   "cell_type": "markdown",
   "id": "27a55409",
   "metadata": {
    "heading_collapsed": true
   },
   "source": [
    "## 10 - DEPLOYING MODEL TO PRODUCTION"
   ]
  },
  {
   "cell_type": "markdown",
   "id": "04e92906",
   "metadata": {
    "hidden": true
   },
   "source": [
    "### 10.1 - HEALTHINSURANCE CLASS"
   ]
  },
  {
   "cell_type": "code",
   "execution_count": null,
   "id": "6fa080b9",
   "metadata": {
    "hidden": true
   },
   "outputs": [],
   "source": [
    "import pickle\n",
    "import inflection\n",
    "import numpy  as np\n",
    "import pandas as pd\n",
    "\n",
    "class HealthInsurance:\n",
    "    \n",
    "    def __init__( self ):\n",
    "        self.home_path                                = ''\n",
    "        self.frequency_encode_policy_sales_scaler     = pickle.load( open( self.home_path + 'src/features/frequency_encode_policy_sales_scaler.pkl', 'rb') )\n",
    "        self.frequency_encode_region_code_scaler      = pickle.load( open( self.home_path + 'src/features/frequency_encode_region_code_scaler.pkl', 'rb') )\n",
    "        self.target_encode_gender_scaler              = pickle.load( open( self.home_path + 'src/features/target_encode_gender_scaler.pkl', 'rb') )\n",
    "        self.age_scaler                               = pickle.load( open( self.home_path + 'src/features/age_scaler.pkl', 'rb') )\n",
    "        self.vintage_scaler                           = pickle.load( open( self.home_path + 'src/features/vintage_scaler.pkl', 'rb') )\n",
    "        self.annual_premium_scaler                    = pickle.load( open( self.home_path + 'src/features/annual_premium_scaler.pkl', 'rb') )\n",
    "\n",
    "    \n",
    "    def data_cleaning( self, df5 ):\n",
    " \n",
    "        ## rename Columns\n",
    "        cols_old = ['id', 'Gender', 'Age', 'Driving_License', 'Region_Code', 'Previously_Insured', 'Vehicle_Age', 'Vehicle_Damage', 'Annual_Premium', 'Policy_Sales_Channel', 'Vintage']\n",
    "\n",
    "        snakecase = lambda x: inflection.underscore( x )\n",
    "        cols_new = list( map( snakecase, cols_old ) )\n",
    "        \n",
    "        # rename\n",
    "        df5.columns = cols_new\n",
    "        \n",
    "        return( df5 )\n",
    "\n",
    "    def feature_engineering( self, df5 ):\n",
    "        \n",
    "        # Changing data types\n",
    "        df5['region_code'] = df5['region_code'].astype(object)\n",
    "        df5['policy_sales_channel'] = df5['policy_sales_channel'].astype(object)\n",
    "        \n",
    "        # Fitting vehicle_age column\n",
    "        df5['vehicle_age'] = df5['vehicle_age'].apply(lambda x: 1 if (x == '< 1 Year') else 2 if (x == '1-2 Year') else 3)\n",
    "\n",
    "        # Fitting vehicle_damage column\n",
    "        df5['vehicle_damage'] = df5['vehicle_damage'].apply(lambda x: 1 if (x == 'Yes') else 0)\n",
    "              \n",
    "        return( df5 )\n",
    "    \n",
    "    def data_preparation( self, df5 ):\n",
    "              \n",
    "        # STANDARDIZATION\n",
    "\n",
    "        # annual premium\n",
    "        df5['annual_premium'] = self.annual_premium_scaler.transform( df5[['annual_premium']].values )\n",
    "\n",
    "\n",
    "        # REESCALING\n",
    "\n",
    "        # age\n",
    "        df5['age'] = self.age_scaler.transform( df5[['age']].values )\n",
    "\n",
    "        # vintage\n",
    "        df5['vintage'] = self.vintage_scaler.transform( df5[['vintage']].values )\n",
    "\n",
    "\n",
    "\n",
    "        # ENCODER\n",
    "\n",
    "        # policy sales channel\n",
    "        df5.loc[:, 'policy_sales_channel'] = df5['policy_sales_channel'].map( self.frequency_encode_policy_sales_scaler )\n",
    "\n",
    "        # region code\n",
    "        df5.loc[:, 'region_code'] = df5['region_code'].map( self.frequency_encode_region_code_scaler )\n",
    "\n",
    "        # gender\n",
    "        df5.loc[:, 'gender'] = df5['gender'].map( self.target_encode_gender_scaler )\n",
    "\n",
    "        # FILL NAN VALUES\n",
    "        df5 = df5.fillna(0)\n",
    "        \n",
    "        # Feature Selection\n",
    "        cols_selected = ['vintage', 'annual_premium','age','region_code','vehicle_damage','policy_sales_channel','previously_insured','vehicle_age']\n",
    "        \n",
    "        return df5[cols_selected]\n",
    "    \n",
    "\n",
    "    def get_prediction( self, model, original_data, test_data ):\n",
    "        # prediction\n",
    "        pred = model.predict_proba( test_data )\n",
    "        \n",
    "        # join pred into the original data\n",
    "        original_data['score'] = pred[:, 1].tolist()\n",
    "        \n",
    "        return original_data.to_json( orient='records', date_format='iso' )"
   ]
  },
  {
   "cell_type": "markdown",
   "id": "13ce5926",
   "metadata": {
    "hidden": true
   },
   "source": [
    "### 10.2 - API HANDLER"
   ]
  },
  {
   "cell_type": "code",
   "execution_count": null,
   "id": "a985f9b0",
   "metadata": {
    "hidden": true
   },
   "outputs": [],
   "source": [
    "import pickle\n",
    "import pandas as pd\n",
    "import os\n",
    "from flask                           import Flask, request, Response\n",
    "from healthinsurance.healthinsurance import HealthInsurance\n",
    "\n",
    "# logading model\n",
    "model = pickle.load( open( 'src/models/xgb_m odel.pkl', 'rb' ) )\n",
    "                          \n",
    "# initialize API\n",
    "app = Flask( __name__ )\n",
    "\n",
    "@app.route( '/healthinsurance/predict', methods=['POST'] )\n",
    "def health_insurance_predict():\n",
    "    test_json = request.get_json()\n",
    "    \n",
    "    if test_json: #there is data\n",
    "               \n",
    "        if isinstance( test_json, dict ): # unique example\n",
    "            test_raw = pd.DataFrame( test_json, index=[0] )\n",
    "    \n",
    "        else:\n",
    "            test_raw = pd.DataFrame( test_json, columns=test_json[0].keys() ) # multiple examples\n",
    "            \n",
    "        # Instantiate Rossmann Class\n",
    "        pipeline = HealthInsurance()\n",
    "\n",
    "        # data cleaning\n",
    "        df1 = pipeline.data_cleaning( test_raw )\n",
    "              \n",
    "        # feature engineering\n",
    "        df2 = pipeline.feature_engineering( df1 )\n",
    "\n",
    "        # Data Preparation\n",
    "        df3 = pipeline.data_preparation( df2 )\n",
    "                              \n",
    "        # prediction\n",
    "        df_response = pipeline.get_prediction( model, test_raw, df3 )\n",
    "        \n",
    "        return df_response\n",
    "        \n",
    "    else:\n",
    "        return Response( '{}', status=200, mimetype='application/json' )\n",
    "\n",
    "if __name__ == '__main__':\n",
    "    app.run('0.0.0.0')\n",
    "\n",
    "#    port = os.environ.get('PORT', 5000)\n",
    "#    app.run( host='0.0.0.0', port=port )"
   ]
  },
  {
   "cell_type": "markdown",
   "id": "0ab1ba52",
   "metadata": {
    "hidden": true
   },
   "source": [
    "### 10.3 - API Tester"
   ]
  },
  {
   "cell_type": "code",
   "execution_count": null,
   "id": "db6e9ca5",
   "metadata": {
    "ExecuteTime": {
     "end_time": "2023-04-19T20:43:28.686223Z",
     "start_time": "2023-04-19T20:43:28.153161Z"
    },
    "hidden": true
   },
   "outputs": [],
   "source": [
    "import requests\n",
    "import pandas as pd"
   ]
  },
  {
   "cell_type": "code",
   "execution_count": null,
   "id": "2f9ef3c7",
   "metadata": {
    "ExecuteTime": {
     "end_time": "2023-04-19T20:43:29.494841Z",
     "start_time": "2023-04-19T20:43:29.314100Z"
    },
    "hidden": true
   },
   "outputs": [],
   "source": [
    "# Load Datasets\n",
    "df_test = pd.read_csv('C:/Users/perot/Documents/ds_repos/projects/Health_Insurance_Cross_Sell/data/raw/test.csv')"
   ]
  },
  {
   "cell_type": "code",
   "execution_count": null,
   "id": "c5d70a53",
   "metadata": {
    "ExecuteTime": {
     "end_time": "2023-04-19T20:43:30.038359Z",
     "start_time": "2023-04-19T20:43:30.026336Z"
    },
    "hidden": true
   },
   "outputs": [],
   "source": [
    "df_test = df_test.sample(10)"
   ]
  },
  {
   "cell_type": "code",
   "execution_count": null,
   "id": "2909572d",
   "metadata": {
    "ExecuteTime": {
     "end_time": "2023-04-19T20:43:31.174664Z",
     "start_time": "2023-04-19T20:43:31.129285Z"
    },
    "hidden": true
   },
   "outputs": [],
   "source": [
    "df_test.head()"
   ]
  },
  {
   "cell_type": "code",
   "execution_count": null,
   "id": "6379bc1f",
   "metadata": {
    "ExecuteTime": {
     "end_time": "2023-04-19T20:43:32.062574Z",
     "start_time": "2023-04-19T20:43:32.051570Z"
    },
    "hidden": true
   },
   "outputs": [],
   "source": [
    "# convert dataframe to json\n",
    "data = json.dumps( df_test.to_dict( orient='records' ) )"
   ]
  },
  {
   "cell_type": "code",
   "execution_count": null,
   "id": "85946966",
   "metadata": {
    "ExecuteTime": {
     "end_time": "2023-04-19T20:43:33.043855Z",
     "start_time": "2023-04-19T20:43:32.930743Z"
    },
    "hidden": true
   },
   "outputs": [],
   "source": [
    "# API Call\n",
    "#url = 'https://healthinsurance-api.onrender.com/healthinsurance/predict'\n",
    "url = 'http://127.0.0.1:5000/healthinsurance/predict'\n",
    "header = {'Content-type': 'application/json' }\n",
    "\n",
    "r = requests.post( url, data=data, headers=header )\n",
    "print( 'Status Code {}'.format( r.status_code ) )"
   ]
  },
  {
   "cell_type": "code",
   "execution_count": null,
   "id": "dbfd728f",
   "metadata": {
    "hidden": true
   },
   "outputs": [],
   "source": [
    "d2 = pd.DataFrame( r.json(), columns=r.json()[0].keys() )"
   ]
  }
 ],
 "metadata": {
  "hide_input": false,
  "kernelspec": {
   "display_name": "Python 3 (ipykernel)",
   "language": "python",
   "name": "python3"
  },
  "language_info": {
   "codemirror_mode": {
    "name": "ipython",
    "version": 3
   },
   "file_extension": ".py",
   "mimetype": "text/x-python",
   "name": "python",
   "nbconvert_exporter": "python",
   "pygments_lexer": "ipython3",
   "version": "3.9.15"
  }
 },
 "nbformat": 4,
 "nbformat_minor": 5
}
