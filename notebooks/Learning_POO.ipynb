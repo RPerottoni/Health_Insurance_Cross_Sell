{
 "cells": [
  {
   "cell_type": "code",
   "execution_count": 11,
   "id": "54d86a22",
   "metadata": {
    "ExecuteTime": {
     "end_time": "2022-12-29T11:32:53.018895Z",
     "start_time": "2022-12-29T11:32:53.002560Z"
    }
   },
   "outputs": [],
   "source": [
    "class Funcionario:\n",
    "    def __init__( self, nome, funcao, salario ):\n",
    "        self.nome = nome\n",
    "        self.funcao = funcao\n",
    "        self.salario = salario\n",
    "        \n",
    "    # setters\n",
    "    def set_nome( self, nome ):\n",
    "        self.nome = nome\n",
    "        return None\n",
    "    \n",
    "    # getters\n",
    "    def get_nome( self ):\n",
    "        return self.nome"
   ]
  },
  {
   "cell_type": "code",
   "execution_count": 12,
   "id": "6eec9c78",
   "metadata": {
    "ExecuteTime": {
     "end_time": "2022-12-29T11:32:55.029750Z",
     "start_time": "2022-12-29T11:32:55.021035Z"
    }
   },
   "outputs": [],
   "source": [
    "ricardo = Funcionario('Ricardo', 'BIM Engineer', 3500)"
   ]
  },
  {
   "cell_type": "code",
   "execution_count": 14,
   "id": "53822eeb",
   "metadata": {
    "ExecuteTime": {
     "end_time": "2022-12-29T11:33:14.658944Z",
     "start_time": "2022-12-29T11:33:14.652965Z"
    }
   },
   "outputs": [],
   "source": [
    "ricardo.set_nome( 'Debora' )"
   ]
  },
  {
   "cell_type": "code",
   "execution_count": 15,
   "id": "84bb8445",
   "metadata": {
    "ExecuteTime": {
     "end_time": "2022-12-29T11:33:22.051026Z",
     "start_time": "2022-12-29T11:33:22.031996Z"
    }
   },
   "outputs": [
    {
     "data": {
      "text/plain": [
       "'Debora'"
      ]
     },
     "execution_count": 15,
     "metadata": {},
     "output_type": "execute_result"
    }
   ],
   "source": [
    "ricardo.get_nome()"
   ]
  },
  {
   "cell_type": "code",
   "execution_count": null,
   "id": "f6e92079",
   "metadata": {},
   "outputs": [],
   "source": []
  }
 ],
 "metadata": {
  "hide_input": false,
  "kernelspec": {
   "display_name": "Python 3 (ipykernel)",
   "language": "python",
   "name": "python3"
  },
  "language_info": {
   "codemirror_mode": {
    "name": "ipython",
    "version": 3
   },
   "file_extension": ".py",
   "mimetype": "text/x-python",
   "name": "python",
   "nbconvert_exporter": "python",
   "pygments_lexer": "ipython3",
   "version": "3.9.15"
  }
 },
 "nbformat": 4,
 "nbformat_minor": 5
}
