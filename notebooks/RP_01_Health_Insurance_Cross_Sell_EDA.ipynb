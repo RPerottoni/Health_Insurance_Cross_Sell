{
 "cells": [
  {
   "cell_type": "markdown",
   "id": "8ba1e0d7",
   "metadata": {},
   "source": [
    "# PA004 - HEALTH INSURANCE CROS-SELL"
   ]
  },
  {
   "cell_type": "markdown",
   "id": "c8ee28ec",
   "metadata": {},
   "source": [
    "Last version of project, according Machine Learning Fundamentals course"
   ]
  },
  {
   "cell_type": "markdown",
   "id": "ce96817c",
   "metadata": {},
   "source": [
    "## 0 - IMPORTS AND FUNCTIONS"
   ]
  },
  {
   "cell_type": "code",
   "execution_count": 1,
   "id": "17f6ae08",
   "metadata": {
    "ExecuteTime": {
     "end_time": "2023-06-27T22:03:21.958053Z",
     "start_time": "2023-06-27T22:03:19.978205Z"
    }
   },
   "outputs": [],
   "source": [
    "import warnings\n",
    "\n",
    "import scikitplot                                             as skplt\n",
    "import matplotlib.patches                                     as mpatches\n",
    "import matplotlib.pyplot                                      as plt\n",
    "import numpy                                                  as np\n",
    "import plotly.express                                         as px\n",
    "import pandas                                                 as pd\n",
    "import seaborn                                                as sns\n",
    "\n",
    "from IPython.core.display    import HTML\n",
    "from IPython.display         import Image\n",
    "\n",
    "warnings.filterwarnings( 'ignore' )"
   ]
  },
  {
   "cell_type": "markdown",
   "id": "43cdef58",
   "metadata": {},
   "source": [
    "### 0.1 - HELPER FUNCTIONS"
   ]
  },
  {
   "cell_type": "code",
   "execution_count": null,
   "id": "cc80304a",
   "metadata": {
    "ExecuteTime": {
     "end_time": "2023-05-05T20:35:02.978667Z",
     "start_time": "2023-05-05T20:35:02.967255Z"
    },
    "code_folding": []
   },
   "outputs": [],
   "source": [
    "def jupyter_settings():\n",
    "    %matplotlib inline\n",
    "    %pylab inline\n",
    "    \n",
    "    plt.style.use( 'bmh' )\n",
    "    plt.rcParams['figure.figsize'] = [12, 6]\n",
    "    plt.rcParams['font.size'] = 24\n",
    "    sns.set(font_scale=2)\n",
    "    display( HTML( '<style>.container {width:100% !important; }</style>') )\n",
    "    pd.options.display.max_columns = None\n",
    "    pd.options.display.max_rows = None\n",
    "    pd.set_option( 'display.expand_frame_repr', False )\n",
    "    sns.set()"
   ]
  },
  {
   "cell_type": "code",
   "execution_count": null,
   "id": "6ab556ae",
   "metadata": {
    "ExecuteTime": {
     "end_time": "2023-05-05T20:35:03.587593Z",
     "start_time": "2023-05-05T20:35:03.560291Z"
    }
   },
   "outputs": [],
   "source": [
    "jupyter_settings()"
   ]
  },
  {
   "cell_type": "markdown",
   "id": "82380eb7",
   "metadata": {
    "cell_style": "center"
   },
   "source": [
    "## 1 - LOADING AND UNDESTANDING DATA"
   ]
  },
  {
   "cell_type": "code",
   "execution_count": 2,
   "id": "c520d31c",
   "metadata": {
    "ExecuteTime": {
     "end_time": "2023-06-27T22:03:23.772555Z",
     "start_time": "2023-06-27T22:03:23.361677Z"
    },
    "cell_style": "center"
   },
   "outputs": [],
   "source": [
    "# All data - Linux\n",
    "#df = pd.read_csv('/home/reng/Documents/ds_repos/Projects/Health_Insurance_Cross_Sell/data/raw/data.csv')\n",
    "\n",
    "# All Data - Windows\n",
    "df = pd.read_csv('C:/Users/perot/Documents/ds_repos/projects/Health_Insurance_Cross_Sell/data/raw/data.csv') "
   ]
  },
  {
   "cell_type": "code",
   "execution_count": 12,
   "id": "c329f0c1",
   "metadata": {
    "ExecuteTime": {
     "end_time": "2023-06-27T22:07:52.985354Z",
     "start_time": "2023-06-27T22:07:52.526863Z"
    }
   },
   "outputs": [
    {
     "data": {
      "text/plain": [
       "<AxesSubplot: xlabel='annual_premium', ylabel='gender'>"
      ]
     },
     "execution_count": 12,
     "metadata": {},
     "output_type": "execute_result"
    },
    {
     "data": {
      "image/png": "[encoded data removed]",
      "text/plain": [
       "<Figure size 640x480 with 1 Axes>"
      ]
     },
     "metadata": {},
     "output_type": "display_data"
    }
   ],
   "source": [
    "sns.boxplot(data=df, x='annual_premium', y='gender')"
   ]
  },
  {
   "cell_type": "code",
   "execution_count": 9,
   "id": "281c3e19",
   "metadata": {
    "ExecuteTime": {
     "end_time": "2023-06-27T22:04:48.718938Z",
     "start_time": "2023-06-27T22:04:48.705939Z"
    }
   },
   "outputs": [
    {
     "data": {
      "text/html": [
       "<div>\n",
       "<style scoped>\n",
       "    .dataframe tbody tr th:only-of-type {\n",
       "        vertical-align: middle;\n",
       "    }\n",
       "\n",
       "    .dataframe tbody tr th {\n",
       "        vertical-align: top;\n",
       "    }\n",
       "\n",
       "    .dataframe thead th {\n",
       "        text-align: right;\n",
       "    }\n",
       "</style>\n",
       "<table border=\"1\" class=\"dataframe\">\n",
       "  <thead>\n",
       "    <tr style=\"text-align: right;\">\n",
       "      <th></th>\n",
       "      <th>id</th>\n",
       "      <th>gender</th>\n",
       "      <th>age</th>\n",
       "      <th>region_code</th>\n",
       "      <th>policy_sales_channel</th>\n",
       "      <th>driving_license</th>\n",
       "      <th>vehicle_age</th>\n",
       "      <th>vehicle_damage</th>\n",
       "      <th>previously_insured</th>\n",
       "      <th>annual_premium</th>\n",
       "      <th>vintage</th>\n",
       "      <th>response</th>\n",
       "    </tr>\n",
       "  </thead>\n",
       "  <tbody>\n",
       "    <tr>\n",
       "      <th>1</th>\n",
       "      <td>13</td>\n",
       "      <td>Female</td>\n",
       "      <td>41</td>\n",
       "      <td>15</td>\n",
       "      <td>14</td>\n",
       "      <td>1</td>\n",
       "      <td>1-2 Year</td>\n",
       "      <td>No</td>\n",
       "      <td>1</td>\n",
       "      <td>31409</td>\n",
       "      <td>221</td>\n",
       "      <td>0</td>\n",
       "    </tr>\n",
       "    <tr>\n",
       "      <th>4</th>\n",
       "      <td>39</td>\n",
       "      <td>Male</td>\n",
       "      <td>45</td>\n",
       "      <td>8</td>\n",
       "      <td>124</td>\n",
       "      <td>1</td>\n",
       "      <td>1-2 Year</td>\n",
       "      <td>Yes</td>\n",
       "      <td>0</td>\n",
       "      <td>42297</td>\n",
       "      <td>264</td>\n",
       "      <td>0</td>\n",
       "    </tr>\n",
       "    <tr>\n",
       "      <th>5</th>\n",
       "      <td>55</td>\n",
       "      <td>Female</td>\n",
       "      <td>44</td>\n",
       "      <td>28</td>\n",
       "      <td>13</td>\n",
       "      <td>1</td>\n",
       "      <td>1-2 Year</td>\n",
       "      <td>Yes</td>\n",
       "      <td>0</td>\n",
       "      <td>45415</td>\n",
       "      <td>73</td>\n",
       "      <td>0</td>\n",
       "    </tr>\n",
       "    <tr>\n",
       "      <th>10</th>\n",
       "      <td>114</td>\n",
       "      <td>Male</td>\n",
       "      <td>50</td>\n",
       "      <td>30</td>\n",
       "      <td>26</td>\n",
       "      <td>1</td>\n",
       "      <td>1-2 Year</td>\n",
       "      <td>Yes</td>\n",
       "      <td>0</td>\n",
       "      <td>34271</td>\n",
       "      <td>229</td>\n",
       "      <td>1</td>\n",
       "    </tr>\n",
       "    <tr>\n",
       "      <th>12</th>\n",
       "      <td>126</td>\n",
       "      <td>Male</td>\n",
       "      <td>49</td>\n",
       "      <td>28</td>\n",
       "      <td>124</td>\n",
       "      <td>1</td>\n",
       "      <td>1-2 Year</td>\n",
       "      <td>Yes</td>\n",
       "      <td>0</td>\n",
       "      <td>2630</td>\n",
       "      <td>88</td>\n",
       "      <td>0</td>\n",
       "    </tr>\n",
       "  </tbody>\n",
       "</table>\n",
       "</div>"
      ],
      "text/plain": [
       "     id  gender  age  region_code  policy_sales_channel  driving_license  \\\n",
       "1    13  Female   41           15                    14                1   \n",
       "4    39    Male   45            8                   124                1   \n",
       "5    55  Female   44           28                    13                1   \n",
       "10  114    Male   50           30                    26                1   \n",
       "12  126    Male   49           28                   124                1   \n",
       "\n",
       "   vehicle_age vehicle_damage  previously_insured  annual_premium  vintage  \\\n",
       "1     1-2 Year             No                   1           31409      221   \n",
       "4     1-2 Year            Yes                   0           42297      264   \n",
       "5     1-2 Year            Yes                   0           45415       73   \n",
       "10    1-2 Year            Yes                   0           34271      229   \n",
       "12    1-2 Year            Yes                   0            2630       88   \n",
       "\n",
       "    response  \n",
       "1          0  \n",
       "4          0  \n",
       "5          0  \n",
       "10         1  \n",
       "12         0  "
      ]
     },
     "execution_count": 9,
     "metadata": {},
     "output_type": "execute_result"
    }
   ],
   "source": [
    "df_af.head()"
   ]
  },
  {
   "cell_type": "code",
   "execution_count": null,
   "id": "1e580eaa",
   "metadata": {},
   "outputs": [],
   "source": []
  },
  {
   "cell_type": "markdown",
   "id": "c71cfb62",
   "metadata": {},
   "source": [
    "### 1.2 - DATA DESCRIPTION"
   ]
  },
  {
   "cell_type": "code",
   "execution_count": null,
   "id": "66adb583",
   "metadata": {
    "ExecuteTime": {
     "end_time": "2023-05-05T20:46:51.262970Z",
     "start_time": "2023-05-05T20:46:51.239748Z"
    }
   },
   "outputs": [],
   "source": [
    "df1 = df.copy()"
   ]
  },
  {
   "cell_type": "code",
   "execution_count": null,
   "id": "5bc2588d",
   "metadata": {
    "ExecuteTime": {
     "end_time": "2023-05-05T20:35:50.719210Z",
     "start_time": "2023-05-05T20:35:50.713030Z"
    }
   },
   "outputs": [],
   "source": [
    "# Data Dimensions\n",
    "print( 'Number of Rows: {}'.format( df1.shape[0] ) )\n",
    "print( 'Numfer of Cols: {}'.format( df1.shape[1] ) )"
   ]
  },
  {
   "cell_type": "code",
   "execution_count": null,
   "id": "829c7ef3",
   "metadata": {
    "ExecuteTime": {
     "end_time": "2023-05-05T20:35:51.529756Z",
     "start_time": "2023-05-05T20:35:51.521323Z"
    }
   },
   "outputs": [],
   "source": [
    "# Data Types\n",
    "df1.dtypes"
   ]
  },
  {
   "cell_type": "code",
   "execution_count": null,
   "id": "b4281e02",
   "metadata": {
    "ExecuteTime": {
     "end_time": "2023-05-05T20:35:52.371300Z",
     "start_time": "2023-05-05T20:35:52.257147Z"
    }
   },
   "outputs": [],
   "source": [
    "# Check NAN Values\n",
    "df1.isna().sum()"
   ]
  },
  {
   "cell_type": "markdown",
   "id": "26fa0687",
   "metadata": {},
   "source": [
    "### 1.3 - DATA DESCRIPTIVE"
   ]
  },
  {
   "cell_type": "code",
   "execution_count": null,
   "id": "4079e9d8",
   "metadata": {
    "ExecuteTime": {
     "end_time": "2023-05-05T20:35:56.803073Z",
     "start_time": "2023-05-05T20:35:56.685405Z"
    }
   },
   "outputs": [],
   "source": [
    "df1.info()"
   ]
  },
  {
   "cell_type": "code",
   "execution_count": null,
   "id": "78001a67",
   "metadata": {
    "ExecuteTime": {
     "end_time": "2023-05-05T20:35:57.199349Z",
     "start_time": "2023-05-05T20:35:57.188395Z"
    }
   },
   "outputs": [],
   "source": [
    "df1.head()"
   ]
  },
  {
   "cell_type": "code",
   "execution_count": null,
   "id": "d95336af",
   "metadata": {
    "ExecuteTime": {
     "end_time": "2023-05-05T20:35:57.774968Z",
     "start_time": "2023-05-05T20:35:57.743141Z"
    }
   },
   "outputs": [],
   "source": [
    "# Select columns where the content is different 0 or 1.\n",
    "num_attributes = df1[['age','annual_premium','vintage']]\n",
    "cat_attributes = df1[['driving_license','region_code','policy_sales_channel','previously_insured','gender','vehicle_age','vehicle_damage']]"
   ]
  },
  {
   "cell_type": "code",
   "execution_count": null,
   "id": "378e2b7a",
   "metadata": {
    "ExecuteTime": {
     "end_time": "2023-05-05T20:35:59.634491Z",
     "start_time": "2023-05-05T20:35:59.073186Z"
    }
   },
   "outputs": [],
   "source": [
    "num_attributes.hist(bins=25, figsize= (10, 5));"
   ]
  },
  {
   "cell_type": "code",
   "execution_count": null,
   "id": "980d63af",
   "metadata": {
    "ExecuteTime": {
     "end_time": "2023-05-05T20:36:09.640061Z",
     "start_time": "2023-05-05T20:36:05.148127Z"
    }
   },
   "outputs": [],
   "source": [
    "# Looking at the distribuition of the following variables.\n",
    "fig, axs = plt.subplots(3, figsize = (8, 10))\n",
    "sns.distplot(df1['age'], ax=axs[0], bins=10)\n",
    "sns.distplot(df1[df1['annual_premium']<100000]['annual_premium'], ax=axs[1])\n",
    "sns.distplot(df1['vintage'], ax=axs[2]);"
   ]
  },
  {
   "cell_type": "code",
   "execution_count": null,
   "id": "edee45f5",
   "metadata": {
    "ExecuteTime": {
     "end_time": "2023-05-05T20:38:54.812273Z",
     "start_time": "2023-05-05T20:38:54.800539Z"
    }
   },
   "outputs": [],
   "source": [
    "# Robust Scaller\n",
    "from sklearn.preprocessing import RobustScaler"
   ]
  },
  {
   "cell_type": "code",
   "execution_count": null,
   "id": "5fcffc4c",
   "metadata": {
    "ExecuteTime": {
     "end_time": "2023-05-05T20:39:05.331749Z",
     "start_time": "2023-05-05T20:39:05.318795Z"
    }
   },
   "outputs": [],
   "source": [
    "rb = RobustScaler()"
   ]
  },
  {
   "cell_type": "code",
   "execution_count": null,
   "id": "b80d289f",
   "metadata": {
    "ExecuteTime": {
     "end_time": "2023-05-05T20:46:59.317755Z",
     "start_time": "2023-05-05T20:46:59.273267Z"
    }
   },
   "outputs": [],
   "source": [
    "df1['annual_premium'] = rb.fit_transform( df1[['annual_premium']].values )"
   ]
  },
  {
   "cell_type": "code",
   "execution_count": null,
   "id": "d60fdc5c",
   "metadata": {
    "ExecuteTime": {
     "end_time": "2023-05-05T20:46:59.909501Z",
     "start_time": "2023-05-05T20:46:59.886448Z"
    }
   },
   "outputs": [],
   "source": [
    "df1['annual_premium'] = numpy.log1p(df1['annual_premium'])"
   ]
  },
  {
   "cell_type": "code",
   "execution_count": null,
   "id": "ba8523d1",
   "metadata": {
    "ExecuteTime": {
     "end_time": "2023-05-05T20:47:04.532913Z",
     "start_time": "2023-05-05T20:47:02.400670Z"
    }
   },
   "outputs": [],
   "source": [
    "sns.distplot(df1['annual_premium'])"
   ]
  },
  {
   "cell_type": "code",
   "execution_count": null,
   "id": "3a83c12d",
   "metadata": {
    "ExecuteTime": {
     "end_time": "2023-05-05T20:36:11.224498Z",
     "start_time": "2023-05-05T20:36:10.608753Z"
    }
   },
   "outputs": [],
   "source": [
    "fig = plt.subplots(figsize = (15,5))\n",
    "sns.countplot(x='region_code', data=df1)"
   ]
  },
  {
   "cell_type": "code",
   "execution_count": null,
   "id": "67d50948",
   "metadata": {
    "ExecuteTime": {
     "end_time": "2023-05-05T20:36:12.388702Z",
     "start_time": "2023-05-05T20:36:11.226390Z"
    }
   },
   "outputs": [],
   "source": [
    "policy_1 = df1['policy_sales_channel'].value_counts().iloc[0:55]\n",
    "policy_1 = policy_1.reset_index()\n",
    "policy_2 = df1['policy_sales_channel'].value_counts().iloc[55:110]\n",
    "policy_2 = policy_2.reset_index()\n",
    "policy_3 = df1['policy_sales_channel'].value_counts().iloc[110:156]\n",
    "policy_3 = policy_3.reset_index()\n",
    "\n",
    "fig, axs = plt.subplots(ncols=3, figsize=(15,15))\n",
    "sns.barplot(y='index', x='policy_sales_channel', data=policy_1, ax=axs[0], orient='h', order=policy_1['index'])\n",
    "sns.barplot(y='index', x='policy_sales_channel', data=policy_2, ax=axs[1], orient='h', order=policy_2['index'])\n",
    "sns.barplot(y='index', x='policy_sales_channel', data=policy_3, ax=axs[2], orient='h', order=policy_3['index'])"
   ]
  },
  {
   "cell_type": "markdown",
   "id": "8a2a7dd3",
   "metadata": {},
   "source": [
    "## 2 - FEATURE ENGINEERING"
   ]
  },
  {
   "cell_type": "code",
   "execution_count": null,
   "id": "c16f684f",
   "metadata": {
    "ExecuteTime": {
     "end_time": "2023-05-01T14:01:32.215419Z",
     "start_time": "2023-05-01T14:01:32.200423Z"
    }
   },
   "outputs": [],
   "source": [
    "df2 = df1.copy()"
   ]
  },
  {
   "cell_type": "code",
   "execution_count": null,
   "id": "5db84aba",
   "metadata": {
    "ExecuteTime": {
     "end_time": "2023-05-01T14:01:33.324942Z",
     "start_time": "2023-05-01T14:01:33.284309Z"
    }
   },
   "outputs": [],
   "source": [
    "# Changing data types\n",
    "df2['region_code'] = df2['region_code'].astype(object)\n",
    "df2['policy_sales_channel'] = df2['policy_sales_channel'].astype(object)"
   ]
  },
  {
   "cell_type": "code",
   "execution_count": null,
   "id": "82e97cfa",
   "metadata": {
    "ExecuteTime": {
     "end_time": "2023-05-01T14:01:34.386128Z",
     "start_time": "2023-05-01T14:01:34.190744Z"
    }
   },
   "outputs": [],
   "source": [
    "# Fitting vehicle_age column\n",
    "df2['vehicle_age'] = df2['vehicle_age'].apply(lambda x: 1 if (x == '< 1 Year') else 2 if (x == '1-2 Year') else 3)\n",
    "\n",
    "# Fitting vehicle_damage column\n",
    "df2['vehicle_damage'] = df2['vehicle_damage'].apply(lambda x: 1 if (x == 'Yes') else 0)"
   ]
  }
 ],
 "metadata": {
  "hide_input": false,
  "kernelspec": {
   "display_name": "Python 3 (ipykernel)",
   "language": "python",
   "name": "python3"
  },
  "language_info": {
   "codemirror_mode": {
    "name": "ipython",
    "version": 3
   },
   "file_extension": ".py",
   "mimetype": "text/x-python",
   "name": "python",
   "nbconvert_exporter": "python",
   "pygments_lexer": "ipython3",
   "version": "3.9.15"
  }
 },
 "nbformat": 4,
 "nbformat_minor": 5
}
