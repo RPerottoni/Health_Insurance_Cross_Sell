{
 "cells": [
  {
   "cell_type": "markdown",
   "metadata": {
    "tags": []
   },
   "source": [
    "# PA004 - HEALTH INSURANCE CROSS-SELL"
   ]
  },
  {
   "cell_type": "markdown",
   "metadata": {
    "tags": []
   },
   "source": [
    "## 0 - IMPORTS"
   ]
  },
  {
   "cell_type": "code",
   "execution_count": null,
   "metadata": {
    "ExecuteTime": {
     "end_time": "2022-12-28T17:30:55.022989Z",
     "start_time": "2022-12-28T17:30:52.596080Z"
    }
   },
   "outputs": [],
   "source": [
    "import warnings\n",
    "import random\n",
    "\n",
    "import pandas                as pd\n",
    "import numpy                 as np\n",
    "import seaborn               as sns\n",
    "import scikitplot            as skplt\n",
    "import plotly.express        as px\n",
    "import matplotlib.patches    as mpatches\n",
    "\n",
    "from IPython.core.display    import HTML\n",
    "from IPython.display         import Image\n",
    "from xgboost                 import XGBClassifier\n",
    "from xgboost                 import XGBRegressor\n",
    "from collections             import Counter\n",
    "from catboost                import CatBoostClassifier\n",
    "\n",
    "from scipy                   import stats                     as ss\n",
    "from matplotlib              import pyplot                    as plt\n",
    "from sklearn                 import preprocessing             as pp\n",
    "from sklearn                 import model_selection           as ms\n",
    "from sklearn                 import ensemble                  as en\n",
    "from sklearn                 import neighbors                 as nh\n",
    "from sklearn                 import linear_model              as lm\n",
    "\n",
    "warnings.filterwarnings('ignore')"
   ]
  },
  {
   "cell_type": "markdown",
   "metadata": {},
   "source": [
    "### 0.1 - Helper Functions"
   ]
  },
  {
   "cell_type": "code",
   "execution_count": null,
   "metadata": {
    "ExecuteTime": {
     "end_time": "2022-12-28T17:31:09.341811Z",
     "start_time": "2022-12-28T17:31:09.313688Z"
    }
   },
   "outputs": [],
   "source": [
    "def recall_at_k (data, k=20000):\n",
    "    # Reset Index\n",
    "    data = data.reset_index( drop=True )\n",
    "\n",
    "    # Create Ranking Order\n",
    "    data['ranking'] = data.index + 1\n",
    "\n",
    "    data['recall_at_k'] = data['response'].cumsum() / data['response'].sum()\n",
    "\n",
    "    return data.loc[k, 'recall_at_k'] \n",
    "\n",
    "def precision_at_k (data, k=20000):\n",
    "    # Reset Index\n",
    "    data = data.reset_index( drop=True )\n",
    "\n",
    "    # Create Ranking Order\n",
    "    data['ranking'] = data.index + 1\n",
    "\n",
    "    data['precision_at_k'] = data['response'].cumsum() / data['ranking']\n",
    "\n",
    "    return data.loc[k, 'precision_at_k']\n",
    "\n",
    "def cramer_v( x, y):\n",
    "    cm = pd.crosstab( x, y).values   \n",
    "    n = cm.sum()\n",
    "    r, k = cm.shape    \n",
    "    \n",
    "    chi2 = ss.chi2_contingency( cm )[0]\n",
    "    chi2corr = max( 0, chi2 - (k-1)*(r-1)/(n-1) )\n",
    "    kcorr = k - (k-1)**2/(n-1)\n",
    "    rcorr = r - (r-1)**2/(n-1) \n",
    "    \n",
    "    return np.sqrt( (chi2corr/n) / ( min( kcorr-1, rcorr-1 ) ) )\n",
    "\n",
    "def prediction_score(model, data):\n",
    "    # Separating train and validation dataset for each kfold\n",
    "    x_train = data.drop(columns=['response'])\n",
    "    y_train = data['response']\n",
    "    \n",
    "    # prediction probability (score)\n",
    "    yhat_proba = model.predict_proba(x_train)[:, 1].tolist()\n",
    "    \n",
    "    # merging score to dataset\n",
    "    data_scored = data.copy()\n",
    "    data_scored['score'] = yhat_proba\n",
    "    \n",
    "    # sort\n",
    "    data_scored = data_scored.sort_values('score', ascending=False)\n",
    "    \n",
    "    # precision and recall\n",
    "    data_scored = data_scored.reset_index(drop=True)\n",
    "    data_scored['n_samples'] = data_scored.index + 1\n",
    "    data_scored['precision_at_k'] = data_scored['response'].cumsum() / data_scored['n_samples']\n",
    "    data_scored['recall_at_k'] = data_scored['response'].cumsum() / data_scored['response'].sum()\n",
    "    \n",
    "    return data_scored\n",
    "\n",
    "def cross_validation(kfold, modelName, model, data, at_k):\n",
    "    # Number of folds\n",
    "    fold=ms.StratifiedKFold(n_splits = kfold, shuffle=True, random_state=42)\n",
    "    \n",
    "    # Performance variables\n",
    "    precision_list = []\n",
    "    recall_list = []\n",
    "    cv_performance = {}\n",
    "    \n",
    "    for train_cv,val_cv in fold.split(data, data['response']):\n",
    "        \n",
    "        # Separating train and validation dataset for each kfold\n",
    "        # training data\n",
    "        x_train_fold = data.iloc[train_cv]\n",
    "        x_train_fold = x_train_fold[cols_selected]\n",
    "        \n",
    "        y_train_fold = data['response'].iloc[train_cv]\n",
    "        \n",
    "        # validation data\n",
    "        x_val_fold = data.iloc[val_cv]\n",
    "        x_val_fold = x_val_fold[cols_selected]\n",
    "        \n",
    "        y_val_fold = data['response'].iloc[val_cv]\n",
    "        \n",
    "        # fitting the model\n",
    "        model_fitted = model.fit(x_train_fold,y_train_fold)\n",
    "        \n",
    "        # getting the prediction probability\n",
    "        x_val_fold['response'] = y_val_fold\n",
    "        val_scored = prediction_score(model_fitted, x_val_fold)\n",
    "        \n",
    "        # Getting precision and recall at k\n",
    "        precision = val_scored.loc[at_k, 'precision_at_k']\n",
    "        recall = val_scored.loc[at_k, 'recall_at_k']\n",
    "        \n",
    "        precision_list.append(precision)\n",
    "        recall_list.append(recall)\n",
    "        \n",
    "    # calculating the mean and std performance of all kfolds\n",
    "    precision_cv = np.round(np.mean(precision_list),4).astype(float)\n",
    "    std_precision_cv = '+/-' + np.round(np.std(precision_list),4).astype(str)\n",
    "    recall_cv = np.round(np.mean(recall_list),4).astype(float)\n",
    "    std_recall_cv = ' +/- ' + np.round(np.std(recall_list),4).astype(str)\n",
    "        \n",
    "    cv_performance[modelName] = [precision_cv, std_precision_cv, recall_cv, std_recall_cv]\n",
    "    model_performance_cv = pd.DataFrame(cv_performance, index=['precision_at_k', 'std_precision', 'recall_at_k', 'std_recall'])\n",
    "\n",
    "    return model_performance_cv\n",
    "\n",
    "def ml_performance( model_name, precision_atK, recall_atK ):\n",
    "    \n",
    "    return pd.DataFrame( {'Model Name': model_name,\n",
    "                          'Precision_at_K': precision_atK,\n",
    "                          'Recall_at_K': recall_atK}, index=[0])"
   ]
  },
  {
   "cell_type": "code",
   "execution_count": null,
   "metadata": {
    "ExecuteTime": {
     "end_time": "2022-12-28T17:31:11.232241Z",
     "start_time": "2022-12-28T17:31:11.225871Z"
    }
   },
   "outputs": [],
   "source": [
    "sns.set_theme()"
   ]
  },
  {
   "cell_type": "markdown",
   "metadata": {
    "tags": []
   },
   "source": [
    "## 1 - DATAS"
   ]
  },
  {
   "cell_type": "code",
   "execution_count": null,
   "metadata": {
    "ExecuteTime": {
     "end_time": "2022-12-28T22:31:12.323142Z",
     "start_time": "2022-12-28T22:31:11.869184Z"
    }
   },
   "outputs": [],
   "source": [
    "# Linux\n",
    "#df = pd.read_csv('/home/reng/Documents/ds_repos/projects/Health_Insurance_Cross_Sell/data/raw/data.csv')\n",
    "\n",
    "# Train Datas - Windows\n",
    "df = pd.read_csv('C:/Users/perot/Documents/ds_repos/projects/Health_Insurance_Cross_Sell/data/raw/data.csv')\n",
    "\n",
    "# Test Datas - Windows\n",
    "#df_test = pd.read_csv('C:/Users/perot/Documents/ds_repos/projects/Health_Insurance_Cross_Sell/data/raw/test.csv')"
   ]
  },
  {
   "cell_type": "markdown",
   "metadata": {
    "ExecuteTime": {
     "end_time": "2022-09-06T21:35:20.287676Z",
     "start_time": "2022-09-06T21:35:20.280308Z"
    },
    "tags": []
   },
   "source": [
    "### 1.2 - Data Description"
   ]
  },
  {
   "cell_type": "markdown",
   "metadata": {},
   "source": [
    "#### 1.2.1 - Data Dimensions"
   ]
  },
  {
   "cell_type": "code",
   "execution_count": null,
   "metadata": {
    "ExecuteTime": {
     "end_time": "2022-12-28T12:13:43.555479Z",
     "start_time": "2022-12-28T12:13:43.545310Z"
    }
   },
   "outputs": [],
   "source": [
    "df.shape"
   ]
  },
  {
   "cell_type": "markdown",
   "metadata": {},
   "source": [
    "#### 1.2.2 - Data Types"
   ]
  },
  {
   "cell_type": "code",
   "execution_count": null,
   "metadata": {
    "ExecuteTime": {
     "end_time": "2022-12-28T12:13:44.178656Z",
     "start_time": "2022-12-28T12:13:44.146073Z"
    }
   },
   "outputs": [],
   "source": [
    "df.dtypes"
   ]
  },
  {
   "cell_type": "markdown",
   "metadata": {},
   "source": [
    "#### 1.2.3 - Check NA"
   ]
  },
  {
   "cell_type": "code",
   "execution_count": null,
   "metadata": {
    "ExecuteTime": {
     "end_time": "2022-12-28T12:13:45.505616Z",
     "start_time": "2022-12-28T12:13:45.293313Z"
    }
   },
   "outputs": [],
   "source": [
    "df.isna().sum()"
   ]
  },
  {
   "cell_type": "markdown",
   "metadata": {
    "tags": []
   },
   "source": [
    "#### 1.2.4 - Data Descriptive"
   ]
  },
  {
   "cell_type": "code",
   "execution_count": null,
   "metadata": {
    "ExecuteTime": {
     "end_time": "2022-12-28T12:13:46.816893Z",
     "start_time": "2022-12-28T12:13:46.770527Z"
    }
   },
   "outputs": [],
   "source": [
    "df['vehicle_age'].unique()"
   ]
  },
  {
   "cell_type": "code",
   "execution_count": null,
   "metadata": {
    "ExecuteTime": {
     "end_time": "2022-12-28T12:13:47.083332Z",
     "start_time": "2022-12-28T12:13:47.048394Z"
    }
   },
   "outputs": [],
   "source": [
    "num_attributes = df.select_dtypes( include=[ 'int32', 'int64', 'float64' ] )\n",
    "cat_attributes = df.select_dtypes( exclude=[ 'object'] )"
   ]
  },
  {
   "cell_type": "code",
   "execution_count": null,
   "metadata": {
    "ExecuteTime": {
     "end_time": "2022-12-28T12:13:50.876796Z",
     "start_time": "2022-12-28T12:13:47.625309Z"
    }
   },
   "outputs": [],
   "source": [
    "num_attributes.hist(bins=25);"
   ]
  },
  {
   "cell_type": "code",
   "execution_count": null,
   "metadata": {
    "ExecuteTime": {
     "end_time": "2022-12-28T12:13:51.874277Z",
     "start_time": "2022-12-28T12:13:50.880919Z"
    }
   },
   "outputs": [],
   "source": [
    "# Central Tendency - mean, median\n",
    "ct1 = pd.DataFrame( num_attributes.apply( np.mean ) ).T\n",
    "ct2 = pd.DataFrame( num_attributes.apply( np.median ) ).T\n",
    "\n",
    "# Dispersion - std, min, max, range, skew, kurtosis\n",
    "d1 = pd.DataFrame( num_attributes.apply( np.std ) ).T\n",
    "d2 = pd.DataFrame( num_attributes.apply( min ) ).T\n",
    "d3 = pd.DataFrame( num_attributes.apply( max ) ).T\n",
    "d4 = pd.DataFrame( num_attributes.apply( lambda x: x.max() - x.min() ) ).T\n",
    "d5 = pd.DataFrame( num_attributes.apply( lambda x: x.skew() ) ).T\n",
    "d6 = pd.DataFrame( num_attributes.apply( lambda x: x.kurtosis() ) ).T\n",
    "\n",
    "# Concatenar\n",
    "m = pd.concat( [ d2, d3, d4, ct1, ct2, d1, d5, d6 ] ).T.reset_index()\n",
    "m.columns = ['attributes', 'min', 'max', 'range', 'mean', 'median', 'std', 'skew', 'kurtosis']\n",
    "m"
   ]
  },
  {
   "cell_type": "markdown",
   "metadata": {
    "tags": []
   },
   "source": [
    "## 2 - FEATURE ENGINEERING"
   ]
  },
  {
   "cell_type": "code",
   "execution_count": null,
   "metadata": {
    "ExecuteTime": {
     "end_time": "2022-12-28T17:31:22.767964Z",
     "start_time": "2022-12-28T17:31:22.737698Z"
    }
   },
   "outputs": [],
   "source": [
    "df2 = df.copy()"
   ]
  },
  {
   "cell_type": "code",
   "execution_count": null,
   "metadata": {
    "ExecuteTime": {
     "end_time": "2022-12-28T17:31:23.221811Z",
     "start_time": "2022-12-28T17:31:22.940254Z"
    }
   },
   "outputs": [],
   "source": [
    "# Ajustando coluna vehicle_age\n",
    "df2['vehicle_age'] = df2['vehicle_age'].apply(lambda x: 1 if (x == '< 1 Year') else\n",
    "                                                        2 if (x == '1-2 Year') else\n",
    "                                                        3)\n",
    "# Ajustando coluna vehicle_damage\n",
    "df2['vehicle_damage'] = df2['vehicle_damage'].apply(lambda x: 1 if (x == 'Yes') else 0)"
   ]
  },
  {
   "cell_type": "markdown",
   "metadata": {
    "ExecuteTime": {
     "end_time": "2022-11-06T12:35:53.287597Z",
     "start_time": "2022-11-06T12:35:53.278942Z"
    },
    "heading_collapsed": true
   },
   "source": [
    "## 3 - DATA FILTERING"
   ]
  },
  {
   "cell_type": "code",
   "execution_count": null,
   "metadata": {
    "ExecuteTime": {
     "end_time": "2022-12-28T17:31:24.453679Z",
     "start_time": "2022-12-28T17:31:24.416313Z"
    },
    "hidden": true
   },
   "outputs": [],
   "source": [
    "df3 = df2.copy()"
   ]
  },
  {
   "cell_type": "markdown",
   "metadata": {
    "heading_collapsed": true
   },
   "source": [
    "## 4 - EDA"
   ]
  },
  {
   "cell_type": "code",
   "execution_count": null,
   "metadata": {
    "ExecuteTime": {
     "end_time": "2022-12-28T17:31:27.070110Z",
     "start_time": "2022-12-28T17:31:27.049229Z"
    },
    "hidden": true
   },
   "outputs": [],
   "source": [
    "df4 = df3.copy()"
   ]
  },
  {
   "cell_type": "markdown",
   "metadata": {
    "ExecuteTime": {
     "end_time": "2022-11-06T11:16:01.220405Z",
     "start_time": "2022-11-06T11:16:01.143332Z"
    },
    "heading_collapsed": true,
    "hidden": true
   },
   "source": [
    "### 4.1 -  Univariate Analysis"
   ]
  },
  {
   "cell_type": "code",
   "execution_count": null,
   "metadata": {
    "hidden": true
   },
   "outputs": [],
   "source": [
    "plt.figure(figsize=(8,6))\n",
    "plt.xticks(rotation=45)\n",
    "sns.set_theme(style=\"darkgrid\")\n",
    "sns.lineplot(data=df_bitcoin, x='date', y='price(USD)', color='red')"
   ]
  },
  {
   "cell_type": "code",
   "execution_count": null,
   "metadata": {
    "ExecuteTime": {
     "end_time": "2022-12-27T22:02:33.692252Z",
     "start_time": "2022-12-27T22:02:33.507377Z"
    },
    "hidden": true
   },
   "outputs": [],
   "source": [
    "# response\n",
    "one = df4[['id','response']].groupby('response').count().reset_index()\n",
    "\n",
    "plt.figure(figsize=(7,))\n",
    "sns.barplot( x='response', y='id', data=one)"
   ]
  },
  {
   "cell_type": "code",
   "execution_count": null,
   "metadata": {
    "ExecuteTime": {
     "end_time": "2022-12-27T22:03:19.964182Z",
     "start_time": "2022-12-27T22:03:18.196271Z"
    },
    "hidden": true
   },
   "outputs": [],
   "source": [
    "# 'age'\n",
    "plt.subplot(1,3,1)\n",
    "sns.boxplot( x='response', y='age', data=df4)\n",
    "\n",
    "plt.subplot(1,3,2)\n",
    "aux1 = df4.loc[df4['response'] == 0, 'age']\n",
    "sns.histplot(aux1)\n",
    "\n",
    "plt.subplot(1,3,3)\n",
    "aux1 = df4.loc[df4['response'] == 1, 'age']\n",
    "sns.histplot(aux1)"
   ]
  },
  {
   "cell_type": "code",
   "execution_count": null,
   "metadata": {
    "ExecuteTime": {
     "end_time": "2022-12-27T22:02:51.925438Z",
     "start_time": "2022-12-27T22:02:49.922823Z"
    },
    "hidden": true
   },
   "outputs": [],
   "source": [
    "# 'annual_premium'\n",
    "plt.subplot(1,3,1)\n",
    "aux = df4[df4['annual_premium'] < 80000]\n",
    "sns.boxplot( x='response', y='annual_premium', data=aux)\n",
    "\n",
    "plt.subplot(1,3,2)\n",
    "aux = df4[(df4['annual_premium'] > 10000) & (df4['annual_premium'] < 80000)]\n",
    "aux1 = aux.loc[aux['response'] == 0, 'annual_premium']\n",
    "sns.histplot(aux1)\n",
    "\n",
    "plt.subplot(1,3,3)\n",
    "aux1 = aux.loc[aux['response'] == 1, 'annual_premium']\n",
    "sns.histplot(aux1)"
   ]
  },
  {
   "cell_type": "code",
   "execution_count": null,
   "metadata": {
    "ExecuteTime": {
     "end_time": "2022-12-27T22:03:30.013397Z",
     "start_time": "2022-12-27T22:03:29.763322Z"
    },
    "hidden": true
   },
   "outputs": [],
   "source": [
    "# 'driving_license'\n",
    "aux = df4[['driving_license', 'response']].groupby('response').sum().reset_index()\n",
    "\n",
    "plt.figure(figsize=(7,5))\n",
    "sns.barplot( x='response', y='driving_license', data=aux)"
   ]
  },
  {
   "cell_type": "code",
   "execution_count": null,
   "metadata": {
    "ExecuteTime": {
     "end_time": "2022-12-27T22:03:34.782754Z",
     "start_time": "2022-12-27T22:03:34.446881Z"
    },
    "hidden": true
   },
   "outputs": [],
   "source": [
    "#'region_code'\n",
    "aux = df4[['id','region_code','response']].groupby(['region_code','response']).count().reset_index()\n",
    "plt.figure(figsize=(7,5))\n",
    "sns.scatterplot( x='region_code', y='id', hue='response', data=aux )"
   ]
  },
  {
   "cell_type": "code",
   "execution_count": null,
   "metadata": {
    "ExecuteTime": {
     "end_time": "2022-12-27T22:03:40.275991Z",
     "start_time": "2022-12-27T22:03:39.995241Z"
    },
    "hidden": true
   },
   "outputs": [],
   "source": [
    "# 'previously_insured'\n",
    "pi = pd.crosstab( df4['previously_insured'], df4['response'] ).apply( lambda x: x / x.sum(), axis=1 )\n",
    "pi_stack = pi.stack().reset_index().rename(columns={0:'value'})\n",
    "plt.figure(figsize=(7,5))\n",
    "sns.barplot( x= pi_stack.previously_insured, y= pi_stack.value, hue=pi_stack.response)"
   ]
  },
  {
   "cell_type": "code",
   "execution_count": null,
   "metadata": {
    "ExecuteTime": {
     "end_time": "2022-12-27T22:03:44.880367Z",
     "start_time": "2022-12-27T22:03:44.542608Z"
    },
    "hidden": true
   },
   "outputs": [],
   "source": [
    "#'gender'\n",
    "gen = pd.crosstab( df4['gender'], df4['response'] ).apply( lambda x: x / x.sum(), axis=1 )\n",
    "gen_stack = gen.stack().reset_index().rename(columns={0:'value'}) \n",
    "plt.figure(figsize=(7,5))\n",
    "sns.barplot( x= gen_stack.gender, y= gen_stack.value, hue=gen_stack.response )"
   ]
  },
  {
   "cell_type": "code",
   "execution_count": null,
   "metadata": {
    "ExecuteTime": {
     "end_time": "2022-12-27T22:03:49.575566Z",
     "start_time": "2022-12-27T22:03:49.322904Z"
    },
    "hidden": true
   },
   "outputs": [],
   "source": [
    "# 'vehicle_age'\n",
    "veh_age = df4[['vehicle_age','response']].value_counts( normalize=True ).reset_index()\n",
    "veh_age = veh_age.rename(columns={0:'value'}) \n",
    "plt.figure(figsize=(7,5))\n",
    "sns.barplot( x= veh_age.vehicle_age, y= veh_age.value, hue=veh_age.response )"
   ]
  },
  {
   "cell_type": "code",
   "execution_count": null,
   "metadata": {
    "ExecuteTime": {
     "end_time": "2022-12-27T22:03:55.436137Z",
     "start_time": "2022-12-27T22:03:55.151393Z"
    },
    "hidden": true
   },
   "outputs": [],
   "source": [
    "# 'vehicle_damage'\n",
    "veh_dam = pd.crosstab( df4['vehicle_damage'], df4['response'] ).apply( lambda x: x / x.sum(), axis=1 )\n",
    "veh_dam = veh_dam.stack().reset_index().rename(columns={0:'value'})\n",
    "plt.figure(figsize=(7,5))\n",
    "sns.barplot( x= veh_dam.vehicle_damage, y= veh_dam.value, hue=veh_dam.response )"
   ]
  },
  {
   "cell_type": "code",
   "execution_count": null,
   "metadata": {
    "ExecuteTime": {
     "end_time": "2022-12-27T22:05:01.300421Z",
     "start_time": "2022-12-27T22:04:56.350915Z"
    },
    "hidden": true
   },
   "outputs": [],
   "source": [
    "# 'policy_sales_channel'\n",
    "# set the figure size\n",
    "plt.figure(figsize=(25, 10))\n",
    "\n",
    "# from raw value to percentage\n",
    "total = df4.groupby('policy_sales_channel')['id'].count().reset_index()\n",
    "response_1 = df4.loc[df4.response == 1 ].groupby('policy_sales_channel')['id'].count().reset_index()\n",
    "response_0 = df4.loc[df4.response == 0 ].groupby('policy_sales_channel')['response'].sum().reset_index()\n",
    "resp = pd.merge(response_1, response_0, how = 'outer', on = 'policy_sales_channel')\n",
    "resp['id'] = resp['id'].fillna(0)\n",
    "resp = resp.sort_values(by='policy_sales_channel')\n",
    "resp['id'] = [i / j * 100 for i,j in zip(resp['id'], total['id'])]\n",
    "total['id'] = [i / j * 100 for i,j in zip(total['id'], total['id'])]\n",
    "\n",
    "# bar chart 1 -> top bars (group of 'smoker=No')\n",
    "bar1 = sns.barplot(x=\"policy_sales_channel\",  y=\"id\", data=total, color='darkblue')\n",
    "\n",
    "# bar chart 2 -> bottom bars (group of 'smoker=Yes')\n",
    "bar2 = sns.barplot(x=\"policy_sales_channel\", y=\"id\", data=resp, color='lightblue')\n",
    "\n",
    "# add legend\n",
    "plt.xticks(rotation=90)\n",
    "top_bar = mpatches.Patch(color='darkblue', label='response = No')\n",
    "bottom_bar = mpatches.Patch(color='lightblue', label='response = Yes')\n",
    "plt.legend(handles=[top_bar, bottom_bar])\n",
    "\n",
    "# show the graph\n",
    "plt.show()"
   ]
  },
  {
   "cell_type": "code",
   "execution_count": null,
   "metadata": {
    "ExecuteTime": {
     "end_time": "2022-12-27T22:12:37.241102Z",
     "start_time": "2022-12-27T22:12:28.891449Z"
    },
    "hidden": true
   },
   "outputs": [],
   "source": [
    "# 'vintage'\n",
    "plt.subplot( 1,3,1 )\n",
    "sns.barplot( x='response', y='vintage', data=df4)\n",
    "\n",
    "plt.subplot( 1,3,2 )\n",
    "aux = df4.loc[df4['response'] == 0, 'vintage']\n",
    "sns.histplot( aux )\n",
    "\n",
    "plt.subplot( 1,3,3 )\n",
    "aux = df4.loc[df4['response'] == 1, 'vintage']\n",
    "sns.histplot( aux )"
   ]
  },
  {
   "cell_type": "markdown",
   "metadata": {
    "heading_collapsed": true,
    "hidden": true
   },
   "source": [
    "### 4.2 - Bivariate Analysis"
   ]
  },
  {
   "cell_type": "code",
   "execution_count": null,
   "metadata": {
    "ExecuteTime": {
     "end_time": "2022-12-27T22:12:43.513340Z",
     "start_time": "2022-12-27T22:12:43.473400Z"
    },
    "hidden": true
   },
   "outputs": [],
   "source": [
    "# 1. [GENDER] O percentual de homens que ja tiveram seu veiculo danificado é 30% maior do que o percentual de mulheres que já tiveram o carro danificado.\n",
    "\n",
    "damage = df4[df4['vehicle_damage'] == 1]\n",
    "damage = damage[['gender','vehicle_damage']].groupby('gender').count().reset_index()\n",
    "damage['percentual'] = damage['vehicle_damage']/damage['vehicle_damage'].sum()*100\n",
    "damage"
   ]
  },
  {
   "cell_type": "code",
   "execution_count": null,
   "metadata": {
    "ExecuteTime": {
     "end_time": "2022-12-27T22:12:44.731421Z",
     "start_time": "2022-12-27T22:12:44.693420Z"
    },
    "hidden": true
   },
   "outputs": [],
   "source": [
    "# 2. [GENDER] Os clientes homens são, na média, 5 anos mais velhos que clientes mulheres.\n",
    "df4[['gender','age']].groupby('gender').mean().reset_index()"
   ]
  },
  {
   "cell_type": "code",
   "execution_count": null,
   "metadata": {
    "ExecuteTime": {
     "end_time": "2022-12-27T22:12:44.983960Z",
     "start_time": "2022-12-27T22:12:44.911959Z"
    },
    "hidden": true
   },
   "outputs": [],
   "source": [
    "# 3. [GENDER] Mulheres mais velhas tem carros mais novos.\n",
    "hypo_3 = df2[df2['gender'] =='Female']\n",
    "hypo_3[['age','vehicle_age']].groupby('vehicle_age').mean().reset_index()"
   ]
  },
  {
   "cell_type": "code",
   "execution_count": null,
   "metadata": {
    "ExecuteTime": {
     "end_time": "2022-12-27T22:12:45.156955Z",
     "start_time": "2022-12-27T22:12:45.104976Z"
    },
    "hidden": true
   },
   "outputs": [],
   "source": [
    "# 4. [GENDER] Mulheres tem maior interesse em adquirir seguro de automóveis.\n",
    "df2[['gender','response','id']].groupby(['gender','response']).count().reset_index()"
   ]
  },
  {
   "cell_type": "code",
   "execution_count": null,
   "metadata": {
    "ExecuteTime": {
     "end_time": "2022-12-27T22:12:45.363382Z",
     "start_time": "2022-12-27T22:12:45.318378Z"
    },
    "hidden": true
   },
   "outputs": [],
   "source": [
    "# 5. [GENDER] O percentual de clientes sem carteira de motorista é maior em relação as mulheres do que em relação aos homens.\n",
    "df2[['gender','driving_license','id']].groupby(['gender','driving_license']).count().reset_index()"
   ]
  },
  {
   "cell_type": "code",
   "execution_count": null,
   "metadata": {
    "ExecuteTime": {
     "end_time": "2022-12-27T22:12:45.552238Z",
     "start_time": "2022-12-27T22:12:45.532270Z"
    },
    "hidden": true
   },
   "outputs": [],
   "source": [
    "# 6. [AGE] Todos cliente com idade maior que 55 anos gostariam de adquirir seguro veicular.\n",
    "hypo_6 = df2[(df2['age'] > 55)]\n",
    "\n",
    "hypo_6[['response','id']].groupby('response').count().reset_index()"
   ]
  },
  {
   "cell_type": "code",
   "execution_count": null,
   "metadata": {
    "ExecuteTime": {
     "end_time": "2022-12-27T22:12:45.773302Z",
     "start_time": "2022-12-27T22:12:45.737262Z"
    },
    "hidden": true
   },
   "outputs": [],
   "source": [
    "# 7. [AGE] Clientes acima de 35 anos pagam 20% menos do que clientes com idade inferior.\n",
    "one = df2[df2['age'] > 35]['annual_premium'].mean()\n",
    "two = df2[df2['age'] < 35]['annual_premium'].mean()\n",
    "\n",
    "print(one, two)\n",
    "result = (one/two - 1)*100\n",
    "result"
   ]
  },
  {
   "cell_type": "code",
   "execution_count": null,
   "metadata": {
    "ExecuteTime": {
     "end_time": "2022-12-27T22:12:45.974611Z",
     "start_time": "2022-12-27T22:12:45.939524Z"
    },
    "hidden": true
   },
   "outputs": [],
   "source": [
    "# 8. [AGE] 15% das pessoas com menos de 50 anos tem interesse em adquirir seguro.\n",
    "q8 = df2[(df2['age']<=50)]\n",
    "one = q8['id'].count()\n",
    "two = q8[q8['response'] == 1]['id'].count()\n",
    "result = (two/one)*100\n",
    "result"
   ]
  },
  {
   "cell_type": "code",
   "execution_count": null,
   "metadata": {
    "ExecuteTime": {
     "end_time": "2022-12-27T22:12:46.176945Z",
     "start_time": "2022-12-27T22:12:46.143937Z"
    },
    "hidden": true
   },
   "outputs": [],
   "source": [
    "# 9. [AGE] 80% dos clientes com menos de 25 anos não tem interesse em adquirir seguro.\n",
    "q9 = df2[(df2['age']<=25)]\n",
    "one = q9['id'].count() \n",
    "two = q9[q9['response'] == 0]['id'].count()\n",
    "result = (two/one)*100\n",
    "result"
   ]
  },
  {
   "cell_type": "code",
   "execution_count": null,
   "metadata": {
    "ExecuteTime": {
     "end_time": "2022-12-27T22:12:46.380125Z",
     "start_time": "2022-12-27T22:12:46.345125Z"
    },
    "hidden": true
   },
   "outputs": [],
   "source": [
    "# 10. [VEHICLE DAMAGE] 70% dos clientes que ja danificaram seu carro tem menos de 30 anos.\n",
    "q10 = df2[(df2['vehicle_damage']==1)]\n",
    "one = q10[q10['age']<= 30]['id'].count()\n",
    "two = q10['id'].count()\n",
    "result = (one/two)*100\n",
    "result"
   ]
  },
  {
   "cell_type": "code",
   "execution_count": null,
   "metadata": {
    "ExecuteTime": {
     "end_time": "2022-12-27T22:12:46.583966Z",
     "start_time": "2022-12-27T22:12:46.554966Z"
    },
    "hidden": true
   },
   "outputs": [],
   "source": [
    "# 11. [VEHICLE DAMAGE] 25% das pessoas que já danificaram seu carro antes pretendem assinar seguro de automovel.\n",
    "q11 = df2[(df2['vehicle_damage']==1)]\n",
    "one = q11[q11['response'] == 1]['id'].count()\n",
    "two = q11['id'].count()\n",
    "result = (one/two)*100\n",
    "result"
   ]
  },
  {
   "cell_type": "code",
   "execution_count": null,
   "metadata": {
    "ExecuteTime": {
     "end_time": "2022-12-27T22:12:46.814619Z",
     "start_time": "2022-12-27T22:12:46.780307Z"
    },
    "hidden": true
   },
   "outputs": [],
   "source": [
    "# 12. [VEHICLE DAMAGE] Clientes que danificaram seu veiculo representam 40% da base de dados.\n",
    "one = df2[df2['vehicle_damage'] == 0]['id'].count()\n",
    "two = df2['id'].count()\n",
    "result = (one/two)*100\n",
    "result"
   ]
  },
  {
   "cell_type": "code",
   "execution_count": null,
   "metadata": {
    "ExecuteTime": {
     "end_time": "2022-12-27T22:12:47.048587Z",
     "start_time": "2022-12-27T22:12:47.021143Z"
    },
    "hidden": true
   },
   "outputs": [],
   "source": [
    "# 13. [VEHICLE DAMAGE] 30% dos carros mais antigos ja foram danificados antes.\n",
    "q13 = df2[(df2['vehicle_age']==2)]\n",
    "one = q13[q13['vehicle_damage']==1]['id'].count()\n",
    "two = df2['id'].count()\n",
    "result = (one/two)*100 \n",
    "result"
   ]
  },
  {
   "cell_type": "code",
   "execution_count": null,
   "metadata": {
    "ExecuteTime": {
     "end_time": "2022-12-27T22:12:47.283418Z",
     "start_time": "2022-12-27T22:12:47.245500Z"
    },
    "hidden": true
   },
   "outputs": [],
   "source": [
    "# 14. [VEHICLE DAMAGE] 70% dos carros danificados tem interesse em fechar seguro.\n",
    "q14 = df4[(df4['vehicle_damage']==1)]\n",
    "one = q14[q14['response']==1]['id'].count()\n",
    "two = q14['id'].count()\n",
    "result = (one/two)*100 \n",
    "result"
   ]
  },
  {
   "cell_type": "code",
   "execution_count": null,
   "metadata": {
    "ExecuteTime": {
     "end_time": "2022-12-27T22:12:47.484852Z",
     "start_time": "2022-12-27T22:12:47.469976Z"
    },
    "hidden": true
   },
   "outputs": [],
   "source": [
    "#15. [DRIVING LICENSE] 5% dos clientes sem licença para dirigir tem interesse no seguro de automóvel.\n",
    "q15 = df2[(df2['driving_license'] == 0 )]\n",
    "one = q15[q15['response']==1]['id'].count()\n",
    "two = q15['id'].count()\n",
    "result = (one/two)*100\n",
    "result"
   ]
  },
  {
   "cell_type": "code",
   "execution_count": null,
   "metadata": {
    "ExecuteTime": {
     "end_time": "2022-12-27T22:12:47.718366Z",
     "start_time": "2022-12-27T22:12:47.696027Z"
    },
    "hidden": true
   },
   "outputs": [],
   "source": [
    "#16. [DRIVING LICENSE] Clientes com licença pagam mais.\n",
    "df2[['driving_license','annual_premium']].groupby('driving_license').mean().reset_index()"
   ]
  },
  {
   "cell_type": "code",
   "execution_count": null,
   "metadata": {
    "ExecuteTime": {
     "end_time": "2022-12-27T22:13:14.283208Z",
     "start_time": "2022-12-27T22:13:13.989124Z"
    },
    "hidden": true
   },
   "outputs": [],
   "source": [
    "#17. [VEHICLE AGE] Quanto mais velho o veículo, menor o interesse em assinar seguro automóvel.\n",
    "df17 = df2[(df2['response']==1)]\n",
    "q17 = df17[['vehicle_age','id']].groupby('vehicle_age').count().reset_index()\n",
    "plt.figure(figsize=(7,5))\n",
    "plt.bar(q17['vehicle_age'],q17['id'])"
   ]
  },
  {
   "cell_type": "code",
   "execution_count": null,
   "metadata": {
    "ExecuteTime": {
     "end_time": "2022-12-27T22:13:19.726819Z",
     "start_time": "2022-12-27T22:13:17.632655Z"
    },
    "hidden": true
   },
   "outputs": [],
   "source": [
    "#18. [DRIVER LICENSE] Pessoas sem carteira de motorista pagam 25% mais.\n",
    "q18 = df2[['driving_license','annual_premium']].groupby('driving_license').mean().reset_index()\n",
    "\n",
    "\n",
    "fig = px.bar(q18, x='driving_license', y='annual_premium', color='annual_premium', text='annual_premium', height=450)\n",
    "fig.update_traces(texttemplate='%{text:.2s}', textposition='outside')\n",
    "fig.update_layout(title_text=\"Pessoas sem carteira de motorista pagam 25% mais.\", title_x=0.45)\n",
    "fig.show()"
   ]
  },
  {
   "cell_type": "code",
   "execution_count": null,
   "metadata": {
    "ExecuteTime": {
     "end_time": "2022-12-27T22:13:26.539137Z",
     "start_time": "2022-12-27T22:13:26.447494Z"
    },
    "hidden": true
   },
   "outputs": [],
   "source": [
    "#19. [VEHICLE_DAMAGE] Clientes que já danificaram o carro, pagam 5% mais.\n",
    "q19 = df2[['vehicle_damage','annual_premium']].groupby('vehicle_damage').mean().reset_index()\n",
    "\n",
    "\n",
    "fig = px.bar(q19, x='vehicle_damage', y='annual_premium', color='annual_premium', text='annual_premium', height=450)\n",
    "fig.update_traces(texttemplate='%{text:.2s}', textposition='outside')\n",
    "fig.update_layout(title_text=\"Clientes que já danificaram o carro, pagam mais.\", title_x=0.45)\n",
    "fig.show()"
   ]
  },
  {
   "cell_type": "code",
   "execution_count": null,
   "metadata": {
    "ExecuteTime": {
     "end_time": "2022-12-27T22:13:28.453266Z",
     "start_time": "2022-12-27T22:13:28.391266Z"
    },
    "hidden": true
   },
   "outputs": [],
   "source": [
    "#20. [VINTAGE] Clientes mais antigos pagam 10% menos.\n",
    "bins = list( np.arange(0, 299, 30) )\n",
    "#df2['vintage_culture'] = pd.cut( df2['vintage'], bins=bins )\n",
    "aux2 = df2[['vintage','annual_premium']].groupby('vintage').mean().reset_index()\n",
    "aux2"
   ]
  },
  {
   "cell_type": "markdown",
   "metadata": {
    "heading_collapsed": true,
    "hidden": true
   },
   "source": [
    "### 4.3 - Multivariate Analysis"
   ]
  },
  {
   "cell_type": "markdown",
   "metadata": {
    "hidden": true
   },
   "source": [
    "#### 4.3.1 - Numerical Attributes"
   ]
  },
  {
   "cell_type": "code",
   "execution_count": null,
   "metadata": {
    "ExecuteTime": {
     "end_time": "2022-12-26T12:29:21.658162Z",
     "start_time": "2022-12-26T12:29:21.161593Z"
    },
    "hidden": true
   },
   "outputs": [],
   "source": [
    "# Only numerical datas\n",
    "correlation = num_attributes.corr( method='pearson' )\n",
    "sns.heatmap( correlation, annot=True )"
   ]
  },
  {
   "cell_type": "markdown",
   "metadata": {
    "ExecuteTime": {
     "end_time": "2022-12-19T21:29:34.347274Z",
     "start_time": "2022-12-19T21:29:34.338986Z"
    },
    "heading_collapsed": true,
    "hidden": true
   },
   "source": [
    "### 4.3.2 - Categorical Attributes"
   ]
  },
  {
   "cell_type": "code",
   "execution_count": null,
   "metadata": {
    "ExecuteTime": {
     "end_time": "2022-12-26T12:29:22.160636Z",
     "start_time": "2022-12-26T12:29:21.676216Z"
    },
    "hidden": true
   },
   "outputs": [],
   "source": [
    "# Only categorical data\n",
    "a = df1.select_dtypes( include='object')\n",
    "\n",
    "# Calculate cramer v\n",
    "a1 = cramer_v( a['gender'], a['gender'] )\n",
    "a2 = cramer_v( a['gender'], a['vehicle_age'] )\n",
    "\n",
    "a3 = cramer_v( a['vehicle_age'], a['vehicle_age'] )\n",
    "a4 = cramer_v( a['vehicle_age'], a['gender'] )\n",
    "\n",
    "# Final DataSet\n",
    "\n",
    "d = pd.DataFrame( {'gender': [a1, a2],\n",
    "                   'vehicle_age': [a3, a4]\n",
    "                  })\n",
    "\n",
    "d = d.set_index( d.columns )\n",
    "\n",
    "# Heatmap\n",
    "sns.heatmap( d, annot=True )"
   ]
  },
  {
   "cell_type": "markdown",
   "metadata": {
    "heading_collapsed": true
   },
   "source": [
    "## 5 - DATA PREPARATION"
   ]
  },
  {
   "cell_type": "code",
   "execution_count": null,
   "metadata": {
    "ExecuteTime": {
     "end_time": "2022-12-28T17:31:31.592703Z",
     "start_time": "2022-12-28T17:31:31.572029Z"
    },
    "hidden": true
   },
   "outputs": [],
   "source": [
    "df5 = df4.copy()"
   ]
  },
  {
   "cell_type": "markdown",
   "metadata": {
    "hidden": true
   },
   "source": [
    "### 5.1 - Split Dataset"
   ]
  },
  {
   "cell_type": "code",
   "execution_count": null,
   "metadata": {
    "ExecuteTime": {
     "end_time": "2022-12-28T17:31:32.404820Z",
     "start_time": "2022-12-28T17:31:32.296080Z"
    },
    "hidden": true
   },
   "outputs": [],
   "source": [
    "# UNBALANCED\n",
    "X = df4.drop( 'response', axis=1 )\n",
    "y = df4['response'].copy()\n",
    "\n",
    "x_training, x_valid, y_training, y_valid = ms.train_test_split( X, y, test_size=0.20 )\n",
    "\n",
    "df5 = pd.concat([ x_training, y_training ], axis=1 )"
   ]
  },
  {
   "cell_type": "markdown",
   "metadata": {
    "hidden": true
   },
   "source": [
    "### 5.3 - Standardization"
   ]
  },
  {
   "cell_type": "markdown",
   "metadata": {
    "hidden": true
   },
   "source": [
    "#### 5.3.1 - Unbalanced"
   ]
  },
  {
   "cell_type": "code",
   "execution_count": null,
   "metadata": {
    "ExecuteTime": {
     "end_time": "2022-12-28T17:31:36.207790Z",
     "start_time": "2022-12-28T17:31:36.161892Z"
    },
    "hidden": true
   },
   "outputs": [],
   "source": [
    "# Subtrai-se a media e divide-se pelo desvio padrao\n",
    "# annual premium\n",
    "\n",
    "SS = pp.StandardScaler()\n",
    "df5['annual_premium'] = SS.fit_transform( df5[['annual_premium']].values )"
   ]
  },
  {
   "cell_type": "markdown",
   "metadata": {
    "ExecuteTime": {
     "end_time": "2022-11-10T20:17:52.269173Z",
     "start_time": "2022-11-10T20:17:52.240166Z"
    },
    "hidden": true
   },
   "source": [
    "### 5.4 - Rescaling"
   ]
  },
  {
   "cell_type": "markdown",
   "metadata": {
    "hidden": true
   },
   "source": [
    "#### 5.4.1 - Unbalanced"
   ]
  },
  {
   "cell_type": "code",
   "execution_count": null,
   "metadata": {
    "ExecuteTime": {
     "end_time": "2022-12-28T17:31:38.436871Z",
     "start_time": "2022-12-28T17:31:38.388963Z"
    },
    "hidden": true
   },
   "outputs": [],
   "source": [
    "mms_age = pp.MinMaxScaler()\n",
    "mms_vintage = pp.MinMaxScaler()\n",
    "\n",
    "# Age\n",
    "df5['age'] = mms_age.fit_transform( df5[['age']].values )\n",
    "\n",
    "# Vintage\n",
    "df5['vintage'] = mms_vintage.fit_transform( df5[['vintage']].values )"
   ]
  },
  {
   "cell_type": "markdown",
   "metadata": {
    "hidden": true
   },
   "source": [
    "### 5.5 - Encoder"
   ]
  },
  {
   "cell_type": "code",
   "execution_count": null,
   "metadata": {
    "ExecuteTime": {
     "end_time": "2022-12-28T17:31:44.048907Z",
     "start_time": "2022-12-28T17:31:43.961649Z"
    },
    "hidden": true
   },
   "outputs": [],
   "source": [
    "# gender\n",
    "target_encode_gender = df5.groupby( 'gender' )['response'].mean()\n",
    "df5.loc[:, 'gender'] = df5['gender'].map( target_encode_gender )\n",
    "\n",
    "# region_code - Frequency Encoding / Target Encoding / Weighted Targed Encoding\n",
    "target_encode_region_code = df5.groupby( 'region_code')['response'].mean()\n",
    "df5.loc[:, 'region_code'] = df5['region_code'].map( target_encode_region_code )\n",
    "\n",
    "# policy_sales_channel - Frequency Encoding / Target Encoding\n",
    "fe_policy_sales_channel = df5.groupby( 'policy_sales_channel' ).size() / len( df5 )\n",
    "df5.loc[:, 'policy_sales_channel'] = df5['policy_sales_channel'].map( fe_policy_sales_channel )"
   ]
  },
  {
   "cell_type": "markdown",
   "metadata": {
    "hidden": true
   },
   "source": [
    "### 5.5 - Validation Preparation"
   ]
  },
  {
   "cell_type": "code",
   "execution_count": null,
   "metadata": {
    "ExecuteTime": {
     "end_time": "2022-12-28T17:31:47.727908Z",
     "start_time": "2022-12-28T17:31:47.636238Z"
    },
    "hidden": true
   },
   "outputs": [],
   "source": [
    "# gender\n",
    "x_valid.loc[:,'gender'] = x_valid.loc[:, 'gender'].map( target_encode_gender )\n",
    "\n",
    "# age\n",
    "x_valid.loc[:, 'age'] = mms_age.transform( x_valid[['age']].values )\n",
    "\n",
    "# region code\n",
    "x_valid.loc[:, 'region_code'] = x_valid.loc[:, 'region_code'].map( target_encode_region_code )\n",
    "\n",
    "# vehicle age\n",
    "# x_val = pd.get_dummies( x_val, prefix='vehicle_age', columns=['vehicle_age'] )\n",
    "\n",
    "# annual premium\n",
    "x_valid.loc[:, 'annual_premium'] = SS.transform( x_valid[['annual_premium']].values )\n",
    "\n",
    "# policy sales channel\n",
    "x_valid.loc[:, 'policy_sales_channel'] = x_valid['policy_sales_channel'].map( fe_policy_sales_channel )\n",
    "\n",
    "# vintage\n",
    "x_valid.loc[:, 'vintage'] = mms_vintage.transform( x_valid[['vintage']].values )\n",
    "\n",
    "#fillna\n",
    "x_valid = x_valid.fillna( 0 )"
   ]
  },
  {
   "cell_type": "markdown",
   "metadata": {
    "heading_collapsed": true
   },
   "source": [
    "## 6 - FEATURE SELECTION"
   ]
  },
  {
   "cell_type": "markdown",
   "metadata": {
    "hidden": true
   },
   "source": [
    "### 6.1 - Feature Importance"
   ]
  },
  {
   "cell_type": "code",
   "execution_count": null,
   "metadata": {
    "ExecuteTime": {
     "end_time": "2022-12-28T17:32:00.651364Z",
     "start_time": "2022-12-28T17:31:55.242883Z"
    },
    "hidden": true
   },
   "outputs": [],
   "source": [
    "# model definition\n",
    "forest = en.ExtraTreesClassifier( n_estimators =250, random_state=0, n_jobs=-1 )\n",
    "\n",
    "# data preparation\n",
    "x_train_n = df5.drop( ['id', 'response'], axis=1 )\n",
    "y_train_n  = y_training.values\n",
    "forest.fit( x_train_n, y_train_n )"
   ]
  },
  {
   "cell_type": "code",
   "execution_count": null,
   "metadata": {
    "ExecuteTime": {
     "end_time": "2022-12-28T17:32:01.303998Z",
     "start_time": "2022-12-28T17:32:00.653357Z"
    },
    "hidden": true
   },
   "outputs": [],
   "source": [
    "importances = forest.feature_importances_\n",
    "std = np.std([tree.feature_importances_ for tree in forest.estimators_], axis=0 )\n",
    "indices = np.argsort(importances)[::-1]\n",
    "\n",
    "# Print the feature ranking \n",
    "print(\"Feature ranking:\")\n",
    "df = pd.DataFrame()\n",
    "for i,j in zip( x_train_n, forest.feature_importances_ ):\n",
    "    aux = pd.DataFrame( {'feature': i, 'importance': j}, index=[0] )\n",
    "    df = pd.concat( [df,aux], axis = 0 )\n",
    "    \n",
    "print( df.sort_values( 'importance', ascending=False ) )\n",
    "\n",
    "# Plot the impurity-based feature importances of the forest\n",
    "plt.figure()\n",
    "plt.title(\"Feature importances\")\n",
    "plt.bar(range(x_train_n.shape[1]), importances[indices], color=\"r\", yerr=std[indices], align=\"center\")\n",
    "plt.xticks(range(x_train_n.shape[1]), indices)\n",
    "plt.xlim([-1, x_train_n.shape[1]])\n",
    "plt.show()"
   ]
  },
  {
   "cell_type": "markdown",
   "metadata": {
    "heading_collapsed": true
   },
   "source": [
    "## 7 - MACHINE LEARNING"
   ]
  },
  {
   "cell_type": "code",
   "execution_count": null,
   "metadata": {
    "ExecuteTime": {
     "end_time": "2022-12-28T17:32:07.079754Z",
     "start_time": "2022-12-28T17:32:07.038996Z"
    },
    "hidden": true
   },
   "outputs": [],
   "source": [
    "cols_selected = ['vintage', 'annual_premium', 'age', 'region_code', 'vehicle_damage', 'policy_sales_channel', 'previously_insured']\n",
    "\n",
    "x_training = df5[ cols_selected ]\n",
    "x_validation = x_valid[ cols_selected ]\n",
    "y_validation = y_valid.copy()"
   ]
  },
  {
   "cell_type": "markdown",
   "metadata": {
    "hidden": true
   },
   "source": [
    "### 7.1 - XGB"
   ]
  },
  {
   "cell_type": "code",
   "execution_count": null,
   "metadata": {
    "ExecuteTime": {
     "end_time": "2022-12-28T17:32:13.038191Z",
     "start_time": "2022-12-28T17:32:08.411157Z"
    },
    "hidden": true
   },
   "outputs": [],
   "source": [
    "# model definition\n",
    "xgb_model = XGBClassifier()\n",
    "\n",
    "# model training\n",
    "xgb_model.fit( x_training, y_training )\n",
    "\n",
    "# model prediction - The generalization POWER\n",
    "yhat_xgb = xgb_model.predict_proba( x_validation )\n",
    "\n",
    "# Accumulative Gain\n",
    "#skplt.metrics.plot_cumulative_gain( y_validation, yhat_xgb, title='Comulative Gain - XGB' );"
   ]
  },
  {
   "cell_type": "code",
   "execution_count": null,
   "metadata": {
    "ExecuteTime": {
     "end_time": "2022-12-28T17:32:14.009728Z",
     "start_time": "2022-12-28T17:32:13.040184Z"
    },
    "hidden": true
   },
   "outputs": [],
   "source": [
    "fig, axs = plt.subplots(ncols= 3, figsize = (18,5))\n",
    "\n",
    "# cumulative gain - Metric for sorting problem\n",
    "skplt.metrics.plot_cumulative_gain(y_validation, yhat_xgb, ax=axs[0],title='Cumulative Gain - XGB');\n",
    "\n",
    "# Lift Curve\n",
    "skplt.metrics.plot_lift_curve(y_validation, yhat_xgb,ax=axs[1],title='Lift Curve - XGB');\n",
    "\n",
    "# Roc Curve\n",
    "skplt.metrics.plot_roc(y_validation, yhat_xgb, ax=axs[2], title='ROC-Curve - XGB');\n",
    "\n",
    "plt.tight_layout()"
   ]
  },
  {
   "cell_type": "markdown",
   "metadata": {
    "hidden": true
   },
   "source": [
    "### 7.2 - KNN"
   ]
  },
  {
   "cell_type": "code",
   "execution_count": null,
   "metadata": {
    "ExecuteTime": {
     "end_time": "2022-12-28T17:33:13.035686Z",
     "start_time": "2022-12-28T17:33:00.229619Z"
    },
    "cell_style": "split",
    "hidden": true
   },
   "outputs": [],
   "source": [
    "# model definition\n",
    "knn_model = nh.KNeighborsClassifier( n_neighbors=8 )\n",
    "\n",
    "# model training\n",
    "knn_model.fit( x_training, y_training )\n",
    "\n",
    "# model prediction - The generalization POWER\n",
    "yhat_knn = knn_model.predict_proba( x_validation )"
   ]
  },
  {
   "cell_type": "code",
   "execution_count": null,
   "metadata": {
    "ExecuteTime": {
     "end_time": "2022-12-28T17:33:13.890034Z",
     "start_time": "2022-12-28T17:33:13.038680Z"
    },
    "hidden": true
   },
   "outputs": [],
   "source": [
    "fig, axs = plt.subplots(ncols= 3, figsize = (18,5))\n",
    "\n",
    "# cumulative gain - Metric for sorting problem\n",
    "skplt.metrics.plot_cumulative_gain(y_validation, yhat_knn, ax=axs[0],title='Cumulative Gain - KNN');\n",
    "\n",
    "# Lift Curve\n",
    "skplt.metrics.plot_lift_curve(y_validation, yhat_knn,ax=axs[1],title='Lift Curve - KNN');\n",
    "\n",
    "# Roc Curve\n",
    "skplt.metrics.plot_roc(y_validation, yhat_knn, ax=axs[2], title='ROC-Curve - KNN');\n",
    "\n",
    "plt.tight_layout()"
   ]
  },
  {
   "cell_type": "markdown",
   "metadata": {
    "ExecuteTime": {
     "end_time": "2022-11-11T22:45:54.200731Z",
     "start_time": "2022-11-11T22:45:54.185634Z"
    },
    "hidden": true
   },
   "source": [
    "### 7.3 - Logistic Regression"
   ]
  },
  {
   "cell_type": "code",
   "execution_count": null,
   "metadata": {
    "ExecuteTime": {
     "end_time": "2022-12-28T17:33:42.786533Z",
     "start_time": "2022-12-28T17:33:41.915881Z"
    },
    "cell_style": "split",
    "hidden": true
   },
   "outputs": [],
   "source": [
    "# model definition\n",
    "lr_model = lm.LogisticRegression(random_state=42)\n",
    "\n",
    "# model training\n",
    "lr_model.fit( x_training, y_training )\n",
    "\n",
    "# model prediction - The Generalization POWER\n",
    "yhat_lr_model = lr_model.predict_proba( x_validation )"
   ]
  },
  {
   "cell_type": "code",
   "execution_count": null,
   "metadata": {
    "ExecuteTime": {
     "end_time": "2022-12-28T17:33:44.495267Z",
     "start_time": "2022-12-28T17:33:43.615745Z"
    },
    "hidden": true
   },
   "outputs": [],
   "source": [
    "fig, axs = plt.subplots(ncols= 3, figsize = (18,5))\n",
    "\n",
    "# cumulative gain - Metric for sorting problem\n",
    "skplt.metrics.plot_cumulative_gain(y_validation, yhat_lr_model, ax=axs[0],title='Cumulative Gain - Linear Regression');\n",
    "\n",
    "# Lift Curve\n",
    "skplt.metrics.plot_lift_curve(y_validation, yhat_lr_model,ax=axs[1],title='Lift Curve - Linear Regression');\n",
    "\n",
    "# Roc Curve\n",
    "skplt.metrics.plot_roc(y_validation, yhat_lr_model, ax=axs[2], title='ROC-Curve - Linear Regression');\n",
    "\n",
    "plt.tight_layout()"
   ]
  },
  {
   "cell_type": "markdown",
   "metadata": {
    "hidden": true
   },
   "source": [
    "### 7.4 - Extra Trees"
   ]
  },
  {
   "cell_type": "code",
   "execution_count": null,
   "metadata": {
    "ExecuteTime": {
     "end_time": "2022-12-28T17:35:22.794367Z",
     "start_time": "2022-12-28T17:35:18.723097Z"
    },
    "cell_style": "split",
    "hidden": true,
    "hide_input": false
   },
   "outputs": [],
   "source": [
    "# model definition\n",
    "et_model = en.ExtraTreesClassifier( n_estimators=200, n_jobs=-1, random_state=42 )\n",
    "\n",
    "# model training\n",
    "et_model.fit( x_training, y_training )\n",
    "\n",
    "# model prediction - The Generalization POWER\n",
    "yhat_et_model = et_model.predict_proba( x_validation )"
   ]
  },
  {
   "cell_type": "code",
   "execution_count": null,
   "metadata": {
    "ExecuteTime": {
     "end_time": "2022-12-28T17:35:23.574352Z",
     "start_time": "2022-12-28T17:35:22.795905Z"
    },
    "hidden": true
   },
   "outputs": [],
   "source": [
    "fig, axs = plt.subplots(ncols= 3, figsize = (18,5))\n",
    "\n",
    "# cumulative gain - Metric for sorting problem\n",
    "skplt.metrics.plot_cumulative_gain(y_validation, yhat_et_model, ax=axs[0],title='Cumulative Gain - Extra Trees');\n",
    "\n",
    "# Lift Curve\n",
    "skplt.metrics.plot_lift_curve(y_validation, yhat_et_model,ax=axs[1],title='Lift Curve - Extra Trees');\n",
    "\n",
    "# Roc Curve\n",
    "skplt.metrics.plot_roc(y_validation, yhat_et_model, ax=axs[2], title='ROC-Curve - Extra Trees');\n",
    "\n",
    "plt.tight_layout()"
   ]
  },
  {
   "cell_type": "markdown",
   "metadata": {
    "hidden": true
   },
   "source": [
    "### 7.5 - Randon Forest"
   ]
  },
  {
   "cell_type": "code",
   "execution_count": null,
   "metadata": {
    "ExecuteTime": {
     "end_time": "2022-12-28T17:37:05.405635Z",
     "start_time": "2022-12-28T17:36:06.874061Z"
    },
    "hidden": true
   },
   "outputs": [],
   "source": [
    "# model definition\n",
    "rf_model = en.RandomForestClassifier( n_estimators=2000, n_jobs=-1, random_state=42 )\n",
    "\n",
    "# model training\n",
    "rf_model.fit( x_training, y_training )\n",
    "\n",
    "# model prediction - The Generalization POWER\n",
    "yhat_rf_model = rf_model.predict_proba( x_validation )"
   ]
  },
  {
   "cell_type": "code",
   "execution_count": null,
   "metadata": {
    "ExecuteTime": {
     "end_time": "2022-12-28T17:37:06.176355Z",
     "start_time": "2022-12-28T17:37:05.407635Z"
    },
    "hidden": true
   },
   "outputs": [],
   "source": [
    "fig, axs = plt.subplots(ncols= 3, figsize = (18,5))\n",
    "\n",
    "# cumulative gain - Metric for sorting problem\n",
    "skplt.metrics.plot_cumulative_gain(y_validation, yhat_rf_model, ax=axs[0],title='Cumulative Gain - Randon Forest');\n",
    "\n",
    "# Lift Curve\n",
    "skplt.metrics.plot_lift_curve(y_validation, yhat_rf_model,ax=axs[1],title='Lift Curve - Randon Forest');\n",
    "\n",
    "# Roc Curve\n",
    "skplt.metrics.plot_roc(y_validation, yhat_rf_model, ax=axs[2], title='ROC-Curve - Randon Forest');\n",
    "\n",
    "plt.tight_layout()"
   ]
  },
  {
   "cell_type": "markdown",
   "metadata": {
    "hidden": true
   },
   "source": [
    "### 7.6 - Catboost Classifier"
   ]
  },
  {
   "cell_type": "code",
   "execution_count": null,
   "metadata": {
    "ExecuteTime": {
     "end_time": "2022-12-28T17:38:01.317036Z",
     "start_time": "2022-12-28T17:37:11.500587Z"
    },
    "hidden": true
   },
   "outputs": [],
   "source": [
    "# model definition\n",
    "cb_model = CatBoostClassifier(\n",
    "    iterations = 1000, # 1000 are ideal\n",
    "    loss_function='MultiClass',\n",
    "    bootstrap_type = \"Bayesian\",\n",
    "    eval_metric = 'MultiClass',\n",
    "    leaf_estimation_iterations = 100,\n",
    "    random_strength = 0.5,\n",
    "    depth = 7,\n",
    "    l2_leaf_reg = 5,\n",
    "    learning_rate=0.03,\n",
    "    bagging_temperature = 0.5,\n",
    "    task_type = \"GPU\",\n",
    ")\n",
    "\n",
    "# model training\n",
    "cb_model.fit(x_training, y_training)\n",
    "\n",
    "# model prediction\n",
    "yhat_cb_model = cb_model.predict_proba( x_validation )"
   ]
  },
  {
   "cell_type": "code",
   "execution_count": null,
   "metadata": {
    "ExecuteTime": {
     "end_time": "2022-12-28T17:38:02.047357Z",
     "start_time": "2022-12-28T17:38:01.319037Z"
    },
    "hidden": true
   },
   "outputs": [],
   "source": [
    "fig, axs = plt.subplots(ncols= 3, figsize = (18,5))\n",
    "\n",
    "# cumulative gain - Metric for sorting problem\n",
    "skplt.metrics.plot_cumulative_gain(y_validation, yhat_cb_model, ax=axs[0],title='Cumulative Gain - CatBoost');\n",
    "\n",
    "# Lift Curve\n",
    "skplt.metrics.plot_lift_curve(y_validation, yhat_cb_model,ax=axs[1],title='Lift Curve - CatBoost');\n",
    "\n",
    "# Roc Curve\n",
    "skplt.metrics.plot_roc(y_validation, yhat_cb_model, ax=axs[2], title='ROC-Curve - CatBoost');\n",
    "\n",
    "plt.tight_layout()"
   ]
  },
  {
   "cell_type": "markdown",
   "metadata": {
    "heading_collapsed": true
   },
   "source": [
    "## 8 - MODEL PERFORMANCE"
   ]
  },
  {
   "cell_type": "markdown",
   "metadata": {
    "hidden": true
   },
   "source": [
    "### 8.1 - KNN Model Performance"
   ]
  },
  {
   "cell_type": "code",
   "execution_count": null,
   "metadata": {
    "ExecuteTime": {
     "end_time": "2022-12-28T17:41:53.336102Z",
     "start_time": "2022-12-28T17:41:53.278655Z"
    },
    "hidden": true
   },
   "outputs": [],
   "source": [
    "# Copy Data\n",
    "df8_unbalanced = x_valid.copy()\n",
    "df8_unbalanced['response'] = y_valid.copy()\n",
    "\n",
    "# Propensity score\n",
    "df8_unbalanced['score'] = yhat_knn[:,1].tolist()\n",
    "\n",
    "# sorted clients by score\n",
    "df8_unbalanced = df8_unbalanced.sort_values( 'score', ascending=False )\n",
    "\n",
    "# Compute precision at K\n",
    "precision_atK = precision_at_k(df8_unbalanced, k=20000 )\n",
    "\n",
    "# Compute precision at K\n",
    "recall_atK = recall_at_k(df8_unbalanced, k=20000 )\n",
    "\n",
    "KNN_performance = ml_performance('KNN_Model', precision_atK, recall_atK )\n",
    "KNN_performance"
   ]
  },
  {
   "cell_type": "markdown",
   "metadata": {
    "hidden": true
   },
   "source": [
    "### 8.2 - Logistic Regression Model Performance"
   ]
  },
  {
   "cell_type": "code",
   "execution_count": null,
   "metadata": {
    "ExecuteTime": {
     "end_time": "2022-12-28T17:41:59.695927Z",
     "start_time": "2022-12-28T17:41:59.632160Z"
    },
    "hidden": true
   },
   "outputs": [],
   "source": [
    "# Copy Data\n",
    "df8_unbalanced = x_valid.copy()\n",
    "df8_unbalanced['response'] = y_valid.copy()\n",
    "\n",
    "# Propensity score\n",
    "df8_unbalanced['score'] = yhat_lr_model[:,1].tolist()\n",
    "\n",
    "# sorted clients by score\n",
    "df8_unbalanced = df8_unbalanced.sort_values( 'score', ascending=False )\n",
    "\n",
    "# Compute precision at K\n",
    "precision_atK = precision_at_k(df8_unbalanced, k=20000 )\n",
    "\n",
    "\n",
    "# Compute precision at K\n",
    "recall_atK = recall_at_k(df8_unbalanced, k=20000 )\n",
    "\n",
    "lr_performance = ml_performance('LR Model', precision_atK, recall_atK )\n",
    "lr_performance"
   ]
  },
  {
   "cell_type": "markdown",
   "metadata": {
    "hidden": true
   },
   "source": [
    "### 8.3 - Extra Trees Model Performance"
   ]
  },
  {
   "cell_type": "code",
   "execution_count": null,
   "metadata": {
    "ExecuteTime": {
     "end_time": "2022-12-28T17:42:00.507566Z",
     "start_time": "2022-12-28T17:42:00.449227Z"
    },
    "hidden": true
   },
   "outputs": [],
   "source": [
    "# Copy Data\n",
    "df8_unbalanced = x_valid.copy()\n",
    "df8_unbalanced['response'] = y_valid.copy()\n",
    "\n",
    "# Propensity score\n",
    "df8_unbalanced['score'] = yhat_et_model[:,1].tolist()\n",
    "\n",
    "# sorted clients by score\n",
    "df8_unbalanced = df8_unbalanced.sort_values( 'score', ascending=False )\n",
    "\n",
    "# Compute precision at K\n",
    "precision_atK = precision_at_k(df8_unbalanced, k=20000 )\n",
    "\n",
    "# Compute precision at K\n",
    "recall_atK = recall_at_k(df8_unbalanced, k=20000 )\n",
    "\n",
    "et_performance = ml_performance('ET Model', precision_atK, recall_atK )\n",
    "et_performance"
   ]
  },
  {
   "cell_type": "markdown",
   "metadata": {
    "hidden": true
   },
   "source": [
    "### 8.4 - Random Forest Model Performance"
   ]
  },
  {
   "cell_type": "code",
   "execution_count": null,
   "metadata": {
    "ExecuteTime": {
     "end_time": "2022-12-28T17:42:01.350218Z",
     "start_time": "2022-12-28T17:42:01.281180Z"
    },
    "hidden": true
   },
   "outputs": [],
   "source": [
    "# Copy Data\n",
    "df8_unbalanced = x_valid.copy()\n",
    "df8_unbalanced['response'] = y_valid.copy()\n",
    "\n",
    "# Propensity score\n",
    "df8_unbalanced['score'] = yhat_rf_model[:,1].tolist()\n",
    "\n",
    "# sorted clients by score\n",
    "df8_unbalanced = df8_unbalanced.sort_values( 'score', ascending=False )\n",
    "\n",
    "# Compute precision at K\n",
    "precision_atK = precision_at_k(df8_unbalanced, k=20000 )\n",
    "\n",
    "# Compute precision at K\n",
    "recall_atK = recall_at_k(df8_unbalanced, k=20000 )\n",
    "\n",
    "rf_performance = ml_performance('RF Model', precision_atK, recall_atK )\n",
    "rf_performance"
   ]
  },
  {
   "cell_type": "markdown",
   "metadata": {
    "hidden": true
   },
   "source": [
    "### 8.5 -  XGB Model Performance"
   ]
  },
  {
   "cell_type": "code",
   "execution_count": null,
   "metadata": {
    "ExecuteTime": {
     "end_time": "2022-12-28T17:42:02.188731Z",
     "start_time": "2022-12-28T17:42:02.129431Z"
    },
    "hidden": true
   },
   "outputs": [],
   "source": [
    "# Copy Data\n",
    "df8_unbalanced = x_valid.copy()\n",
    "df8_unbalanced['response'] = y_valid.copy()\n",
    "\n",
    "# Propensity score\n",
    "df8_unbalanced['score'] = yhat_xgb[:,1].tolist()\n",
    "\n",
    "# sorted clients by score\n",
    "df8_unbalanced = df8_unbalanced.sort_values( 'score', ascending=False )\n",
    "\n",
    "# Compute precision at K\n",
    "precision_atK = precision_at_k(df8_unbalanced, k=20000 )\n",
    "\n",
    "# Compute precision at K\n",
    "recall_atK = recall_at_k(df8_unbalanced, k=20000 )\n",
    "\n",
    "xgb_performance = ml_performance('XGB Model', precision_atK, recall_atK )\n",
    "xgb_performance"
   ]
  },
  {
   "cell_type": "markdown",
   "metadata": {
    "hidden": true
   },
   "source": [
    "### 8.6 - CatBoost Model Performance"
   ]
  },
  {
   "cell_type": "code",
   "execution_count": null,
   "metadata": {
    "ExecuteTime": {
     "end_time": "2022-12-28T17:42:09.494023Z",
     "start_time": "2022-12-28T17:42:09.440614Z"
    },
    "hidden": true
   },
   "outputs": [],
   "source": [
    "# Copy Data\n",
    "df8_unbalanced = x_valid.copy()\n",
    "df8_unbalanced['response'] = y_valid.copy()\n",
    "\n",
    "# Propensity score\n",
    "df8_unbalanced['score'] = yhat_cb_model[:,1].tolist()\n",
    "\n",
    "# sorted clients by score\n",
    "df8_unbalanced = df8_unbalanced.sort_values( 'score', ascending=False )\n",
    "\n",
    "# Compute precision at K\n",
    "precision_atK = precision_at_k(df8_unbalanced, k=20000 )\n",
    "\n",
    "# Compute precision at K\n",
    "recall_atK = recall_at_k(df8_unbalanced, k=20000 )\n",
    "\n",
    "cb_performance = ml_performance('CB Model', precision_atK, recall_atK )\n",
    "cb_performance"
   ]
  },
  {
   "cell_type": "markdown",
   "metadata": {
    "hidden": true
   },
   "source": [
    "### 8.7 - Results for all models"
   ]
  },
  {
   "cell_type": "code",
   "execution_count": null,
   "metadata": {
    "ExecuteTime": {
     "end_time": "2022-12-28T17:42:11.533540Z",
     "start_time": "2022-12-28T17:42:11.503418Z"
    },
    "hidden": true
   },
   "outputs": [],
   "source": [
    "model_performance = pd.concat( [KNN_performance, lr_performance, et_performance, rf_performance, xgb_performance, cb_performance] )\n",
    "model_performance.sort_values('Precision_at_K', ascending= False)"
   ]
  },
  {
   "cell_type": "markdown",
   "metadata": {
    "heading_collapsed": true
   },
   "source": [
    "## 9 - HYPERPARAMETER FINE TUNING"
   ]
  },
  {
   "cell_type": "markdown",
   "metadata": {
    "hidden": true
   },
   "source": [
    "### 9.1 - Cross Validation"
   ]
  },
  {
   "cell_type": "code",
   "execution_count": null,
   "metadata": {
    "ExecuteTime": {
     "end_time": "2022-12-28T16:07:41.309373Z",
     "start_time": "2022-12-28T16:07:41.275751Z"
    },
    "hidden": true
   },
   "outputs": [],
   "source": [
    "# Concatenation train and validation dataset to use in cross-validation\n",
    "#df_cv = x_training.copy()\n",
    "#df_cv['response'] = y_training\n",
    "\n",
    "#df_aux = x_valid.copy()\n",
    "#df_aux['response'] = y_valid\n",
    "\n",
    "#df_cc = pd.concat([df_cv, df_aux])"
   ]
  },
  {
   "cell_type": "code",
   "execution_count": null,
   "metadata": {
    "ExecuteTime": {
     "end_time": "2022-12-28T16:23:40.982617Z",
     "start_time": "2022-12-28T16:08:01.069347Z"
    },
    "hidden": true
   },
   "outputs": [],
   "source": [
    "# Dictioary with models instantiated\n",
    "#models = { 'KNN': knn_model,\n",
    "#         'Logistic Regression': lr_model,\n",
    "#         'Random Forest': rf_model,\n",
    "#         'XGB Model': xgb_model,\n",
    "#         'Ext. Model': et_model,\n",
    "#         'RF Model': rf_model,\n",
    "#         'CB Model': cb_model }\n",
    "#\n",
    "# Cross-validated models performance\n",
    "#model_performance = pd.DataFrame()\n",
    "\n",
    "#for key in models.keys():\n",
    "#    performance_cv = cross_validation(5, key, models[key], df_cc, 20000)\n",
    "#    model_performance = pd.concat([model_performance, performance_cv], axis=1)\n",
    "\n",
    "#model_performance.T"
   ]
  },
  {
   "cell_type": "code",
   "execution_count": null,
   "metadata": {
    "ExecuteTime": {
     "end_time": "2022-12-28T17:42:25.128827Z",
     "start_time": "2022-12-28T17:42:25.100833Z"
    },
    "hidden": true
   },
   "outputs": [],
   "source": [
    "# Tabela com resultado do crossvalidation salvo na maquina.\n",
    "cv_result = pd.read_csv('C:/Users/perot/Documents/ds_repos/projects/Health_Insurance_Cross_Sell/data/processed/crossvalidationresult.csv')\n",
    "cv_result.sort_values('recall_at_k', ascending=False)"
   ]
  },
  {
   "cell_type": "markdown",
   "metadata": {
    "hidden": true
   },
   "source": [
    "### 9.2 - XGB Fine Tuning"
   ]
  },
  {
   "cell_type": "code",
   "execution_count": null,
   "metadata": {
    "hidden": true
   },
   "outputs": [],
   "source": [
    "#param = {\n",
    "#     'n_estimators': [1000, 1500, 2000, 2500], \n",
    "#     'eta': [0.01, 0.03],\n",
    "#     'max_depth': [3, 5, 9],\n",
    "#     'subsample': [0.1, 0.5, 0.7],\n",
    "#     'colsample_bytree': [0.3, 0.7, 0.9],\n",
    "#     'min_child_weight':[3, 8, 15] }\n",
    "\n",
    "#MAX_EVAL = 5"
   ]
  },
  {
   "cell_type": "code",
   "execution_count": null,
   "metadata": {
    "hidden": true
   },
   "outputs": [],
   "source": [
    "#final_result = pd.DataFrame()\n",
    "\n",
    "#for i in range( MAX_EVAL ):\n",
    "# choose values for parameters randomly\n",
    "#    hp = { k: random.sample(v, 1)[0] for k, v in param.items() }\n",
    "#    print( hp )\n",
    "#    \n",
    "#    # model\n",
    "#    model_xgb = XGBClassifier(colsample_bytree =hp['colsample_bytree'],\n",
    "#                               subsample = hp['subsample'],\n",
    "#                               objective='binary:logistic', \n",
    "#                               n_estimators=hp['n_estimators'], \n",
    "#                               max_depth=hp['max_depth'],\n",
    "#                               min_child_weight = hp['min_child_weight'],\n",
    "#                               eta=hp['eta'])\n",
    "#    # performance\n",
    "#    result = cross_validation(2, 'xgb classifier', xgb_model, df_cc, 20000)\n",
    "#    final_result = pd.concat( [final_result, result] )\n",
    "#\n",
    "#final_result"
   ]
  },
  {
   "cell_type": "markdown",
   "metadata": {
    "hidden": true
   },
   "source": [
    "### 9.3 - CatBoost Fine Tuning"
   ]
  },
  {
   "cell_type": "code",
   "execution_count": null,
   "metadata": {
    "hidden": true
   },
   "outputs": [],
   "source": [
    "#param = {\n",
    "#     'iterations': [1000, 1500, 2000, 2500], \n",
    "#     'leaf_estimation_iterations': [100, 150, 200],\n",
    "#     'depth': [3, 5, 9],\n",
    "#     'subsample': [0.1, 0.5, 0.7],\n",
    "#     'random_strength': [0.3, 0.7, 0.9],\n",
    "#     'l2_leaf_reg':[3, 8, 15],\n",
    "#     'learning_rate':[0.01, 0.03, 0.05]}\n",
    "#\n",
    "# MAX_EVAL = 5"
   ]
  },
  {
   "cell_type": "code",
   "execution_count": null,
   "metadata": {
    "hidden": true
   },
   "outputs": [],
   "source": [
    "#final_result = pd.DataFrame()\n",
    "#\n",
    "#for i in range( MAX_EVAL ):\n",
    "#    # choose values for parameters randomly\n",
    "#    hp = { k: random.sample(v, 1)[0] for k, v in param.items() }\n",
    "#    print( hp )\n",
    "#    \n",
    "#    # model\n",
    "#    model_xgb = CatBoostClassifier(\n",
    "#                        iterations = hp['iterations'],\n",
    "#                        loss_function='MultiClass',\n",
    "#                        bootstrap_type = \"Bayesian\",\n",
    "#                        eval_metric = 'MultiClass',\n",
    "#                        leaf_estimation_iterations = hp['leaf_estimation_iterations'],\n",
    "#                        random_strength = hp['random_strength'],\n",
    "#                        depth = hp['depth'],\n",
    "#                        l2_leaf_reg = hp['l2_leaf_reg'],\n",
    "#                        learning_rate= hp['learning_rate'],\n",
    "#                        bagging_temperature = 0.5,\n",
    "#                        task_type = \"GPU\" )\n",
    "#    # performance\n",
    "#    result = cross_validation(2, 'catboost classifier', cb_model, df_cc, 20000)\n",
    "#    final_result = pd.concat( [final_result, result] )\n",
    "#\n",
    "#final_result"
   ]
  },
  {
   "cell_type": "markdown",
   "metadata": {
    "hidden": true
   },
   "source": [
    "### 9.4 - XGB Classifier after Tuning"
   ]
  },
  {
   "cell_type": "code",
   "execution_count": null,
   "metadata": {
    "ExecuteTime": {
     "end_time": "2022-12-28T17:43:53.843250Z",
     "start_time": "2022-12-28T17:42:36.471580Z"
    },
    "hidden": true
   },
   "outputs": [],
   "source": [
    "# XGB CROSS VALIDATION\n",
    "\n",
    "# model definition\n",
    "model_xgb_cv = XGBClassifier( colsample_bytree = 0.3,\n",
    "                              subsample = 0.7,\n",
    "                              objective='binary:logistic', \n",
    "                              n_estimators=2000, \n",
    "                              max_depth= 5,\n",
    "                              min_child_weight = 8,\n",
    "                              eta= 0.03 )\n",
    "\n",
    "# model training\n",
    "model_xgb_cv.fit( x_training, y_training )\n",
    "\n",
    "# model prediction - The generalization POWER\n",
    "yhat_xgb_cv = model_xgb_cv.predict_proba( x_validation )"
   ]
  },
  {
   "cell_type": "code",
   "execution_count": null,
   "metadata": {
    "ExecuteTime": {
     "end_time": "2022-12-28T17:43:54.792542Z",
     "start_time": "2022-12-28T17:43:53.845765Z"
    },
    "hidden": true
   },
   "outputs": [],
   "source": [
    "fig, axs = plt.subplots(ncols= 3, figsize = (18,5))\n",
    "\n",
    "# cumulative gain - Metric for sorting problem\n",
    "skplt.metrics.plot_cumulative_gain(y_validation, yhat_xgb_cv, ax=axs[0],title='Cumulative Gain - XGB');\n",
    "\n",
    "# Lift Curve\n",
    "skplt.metrics.plot_lift_curve(y_validation, yhat_xgb_cv,ax=axs[1],title='Lift Curve - XGB');\n",
    "\n",
    "# Roc Curve\n",
    "skplt.metrics.plot_roc(y_validation, yhat_xgb_cv, ax=axs[2], title='ROC-Curve - XGB');\n",
    "\n",
    "plt.tight_layout()"
   ]
  },
  {
   "cell_type": "code",
   "execution_count": null,
   "metadata": {
    "ExecuteTime": {
     "end_time": "2022-12-28T17:43:54.855094Z",
     "start_time": "2022-12-28T17:43:54.793503Z"
    },
    "hidden": true
   },
   "outputs": [],
   "source": [
    "# Copy Data\n",
    "df8_unbalanced = x_valid.copy()\n",
    "df8_unbalanced['response'] = y_valid.copy()\n",
    "\n",
    "# Propensity score\n",
    "df8_unbalanced['score'] = yhat_xgb_cv[:,1].tolist()\n",
    "\n",
    "# sorted clients by score\n",
    "df8_unbalanced = df8_unbalanced.sort_values( 'score', ascending=False )\n",
    "\n",
    "# Compute precision at K\n",
    "precision_atK = precision_at_k(df8_unbalanced, k=20000 )\n",
    "\n",
    "# Compute precision at K\n",
    "recall_atK = recall_at_k(df8_unbalanced, k=20000 )\n",
    "\n",
    "xgb_performance_cv = ml_performance('XGB Model', precision_atK, recall_atK )\n",
    "xgb_performance_cv"
   ]
  },
  {
   "cell_type": "markdown",
   "metadata": {
    "hidden": true
   },
   "source": [
    "### 9.5 - CatBoost Classifier after tuning"
   ]
  },
  {
   "cell_type": "code",
   "execution_count": null,
   "metadata": {
    "ExecuteTime": {
     "end_time": "2022-12-28T17:45:37.422347Z",
     "start_time": "2022-12-28T17:44:27.148518Z"
    },
    "hidden": true
   },
   "outputs": [],
   "source": [
    "# model definition\n",
    "cb_model_cv = CatBoostClassifier(\n",
    "    iterations = 1500, # 1000 are ideal\n",
    "    loss_function='MultiClass',\n",
    "    bootstrap_type = \"Bayesian\",\n",
    "    eval_metric = 'MultiClass',\n",
    "    leaf_estimation_iterations = 150,\n",
    "    random_strength = 0.7,\n",
    "    depth = 5,\n",
    "    l2_leaf_reg = 3,\n",
    "    learning_rate=0.03,\n",
    "    bagging_temperature = 0.5,\n",
    "    task_type = \"GPU\",\n",
    ")\n",
    "\n",
    "# model training\n",
    "cb_model_cv.fit(x_training, y_training)\n",
    "\n",
    "# model prediction\n",
    "yhat_cb_model_cv = cb_model.predict_proba( x_validation )"
   ]
  },
  {
   "cell_type": "code",
   "execution_count": null,
   "metadata": {
    "ExecuteTime": {
     "end_time": "2022-12-28T17:45:38.171342Z",
     "start_time": "2022-12-28T17:45:37.424836Z"
    },
    "hidden": true
   },
   "outputs": [],
   "source": [
    "fig, axs = plt.subplots(ncols= 3, figsize = (18,5))\n",
    "\n",
    "# cumulative gain - Metric for sorting problem\n",
    "skplt.metrics.plot_cumulative_gain(y_validation, yhat_cb_model_cv, ax=axs[0],title='Cumulative Gain - CatBoost');\n",
    "\n",
    "# Lift Curve\n",
    "skplt.metrics.plot_lift_curve(y_validation, yhat_cb_model_cv,ax=axs[1],title='Lift Curve - CatBoost');\n",
    "\n",
    "# Roc Curve\n",
    "skplt.metrics.plot_roc(y_validation, yhat_cb_model_cv, ax=axs[2], title='ROC-Curve - CatBoost');\n",
    "\n",
    "plt.tight_layout()"
   ]
  },
  {
   "cell_type": "code",
   "execution_count": null,
   "metadata": {
    "ExecuteTime": {
     "end_time": "2022-12-28T17:46:04.162596Z",
     "start_time": "2022-12-28T17:46:04.099250Z"
    },
    "hidden": true
   },
   "outputs": [],
   "source": [
    "# Copy Data\n",
    "df8_unbalanced = x_valid.copy()\n",
    "df8_unbalanced['response'] = y_valid.copy()\n",
    "\n",
    "# Propensity score\n",
    "df8_unbalanced['score'] = yhat_cb_model_cv[:,1].tolist()\n",
    "\n",
    "# sorted clients by score\n",
    "df8_unbalanced = df8_unbalanced.sort_values( 'score', ascending=False )\n",
    "\n",
    "# Compute precision at K\n",
    "precision_atK = precision_at_k(df8_unbalanced, k=20000 )\n",
    "\n",
    "# Compute precision at K\n",
    "recall_atK = recall_at_k(df8_unbalanced, k=20000 )\n",
    "\n",
    "cb_performance_cv = ml_performance('CB Model', precision_atK, recall_atK )\n",
    "cb_performance_cv"
   ]
  },
  {
   "cell_type": "markdown",
   "metadata": {
    "hidden": true
   },
   "source": [
    "### 9.3 - ML Models Performance - After Fine Tunning"
   ]
  },
  {
   "cell_type": "code",
   "execution_count": null,
   "metadata": {
    "ExecuteTime": {
     "end_time": "2022-12-28T17:45:38.234701Z",
     "start_time": "2022-12-28T17:45:38.220101Z"
    },
    "hidden": true
   },
   "outputs": [],
   "source": [
    "model_performance = pd.concat( [xgb_performance_cv, cb_performance_cv] )\n",
    "model_performance.sort_values('Precision_at_K', ascending= False)"
   ]
  },
  {
   "cell_type": "code",
   "execution_count": null,
   "metadata": {
    "hidden": true
   },
   "outputs": [],
   "source": []
  },
  {
   "cell_type": "code",
   "execution_count": null,
   "metadata": {
    "hidden": true
   },
   "outputs": [],
   "source": []
  },
  {
   "cell_type": "code",
   "execution_count": null,
   "metadata": {
    "hidden": true
   },
   "outputs": [],
   "source": []
  },
  {
   "cell_type": "code",
   "execution_count": null,
   "metadata": {
    "hidden": true
   },
   "outputs": [],
   "source": []
  },
  {
   "cell_type": "code",
   "execution_count": null,
   "metadata": {
    "hidden": true
   },
   "outputs": [],
   "source": []
  },
  {
   "cell_type": "code",
   "execution_count": null,
   "metadata": {
    "hidden": true
   },
   "outputs": [],
   "source": []
  }
 ],
 "metadata": {
  "hide_input": false,
  "kernelspec": {
   "display_name": "Python 3 (ipykernel)",
   "language": "python",
   "name": "python3"
  },
  "language_info": {
   "codemirror_mode": {
    "name": "ipython",
    "version": 3
   },
   "file_extension": ".py",
   "mimetype": "text/x-python",
   "name": "python",
   "nbconvert_exporter": "python",
   "pygments_lexer": "ipython3",
   "version": "3.9.15"
  },
  "toc-autonumbering": true,
  "toc-showcode": false,
  "toc-showtags": false
 },
 "nbformat": 4,
 "nbformat_minor": 4
}
