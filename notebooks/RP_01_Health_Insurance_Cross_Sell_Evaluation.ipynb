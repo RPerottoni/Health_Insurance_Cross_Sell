{
 "cells": [
  {
   "cell_type": "markdown",
   "id": "18e2338b",
   "metadata": {},
   "source": [
    "# 0 - IMPORTS"
   ]
  },
  {
   "cell_type": "code",
   "execution_count": 2,
   "id": "bd72db4f",
   "metadata": {
    "ExecuteTime": {
     "end_time": "2023-05-22T19:29:55.806953Z",
     "start_time": "2023-05-22T19:29:55.399907Z"
    }
   },
   "outputs": [],
   "source": [
    "import pandas as pd"
   ]
  },
  {
   "cell_type": "markdown",
   "id": "ffefd937",
   "metadata": {},
   "source": [
    "# 1 - DATAS"
   ]
  },
  {
   "cell_type": "code",
   "execution_count": 3,
   "id": "6c393bb7",
   "metadata": {
    "ExecuteTime": {
     "end_time": "2023-05-22T19:29:56.490848Z",
     "start_time": "2023-05-22T19:29:56.315575Z"
    }
   },
   "outputs": [],
   "source": [
    "df_score = pd.read_csv('C:/Users/perot/Documents/ds_repos/projects/Health_Insurance_Cross_Sell/data/processed/scores.csv')"
   ]
  },
  {
   "cell_type": "markdown",
   "id": "fee8db18",
   "metadata": {},
   "source": [
    "# 2 - EVALUATION"
   ]
  },
  {
   "cell_type": "code",
   "execution_count": 15,
   "id": "2f114e50",
   "metadata": {
    "ExecuteTime": {
     "end_time": "2023-05-22T19:38:20.346124Z",
     "start_time": "2023-05-22T19:38:20.340957Z"
    }
   },
   "outputs": [],
   "source": [
    "score = df_score['score']"
   ]
  },
  {
   "cell_type": "code",
   "execution_count": 19,
   "id": "82060f38",
   "metadata": {
    "ExecuteTime": {
     "end_time": "2023-05-22T19:42:04.107512Z",
     "start_time": "2023-05-22T19:42:04.081691Z"
    }
   },
   "outputs": [],
   "source": [
    "th = 0.55\n",
    "yhat_test = [ 1 if i > th else 0 for i in score ]  # Classificando os dados como classe 1 ou 0 dependendo do threshold escolhido.                                                                                                                                                                                                                                                                                                     "
   ]
  },
  {
   "cell_type": "code",
   "execution_count": null,
   "id": "cb3b8ef1",
   "metadata": {},
   "outputs": [],
   "source": [
    "# Threshold definido em 0.65 para um recall de 0.35"
   ]
  },
  {
   "cell_type": "code",
   "execution_count": 21,
   "id": "2915479d",
   "metadata": {
    "ExecuteTime": {
     "end_time": "2023-05-22T20:11:00.331889Z",
     "start_time": "2023-05-22T20:11:00.315979Z"
    }
   },
   "outputs": [],
   "source": [
    "x = yhat_test.count(1)"
   ]
  },
  {
   "cell_type": "code",
   "execution_count": 23,
   "id": "d7985f72",
   "metadata": {
    "ExecuteTime": {
     "end_time": "2023-05-22T20:12:13.698951Z",
     "start_time": "2023-05-22T20:12:13.681777Z"
    }
   },
   "outputs": [],
   "source": [
    "a = 11440 * 550"
   ]
  },
  {
   "cell_type": "code",
   "execution_count": 24,
   "id": "4b6aabff",
   "metadata": {
    "ExecuteTime": {
     "end_time": "2023-05-22T20:12:15.519194Z",
     "start_time": "2023-05-22T20:12:15.512658Z"
    }
   },
   "outputs": [
    {
     "data": {
      "text/plain": [
       "6292000"
      ]
     },
     "execution_count": 24,
     "metadata": {},
     "output_type": "execute_result"
    }
   ],
   "source": [
    "a"
   ]
  }
 ],
 "metadata": {
  "hide_input": false,
  "kernelspec": {
   "display_name": "Python 3 (ipykernel)",
   "language": "python",
   "name": "python3"
  },
  "language_info": {
   "codemirror_mode": {
    "name": "ipython",
    "version": 3
   },
   "file_extension": ".py",
   "mimetype": "text/x-python",
   "name": "python",
   "nbconvert_exporter": "python",
   "pygments_lexer": "ipython3",
   "version": "3.9.15"
  }
 },
 "nbformat": 4,
 "nbformat_minor": 5
}
