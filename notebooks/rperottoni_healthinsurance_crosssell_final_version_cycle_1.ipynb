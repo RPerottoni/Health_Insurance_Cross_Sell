{
 "cells": [
  {
   "cell_type": "markdown",
   "id": "8ba1e0d7",
   "metadata": {},
   "source": [
    "# PA004 - HEALTH INSURANCE CROS-SELL"
   ]
  },
  {
   "cell_type": "markdown",
   "id": "124c30d7",
   "metadata": {},
   "source": [
    "## Final Version Cycle 1"
   ]
  },
  {
   "cell_type": "markdown",
   "id": "ce96817c",
   "metadata": {},
   "source": [
    "## 0 - IMPORTS AND FUNCTIONS"
   ]
  },
  {
   "cell_type": "code",
   "execution_count": 1,
   "id": "c39cfa9f",
   "metadata": {
    "ExecuteTime": {
     "end_time": "2024-04-20T10:03:58.064411Z",
     "start_time": "2024-04-20T10:03:55.221714Z"
    }
   },
   "outputs": [
    {
     "ename": "ImportError",
     "evalue": "cannot import name 'interp' from 'scipy' (C:\\Users\\ricardo\\anaconda3\\envs\\hi_classifier\\lib\\site-packages\\scipy\\__init__.py)",
     "output_type": "error",
     "traceback": [
      "\u001b[1;31m---------------------------------------------------------------------------\u001b[0m",
      "\u001b[1;31mImportError\u001b[0m                               Traceback (most recent call last)",
      "Cell \u001b[1;32mIn[1], line 5\u001b[0m\n\u001b[0;32m      3\u001b[0m \u001b[38;5;28;01mimport\u001b[39;00m \u001b[38;5;21;01mnumpy\u001b[39;00m                   \u001b[38;5;28;01mas\u001b[39;00m \u001b[38;5;21;01mnp\u001b[39;00m\n\u001b[0;32m      4\u001b[0m \u001b[38;5;28;01mimport\u001b[39;00m \u001b[38;5;21;01mseaborn\u001b[39;00m                 \u001b[38;5;28;01mas\u001b[39;00m \u001b[38;5;21;01msns\u001b[39;00m\n\u001b[1;32m----> 5\u001b[0m \u001b[38;5;28;01mimport\u001b[39;00m \u001b[38;5;21;01mscikitplot\u001b[39;00m              \u001b[38;5;28;01mas\u001b[39;00m \u001b[38;5;21;01mskplt\u001b[39;00m\n\u001b[0;32m      6\u001b[0m \u001b[38;5;28;01mimport\u001b[39;00m \u001b[38;5;21;01mmatplotlib\u001b[39;00m\u001b[38;5;21;01m.\u001b[39;00m\u001b[38;5;21;01mpyplot\u001b[39;00m       \u001b[38;5;28;01mas\u001b[39;00m \u001b[38;5;21;01mplt\u001b[39;00m\n\u001b[0;32m      7\u001b[0m \u001b[38;5;28;01mimport\u001b[39;00m \u001b[38;5;21;01mplotly\u001b[39;00m\u001b[38;5;21;01m.\u001b[39;00m\u001b[38;5;21;01mexpress\u001b[39;00m          \u001b[38;5;28;01mas\u001b[39;00m \u001b[38;5;21;01mpx\u001b[39;00m\n",
      "File \u001b[1;32m~\\anaconda3\\envs\\hi_classifier\\lib\\site-packages\\scikitplot\\__init__.py:2\u001b[0m\n\u001b[0;32m      1\u001b[0m \u001b[38;5;28;01mfrom\u001b[39;00m \u001b[38;5;21;01m__future__\u001b[39;00m \u001b[38;5;28;01mimport\u001b[39;00m absolute_import, division, print_function, unicode_literals\n\u001b[1;32m----> 2\u001b[0m \u001b[38;5;28;01mfrom\u001b[39;00m \u001b[38;5;21;01m.\u001b[39;00m \u001b[38;5;28;01mimport\u001b[39;00m metrics, cluster, decomposition, estimators\n\u001b[0;32m      3\u001b[0m __version__ \u001b[38;5;241m=\u001b[39m \u001b[38;5;124m'\u001b[39m\u001b[38;5;124m0.3.7\u001b[39m\u001b[38;5;124m'\u001b[39m\n\u001b[0;32m      6\u001b[0m \u001b[38;5;28;01mfrom\u001b[39;00m \u001b[38;5;21;01mscikitplot\u001b[39;00m\u001b[38;5;21;01m.\u001b[39;00m\u001b[38;5;21;01mclassifiers\u001b[39;00m \u001b[38;5;28;01mimport\u001b[39;00m classifier_factory\n",
      "File \u001b[1;32m~\\anaconda3\\envs\\hi_classifier\\lib\\site-packages\\scikitplot\\metrics.py:27\u001b[0m\n\u001b[0;32m     24\u001b[0m \u001b[38;5;28;01mfrom\u001b[39;00m \u001b[38;5;21;01msklearn\u001b[39;00m\u001b[38;5;21;01m.\u001b[39;00m\u001b[38;5;21;01mcalibration\u001b[39;00m \u001b[38;5;28;01mimport\u001b[39;00m calibration_curve\n\u001b[0;32m     25\u001b[0m \u001b[38;5;28;01mfrom\u001b[39;00m \u001b[38;5;21;01msklearn\u001b[39;00m\u001b[38;5;21;01m.\u001b[39;00m\u001b[38;5;21;01mutils\u001b[39;00m \u001b[38;5;28;01mimport\u001b[39;00m deprecated\n\u001b[1;32m---> 27\u001b[0m \u001b[38;5;28;01mfrom\u001b[39;00m \u001b[38;5;21;01mscipy\u001b[39;00m \u001b[38;5;28;01mimport\u001b[39;00m interp\n\u001b[0;32m     29\u001b[0m \u001b[38;5;28;01mfrom\u001b[39;00m \u001b[38;5;21;01mscikitplot\u001b[39;00m\u001b[38;5;21;01m.\u001b[39;00m\u001b[38;5;21;01mhelpers\u001b[39;00m \u001b[38;5;28;01mimport\u001b[39;00m binary_ks_curve, validate_labels\n\u001b[0;32m     30\u001b[0m \u001b[38;5;28;01mfrom\u001b[39;00m \u001b[38;5;21;01mscikitplot\u001b[39;00m\u001b[38;5;21;01m.\u001b[39;00m\u001b[38;5;21;01mhelpers\u001b[39;00m \u001b[38;5;28;01mimport\u001b[39;00m cumulative_gain_curve\n",
      "\u001b[1;31mImportError\u001b[0m: cannot import name 'interp' from 'scipy' (C:\\Users\\ricardo\\anaconda3\\envs\\hi_classifier\\lib\\site-packages\\scipy\\__init__.py)"
     ]
    }
   ],
   "source": [
    "# Data Analysis and Data Manipulation Libraries\n",
    "import pandas                  as pd\n",
    "import numpy                   as np\n",
    "import seaborn                 as sns\n",
    "import scikitplot              as skplt\n",
    "import matplotlib.pyplot       as plt\n",
    "import plotly.express          as px\n",
    "import inflection\n",
    "from ydata_profiling           import ProfileReport \n",
    "\n",
    "# Machine Learning Models\n",
    "import optuna\n",
    "from sklearn.linear_model      import LogisticRegression\n",
    "from xgboost                   import XGBClassifier\n",
    "from sklearn.neighbors         import KNeighborsClassifier\n",
    "\n",
    "from sklearn                   import model_selection as ms\n",
    "from sklearn.model_selection   import  KFold, StratifiedKFold\n",
    "from sklearn                   import pipeline\n",
    "\n",
    "# Metrics and Performance\n",
    "from sklearn.metrics           import precision_score, roc_auc_score, roc_curve,auc, recall_score\n",
    "from sklearn.metrics           import precision_recall_curve\n",
    "\n",
    "# Data Transformer\n",
    "from feature_engine.encoding       import CountFrequencyEncoder\n",
    "\n",
    "# Dysplay\n",
    "%matplotlib inline\n",
    "from IPython.core.display    import HTML\n",
    "from IPython.display         import Image\n",
    "\n",
    "import warnings\n",
    "warnings.filterwarnings( 'ignore' )"
   ]
  },
  {
   "cell_type": "markdown",
   "id": "43cdef58",
   "metadata": {},
   "source": [
    "### 0.1 - HELPER FUNCTIONS"
   ]
  },
  {
   "cell_type": "code",
   "execution_count": null,
   "id": "cc80304a",
   "metadata": {
    "ExecuteTime": {
     "end_time": "2024-04-20T10:03:58.066416Z",
     "start_time": "2024-04-20T10:03:58.066416Z"
    },
    "code_folding": []
   },
   "outputs": [],
   "source": [
    "def ml_performance( model_name, precision_atK, recall_atK):\n",
    "        \n",
    "        return pd.DataFrame( {'Model Name': model_name,\n",
    "                              'Precision_at_K': precision_atK,\n",
    "                              'Recall_at_K': recall_atK}, index=[0] )\n",
    "\n",
    "def precision_at_k_cv(y_true, proba_predictions, k):\n",
    "    # Sort the estimated probabilities in descending order.\n",
    "    sorted_indices = np.argsort(proba_predictions[:, 1])[::-1]\n",
    "    top_k_indices = sorted_indices[:k]\n",
    "    \n",
    "    # Convert the probabilities into binary labels using the top k.\n",
    "    binary_predictions = np.zeros_like(y_true)\n",
    "    binary_predictions[top_k_indices] = 1\n",
    "    \n",
    "    # Calculate precision at k.\n",
    "    precision_at_k = precision_score(y_true, binary_predictions)\n",
    "    \n",
    "    return precision_at_k\n",
    "\n",
    "def recall_at_k_cv(y_true, proba_predictions, k):\n",
    "    # Sort the estimated probabilities in descending order.\n",
    "    sorted_indices = np.argsort(proba_predictions[:, 1])[::-1]\n",
    "    top_k_indices = sorted_indices[:k]\n",
    "    \n",
    "    # Convert the probabilities into binary labels using the top k.\n",
    "    binary_predictions = np.zeros_like(y_true)\n",
    "    binary_predictions[top_k_indices] = 1\n",
    "    \n",
    "    # Calculate recall at k\n",
    "    recall_at_k = recall_score(y_true, binary_predictions)\n",
    "    \n",
    "    return recall_at_k\n",
    "\n",
    "def cross_validation(kfold, modelName, model, X, y, at_k):\n",
    "    \n",
    "    # Number of folds\n",
    "    fold=ms.StratifiedKFold(n_splits = kfold, shuffle=True, random_state=42)\n",
    "    \n",
    "    # Performance variables\n",
    "    precision_list = []\n",
    "    recall_list = []\n",
    "    cv_performance = {}\n",
    "    \n",
    "    for train_cv,val_cv in fold.split(X, y):\n",
    "        \n",
    "        # Separating train and validation dataset for each kfold\n",
    "        # training data\n",
    "        x_train_fold = X.iloc[train_cv]\n",
    "        x_train_fold = x_train_fold\n",
    "        \n",
    "        y_train_fold = y.iloc[train_cv]\n",
    "        y_train_fold = y_train_fold\n",
    "        \n",
    "        # validation data\n",
    "        x_val_fold = X.iloc[val_cv]\n",
    "        x_val_fold = x_val_fold\n",
    "        \n",
    "        y_val_fold = y.iloc[val_cv]\n",
    "        y_val_fold = y_val_fold\n",
    "        \n",
    "        # fitting the model\n",
    "        model_fitted = model.fit(x_train_fold, y_train_fold)\n",
    "        \n",
    "        # getting the prediction probability\n",
    "        x_val_fold['response'] = y_val_fold\n",
    "        val_scored = prediction_score(model_fitted, x_val_fold)\n",
    "        \n",
    "        # Getting precision and recall at k\n",
    "        precision = val_scored.loc[at_k, 'precision_at_k']\n",
    "        recall = val_scored.loc[at_k, 'recall_at_k']\n",
    "        \n",
    "        precision_list.append(precision)\n",
    "        recall_list.append(recall)\n",
    "        \n",
    "    # calculating the mean and std performance of all kfolds\n",
    "    precision_cv = np.round(np.mean(precision_list),4).astype(float)\n",
    "    std_precision_cv = '+/-' + np.round(np.std(precision_list),4).astype(str)\n",
    "    recall_cv = np.round(np.mean(recall_list),4).astype(float)\n",
    "    std_recall_cv = ' +/- ' + np.round(np.std(recall_list),4).astype(str)\n",
    "        \n",
    "    cv_performance[modelName] = [precision_cv, std_precision_cv, recall_cv, std_recall_cv]\n",
    "    model_performance_cv = pd.DataFrame(cv_performance, index=['precision_at_k', 'std_precision', 'recall_at_k', 'std_recall'])\n",
    "\n",
    "    return model_performance_cv\n",
    "\n",
    "def prediction_score(model, data):\n",
    "    # Separating train and validation dataset for each kfold\n",
    "    x_train = data.drop(columns=['response'])\n",
    "    y_train = data['response']\n",
    "    \n",
    "    # prediction probability (score)\n",
    "    yhat_proba = model.predict_proba(x_train)[:, 1].tolist()\n",
    "    \n",
    "    # merging score to dataset\n",
    "    data_scored = data.copy()\n",
    "    data_scored['score'] = yhat_proba\n",
    "    \n",
    "    # sort\n",
    "    data_scored = data_scored.sort_values('score', ascending=False)\n",
    "    \n",
    "    # precision and recall\n",
    "    data_scored = data_scored.reset_index(drop=True)\n",
    "    data_scored['n_samples'] = data_scored.index + 1\n",
    "    data_scored['precision_at_k'] = data_scored['response'].cumsum() / data_scored['n_samples']\n",
    "    data_scored['recall_at_k'] = data_scored['response'].cumsum() / data_scored['response'].sum()\n",
    "    \n",
    "    return data_scored\n",
    "\n"
   ]
  },
  {
   "cell_type": "code",
   "execution_count": null,
   "id": "6ab556ae",
   "metadata": {
    "ExecuteTime": {
     "end_time": "2024-04-20T10:03:58.068430Z",
     "start_time": "2024-04-20T10:03:58.068430Z"
    }
   },
   "outputs": [],
   "source": [
    "def jupyter_settings():\n",
    "    %matplotlib inline\n",
    "    \n",
    "    plt.style.use( 'bmh' )\n",
    "    plt.rcParams['figure.figsize'] = [18, 9]\n",
    "    plt.rcParams['font.size'] = 24\n",
    "    \n",
    "    display( HTML( '<style>.container { width:100% !important; }</style>') )\n",
    "    pd.options.display.max_columns = None\n",
    "    pd.options.display.max_rows = None\n",
    "    pd.set_option( 'display.expand_frame_repr', False )\n",
    "   \n",
    "    sns.set()\n",
    "jupyter_settings()"
   ]
  },
  {
   "cell_type": "markdown",
   "id": "82380eb7",
   "metadata": {
    "cell_style": "split"
   },
   "source": [
    "## 1 - DATAS"
   ]
  },
  {
   "cell_type": "code",
   "execution_count": null,
   "id": "c520d31c",
   "metadata": {
    "ExecuteTime": {
     "end_time": "2024-04-20T10:03:58.069815Z",
     "start_time": "2024-04-20T10:03:58.069815Z"
    }
   },
   "outputs": [],
   "source": [
    "# Train Datas - Windows\n",
    "df_raw = pd.read_csv('C:/Users/perot/Documents/ds_repos/projects/Health_Insurance_Cross_Sell/data/raw/data.csv')"
   ]
  },
  {
   "cell_type": "markdown",
   "id": "ca98eb9e",
   "metadata": {},
   "source": [
    "### 1.1 - DATASET SPLIT"
   ]
  },
  {
   "cell_type": "code",
   "execution_count": 2,
   "id": "a77d765c",
   "metadata": {
    "ExecuteTime": {
     "end_time": "2024-04-20T10:03:58.423519Z",
     "start_time": "2024-04-20T10:03:58.391803Z"
    }
   },
   "outputs": [
    {
     "ename": "NameError",
     "evalue": "name 'df_raw' is not defined",
     "output_type": "error",
     "traceback": [
      "\u001b[1;31m---------------------------------------------------------------------------\u001b[0m",
      "\u001b[1;31mNameError\u001b[0m                                 Traceback (most recent call last)",
      "Cell \u001b[1;32mIn[2], line 2\u001b[0m\n\u001b[0;32m      1\u001b[0m \u001b[38;5;66;03m# Split dataset into train, test and validation datasets\u001b[39;00m\n\u001b[1;32m----> 2\u001b[0m X \u001b[38;5;241m=\u001b[39m \u001b[43mdf_raw\u001b[49m\u001b[38;5;241m.\u001b[39mdrop( [\u001b[38;5;124m'\u001b[39m\u001b[38;5;124mresponse\u001b[39m\u001b[38;5;124m'\u001b[39m], axis\u001b[38;5;241m=\u001b[39m\u001b[38;5;241m1\u001b[39m )\n\u001b[0;32m      3\u001b[0m y \u001b[38;5;241m=\u001b[39m df_raw[\u001b[38;5;124m'\u001b[39m\u001b[38;5;124mresponse\u001b[39m\u001b[38;5;124m'\u001b[39m]\u001b[38;5;241m.\u001b[39mcopy()\n\u001b[0;32m      4\u001b[0m x_train, x_valid, y_train, y_valid \u001b[38;5;241m=\u001b[39m ms\u001b[38;5;241m.\u001b[39mtrain_test_split( X, y, test_size\u001b[38;5;241m=\u001b[39m\u001b[38;5;241m0.20\u001b[39m, random_state\u001b[38;5;241m=\u001b[39m\u001b[38;5;241m42\u001b[39m )\n",
      "\u001b[1;31mNameError\u001b[0m: name 'df_raw' is not defined"
     ]
    }
   ],
   "source": [
    "# Split dataset into train, test and validation datasets\n",
    "X = df_raw.drop( ['response'], axis=1 )\n",
    "y = df_raw['response'].copy()\n",
    "x_train, x_valid, y_train, y_valid = ms.train_test_split( X, y, test_size=0.20, random_state=42 )\n",
    "x_train, x_test, y_train, y_test   = ms.train_test_split( x_train, y_train, test_size=0.25, shuffle=True, random_state=42 )\n",
    "\n",
    "print(f\" x_train: {x_train.shape}\\n y_train: {y_train.shape}\\n x_valid: {x_valid.shape}\\n y_valid: {y_valid.shape}\\n x_test: {x_test.shape}\\n y_test: {y_test.shape}\\n\")"
   ]
  },
  {
   "cell_type": "markdown",
   "id": "c71cfb62",
   "metadata": {
    "jp-MarkdownHeadingCollapsed": true,
    "tags": []
   },
   "source": [
    "### 1.2 - DATA DESCRIPTION"
   ]
  },
  {
   "cell_type": "code",
   "execution_count": 3,
   "id": "0b7c999f",
   "metadata": {
    "ExecuteTime": {
     "end_time": "2024-04-20T10:03:58.918140Z",
     "start_time": "2024-04-20T10:03:58.897133Z"
    }
   },
   "outputs": [
    {
     "ename": "NameError",
     "evalue": "name 'df_raw' is not defined",
     "output_type": "error",
     "traceback": [
      "\u001b[1;31m---------------------------------------------------------------------------\u001b[0m",
      "\u001b[1;31mNameError\u001b[0m                                 Traceback (most recent call last)",
      "Cell \u001b[1;32mIn[3], line 1\u001b[0m\n\u001b[1;32m----> 1\u001b[0m df1 \u001b[38;5;241m=\u001b[39m \u001b[43mdf_raw\u001b[49m\u001b[38;5;241m.\u001b[39mcopy()\n",
      "\u001b[1;31mNameError\u001b[0m: name 'df_raw' is not defined"
     ]
    }
   ],
   "source": [
    "df1 = df_raw.copy()"
   ]
  },
  {
   "cell_type": "code",
   "execution_count": null,
   "id": "9c2425e1",
   "metadata": {
    "ExecuteTime": {
     "end_time": "2023-09-18T18:00:12.868281Z",
     "start_time": "2023-09-18T18:00:12.858972Z"
    }
   },
   "outputs": [],
   "source": [
    "#prof = ProfileReport(df1)\n",
    "#prof.to_file(output_file='data_descriptive.html')"
   ]
  },
  {
   "cell_type": "code",
   "execution_count": null,
   "id": "5bc2588d",
   "metadata": {
    "ExecuteTime": {
     "end_time": "2023-09-18T18:00:13.085007Z",
     "start_time": "2023-09-18T18:00:13.063009Z"
    }
   },
   "outputs": [],
   "source": [
    "# Data Dimensions\n",
    "print( 'Number of Rows: {}'.format( df1.shape[0] ) )\n",
    "print( 'Number of Cols: {}'.format( df1.shape[1] ) )"
   ]
  },
  {
   "cell_type": "code",
   "execution_count": null,
   "id": "829c7ef3",
   "metadata": {
    "ExecuteTime": {
     "end_time": "2023-09-18T18:00:13.417094Z",
     "start_time": "2023-09-18T18:00:13.394387Z"
    }
   },
   "outputs": [],
   "source": [
    "# Data Types\n",
    "df1.dtypes"
   ]
  },
  {
   "cell_type": "code",
   "execution_count": null,
   "id": "b4281e02",
   "metadata": {
    "ExecuteTime": {
     "end_time": "2023-09-18T18:00:15.430628Z",
     "start_time": "2023-09-18T18:00:15.246753Z"
    }
   },
   "outputs": [],
   "source": [
    "# Check NAN Values\n",
    "df1.isna().sum()"
   ]
  },
  {
   "cell_type": "markdown",
   "id": "26fa0687",
   "metadata": {
    "jp-MarkdownHeadingCollapsed": true,
    "tags": []
   },
   "source": [
    "### 1.3 - DATA DESCRIPTIVE"
   ]
  },
  {
   "cell_type": "code",
   "execution_count": null,
   "id": "4079e9d8",
   "metadata": {
    "ExecuteTime": {
     "end_time": "2023-09-18T18:00:18.766307Z",
     "start_time": "2023-09-18T18:00:18.615425Z"
    }
   },
   "outputs": [],
   "source": [
    "df1.info()"
   ]
  },
  {
   "cell_type": "code",
   "execution_count": null,
   "id": "13c5519b",
   "metadata": {
    "ExecuteTime": {
     "end_time": "2023-09-18T18:00:18.986000Z",
     "start_time": "2023-09-18T18:00:18.846998Z"
    }
   },
   "outputs": [],
   "source": [
    "df1.describe().T"
   ]
  },
  {
   "cell_type": "code",
   "execution_count": null,
   "id": "d95336af",
   "metadata": {
    "ExecuteTime": {
     "end_time": "2023-09-18T21:06:16.883375Z",
     "start_time": "2023-09-18T21:06:16.847258Z"
    }
   },
   "outputs": [],
   "source": [
    "# Select columns where the content is different 0 or 1.\n",
    "# numerical features\n",
    "#num_attributes = df1.select_dtypes(include=['int64', 'float64'])\n",
    "num_attributes = df1[['id','age','region_code','policy_sales_channel','annual_premium','vintage']]\n",
    "# categorical features\n",
    "#cat_attributes = df1.select_dtypes(exclude=['int64', 'float64'])\n",
    "cat_attributes = df1[['gender','vehicle_age']]"
   ]
  },
  {
   "cell_type": "code",
   "execution_count": null,
   "id": "378e2b7a",
   "metadata": {
    "ExecuteTime": {
     "end_time": "2023-09-18T21:06:17.961757Z",
     "start_time": "2023-09-18T21:06:17.042241Z"
    }
   },
   "outputs": [],
   "source": [
    "num_attributes.hist(bins=25)"
   ]
  },
  {
   "cell_type": "code",
   "execution_count": null,
   "id": "5d236678",
   "metadata": {
    "ExecuteTime": {
     "end_time": "2023-09-18T18:00:24.523237Z",
     "start_time": "2023-09-18T18:00:24.175344Z"
    }
   },
   "outputs": [],
   "source": [
    "# Central Tendency - mean, median\n",
    "ct1 = pd.DataFrame( num_attributes.apply( np.mean ) ).T\n",
    "ct2 = pd.DataFrame( num_attributes.apply( np.median ) ).T\n",
    "\n",
    "# Dispersion - std, min, max, range, skew, kurtosis\n",
    "d1 = pd.DataFrame( num_attributes.apply( np.std ) ).T\n",
    "d2 = pd.DataFrame( num_attributes.apply( min ) ).T\n",
    "d3 = pd.DataFrame( num_attributes.apply( max ) ).T\n",
    "d4 = pd.DataFrame( num_attributes.apply( lambda x: x.max() - x.min() ) ).T\n",
    "d5 = pd.DataFrame( num_attributes.apply( lambda x: x.skew() ) ).T\n",
    "d6 = pd.DataFrame( num_attributes.apply( lambda x: x.kurtosis() ) ).T\n",
    "\n",
    "# Concatenar\n",
    "m = pd.concat( [ d2, d3, d4, ct1, ct2, d1, d5, d6 ] ).T.reset_index()\n",
    "m.columns = ['attributes', 'min', 'max', 'range', 'mean', 'median', 'std', 'skew', 'kurtosis']\n",
    "m"
   ]
  },
  {
   "cell_type": "code",
   "execution_count": null,
   "id": "980d63af",
   "metadata": {
    "ExecuteTime": {
     "end_time": "2023-09-18T19:14:53.045915Z",
     "start_time": "2023-09-18T19:14:42.081037Z"
    }
   },
   "outputs": [],
   "source": [
    "# Looking at the distribuition of the following variables.\n",
    "fig, axs = plt.subplots(3, figsize = (8, 12), dpi=150)\n",
    "sns.distplot(df1['age'], ax=axs[0], bins=10)\n",
    "sns.distplot(df1[df1['annual_premium']<100000]['annual_premium'], ax=axs[1])\n",
    "sns.distplot(df1['vintage'], ax=axs[2]);"
   ]
  },
  {
   "cell_type": "code",
   "execution_count": null,
   "id": "ba8523d1",
   "metadata": {
    "ExecuteTime": {
     "end_time": "2023-09-18T19:03:50.757063Z",
     "start_time": "2023-09-18T19:03:48.523602Z"
    }
   },
   "outputs": [],
   "source": [
    "fig, axs = plt.subplots(ncols=3, nrows=2, figsize= (15, 8))\n",
    "\n",
    "sns.countplot(x = 'driving_license', palette = 'Set2', data=df1, ax=axs[0][0])\n",
    "sns.countplot(x = 'previously_insured', palette = 'Set2', data=df1, ax=axs[0][1])\n",
    "sns.countplot(x = 'gender', palette = 'Set2', data=df1, ax=axs[0][2])\n",
    "sns.countplot(x = 'vehicle_age', palette = 'Set2', data=df1, ax=axs[1][0])\n",
    "sns.countplot(x = 'vehicle_damage', palette = 'Set2', data=df1, ax=axs[1][1])"
   ]
  },
  {
   "cell_type": "code",
   "execution_count": null,
   "id": "3a83c12d",
   "metadata": {
    "ExecuteTime": {
     "end_time": "2023-09-18T19:04:10.836529Z",
     "start_time": "2023-09-18T19:04:09.482517Z"
    }
   },
   "outputs": [],
   "source": [
    "fig = plt.subplots(figsize = (15,5))\n",
    "sns.countplot(x='region_code', data=df1)"
   ]
  },
  {
   "cell_type": "code",
   "execution_count": null,
   "id": "67d50948",
   "metadata": {
    "ExecuteTime": {
     "end_time": "2023-09-18T19:04:21.109730Z",
     "start_time": "2023-09-18T19:04:18.170372Z"
    }
   },
   "outputs": [],
   "source": [
    "policy_1 = df1['policy_sales_channel'].value_counts().iloc[0:55]\n",
    "policy_1 = policy_1.reset_index()\n",
    "policy_2 = df1['policy_sales_channel'].value_counts().iloc[55:110]\n",
    "policy_2 = policy_2.reset_index()\n",
    "policy_3 = df1['policy_sales_channel'].value_counts().iloc[110:156]\n",
    "policy_3 = policy_3.reset_index()\n",
    "\n",
    "fig, axs = plt.subplots(ncols=3, figsize=(15,15))\n",
    "sns.barplot(y='index', x='policy_sales_channel', data=policy_1, ax=axs[0], orient='h', order=policy_1['index'])\n",
    "sns.barplot(y='index', x='policy_sales_channel', data=policy_2, ax=axs[1], orient='h', order=policy_2['index'])\n",
    "sns.barplot(y='index', x='policy_sales_channel', data=policy_3, ax=axs[2], orient='h', order=policy_3['index'])"
   ]
  },
  {
   "cell_type": "markdown",
   "id": "8a2a7dd3",
   "metadata": {
    "jp-MarkdownHeadingCollapsed": true,
    "tags": []
   },
   "source": [
    "## 2 - FEATURE ENGINEERING"
   ]
  },
  {
   "cell_type": "code",
   "execution_count": null,
   "id": "34df0288",
   "metadata": {
    "ExecuteTime": {
     "end_time": "2023-09-18T19:04:36.035929Z",
     "start_time": "2023-09-18T19:04:35.635326Z"
    }
   },
   "outputs": [],
   "source": [
    "df2 = df1.copy()\n",
    "\n",
    "# Ajustando coluna vehicle_age\n",
    "df2['vehicle_age'] = df2['vehicle_age'].apply(lambda x: 1 if (x == '< 1 Year') else\n",
    "                                                        2 if (x == '1-2 Year') else\n",
    "                                                        3)\n",
    "# Ajustando coluna vehicle_damage\n",
    "df2['vehicle_damage'] = df2['vehicle_damage'].apply(lambda x: 1 if (x == 'Yes') else 0)"
   ]
  },
  {
   "cell_type": "markdown",
   "id": "05338a2e",
   "metadata": {
    "tags": []
   },
   "source": [
    "## 3 - DATA FILTERING"
   ]
  },
  {
   "cell_type": "code",
   "execution_count": null,
   "id": "26c2e485",
   "metadata": {
    "ExecuteTime": {
     "end_time": "2023-09-18T19:04:37.048852Z",
     "start_time": "2023-09-18T19:04:36.981987Z"
    }
   },
   "outputs": [],
   "source": [
    "df3 = df2.copy()"
   ]
  },
  {
   "cell_type": "markdown",
   "id": "2a69264e",
   "metadata": {
    "jp-MarkdownHeadingCollapsed": true,
    "tags": []
   },
   "source": [
    "## 4 - EXPLORATORY DATA ANALYSIS (EDA)"
   ]
  },
  {
   "cell_type": "code",
   "execution_count": null,
   "id": "289d64ea",
   "metadata": {
    "ExecuteTime": {
     "end_time": "2023-09-18T19:04:37.641098Z",
     "start_time": "2023-09-18T19:04:37.608967Z"
    }
   },
   "outputs": [],
   "source": [
    "df4 = df3.copy()"
   ]
  },
  {
   "cell_type": "code",
   "execution_count": null,
   "id": "1c178e8a",
   "metadata": {
    "ExecuteTime": {
     "end_time": "2023-09-18T19:04:38.026112Z",
     "start_time": "2023-09-18T19:04:38.004666Z"
    }
   },
   "outputs": [],
   "source": [
    "df4.head()"
   ]
  },
  {
   "cell_type": "markdown",
   "id": "1056e2c3",
   "metadata": {},
   "source": [
    "### 4.1 - UNIVARIATE ANALYSIS"
   ]
  },
  {
   "cell_type": "code",
   "execution_count": null,
   "id": "63ba9a6c",
   "metadata": {
    "ExecuteTime": {
     "end_time": "2023-09-18T19:04:53.575018Z",
     "start_time": "2023-09-18T19:04:38.707359Z"
    }
   },
   "outputs": [],
   "source": [
    "fig, axs = plt.subplots(ncols=3, nrows=3, figsize= (15, 8))\n",
    "\n",
    "plt.suptitle(\"Analysis Of Variable Response\",fontweight=\"bold\", fontsize=20)\n",
    "\n",
    "sns.countplot(x = 'response', hue = 'gender', palette = 'Set2', data = df4, ax=axs[0][0])\n",
    "sns.countplot(x = 'response', hue = 'previously_insured', palette = 'Set2', data = df4, ax=axs[0][1])\n",
    "sns.countplot(x = 'response', hue = 'vehicle_age', palette = 'Set2', data = df4, ax=axs[0][2])\n",
    "sns.countplot(x = 'response', hue = 'vehicle_damage', palette = 'Set2', data = df4, ax=axs[1][0])\n",
    "sns.countplot(x = 'response', hue = 'driving_license', palette = 'Set2', data = df4, ax=axs[1][1])\n",
    "sns.kdeplot(x='age', hue='response', palette = 'Set2', shade=True, data=df4, ax=axs[1][2])\n",
    "sns.kdeplot(x='annual_premium', hue='response', palette = 'Set2', shade=True, data=df4, ax=axs[2][0])\n",
    "sns.kdeplot(x='vintage', hue='response', palette = 'Set2', shade=True, data=df4, ax=axs[2][1])"
   ]
  },
  {
   "cell_type": "code",
   "execution_count": null,
   "id": "dd20a476",
   "metadata": {
    "ExecuteTime": {
     "end_time": "2023-09-18T19:04:54.325648Z",
     "start_time": "2023-09-18T19:04:53.575018Z"
    }
   },
   "outputs": [],
   "source": [
    "# 'policy_sales_channel'\n",
    "aux1 = pd.crosstab(df4['policy_sales_channel'], df4['response']).apply(lambda x: x/x.sum(), axis=1).reset_index()\n",
    "\n",
    "x = aux1['policy_sales_channel']\n",
    "y1=aux1[0]\n",
    "y2=aux1[1]\n",
    "\n",
    "plt.stackplot(x, y1, y2, labels=['0', '1'])\n",
    "plt.xlabel('Policy Sales Channel')\n",
    "plt.legend(loc='lower center');"
   ]
  },
  {
   "cell_type": "markdown",
   "id": "35dd946a",
   "metadata": {},
   "source": [
    "### 4.2 - BIVARIATE ANALYSIS"
   ]
  },
  {
   "cell_type": "code",
   "execution_count": null,
   "id": "c3a3ca58",
   "metadata": {
    "ExecuteTime": {
     "end_time": "2023-09-18T21:42:02.339335Z",
     "start_time": "2023-09-18T21:42:02.206282Z"
    }
   },
   "outputs": [],
   "source": [
    "#1.The interest on purchase the vehicle insurance is greater for customers that damaged their vehicle before and doesn't have insurance. (FALSE)\n",
    "d1 = df4[( df4['previously_insured'] == 0) & (df4['vehicle_damage'] == 1)]\n",
    "\n",
    "ax1 = d1[['response','id']].groupby('response').count().reset_index()\n",
    "ax1['percentage'] = round(ax1['id'] / d1['id'].count()*100)\n",
    "ax1['response'] = ax1['response'].apply(lambda x: 'No' if (x == 0) else 'Yes')\n",
    "\n",
    "# Bar chart\n",
    "fig1 = px.bar(ax1, x='response', \n",
    "              y='percentage', \n",
    "              color='response', \n",
    "              text='percentage', \n",
    "              width=1500,\n",
    "              height=650,\n",
    "              color_discrete_sequence=px.colors.qualitative.Pastel2)\n",
    "fig1.update_traces(texttemplate='%{text:.2s}', \n",
    "                   textposition='outside')\n",
    "fig1.update_layout(title_text=\"Hypothesis 1: Purchase Interest vs Vehicle Damage.\", \n",
    "                   title_x=0.25,\n",
    "                   font=dict(size=20))\n",
    "fig1.show()"
   ]
  },
  {
   "cell_type": "markdown",
   "id": "9ba291bb",
   "metadata": {},
   "source": [
    "Hiphotesys is false once 75% of customers doesn't show interest in buying the vehicle insurance. "
   ]
  },
  {
   "cell_type": "code",
   "execution_count": null,
   "id": "c3ba18b9",
   "metadata": {
    "ExecuteTime": {
     "end_time": "2023-09-18T21:43:38.099738Z",
     "start_time": "2023-09-18T21:43:37.917449Z"
    }
   },
   "outputs": [],
   "source": [
    "# 2. The interest on purchase the vehicle insurance is greater for woman than men. (FALSE)\n",
    "ax2 = pd.crosstab(df4['gender'], df4['response'])\n",
    "ax2['percentage'] = round(ax2[1]/(ax2[0]+ax2[1])*100)\n",
    "\n",
    "# Creating new dataframe for a bar chart\n",
    "aux2 = [['Female', 10],['Male',14]]\n",
    "aux2_df = pd.DataFrame(aux2, columns=['gender','percentage'])\n",
    "\n",
    "# Bar chart\n",
    "fig = px.bar(aux2_df, \n",
    "             x='gender', \n",
    "             y='percentage', \n",
    "             color='gender', \n",
    "             text='percentage',\n",
    "             width=1500,\n",
    "             height=650, \n",
    "             color_discrete_sequence=px.colors.qualitative.Pastel2)\n",
    "fig.update_traces(texttemplate='%{text:.2s}', \n",
    "                  textposition='outside')\n",
    "fig.update_layout(title_text=\"Hypothesis 2: Purchase Interest vs Gender.\", \n",
    "                   title_x=0.25,\n",
    "                   font=dict(size=20))\n",
    "fig.show()\n"
   ]
  },
  {
   "cell_type": "markdown",
   "id": "63466f6e",
   "metadata": {
    "ExecuteTime": {
     "end_time": "2023-02-06T11:48:00.108723Z",
     "start_time": "2023-02-06T11:48:00.090301Z"
    }
   },
   "source": [
    "Hiphotesys is false once 14% of the men show interest in buying the vehicle insurance against 10% of women. "
   ]
  },
  {
   "cell_type": "markdown",
   "id": "b1b928bb",
   "metadata": {},
   "source": [
    "Hiphotesys is false, according the analysis, the period that the customers are with the company doesn't affect the interest in buying vehicle insurance. "
   ]
  },
  {
   "cell_type": "code",
   "execution_count": null,
   "id": "efb96e3e",
   "metadata": {
    "ExecuteTime": {
     "end_time": "2023-09-18T21:43:51.126662Z",
     "start_time": "2023-09-18T21:43:50.956176Z"
    }
   },
   "outputs": [],
   "source": [
    "# 3. The interest on purchase the vehicle insurance is greater for customers that spend less than 30k for annual premium.\n",
    "aux5 = df4[df4['annual_premium'] > 30000][['id','response']]\n",
    "aux6 = df4[df4['annual_premium'] <= 30000][['id','response']]\n",
    "\n",
    "# Percentage of interested customers that spend more than 30k in annual premium\n",
    "aux16 = aux5[['response','id']].groupby('response').count().reset_index()\n",
    "aux16['percentage'] = round( aux16['id'] / aux5.shape[0] * 100 )\n",
    "\n",
    "# Percentage of interested customers that spend less than 30k in annual premium\n",
    "aux17 = aux6[['response','id']].groupby('response').count().reset_index()\n",
    "aux17['percentage'] = round( aux17['id'] / aux6.shape[0] * 100 )\n",
    "\n",
    "# Creating new dataframe for a bar chart\n",
    "ax4 = [['30k or more in annual premium', 13],['30k or less in annual premium', 11]]\n",
    "ax4_df = pd.DataFrame(ax4, columns=['annual_premium','percentage'])\n",
    "\n",
    "# Bar chart\n",
    "fig = px.bar(ax4_df,\n",
    "             x='annual_premium',\n",
    "             y='percentage', \n",
    "             color='annual_premium', \n",
    "             text='percentage', \n",
    "             width=1500, \n",
    "             height=650, \n",
    "             color_discrete_sequence=px.colors.qualitative.Pastel2)\n",
    "fig.update_traces(texttemplate='%{text:.2s}',\n",
    "                  textposition='outside')\n",
    "fig.update_layout(title_text=\"Hypothesis 3: Purchase Interest vs Annual Premium\",\n",
    "                  title_x=0.17,\n",
    "                  font=dict(size=20))\n",
    "fig.show()"
   ]
  },
  {
   "cell_type": "markdown",
   "id": "10b6b208",
   "metadata": {},
   "source": [
    "False, customers that spend more than 30k yearly show greter interest on purchase vehicle insurance."
   ]
  },
  {
   "cell_type": "code",
   "execution_count": null,
   "id": "ea3171df",
   "metadata": {
    "ExecuteTime": {
     "end_time": "2023-09-18T21:44:48.409970Z",
     "start_time": "2023-09-18T21:44:48.248845Z"
    }
   },
   "outputs": [],
   "source": [
    "# 4. The interest on purchase the vehicle insurance is greater for customers that have driver license.\n",
    "aux9 = pd.crosstab(df4['driving_license'], df4['response'])\n",
    "aux9['percentage'] = round(aux9[1]/(aux9[0]+aux9[1])*100)\n",
    "\n",
    "# Creating new dataframe for a bar chart\n",
    "ax9 = [['No', 5 ],['Yes', 12]]\n",
    "ax9_df = pd.DataFrame(ax9, columns=['driving_license','percentage'])\n",
    "\n",
    "# Bar chart\n",
    "fig = px.bar(ax9_df, \n",
    "             x='driving_license', \n",
    "             y='percentage', \n",
    "             color='driving_license', \n",
    "             text='percentage', \n",
    "             width=1500,\n",
    "             height=650, \n",
    "             color_discrete_sequence=px.colors.qualitative.Pastel2 )\n",
    "fig.update_traces(texttemplate='%{text:.2s}', \n",
    "                  textposition='outside')\n",
    "fig.update_layout(title_text=\"Hypothesis 4: Purchase Interest vs Driving License.\", \n",
    "                  title_x=0.25,\n",
    "                  font=dict(size=20))\n",
    "fig.show()"
   ]
  },
  {
   "cell_type": "code",
   "execution_count": null,
   "id": "3a73549c",
   "metadata": {
    "ExecuteTime": {
     "end_time": "2023-09-18T21:45:43.336429Z",
     "start_time": "2023-09-18T21:45:43.159942Z"
    }
   },
   "outputs": [],
   "source": [
    "# 5. The interest on purchase the vehicle insurance is greater for customers that have new cars.\n",
    "aux10 = pd.crosstab(df4['vehicle_age'], df4['response'])\n",
    "aux10['percentage'] = round(aux10[1]/(aux10[0]+aux10[1])*100)\n",
    "\n",
    "# Creating new dataframe for a bar chart\n",
    "ax10 = [['New', 4 ],['Used', 17],['Old', 29]]\n",
    "ax10_df = pd.DataFrame(ax10, columns=['vehicle_age','percentage'])\n",
    "\n",
    "# Bar chart\n",
    "fig = px.bar(ax10_df, \n",
    "             x='vehicle_age', \n",
    "             y='percentage', \n",
    "             color='vehicle_age', \n",
    "             text='percentage',\n",
    "             width=1500,\n",
    "             height=650,\n",
    "             color_discrete_sequence=px.colors.qualitative.Pastel2)\n",
    "fig.update_traces(texttemplate='%{text:.2s}', \n",
    "                  textposition='outside')\n",
    "fig.update_layout(title_text=\"Hypothesis 5: Purchase Interest vs Vehicle Age.\", \n",
    "                   title_x=0.25,\n",
    "                   font=dict(size=20))\n",
    "fig.show()"
   ]
  },
  {
   "cell_type": "code",
   "execution_count": null,
   "id": "36101afa",
   "metadata": {
    "ExecuteTime": {
     "end_time": "2023-09-18T21:47:03.124508Z",
     "start_time": "2023-09-18T21:47:02.970842Z"
    }
   },
   "outputs": [],
   "source": [
    "# 6. The interest on purchase the vehicle insurance is greater for customers that have new cars and have damaged their vehicles.\n",
    "aux11 = df4[(df4['vehicle_damage'] == 1 )]\n",
    "aux12 = pd.crosstab(aux11['vehicle_age'], aux11['response'])\n",
    "aux12['percentage'] = round(aux12[1]/(aux12[0]+aux12[1])*100)\n",
    "\n",
    "# Creating new dataframe for a bar chart\n",
    "ax11 = [['New', 14 ],['Used', 27],['Old', 29]]\n",
    "ax11_df = pd.DataFrame(ax11, columns=['vehicle_age','percentage'])\n",
    "\n",
    "# Bar chart\n",
    "fig = px.bar(ax11_df, \n",
    "             x='vehicle_age', \n",
    "             y='percentage', \n",
    "             color='vehicle_age', \n",
    "             text='percentage',\n",
    "             width=1500,\n",
    "             height=650, \n",
    "             color_discrete_sequence=px.colors.qualitative.Pastel2)\n",
    "fig.update_traces(texttemplate='%{text:.2s}', \n",
    "                  textposition='outside')\n",
    "fig.update_layout(title_text=\"Hypothesis 6: Purchase Interest vs New (damaged) cars.\", \n",
    "                   title_x=0.25,\n",
    "                   font=dict(size=20))\n",
    "fig.show()"
   ]
  },
  {
   "cell_type": "code",
   "execution_count": null,
   "id": "ab602a47",
   "metadata": {
    "ExecuteTime": {
     "end_time": "2023-09-18T21:48:09.017084Z",
     "start_time": "2023-09-18T21:48:08.819176Z"
    }
   },
   "outputs": [],
   "source": [
    "# 7. The interest on purchase the vehicle insurance is lower for customers that are already insured.\n",
    "aux15 = pd.crosstab(df4['previously_insured'], df4['response'])\n",
    "aux15['percentage'] = round(aux15[1]/(aux15[0]+aux15[1])*100)\n",
    "aux15\n",
    "\n",
    "# Creating new dataframe for a bar chart\n",
    "ax14 = [['No', 23 ],['Yes', 0]] \n",
    "ax14_df = pd.DataFrame(ax14, columns=['previously_insured','percentage'])\n",
    "\n",
    "# Bar chart\n",
    "fig = px.bar(ax14_df, \n",
    "             x='previously_insured', \n",
    "             y='percentage', \n",
    "             color='previously_insured', \n",
    "             text='percentage',\n",
    "             width = 1500,\n",
    "             height=650, \n",
    "             color_discrete_sequence=px.colors.qualitative.Pastel2)\n",
    "fig.update_traces(texttemplate='%{text:.2s}', \n",
    "                  textposition='outside')\n",
    "fig.update_layout(title_text=\"Hypothesis 7: Purchase Interest vs Previusly Insured.\", \n",
    "                   title_x=0.25,\n",
    "                   font=dict(size=20))\n",
    "fig.show()\n"
   ]
  },
  {
   "cell_type": "markdown",
   "id": "04d10796",
   "metadata": {},
   "source": [
    "**Hypothesis Validation**\n",
    "\n",
    "1. The interest on purchase the vehicle insurance is greater for customers that damaged their vehicle before and doesn't have insurance.\n",
    "    **False, of the customers that damaged their car and doesn't have insurance, only 25% show interest in acquire vehicle insurance.**\n",
    "\n",
    "2. The interest on purchase the vehicle insurance is greater for woman than men.\n",
    "    **False, only 10% of women show interest in acquire vehicle insurance, whereas 13% of the men show interest on acquire vehicle insurance.**\n",
    "\n",
    "3. The interest on purchase vehicle insurance is greater for vintage customers ( 7 months or more ).\n",
    "    **False, the period that customers are on the company doensn't show influency on interest in buying vehicle insurance.**\n",
    "\n",
    "4. The interest on purchase the vehicle insurance is greater for young customers.(Between 18 and 30 years old.)\n",
    "    **False, customers that spend more than 30k yearly show greter interest on purchase vehicle insurance.**\n",
    "\n",
    "5. The interest on purchase the vehicle insurance is greater for young customers.(Between 18 and 30 years old.)\n",
    "    **False, adults and elderlies show greater interest on buying vehicle insurance.**\n",
    "\n",
    "6. The interest on purchase the vehicle insurance is greater for customers that have driver license.\n",
    "    **True, arround 12% of customers that hold a driving license show interest in buying the vehicle insurance.**\n",
    "\n",
    "7. The interest on purchase the vehicle insurance is greater for customers that have new cars.\n",
    "    **False, the interest is greater for customers that own an old car.**\n",
    "\n",
    "8. The interest on purchase the vehicle insurance is greater for customers that have new cars and have damaged their vehicles.\n",
    "    **False, of the customers who damaged their car, the ones that own a old car show greater interest in buying the vehicle insurance (29%), followed by customers that own used cars (27%).**\n",
    "\n",
    "9. The interest on purchase the vehicle insurance is greater for elderly women.\n",
    "    **False, adult women show greater interest in buying the vehicle insurance.**\n",
    "\n",
    "10. The interest on purchase the vehicle insurance is lower for customers that are already insured.\n",
    "    **True, less than 1% of customers already insured show interest on purchase the vehicle insurance.**\n"
   ]
  },
  {
   "cell_type": "markdown",
   "id": "90475f72",
   "metadata": {},
   "source": [
    "### 4.3 - MULTIVARIATE ANALYSIS"
   ]
  },
  {
   "cell_type": "code",
   "execution_count": null,
   "id": "59da86da",
   "metadata": {
    "ExecuteTime": {
     "end_time": "2023-09-18T19:40:48.647343Z",
     "start_time": "2023-09-18T19:40:47.305368Z"
    }
   },
   "outputs": [],
   "source": [
    "correlation = df2.corr().round(2)\n",
    "plt.figure(figsize = (14,7))\n",
    "sns.heatmap(correlation, annot = True)"
   ]
  },
  {
   "cell_type": "markdown",
   "id": "550169f4",
   "metadata": {},
   "source": [
    "## 5 - DATA PREPARATION"
   ]
  },
  {
   "cell_type": "code",
   "execution_count": null,
   "id": "f5d489a5",
   "metadata": {
    "ExecuteTime": {
     "end_time": "2023-09-18T19:41:10.109039Z",
     "start_time": "2023-09-18T19:41:10.078258Z"
    }
   },
   "outputs": [],
   "source": [
    "from feature_engine.transformation import PowerTransformer"
   ]
  },
  {
   "cell_type": "code",
   "execution_count": null,
   "id": "6bbc3fea",
   "metadata": {
    "ExecuteTime": {
     "end_time": "2023-09-18T19:41:10.640654Z",
     "start_time": "2023-09-18T19:41:10.622674Z"
    }
   },
   "outputs": [],
   "source": [
    "from feature_engine.encoding import WoEEncoder"
   ]
  },
  {
   "cell_type": "code",
   "execution_count": null,
   "id": "601ca8c9",
   "metadata": {
    "ExecuteTime": {
     "end_time": "2023-09-18T19:41:11.026624Z",
     "start_time": "2023-09-18T19:41:11.006355Z"
    }
   },
   "outputs": [],
   "source": [
    "woe_encoder  = WoEEncoder(variables=['gender', 'vehicle_age', 'vehicle_damage'])\n",
    "power_transform = PowerTransformer(variables=['id', 'age', 'region_code', 'policy_sales_channel', 'driving_license','previously_insured', 'annual_premium', 'vintage'])"
   ]
  },
  {
   "cell_type": "markdown",
   "id": "f30e8518",
   "metadata": {
    "ExecuteTime": {
     "end_time": "2023-07-23T15:03:21.608286Z",
     "start_time": "2023-07-23T15:03:21.601284Z"
    }
   },
   "source": [
    "### 5.1 - ML MODELS"
   ]
  },
  {
   "cell_type": "code",
   "execution_count": null,
   "id": "dc5970ba",
   "metadata": {
    "ExecuteTime": {
     "end_time": "2023-09-18T19:41:17.657445Z",
     "start_time": "2023-09-18T19:41:17.606343Z"
    }
   },
   "outputs": [],
   "source": [
    "# Parameter \"scale_pos_weight\" definition\n",
    "\n",
    "from collections import Counter\n",
    "\n",
    "# ESTIMATE SCALE_POS_WEIGHT\n",
    "counter = Counter(y_train)\n",
    "estimate = counter[0]/counter[1]\n",
    "print('Estimate: %.3f' % estimate)"
   ]
  },
  {
   "cell_type": "markdown",
   "id": "bbbc5db0",
   "metadata": {},
   "source": [
    "#### Logistic Regression"
   ]
  },
  {
   "cell_type": "code",
   "execution_count": null,
   "id": "a31912ca",
   "metadata": {
    "ExecuteTime": {
     "end_time": "2023-09-18T19:44:55.946706Z",
     "start_time": "2023-09-18T19:44:55.933502Z"
    }
   },
   "outputs": [],
   "source": [
    "# Model Definition\n",
    "clf_lr = LogisticRegression()"
   ]
  },
  {
   "cell_type": "code",
   "execution_count": null,
   "id": "69837499",
   "metadata": {
    "ExecuteTime": {
     "end_time": "2023-09-18T19:45:22.312504Z",
     "start_time": "2023-09-18T19:45:22.296942Z"
    }
   },
   "outputs": [],
   "source": [
    "# Pipeline\n",
    "model_pipeline_lr = pipeline.Pipeline( steps = [(\"woe_encoder\", woe_encoder),\n",
    "                                                  (\"power_transform\", power_transform),\n",
    "                                                  (\"clf_lr\", clf_lr)])"
   ]
  },
  {
   "cell_type": "code",
   "execution_count": null,
   "id": "511797b9",
   "metadata": {
    "ExecuteTime": {
     "end_time": "2023-09-18T19:45:34.604222Z",
     "start_time": "2023-09-18T19:45:22.755053Z"
    }
   },
   "outputs": [],
   "source": [
    "cross_validation(5, 'lr', model_pipeline_lr, x_train, y_train, 20000)"
   ]
  },
  {
   "cell_type": "code",
   "execution_count": null,
   "id": "dc7e6ccb",
   "metadata": {
    "ExecuteTime": {
     "end_time": "2023-09-18T19:45:37.345741Z",
     "start_time": "2023-09-18T19:45:34.608175Z"
    }
   },
   "outputs": [],
   "source": [
    "model_pipeline_lr.fit(x_train, y_train)"
   ]
  },
  {
   "cell_type": "code",
   "execution_count": null,
   "id": "af89a80f",
   "metadata": {
    "ExecuteTime": {
     "end_time": "2023-09-18T19:45:49.995619Z",
     "start_time": "2023-09-18T19:45:49.823781Z"
    }
   },
   "outputs": [],
   "source": [
    "yhat_lr_valid = model_pipeline_lr.predict_proba(x_valid)"
   ]
  },
  {
   "cell_type": "code",
   "execution_count": null,
   "id": "c425be65",
   "metadata": {
    "ExecuteTime": {
     "end_time": "2023-09-18T19:46:30.000263Z",
     "start_time": "2023-09-18T19:46:28.359045Z"
    }
   },
   "outputs": [],
   "source": [
    "fig, axs = plt.subplots(ncols= 3, figsize = (18,5))\n",
    "\n",
    "# cumulative gain - Metric for sorting problem\n",
    "skplt.metrics.plot_cumulative_gain(y_valid, yhat_lr_valid, ax=axs[0],title='Cumulative Gain - Logistic Regression');\n",
    "\n",
    "# Lift Curve\n",
    "skplt.metrics.plot_lift_curve(y_valid, yhat_lr_valid,ax=axs[1],title='Lift Curve - Logistic Regression');\n",
    "\n",
    "# Roc Curve\n",
    "skplt.metrics.plot_roc(y_valid, yhat_lr_valid, ax=axs[2], title='ROC-Curve - Logistic Regression');\n",
    "\n",
    "plt.tight_layout()"
   ]
  },
  {
   "cell_type": "code",
   "execution_count": null,
   "id": "4248da0c",
   "metadata": {
    "ExecuteTime": {
     "end_time": "2023-09-18T19:47:09.305444Z",
     "start_time": "2023-09-18T19:47:09.185613Z"
    }
   },
   "outputs": [],
   "source": [
    "# Precision and Recall @K\n",
    "# As per Cumulative Gain chart, it is possible to identify that between 40% and 50% the model is able to find all interested customers.\n",
    "aux = x_valid['id'].count()\n",
    "k_value = 20000\n",
    "\n",
    "precision_lr = precision_at_k_cv(y_valid, yhat_lr_valid, k_value)\n",
    "recall_lr = recall_at_k_cv(y_valid, yhat_lr_valid, k_value)\n",
    "LR_performance = ml_performance('LR', precision_lr, recall_lr )\n",
    "LR_performance"
   ]
  },
  {
   "cell_type": "markdown",
   "id": "58268455",
   "metadata": {},
   "source": [
    "#### XGB"
   ]
  },
  {
   "cell_type": "code",
   "execution_count": null,
   "id": "1733eb2a",
   "metadata": {
    "ExecuteTime": {
     "end_time": "2023-09-18T19:47:14.672386Z",
     "start_time": "2023-09-18T19:47:14.664350Z"
    }
   },
   "outputs": [],
   "source": [
    "# Model Definition\n",
    "clf_xgb = XGBClassifier(scale_pos_weight = estimate)"
   ]
  },
  {
   "cell_type": "code",
   "execution_count": null,
   "id": "11eac5f8",
   "metadata": {
    "ExecuteTime": {
     "end_time": "2023-09-18T19:47:15.327543Z",
     "start_time": "2023-09-18T19:47:15.313802Z"
    }
   },
   "outputs": [],
   "source": [
    "# Pipeline\n",
    "model_pipeline_xgb = pipeline.Pipeline( steps = [(\"woe_encoder\", woe_encoder),\n",
    "                                                  (\"power_transform\", power_transform),\n",
    "                                                  (\"clf_xgb\", clf_xgb)])"
   ]
  },
  {
   "cell_type": "code",
   "execution_count": null,
   "id": "62e8fa8e",
   "metadata": {
    "ExecuteTime": {
     "end_time": "2023-09-18T19:48:12.929513Z",
     "start_time": "2023-09-18T19:47:16.049438Z"
    }
   },
   "outputs": [],
   "source": [
    "cross_validation(5, 'xgb', model_pipeline_xgb, x_train, y_train, 20000)"
   ]
  },
  {
   "cell_type": "code",
   "execution_count": null,
   "id": "66dee81e",
   "metadata": {
    "ExecuteTime": {
     "end_time": "2023-09-18T19:48:26.705027Z",
     "start_time": "2023-09-18T19:48:12.932624Z"
    }
   },
   "outputs": [],
   "source": [
    "model_pipeline_xgb.fit(x_train, y_train)"
   ]
  },
  {
   "cell_type": "code",
   "execution_count": null,
   "id": "f896c0e7",
   "metadata": {
    "ExecuteTime": {
     "end_time": "2023-09-18T19:48:26.936784Z",
     "start_time": "2023-09-18T19:48:26.707587Z"
    }
   },
   "outputs": [],
   "source": [
    "yhat_xgb = model_pipeline_xgb.predict_proba(x_valid)"
   ]
  },
  {
   "cell_type": "code",
   "execution_count": null,
   "id": "61c68086",
   "metadata": {
    "ExecuteTime": {
     "end_time": "2023-09-18T19:48:28.570248Z",
     "start_time": "2023-09-18T19:48:26.939880Z"
    }
   },
   "outputs": [],
   "source": [
    "fig, axs = plt.subplots(ncols= 3, figsize = (18,5))\n",
    "\n",
    "# cumulative gain - Metric for sorting problem\n",
    "skplt.metrics.plot_cumulative_gain(y_valid, yhat_xgb, ax=axs[0],title='Cumulative Gain - XGB');\n",
    "\n",
    "# Lift Curve\n",
    "skplt.metrics.plot_lift_curve(y_valid, yhat_xgb, ax=axs[1],title='Lift Curve - XGB');\n",
    "\n",
    "# Roc Curve\n",
    "skplt.metrics.plot_roc(y_valid, yhat_xgb, ax=axs[2], title='ROC-Curve - XGB');\n",
    "\n",
    "plt.tight_layout()"
   ]
  },
  {
   "cell_type": "code",
   "execution_count": null,
   "id": "37c2d95f",
   "metadata": {
    "ExecuteTime": {
     "end_time": "2023-09-18T19:48:28.677840Z",
     "start_time": "2023-09-18T19:48:28.571463Z"
    }
   },
   "outputs": [],
   "source": [
    "# Precision and Recall @K\n",
    "\n",
    "# As per Cumulative Gain chart, it is possible to identify that between 40% and 50% the model is able to find all interested customers.\n",
    "aux = x_valid['id'].count()\n",
    "k_value = 20000\n",
    "\n",
    "\n",
    "precision_xgb = precision_at_k_cv(y_valid, yhat_xgb, k_value)\n",
    "recall_xgb = recall_at_k_cv(y_valid, yhat_xgb, k_value)\n",
    "XGB_performance = ml_performance('XGB', precision_xgb, recall_xgb )\n",
    "XGB_performance"
   ]
  },
  {
   "cell_type": "markdown",
   "id": "550f9cbc",
   "metadata": {
    "tags": []
   },
   "source": [
    "#### KNN"
   ]
  },
  {
   "cell_type": "code",
   "execution_count": null,
   "id": "9c2ce8fb",
   "metadata": {
    "ExecuteTime": {
     "end_time": "2023-09-18T19:48:28.693242Z",
     "start_time": "2023-09-18T19:48:28.680109Z"
    }
   },
   "outputs": [],
   "source": [
    "# Model Definition\n",
    "clf_knn = KNeighborsClassifier( n_neighbors = 8 )"
   ]
  },
  {
   "cell_type": "code",
   "execution_count": null,
   "id": "727aaf9a",
   "metadata": {
    "ExecuteTime": {
     "end_time": "2023-09-18T19:48:28.708865Z",
     "start_time": "2023-09-18T19:48:28.696564Z"
    }
   },
   "outputs": [],
   "source": [
    "# Pipeline\n",
    "model_pipeline_knn = pipeline.Pipeline( steps = [ (\"woe_encoder\", woe_encoder),\n",
    "                                                  (\"power_transform\", power_transform),\n",
    "                                                  (\"clf_knn\", clf_knn)])"
   ]
  },
  {
   "cell_type": "code",
   "execution_count": null,
   "id": "561ae8ea",
   "metadata": {
    "ExecuteTime": {
     "end_time": "2023-09-18T19:48:47.202933Z",
     "start_time": "2023-09-18T19:48:28.713134Z"
    }
   },
   "outputs": [],
   "source": [
    "cross_validation(5, 'knn', model_pipeline_knn, x_train, y_train, 20000)"
   ]
  },
  {
   "cell_type": "code",
   "execution_count": null,
   "id": "1426d45e",
   "metadata": {
    "ExecuteTime": {
     "end_time": "2023-09-18T19:48:49.126291Z",
     "start_time": "2023-09-18T19:48:47.209397Z"
    }
   },
   "outputs": [],
   "source": [
    "model_pipeline_knn.fit(x_train, y_train)"
   ]
  },
  {
   "cell_type": "code",
   "execution_count": null,
   "id": "63d1ea0e",
   "metadata": {
    "ExecuteTime": {
     "end_time": "2023-09-18T19:48:53.012103Z",
     "start_time": "2023-09-18T19:48:49.133518Z"
    }
   },
   "outputs": [],
   "source": [
    "yhat_knn = model_pipeline_knn.predict_proba(x_valid)"
   ]
  },
  {
   "cell_type": "code",
   "execution_count": null,
   "id": "12376c24",
   "metadata": {
    "ExecuteTime": {
     "end_time": "2023-09-18T19:48:54.502143Z",
     "start_time": "2023-09-18T19:48:53.014926Z"
    }
   },
   "outputs": [],
   "source": [
    "fig, axs = plt.subplots(ncols= 3, figsize = (18,5))\n",
    "\n",
    "# cumulative gain - Metric for sorting problem\n",
    "skplt.metrics.plot_cumulative_gain(y_valid, yhat_knn, ax=axs[0],title='Cumulative Gain - XGB');\n",
    "\n",
    "# Lift Curve\n",
    "skplt.metrics.plot_lift_curve(y_valid, yhat_knn, ax=axs[1],title='Lift Curve - XGB');\n",
    "\n",
    "# Roc Curve\n",
    "skplt.metrics.plot_roc(y_valid, yhat_knn, ax=axs[2], title='ROC-Curve - XGB');\n",
    "\n",
    "plt.tight_layout()"
   ]
  },
  {
   "cell_type": "code",
   "execution_count": null,
   "id": "fa062091",
   "metadata": {
    "ExecuteTime": {
     "end_time": "2023-09-18T19:48:54.594432Z",
     "start_time": "2023-09-18T19:48:54.504417Z"
    }
   },
   "outputs": [],
   "source": [
    "# Precision and Recall @K\n",
    "k_value = 20000\n",
    "\n",
    "\n",
    "precision_knn = precision_at_k_cv(y_valid, yhat_knn, k_value)\n",
    "recall_knn = recall_at_k_cv(y_valid, yhat_knn, k_value)\n",
    "KNN_performance = ml_performance('KNN', precision_knn, recall_knn )\n",
    "KNN_performance"
   ]
  },
  {
   "cell_type": "markdown",
   "id": "a742dc95",
   "metadata": {
    "tags": []
   },
   "source": [
    "## 9 - HYPERPARAMETER FINE TUNING"
   ]
  },
  {
   "cell_type": "markdown",
   "id": "5e84828f",
   "metadata": {},
   "source": [
    "### 9.1 - XGB Fine Tuning"
   ]
  },
  {
   "cell_type": "code",
   "execution_count": null,
   "id": "44ce8708",
   "metadata": {
    "ExecuteTime": {
     "end_time": "2023-09-18T19:53:23.677906Z",
     "start_time": "2023-09-18T19:53:23.657767Z"
    }
   },
   "outputs": [],
   "source": [
    "# XGB\n",
    "def objective_xgb(trial):\n",
    "    \"\"\"Define the objective function\"\"\"\n",
    "    params = {\n",
    "        'clf_xgb__max_depth': trial.suggest_int('clf_xgb__max_depth', 5, 20),\n",
    "        'clf_xgb__eta': trial.suggest_float('clf_xgb__eta', 0.01, 0.05),\n",
    "        'clf_xgb__learning_rate': trial.suggest_loguniform('clf_xgb__learning_rate', 0.01, 1.0),\n",
    "        'clf_xgb__n_estimators': trial.suggest_int('clf_xgb__n_estimators', 100, 1000),\n",
    "        'clf_xgb__min_child_weight': trial.suggest_int('clf_xgb__min_child_weight', 1, 15),\n",
    "        'clf_xgb__gamma': trial.suggest_loguniform('clf_xgb__gamma', 1e-8, 1.0),\n",
    "        'clf_xgb__subsample': trial.suggest_loguniform('clf_xgb__subsample', 0.01, 1.0),\n",
    "        'clf_xgb__colsample_bytree': trial.suggest_loguniform('clf_xgb__colsample_bytree', 0.1, 1.0),\n",
    "        'clf_xgb__reg_alpha': trial.suggest_loguniform('clf_xgb__reg_alpha', 1e-8, 1.0),\n",
    "        'clf_xgb__reg_lambda': trial.suggest_loguniform('clf_xgb__reg_lambda', 1e-8, 1.0),\n",
    "        'clf_xgb__eval_metric': 'mlogloss'\n",
    "    }\n",
    "\n",
    "    # Fit the model\n",
    "    model_pipeline_xgb.set_params(**params)\n",
    "    model_pipeline_xgb.fit(x_train, y_train)\n",
    "\n",
    "    # Make predictions\n",
    "    optuna_xgb_pred = model_pipeline_xgb.predict_proba(x_valid)\n",
    "\n",
    "    # Evaluate predictions\n",
    "    aux = x_valid['id'].count()\n",
    "    k_value = round(0.4 * aux)\n",
    "    k_value\n",
    "    recall_atK = recall_at_k_cv(y_valid, optuna_xgb_pred, k_value)\n",
    "    return  recall_atK"
   ]
  },
  {
   "cell_type": "code",
   "execution_count": null,
   "id": "5d0eed2c",
   "metadata": {
    "ExecuteTime": {
     "end_time": "2023-09-18T19:54:53.437927Z",
     "start_time": "2023-09-18T19:53:24.130418Z"
    }
   },
   "outputs": [],
   "source": [
    "study_xgb = optuna.create_study(direction='maximize')\n",
    "study_xgb.optimize(objective_xgb, n_trials=2)"
   ]
  },
  {
   "cell_type": "code",
   "execution_count": null,
   "id": "9efec248",
   "metadata": {
    "ExecuteTime": {
     "end_time": "2023-09-18T19:54:53.453581Z",
     "start_time": "2023-09-18T19:54:53.440220Z"
    }
   },
   "outputs": [],
   "source": [
    "print('Number of finished trials: {}'.format(len(study_xgb.trials)))\n",
    "print('Best trial:')\n",
    "trial = study_xgb.best_trial\n",
    "\n",
    "print('  Value: {}'.format(trial.value))\n",
    "print('  Params: ')\n",
    "\n",
    "for key, value in trial.params.items():\n",
    "    print('    {}: {}'.format(key, value))"
   ]
  },
  {
   "cell_type": "code",
   "execution_count": null,
   "id": "34b87e34",
   "metadata": {
    "ExecuteTime": {
     "end_time": "2023-09-18T19:54:53.469167Z",
     "start_time": "2023-09-18T19:54:53.455947Z"
    }
   },
   "outputs": [],
   "source": [
    "param_xgb = {'scale_pos_weight': estimate,\n",
    "             'max_depth': 6,\n",
    "             'eta': 0.0310260525237683,\n",
    "             'learning_rate': 0.03914508739999509,\n",
    "             'n_estimators': 619,\n",
    "             'min_child_weight': 9,\n",
    "             'gamma': 3.06408087126589e-05,\n",
    "             'subsample': 0.3640515535413122,\n",
    "             'colsample_bytree': 0.449945653612218,\n",
    "             'reg_alpha': 0.143727642904309,\n",
    "             'reg_lambda': 0.020464155005749916\n",
    "            }"
   ]
  },
  {
   "cell_type": "markdown",
   "id": "13330095",
   "metadata": {},
   "source": [
    "## 9.3 - ML Model After Tuning"
   ]
  },
  {
   "cell_type": "code",
   "execution_count": null,
   "id": "03df4181-48bb-46db-b967-d4ef01023965",
   "metadata": {
    "ExecuteTime": {
     "end_time": "2023-09-18T19:55:11.579669Z",
     "start_time": "2023-09-18T19:55:11.525761Z"
    }
   },
   "outputs": [],
   "source": [
    "x_lasttrain = pd.concat([x_train, x_valid], axis=0)\n",
    "y_lasttrain = pd.concat([y_train, y_valid], axis=0)"
   ]
  },
  {
   "cell_type": "markdown",
   "id": "d7fb8697",
   "metadata": {},
   "source": [
    "### XGB After Tuning"
   ]
  },
  {
   "cell_type": "code",
   "execution_count": null,
   "id": "487221b7",
   "metadata": {
    "ExecuteTime": {
     "end_time": "2023-09-18T19:55:12.686187Z",
     "start_time": "2023-09-18T19:55:12.668796Z"
    }
   },
   "outputs": [],
   "source": [
    "# Model Definition\n",
    "clf_xgb_ft = XGBClassifier(**param_xgb)\n"
   ]
  },
  {
   "cell_type": "code",
   "execution_count": null,
   "id": "f3d06b9b",
   "metadata": {
    "ExecuteTime": {
     "end_time": "2023-09-18T19:55:13.597080Z",
     "start_time": "2023-09-18T19:55:13.579148Z"
    }
   },
   "outputs": [],
   "source": [
    "# Pipeline\n",
    "model_pipeline_xgb_ft = pipeline.Pipeline( steps = [(\"woe_encoder\", woe_encoder),\n",
    "                                                   (\"power_transform\", power_transform),\n",
    "                                                   (\"clf_xgb_ft\", clf_xgb_ft)])"
   ]
  },
  {
   "cell_type": "code",
   "execution_count": null,
   "id": "4cce593c",
   "metadata": {
    "ExecuteTime": {
     "end_time": "2023-09-18T19:56:17.603631Z",
     "start_time": "2023-09-18T19:55:15.140768Z"
    }
   },
   "outputs": [],
   "source": [
    "model_pipeline_xgb_ft.fit(x_lasttrain, y_lasttrain)"
   ]
  },
  {
   "cell_type": "code",
   "execution_count": null,
   "id": "c06c34fb-7621-45c9-bdda-39b2b652d3be",
   "metadata": {
    "ExecuteTime": {
     "end_time": "2023-09-18T19:56:18.063613Z",
     "start_time": "2023-09-18T19:56:17.603631Z"
    }
   },
   "outputs": [],
   "source": [
    "yhat_xgb_ft = model_pipeline_xgb_ft.predict_proba(x_test)"
   ]
  },
  {
   "cell_type": "code",
   "execution_count": null,
   "id": "d605b041",
   "metadata": {
    "ExecuteTime": {
     "end_time": "2023-09-18T19:56:20.026636Z",
     "start_time": "2023-09-18T19:56:18.065610Z"
    }
   },
   "outputs": [],
   "source": [
    "fig, axs = plt.subplots(ncols= 3, figsize = (18,5))\n",
    "\n",
    "# cumulative gain - Metric for sorting problem\n",
    "skplt.metrics.plot_cumulative_gain(y_test, yhat_xgb_ft, ax=axs[0],title='Cumulative Gain - XGB');\n",
    "\n",
    "# Lift Curve\n",
    "skplt.metrics.plot_lift_curve(y_test, yhat_xgb_ft,ax=axs[1],title='Lift Curve - XGB');\n",
    "\n",
    "# Roc Curve\n",
    "skplt.metrics.plot_roc(y_test, yhat_xgb_ft, ax=axs[2], title='ROC-Curve - XGB');\n",
    "\n",
    "plt.tight_layout()"
   ]
  },
  {
   "cell_type": "code",
   "execution_count": null,
   "id": "edcc335c-498a-4f88-b0cf-54d53b19664b",
   "metadata": {
    "ExecuteTime": {
     "end_time": "2023-09-18T19:56:20.181974Z",
     "start_time": "2023-09-18T19:56:20.026636Z"
    }
   },
   "outputs": [],
   "source": [
    "# Precision and Recall @K\n",
    "k_value = 20000\n",
    "\n",
    "\n",
    "precision_xgb_ft = precision_at_k_cv(y_test, yhat_xgb_ft, k_value)\n",
    "recall_xgb_ft = recall_at_k_cv(y_test, yhat_xgb_ft, k_value)\n",
    "KNN_performance = ml_performance('XGB FT', precision_xgb_ft, recall_xgb_ft )\n",
    "KNN_performance"
   ]
  },
  {
   "cell_type": "code",
   "execution_count": null,
   "id": "2ac305c3",
   "metadata": {
    "ExecuteTime": {
     "end_time": "2023-09-18T20:00:27.579204Z",
     "start_time": "2023-09-18T19:56:20.186081Z"
    }
   },
   "outputs": [],
   "source": [
    "# Precision and Recall @K\n",
    "cross_validation(5, 'xgb_tuned', model_pipeline_xgb_ft, x_lasttrain, y_lasttrain, 20000)"
   ]
  },
  {
   "cell_type": "markdown",
   "id": "27a55409",
   "metadata": {
    "heading_collapsed": true,
    "jp-MarkdownHeadingCollapsed": true,
    "tags": []
   },
   "source": [
    "## 10 - DEPLOYING MODEL TO PRODUCTION"
   ]
  },
  {
   "cell_type": "markdown",
   "id": "04e92906",
   "metadata": {
    "hidden": true
   },
   "source": [
    "### 10.1 - HEALTHINSURANCE CLASS"
   ]
  },
  {
   "cell_type": "code",
   "execution_count": null,
   "id": "6fa080b9",
   "metadata": {
    "hidden": true
   },
   "outputs": [],
   "source": [
    "import pickle\n",
    "import inflection\n",
    "import numpy  as np\n",
    "import pandas as pd\n",
    "\n",
    "class HealthInsurance:\n",
    "    \n",
    "    def __init__( self ):\n",
    "        self.home_path                                = ''\n",
    "        self.frequency_encode_policy_sales_scaler     = pickle.load( open( self.home_path + 'src/features/frequency_encode_policy_sales_scaler.pkl', 'rb') )\n",
    "        self.frequency_encode_region_code_scaler      = pickle.load( open( self.home_path + 'src/features/frequency_encode_region_code_scaler.pkl', 'rb') )\n",
    "        self.target_encode_gender_scaler              = pickle.load( open( self.home_path + 'src/features/target_encode_gender_scaler.pkl', 'rb') )\n",
    "        self.target_encode_vintage_month_scaler       = pickle.load( open( self.home_path + 'src/features/target_encode_vintage_month_scaler.pkl', 'rb') )\n",
    "        self.age_scaler                               = pickle.load( open( self.home_path + 'src/features/age_scaler.pkl', 'rb') )\n",
    "        self.avg_vehicle_damage_region_code_scaler    = pickle.load( open( self.home_path + 'src/features/age_scaler.pkl', 'rb') )\n",
    "        self.avg_vintage_age_scaler                   = pickle.load( open( self.home_path + 'src/features/avg_vintage_age_scaler.pkl', 'rb') )\n",
    "        self.vintage_scaler                           = pickle.load( open( self.home_path + 'src/features/vintage_scaler.pkl', 'rb') )\n",
    "        self.age_premium_scaler                       = pickle.load( open( self.home_path + 'src/features/age_premium_scaler.pkl', 'rb') )\n",
    "        self.annual_premium_scaler                    = pickle.load( open( self.home_path + 'src/features/age_premium_scaler.pkl', 'rb') )\n",
    "        self.avg_day_premium_policy_scaler            = pickle.load( open( self.home_path + 'src/features/avg_day_premium_policy_scaler.pkl', 'rb') )\n",
    "        self.day_premium_scaler                       = pickle.load( open( self.home_path + 'src/features/day_premium_scaler.pkl', 'rb') )\n",
    "        self.median_premium_by_region_scaler          = pickle.load( open( self.home_path + 'src/features/median_premium_by_region_scaler.pkl', 'rb') )\n",
    "        self.region_premium_scaler                    = pickle.load( open( self.home_path + 'src/features/region_premium_scaler.pkl', 'rb') )\n",
    "    \n",
    "    def data_cleaning( self, df5 ):\n",
    " \n",
    "        ## rename Columns\n",
    "        cols_old = ['id', 'Gender', 'Age', 'Driving_License', 'Region_Code', 'Previously_Insured', 'Vehicle_Age', 'Vehicle_Damage', 'Annual_Premium', 'Policy_Sales_Channel', 'Vintage']\n",
    "\n",
    "        snakecase = lambda x: inflection.underscore( x )\n",
    "        cols_new = list( map( snakecase, cols_old ) )\n",
    "        \n",
    "        # rename\n",
    "        df5.columns = cols_new\n",
    "        \n",
    "        return( df5 )\n",
    "\n",
    "    def feature_engineering( self, df5 ):\n",
    "        \n",
    "        # Fitting vehicle_age column\n",
    "        df5['vehicle_age'] = df5['vehicle_age'].apply(lambda x: 1 if (x == '< 1 Year') else 2 if (x == '1-2 Year') else 3)\n",
    "\n",
    "        # Fitting vehicle_damage column\n",
    "        df5['vehicle_damage'] = df5['vehicle_damage'].apply(lambda x: 1 if (x == 'Yes') else 0)\n",
    "        \n",
    "        # median_premium_by_region\n",
    "        dict_region_code = df5[['annual_premium', 'region_code']].groupby('region_code').median().to_dict(orient='dict')['annual_premium']\n",
    "        df5['median_premium_by_region'] = df5['region_code'].map(dict_region_code)\n",
    "\n",
    "        # moda policy sales chanel por idade\n",
    "        mode_policy_per_age = df5[['age', 'policy_sales_channel']].groupby('age').agg(pd.Series.mode).to_dict(orient='dict')['policy_sales_channel']\n",
    "        df5['mode_policy_per_age'] = df5['age'].map(mode_policy_per_age)\n",
    "\n",
    "        # Media de carros danificados por idade\n",
    "        avg_carros_danificados_idade = df5[['age', 'vehicle_damage']].groupby('age').mean().to_dict(orient='dict')['vehicle_damage']\n",
    "        df5['avg_vehicle_damage_per_age'] = df5['age'].map(avg_carros_danificados_idade)\n",
    "\n",
    "        # Media de carros danificados por regiao\n",
    "        avg_carros_danificados_regiao = df5[['age', 'region_code']].groupby('age').mean().to_dict(orient='dict')['region_code']\n",
    "        df5['avg_vehicle_damage_region_code'] = df5['age'].map(avg_carros_danificados_regiao)\n",
    "\n",
    "        # age_group feature creation\n",
    "        df5['age_group'] = df5['age'].apply(lambda x: 1 if (x >= 18 | x < 30 ) else 2 if (x >= 30 | x < 60 ) else 3)\n",
    "\n",
    "        # vintage_month feature cration\n",
    "        df5['vintage_month'] = round(df5['vintage'] / 31)\n",
    "\n",
    "        # day_premium feature creation\n",
    "        df5['day_premium'] = df5['annual_premium']/df5['vintage']\n",
    "\n",
    "        # age_premium feature cration\n",
    "        df5['age_premium'] = df5['annual_premium']/df5['age']\n",
    "\n",
    "        # Calculating Median Annual Premium by Region_code\n",
    "        premium_rc = df5[['annual_premium', 'region_code']].groupby('region_code').median().to_dict(orient='dict')['annual_premium']\n",
    "        df5['region_premium'] = df5['region_code'].map(premium_rc)\n",
    "\n",
    "        # Calculating Median Aday_premium per policy_sales_channel\n",
    "        day_premium_psc = df5[['day_premium', 'policy_sales_channel']].groupby('policy_sales_channel').mean().to_dict(orient='dict')['day_premium']\n",
    "        df5['avg_day_premium_policy'] = df5['policy_sales_channel'].map(day_premium_psc)\n",
    "\n",
    "        # avg vintage per age\n",
    "        avg_vintage_per_age = df5[['age', 'vintage']].groupby('age').mean().to_dict(orient='dict')['vintage']\n",
    "        df5['avg_vintage_age'] = df5['age'].map(avg_vintage_per_age)\n",
    "        \n",
    "        return( df5 )\n",
    "    \n",
    "    def data_preparation( self, df5 ):\n",
    "              \n",
    "        # STANDARDIZATION\n",
    "\n",
    "        # annual premium\n",
    "        df5['annual_premium'] = self.annual_premium_scaler.transform( df5[['annual_premium']].values )\n",
    "\n",
    "        # age_premium\n",
    "        df5['age_premium'] = self.age_premium_scaler.transform( df5[['age_premium']].values )\n",
    "\n",
    "        # day_premium\n",
    "        df5['day_premium'] = self.day_premium_scaler.transform( df5[['day_premium']].values )\n",
    "\n",
    "        # avg_day_premium_policy\n",
    "        df5['avg_day_premium_policy'] = self.avg_day_premium_policy_scaler.transform( df5[['avg_day_premium_policy']].values )\n",
    "\n",
    "        # median_premium_by_region\n",
    "        df5['median_premium_by_region'] = self.median_premium_by_region_scaler.transform( df5[['median_premium_by_region']].values )\n",
    "\n",
    "        # region_premium\n",
    "        df5['region_premium'] = self.region_premium_scaler.transform( df5[['region_premium']].values )\n",
    "\n",
    "\n",
    "\n",
    "        # REESCALING\n",
    "\n",
    "        # age\n",
    "        df5['age'] = self.age_scaler.transform( df5[['age']].values )\n",
    "\n",
    "        # vintage\n",
    "        df5['vintage'] = self.vintage_scaler.transform( df5[['vintage']].values )\n",
    "\n",
    "        # avg_vintage_age\n",
    "        df5['avg_vintage_age'] = self.avg_vintage_age_scaler.transform( df5[['avg_vintage_age']].values )\n",
    "\n",
    "        # vintage_month\n",
    "        df5['vintage_month'] = self.vintage_scaler.transform( df5[['vintage_month']].values )\n",
    "\n",
    "        # avg_vehicle_damage_region_code\n",
    "        df5['avg_vehicle_damage_region_code'] = self.avg_vehicle_damage_region_code_scaler.transform( df5[['avg_vehicle_damage_region_code']].values )\n",
    "\n",
    "\n",
    "\n",
    "        # ENCODER\n",
    "\n",
    "        # policy sales channel\n",
    "        df5.loc[:, 'policy_sales_channel'] = df5['policy_sales_channel'].map( self.frequency_encode_policy_sales_scaler )\n",
    "\n",
    "        # region code\n",
    "        df5.loc[:, 'region_code'] = df5['region_code'].map( self.frequency_encode_region_code_scaler )\n",
    "\n",
    "        # gender\n",
    "        df5.loc[:, 'gender'] = df5['gender'].map( self.target_encode_gender_scaler )\n",
    "\n",
    "        # vintage_month\n",
    "        df5.loc[:, 'vintage_month'] = df5['vintage_month'].map( self.target_encode_vintage_month_scaler )\n",
    "\n",
    "        # FILL NAN VALUES\n",
    "        x_valid = x_valid.fillna(0)\n",
    "        \n",
    "        # Feature Selection\n",
    "        cols_selected = ['vehicle_damage','previously_insured','vintage','day_premium','age_premium','annual_premium','vintage_month','region_code','avg_vehicle_damage_per_age','policy_sales_channel','age','median_premium_by_region','region_premium',\n",
    "                         'avg_day_premium_policy','vehicle_age','avg_vehicle_damage_region_code','avg_vintage_age','gender']\n",
    "        \n",
    "        return df5[cols_selected]\n",
    "    \n",
    "\n",
    "    def get_prediction( self, model, original_data, test_data ):\n",
    "        # prediction\n",
    "        pred = model.predict_proba( test_data )\n",
    "        \n",
    "        # join pred into the original data\n",
    "        original_data['score'] = pred[:, 1].tolist()\n",
    "        \n",
    "        return original_data.to_json( orient='records', date_format='iso' )"
   ]
  },
  {
   "cell_type": "markdown",
   "id": "13ce5926",
   "metadata": {
    "heading_collapsed": true,
    "hidden": true
   },
   "source": [
    "### 10.2 - API HANDLER"
   ]
  },
  {
   "cell_type": "code",
   "execution_count": null,
   "id": "a985f9b0",
   "metadata": {
    "hidden": true
   },
   "outputs": [],
   "source": [
    "import pickle\n",
    "import pandas as pd\n",
    "import os\n",
    "from flask                           import Flask, request, Response\n",
    "from healthinsurance.healthinsurance import HealthInsurance\n",
    "\n",
    "# logading model\n",
    "model = pickle.load( open( 'src/models/xgb_model.pkl', 'rb' ) )\n",
    "                          \n",
    "# initialize API\n",
    "app = Flask( __name__ )\n",
    "\n",
    "@app.route( '/healthinsurance/predict', methods=['POST'] )\n",
    "def health_insurance_predict():\n",
    "    test_json = request.get_json()\n",
    "    \n",
    "    if test_json: #there is data\n",
    "               \n",
    "        if isinstance( test_json, dict ): # unique example\n",
    "            test_raw = pd.DataFrame( test_json, index=[0] )\n",
    "    \n",
    "        else:\n",
    "            test_raw = pd.DataFrame( test_json, columns=test_json[0].keys() ) # multiple examples\n",
    "            \n",
    "        # Instantiate Rossmann Class\n",
    "        pipeline = HealthInsurance()\n",
    "\n",
    "        # data cleaning\n",
    "        df1 = pipeline.data_cleaning( test_raw )\n",
    "              \n",
    "        # feature engineering\n",
    "        df2 = pipeline.feature_engineering( df1 )\n",
    "\n",
    "        # Data Preparation\n",
    "        df3 = pipeline.data_preparation( df2 )\n",
    "                              \n",
    "        # prediction\n",
    "        df_response = pipeline.get_prediction( model, test_raw, df3 )\n",
    "        \n",
    "        return df_response\n",
    "        \n",
    "    else:\n",
    "        return Response( '{}', status=200, mimetype='application/json' )\n",
    "\n",
    "if __name__ == '__main__':\n",
    "    app.run('0.0.0.0')\n",
    "\n",
    "#    port = os.environ.get('PORT', 5000)\n",
    "#    app.run( host='0.0.0.0', port=port )"
   ]
  },
  {
   "cell_type": "markdown",
   "id": "bb70275f",
   "metadata": {
    "heading_collapsed": true,
    "jp-MarkdownHeadingCollapsed": true,
    "tags": []
   },
   "source": [
    "## 11 - BUSINESS QUESTIONS"
   ]
  },
  {
   "cell_type": "code",
   "execution_count": null,
   "id": "e8953a91",
   "metadata": {
    "ExecuteTime": {
     "end_time": "2023-07-26T20:52:47.996484Z",
     "start_time": "2023-07-26T20:52:47.976533Z"
    },
    "hidden": true
   },
   "outputs": [],
   "source": [
    "df_11 = pd.concat([x_test, y_test], axis=1)"
   ]
  },
  {
   "cell_type": "code",
   "execution_count": null,
   "id": "0ce6f402",
   "metadata": {
    "ExecuteTime": {
     "end_time": "2023-07-26T20:53:21.733106Z",
     "start_time": "2023-07-26T20:53:21.719723Z"
    },
    "hidden": true
   },
   "outputs": [],
   "source": [
    "df_11['prediction'] = yhat_lgbm_ft[:,1]"
   ]
  },
  {
   "cell_type": "code",
   "execution_count": null,
   "id": "e773baf2",
   "metadata": {
    "ExecuteTime": {
     "end_time": "2023-07-26T20:53:23.906194Z",
     "start_time": "2023-07-26T20:53:23.876472Z"
    },
    "hidden": true
   },
   "outputs": [],
   "source": [
    "df_11.head()"
   ]
  },
  {
   "cell_type": "markdown",
   "id": "dcad5aa4",
   "metadata": {
    "hidden": true
   },
   "source": [
    "### 1 - What percentage of customers interested in purchasing a car insurance will the sales team be able to contact by making 20,000 calls?"
   ]
  },
  {
   "cell_type": "code",
   "execution_count": null,
   "id": "ade1e518",
   "metadata": {
    "ExecuteTime": {
     "end_time": "2023-07-26T21:12:26.137506Z",
     "start_time": "2023-07-26T21:12:26.095182Z"
    },
    "hidden": true,
    "hide_input": true
   },
   "outputs": [],
   "source": [
    "n = 20000\n",
    "ax1 = df_11['id'][(df_11['prediction'] > 0.5)].count()\n",
    "q1 = df_11.sort_values(by='prediction', ascending=False)\n",
    "ax2 = q1.iloc[:20000]\n",
    "ax3 = (ax2['response'] == 1).sum()\n",
    "ax4 = (df_11['response'] == 1).sum()\n",
    "\n",
    "print(f'Numbers os contacts: {n} ({n/len(df_11):.2%})')\n",
    "print(f'Will impact {ax3/ax4:.2%} of interested customers')"
   ]
  },
  {
   "cell_type": "markdown",
   "id": "60c32be7",
   "metadata": {
    "hidden": true
   },
   "source": [
    "### 2 -  And if the sales team's capacity increases to 40,000 calls, what percentage of customers interested in purchasing a car insurance will the sales team be able to contact?"
   ]
  },
  {
   "cell_type": "code",
   "execution_count": null,
   "id": "ec34b16a",
   "metadata": {
    "ExecuteTime": {
     "end_time": "2023-07-26T21:12:56.558662Z",
     "start_time": "2023-07-26T21:12:56.505149Z"
    },
    "hidden": true
   },
   "outputs": [],
   "source": [
    "n = 40000\n",
    "ax1 = df_11['id'][(df_11['prediction'] > 0.5)].count()\n",
    "q1 = df_11.sort_values(by='prediction', ascending=False)\n",
    "ax2 = q1.iloc[:40000]\n",
    "ax3 = (ax2['response'] == 1).sum()\n",
    "ax4 = (df_11['response'] == 1).sum()\n",
    "\n",
    "print(f'Numbers os contacts: {n} ({n/len(df_11):.2%})')\n",
    "print(f'Will impact {ax3/ax4:.2%} of interested customers')"
   ]
  },
  {
   "cell_type": "markdown",
   "id": "7802ffc0",
   "metadata": {
    "hidden": true
   },
   "source": [
    "### 3 - How many calls does the sales team need to make to contact 80% of customers interested in purchasing a car insurance?"
   ]
  },
  {
   "cell_type": "code",
   "execution_count": null,
   "id": "c92b19e5",
   "metadata": {
    "ExecuteTime": {
     "end_time": "2023-07-26T21:19:23.516664Z",
     "start_time": "2023-07-26T21:19:23.479729Z"
    },
    "hidden": true
   },
   "outputs": [],
   "source": [
    "n = 20000\n",
    "ax1 = df_11['id'][(df_11['prediction'] > 0.5)].count()\n",
    "q1 = df_11.sort_values(by='prediction', ascending=False)\n",
    "ax2 = q1.iloc[:23500]\n",
    "ax3 = (ax2['response'] == 1).sum()\n",
    "ax4 = (df_11['response'] == 1).sum()\n",
    "\n",
    "print(f'Numbers os contacts: {n} ({n/len(df_11):.2%})')\n",
    "print(f'Will impact {ax3/ax4:.2%} of interested customers')"
   ]
  }
 ],
 "metadata": {
  "hide_input": false,
  "kernelspec": {
   "display_name": "Python 3 (ipykernel)",
   "language": "python",
   "name": "python3"
  },
  "language_info": {
   "codemirror_mode": {
    "name": "ipython",
    "version": 3
   },
   "file_extension": ".py",
   "mimetype": "text/x-python",
   "name": "python",
   "nbconvert_exporter": "python",
   "pygments_lexer": "ipython3",
   "version": "3.10.14"
  }
 },
 "nbformat": 4,
 "nbformat_minor": 5
}
