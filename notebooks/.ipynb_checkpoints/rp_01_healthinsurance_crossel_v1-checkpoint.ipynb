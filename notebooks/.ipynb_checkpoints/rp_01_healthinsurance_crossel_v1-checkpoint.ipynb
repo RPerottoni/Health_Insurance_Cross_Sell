{
 "cells": [
  {
   "cell_type": "markdown",
   "metadata": {
    "tags": []
   },
   "source": [
    "# PA004 - HEALTH INSURANCE CROSS-SELL"
   ]
  },
  {
   "cell_type": "markdown",
   "metadata": {
    "tags": []
   },
   "source": [
    "## 0 - IMPORTS"
   ]
  },
  {
   "cell_type": "code",
   "execution_count": 1,
   "metadata": {
    "ExecuteTime": {
     "end_time": "2023-02-02T23:22:36.122310Z",
     "start_time": "2023-02-02T23:22:32.765745Z"
    }
   },
   "outputs": [
    {
     "name": "stderr",
     "output_type": "stream",
     "text": [
      "C:\\Users\\perot\\anaconda3\\envs\\health_insurance_venv\\lib\\site-packages\\xgboost\\compat.py:36: FutureWarning: pandas.Int64Index is deprecated and will be removed from pandas in a future version. Use pandas.Index with the appropriate dtype instead.\n",
      "  from pandas import MultiIndex, Int64Index\n"
     ]
    }
   ],
   "source": [
    "import warnings\n",
    "import random\n",
    "import pickle\n",
    "\n",
    "import pandas                as pd\n",
    "import numpy                 as np\n",
    "import seaborn               as sns\n",
    "import scikitplot            as skplt\n",
    "import plotly.express        as px\n",
    "import matplotlib.patches    as mpatches\n",
    "import lightgbm              as lgbm\n",
    "\n",
    "from IPython.core.display    import HTML\n",
    "from IPython.display         import Image\n",
    "from xgboost                 import XGBClassifier\n",
    "from xgboost                 import XGBRegressor\n",
    "from collections             import Counter\n",
    "from catboost                import CatBoostClassifier\n",
    "\n",
    "from scipy                   import stats                     as ss\n",
    "from matplotlib              import pyplot                    as plt\n",
    "from sklearn                 import preprocessing             as pp\n",
    "from sklearn                 import model_selection           as ms\n",
    "from sklearn                 import ensemble                  as en\n",
    "from sklearn                 import neighbors                 as nh\n",
    "from sklearn                 import linear_model              as lm\n",
    "\n",
    "warnings.filterwarnings( 'ignore' )"
   ]
  },
  {
   "cell_type": "markdown",
   "metadata": {},
   "source": [
    "### 0.1 - Helper Functions"
   ]
  },
  {
   "cell_type": "code",
   "execution_count": 2,
   "metadata": {
    "ExecuteTime": {
     "end_time": "2023-02-02T23:22:36.202197Z",
     "start_time": "2023-02-02T23:22:36.129437Z"
    }
   },
   "outputs": [],
   "source": [
    "def recall_at_k (data, k=20000):\n",
    "    # Reset Index\n",
    "    data = data.reset_index( drop=True )\n",
    "\n",
    "    # Create Ranking Order\n",
    "    data['ranking'] = data.index + 1\n",
    "\n",
    "    data['recall_at_k'] = data['response'].cumsum() / data['response'].sum()\n",
    "\n",
    "    return data.loc[k, 'recall_at_k'] \n",
    "\n",
    "def precision_at_k (data, k=20000):\n",
    "    # Reset Index\n",
    "    data = data.reset_index( drop=True )\n",
    "\n",
    "    # Create Ranking Order\n",
    "    data['ranking'] = data.index + 1\n",
    "\n",
    "    data['precision_at_k'] = data['response'].cumsum() / data['ranking']\n",
    "\n",
    "    return data.loc[k, 'precision_at_k']\n",
    "\n",
    "def cramer_v( x, y):\n",
    "    cm = pd.crosstab( x, y).values   \n",
    "    n = cm.sum()\n",
    "    r, k = cm.shape    \n",
    "    \n",
    "    chi2 = ss.chi2_contingency( cm )[0]\n",
    "    chi2corr = max( 0, chi2 - (k-1)*(r-1)/(n-1) )\n",
    "    kcorr = k - (k-1)**2/(n-1)\n",
    "    rcorr = r - (r-1)**2/(n-1) \n",
    "    \n",
    "    return np.sqrt( (chi2corr/n) / ( min( kcorr-1, rcorr-1 ) ) )\n",
    "\n",
    "def prediction_score(model, data):\n",
    "    # Separating train and validation dataset for each kfold\n",
    "    x_train = data.drop(columns=['response'])\n",
    "    y_train = data['response']\n",
    "    \n",
    "    # prediction probability (score)\n",
    "    yhat_proba = model.predict_proba(x_train)[:, 1].tolist()\n",
    "    \n",
    "    # merging score to dataset\n",
    "    data_scored = data.copy()\n",
    "    data_scored['score'] = yhat_proba\n",
    "    \n",
    "    # sort\n",
    "    data_scored = data_scored.sort_values('score', ascending=False)\n",
    "    \n",
    "    # precision and recall\n",
    "    data_scored = data_scored.reset_index(drop=True)\n",
    "    data_scored['n_samples'] = data_scored.index + 1\n",
    "    data_scored['precision_at_k'] = data_scored['response'].cumsum() / data_scored['n_samples']\n",
    "    data_scored['recall_at_k'] = data_scored['response'].cumsum() / data_scored['response'].sum()\n",
    "    \n",
    "    return data_scored\n",
    "\n",
    "def cross_validation(kfold, modelName, model, data, at_k):\n",
    "    # Number of folds\n",
    "    fold=ms.StratifiedKFold(n_splits = kfold, shuffle=True, random_state=42)\n",
    "    \n",
    "    # Performance variables\n",
    "    precision_list = []\n",
    "    recall_list = []\n",
    "    cv_performance = {}\n",
    "    \n",
    "    for train_cv,val_cv in fold.split(data, data['response']):\n",
    "        \n",
    "        # Separating train and validation dataset for each kfold\n",
    "        # training data\n",
    "        x_train_fold = data.iloc[train_cv]\n",
    "        x_train_fold = x_train_fold[cols_selected]\n",
    "        \n",
    "        y_train_fold = data['response'].iloc[train_cv]\n",
    "        \n",
    "        # validation data\n",
    "        x_val_fold = data.iloc[val_cv]\n",
    "        x_val_fold = x_val_fold[cols_selected]\n",
    "        \n",
    "        y_val_fold = data['response'].iloc[val_cv]\n",
    "        \n",
    "        # fitting the model\n",
    "        model_fitted = model.fit(x_train_fold,y_train_fold)\n",
    "        \n",
    "        # getting the prediction probability\n",
    "        x_val_fold['response'] = y_val_fold\n",
    "        val_scored = prediction_score(model_fitted, x_val_fold)\n",
    "        \n",
    "        # Getting precision and recall at k\n",
    "        precision = val_scored.loc[at_k, 'precision_at_k']\n",
    "        recall = val_scored.loc[at_k, 'recall_at_k']\n",
    "        \n",
    "        precision_list.append(precision)\n",
    "        recall_list.append(recall)\n",
    "        \n",
    "    # calculating the mean and std performance of all kfolds\n",
    "    precision_cv = np.round(np.mean(precision_list),4).astype(float)\n",
    "    std_precision_cv = '+/-' + np.round(np.std(precision_list),4).astype(str)\n",
    "    recall_cv = np.round(np.mean(recall_list),4).astype(float)\n",
    "    std_recall_cv = ' +/- ' + np.round(np.std(recall_list),4).astype(str)\n",
    "        \n",
    "    cv_performance[modelName] = [precision_cv, std_precision_cv, recall_cv, std_recall_cv]\n",
    "    model_performance_cv = pd.DataFrame(cv_performance, index=['precision_at_k', 'std_precision', 'recall_at_k', 'std_recall'])\n",
    "\n",
    "    return model_performance_cv\n",
    "\n",
    "def ml_performance( model_name, precision_atK, recall_atK ):\n",
    "    \n",
    "    return pd.DataFrame( {'Model Name': model_name,\n",
    "                          'Precision_at_K': precision_atK,\n",
    "                          'Recall_at_K': recall_atK}, index=[0])\n",
    "\n",
    "def jupyter_settings():\n",
    "    %matplotlib inline\n",
    "    %pylab inline\n",
    "    \n",
    "    plt.style.use( 'bmh' )\n",
    "    plt.rcParams['figure.figsize'] = [18, 8]\n",
    "    plt.rcParams['font.size'] = 24\n",
    "    \n",
    "    display( HTML( '<style>.container {width:100% !important; }</style>') )\n",
    "    pd.options.display.max_columns = None\n",
    "    pd.options.display.max_rows = None\n",
    "    pd.set_option( 'display.expand_frame_repr', False )\n",
    "    \n",
    "    sns.set()"
   ]
  },
  {
   "cell_type": "code",
   "execution_count": 3,
   "metadata": {
    "ExecuteTime": {
     "end_time": "2023-02-02T23:22:36.249973Z",
     "start_time": "2023-02-02T23:22:36.206095Z"
    }
   },
   "outputs": [
    {
     "name": "stdout",
     "output_type": "stream",
     "text": [
      "%pylab is deprecated, use %matplotlib inline and import the required libraries.\n",
      "Populating the interactive namespace from numpy and matplotlib\n"
     ]
    },
    {
     "data": {
      "text/html": [
       "<style>.container {width:100% !important; }</style>"
      ],
      "text/plain": [
       "<IPython.core.display.HTML object>"
      ]
     },
     "metadata": {},
     "output_type": "display_data"
    }
   ],
   "source": [
    "jupyter_settings()"
   ]
  },
  {
   "cell_type": "markdown",
   "metadata": {
    "cell_style": "center",
    "tags": []
   },
   "source": [
    "## 1 - DATAS"
   ]
  },
  {
   "cell_type": "code",
   "execution_count": 4,
   "metadata": {
    "ExecuteTime": {
     "end_time": "2023-02-02T23:22:36.804812Z",
     "start_time": "2023-02-02T23:22:36.254974Z"
    }
   },
   "outputs": [],
   "source": [
    "# Linux\n",
    "#df = pd.read_csv('/home/reng/Documents/ds_repos/Projects/Health_Insurance_Cross_Sell/data/raw/data.csv')\n",
    "\n",
    "# Train Datas - Windows\n",
    "df = pd.read_csv('C:/Users/perot/Documents/ds_repos/projects/Health_Insurance_Cross_Sell/data/raw/data.csv')\n",
    "\n",
    "# Test Datas - Windows\n",
    "#df_test = pd.read_csv('C:/Users/perot/Documents/ds_repos/projects/Health_Insurance_Cross_Sell/data/raw/test.csv')"
   ]
  },
  {
   "cell_type": "markdown",
   "metadata": {
    "ExecuteTime": {
     "end_time": "2022-09-06T21:35:20.287676Z",
     "start_time": "2022-09-06T21:35:20.280308Z"
    },
    "heading_collapsed": true,
    "tags": []
   },
   "source": [
    "### 1.2 - Data Description"
   ]
  },
  {
   "cell_type": "markdown",
   "metadata": {
    "hidden": true
   },
   "source": [
    "#### 1.2.1 - Data Dimensions"
   ]
  },
  {
   "cell_type": "code",
   "execution_count": null,
   "metadata": {
    "ExecuteTime": {
     "end_time": "2023-02-02T21:25:00.351879Z",
     "start_time": "2023-02-02T21:25:00.330775Z"
    },
    "hidden": true
   },
   "outputs": [],
   "source": [
    "print( 'Number of Rows: {}'.format( df.shape[0] ) )\n",
    "print( 'Number of Cols: {}'.format( df.shape[1] ) )"
   ]
  },
  {
   "cell_type": "markdown",
   "metadata": {
    "hidden": true
   },
   "source": [
    "#### 1.2.2 - Data Types"
   ]
  },
  {
   "cell_type": "code",
   "execution_count": null,
   "metadata": {
    "ExecuteTime": {
     "end_time": "2023-02-02T21:25:00.912890Z",
     "start_time": "2023-02-02T21:25:00.893892Z"
    },
    "hidden": true
   },
   "outputs": [],
   "source": [
    "df.dtypes"
   ]
  },
  {
   "cell_type": "code",
   "execution_count": null,
   "metadata": {
    "ExecuteTime": {
     "end_time": "2023-02-02T21:25:01.099053Z",
     "start_time": "2023-02-02T21:25:01.079017Z"
    },
    "hidden": true
   },
   "outputs": [],
   "source": [
    "# Changing data types\n",
    "#df['region_code'] = df['region_code'].astype(object)\n",
    "#df['policy_sales_channel'] = df['policy_sales_channel'].astype(object)"
   ]
  },
  {
   "cell_type": "markdown",
   "metadata": {
    "hidden": true
   },
   "source": [
    "#### 1.2.3 - Check NA"
   ]
  },
  {
   "cell_type": "code",
   "execution_count": null,
   "metadata": {
    "ExecuteTime": {
     "end_time": "2023-02-02T21:25:01.598255Z",
     "start_time": "2023-02-02T21:25:01.448925Z"
    },
    "hidden": true
   },
   "outputs": [],
   "source": [
    "df.isna().sum()"
   ]
  },
  {
   "cell_type": "markdown",
   "metadata": {
    "hidden": true
   },
   "source": [
    "#### 1.2.4 - Columns Description"
   ]
  },
  {
   "cell_type": "code",
   "execution_count": null,
   "metadata": {
    "ExecuteTime": {
     "end_time": "2023-02-02T21:25:01.860779Z",
     "start_time": "2023-02-02T21:25:01.844764Z"
    },
    "hidden": true
   },
   "outputs": [],
   "source": [
    "df.columns"
   ]
  },
  {
   "cell_type": "markdown",
   "metadata": {
    "ExecuteTime": {
     "end_time": "2023-01-26T20:11:28.382622Z",
     "start_time": "2023-01-26T20:11:28.364615Z"
    },
    "hidden": true
   },
   "source": [
    "* **Id**: Unique ID for the customer.\n",
    "* **Gender**: Gender of the customer.\n",
    "* **Age**: Age of the customer.\n",
    "* **Driving_License**: **0**: Customer does not have drive license **1** : Customer already has drive license.\n",
    "* **Region_Code**: Unique code for the region of the customer.\n",
    "* **Previously_Insured**: **1** : Customer already has Vehicle Insurance, **0** : Customer doesn't have Vehicle Insurance.\n",
    "* **Vehicle_Age**: Age of the Vehicle.\n",
    "* **Vehicle_Damage**: **1** : Customer got his/her vehicle damaged in the past. **0** : Customer didn't get his/her vehicle damaged in the past.\n",
    "* **Annual_Premium**: The amount customer needs to pay as premium in the year.\n",
    "* **Policy_Sales_Channel**: Anonymized Code for the channel of outreaching to the customer ie. Different Agents, Over Mail, Over Phone, In Person, etc.\n",
    "* **Vintage**: Number of Days, Customer has been associated with the company.\n",
    "* **Response**: **1** : Customer is interested, **0** : Customer is not interested."
   ]
  },
  {
   "cell_type": "markdown",
   "metadata": {
    "hidden": true,
    "tags": []
   },
   "source": [
    "#### 1.2.5 - Data Descriptive"
   ]
  },
  {
   "cell_type": "code",
   "execution_count": null,
   "metadata": {
    "ExecuteTime": {
     "end_time": "2023-02-02T21:25:02.766367Z",
     "start_time": "2023-02-02T21:25:02.730280Z"
    },
    "hidden": true
   },
   "outputs": [],
   "source": [
    "# Select columns where the content is different 0 or 1.\n",
    "num_attributes = df[['age','annual_premium','vintage']]\n",
    "cat_attributes = df[['driving_license','region_code','policy_sales_channel','previously_insured','gender','vehicle_age','vehicle_damage']]\n",
    "target_atribute = df['response']"
   ]
  },
  {
   "cell_type": "code",
   "execution_count": null,
   "metadata": {
    "ExecuteTime": {
     "end_time": "2023-02-02T21:25:03.639146Z",
     "start_time": "2023-02-02T21:25:02.933481Z"
    },
    "hidden": true
   },
   "outputs": [],
   "source": [
    "num_attributes.hist(bins=25, figsize = (10, 5 ));"
   ]
  },
  {
   "cell_type": "code",
   "execution_count": null,
   "metadata": {
    "ExecuteTime": {
     "end_time": "2023-02-02T21:25:03.872493Z",
     "start_time": "2023-02-02T21:25:03.642076Z"
    },
    "hidden": true
   },
   "outputs": [],
   "source": [
    "# Central Tendency - mean, median\n",
    "ct1 = pd.DataFrame( num_attributes.apply( np.mean ) ).T\n",
    "ct2 = pd.DataFrame( num_attributes.apply( np.median ) ).T\n",
    "\n",
    "# Dispersion - std, min, max, range, skew, kurtosis\n",
    "d1 = pd.DataFrame( num_attributes.apply( np.std ) ).T\n",
    "d2 = pd.DataFrame( num_attributes.apply( min ) ).T\n",
    "d3 = pd.DataFrame( num_attributes.apply( max ) ).T\n",
    "d4 = pd.DataFrame( num_attributes.apply( lambda x: x.max() - x.min() ) ).T\n",
    "d5 = pd.DataFrame( num_attributes.apply( lambda x: x.skew() ) ).T\n",
    "d6 = pd.DataFrame( num_attributes.apply( lambda x: x.kurtosis() ) ).T\n",
    "\n",
    "# Concatenar\n",
    "m = pd.concat( [ d2, d3, d4, ct1, ct2, d1, d5, d6 ] ).T.reset_index()\n",
    "m.columns = ['attributes', 'min', 'max', 'range', 'mean', 'median', 'std', 'skew', 'kurtosis']\n",
    "m"
   ]
  },
  {
   "cell_type": "code",
   "execution_count": null,
   "metadata": {
    "ExecuteTime": {
     "end_time": "2023-02-02T21:25:08.789797Z",
     "start_time": "2023-02-02T21:25:03.875822Z"
    },
    "hidden": true
   },
   "outputs": [],
   "source": [
    "fig, axs = plt.subplots(3, figsize = (8, 10))\n",
    "sns.distplot(df['age'], ax=axs[0], bins=6)\n",
    "sns.distplot(df[df['annual_premium']<100000]['annual_premium'], ax=axs[1])\n",
    "sns.distplot(df['vintage'], ax=axs[2]);"
   ]
  },
  {
   "cell_type": "code",
   "execution_count": null,
   "metadata": {
    "ExecuteTime": {
     "end_time": "2023-02-02T21:25:09.941162Z",
     "start_time": "2023-02-02T21:25:08.793796Z"
    },
    "hidden": true
   },
   "outputs": [],
   "source": [
    "fig, axs = plt.subplots(ncols=3, nrows=2, figsize= (15, 8))\n",
    "\n",
    "sns.countplot(x = 'driving_license', data=df, ax=axs[0][0])\n",
    "sns.countplot(x = 'previously_insured', data=df, ax=axs[0][1])\n",
    "sns.countplot(x = 'gender', data=df, ax=axs[0][2])\n",
    "sns.countplot(x = 'vehicle_age', data=df, ax=axs[1][0])\n",
    "sns.countplot(x = 'vehicle_damage', data=df, ax=axs[1][1])"
   ]
  },
  {
   "cell_type": "code",
   "execution_count": null,
   "metadata": {
    "ExecuteTime": {
     "end_time": "2023-02-02T21:25:10.586676Z",
     "start_time": "2023-02-02T21:25:09.944161Z"
    },
    "hidden": true
   },
   "outputs": [],
   "source": [
    "fig = plt.subplots(figsize = (15,5))\n",
    "sns.countplot(x='region_code', data=df)"
   ]
  },
  {
   "cell_type": "code",
   "execution_count": null,
   "metadata": {
    "ExecuteTime": {
     "end_time": "2023-02-02T21:25:11.817858Z",
     "start_time": "2023-02-02T21:25:10.588571Z"
    },
    "hidden": true
   },
   "outputs": [],
   "source": [
    "policy_1 = df['policy_sales_channel'].value_counts().iloc[0:55]\n",
    "policy_1 = policy_1.reset_index()\n",
    "policy_2 = df['policy_sales_channel'].value_counts().iloc[55:110]\n",
    "policy_2 = policy_2.reset_index()\n",
    "policy_3 = df['policy_sales_channel'].value_counts().iloc[110:156]\n",
    "policy_3 = policy_3.reset_index()\n",
    "\n",
    "fig, axs = plt.subplots(ncols=3, figsize=(15,15))\n",
    "sns.barplot(y='index', x='policy_sales_channel', data=policy_1, ax=axs[0], orient='h', order=policy_1['index'])\n",
    "sns.barplot(y='index', x='policy_sales_channel', data=policy_2, ax=axs[1], orient='h', order=policy_2['index'])\n",
    "sns.barplot(y='index', x='policy_sales_channel', data=policy_3, ax=axs[2], orient='h', order=policy_3['index'])"
   ]
  },
  {
   "cell_type": "markdown",
   "metadata": {
    "tags": []
   },
   "source": [
    "## 2 - FEATURE ENGINEERING"
   ]
  },
  {
   "cell_type": "code",
   "execution_count": 5,
   "metadata": {
    "ExecuteTime": {
     "end_time": "2023-02-02T23:22:43.926992Z",
     "start_time": "2023-02-02T23:22:43.560878Z"
    }
   },
   "outputs": [],
   "source": [
    "df2 = df.copy()\n",
    "\n",
    "# Ajustando coluna vehicle_age\n",
    "df2['vehicle_age'] = df2['vehicle_age'].apply(lambda x: 1 if (x == '< 1 Year') else\n",
    "                                                        2 if (x == '1-2 Year') else\n",
    "                                                        3)\n",
    "# Ajustando coluna vehicle_damage\n",
    "df2['vehicle_damage'] = df2['vehicle_damage'].apply(lambda x: 1 if (x == 'Yes') else 0)"
   ]
  },
  {
   "cell_type": "markdown",
   "metadata": {},
   "source": [
    "### 2.3 - FEATURE ENGINEERING"
   ]
  },
  {
   "cell_type": "code",
   "execution_count": 6,
   "metadata": {
    "ExecuteTime": {
     "end_time": "2023-02-02T23:22:44.160923Z",
     "start_time": "2023-02-02T23:22:44.127917Z"
    }
   },
   "outputs": [
    {
     "data": {
      "text/html": [
       "<div>\n",
       "<style scoped>\n",
       "    .dataframe tbody tr th:only-of-type {\n",
       "        vertical-align: middle;\n",
       "    }\n",
       "\n",
       "    .dataframe tbody tr th {\n",
       "        vertical-align: top;\n",
       "    }\n",
       "\n",
       "    .dataframe thead th {\n",
       "        text-align: right;\n",
       "    }\n",
       "</style>\n",
       "<table border=\"1\" class=\"dataframe\">\n",
       "  <thead>\n",
       "    <tr style=\"text-align: right;\">\n",
       "      <th></th>\n",
       "      <th>id</th>\n",
       "      <th>gender</th>\n",
       "      <th>age</th>\n",
       "      <th>region_code</th>\n",
       "      <th>policy_sales_channel</th>\n",
       "      <th>driving_license</th>\n",
       "      <th>vehicle_age</th>\n",
       "      <th>vehicle_damage</th>\n",
       "      <th>previously_insured</th>\n",
       "      <th>annual_premium</th>\n",
       "      <th>vintage</th>\n",
       "      <th>response</th>\n",
       "    </tr>\n",
       "  </thead>\n",
       "  <tbody>\n",
       "    <tr>\n",
       "      <th>0</th>\n",
       "      <td>7</td>\n",
       "      <td>Male</td>\n",
       "      <td>23</td>\n",
       "      <td>11</td>\n",
       "      <td>152</td>\n",
       "      <td>1</td>\n",
       "      <td>1</td>\n",
       "      <td>1</td>\n",
       "      <td>0</td>\n",
       "      <td>23367</td>\n",
       "      <td>249</td>\n",
       "      <td>0</td>\n",
       "    </tr>\n",
       "    <tr>\n",
       "      <th>1</th>\n",
       "      <td>13</td>\n",
       "      <td>Female</td>\n",
       "      <td>41</td>\n",
       "      <td>15</td>\n",
       "      <td>14</td>\n",
       "      <td>1</td>\n",
       "      <td>2</td>\n",
       "      <td>0</td>\n",
       "      <td>1</td>\n",
       "      <td>31409</td>\n",
       "      <td>221</td>\n",
       "      <td>0</td>\n",
       "    </tr>\n",
       "    <tr>\n",
       "      <th>2</th>\n",
       "      <td>18</td>\n",
       "      <td>Female</td>\n",
       "      <td>25</td>\n",
       "      <td>35</td>\n",
       "      <td>152</td>\n",
       "      <td>1</td>\n",
       "      <td>1</td>\n",
       "      <td>0</td>\n",
       "      <td>1</td>\n",
       "      <td>46622</td>\n",
       "      <td>299</td>\n",
       "      <td>0</td>\n",
       "    </tr>\n",
       "    <tr>\n",
       "      <th>3</th>\n",
       "      <td>31</td>\n",
       "      <td>Female</td>\n",
       "      <td>26</td>\n",
       "      <td>8</td>\n",
       "      <td>160</td>\n",
       "      <td>1</td>\n",
       "      <td>1</td>\n",
       "      <td>0</td>\n",
       "      <td>0</td>\n",
       "      <td>2630</td>\n",
       "      <td>136</td>\n",
       "      <td>0</td>\n",
       "    </tr>\n",
       "    <tr>\n",
       "      <th>4</th>\n",
       "      <td>39</td>\n",
       "      <td>Male</td>\n",
       "      <td>45</td>\n",
       "      <td>8</td>\n",
       "      <td>124</td>\n",
       "      <td>1</td>\n",
       "      <td>2</td>\n",
       "      <td>1</td>\n",
       "      <td>0</td>\n",
       "      <td>42297</td>\n",
       "      <td>264</td>\n",
       "      <td>0</td>\n",
       "    </tr>\n",
       "  </tbody>\n",
       "</table>\n",
       "</div>"
      ],
      "text/plain": [
       "   id  gender  age  region_code  policy_sales_channel  driving_license  vehicle_age  vehicle_damage  previously_insured  annual_premium  vintage  response\n",
       "0   7    Male   23           11                   152                1            1               1                   0           23367      249         0\n",
       "1  13  Female   41           15                    14                1            2               0                   1           31409      221         0\n",
       "2  18  Female   25           35                   152                1            1               0                   1           46622      299         0\n",
       "3  31  Female   26            8                   160                1            1               0                   0            2630      136         0\n",
       "4  39    Male   45            8                   124                1            2               1                   0           42297      264         0"
      ]
     },
     "execution_count": 6,
     "metadata": {},
     "output_type": "execute_result"
    }
   ],
   "source": [
    "df2.head()"
   ]
  },
  {
   "cell_type": "markdown",
   "metadata": {},
   "source": [
    "#### 2.3.1 - New Features"
   ]
  },
  {
   "cell_type": "code",
   "execution_count": 7,
   "metadata": {
    "ExecuteTime": {
     "end_time": "2023-02-02T23:22:45.423741Z",
     "start_time": "2023-02-02T23:22:45.116654Z"
    }
   },
   "outputs": [],
   "source": [
    "# Age Group - young people: between 18 and 30, adults: between 30 and 60, elderly: More than 60.\n",
    "df2['age_group'] = df2['age'].apply(lambda x: 1 if (x >= 18 | x < 25 ) else\n",
    "                                                        2 if (x >= 25 | x < 35 ) else\n",
    "                                                        3 if (x >= 35 | x < 45 ) else\n",
    "                                                        4 if (x >= 45 | x < 60 ) else\n",
    "                                                        5)\n",
    "\n",
    "# Vintage Month - How many month that customer are on the company\n",
    "df2['vintage_month'] = round(df2['vintage'] / 31)\n",
    "\n",
    "# Annual Premium per day\n",
    "df2['annual_premium_per_day'] = df2['annual_premium']/df2['vintage']\n",
    "\n",
    "# Annual Premium per Age\n",
    "df2['annual_premium_per_age'] = df2['annual_premium']/df2['age']"
   ]
  },
  {
   "cell_type": "code",
   "execution_count": 8,
   "metadata": {
    "ExecuteTime": {
     "end_time": "2023-02-02T23:22:45.535309Z",
     "start_time": "2023-02-02T23:22:45.427742Z"
    }
   },
   "outputs": [],
   "source": [
    "# Annual Premium Median per Region Code\n",
    "# Calculating Median Annual Premium by Region_code\n",
    "dict_region_code = df2[['annual_premium', 'region_code']].groupby('region_code').median().to_dict(orient='dict')['annual_premium']\n",
    "dict_region_code\n",
    "\n",
    "# Mapping region code to input median premium by region_code\n",
    "df2['median_premium_by_region'] = df2['region_code'].map(dict_region_code)"
   ]
  },
  {
   "cell_type": "code",
   "execution_count": 9,
   "metadata": {
    "ExecuteTime": {
     "end_time": "2023-02-02T23:22:45.864061Z",
     "start_time": "2023-02-02T23:22:45.805618Z"
    }
   },
   "outputs": [],
   "source": [
    "# Annual Premium Median per Policy Sales Channel\n",
    "\n",
    "# Calculating Median Annual Premium by Policy Sales Channel\n",
    "dict_region_code = df2[['annual_premium', 'policy_sales_channel']].groupby('policy_sales_channel').median().to_dict(orient='dict')['annual_premium']\n",
    "dict_region_code\n",
    "\n",
    "# Mapping region code to input median premium by region_code\n",
    "df2['avg_policy_sales_channel'] = df2['policy_sales_channel'].map(dict_region_code)"
   ]
  },
  {
   "cell_type": "code",
   "execution_count": 10,
   "metadata": {
    "ExecuteTime": {
     "end_time": "2023-02-02T23:22:46.251808Z",
     "start_time": "2023-02-02T23:22:46.196642Z"
    }
   },
   "outputs": [],
   "source": [
    "# Vintage AVG per Region Code\n",
    "\n",
    "# Calculating AVG Vintage by Region Code\n",
    "dict_region_code = df2[['vintage', 'region_code']].groupby('region_code').median().to_dict(orient='dict')['vintage']\n",
    "dict_region_code\n",
    "\n",
    "# Mapping region code to input median premium by region_code\n",
    "df2['avg_vintage_region_code'] = df2['region_code'].map(dict_region_code)"
   ]
  },
  {
   "cell_type": "code",
   "execution_count": 11,
   "metadata": {
    "ExecuteTime": {
     "end_time": "2023-02-02T23:22:46.471250Z",
     "start_time": "2023-02-02T23:22:46.399618Z"
    }
   },
   "outputs": [],
   "source": [
    "# Annual Premium AVG per Age Group\n",
    "\n",
    "# Calculating AVG Annual Premium by Age Group\n",
    "dict_region_code = df2[['annual_premium', 'age_group']].groupby('age_group').median().to_dict(orient='dict')['annual_premium']\n",
    "dict_region_code\n",
    "\n",
    "# Mapping region code to input median premium by region_code\n",
    "df2['avg_annual_premium_age_group'] = df2['age_group'].map(dict_region_code)"
   ]
  },
  {
   "cell_type": "code",
   "execution_count": 12,
   "metadata": {
    "ExecuteTime": {
     "end_time": "2023-02-02T23:22:46.904731Z",
     "start_time": "2023-02-02T23:22:46.827401Z"
    }
   },
   "outputs": [],
   "source": [
    "# Annual Premium AVG per Age\n",
    "\n",
    "# Calculating AVG Annual Premium by Age Group\n",
    "dict_region_code = df2[['annual_premium', 'age']].groupby('age').median().to_dict(orient='dict')['annual_premium']\n",
    "dict_region_code\n",
    "\n",
    "# Mapping region code to input median premium by region_code\n",
    "df2['avg_annual_premium_age'] = df2['age'].map(dict_region_code)"
   ]
  },
  {
   "cell_type": "code",
   "execution_count": 13,
   "metadata": {
    "ExecuteTime": {
     "end_time": "2023-02-02T23:22:47.438987Z",
     "start_time": "2023-02-02T23:22:47.410003Z"
    }
   },
   "outputs": [
    {
     "data": {
      "text/html": [
       "<div>\n",
       "<style scoped>\n",
       "    .dataframe tbody tr th:only-of-type {\n",
       "        vertical-align: middle;\n",
       "    }\n",
       "\n",
       "    .dataframe tbody tr th {\n",
       "        vertical-align: top;\n",
       "    }\n",
       "\n",
       "    .dataframe thead th {\n",
       "        text-align: right;\n",
       "    }\n",
       "</style>\n",
       "<table border=\"1\" class=\"dataframe\">\n",
       "  <thead>\n",
       "    <tr style=\"text-align: right;\">\n",
       "      <th></th>\n",
       "      <th>id</th>\n",
       "      <th>gender</th>\n",
       "      <th>age</th>\n",
       "      <th>region_code</th>\n",
       "      <th>policy_sales_channel</th>\n",
       "      <th>driving_license</th>\n",
       "      <th>vehicle_age</th>\n",
       "      <th>vehicle_damage</th>\n",
       "      <th>previously_insured</th>\n",
       "      <th>annual_premium</th>\n",
       "      <th>vintage</th>\n",
       "      <th>response</th>\n",
       "      <th>age_group</th>\n",
       "      <th>vintage_month</th>\n",
       "      <th>annual_premium_per_day</th>\n",
       "      <th>annual_premium_per_age</th>\n",
       "      <th>median_premium_by_region</th>\n",
       "      <th>avg_policy_sales_channel</th>\n",
       "      <th>avg_vintage_region_code</th>\n",
       "      <th>avg_annual_premium_age_group</th>\n",
       "      <th>avg_annual_premium_age</th>\n",
       "    </tr>\n",
       "  </thead>\n",
       "  <tbody>\n",
       "    <tr>\n",
       "      <th>0</th>\n",
       "      <td>7</td>\n",
       "      <td>Male</td>\n",
       "      <td>23</td>\n",
       "      <td>11</td>\n",
       "      <td>152</td>\n",
       "      <td>1</td>\n",
       "      <td>1</td>\n",
       "      <td>1</td>\n",
       "      <td>0</td>\n",
       "      <td>23367</td>\n",
       "      <td>249</td>\n",
       "      <td>0</td>\n",
       "      <td>1</td>\n",
       "      <td>8.0</td>\n",
       "      <td>93.843373</td>\n",
       "      <td>1015.956522</td>\n",
       "      <td>29128.0</td>\n",
       "      <td>30756.0</td>\n",
       "      <td>154.0</td>\n",
       "      <td>30811.0</td>\n",
       "      <td>30763.5</td>\n",
       "    </tr>\n",
       "    <tr>\n",
       "      <th>1</th>\n",
       "      <td>13</td>\n",
       "      <td>Female</td>\n",
       "      <td>41</td>\n",
       "      <td>15</td>\n",
       "      <td>14</td>\n",
       "      <td>1</td>\n",
       "      <td>2</td>\n",
       "      <td>0</td>\n",
       "      <td>1</td>\n",
       "      <td>31409</td>\n",
       "      <td>221</td>\n",
       "      <td>0</td>\n",
       "      <td>5</td>\n",
       "      <td>7.0</td>\n",
       "      <td>142.122172</td>\n",
       "      <td>766.073171</td>\n",
       "      <td>31917.0</td>\n",
       "      <td>35663.0</td>\n",
       "      <td>156.0</td>\n",
       "      <td>32076.0</td>\n",
       "      <td>31973.5</td>\n",
       "    </tr>\n",
       "    <tr>\n",
       "      <th>2</th>\n",
       "      <td>18</td>\n",
       "      <td>Female</td>\n",
       "      <td>25</td>\n",
       "      <td>35</td>\n",
       "      <td>152</td>\n",
       "      <td>1</td>\n",
       "      <td>1</td>\n",
       "      <td>0</td>\n",
       "      <td>1</td>\n",
       "      <td>46622</td>\n",
       "      <td>299</td>\n",
       "      <td>0</td>\n",
       "      <td>2</td>\n",
       "      <td>10.0</td>\n",
       "      <td>155.926421</td>\n",
       "      <td>1864.880000</td>\n",
       "      <td>29047.5</td>\n",
       "      <td>30756.0</td>\n",
       "      <td>153.0</td>\n",
       "      <td>30182.0</td>\n",
       "      <td>30734.5</td>\n",
       "    </tr>\n",
       "    <tr>\n",
       "      <th>3</th>\n",
       "      <td>31</td>\n",
       "      <td>Female</td>\n",
       "      <td>26</td>\n",
       "      <td>8</td>\n",
       "      <td>160</td>\n",
       "      <td>1</td>\n",
       "      <td>1</td>\n",
       "      <td>0</td>\n",
       "      <td>0</td>\n",
       "      <td>2630</td>\n",
       "      <td>136</td>\n",
       "      <td>0</td>\n",
       "      <td>5</td>\n",
       "      <td>4.0</td>\n",
       "      <td>19.338235</td>\n",
       "      <td>101.153846</td>\n",
       "      <td>37197.0</td>\n",
       "      <td>28460.0</td>\n",
       "      <td>154.0</td>\n",
       "      <td>32076.0</td>\n",
       "      <td>30126.0</td>\n",
       "    </tr>\n",
       "    <tr>\n",
       "      <th>4</th>\n",
       "      <td>39</td>\n",
       "      <td>Male</td>\n",
       "      <td>45</td>\n",
       "      <td>8</td>\n",
       "      <td>124</td>\n",
       "      <td>1</td>\n",
       "      <td>2</td>\n",
       "      <td>1</td>\n",
       "      <td>0</td>\n",
       "      <td>42297</td>\n",
       "      <td>264</td>\n",
       "      <td>0</td>\n",
       "      <td>4</td>\n",
       "      <td>9.0</td>\n",
       "      <td>160.215909</td>\n",
       "      <td>939.933333</td>\n",
       "      <td>37197.0</td>\n",
       "      <td>32993.0</td>\n",
       "      <td>154.0</td>\n",
       "      <td>33304.0</td>\n",
       "      <td>33362.0</td>\n",
       "    </tr>\n",
       "  </tbody>\n",
       "</table>\n",
       "</div>"
      ],
      "text/plain": [
       "   id  gender  age  region_code  policy_sales_channel  driving_license  vehicle_age  vehicle_damage  previously_insured  annual_premium  vintage  response  age_group  vintage_month  annual_premium_per_day  annual_premium_per_age  median_premium_by_region  avg_policy_sales_channel  avg_vintage_region_code  avg_annual_premium_age_group  avg_annual_premium_age\n",
       "0   7    Male   23           11                   152                1            1               1                   0           23367      249         0          1            8.0               93.843373             1015.956522                   29128.0                   30756.0                    154.0                       30811.0                 30763.5\n",
       "1  13  Female   41           15                    14                1            2               0                   1           31409      221         0          5            7.0              142.122172              766.073171                   31917.0                   35663.0                    156.0                       32076.0                 31973.5\n",
       "2  18  Female   25           35                   152                1            1               0                   1           46622      299         0          2           10.0              155.926421             1864.880000                   29047.5                   30756.0                    153.0                       30182.0                 30734.5\n",
       "3  31  Female   26            8                   160                1            1               0                   0            2630      136         0          5            4.0               19.338235              101.153846                   37197.0                   28460.0                    154.0                       32076.0                 30126.0\n",
       "4  39    Male   45            8                   124                1            2               1                   0           42297      264         0          4            9.0              160.215909              939.933333                   37197.0                   32993.0                    154.0                       33304.0                 33362.0"
      ]
     },
     "execution_count": 13,
     "metadata": {},
     "output_type": "execute_result"
    }
   ],
   "source": [
    "df2.head()"
   ]
  },
  {
   "cell_type": "markdown",
   "metadata": {
    "ExecuteTime": {
     "end_time": "2022-11-06T12:35:53.287597Z",
     "start_time": "2022-11-06T12:35:53.278942Z"
    }
   },
   "source": [
    "## 3 - DATA FILTERING"
   ]
  },
  {
   "cell_type": "code",
   "execution_count": 14,
   "metadata": {
    "ExecuteTime": {
     "end_time": "2023-02-02T23:22:48.257813Z",
     "start_time": "2023-02-02T23:22:48.205717Z"
    }
   },
   "outputs": [],
   "source": [
    "df3 = df2.copy()"
   ]
  },
  {
   "cell_type": "markdown",
   "metadata": {},
   "source": [
    "## 4 - EDA"
   ]
  },
  {
   "cell_type": "code",
   "execution_count": 15,
   "metadata": {
    "ExecuteTime": {
     "end_time": "2023-02-02T23:22:48.991187Z",
     "start_time": "2023-02-02T23:22:48.964188Z"
    }
   },
   "outputs": [],
   "source": [
    "df4 = df3.copy()"
   ]
  },
  {
   "cell_type": "markdown",
   "metadata": {
    "ExecuteTime": {
     "end_time": "2022-11-06T11:16:01.220405Z",
     "start_time": "2022-11-06T11:16:01.143332Z"
    },
    "heading_collapsed": true
   },
   "source": [
    "### 4.1 -  Univariate Analysis"
   ]
  },
  {
   "cell_type": "code",
   "execution_count": null,
   "metadata": {
    "ExecuteTime": {
     "end_time": "2023-02-01T20:17:51.060678Z",
     "start_time": "2023-02-01T20:17:50.783209Z"
    },
    "hidden": true
   },
   "outputs": [],
   "source": [
    "# response\n",
    "one = df4[['id','response']].groupby('response').count().reset_index()\n",
    "\n",
    "sns.barplot( x='response', y='id', data=one)"
   ]
  },
  {
   "cell_type": "code",
   "execution_count": null,
   "metadata": {
    "ExecuteTime": {
     "end_time": "2023-01-29T21:09:53.871029Z",
     "start_time": "2023-01-29T21:09:52.304429Z"
    },
    "hidden": true
   },
   "outputs": [],
   "source": [
    "# 'age'\n",
    "\n",
    "plt.subplot(1,3,1)\n",
    "sns.boxplot( x='response', y='age', data=df4)\n",
    "\n",
    "plt.subplot(1,3,2)\n",
    "aux1 = df4.loc[df4['response'] == 0, 'age']\n",
    "sns.histplot(aux1)\n",
    "\n",
    "plt.subplot(1,3,3)\n",
    "aux1 = df4.loc[df4['response'] == 1, 'age']\n",
    "sns.histplot(aux1)"
   ]
  },
  {
   "cell_type": "code",
   "execution_count": null,
   "metadata": {
    "ExecuteTime": {
     "end_time": "2023-01-29T21:09:55.724454Z",
     "start_time": "2023-01-29T21:09:53.873031Z"
    },
    "hidden": true
   },
   "outputs": [],
   "source": [
    "# 'annual_premium'\n",
    "plt.subplot(1,3,1)\n",
    "aux = df4[df4['annual_premium'] < 80000]\n",
    "sns.boxplot( x='response', y='annual_premium', data=aux)\n",
    "\n",
    "plt.subplot(1,3,2)\n",
    "aux = df4[(df4['annual_premium'] > 10000) & (df4['annual_premium'] < 80000)]\n",
    "aux1 = aux.loc[aux['response'] == 0, 'annual_premium']\n",
    "sns.histplot(aux1)\n",
    "\n",
    "plt.subplot(1,3,3)\n",
    "aux1 = aux.loc[aux['response'] == 1, 'annual_premium']\n",
    "sns.histplot(aux1)"
   ]
  },
  {
   "cell_type": "code",
   "execution_count": null,
   "metadata": {
    "ExecuteTime": {
     "end_time": "2023-01-29T21:09:55.993403Z",
     "start_time": "2023-01-29T21:09:55.727451Z"
    },
    "hidden": true
   },
   "outputs": [],
   "source": [
    "# 'driving_license'\n",
    "aux = df4[['driving_license', 'response']].groupby('response').sum().reset_index()\n",
    "\n",
    "plt.figure(figsize=(7,5))\n",
    "sns.barplot( x='response', y='driving_license', data=aux)"
   ]
  },
  {
   "cell_type": "code",
   "execution_count": null,
   "metadata": {
    "ExecuteTime": {
     "end_time": "2023-01-29T21:09:56.501498Z",
     "start_time": "2023-01-29T21:09:55.996306Z"
    },
    "hidden": true
   },
   "outputs": [],
   "source": [
    "#'region_code'\n",
    "aux = df4[['id','region_code','response']].groupby(['region_code','response']).count().reset_index()\n",
    "plt.figure(figsize=(7,5))\n",
    "sns.scatterplot( x='region_code', y='id', hue='response', data=aux )"
   ]
  },
  {
   "cell_type": "code",
   "execution_count": null,
   "metadata": {
    "ExecuteTime": {
     "end_time": "2023-01-29T21:09:56.942580Z",
     "start_time": "2023-01-29T21:09:56.504494Z"
    },
    "hidden": true
   },
   "outputs": [],
   "source": [
    "# 'previously_insured'\n",
    "pi = pd.crosstab( df4['previously_insured'], df4['response'] ).apply( lambda x: x / x.sum(), axis=1 )\n",
    "pi_stack = pi.stack().reset_index().rename(columns={0:'value'})\n",
    "plt.figure(figsize=(7,5))\n",
    "sns.barplot( x= pi_stack.previously_insured, y= pi_stack.value, hue=pi_stack.response)"
   ]
  },
  {
   "cell_type": "code",
   "execution_count": null,
   "metadata": {
    "ExecuteTime": {
     "end_time": "2023-01-29T21:09:57.418369Z",
     "start_time": "2023-01-29T21:09:56.946583Z"
    },
    "hidden": true
   },
   "outputs": [],
   "source": [
    "#'gender'\n",
    "gen = pd.crosstab( df4['gender'], df4['response'] ).apply( lambda x: x / x.sum(), axis=1 )\n",
    "gen_stack = gen.stack().reset_index().rename(columns={0:'value'}) \n",
    "plt.figure(figsize=(7,5))\n",
    "sns.barplot( x= gen_stack.gender, y= gen_stack.value, hue=gen_stack.response )"
   ]
  },
  {
   "cell_type": "code",
   "execution_count": null,
   "metadata": {
    "ExecuteTime": {
     "end_time": "2023-01-29T21:09:57.792509Z",
     "start_time": "2023-01-29T21:09:57.422361Z"
    },
    "hidden": true
   },
   "outputs": [],
   "source": [
    "# 'vehicle_age'\n",
    "veh_age = df4[['vehicle_age','response']].value_counts( normalize=True ).reset_index()\n",
    "veh_age = veh_age.rename(columns={0:'value'}) \n",
    "plt.figure(figsize=(7,5))\n",
    "sns.barplot( x= veh_age.vehicle_age, y= veh_age.value, hue=veh_age.response )"
   ]
  },
  {
   "cell_type": "code",
   "execution_count": null,
   "metadata": {
    "ExecuteTime": {
     "end_time": "2023-01-29T21:09:58.123345Z",
     "start_time": "2023-01-29T21:09:57.797381Z"
    },
    "hidden": true
   },
   "outputs": [],
   "source": [
    "# 'vehicle_damage'\n",
    "veh_dam = pd.crosstab( df4['vehicle_damage'], df4['response'] ).apply( lambda x: x / x.sum(), axis=1 )\n",
    "veh_dam = veh_dam.stack().reset_index().rename(columns={0:'value'})\n",
    "plt.figure(figsize=(7,5))\n",
    "sns.barplot( x= veh_dam.vehicle_damage, y= veh_dam.value, hue=veh_dam.response )"
   ]
  },
  {
   "cell_type": "code",
   "execution_count": null,
   "metadata": {
    "ExecuteTime": {
     "end_time": "2023-01-29T21:09:58.549739Z",
     "start_time": "2023-01-29T21:09:58.127360Z"
    },
    "hidden": true
   },
   "outputs": [],
   "source": [
    "# 'age_group'\n",
    "age_gro = pd.crosstab( df4['age_group'], df4['response'] ).apply( lambda x: x / x.sum(), axis=1 )\n",
    "age_gro = age_gro.stack().reset_index().rename(columns={0:'value'})\n",
    "plt.figure(figsize=(7,5))\n",
    "sns.barplot( x= age_gro.age_group, y= age_gro.value, hue=age_gro.response )"
   ]
  },
  {
   "cell_type": "code",
   "execution_count": null,
   "metadata": {
    "ExecuteTime": {
     "end_time": "2023-01-29T21:09:59.119496Z",
     "start_time": "2023-01-29T21:09:58.552787Z"
    },
    "hidden": true
   },
   "outputs": [],
   "source": [
    "# 'vintage_month'\n",
    "vintage_month = df4[['vintage_month','response']].value_counts( normalize=True ).reset_index()\n",
    "vintage_month = vintage_month.rename(columns={0:'value'}) \n",
    "plt.figure(figsize=(7,5))\n",
    "sns.barplot( x= vintage_month.vintage_month, y= vintage_month.value, hue=vintage_month.response )"
   ]
  },
  {
   "cell_type": "code",
   "execution_count": null,
   "metadata": {
    "ExecuteTime": {
     "end_time": "2023-01-29T21:10:04.099581Z",
     "start_time": "2023-01-29T21:09:59.122386Z"
    },
    "hidden": true
   },
   "outputs": [],
   "source": [
    "# 'policy_sales_channel'\n",
    "# set the figure size\n",
    "plt.figure(figsize=(25, 10))\n",
    "\n",
    "# from raw value to percentage\n",
    "total = df4.groupby('policy_sales_channel')['id'].count().reset_index()\n",
    "response_1 = df4.loc[df4.response == 1 ].groupby('policy_sales_channel')['id'].count().reset_index()\n",
    "response_0 = df4.loc[df4.response == 0 ].groupby('policy_sales_channel')['response'].sum().reset_index()\n",
    "resp = pd.merge(response_1, response_0, how = 'outer', on = 'policy_sales_channel')\n",
    "resp['id'] = resp['id'].fillna(0)\n",
    "resp = resp.sort_values(by='policy_sales_channel')\n",
    "resp['id'] = [i / j * 100 for i,j in zip(resp['id'], total['id'])]\n",
    "total['id'] = [i / j * 100 for i,j in zip(total['id'], total['id'])]\n",
    "\n",
    "# bar chart 1 -> top bars (group of 'smoker=No')\n",
    "bar1 = sns.barplot(x=\"policy_sales_channel\",  y=\"id\", data=total, color='darkblue')\n",
    "\n",
    "# bar chart 2 -> bottom bars (group of 'smoker=Yes')\n",
    "bar2 = sns.barplot(x=\"policy_sales_channel\", y=\"id\", data=resp, color='lightblue')\n",
    "\n",
    "# add legend\n",
    "plt.xticks(rotation=90)\n",
    "top_bar = mpatches.Patch(color='darkblue', label='response = No')\n",
    "bottom_bar = mpatches.Patch(color='lightblue', label='response = Yes')\n",
    "plt.legend(handles=[top_bar, bottom_bar])\n",
    "\n",
    "# show the graph\n",
    "plt.show()"
   ]
  },
  {
   "cell_type": "code",
   "execution_count": null,
   "metadata": {
    "ExecuteTime": {
     "end_time": "2023-01-29T21:10:12.237219Z",
     "start_time": "2023-01-29T21:10:04.102499Z"
    },
    "hidden": true
   },
   "outputs": [],
   "source": [
    "# 'vintage'\n",
    "plt.subplot( 1,3,1 )\n",
    "sns.barplot( x='response', y='vintage', data=df4)\n",
    "\n",
    "plt.subplot( 1,3,2 )\n",
    "aux = df4.loc[df4['response'] == 0, 'vintage']\n",
    "sns.histplot( aux )\n",
    "\n",
    "plt.subplot( 1,3,3 )\n",
    "aux = df4.loc[df4['response'] == 1, 'vintage']\n",
    "sns.histplot( aux )"
   ]
  },
  {
   "cell_type": "code",
   "execution_count": null,
   "metadata": {
    "ExecuteTime": {
     "end_time": "2023-01-29T21:10:21.624914Z",
     "start_time": "2023-01-29T21:10:12.238223Z"
    },
    "hidden": true
   },
   "outputs": [],
   "source": [
    "# Age Group\n",
    "plt.subplot( 1,3,1 )\n",
    "sns.barplot( x='response', y='age_group', data=df4)\n",
    "\n",
    "plt.subplot( 1,3,2 )\n",
    "aux = df4.loc[df4['response'] == 0, 'age_group']\n",
    "sns.histplot( aux )\n",
    "\n",
    "plt.subplot( 1,3,3 )\n",
    "aux = df4.loc[df4['response'] == 1, 'age_group']\n",
    "sns.histplot( aux )"
   ]
  },
  {
   "cell_type": "code",
   "execution_count": null,
   "metadata": {
    "ExecuteTime": {
     "end_time": "2023-01-29T21:10:30.651607Z",
     "start_time": "2023-01-29T21:10:21.627806Z"
    },
    "hidden": true
   },
   "outputs": [],
   "source": [
    "# Vintage Month\n",
    "plt.subplot( 1,3,1 )\n",
    "sns.barplot( x='response', y='vintage_month', data=df4)\n",
    "\n",
    "plt.subplot( 1,3,2 )\n",
    "aux = df4.loc[df4['response'] == 0, 'vintage_month']\n",
    "sns.histplot( aux )\n",
    "\n",
    "plt.subplot( 1,3,3 )\n",
    "aux = df4.loc[df4['response'] == 1, 'vintage_month']\n",
    "sns.histplot( aux )"
   ]
  },
  {
   "cell_type": "code",
   "execution_count": null,
   "metadata": {
    "ExecuteTime": {
     "end_time": "2023-01-29T21:10:52.188298Z",
     "start_time": "2023-01-29T21:10:30.654537Z"
    },
    "hidden": true
   },
   "outputs": [],
   "source": [
    "# Annual Premium per Day\n",
    "plt.subplot( 1,3,1 )\n",
    "sns.barplot( x='response', y='annual_premium_per_day', data=df4)\n",
    "\n",
    "plt.subplot( 1,3,2 )\n",
    "aux = df4.loc[df4['response'] == 0, 'annual_premium_per_day']\n",
    "sns.histplot( aux )\n",
    "\n",
    "plt.subplot( 1,3,3 )\n",
    "aux = df4.loc[df4['response'] == 1, 'annual_premium_per_day']\n",
    "sns.histplot( aux )"
   ]
  },
  {
   "cell_type": "code",
   "execution_count": null,
   "metadata": {
    "ExecuteTime": {
     "end_time": "2023-01-29T21:11:06.160029Z",
     "start_time": "2023-01-29T21:10:52.200623Z"
    },
    "hidden": true
   },
   "outputs": [],
   "source": [
    "# Annual Premium per Group Age\n",
    "plt.subplot( 1,3,1 )\n",
    "sns.barplot( x='response', y='annual_premium_per_age', data=df4)\n",
    "\n",
    "plt.subplot( 1,3,2 )\n",
    "aux = df4.loc[df4['response'] == 0, 'annual_premium_per_age']\n",
    "sns.histplot( aux )\n",
    "\n",
    "plt.subplot( 1,3,3 )\n",
    "aux = df4.loc[df4['response'] == 1, 'annual_premium_per_age']\n",
    "sns.histplot( aux )"
   ]
  },
  {
   "cell_type": "markdown",
   "metadata": {
    "heading_collapsed": true
   },
   "source": [
    "### 4.2 - Bivariate Analysis"
   ]
  },
  {
   "cell_type": "code",
   "execution_count": null,
   "metadata": {
    "ExecuteTime": {
     "end_time": "2023-01-29T21:11:06.191966Z",
     "start_time": "2023-01-29T21:11:06.164359Z"
    },
    "hidden": true
   },
   "outputs": [],
   "source": [
    "df2.head()"
   ]
  },
  {
   "cell_type": "code",
   "execution_count": null,
   "metadata": {
    "ExecuteTime": {
     "end_time": "2023-01-29T21:11:06.315944Z",
     "start_time": "2023-01-29T21:11:06.195905Z"
    },
    "hidden": true
   },
   "outputs": [],
   "source": [
    "#1.The interest on purchase the vehicle insurance is greater for customers that damaged their vehicle before and doesn't have insurance. (FALSE)\n",
    "d1 = df2[( df2['previously_insured'] == 0) & (df2['vehicle_damage'] == 1)]\n",
    "\n",
    "ax1 = d1[['response','id']].groupby('response').count().reset_index()\n",
    "ax1['percentage'] = round(ax1['id'] / d1['id'].count()*100)\n",
    "ax1"
   ]
  },
  {
   "cell_type": "code",
   "execution_count": null,
   "metadata": {
    "ExecuteTime": {
     "end_time": "2023-01-29T21:11:06.438406Z",
     "start_time": "2023-01-29T21:11:06.321422Z"
    },
    "hidden": true
   },
   "outputs": [],
   "source": [
    "# 2. The interest on purchase the vehicle insurance is greater for woman than men. (FALSE)\n",
    "aux2 = pd.crosstab(df2['gender'], df2['response'])\n",
    "aux2['percentage'] = aux2[1]/(aux2[0]+aux2[1])\n",
    "aux2"
   ]
  },
  {
   "cell_type": "code",
   "execution_count": null,
   "metadata": {
    "ExecuteTime": {
     "end_time": "2023-01-29T21:11:07.077158Z",
     "start_time": "2023-01-29T21:11:06.440513Z"
    },
    "hidden": true
   },
   "outputs": [],
   "source": [
    "# 3. The interest on purchase vehicle insurance is greater for vintage customers( 7 months or more )\n",
    "aux3 = df2[df2['vintage_month'] >= 7 ][['id','response']]\n",
    "aux4 = df2[df2['vintage_month'] < 7 ][['id','response']]\n",
    "\n",
    "fix, axs = plt.subplots(ncols = 2, figsize = (15,4))\n",
    "sns.countplot(x = aux3['response'], ax=axs[0]).set_title('Vintage Customer: 7 months or more')\n",
    "sns.countplot(x = aux4['response'], ax=axs[1]).set_title('Vintage Customer: 7 months or less')"
   ]
  },
  {
   "cell_type": "code",
   "execution_count": null,
   "metadata": {
    "ExecuteTime": {
     "end_time": "2023-01-29T21:11:07.123080Z",
     "start_time": "2023-01-29T21:11:07.082185Z"
    },
    "hidden": true
   },
   "outputs": [],
   "source": [
    "aux18 = aux3[['response','id']].groupby('response').count().reset_index()\n",
    "aux18['percentage'] = round( aux18['id'] / aux3.shape[0] * 100 )\n",
    "aux18"
   ]
  },
  {
   "cell_type": "code",
   "execution_count": null,
   "metadata": {
    "ExecuteTime": {
     "end_time": "2023-01-29T21:11:07.169412Z",
     "start_time": "2023-01-29T21:11:07.129048Z"
    },
    "hidden": true
   },
   "outputs": [],
   "source": [
    "aux19 = aux4[['response','id']].groupby('response').count().reset_index()\n",
    "aux19['percentage'] = round( aux19['id'] / aux4.shape[0] * 100 )\n",
    "aux19"
   ]
  },
  {
   "cell_type": "code",
   "execution_count": null,
   "metadata": {
    "ExecuteTime": {
     "end_time": "2023-01-29T21:11:07.698258Z",
     "start_time": "2023-01-29T21:11:07.173428Z"
    },
    "hidden": true
   },
   "outputs": [],
   "source": [
    "# 4. The interest on purchase the vehicle insurance is greater for customers that spend less than 30k for annual premium.\n",
    "aux5 = df2[df2['annual_premium'] > 30000][['id','response']]\n",
    "aux6 = df2[df2['annual_premium'] <= 30000][['id','response']]\n",
    "\n",
    "fix, axs = plt.subplots(ncols = 2, figsize = (15,4))\n",
    "sns.countplot(x = aux5['response'], ax=axs[0]).set_title('Annual Premium: 30k or more')\n",
    "sns.countplot(x = aux6['response'], ax=axs[1]).set_title('Annual Premium: 30k or less')"
   ]
  },
  {
   "cell_type": "code",
   "execution_count": null,
   "metadata": {
    "ExecuteTime": {
     "end_time": "2023-01-29T21:11:07.729260Z",
     "start_time": "2023-01-29T21:11:07.701262Z"
    },
    "hidden": true
   },
   "outputs": [],
   "source": [
    "aux16 = aux5[['response','id']].groupby('response').count().reset_index()\n",
    "aux16['percentage'] = round( aux16['id'] / aux5.shape[0] * 100 )\n",
    "aux16"
   ]
  },
  {
   "cell_type": "code",
   "execution_count": null,
   "metadata": {
    "ExecuteTime": {
     "end_time": "2023-01-29T21:11:07.775550Z",
     "start_time": "2023-01-29T21:11:07.734263Z"
    },
    "hidden": true
   },
   "outputs": [],
   "source": [
    "aux17 = aux6[['response','id']].groupby('response').count().reset_index()\n",
    "aux17['percentage'] = round( aux17['id'] / aux6.shape[0] * 100 )\n",
    "aux17"
   ]
  },
  {
   "cell_type": "code",
   "execution_count": null,
   "metadata": {
    "ExecuteTime": {
     "end_time": "2023-01-29T21:11:08.290872Z",
     "start_time": "2023-01-29T21:11:07.779938Z"
    },
    "hidden": true
   },
   "outputs": [],
   "source": [
    "# 5. The interest on purchase the vehicle insurance is greater for young customers.(Between 18 and 30 years old.)\n",
    "ax7 = sns.countplot(x = df2['response'], hue=df2['age_group'])"
   ]
  },
  {
   "cell_type": "code",
   "execution_count": null,
   "metadata": {
    "ExecuteTime": {
     "end_time": "2023-01-29T21:28:24.408509Z",
     "start_time": "2023-01-29T21:28:24.336834Z"
    },
    "hidden": true
   },
   "outputs": [],
   "source": [
    "aux8 = pd.crosstab(df2['age_group'], df2['response'])\n",
    "aux8['percentage'] = aux8[1]/(aux8[0]+aux8[1])\n",
    "aux8"
   ]
  },
  {
   "cell_type": "code",
   "execution_count": null,
   "metadata": {
    "ExecuteTime": {
     "end_time": "2023-01-29T21:11:08.478428Z",
     "start_time": "2023-01-29T21:11:08.404321Z"
    },
    "hidden": true
   },
   "outputs": [],
   "source": [
    "# 6. The interest on purchase the vehicle insurance is greater for customers that have driver license.\n",
    "aux9 = pd.crosstab(df2['driving_license'], df2['response'])\n",
    "aux9['percentage'] = round(aux9[1]/(aux9[0]+aux9[1])*100)\n",
    "aux9"
   ]
  },
  {
   "cell_type": "code",
   "execution_count": null,
   "metadata": {
    "ExecuteTime": {
     "end_time": "2023-01-29T21:11:08.557539Z",
     "start_time": "2023-01-29T21:11:08.481443Z"
    },
    "hidden": true
   },
   "outputs": [],
   "source": [
    "# 7. The interest on purchase the vehicle insurance is greater for customers that have new cars.\n",
    "aux10 = pd.crosstab(df2['vehicle_age'], df2['response'])\n",
    "aux10['percentage'] = round(aux10[1]/(aux10[0]+aux10[1])*100)\n",
    "aux10"
   ]
  },
  {
   "cell_type": "code",
   "execution_count": null,
   "metadata": {
    "ExecuteTime": {
     "end_time": "2023-01-29T21:11:08.649766Z",
     "start_time": "2023-01-29T21:11:08.560419Z"
    },
    "hidden": true
   },
   "outputs": [],
   "source": [
    "# 8. The interest on purchase the vehicle insurance is greater for customers that have new cars and have damaged their vehicles.\n",
    "aux11 = df2[(df2['vehicle_damage'] == 1 )]\n",
    "aux12 = pd.crosstab(aux11['vehicle_age'], aux11['response'])\n",
    "aux12['percentage'] = round(aux12[1]/(aux12[0]+aux12[1])*100)\n",
    "aux12"
   ]
  },
  {
   "cell_type": "code",
   "execution_count": null,
   "metadata": {
    "ExecuteTime": {
     "end_time": "2023-01-29T21:11:08.772208Z",
     "start_time": "2023-01-29T21:11:08.654765Z"
    },
    "hidden": true
   },
   "outputs": [],
   "source": [
    "# 9. The interest on purchase the vehicle insurance is greater for elderly women.\n",
    "aux13 = df2[(df2['gender'] == 'Female')]\n",
    "aux14 = pd.crosstab(aux13['age_group'], aux13['response'])\n",
    "aux14['percentage'] = round(aux14[1]/(aux14[0]+aux14[1])*100)\n",
    "aux14"
   ]
  },
  {
   "cell_type": "code",
   "execution_count": null,
   "metadata": {
    "ExecuteTime": {
     "end_time": "2023-01-29T21:11:08.849466Z",
     "start_time": "2023-01-29T21:11:08.775195Z"
    },
    "hidden": true
   },
   "outputs": [],
   "source": [
    "# 10. The interest on purchase the vehicle insurance is lower for customers that are already insured.\n",
    "aux15 = pd.crosstab(df2['previously_insured'], df2['response'])\n",
    "aux15['percentage'] = round(aux15[1]/(aux15[0]+aux15[1])*100)\n",
    "aux15"
   ]
  },
  {
   "cell_type": "markdown",
   "metadata": {
    "hidden": true
   },
   "source": [
    "**Hypothesis Validation**\n",
    "\n",
    "1. The interest on purchase the vehicle insurance is greater for customers that damaged their vehicle before and doesn't have insurance.\n",
    "    **False, of the customers that damaged their car and doesn't have insurance, only 25% show interest in acquire vehicle insurance.**\n",
    "\n",
    "2. The interest on purchase the vehicle insurance is greater for woman than men.\n",
    "    **False, only 10% of women show interest in acquire vehicle insurance, whereas 13% of the men show interest on acquire vehicle insurance.**\n",
    "\n",
    "3. The interest on purchase vehicle insurance is greater for vintage customers ( 7 months or more ).\n",
    "    **False, the period that customers are on the company doensn't show influency on interest in buying vehicle insurance.**\n",
    "\n",
    "4. The interest on purchase the vehicle insurance is greater for young customers.(Between 18 and 30 years old.)\n",
    "    **False, customers that spend more than 30k yearly show greter interest on purchase vehicle insurance.**\n",
    "\n",
    "5. The interest on purchase the vehicle insurance is greater for young customers.(Between 18 and 30 years old.)\n",
    "    **False, adults and elderlies show greater interest on buying vehicle insurance.**\n",
    "\n",
    "6. The interest on purchase the vehicle insurance is greater for customers that have driver license.\n",
    "    **True, arround 12% of customers that hold a driving license show interest in buying the vehicle insurance.**\n",
    "\n",
    "7. The interest on purchase the vehicle insurance is greater for customers that have new cars.\n",
    "    **False, the interest is greater for customers that own an old car.**\n",
    "\n",
    "8. The interest on purchase the vehicle insurance is greater for customers that have new cars and have damaged their vehicles.\n",
    "    **False, of the customers who damaged their car, the ones that own a old car show greater interest in buying the vehicle insurance (29%), followed by customers that own used cars (27%).**\n",
    "\n",
    "9. The interest on purchase the vehicle insurance is greater for elderly women.\n",
    "    **False, adult women show greater interest in buying the vehicle insurance.**\n",
    "\n",
    "10. The interest on purchase the vehicle insurance is lower for customers that are already insured.\n",
    "    **True, less than 1% of customers already insured show interest on purchase the vehicle insurance.**\n"
   ]
  },
  {
   "cell_type": "markdown",
   "metadata": {
    "heading_collapsed": true
   },
   "source": [
    "### 4.3 - Multivariate Analysis"
   ]
  },
  {
   "cell_type": "markdown",
   "metadata": {
    "hidden": true
   },
   "source": [
    "#### 4.3.1 - Numerical Attributes"
   ]
  },
  {
   "cell_type": "code",
   "execution_count": null,
   "metadata": {
    "ExecuteTime": {
     "end_time": "2023-01-29T10:19:20.576477Z",
     "start_time": "2023-01-29T10:19:20.121881Z"
    },
    "hidden": true
   },
   "outputs": [],
   "source": [
    "# Only numerical datas\n",
    "correlation = num_attributes.corr( method='pearson' )\n",
    "sns.heatmap( correlation, annot=True )"
   ]
  },
  {
   "cell_type": "markdown",
   "metadata": {
    "ExecuteTime": {
     "end_time": "2022-12-19T21:29:34.347274Z",
     "start_time": "2022-12-19T21:29:34.338986Z"
    },
    "heading_collapsed": true
   },
   "source": [
    "### 4.3.2 - Categorical Attributes"
   ]
  },
  {
   "cell_type": "code",
   "execution_count": null,
   "metadata": {
    "ExecuteTime": {
     "end_time": "2023-01-29T10:19:21.266261Z",
     "start_time": "2023-01-29T10:19:21.072829Z"
    },
    "hidden": true
   },
   "outputs": [],
   "source": [
    "# Only categorical data\n",
    "a = df2.select_dtypes( include='object')\n",
    "\n",
    "# Calculate cramer v\n",
    "a1 = cramer_v( a['gender'], a['gender'] )\n",
    "a2 = cramer_v( a['gender'], a['vehicle_age'] )\n",
    "\n",
    "a3 = cramer_v( a['vehicle_age'], a['vehicle_age'] )\n",
    "a4 = cramer_v( a['vehicle_age'], a['gender'] )\n",
    "\n",
    "# Final DataSet\n",
    "\n",
    "d = pd.DataFrame( {'gender': [a1, a2],\n",
    "                   'vehicle_age': [a3, a4]\n",
    "                  })\n",
    "\n",
    "d = d.set_index( d.columns )\n",
    "\n",
    "# Heatmap\n",
    "sns.heatmap( d, annot=True )"
   ]
  },
  {
   "cell_type": "markdown",
   "metadata": {},
   "source": [
    "## 5 - DATA PREPARATION"
   ]
  },
  {
   "cell_type": "code",
   "execution_count": 16,
   "metadata": {
    "ExecuteTime": {
     "end_time": "2023-02-02T23:22:51.845044Z",
     "start_time": "2023-02-02T23:22:51.822044Z"
    }
   },
   "outputs": [],
   "source": [
    "df5 = df4.copy()"
   ]
  },
  {
   "cell_type": "markdown",
   "metadata": {},
   "source": [
    "### 5.1 - Split Dataset"
   ]
  },
  {
   "cell_type": "code",
   "execution_count": 17,
   "metadata": {
    "ExecuteTime": {
     "end_time": "2023-02-02T23:22:53.163233Z",
     "start_time": "2023-02-02T23:22:52.968664Z"
    }
   },
   "outputs": [],
   "source": [
    "X = df5.drop( 'response', axis=1 )\n",
    "y = df5['response'].copy()\n",
    "\n",
    "x_training, x_valid, y_training, y_valid = ms.train_test_split( X, y, test_size=0.20 )\n",
    "\n",
    "df6 = pd.concat([ x_training, y_training ], axis=1 )"
   ]
  },
  {
   "cell_type": "code",
   "execution_count": null,
   "metadata": {
    "ExecuteTime": {
     "end_time": "2023-02-02T21:27:21.907213Z",
     "start_time": "2023-02-02T21:27:21.879214Z"
    }
   },
   "outputs": [],
   "source": [
    "x_valid.head()"
   ]
  },
  {
   "cell_type": "markdown",
   "metadata": {},
   "source": [
    "### 5.2 - Standardization"
   ]
  },
  {
   "cell_type": "code",
   "execution_count": 18,
   "metadata": {
    "ExecuteTime": {
     "end_time": "2023-02-02T23:22:56.742978Z",
     "start_time": "2023-02-02T23:22:56.455817Z"
    }
   },
   "outputs": [],
   "source": [
    "# Subtrai-se a media e divide-se pelo desvio padrao\n",
    "ss = pp.StandardScaler()\n",
    "sss = pp.StandardScaler()\n",
    "ssss = pp.StandardScaler()\n",
    "sq = pp.StandardScaler()\n",
    "sw = pp.StandardScaler()\n",
    "se = pp.StandardScaler()\n",
    "sr = pp.StandardScaler()\n",
    "st = pp.StandardScaler()\n",
    "\n",
    "# annual premium\n",
    "df6['annual_premium'] = ss.fit_transform( df6[['annual_premium']].values )\n",
    "#pickle.dump(ss, open('C:/Users/perot/Documents/ds_repos/projects/Health_Insurance_Cross_Sell/src/features/annual_premium_scaler.pkl', 'wb'))\n",
    "\n",
    "# annual_premium_per_age\n",
    "df6['annual_premium_per_age'] = sss.fit_transform( df6[['annual_premium_per_age']].values )\n",
    "#pickle.dump(sss, open('C:/Users/perot/Documents/ds_repos/projects/Health_Insurance_Cross_Sell/src/features/annual_premium_per_age_scaler.pkl', 'wb'))\n",
    "\n",
    "# annual_premium_per_day\n",
    "df6['annual_premium_per_day'] = ssss.fit_transform( df6[['annual_premium_per_day']].values )\n",
    "#pickle.dump(sss, open('C:/Users/perot/Documents/ds_repos/projects/Health_Insurance_Cross_Sell/src/features/annual_premium_per_day_scaler.pkl', 'wb'))\n",
    "\n",
    "# annual_premium_per_age\n",
    "df6['annual_premium_per_age'] = sq.fit_transform( df6[['annual_premium_per_age']].values )\n",
    "\n",
    "# median_premium_by_region \n",
    "df6['median_premium_by_region'] = sw.fit_transform( df6[['median_premium_by_region']].values )\n",
    "\n",
    "# avg_policy_sales_channel\n",
    "df6['avg_policy_sales_channel'] = se.fit_transform( df6[['avg_policy_sales_channel']].values )\n",
    "\n",
    "# avg_annual_premium_age_group\n",
    "df6['avg_annual_premium_age_group'] = sr.fit_transform( df6[['avg_annual_premium_age_group']].values )\n",
    "\n",
    "# avg_annual_premium_age\n",
    "df6['avg_annual_premium_age'] = st.fit_transform( df6[['avg_annual_premium_age']].values )"
   ]
  },
  {
   "cell_type": "markdown",
   "metadata": {
    "ExecuteTime": {
     "end_time": "2022-11-10T20:17:52.269173Z",
     "start_time": "2022-11-10T20:17:52.240166Z"
    }
   },
   "source": [
    "### 5.4 - Rescaling"
   ]
  },
  {
   "cell_type": "code",
   "execution_count": 19,
   "metadata": {
    "ExecuteTime": {
     "end_time": "2023-02-02T23:22:56.965214Z",
     "start_time": "2023-02-02T23:22:56.823322Z"
    }
   },
   "outputs": [],
   "source": [
    "mms_age = pp.MinMaxScaler()\n",
    "mms_vintage = pp.MinMaxScaler()\n",
    "mms_vintager = pp.MinMaxScaler()\n",
    "\n",
    "# Age\n",
    "df6['age'] = mms_age.fit_transform( df6[['age']].values )\n",
    "#pickle.dump(mms_age, open('C:/Users/perot/Documents/ds_repos/projects/Health_Insurance_Cross_Sell/src/features/age_scaler.pkl', 'wb'))\n",
    "\n",
    "# Vintage\n",
    "df6['vintage'] = mms_vintage.fit_transform( df6[['vintage']].values )\n",
    "#pickle.dump(mms_vintage, open('C:/Users/perot/Documents/ds_repos/projects/Health_Insurance_Cross_Sell/src/features/vintage_scaler.pkl', 'wb'))\n",
    "\n",
    "# avg_vintage_region_code\n",
    "df6['avg_vintage_region_code'] = mms_vintager.fit_transform( df6[['avg_vintage_region_code']].values )\n"
   ]
  },
  {
   "cell_type": "markdown",
   "metadata": {},
   "source": [
    "### 5.5 - Encoder"
   ]
  },
  {
   "cell_type": "code",
   "execution_count": 20,
   "metadata": {
    "ExecuteTime": {
     "end_time": "2023-02-02T23:22:57.399651Z",
     "start_time": "2023-02-02T23:22:57.228579Z"
    }
   },
   "outputs": [],
   "source": [
    "# gender\n",
    "target_encode_gender = df6.groupby( 'gender' )['response'].mean()\n",
    "df6.loc[:, 'gender'] = df6['gender'].map( target_encode_gender )\n",
    "#pickle.dump(target_encode_gender, open('C:/Users/perot/Documents/ds_repos/projects/Health_Insurance_Cross_Sell/src/features/target_encode_gender_scaler.pkl', 'wb'))\n",
    "\n",
    "# region_code - Frequency Encoding / Target Encoding / Weighted Targed Encoding\n",
    "fe_region_code = df6.groupby( 'region_code').size() / len( df6 )\n",
    "df6.loc[:, 'region_code'] = df6['region_code'].map( fe_region_code )\n",
    "#pickle.dump(fe_region_code, open('C:/Users/perot/Documents/ds_repos/projects/Health_Insurance_Cross_Sell/src/features/frequency_encode_region_code_scaler.pkl', 'wb'))\n",
    "\n",
    "# policy_sales_channel - Frequency Encoding / Target Encoding\n",
    "fe_policy_sales_channel = df6.groupby( 'policy_sales_channel' ).size() / len( df6 ) \n",
    "df6.loc[:, 'policy_sales_channel'] = df6['policy_sales_channel'].map( fe_policy_sales_channel )\n",
    "#pickle.dump(fe_policy_sales_channel, open('C:/Users/perot/Documents/ds_repos/projects/Health_Insurance_Cross_Sell/src/features/frequency_encode_policy_sales_scaler.pkl', 'wb'))\n",
    "\n",
    "# vintage_month\n",
    "target_encode_vintage_month = df6.groupby( 'vintage_month' )['response'].mean()\n",
    "df6.loc[:, 'vintage_month'] = df6['vintage_month'].map( target_encode_vintage_month )\n",
    "#pickle.dump(target_encode_vintage_month, open('C:/Users/perot/Documents/ds_repos/projects/Health_Insurance_Cross_Sell/src/features/target_encode_vintage_month_scaler.pkl', 'wb'))"
   ]
  },
  {
   "cell_type": "code",
   "execution_count": 21,
   "metadata": {
    "ExecuteTime": {
     "end_time": "2023-02-02T23:22:57.477361Z",
     "start_time": "2023-02-02T23:22:57.438362Z"
    }
   },
   "outputs": [
    {
     "data": {
      "text/html": [
       "<div>\n",
       "<style scoped>\n",
       "    .dataframe tbody tr th:only-of-type {\n",
       "        vertical-align: middle;\n",
       "    }\n",
       "\n",
       "    .dataframe tbody tr th {\n",
       "        vertical-align: top;\n",
       "    }\n",
       "\n",
       "    .dataframe thead th {\n",
       "        text-align: right;\n",
       "    }\n",
       "</style>\n",
       "<table border=\"1\" class=\"dataframe\">\n",
       "  <thead>\n",
       "    <tr style=\"text-align: right;\">\n",
       "      <th></th>\n",
       "      <th>id</th>\n",
       "      <th>gender</th>\n",
       "      <th>age</th>\n",
       "      <th>region_code</th>\n",
       "      <th>policy_sales_channel</th>\n",
       "      <th>driving_license</th>\n",
       "      <th>vehicle_age</th>\n",
       "      <th>vehicle_damage</th>\n",
       "      <th>previously_insured</th>\n",
       "      <th>annual_premium</th>\n",
       "      <th>vintage</th>\n",
       "      <th>age_group</th>\n",
       "      <th>vintage_month</th>\n",
       "      <th>annual_premium_per_day</th>\n",
       "      <th>annual_premium_per_age</th>\n",
       "      <th>median_premium_by_region</th>\n",
       "      <th>avg_policy_sales_channel</th>\n",
       "      <th>avg_vintage_region_code</th>\n",
       "      <th>avg_annual_premium_age_group</th>\n",
       "      <th>avg_annual_premium_age</th>\n",
       "      <th>response</th>\n",
       "    </tr>\n",
       "  </thead>\n",
       "  <tbody>\n",
       "    <tr>\n",
       "      <th>220030</th>\n",
       "      <td>233655</td>\n",
       "      <td>0.138478</td>\n",
       "      <td>0.138462</td>\n",
       "      <td>0.011539</td>\n",
       "      <td>0.353705</td>\n",
       "      <td>1</td>\n",
       "      <td>1</td>\n",
       "      <td>0</td>\n",
       "      <td>1</td>\n",
       "      <td>0.463901</td>\n",
       "      <td>0.235294</td>\n",
       "      <td>2</td>\n",
       "      <td>0.118692</td>\n",
       "      <td>0.236538</td>\n",
       "      <td>0.704254</td>\n",
       "      <td>-0.680871</td>\n",
       "      <td>-0.012377</td>\n",
       "      <td>0.636364</td>\n",
       "      <td>-2.045803</td>\n",
       "      <td>-1.254288</td>\n",
       "      <td>0</td>\n",
       "    </tr>\n",
       "    <tr>\n",
       "      <th>224830</th>\n",
       "      <td>271900</td>\n",
       "      <td>0.138478</td>\n",
       "      <td>0.015385</td>\n",
       "      <td>0.005333</td>\n",
       "      <td>0.057133</td>\n",
       "      <td>1</td>\n",
       "      <td>1</td>\n",
       "      <td>1</td>\n",
       "      <td>0</td>\n",
       "      <td>-0.213713</td>\n",
       "      <td>0.190311</td>\n",
       "      <td>5</td>\n",
       "      <td>0.121403</td>\n",
       "      <td>0.089410</td>\n",
       "      <td>0.620642</td>\n",
       "      <td>-0.849517</td>\n",
       "      <td>-0.335969</td>\n",
       "      <td>0.818182</td>\n",
       "      <td>0.471237</td>\n",
       "      <td>-0.548575</td>\n",
       "      <td>0</td>\n",
       "    </tr>\n",
       "    <tr>\n",
       "      <th>255478</th>\n",
       "      <td>135896</td>\n",
       "      <td>0.138478</td>\n",
       "      <td>0.830769</td>\n",
       "      <td>0.051777</td>\n",
       "      <td>0.208671</td>\n",
       "      <td>1</td>\n",
       "      <td>2</td>\n",
       "      <td>0</td>\n",
       "      <td>1</td>\n",
       "      <td>-1.618150</td>\n",
       "      <td>0.017301</td>\n",
       "      <td>5</td>\n",
       "      <td>0.129901</td>\n",
       "      <td>-0.342926</td>\n",
       "      <td>-1.445265</td>\n",
       "      <td>-0.534182</td>\n",
       "      <td>0.531218</td>\n",
       "      <td>0.363636</td>\n",
       "      <td>0.471237</td>\n",
       "      <td>1.720418</td>\n",
       "      <td>0</td>\n",
       "    </tr>\n",
       "    <tr>\n",
       "      <th>125194</th>\n",
       "      <td>237124</td>\n",
       "      <td>0.103959</td>\n",
       "      <td>0.200000</td>\n",
       "      <td>0.279556</td>\n",
       "      <td>0.353705</td>\n",
       "      <td>1</td>\n",
       "      <td>1</td>\n",
       "      <td>0</td>\n",
       "      <td>1</td>\n",
       "      <td>0.929114</td>\n",
       "      <td>0.529412</td>\n",
       "      <td>5</td>\n",
       "      <td>0.122290</td>\n",
       "      <td>-0.142053</td>\n",
       "      <td>0.840659</td>\n",
       "      <td>0.977636</td>\n",
       "      <td>-0.012377</td>\n",
       "      <td>0.545455</td>\n",
       "      <td>0.471237</td>\n",
       "      <td>-1.336667</td>\n",
       "      <td>0</td>\n",
       "    </tr>\n",
       "    <tr>\n",
       "      <th>63427</th>\n",
       "      <td>125180</td>\n",
       "      <td>0.103959</td>\n",
       "      <td>0.076923</td>\n",
       "      <td>0.026921</td>\n",
       "      <td>0.353705</td>\n",
       "      <td>1</td>\n",
       "      <td>1</td>\n",
       "      <td>0</td>\n",
       "      <td>1</td>\n",
       "      <td>0.904047</td>\n",
       "      <td>0.273356</td>\n",
       "      <td>2</td>\n",
       "      <td>0.118692</td>\n",
       "      <td>0.280561</td>\n",
       "      <td>1.562286</td>\n",
       "      <td>0.162647</td>\n",
       "      <td>-0.012377</td>\n",
       "      <td>0.181818</td>\n",
       "      <td>-2.045803</td>\n",
       "      <td>-0.616949</td>\n",
       "      <td>0</td>\n",
       "    </tr>\n",
       "  </tbody>\n",
       "</table>\n",
       "</div>"
      ],
      "text/plain": [
       "            id    gender       age  region_code  policy_sales_channel  driving_license  vehicle_age  vehicle_damage  previously_insured  annual_premium   vintage  age_group  vintage_month  annual_premium_per_day  annual_premium_per_age  median_premium_by_region  avg_policy_sales_channel  avg_vintage_region_code  avg_annual_premium_age_group  avg_annual_premium_age  response\n",
       "220030  233655  0.138478  0.138462     0.011539              0.353705                1            1               0                   1        0.463901  0.235294          2       0.118692                0.236538                0.704254                 -0.680871                 -0.012377                 0.636364                     -2.045803               -1.254288         0\n",
       "224830  271900  0.138478  0.015385     0.005333              0.057133                1            1               1                   0       -0.213713  0.190311          5       0.121403                0.089410                0.620642                 -0.849517                 -0.335969                 0.818182                      0.471237               -0.548575         0\n",
       "255478  135896  0.138478  0.830769     0.051777              0.208671                1            2               0                   1       -1.618150  0.017301          5       0.129901               -0.342926               -1.445265                 -0.534182                  0.531218                 0.363636                      0.471237                1.720418         0\n",
       "125194  237124  0.103959  0.200000     0.279556              0.353705                1            1               0                   1        0.929114  0.529412          5       0.122290               -0.142053                0.840659                  0.977636                 -0.012377                 0.545455                      0.471237               -1.336667         0\n",
       "63427   125180  0.103959  0.076923     0.026921              0.353705                1            1               0                   1        0.904047  0.273356          2       0.118692                0.280561                1.562286                  0.162647                 -0.012377                 0.181818                     -2.045803               -0.616949         0"
      ]
     },
     "execution_count": 21,
     "metadata": {},
     "output_type": "execute_result"
    }
   ],
   "source": [
    "df6.head()"
   ]
  },
  {
   "cell_type": "markdown",
   "metadata": {},
   "source": [
    "### 5.5 - Validation Preparation"
   ]
  },
  {
   "cell_type": "code",
   "execution_count": 22,
   "metadata": {
    "ExecuteTime": {
     "end_time": "2023-02-02T23:23:01.359488Z",
     "start_time": "2023-02-02T23:23:01.046979Z"
    },
    "code_folding": []
   },
   "outputs": [],
   "source": [
    "# STANDARDIZATION\n",
    "\n",
    "# annual premium\n",
    "x_valid.loc[:, 'annual_premium'] = ss.transform( x_valid[['annual_premium']].values )\n",
    "\n",
    "# annual_premium_per_age\n",
    "x_valid.loc[:, 'annual_premium_per_age'] = sss.transform( x_valid[['annual_premium_per_age']].values )\n",
    "\n",
    "# annual_premium_per_day\n",
    "x_valid.loc[:, 'annual_premium_per_day'] = ssss.transform( x_valid[['annual_premium_per_day']].values )\n",
    "\n",
    "# annual_premium_per_age\n",
    "x_valid.loc[:,'annual_premium_per_age'] = sq.fit_transform( x_valid[['annual_premium_per_age']].values )\n",
    "\n",
    "# median_premium_by_region \n",
    "x_valid.loc[:,'median_premium_by_region'] = sw.fit_transform( x_valid[['median_premium_by_region']].values )\n",
    "\n",
    "# avg_policy_sales_channel\n",
    "x_valid.loc[:,'avg_policy_sales_channel'] = se.fit_transform( x_valid[['avg_policy_sales_channel']].values )\n",
    "\n",
    "# avg_annual_premium_age_group\n",
    "x_valid.loc[:,'avg_annual_premium_age_group'] = sr.fit_transform( x_valid[['avg_annual_premium_age_group']].values )\n",
    "\n",
    "# avg_annual_premium_age\n",
    "x_valid.loc[:,'avg_annual_premium_age'] = st.fit_transform( x_valid[['avg_annual_premium_age']].values )\n",
    "\n",
    "\n",
    "# REESCALING\n",
    "\n",
    "# age\n",
    "x_valid.loc[:, 'age'] = mms_age.transform( x_valid[['age']].values )\n",
    "\n",
    "# vintage\n",
    "x_valid.loc[:, 'vintage'] = mms_vintage.transform( x_valid[['vintage']].values )\n",
    "\n",
    "\n",
    "\n",
    "# ENCODER\n",
    "\n",
    "# policy sales channel\n",
    "x_valid.loc[:, 'policy_sales_channel'] = x_valid['policy_sales_channel'].map( fe_policy_sales_channel )\n",
    "\n",
    "# region code\n",
    "x_valid.loc[:, 'region_code'] = x_valid.loc[:, 'region_code'].map( fe_region_code )\n",
    "\n",
    "# gender\n",
    "x_valid.loc[:, 'gender'] = x_valid.loc[:, 'gender'].map( target_encode_gender )\n",
    "\n",
    "# vintage_month\n",
    "x_valid.loc[:, 'vintage_month'] = x_valid['vintage_month'].map( target_encode_vintage_month )\n",
    "\n",
    "# FILL NAN VALUES\n",
    "x_valid = x_valid.fillna(0)"
   ]
  },
  {
   "cell_type": "markdown",
   "metadata": {},
   "source": [
    "## 6 - FEATURE SELECTION"
   ]
  },
  {
   "cell_type": "markdown",
   "metadata": {
    "heading_collapsed": true
   },
   "source": [
    "### 6.1 - Feature Importance"
   ]
  },
  {
   "cell_type": "code",
   "execution_count": null,
   "metadata": {
    "ExecuteTime": {
     "end_time": "2023-02-02T21:27:54.105644Z",
     "start_time": "2023-02-02T21:27:46.180646Z"
    },
    "hidden": true
   },
   "outputs": [],
   "source": [
    "# model definition\n",
    "forest = en.ExtraTreesClassifier( n_estimators =250, random_state=0, n_jobs=-1 )\n",
    "\n",
    "# data preparation\n",
    "x_train_n = df6.drop( ['id', 'response'], axis=1 )\n",
    "y_train_n  = y_training.values\n",
    "forest.fit( x_train_n, y_train_n )"
   ]
  },
  {
   "cell_type": "code",
   "execution_count": null,
   "metadata": {
    "ExecuteTime": {
     "end_time": "2023-02-02T21:27:58.525629Z",
     "start_time": "2023-02-02T21:27:57.826093Z"
    },
    "hidden": true
   },
   "outputs": [],
   "source": [
    "importances = forest.feature_importances_\n",
    "std = np.std([tree.feature_importances_ for tree in forest.estimators_], axis=0 )\n",
    "indices = np.argsort(importances)[::-1]\n",
    "\n",
    "# Print the feature ranking \n",
    "print(\"Feature ranking:\")\n",
    "df = pd.DataFrame()\n",
    "for i,j in zip( x_train_n, forest.feature_importances_ ):\n",
    "    aux = pd.DataFrame( {'feature': i, 'importance': j}, index=[0] )\n",
    "    df = pd.concat( [df,aux], axis = 0 )\n",
    "    \n",
    "print( df.sort_values( 'importance', ascending=False ) )\n",
    "\n",
    "# Plot the impurity-based feature importances of the forest\n",
    "plt.figure()\n",
    "plt.title(\"Feature importances\")\n",
    "plt.bar(range(x_train_n.shape[1]), importances[indices], color=\"r\", yerr=std[indices], align=\"center\")\n",
    "plt.xticks(range(x_train_n.shape[1]), indices)\n",
    "plt.xlim([-1, x_train_n.shape[1]])\n",
    "plt.show()"
   ]
  },
  {
   "cell_type": "markdown",
   "metadata": {},
   "source": [
    "## 7 - MACHINE LEARNING"
   ]
  },
  {
   "cell_type": "code",
   "execution_count": null,
   "metadata": {},
   "outputs": [],
   "source": [
    "0        annual_premium_per_day    0.131658\n",
    "0                       vintage    0.128816\n",
    "0        annual_premium_per_age    0.117781\n",
    "0                annual_premium    0.108088\n",
    "0                vehicle_damage    0.070980\n",
    "0                           age    0.062915\n",
    "0                 vintage_month    0.058239\n",
    "0        avg_annual_premium_age    0.056748\n",
    "0            previously_insured    0.054594\n",
    "0                   region_code    0.037926\n",
    "0          policy_sales_channel    0.037624\n",
    "0      median_premium_by_region    0.035072\n",
    "0       avg_vintage_region_code    0.028894\n",
    "0      avg_policy_sales_channel    0.028777\n",
    "0                   vehicle_age    0.020533\n",
    "0                        gender    0.014704"
   ]
  },
  {
   "cell_type": "code",
   "execution_count": 23,
   "metadata": {
    "ExecuteTime": {
     "end_time": "2023-02-02T23:23:07.167840Z",
     "start_time": "2023-02-02T23:23:07.119566Z"
    }
   },
   "outputs": [],
   "source": [
    "cols_selected = ['annual_premium_per_day','vintage','annual_premium_per_age', 'annual_premium', 'age', 'region_code','vehicle_damage', 'policy_sales_channel', 'previously_insured', 'vintage_month', 'vehicle_age', 'gender']\n",
    "\n",
    "x_training = df6[ cols_selected ]\n",
    "x_validation = x_valid[ cols_selected ]\n",
    "y_validation = y_valid"
   ]
  },
  {
   "cell_type": "markdown",
   "metadata": {
    "heading_collapsed": true
   },
   "source": [
    "### 7.1 - XGB"
   ]
  },
  {
   "cell_type": "code",
   "execution_count": null,
   "metadata": {
    "ExecuteTime": {
     "end_time": "2023-02-02T21:28:25.938371Z",
     "start_time": "2023-02-02T21:28:16.915060Z"
    },
    "hidden": true
   },
   "outputs": [],
   "source": [
    "# model definition\n",
    "xgb_model = XGBClassifier()\n",
    "\n",
    "# model training\n",
    "xgb_model.fit( x_training, y_training )\n",
    "\n",
    "# model prediction - The generalization POWER\n",
    "yhat_xgb = xgb_model.predict_proba( x_validation )"
   ]
  },
  {
   "cell_type": "code",
   "execution_count": null,
   "metadata": {
    "ExecuteTime": {
     "end_time": "2023-02-02T21:28:26.837439Z",
     "start_time": "2023-02-02T21:28:25.940375Z"
    },
    "hidden": true
   },
   "outputs": [],
   "source": [
    "fig, axs = plt.subplots(ncols= 3, figsize = (18,5))\n",
    "\n",
    "# cumulative gain - Metric for sorting problem\n",
    "skplt.metrics.plot_cumulative_gain(y_validation, yhat_xgb, ax=axs[0],title='Cumulative Gain - XGB');\n",
    "\n",
    "# Lift Curve\n",
    "skplt.metrics.plot_lift_curve(y_validation, yhat_xgb,ax=axs[1],title='Lift Curve - XGB');\n",
    "\n",
    "# Roc Curve\n",
    "skplt.metrics.plot_roc(y_validation, yhat_xgb, ax=axs[2], title='ROC-Curve - XGB');\n",
    "\n",
    "plt.tight_layout()"
   ]
  },
  {
   "cell_type": "markdown",
   "metadata": {
    "heading_collapsed": true
   },
   "source": [
    "### 7.2 - KNN"
   ]
  },
  {
   "cell_type": "code",
   "execution_count": null,
   "metadata": {
    "ExecuteTime": {
     "end_time": "2023-02-02T21:28:44.082446Z",
     "start_time": "2023-02-02T21:28:26.840474Z"
    },
    "cell_style": "center",
    "hidden": true
   },
   "outputs": [],
   "source": [
    "# model definition\n",
    "knn_model = nh.KNeighborsClassifier( n_neighbors=8 )\n",
    "\n",
    "# model training\n",
    "knn_model.fit( x_training, y_training )\n",
    "\n",
    "# model prediction - The generalization POWER\n",
    "yhat_knn = knn_model.predict_proba( x_validation )"
   ]
  },
  {
   "cell_type": "code",
   "execution_count": null,
   "metadata": {
    "ExecuteTime": {
     "end_time": "2023-02-02T21:28:44.918451Z",
     "start_time": "2023-02-02T21:28:44.086172Z"
    },
    "hidden": true
   },
   "outputs": [],
   "source": [
    "fig, axs = plt.subplots(ncols= 3, figsize = (18,5))\n",
    "\n",
    "# cumulative gain - Metric for sorting problem\n",
    "skplt.metrics.plot_cumulative_gain( y_validation, yhat_knn, ax=axs[0], title='Cumulative Gain - KNN' );\n",
    "\n",
    "# Lift Curve\n",
    "skplt.metrics.plot_lift_curve(y_validation, yhat_knn, ax=axs[1], title='Lift Curve - KNN');\n",
    "\n",
    "# Roc Curve\n",
    "skplt.metrics.plot_roc(y_validation, yhat_knn, ax=axs[2], title='ROC-Curve - KNN');\n",
    "\n",
    "plt.tight_layout()"
   ]
  },
  {
   "cell_type": "markdown",
   "metadata": {
    "ExecuteTime": {
     "end_time": "2022-11-11T22:45:54.200731Z",
     "start_time": "2022-11-11T22:45:54.185634Z"
    },
    "heading_collapsed": true
   },
   "source": [
    "### 7.3 - Logistic Regression"
   ]
  },
  {
   "cell_type": "code",
   "execution_count": null,
   "metadata": {
    "ExecuteTime": {
     "end_time": "2023-02-02T21:28:47.647390Z",
     "start_time": "2023-02-02T21:28:44.920439Z"
    },
    "cell_style": "center",
    "hidden": true
   },
   "outputs": [],
   "source": [
    "# model definition\n",
    "lr_model = lm.LogisticRegression(random_state=42)\n",
    "\n",
    "# model training\n",
    "lr_model.fit( x_training, y_training )\n",
    "\n",
    "# model prediction - The Generalization POWER\n",
    "yhat_lr_model = lr_model.predict_proba( x_validation )"
   ]
  },
  {
   "cell_type": "code",
   "execution_count": null,
   "metadata": {
    "ExecuteTime": {
     "end_time": "2023-02-02T21:28:48.621137Z",
     "start_time": "2023-02-02T21:28:47.651317Z"
    },
    "hidden": true
   },
   "outputs": [],
   "source": [
    "fig, axs = plt.subplots(ncols= 3, figsize = (18,5))\n",
    "\n",
    "# cumulative gain - Metric for sorting problem\n",
    "skplt.metrics.plot_cumulative_gain(y_validation, yhat_lr_model, ax=axs[0],title='Cumulative Gain - Logistic Regression');\n",
    "\n",
    "# Lift Curve\n",
    "skplt.metrics.plot_lift_curve(y_validation, yhat_lr_model, ax=axs[1],title='Lift Curve - Logistic Regression');\n",
    "\n",
    "# Roc Curve\n",
    "skplt.metrics.plot_roc(y_validation, yhat_lr_model, ax=axs[2], title='ROC-Curve - Logistic Regression');\n",
    "\n",
    "plt.tight_layout()"
   ]
  },
  {
   "cell_type": "markdown",
   "metadata": {
    "heading_collapsed": true
   },
   "source": [
    "### 7.4 - Extra Trees"
   ]
  },
  {
   "cell_type": "code",
   "execution_count": null,
   "metadata": {
    "ExecuteTime": {
     "end_time": "2023-02-02T21:28:53.816353Z",
     "start_time": "2023-02-02T21:28:48.623037Z"
    },
    "cell_style": "center",
    "hidden": true,
    "hide_input": false
   },
   "outputs": [],
   "source": [
    "# model definition\n",
    "et_model = en.ExtraTreesClassifier( n_estimators=200, n_jobs=-1, random_state=42 )\n",
    "\n",
    "# model training\n",
    "et_model.fit( x_training, y_training )\n",
    "\n",
    "# model prediction - The Generalization POWER\n",
    "yhat_et_model = et_model.predict_proba( x_validation )"
   ]
  },
  {
   "cell_type": "code",
   "execution_count": null,
   "metadata": {
    "ExecuteTime": {
     "end_time": "2023-02-02T21:28:54.696570Z",
     "start_time": "2023-02-02T21:28:53.818354Z"
    },
    "hidden": true
   },
   "outputs": [],
   "source": [
    "fig, axs = plt.subplots(ncols= 3, figsize = (18,5))\n",
    "\n",
    "# cumulative gain - Metric for sorting problem\n",
    "skplt.metrics.plot_cumulative_gain(y_validation, yhat_et_model, ax=axs[0],title='Cumulative Gain - Extra Trees');\n",
    "\n",
    "# Lift Curve\n",
    "skplt.metrics.plot_lift_curve(y_validation, yhat_et_model, ax=axs[1],title='Lift Curve - Extra Trees');\n",
    "\n",
    "# Roc Curve\n",
    "skplt.metrics.plot_roc(y_validation, yhat_et_model, ax=axs[2], title='ROC-Curve - Extra Trees');\n",
    "\n",
    "plt.tight_layout()"
   ]
  },
  {
   "cell_type": "markdown",
   "metadata": {
    "heading_collapsed": true
   },
   "source": [
    "### 7.5 - Randon Forest"
   ]
  },
  {
   "cell_type": "code",
   "execution_count": null,
   "metadata": {
    "ExecuteTime": {
     "end_time": "2023-02-02T21:30:20.437831Z",
     "start_time": "2023-02-02T21:28:54.698571Z"
    },
    "hidden": true
   },
   "outputs": [],
   "source": [
    "# model definition\n",
    "rf_model = en.RandomForestClassifier( n_estimators=2000, n_jobs=-1, random_state=42 )\n",
    "\n",
    "# model training\n",
    "rf_model.fit( x_training, y_training )\n",
    "\n",
    "# model prediction - The Generalization POWER\n",
    "yhat_rf_model = rf_model.predict_proba( x_validation )"
   ]
  },
  {
   "cell_type": "code",
   "execution_count": null,
   "metadata": {
    "ExecuteTime": {
     "end_time": "2023-02-02T21:30:21.240004Z",
     "start_time": "2023-02-02T21:30:20.439815Z"
    },
    "hidden": true
   },
   "outputs": [],
   "source": [
    "fig, axs = plt.subplots(ncols= 3, figsize = (18,5))\n",
    "\n",
    "# cumulative gain - Metric for sorting problem\n",
    "skplt.metrics.plot_cumulative_gain(y_validation, yhat_rf_model, ax=axs[0],title='Cumulative Gain - Randon Forest');\n",
    "\n",
    "# Lift Curve\n",
    "skplt.metrics.plot_lift_curve(y_validation, yhat_rf_model,ax=axs[1],title='Lift Curve - Randon Forest');\n",
    "\n",
    "# Roc Curve\n",
    "skplt.metrics.plot_roc(y_validation, yhat_rf_model, ax=axs[2], title='ROC-Curve - Randon Forest');\n",
    "\n",
    "plt.tight_layout()"
   ]
  },
  {
   "cell_type": "markdown",
   "metadata": {
    "heading_collapsed": true
   },
   "source": [
    "### 7.6 - Catboost Classifier"
   ]
  },
  {
   "cell_type": "code",
   "execution_count": null,
   "metadata": {
    "ExecuteTime": {
     "end_time": "2023-02-02T21:31:20.960495Z",
     "start_time": "2023-02-02T21:30:21.241001Z"
    },
    "hidden": true
   },
   "outputs": [],
   "source": [
    "# model definition\n",
    "cb_model = CatBoostClassifier(\n",
    "    iterations = 1000, # 1000 are ideal\n",
    "    loss_function='MultiClass',\n",
    "    bootstrap_type = \"Bayesian\",\n",
    "    eval_metric = 'MultiClass',\n",
    "    leaf_estimation_iterations = 100,\n",
    "    random_strength = 0.5,\n",
    "    depth = 7,\n",
    "    l2_leaf_reg = 5,\n",
    "    learning_rate=0.03,\n",
    "    bagging_temperature = 0.5,\n",
    "    task_type = \"GPU\",\n",
    ")\n",
    "\n",
    "# model training\n",
    "cb_model.fit(x_training, y_training)\n",
    "\n",
    "# model prediction\n",
    "yhat_cb_model = cb_model.predict_proba( x_validation )"
   ]
  },
  {
   "cell_type": "code",
   "execution_count": null,
   "metadata": {
    "ExecuteTime": {
     "end_time": "2023-02-02T21:31:21.699181Z",
     "start_time": "2023-02-02T21:31:20.963492Z"
    },
    "hidden": true
   },
   "outputs": [],
   "source": [
    "fig, axs = plt.subplots(ncols= 3, figsize = (18,5))\n",
    "\n",
    "# cumulative gain - Metric for sorting problem\n",
    "skplt.metrics.plot_cumulative_gain(y_validation, yhat_cb_model, ax=axs[0],title='Cumulative Gain - CatBoost');\n",
    "\n",
    "# Lift Curve\n",
    "skplt.metrics.plot_lift_curve(y_validation, yhat_cb_model,ax=axs[1],title='Lift Curve - CatBoost');\n",
    "\n",
    "# Roc Curve\n",
    "skplt.metrics.plot_roc(y_validation, yhat_cb_model, ax=axs[2], title='ROC-Curve - CatBoost');\n",
    "\n",
    "plt.tight_layout()"
   ]
  },
  {
   "cell_type": "markdown",
   "metadata": {},
   "source": [
    "### 7.7 - Light gradient Boostin Machine Classifier Model"
   ]
  },
  {
   "cell_type": "code",
   "execution_count": 24,
   "metadata": {
    "ExecuteTime": {
     "end_time": "2023-02-02T23:23:22.390880Z",
     "start_time": "2023-02-02T23:23:20.050974Z"
    }
   },
   "outputs": [],
   "source": [
    "# Model Definition\n",
    "lgbm_model = lgbm.LGBMClassifier( learning_rate=0.09,max_depth=-5,random_state=42 )\n",
    "\n",
    "# Model training\n",
    "model_lgbm = lgbm_model.fit( x_training, y_training )\n",
    "\n",
    "# Model Prediction\n",
    "yhat_lgbm = model_lgbm.predict_proba( x_validation )"
   ]
  },
  {
   "cell_type": "code",
   "execution_count": 25,
   "metadata": {
    "ExecuteTime": {
     "end_time": "2023-02-02T23:23:24.162449Z",
     "start_time": "2023-02-02T23:23:22.392878Z"
    }
   },
   "outputs": [
    {
     "data": {
      "image/png": "[encoded data removed]",
      "text/plain": [
       "<Figure size 1800x500 with 3 Axes>"
      ]
     },
     "metadata": {},
     "output_type": "display_data"
    }
   ],
   "source": [
    "fig, axs = plt.subplots(ncols= 3, figsize = (18,5))\n",
    "\n",
    "# cumulative gain - Metric for sorting problem\n",
    "skplt.metrics.plot_cumulative_gain(y_validation, yhat_lgbm, ax=axs[0],title='Cumulative Gain - LGBM');\n",
    "\n",
    "# Lift Curve\n",
    "skplt.metrics.plot_lift_curve(y_validation, yhat_lgbm,ax=axs[1],title='Lift Curve - LGBM');\n",
    "\n",
    "# Roc Curve\n",
    "skplt.metrics.plot_roc(y_validation, yhat_lgbm, ax=axs[2], title='ROC-Curve - LGBM');\n",
    "\n",
    "plt.tight_layout()"
   ]
  },
  {
   "cell_type": "markdown",
   "metadata": {
    "heading_collapsed": true
   },
   "source": [
    "## 8 - MODEL PERFORMANCE"
   ]
  },
  {
   "cell_type": "markdown",
   "metadata": {
    "hidden": true
   },
   "source": [
    "### 8.1 - KNN Model Performance"
   ]
  },
  {
   "cell_type": "code",
   "execution_count": null,
   "metadata": {
    "ExecuteTime": {
     "end_time": "2023-02-02T21:31:23.173301Z",
     "start_time": "2023-02-02T21:31:23.112021Z"
    },
    "hidden": true
   },
   "outputs": [],
   "source": [
    "# Copy Data\n",
    "df8_unbalanced = x_valid.copy()\n",
    "df8_unbalanced['response'] = y_valid.copy()\n",
    "\n",
    "# Propensity score\n",
    "df8_unbalanced['score'] = yhat_knn[:,1].tolist()\n",
    "\n",
    "# sorted clients by score\n",
    "df8_unbalanced = df8_unbalanced.sort_values( 'score', ascending=False )\n",
    "\n",
    "# Compute precision at K\n",
    "precision_atK = precision_at_k(df8_unbalanced, k=20000 )\n",
    "\n",
    "# Compute precision at K\n",
    "recall_atK = recall_at_k(df8_unbalanced, k=20000 )\n",
    "\n",
    "KNN_performance = ml_performance('KNN_Model', precision_atK, recall_atK )\n",
    "KNN_performance"
   ]
  },
  {
   "cell_type": "markdown",
   "metadata": {
    "heading_collapsed": true,
    "hidden": true
   },
   "source": [
    "### 8.2 - Logistic Regression Model Performance"
   ]
  },
  {
   "cell_type": "code",
   "execution_count": null,
   "metadata": {
    "ExecuteTime": {
     "end_time": "2023-02-02T21:31:23.267326Z",
     "start_time": "2023-02-02T21:31:23.175197Z"
    },
    "hidden": true
   },
   "outputs": [],
   "source": [
    "# Copy Data\n",
    "df8_unbalanced = x_valid.copy()\n",
    "df8_unbalanced['response'] = y_valid.copy()\n",
    "\n",
    "# Propensity score\n",
    "df8_unbalanced['score'] = yhat_lr_model[:,1].tolist()\n",
    "\n",
    "# sorted clients by score\n",
    "df8_unbalanced = df8_unbalanced.sort_values( 'score', ascending=False )\n",
    "\n",
    "# Compute precision at K\n",
    "precision_atK = precision_at_k(df8_unbalanced, k=20000 )\n",
    "\n",
    "\n",
    "# Compute precision at K\n",
    "recall_atK = recall_at_k(df8_unbalanced, k=20000 )\n",
    "\n",
    "lr_performance = ml_performance('LR Model', precision_atK, recall_atK )\n",
    "lr_performance"
   ]
  },
  {
   "cell_type": "markdown",
   "metadata": {
    "heading_collapsed": true,
    "hidden": true
   },
   "source": [
    "### 8.3 - Extra Trees Model Performance"
   ]
  },
  {
   "cell_type": "code",
   "execution_count": null,
   "metadata": {
    "ExecuteTime": {
     "end_time": "2023-02-02T21:31:23.359309Z",
     "start_time": "2023-02-02T21:31:23.271201Z"
    },
    "hidden": true
   },
   "outputs": [],
   "source": [
    "# Copy Data\n",
    "df8_unbalanced = x_valid.copy()\n",
    "df8_unbalanced['response'] = y_valid.copy()\n",
    "\n",
    "# Propensity score\n",
    "df8_unbalanced['score'] = yhat_et_model[:,1].tolist()\n",
    "\n",
    "# sorted clients by score\n",
    "df8_unbalanced = df8_unbalanced.sort_values( 'score', ascending=False )\n",
    "\n",
    "# Compute precision at K\n",
    "precision_atK = precision_at_k(df8_unbalanced, k=20000 )\n",
    "\n",
    "# Compute precision at K\n",
    "recall_atK = recall_at_k(df8_unbalanced, k=20000 )\n",
    "\n",
    "et_performance = ml_performance('ET Model', precision_atK, recall_atK )\n",
    "et_performance"
   ]
  },
  {
   "cell_type": "markdown",
   "metadata": {
    "heading_collapsed": true,
    "hidden": true
   },
   "source": [
    "### 8.4 - Random Forest Model Performance"
   ]
  },
  {
   "cell_type": "code",
   "execution_count": null,
   "metadata": {
    "ExecuteTime": {
     "end_time": "2023-02-02T21:31:23.454779Z",
     "start_time": "2023-02-02T21:31:23.363201Z"
    },
    "hidden": true
   },
   "outputs": [],
   "source": [
    "# Copy Data\n",
    "df8_unbalanced = x_valid.copy()\n",
    "df8_unbalanced['response'] = y_valid.copy()\n",
    "\n",
    "# Propensity score\n",
    "df8_unbalanced['score'] = yhat_rf_model[:,1].tolist()\n",
    "\n",
    "# sorted clients by score\n",
    "df8_unbalanced = df8_unbalanced.sort_values( 'score', ascending=False )\n",
    "\n",
    "# Compute precision at K\n",
    "precision_atK = precision_at_k(df8_unbalanced, k=20000 )\n",
    "\n",
    "# Compute precision at K\n",
    "recall_atK = recall_at_k(df8_unbalanced, k=20000 )\n",
    "\n",
    "rf_performance = ml_performance('RF Model', precision_atK, recall_atK )\n",
    "rf_performance"
   ]
  },
  {
   "cell_type": "markdown",
   "metadata": {
    "heading_collapsed": true,
    "hidden": true
   },
   "source": [
    "### 8.5 -  XGB Model Performance"
   ]
  },
  {
   "cell_type": "code",
   "execution_count": null,
   "metadata": {
    "ExecuteTime": {
     "end_time": "2023-02-02T21:31:23.532925Z",
     "start_time": "2023-02-02T21:31:23.457779Z"
    },
    "hidden": true
   },
   "outputs": [],
   "source": [
    "# Copy Data\n",
    "df8_unbalanced = x_valid.copy()\n",
    "df8_unbalanced['response'] = y_valid.copy()\n",
    "\n",
    "# Propensity score\n",
    "df8_unbalanced['score'] = yhat_xgb[:,1].tolist()\n",
    "\n",
    "# sorted clients by score\n",
    "df8_unbalanced = df8_unbalanced.sort_values( 'score', ascending=False )\n",
    "\n",
    "# Compute precision at K\n",
    "precision_atK = precision_at_k(df8_unbalanced, k=20000 )\n",
    "\n",
    "# Compute precision at K\n",
    "recall_atK = recall_at_k(df8_unbalanced, k=20000 )\n",
    "\n",
    "xgb_performance = ml_performance('XGB Model', precision_atK, recall_atK )\n",
    "xgb_performance"
   ]
  },
  {
   "cell_type": "markdown",
   "metadata": {
    "heading_collapsed": true,
    "hidden": true
   },
   "source": [
    "### 8.6 - CatBoost Model Performance"
   ]
  },
  {
   "cell_type": "code",
   "execution_count": null,
   "metadata": {
    "ExecuteTime": {
     "end_time": "2023-02-02T21:31:23.612585Z",
     "start_time": "2023-02-02T21:31:23.534835Z"
    },
    "hidden": true
   },
   "outputs": [],
   "source": [
    "# Copy Data\n",
    "df8_unbalanced = x_valid.copy()\n",
    "df8_unbalanced['response'] = y_valid.copy()\n",
    "\n",
    "# Propensity score\n",
    "df8_unbalanced['score'] = yhat_cb_model[:,1].tolist()\n",
    "\n",
    "# sorted clients by score\n",
    "df8_unbalanced = df8_unbalanced.sort_values( 'score', ascending=False )\n",
    "\n",
    "# Compute precision at K\n",
    "precision_atK = precision_at_k(df8_unbalanced, k=20000 )\n",
    "\n",
    "# Compute precision at K\n",
    "recall_atK = recall_at_k(df8_unbalanced, k=20000 )\n",
    "\n",
    "cb_performance = ml_performance('CB Model', precision_atK, recall_atK )\n",
    "cb_performance"
   ]
  },
  {
   "cell_type": "markdown",
   "metadata": {
    "ExecuteTime": {
     "end_time": "2023-01-28T16:21:22.244598Z",
     "start_time": "2023-01-28T16:21:22.235591Z"
    },
    "heading_collapsed": true,
    "hidden": true
   },
   "source": [
    "### 8.7 - Result for Light gradient Boostin Machine Classifier Model"
   ]
  },
  {
   "cell_type": "code",
   "execution_count": null,
   "metadata": {
    "ExecuteTime": {
     "end_time": "2023-02-02T21:31:23.722675Z",
     "start_time": "2023-02-02T21:31:23.615628Z"
    },
    "hidden": true
   },
   "outputs": [],
   "source": [
    "# Copy Data\n",
    "df8_unbalanced = x_valid.copy()\n",
    "df8_unbalanced['response'] = y_valid.copy()\n",
    "\n",
    "# Propensity score\n",
    "df8_unbalanced['score'] = yhat_lgbm[:,1].tolist()\n",
    "\n",
    "# sorted clients by score\n",
    "df8_unbalanced = df8_unbalanced.sort_values( 'score', ascending=False )\n",
    "\n",
    "# Compute precision at K\n",
    "precision_atK = precision_at_k(df8_unbalanced, k=20000 )\n",
    "\n",
    "# Compute precision at K\n",
    "recall_atK = recall_at_k(df8_unbalanced, k=20000 )\n",
    "\n",
    "lgbm_performance = ml_performance('LGBM Model', precision_atK, recall_atK )\n",
    "lgbm_performance"
   ]
  },
  {
   "cell_type": "markdown",
   "metadata": {
    "heading_collapsed": true,
    "hidden": true
   },
   "source": [
    "### 8.8 - Results for all models"
   ]
  },
  {
   "cell_type": "code",
   "execution_count": null,
   "metadata": {
    "ExecuteTime": {
     "end_time": "2023-02-02T21:32:13.787391Z",
     "start_time": "2023-02-02T21:32:13.770060Z"
    },
    "hidden": true
   },
   "outputs": [],
   "source": [
    "model_performance = pd.concat( [KNN_performance, lr_performance, et_performance, rf_performance, cb_performance, xgb_performance, lgbm_performance] )\n",
    "model_performance.sort_values('Precision_at_K', ascending= False)"
   ]
  },
  {
   "cell_type": "markdown",
   "metadata": {},
   "source": [
    "## 9 - HYPERPARAMETER FINE TUNING"
   ]
  },
  {
   "cell_type": "markdown",
   "metadata": {},
   "source": [
    "### 9.1 - Cross Validation"
   ]
  },
  {
   "cell_type": "code",
   "execution_count": 45,
   "metadata": {
    "ExecuteTime": {
     "end_time": "2023-02-02T23:33:26.744220Z",
     "start_time": "2023-02-02T23:33:26.683053Z"
    }
   },
   "outputs": [],
   "source": [
    "# Concatenation train and validation dataset to use in cross-validation\n",
    "df_cv = x_training.copy()\n",
    "df_cv['response'] = y_training\n",
    "\n",
    "df_aux = x_valid.copy()\n",
    "df_aux['response'] = y_valid\n",
    "\n",
    "df_cc = pd.concat([df_cv, df_aux])"
   ]
  },
  {
   "cell_type": "code",
   "execution_count": null,
   "metadata": {},
   "outputs": [],
   "source": [
    "# Dictioary with models instantiated\n",
    "#models = { 'KNN': knn_model,\n",
    "#         'Logistic Regression': lr_model,\n",
    "#         'Random Forest': rf_model,\n",
    "#         'XGB Model': xgb_model,\n",
    "#         'Ext. Model': et_model,\n",
    "#         'RF Model': rf_model,\n",
    "#         'CB Model': cb_model }\n",
    "#\n",
    "# Cross-validated models performance\n",
    "#model_performance = pd.DataFrame()\n",
    "\n",
    "#for key in models.keys():\n",
    "#    performance_cv = cross_validation(5, key, models[key], df_cc, 20000)\n",
    "#    model_performance = pd.concat([model_performance, performance_cv], axis=1)\n",
    "\n",
    "#model_performance.T"
   ]
  },
  {
   "cell_type": "code",
   "execution_count": 50,
   "metadata": {
    "ExecuteTime": {
     "end_time": "2023-02-02T23:39:59.860917Z",
     "start_time": "2023-02-02T23:39:59.836917Z"
    }
   },
   "outputs": [
    {
     "data": {
      "text/html": [
       "<div>\n",
       "<style scoped>\n",
       "    .dataframe tbody tr th:only-of-type {\n",
       "        vertical-align: middle;\n",
       "    }\n",
       "\n",
       "    .dataframe tbody tr th {\n",
       "        vertical-align: top;\n",
       "    }\n",
       "\n",
       "    .dataframe thead th {\n",
       "        text-align: right;\n",
       "    }\n",
       "</style>\n",
       "<table border=\"1\" class=\"dataframe\">\n",
       "  <thead>\n",
       "    <tr style=\"text-align: right;\">\n",
       "      <th></th>\n",
       "      <th>Unnamed: 0</th>\n",
       "      <th>precision_at_k</th>\n",
       "      <th>std_precision</th>\n",
       "      <th>recall_at_k</th>\n",
       "      <th>std_recall</th>\n",
       "    </tr>\n",
       "  </thead>\n",
       "  <tbody>\n",
       "    <tr>\n",
       "      <th>6</th>\n",
       "      <td>CB Model</td>\n",
       "      <td>0.3329</td>\n",
       "      <td>+/-0.0023</td>\n",
       "      <td>0.7127</td>\n",
       "      <td>+/- 0.005</td>\n",
       "    </tr>\n",
       "    <tr>\n",
       "      <th>3</th>\n",
       "      <td>XGB Model</td>\n",
       "      <td>0.3314</td>\n",
       "      <td>+/-0.0026</td>\n",
       "      <td>0.7095</td>\n",
       "      <td>+/- 0.0055</td>\n",
       "    </tr>\n",
       "    <tr>\n",
       "      <th>2</th>\n",
       "      <td>Random Forest</td>\n",
       "      <td>0.3064</td>\n",
       "      <td>+/-0.0021</td>\n",
       "      <td>0.6559</td>\n",
       "      <td>+/- 0.0045</td>\n",
       "    </tr>\n",
       "    <tr>\n",
       "      <th>5</th>\n",
       "      <td>RF Model</td>\n",
       "      <td>0.3064</td>\n",
       "      <td>+/-0.0021</td>\n",
       "      <td>0.6559</td>\n",
       "      <td>+/- 0.0045</td>\n",
       "    </tr>\n",
       "    <tr>\n",
       "      <th>4</th>\n",
       "      <td>Ext. Model</td>\n",
       "      <td>0.3013</td>\n",
       "      <td>+/-0.0018</td>\n",
       "      <td>0.6450</td>\n",
       "      <td>+/- 0.004</td>\n",
       "    </tr>\n",
       "    <tr>\n",
       "      <th>0</th>\n",
       "      <td>KNN</td>\n",
       "      <td>0.2940</td>\n",
       "      <td>+/-0.0006</td>\n",
       "      <td>0.6294</td>\n",
       "      <td>+/- 0.0013</td>\n",
       "    </tr>\n",
       "    <tr>\n",
       "      <th>1</th>\n",
       "      <td>Logistic Regression</td>\n",
       "      <td>0.2856</td>\n",
       "      <td>+/-0.002</td>\n",
       "      <td>0.6114</td>\n",
       "      <td>+/- 0.0043</td>\n",
       "    </tr>\n",
       "  </tbody>\n",
       "</table>\n",
       "</div>"
      ],
      "text/plain": [
       "            Unnamed: 0  precision_at_k std_precision  recall_at_k   std_recall\n",
       "6             CB Model          0.3329     +/-0.0023       0.7127    +/- 0.005\n",
       "3            XGB Model          0.3314     +/-0.0026       0.7095   +/- 0.0055\n",
       "2        Random Forest          0.3064     +/-0.0021       0.6559   +/- 0.0045\n",
       "5             RF Model          0.3064     +/-0.0021       0.6559   +/- 0.0045\n",
       "4           Ext. Model          0.3013     +/-0.0018       0.6450    +/- 0.004\n",
       "0                  KNN          0.2940     +/-0.0006       0.6294   +/- 0.0013\n",
       "1  Logistic Regression          0.2856      +/-0.002       0.6114   +/- 0.0043"
      ]
     },
     "execution_count": 50,
     "metadata": {},
     "output_type": "execute_result"
    }
   ],
   "source": [
    "# Tabela com resultado do crossvalidation salvo na maquina.\n",
    "cv_result = pd.read_csv('C:/Users/perot/Documents/ds_repos/projects/Health_Insurance_Cross_Sell/data/processed/crossvalidationresult.csv')\n",
    "cv_result.sort_values('recall_at_k', ascending=False)"
   ]
  },
  {
   "cell_type": "markdown",
   "metadata": {},
   "source": [
    "### 9.3 - LGBM Fine Tunning"
   ]
  },
  {
   "cell_type": "code",
   "execution_count": null,
   "metadata": {
    "ExecuteTime": {
     "end_time": "2023-02-02T22:41:37.672671Z",
     "start_time": "2023-02-02T22:41:37.659669Z"
    }
   },
   "outputs": [],
   "source": [
    "import optuna  # pip install optuna\n",
    "from sklearn.metrics import log_loss\n",
    "from sklearn.model_selection import StratifiedKFold\n",
    "from optuna.integration import LightGBMPruningCallback"
   ]
  },
  {
   "cell_type": "code",
   "execution_count": null,
   "metadata": {
    "ExecuteTime": {
     "end_time": "2023-02-02T22:41:38.106895Z",
     "start_time": "2023-02-02T22:41:38.048307Z"
    }
   },
   "outputs": [],
   "source": [
    "X = df6.drop( 'response', axis=1 ).reset_index(drop=True)\n",
    "y = df6[['response']].reset_index(drop=True)"
   ]
  },
  {
   "cell_type": "code",
   "execution_count": null,
   "metadata": {
    "ExecuteTime": {
     "end_time": "2023-02-02T22:42:18.094152Z",
     "start_time": "2023-02-02T22:42:18.074048Z"
    }
   },
   "outputs": [],
   "source": [
    "from optuna.integration import LightGBMPruningCallback\n",
    "\n",
    "def objective(trial, X, y):\n",
    "    param_grid = {\n",
    "        # \"device_type\": trial.suggest_categorical(\"device_type\", ['gpu']),\n",
    "        \"n_estimators\": trial.suggest_categorical(\"n_estimators\", [10000]),\n",
    "        \"learning_rate\": trial.suggest_float(\"learning_rate\", 0.01, 0.3),\n",
    "        \"num_leaves\": trial.suggest_int(\"num_leaves\", 20, 3000, step=20),\n",
    "        \"max_depth\": trial.suggest_int(\"max_depth\", 3, 12),\n",
    "        \"min_data_in_leaf\": trial.suggest_int(\"min_data_in_leaf\", 200, 10000, step=100),\n",
    "        \"lambda_l1\": trial.suggest_int(\"lambda_l1\", 0, 100, step=5),\n",
    "        \"lambda_l2\": trial.suggest_int(\"lambda_l2\", 0, 100, step=5),\n",
    "        \"min_gain_to_split\": trial.suggest_float(\"min_gain_to_split\", 0, 15),\n",
    "        \"bagging_fraction\": trial.suggest_float(\n",
    "            \"bagging_fraction\", 0.2, 0.95, step=0.1\n",
    "        ),\n",
    "        \"bagging_freq\": trial.suggest_categorical(\"bagging_freq\", [1]),\n",
    "        \"feature_fraction\": trial.suggest_float(\n",
    "            \"feature_fraction\", 0.2, 0.95, step=0.1\n",
    "        ),\n",
    "    }\n",
    "\n",
    "    cv = StratifiedKFold(n_splits=5, shuffle=True, random_state=1121218)\n",
    "\n",
    "    cv_scores = np.empty(5)\n",
    "    \n",
    "    for idx, (train_idx, test_idx) in enumerate(cv.split(X, y)):\n",
    "        X_train, X_test = X.iloc[train_idx], X.iloc[test_idx]\n",
    "        y_train, y_test = y.iloc[train_idx], y.iloc[test_idx]\n",
    "\n",
    "        model = lgbm.LGBMClassifier(objective=\"binary\", **param_grid)\n",
    "        model.fit( X_train, y_train, eval_set=[(X_test, y_test)], eval_metric=\"binary_logloss\", early_stopping_rounds=100, callbacks=[LightGBMPruningCallback(trial, \"binary_logloss\")],  # Add a pruning callback \n",
    "                 )\n",
    "        preds = model.predict_proba(X_test)\n",
    "        cv_scores[idx] = log_loss(y_test, preds)\n",
    "\n",
    "    return np.mean(cv_scores)"
   ]
  },
  {
   "cell_type": "code",
   "execution_count": null,
   "metadata": {
    "ExecuteTime": {
     "end_time": "2023-02-02T22:46:55.867026Z",
     "start_time": "2023-02-02T22:42:20.406393Z"
    }
   },
   "outputs": [],
   "source": [
    "study = optuna.create_study(direction=\"minimize\", study_name=\"LGBM Classifier\")\n",
    "func = lambda trial: objective(trial, X, y)\n",
    "study.optimize(func, n_trials=20)"
   ]
  },
  {
   "cell_type": "code",
   "execution_count": null,
   "metadata": {
    "ExecuteTime": {
     "end_time": "2023-02-02T23:08:10.535449Z",
     "start_time": "2023-02-02T23:08:10.519415Z"
    }
   },
   "outputs": [],
   "source": [
    "print(f\"\\tBest value (rmse): {study.best_value:.5f}\")\n",
    "print(f\"\\tBest params:\")\n",
    "\n",
    "for key, value in study.best_params.items():\n",
    "    print(f\"\\t\\t{key}: {value}\")"
   ]
  },
  {
   "cell_type": "markdown",
   "metadata": {},
   "source": [
    "#### 9.3.1 - LGBM After Fine Tuning"
   ]
  },
  {
   "cell_type": "code",
   "execution_count": 26,
   "metadata": {
    "ExecuteTime": {
     "end_time": "2023-02-02T23:24:54.951156Z",
     "start_time": "2023-02-02T23:23:46.662837Z"
    }
   },
   "outputs": [
    {
     "name": "stdout",
     "output_type": "stream",
     "text": [
      "[LightGBM] [Warning] feature_fraction is set=0.5, colsample_bytree=1.0 will be ignored. Current value: feature_fraction=0.5\n",
      "[LightGBM] [Warning] min_data_in_leaf is set=5700, min_child_samples=20 will be ignored. Current value: min_data_in_leaf=5700\n",
      "[LightGBM] [Warning] min_gain_to_split is set=6.4030316307901405, min_split_gain=0.0 will be ignored. Current value: min_gain_to_split=6.4030316307901405\n",
      "[LightGBM] [Warning] lambda_l1 is set=0, reg_alpha=0.0 will be ignored. Current value: lambda_l1=0\n",
      "[LightGBM] [Warning] bagging_fraction is set=0.7, subsample=1.0 will be ignored. Current value: bagging_fraction=0.7\n",
      "[LightGBM] [Warning] lambda_l2 is set=70, reg_lambda=0.0 will be ignored. Current value: lambda_l2=70\n",
      "[LightGBM] [Warning] bagging_freq is set=1, subsample_freq=0 will be ignored. Current value: bagging_freq=1\n"
     ]
    }
   ],
   "source": [
    "# Model Definition\n",
    "lgbm_model = lgbm.LGBMClassifier(boosting_type='gbdt', importance_type='split', silent=True, n_estimators=10000, learning_rate=0.22236505657620587,\n",
    "                                 num_leaves=1960, max_depth=5, min_data_in_leaf=5700, lambda_l1=0, lambda_l2=70, min_gain_to_split=6.4030316307901405,\n",
    "                                 bagging_fraction=0.7, bagging_freq=1, feature_fraction=0.5 )\n",
    "\n",
    "# Model Training\n",
    "model_lgbm = lgbm_model.fit( x_training, y_training )\n",
    "\n",
    "# Model Prediction\n",
    "yhat_lgbm = model_lgbm.predict_proba( x_validation )"
   ]
  },
  {
   "cell_type": "code",
   "execution_count": 27,
   "metadata": {
    "ExecuteTime": {
     "end_time": "2023-02-02T23:24:56.740266Z",
     "start_time": "2023-02-02T23:24:54.954157Z"
    }
   },
   "outputs": [
    {
     "data": {
      "image/png": "[encoded data removed]",
      "text/plain": [
       "<Figure size 1800x500 with 3 Axes>"
      ]
     },
     "metadata": {},
     "output_type": "display_data"
    }
   ],
   "source": [
    "fig, axs = plt.subplots(ncols= 3, figsize = (18,5))\n",
    "\n",
    "# cumulative gain - Metric for sorting problem\n",
    "skplt.metrics.plot_cumulative_gain(y_validation, yhat_lgbm, ax=axs[0],title='Cumulative Gain - LGBM');\n",
    "\n",
    "# Lift Curve\n",
    "skplt.metrics.plot_lift_curve(y_validation, yhat_lgbm,ax=axs[1],title='Lift Curve - LGBM');\n",
    "\n",
    "# Roc Curve\n",
    "skplt.metrics.plot_roc(y_validation, yhat_lgbm, ax=axs[2], title='ROC-Curve - LGBM');\n",
    "\n",
    "plt.tight_layout()"
   ]
  },
  {
   "cell_type": "code",
   "execution_count": 41,
   "metadata": {
    "ExecuteTime": {
     "end_time": "2023-02-02T23:32:12.110762Z",
     "start_time": "2023-02-02T23:32:12.019851Z"
    }
   },
   "outputs": [
    {
     "data": {
      "text/html": [
       "<div>\n",
       "<style scoped>\n",
       "    .dataframe tbody tr th:only-of-type {\n",
       "        vertical-align: middle;\n",
       "    }\n",
       "\n",
       "    .dataframe tbody tr th {\n",
       "        vertical-align: top;\n",
       "    }\n",
       "\n",
       "    .dataframe thead th {\n",
       "        text-align: right;\n",
       "    }\n",
       "</style>\n",
       "<table border=\"1\" class=\"dataframe\">\n",
       "  <thead>\n",
       "    <tr style=\"text-align: right;\">\n",
       "      <th></th>\n",
       "      <th>Model Name</th>\n",
       "      <th>Precision_at_K</th>\n",
       "      <th>Recall_at_K</th>\n",
       "    </tr>\n",
       "  </thead>\n",
       "  <tbody>\n",
       "    <tr>\n",
       "      <th>0</th>\n",
       "      <td>LGBM Model</td>\n",
       "      <td>0.333533</td>\n",
       "      <td>0.715465</td>\n",
       "    </tr>\n",
       "  </tbody>\n",
       "</table>\n",
       "</div>"
      ],
      "text/plain": [
       "   Model Name  Precision_at_K  Recall_at_K\n",
       "0  LGBM Model        0.333533     0.715465"
      ]
     },
     "execution_count": 41,
     "metadata": {},
     "output_type": "execute_result"
    }
   ],
   "source": [
    "# Copy Data\n",
    "df8_unbalanced = x_valid.copy()\n",
    "df8_unbalanced['response'] = y_valid.copy()\n",
    "\n",
    "# Propensity score\n",
    "df8_unbalanced['score'] = yhat_lgbm[:,1].tolist()\n",
    "\n",
    "# sorted clients by score\n",
    "df8_unbalanced = df8_unbalanced.sort_values( 'score', ascending=False )\n",
    "\n",
    "# Compute precision at K\n",
    "precision_atK = precision_at_k(df8_unbalanced, k=20000 )\n",
    "\n",
    "# Compute precision at K\n",
    "recall_atK = recall_at_k(df8_unbalanced, k=20000 )\n",
    "\n",
    "lgbm_performance_cv = ml_performance('LGBM Model', precision_atK, recall_atK )\n",
    "lgbm_performance_cv"
   ]
  },
  {
   "cell_type": "code",
   "execution_count": null,
   "metadata": {},
   "outputs": [],
   "source": [
    "pickle.dump(lgbm_model, open('C:/Users/perot/Documents/ds_repos/projects/Health_Insurance_Cross_Sell/src/models/lgbm_model.pkl', 'wb'))"
   ]
  },
  {
   "cell_type": "markdown",
   "metadata": {
    "heading_collapsed": true
   },
   "source": [
    "## 10 - DEPLOY MODEL TO PRODUCTION"
   ]
  },
  {
   "cell_type": "markdown",
   "metadata": {
    "heading_collapsed": true,
    "hidden": true
   },
   "source": [
    "### 10.1 - HealthInsurance Class"
   ]
  },
  {
   "cell_type": "code",
   "execution_count": null,
   "metadata": {
    "ExecuteTime": {
     "end_time": "2023-01-10T20:00:04.116685Z",
     "start_time": "2023-01-10T20:00:03.419661Z"
    },
    "hidden": true
   },
   "outputs": [],
   "source": [
    "import pickle\n",
    "import inflection\n",
    "import numpy  as np\n",
    "import pandas as pd\n",
    "\n",
    "class HealthInsurance:\n",
    "    \n",
    "    def __init__( self ):\n",
    "        self.home_path                             = ''\n",
    "        self.annual_premium_scaler                 = pickle.load( open( self.home_path + 'src/features/annual_premium_scaler.pkl', 'rb') )\n",
    "        self.age_group_scaler                      = pickle.load( open( self.home_path + 'src/features/age_group_scaler.pkl', 'rb') )\n",
    "        self.annual_premium_per_age_scaler         = pickle.load( open( self.home_path + 'src/features/annual_premium_per_age_scaler.pkl', 'rb') )\n",
    "        self.annual_premium_per_day_scaler         = pickle.load( open( self.home_path + 'src/features/annual_premium_per_day_scaler.pkl', 'rb') )\n",
    "        self.target_encode_vintage_month_scaler    = pickle.load( open( self.home_path + 'src/features/target_encode_vintage_month_scaler.pkl', 'rb') )\n",
    "        self.age_scaler                            = pickle.load( open( self.home_path + 'src/features/age_scaler.pkl', 'rb') )\n",
    "        self.vintage_scaler                        = pickle.load( open( self.home_path + 'src/features/vintage_scaler.pkl', 'rb') )\n",
    "        self.frequency_encode_region_code_scaler   = pickle.load( open( self.home_path + 'src/features/frequency_encode_region_code_scaler.pkl', 'rb') )\n",
    "        self.target_encode_gender_scaler           = pickle.load( open( self.home_path + 'src/features/target_encode_gender_scaler.pkl', 'rb') )\n",
    "        self.frequency_encode_policy_sales_scaler  = pickle.load( open( self.home_path + 'src/features/frequency_encode_policy_sales_scaler.pkl', 'rb') )\n",
    "     \n",
    "    def data_cleaning( self, df5 ):\n",
    " \n",
    "        ## rename Columns\n",
    "        cols_old = ['id', 'Gender', 'Age', 'Driving_License', 'Region_Code', 'Previously_Insured', 'Vehicle_Age', 'Vehicle_Damage', 'Annual_Premium', 'Policy_Sales_Channel', 'Vintage']\n",
    "\n",
    "        snakecase = lambda x: inflection.underscore( x )\n",
    "        cols_new = list( map( snakecase, cols_old ) )\n",
    "        \n",
    "        # rename\n",
    "        df5.columns = cols_new\n",
    "        \n",
    "        return( df5 )\n",
    "\n",
    "    def feature_engineering( self, df5 ):\n",
    "        \n",
    "        # Vintage Month - How many month that customer are on the company\n",
    "        df5['vintage_month'] = round(df5['vintage'] / 31)\n",
    "\n",
    "        # Annual Premium per day\n",
    "        df5['annual_premium_per_day'] = df5['annual_premium']/df5['vintage']\n",
    "\n",
    "        # Annual Premium per Age\n",
    "        df5['annual_premium_per_age'] = df5['annual_premium']/df5['age']\n",
    "        \n",
    "        return( df5 )\n",
    "    \n",
    "    def data_preparation( self, df5 ):\n",
    "              \n",
    "        # Ajustando coluna vehicle_age\n",
    "        df5['vehicle_age'] = df5['vehicle_age'].apply(lambda x: 1 if (x == '< 1 Year') else 2 if (x == '1-2 Year') else 3)\n",
    "        \n",
    "        # Ajustando coluna vehicle_damage\n",
    "        df5['vehicle_damage'] = df5['vehicle_damage'].apply(lambda x: 1 if (x == 'Yes') else 0)\n",
    "       \n",
    "        # Age\n",
    "        df5['age'] = self.age_scaler.transform( df5[['age']].values )\n",
    "    \n",
    "        # Annual Premium\n",
    "        df5['annual_premium'] = self.annual_premium_scaler.transform( df5[['annual_premium']].values )\n",
    "        \n",
    "        # Annual Premium per Day\n",
    "        df5['annual_premium_per_day'] = self.annual_premium_per_day_scaler.transform( df5[['annual_premium_per_day']].values )\n",
    "        \n",
    "        # Annual Premium per Age\n",
    "        df5['annual_premium_per_age'] = self.annual_premium_per_age_scaler.transform( df5[['annual_premium_per_age']].values )\n",
    "        \n",
    "        # Vintage\n",
    "        df5['vintage'] = self.vintage_scaler.transform( df5[['vintage']].values )\n",
    "        \n",
    "        # Vintage Month\n",
    "        df5.loc[:, 'vintage_month'] = df5['vintage_month'].map( self.target_encode_vintage_month_scaler )\n",
    "        \n",
    "        # gender\n",
    "        df5.loc[:, 'gender'] = df5['gender'].map( self.target_encode_gender_scaler )\n",
    "        \n",
    "        # codigo de regiao\n",
    "        df5.loc[:, 'region_code'] = df5['region_code'].map( self.frequency_encode_region_code_scaler )\n",
    "        \n",
    "        # policy_sales_channel - Frequency Encoding / Target Encoding\n",
    "        df5.loc[:, 'policy_sales_channel'] = df5['policy_sales_channel'].map( self.frequency_encode_policy_sales_scaler )\n",
    "        \n",
    "        # Feature Selection\n",
    "        cols_selected = ['annual_premium_per_day','vintage','annual_premium_per_age', 'annual_premium', 'age', 'region_code','vehicle_damage', 'policy_sales_channel', 'previously_insured', 'vintage_month', 'vehicle_age']\n",
    "\n",
    "        return df5[cols_selected]\n",
    "    \n",
    "\n",
    "    def get_prediction( self, model, original_data, test_data ):\n",
    "        # prediction\n",
    "        pred = model.predict_proba( test_data )\n",
    "        \n",
    "        # join pred into the original data\n",
    "        original_data['score'] = pred[:, 1].tolist()\n",
    "        \n",
    "        return original_data.to_json( orient='records', date_format='iso' )"
   ]
  },
  {
   "cell_type": "markdown",
   "metadata": {
    "heading_collapsed": true,
    "hidden": true
   },
   "source": [
    "### 10.2 - API Handler"
   ]
  },
  {
   "cell_type": "code",
   "execution_count": null,
   "metadata": {
    "ExecuteTime": {
     "end_time": "2023-01-29T20:18:52.854901Z",
     "start_time": "2023-01-29T20:18:51.998793Z"
    },
    "hidden": true
   },
   "outputs": [],
   "source": [
    "import pickle\n",
    "import pandas as pd\n",
    "import os\n",
    "from flask                           import Flask, request, Response\n",
    "from healthinsurance.healthinsurance import HealthInsurance\n",
    "\n",
    "# logading model\n",
    "model = pickle.load( open( 'src/models/lgbm_model.pkl', 'rb' ) )\n",
    "                          \n",
    "# initialize API\n",
    "app = Flask( __name__ )\n",
    "\n",
    "@app.route( '/healthinsurance/predict', methods=['POST'] )\n",
    "def health_insurance_predict():\n",
    "    test_json = request.get_json()\n",
    "    \n",
    "    if test_json: #there is data\n",
    "               \n",
    "        if isinstance( test_json, dict ): # unique example\n",
    "            test_raw = pd.DataFrame( test_json, index=[0] )\n",
    "    \n",
    "        else:\n",
    "            test_raw = pd.DataFrame( test_json, columns=test_json[0].keys() ) # multiple examples\n",
    "            \n",
    "        # Instantiate Rossmann Class\n",
    "        pipeline = HealthInsurance()\n",
    "\n",
    "        # data cleaning\n",
    "        df1 = pipeline.data_cleaning( test_raw )\n",
    "              \n",
    "        # feature engineering\n",
    "        df2 = pipeline.feature_engineering( df1 )\n",
    "\n",
    "        # Data Preparation\n",
    "        df3 = pipeline.data_preparation( df2 )\n",
    "                              \n",
    "        # prediction\n",
    "        df_response = pipeline.get_prediction( model, test_raw, df3 )\n",
    "        \n",
    "        return df_response\n",
    "        \n",
    "    else:\n",
    "        return Response( '{}', status=200, mimetype='application/json' )\n",
    "\n",
    "if __name__ == '__main__':\n",
    "    app.run('0.0.0.0')\n",
    "\n",
    "#    port = os.environ.get('PORT', 5000)\n",
    "#    app.run( host='0.0.0.0', port=port )"
   ]
  },
  {
   "cell_type": "markdown",
   "metadata": {
    "heading_collapsed": true,
    "hidden": true
   },
   "source": [
    "### 10.3 - API Tester"
   ]
  },
  {
   "cell_type": "code",
   "execution_count": null,
   "metadata": {
    "ExecuteTime": {
     "end_time": "2023-02-01T22:49:11.435417Z",
     "start_time": "2023-02-01T22:49:11.427675Z"
    },
    "hidden": true
   },
   "outputs": [],
   "source": [
    "import requests\n",
    "import pandas as pd"
   ]
  },
  {
   "cell_type": "code",
   "execution_count": null,
   "metadata": {
    "ExecuteTime": {
     "end_time": "2023-02-01T23:06:00.525283Z",
     "start_time": "2023-02-01T23:06:00.504968Z"
    },
    "hidden": true
   },
   "outputs": [],
   "source": [
    "# Load Datasets\n",
    "df_test = pd.read_csv('C:/Users/perot/Documents/ds_repos/projects/Health_Insurance_Cross_Sell/data/raw/test.csv')"
   ]
  },
  {
   "cell_type": "code",
   "execution_count": null,
   "metadata": {
    "ExecuteTime": {
     "end_time": "2023-02-01T23:06:04.439553Z",
     "start_time": "2023-02-01T23:06:04.419500Z"
    },
    "hidden": true
   },
   "outputs": [],
   "source": [
    "df_test = df_test.sample(10)"
   ]
  },
  {
   "cell_type": "code",
   "execution_count": null,
   "metadata": {
    "ExecuteTime": {
     "end_time": "2023-02-01T23:06:07.283761Z",
     "start_time": "2023-02-01T23:06:07.254699Z"
    },
    "hidden": true
   },
   "outputs": [],
   "source": [
    "df_test.head()"
   ]
  },
  {
   "cell_type": "code",
   "execution_count": null,
   "metadata": {
    "ExecuteTime": {
     "end_time": "2023-02-01T23:06:12.846271Z",
     "start_time": "2023-02-01T23:06:12.833220Z"
    },
    "hidden": true
   },
   "outputs": [],
   "source": [
    "# convert dataframe to json\n",
    "data = json.dumps( df_test.to_dict( orient='records' ) )"
   ]
  },
  {
   "cell_type": "code",
   "execution_count": null,
   "metadata": {
    "ExecuteTime": {
     "end_time": "2023-02-01T23:06:17.125662Z",
     "start_time": "2023-02-01T23:06:17.085359Z"
    },
    "hidden": true
   },
   "outputs": [],
   "source": [
    " # API Call\n",
    "#url = 'https://healthinsurance-api.onrender.com/healthinsurance/predict'\n",
    "url = 'http://127.0.0.1:5000/healthinsurance/predict'\n",
    "header = {'Content-type': 'application/json' }\n",
    "\n",
    "r = requests.post( url, data=data, headers=header )\n",
    "print( 'Status Code {}'.format( r.status_code ) )"
   ]
  },
  {
   "cell_type": "code",
   "execution_count": null,
   "metadata": {
    "ExecuteTime": {
     "end_time": "2023-02-01T23:06:18.271708Z",
     "start_time": "2023-02-01T23:06:18.256067Z"
    },
    "hidden": true
   },
   "outputs": [],
   "source": [
    "d2 = pd.DataFrame( r.json(), columns=r.json()[0].keys() )"
   ]
  },
  {
   "cell_type": "code",
   "execution_count": null,
   "metadata": {
    "hidden": true
   },
   "outputs": [],
   "source": []
  }
 ],
 "metadata": {
  "hide_input": false,
  "kernelspec": {
   "display_name": "Python 3 (ipykernel)",
   "language": "python",
   "name": "python3"
  },
  "language_info": {
   "codemirror_mode": {
    "name": "ipython",
    "version": 3
   },
   "file_extension": ".py",
   "mimetype": "text/x-python",
   "name": "python",
   "nbconvert_exporter": "python",
   "pygments_lexer": "ipython3",
   "version": "3.9.15"
  },
  "toc-autonumbering": true,
  "toc-showcode": false,
  "toc-showtags": false
 },
 "nbformat": 4,
 "nbformat_minor": 4
}
