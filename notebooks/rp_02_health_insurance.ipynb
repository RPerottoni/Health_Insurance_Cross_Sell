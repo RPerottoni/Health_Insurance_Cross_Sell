{
 "cells": [
  {
   "cell_type": "markdown",
   "id": "8ba1e0d7",
   "metadata": {},
   "source": [
    "# PA004 - HEALTH INSURANCE CROS-SELL"
   ]
  },
  {
   "cell_type": "markdown",
   "id": "ce96817c",
   "metadata": {},
   "source": [
    "## 0 - IMPORTS AND FUNCTIONS"
   ]
  },
  {
   "cell_type": "code",
   "execution_count": 1,
   "id": "c39cfa9f",
   "metadata": {
    "ExecuteTime": {
     "end_time": "2024-04-20T10:32:51.107597Z",
     "start_time": "2024-04-20T10:32:48.900955Z"
    }
   },
   "outputs": [
    {
     "name": "stderr",
     "output_type": "stream",
     "text": [
      "C:\\Users\\ricardo\\anaconda3\\envs\\hi_classifier\\lib\\site-packages\\tqdm\\auto.py:21: TqdmWarning: IProgress not found. Please update jupyter and ipywidgets. See https://ipywidgets.readthedocs.io/en/stable/user_install.html\n",
      "  from .autonotebook import tqdm as notebook_tqdm\n"
     ]
    }
   ],
   "source": [
    "# Data Analysis and Data Manipulation Libraries\n",
    "import pandas                  as pd\n",
    "import numpy                   as np\n",
    "import seaborn                 as sns\n",
    "import matplotlib.pyplot       as plt\n",
    "import plotly.express          as px\n",
    "import matplotlib.pyplot       as plt\n",
    "import matplotlib              as mpl\n",
    "import inflection\n",
    "\n",
    "# Machine Learning Models\n",
    "import optuna\n",
    "from xgboost                   import XGBClassifier\n",
    "from sklearn.linear_model      import LogisticRegression\n",
    "from sklearn.neighbors         import KNeighborsClassifier\n",
    "\n",
    "from sklearn                   import model_selection as ms\n",
    "from sklearn.model_selection   import  KFold, StratifiedKFold\n",
    "from sklearn                   import pipeline\n",
    "\n",
    "# Metrics and Performance\n",
    "from sklearn.metrics           import precision_score, roc_auc_score, roc_curve,auc, recall_score\n",
    "from sklearn.metrics           import precision_recall_curve\n",
    "\n",
    "# Dysplay\n",
    "from IPython.core.display    import HTML\n",
    "from IPython.display         import Image\n",
    "\n",
    "import warnings\n",
    "warnings.filterwarnings( 'ignore' )"
   ]
  },
  {
   "cell_type": "markdown",
   "id": "43cdef58",
   "metadata": {},
   "source": [
    "### 0.1 - HELPER FUNCTIONS"
   ]
  },
  {
   "cell_type": "code",
   "execution_count": null,
   "id": "cc80304a",
   "metadata": {
    "ExecuteTime": {
     "end_time": "2024-04-20T10:28:53.106885Z",
     "start_time": "2024-04-20T10:28:53.053628Z"
    },
    "code_folding": []
   },
   "outputs": [],
   "source": [
    "def eda_analysis (data, features, categorical=False, numerical=False, boxplot=False):\n",
    "    n_features = len(features)\n",
    "    n_rows = n_features // 3 + (n_features % 3 > 0) \n",
    "        \n",
    "    fig, axes = plt.subplots(n_rows, 3)  \n",
    "\n",
    "    for i, feature in enumerate(features):\n",
    "        row = i // 3  \n",
    "        col = i % 3  \n",
    "        ax = axes[row, col] if n_rows > 1 else axes[col]\n",
    "\n",
    "        if numerical:\n",
    "            if boxplot:\n",
    "                sns.boxplot(data=data, x=feature, ax=ax )\n",
    "                ax.set_title(feature, fontsize=15)  \n",
    "                ax.set_xlabel('')\n",
    "            else:\n",
    "                count_n = data.groupby([feature])[[feature]].count().rename(columns={feature: 'count'}).reset_index()\n",
    "                count_n['perc'] = count_n['count'] / count_n['count'].sum() * 100\n",
    "\n",
    "                ax.barh( y=count_n[feature], width=count_n['perc'])\n",
    "\n",
    "                if pd.api.types.is_numeric_dtype(count_n[feature]):\n",
    "                    ax.invert_yaxis()\n",
    "\n",
    "                for index, value in enumerate(count_n['perc']):\n",
    "                    ax.text(value + 0.5, index, f'{value:.1f}%', va='center') # Adjust the text position based on the width of the bars\n",
    "                \n",
    "    \n",
    "        if categorical:\n",
    "            dt_count = data.groupby([feature])[[feature]].count().rename(columns={feature: 'count'}).reset_index()\n",
    "            dt_count['perc'] = dt_count['count'] / dt_count['count'].sum() * 100\n",
    "            \n",
    "            ax.barh( y=dt_count[feature], width=dt_count['perc'])\n",
    "            \n",
    "            if pd.api.types.is_numeric_dtype(dt_count[feature]):\n",
    "                ax.invert_yaxis()\n",
    "            \n",
    "            for index, value in enumerate(dt_count['perc']):\n",
    "                ax.text(value + 0.5, index, f'{value:.1f}%', va='center') # Adjust the text position based on the width of the bars\n",
    "                \n",
    "            ax.set_yticks(ticks=range(dt_count[feature].nunique()), labels=dt_count[feature].tolist())\n",
    "            ax.get_xaxis().set_visible(False)\n",
    "            ax.spines['top'].set_visible(False)\n",
    "            ax.spines['right'].set_visible(False)\n",
    "            ax.spines['bottom'].set_visible(False)\n",
    "            ax.spines['left'].set_visible(False)\n",
    "            ax.grid(False)\n",
    "            \n",
    "            ax.set_title(feature, fontsize=15)   \n",
    "            ax.set_xlabel('')  \n",
    "                \n",
    "    # Remove unused axes.\n",
    "    if n_features < len(axes.flat):\n",
    "        for j in range(n_features, len(axes.flat)):\n",
    "            fig.delaxes(axes.flat[j])\n",
    "\n",
    "    plt.tight_layout()\n",
    "\n",
    "def ml_performance( model_name, precision_atK, recall_atK):\n",
    "        \n",
    "        return pd.DataFrame( {'Model Name': model_name,\n",
    "                              'Precision_at_K': precision_atK,\n",
    "                              'Recall_at_K': recall_atK}, index=[0] )\n",
    "\n",
    "def precision_at_k_cv(y_true, proba_predictions, k):\n",
    "    # Sort the estimated probabilities in descending order.\n",
    "    sorted_indices = np.argsort(proba_predictions[:, 1])[::-1]\n",
    "    top_k_indices = sorted_indices[:k]\n",
    "    \n",
    "    # Convert the probabilities into binary labels using the top k.\n",
    "    binary_predictions = np.zeros_like(y_true)\n",
    "    binary_predictions[top_k_indices] = 1\n",
    "    \n",
    "    # Calculate precision at k.\n",
    "    precision_at_k = precision_score(y_true, binary_predictions)\n",
    "    \n",
    "    return precision_at_k\n",
    "\n",
    "def recall_at_k_cv(y_true, proba_predictions, k):\n",
    "    # Sort the estimated probabilities in descending order.\n",
    "    sorted_indices = np.argsort(proba_predictions[:, 1])[::-1]\n",
    "    top_k_indices = sorted_indices[:k]\n",
    "    \n",
    "    # Convert the probabilities into binary labels using the top k.\n",
    "    binary_predictions = np.zeros_like(y_true)\n",
    "    binary_predictions[top_k_indices] = 1\n",
    "    \n",
    "    # Calculate recall at k\n",
    "    recall_at_k = recall_score(y_true, binary_predictions)\n",
    "    \n",
    "    return recall_at_k\n",
    "\n",
    "def cross_validation(kfold, modelName, model, X, y, at_k):\n",
    "    \n",
    "    # Number of folds\n",
    "    fold=ms.StratifiedKFold(n_splits = kfold, shuffle=True, random_state=42)\n",
    "    \n",
    "    # Performance variables\n",
    "    precision_list = []\n",
    "    recall_list = []\n",
    "    cv_performance = {}\n",
    "    \n",
    "    for train_cv,val_cv in fold.split(X, y):\n",
    "        \n",
    "        # Separating train and validation dataset for each kfold\n",
    "        # training data\n",
    "        x_train_fold = X.iloc[train_cv]\n",
    "        x_train_fold = x_train_fold\n",
    "        \n",
    "        y_train_fold = y.iloc[train_cv]\n",
    "        y_train_fold = y_train_fold\n",
    "        \n",
    "        # validation data\n",
    "        x_val_fold = X.iloc[val_cv]\n",
    "        x_val_fold = x_val_fold\n",
    "        \n",
    "        y_val_fold = y.iloc[val_cv]\n",
    "        y_val_fold = y_val_fold\n",
    "        \n",
    "        # fitting the model\n",
    "        model_fitted = model.fit(x_train_fold, y_train_fold)\n",
    "        \n",
    "        # getting the prediction probability\n",
    "        x_val_fold['response'] = y_val_fold\n",
    "        val_scored = prediction_score(model_fitted, x_val_fold)\n",
    "        \n",
    "        # Getting precision and recall at k\n",
    "        precision = val_scored.loc[at_k, 'precision_at_k']\n",
    "        recall = val_scored.loc[at_k, 'recall_at_k']\n",
    "        \n",
    "        precision_list.append(precision)\n",
    "        recall_list.append(recall)\n",
    "        \n",
    "    # calculating the mean and std performance of all kfolds\n",
    "    precision_cv = np.round(np.mean(precision_list),4).astype(float)\n",
    "    std_precision_cv = '+/-' + np.round(np.std(precision_list),4).astype(str)\n",
    "    recall_cv = np.round(np.mean(recall_list),4).astype(float)\n",
    "    std_recall_cv = ' +/- ' + np.round(np.std(recall_list),4).astype(str)\n",
    "        \n",
    "    cv_performance[modelName] = [precision_cv, std_precision_cv, recall_cv, std_recall_cv]\n",
    "    model_performance_cv = pd.DataFrame(cv_performance, index=['precision_at_k', 'std_precision', 'recall_at_k', 'std_recall'])\n",
    "\n",
    "    return model_performance_cv\n",
    "\n",
    "def prediction_score(model, data):\n",
    "    # Separating train and validation dataset for each kfold\n",
    "    x_train = data.drop(columns=['response'])\n",
    "    y_train = data['response']\n",
    "    \n",
    "    # prediction probability (score)\n",
    "    yhat_proba = model.predict_proba(x_train)[:, 1].tolist()\n",
    "    \n",
    "    # merging score to dataset\n",
    "    data_scored = data.copy()\n",
    "    data_scored['score'] = yhat_proba\n",
    "    \n",
    "    # sort\n",
    "    data_scored = data_scored.sort_values('score', ascending=False)\n",
    "    \n",
    "    # precision and recall\n",
    "    data_scored = data_scored.reset_index(drop=True)\n",
    "    data_scored['n_samples'] = data_scored.index + 1\n",
    "    data_scored['precision_at_k'] = data_scored['response'].cumsum() / data_scored['n_samples']\n",
    "    data_scored['recall_at_k'] = data_scored['response'].cumsum() / data_scored['response'].sum()\n",
    "    \n",
    "    return data_scored\n",
    "\n",
    "def jupyter_settings():\n",
    "    \n",
    "    display( HTML( '<style>.container { width:100% !important; }</style>') )\n",
    "    pd.options.display.max_columns = None\n",
    "    pd.options.display.max_rows = None\n",
    "    pd.set_option( 'display.expand_frame_repr', False )\n",
    "   \n",
    "    sns.set()\n",
    "    \n",
    "jupyter_settings()\n",
    "\n",
    "### Visualization Settings\n",
    "%matplotlib inline\n",
    "#%config InlineBackend.figure_format = 'svg'\n",
    "\n",
    "mpl.style.use( 'ggplot' )\n",
    "mpl.rcParams['axes.facecolor']      = 'white'\n",
    "mpl.rcParams['axes.linewidth']      = 1\n",
    "mpl.rcParams['xtick.color']         = 'black'\n",
    "mpl.rcParams['ytick.color']         = 'black'\n",
    "mpl.rcParams['grid.color']          = 'lightgray'\n",
    "mpl.rcParams['figure.dpi']          = 120\n",
    "mpl.rcParams['axes.grid']           = True\n",
    "mpl.rcParams['font.size']           = 10\n",
    "mpl.rcParams['figure.figsize']      = [18, 7]\n",
    "mpl.rcParams['font.size']           = 15\n",
    "\n",
    "# Palette Setting\n",
    "color_palette = ['#82B1FF', '#FF9100', '#40C4FF', '#A7FFEB', '#CCFF90', '#616161']\n",
    "\n",
    "# Setting as the palette\n",
    "sns.set_palette(sns.color_palette(color_palette))\n",
    "\n",
    "# Display\n",
    "sns.color_palette(color_palette)"
   ]
  },
  {
   "cell_type": "markdown",
   "id": "82380eb7",
   "metadata": {
    "cell_style": "split"
   },
   "source": [
    "## 1 - LOADING THE DATA"
   ]
  },
  {
   "cell_type": "markdown",
   "id": "cd8ca831",
   "metadata": {},
   "source": [
    "- The dataset was collected from this kaggle competition **https://www.kaggle.com/datasets/anmolkumar/health-insurance-cross-sell-prediction**"
   ]
  },
  {
   "cell_type": "code",
   "execution_count": null,
   "id": "c520d31c",
   "metadata": {
    "ExecuteTime": {
     "end_time": "2024-04-20T10:28:56.051925Z",
     "start_time": "2024-04-20T10:28:55.838847Z"
    }
   },
   "outputs": [],
   "source": [
    "# Train Datas - Windows\n",
    "df_raw = pd.read_csv('../data/raw/data.csv')"
   ]
  },
  {
   "cell_type": "markdown",
   "id": "5d4d7448",
   "metadata": {
    "ExecuteTime": {
     "end_time": "2024-04-20T09:56:29.987419Z",
     "start_time": "2024-04-20T09:56:29.969609Z"
    }
   },
   "source": [
    "| **Variable**         | **Definition**                                                                                                              |\n",
    "| -------------------- | --------------------------------------------------------------------------------------------------------------------------- |\n",
    "| id                   | Unique ID for the customer                                                                                                  |\n",
    "| Gender               | Gender of the customer                                                                                                      |\n",
    "| Age                  | Age of the customer                                                                                                         |\n",
    "| Driving_License      | 0 : Customer does not have DL, 1 : Customer already has DL                                                                  |\n",
    "| Region_Code          | Unique code for the region of the customer                                                                                  |\n",
    "| Previously_Insured   | 1 : Customer already has Vehicle Insurance, 0 : Customer doesn't have Vehicle Insurance                                     |\n",
    "| Vehicle_Age          | Age of the Vehicle                                                                                                          |\n",
    "| Vehicle_Damage       | 1 : Customer got his/her vehicle damaged in the past. 0 : Customer didn't get his/her vehicle damaged in the past.          |\n",
    "| Annual_Premium       | The amount customer needs to pay as premium in the year                                                                     |\n",
    "| Policy_Sales_Channel | Anonymized Code for the channel of outreaching to the customer ie. Different Agents, Over Mail, Over Phone, In Person, etc. |\n",
    "| Vintage              | Number of Days, Customer has been associated with the company                                                               |\n",
    "| Response             | 1 : Customer is interested, 0 : Customer is not interested                                                                  |"
   ]
  },
  {
   "cell_type": "markdown",
   "id": "c71cfb62",
   "metadata": {
    "tags": []
   },
   "source": [
    "### 1.1 - DATA DIMENSIONS"
   ]
  },
  {
   "cell_type": "code",
   "execution_count": null,
   "id": "0b7c999f",
   "metadata": {
    "ExecuteTime": {
     "end_time": "2024-04-20T10:28:57.716922Z",
     "start_time": "2024-04-20T10:28:57.700691Z"
    }
   },
   "outputs": [],
   "source": [
    "df1 = df_raw.copy()"
   ]
  },
  {
   "cell_type": "code",
   "execution_count": null,
   "id": "80c47518",
   "metadata": {
    "ExecuteTime": {
     "end_time": "2024-04-20T10:28:58.026771Z",
     "start_time": "2024-04-20T10:28:58.012044Z"
    },
    "hide_input": true
   },
   "outputs": [],
   "source": [
    "df1.head()"
   ]
  },
  {
   "cell_type": "code",
   "execution_count": null,
   "id": "5bc2588d",
   "metadata": {
    "ExecuteTime": {
     "end_time": "2024-04-20T10:28:58.276154Z",
     "start_time": "2024-04-20T10:28:58.267154Z"
    }
   },
   "outputs": [],
   "source": [
    "# Data Dimensions\n",
    "print( 'The dataset contains {}'.format( df1.shape[0] ),'rows.' )\n",
    "print( 'The dataset contains {}'.format( df1.shape[1] ),'columns.' )"
   ]
  },
  {
   "cell_type": "code",
   "execution_count": null,
   "id": "829c7ef3",
   "metadata": {
    "ExecuteTime": {
     "end_time": "2024-04-20T10:28:58.545879Z",
     "start_time": "2024-04-20T10:28:58.514839Z"
    }
   },
   "outputs": [],
   "source": [
    "# Data Types\n",
    "df1.dtypes"
   ]
  },
  {
   "cell_type": "markdown",
   "id": "6d9e1930",
   "metadata": {},
   "source": [
    "**Some of the data are with the wrong data type:**\n",
    "   - **id**: is an identification for each customer, so each line has an unique value and we cannot use at math operations. I will change the data type from integer to string;\n",
    "   - **region_code**: is an identification of the region where each customer is from and we cannot use at math operations. I will change the data type from integer to string;\n",
    "   - **policy_sales_channel**: is an identification of the channel used to contact the customer and this cannot be used for math operations. I will change the data type from integer to string;  \n"
   ]
  },
  {
   "cell_type": "code",
   "execution_count": null,
   "id": "fef5bdcc",
   "metadata": {
    "ExecuteTime": {
     "end_time": "2024-04-20T10:28:58.977718Z",
     "start_time": "2024-04-20T10:28:58.964831Z"
    }
   },
   "outputs": [],
   "source": [
    "# # Changing Data Types\n",
    "# df1['id'] = df1['id'].astype( str ) # ID of each customer\n",
    "# df1['region_code'] = df1['region_code'].astype( str ) # Code of region, we cannot do maths operations with these values\n",
    "# df1['policy_sales_channel'] = df1['policy_sales_channel'].astype( str ) # Code of sales channel, we cannot do maths operations with these values"
   ]
  },
  {
   "cell_type": "code",
   "execution_count": null,
   "id": "aacd3c9d",
   "metadata": {
    "ExecuteTime": {
     "end_time": "2024-04-20T10:28:59.162665Z",
     "start_time": "2024-04-20T10:28:59.148156Z"
    }
   },
   "outputs": [],
   "source": [
    "# Data Types\n",
    "df1.dtypes"
   ]
  },
  {
   "cell_type": "code",
   "execution_count": null,
   "id": "b4281e02",
   "metadata": {
    "ExecuteTime": {
     "end_time": "2024-04-20T10:28:59.346248Z",
     "start_time": "2024-04-20T10:28:59.282739Z"
    }
   },
   "outputs": [],
   "source": [
    "# Check NAN Values\n",
    "df1.isna().sum()"
   ]
  },
  {
   "cell_type": "markdown",
   "id": "a5bfdba4",
   "metadata": {},
   "source": [
    "There are no missing values on this dataset."
   ]
  },
  {
   "cell_type": "code",
   "execution_count": null,
   "id": "accf4a66",
   "metadata": {
    "ExecuteTime": {
     "end_time": "2024-04-20T10:28:59.763854Z",
     "start_time": "2024-04-20T10:28:59.616425Z"
    }
   },
   "outputs": [],
   "source": [
    "# Duplicated Values\n",
    "df1.duplicated().sum()"
   ]
  },
  {
   "cell_type": "markdown",
   "id": "ba489a34",
   "metadata": {},
   "source": [
    "There are no duplicated values on this dataset."
   ]
  },
  {
   "cell_type": "markdown",
   "id": "26fa0687",
   "metadata": {
    "tags": []
   },
   "source": [
    "### 1.2 - DATA DESCRIPTIVE"
   ]
  },
  {
   "cell_type": "markdown",
   "id": "2bfdf32e",
   "metadata": {},
   "source": [
    "To describe the datas, I will create two new dataframes:\n",
    "- num_attributes: contains the features that could be used on math operations, such as: integer and float;\n",
    "- cat_attributes: contains categorical features;"
   ]
  },
  {
   "cell_type": "code",
   "execution_count": null,
   "id": "d95336af",
   "metadata": {
    "ExecuteTime": {
     "end_time": "2024-04-20T10:29:00.522083Z",
     "start_time": "2024-04-20T10:29:00.500099Z"
    }
   },
   "outputs": [],
   "source": [
    "# Select columns where the content is different 0 or 1.\n",
    "# numerical features\n",
    "num_attributes = df1.select_dtypes(include=['int64', 'float64'])\n",
    "#num_attributes = df1[['id','age','region_code','policy_sales_channel','annual_premium','vintage']]\n",
    "\n",
    "# categorical features\n",
    "cat_attributes = df1.select_dtypes(exclude=['int64', 'float64'])\n",
    "#cat_attributes = df1[['gender','vehicle_age']]"
   ]
  },
  {
   "cell_type": "markdown",
   "id": "c061f964",
   "metadata": {},
   "source": [
    "#### 1.2.1 - NUMERICAL VARIABLES"
   ]
  },
  {
   "cell_type": "code",
   "execution_count": null,
   "id": "5d236678",
   "metadata": {
    "ExecuteTime": {
     "end_time": "2024-04-20T10:29:01.573783Z",
     "start_time": "2024-04-20T10:29:00.857914Z"
    },
    "scrolled": true
   },
   "outputs": [],
   "source": [
    "# Central Tendency - mean, median\n",
    "ct1 = pd.DataFrame( num_attributes.apply( np.mean ) ).T\n",
    "ct2 = pd.DataFrame( num_attributes.apply( np.median ) ).T\n",
    "\n",
    "# Dispersion - std, min, max, range, skew, kurtosis\n",
    "d1 = pd.DataFrame( num_attributes.apply( np.std ) ).T\n",
    "d2 = pd.DataFrame( num_attributes.apply( min ) ).T\n",
    "d3 = pd.DataFrame( num_attributes.apply( max ) ).T\n",
    "d4 = pd.DataFrame( num_attributes.apply( lambda x: x.max() - x.min() ) ).T\n",
    "d5 = pd.DataFrame( num_attributes.apply( lambda x: x.skew() ) ).T\n",
    "d6 = pd.DataFrame( num_attributes.apply( lambda x: x.kurtosis() ) ).T\n",
    "\n",
    "# Concatenar\n",
    "m = pd.concat( [ d2, d3, d4, ct1, ct2, d1, d5, d6 ] ).T.reset_index()\n",
    "m.columns = ['attributes', 'min', 'max', 'range', 'mean', 'median', 'std', 'skew', 'kurtosis']\n",
    "m"
   ]
  },
  {
   "cell_type": "markdown",
   "id": "f55c4742",
   "metadata": {},
   "source": [
    "Insights:\n",
    "\n",
    "- **age**: Looking into the min and max values, it is possible to identify that the customers vary from 20 years old to 85 years old, where most part of them are younger than 40 years old, however the data is scattered between this interval.\n",
    "- **anual_premium**: Looking into the min and max, the values have a high variation and more information about the business is necessary to understand if these values are consistent. The avg value is far from the max value recorded and also the value is scattered, it causes a high standard deviation. It would be good to get more information about the business to have a better understanding about the value.\n",
    "- **vintage**: Analysing the min and max it is possible to identify that the customers are within the company from 10 days to 299 days. Around half oof them are within the company for less than 6 months however, the data is spread into this interval."
   ]
  },
  {
   "cell_type": "markdown",
   "id": "e0d240a7",
   "metadata": {},
   "source": [
    "### 1.3 - DATASET SPLIT"
   ]
  },
  {
   "cell_type": "code",
   "execution_count": null,
   "id": "5729ba9f",
   "metadata": {
    "ExecuteTime": {
     "end_time": "2024-04-20T09:56:50.117200Z",
     "start_time": "2024-04-20T09:56:50.097895Z"
    }
   },
   "outputs": [],
   "source": [
    "# Checking if the data is imbalanced\n",
    "df1['response'].value_counts(normalize=True)"
   ]
  },
  {
   "cell_type": "markdown",
   "id": "af18de1a",
   "metadata": {},
   "source": [
    "- I will split the data into train, validation and test datasets.\n",
    "- I will perform EDA focusing on the training set in order to avoid data leakage, get a realistic representation and evaluate the model correctly with new unseen data.\n",
    "- I will specify stratify=y so that the train_test_split function ensures that the splitting process maintains the same percentage of each target class in both the training and testing sets. This is useful when dealing with imbalanced datasets."
   ]
  },
  {
   "cell_type": "code",
   "execution_count": null,
   "id": "8cf04f57",
   "metadata": {
    "ExecuteTime": {
     "end_time": "2024-04-20T09:56:53.746882Z",
     "start_time": "2024-04-20T09:56:53.441412Z"
    }
   },
   "outputs": [],
   "source": [
    "# Split dataset into train, test and validation datasets\n",
    "X = df_raw.drop( ['response'], axis=1 )\n",
    "y = df_raw['response'].copy()\n",
    "x_train, x_valid, y_train, y_valid = ms.train_test_split( X, y, test_size=0.20, stratify=y, random_state=42 )\n",
    "x_train, x_test, y_train, y_test   = ms.train_test_split( x_train, y_train, test_size=0.25, stratify=y_train, random_state=42 )\n",
    "\n",
    "print(f\" x_train: {x_train.shape}\\n y_train: {y_train.shape}\\n x_valid: {x_valid.shape}\\n y_valid: {y_valid.shape}\\n x_test: {x_test.shape}\\n y_test: {y_test.shape}\\n\")"
   ]
  },
  {
   "cell_type": "code",
   "execution_count": null,
   "id": "c9cca3ef",
   "metadata": {
    "ExecuteTime": {
     "end_time": "2024-04-20T09:56:54.635258Z",
     "start_time": "2024-04-20T09:56:54.614546Z"
    }
   },
   "outputs": [],
   "source": [
    "print(y_train.value_counts(normalize=True))\n",
    "print(y_valid.value_counts(normalize=True))\n",
    "print(y_test.value_counts(normalize=True))"
   ]
  },
  {
   "cell_type": "markdown",
   "id": "8a2a7dd3",
   "metadata": {
    "jp-MarkdownHeadingCollapsed": true,
    "tags": []
   },
   "source": [
    "## 2 - FEATURE ENGINEERING"
   ]
  },
  {
   "cell_type": "markdown",
   "id": "fd968c84",
   "metadata": {
    "ExecuteTime": {
     "end_time": "2023-09-18T19:04:36.035929Z",
     "start_time": "2023-09-18T19:04:35.635326Z"
    }
   },
   "source": [
    "From this step, all process will be applied to the training dataset only. Afterwards an fuction will be created to apply everything to the others datasets."
   ]
  },
  {
   "cell_type": "code",
   "execution_count": null,
   "id": "0dc38ff6",
   "metadata": {
    "ExecuteTime": {
     "end_time": "2024-04-20T09:56:56.592299Z",
     "start_time": "2024-04-20T09:56:56.566264Z"
    }
   },
   "outputs": [],
   "source": [
    "df2 = pd.concat([x_train, y_train], axis=1)"
   ]
  },
  {
   "cell_type": "code",
   "execution_count": null,
   "id": "4c8167e5",
   "metadata": {
    "ExecuteTime": {
     "end_time": "2024-04-20T09:56:57.160751Z",
     "start_time": "2024-04-20T09:56:57.063920Z"
    }
   },
   "outputs": [],
   "source": [
    "# Modify vehicle_age to numerical values\n",
    "df2['vehicle_age'] = df2['vehicle_age'].apply(lambda x: 1 if (x == '< 1 Year') else\n",
    "                                                        2 if (x == '1-2 Year') else\n",
    "                                                        3)"
   ]
  },
  {
   "cell_type": "code",
   "execution_count": null,
   "id": "d5873537",
   "metadata": {
    "ExecuteTime": {
     "end_time": "2024-04-20T09:56:57.646332Z",
     "start_time": "2024-04-20T09:56:57.552880Z"
    }
   },
   "outputs": [],
   "source": [
    "# Modify vehicle_damage to numerical values\n",
    "df2['vehicle_damage'] = df2['vehicle_damage'].apply(lambda x: 1 if (x == 'Yes') else 0)"
   ]
  },
  {
   "cell_type": "markdown",
   "id": "05338a2e",
   "metadata": {
    "tags": []
   },
   "source": [
    "## 3 - DATA FILTERING"
   ]
  },
  {
   "cell_type": "code",
   "execution_count": null,
   "id": "26c2e485",
   "metadata": {
    "ExecuteTime": {
     "end_time": "2024-04-20T09:56:58.487449Z",
     "start_time": "2024-04-20T09:56:58.464082Z"
    }
   },
   "outputs": [],
   "source": [
    "df3 = df2.copy()"
   ]
  },
  {
   "cell_type": "markdown",
   "id": "2a69264e",
   "metadata": {
    "jp-MarkdownHeadingCollapsed": true,
    "tags": []
   },
   "source": [
    "## 4 - EXPLORATORY DATA ANALYSIS (EDA)"
   ]
  },
  {
   "cell_type": "code",
   "execution_count": null,
   "id": "289d64ea",
   "metadata": {
    "ExecuteTime": {
     "end_time": "2024-04-20T09:56:59.115429Z",
     "start_time": "2024-04-20T09:56:59.091993Z"
    }
   },
   "outputs": [],
   "source": [
    "df4 = df3.copy()"
   ]
  },
  {
   "cell_type": "code",
   "execution_count": null,
   "id": "b4775122",
   "metadata": {
    "ExecuteTime": {
     "end_time": "2024-04-20T09:56:59.451317Z",
     "start_time": "2024-04-20T09:56:59.432138Z"
    }
   },
   "outputs": [],
   "source": [
    "cat_attributes.columns"
   ]
  },
  {
   "cell_type": "markdown",
   "id": "1056e2c3",
   "metadata": {},
   "source": [
    "### 4.1 - UNIVARIATE AND BIVARIATE ANALYSIS"
   ]
  },
  {
   "cell_type": "markdown",
   "id": "7247f3f2",
   "metadata": {},
   "source": [
    "#### 4.1.1 -  Num. Feature: region_code"
   ]
  },
  {
   "cell_type": "markdown",
   "id": "c54c2772",
   "metadata": {},
   "source": [
    "**region_code** : is a unique code for the region of the customer.\n",
    "\n",
    "Analysing the charts, some regions stands out than others in volum of customers, what could be used as an insight for future projects;\n",
    "\n",
    "The top 5 region_code with high volum of customers are:\n",
    "1. region code 28: 60000 customers approximately;\n",
    "2. region code 8: 20000 customers approximately;\n",
    "3. region code 46: 11000 customers approximately.\n",
    "4. region code 41: 11000 customers approximately.\n",
    "5. region code 15: 8000 customers approximately.\n",
    "\n",
    "Almost 40% of the customers are from these 5 regions. This could be a valuable data for the company."
   ]
  },
  {
   "cell_type": "markdown",
   "id": "e3e16add",
   "metadata": {},
   "source": [
    "**There is too much data**, I will divide in two charts."
   ]
  },
  {
   "cell_type": "code",
   "execution_count": null,
   "id": "9c6f112c",
   "metadata": {
    "ExecuteTime": {
     "end_time": "2024-04-20T09:57:15.267857Z",
     "start_time": "2024-04-20T09:57:14.305861Z"
    },
    "hide_input": true
   },
   "outputs": [],
   "source": [
    "###### DATA FILTERING #####\n",
    "df_rc26 = df4[df4['region_code'] <= 26]\n",
    "\n",
    "##### CHART CREATION #####\n",
    "fig, ax = plt.subplots(figsize=(10,5)) # Define the figure and axis for the graph\n",
    "\n",
    "sns.histplot(data=df_rc26, x='region_code', kde=True, hue='response', ax=ax) # creating the graph\n",
    "\n",
    "##### SETTING THE AXIS X LABELS ( TO APPEAR AL NUMBERS) #####\n",
    "\n",
    "# Obtaining the values for 'region_code'\n",
    "unique_region_codes = sorted(df_rc26['region_code'].unique())\n",
    "\n",
    "# Setting unique values as ticks do eixo x\n",
    "plt.xticks(ticks=unique_region_codes)\n",
    "\n",
    "##### HIDE ELEMENTS #####\n",
    "# Hide only the vertical grid lines\n",
    "ax.grid(axis='x', linestyle='None') # Hide only the vertical grid line\n",
    "ax.set_xlabel(None) # Hide x label\n",
    "ax.set_ylabel(None) # Hide y label\n",
    "\n",
    "##### ADD A PERSONALIZED LEGEND #####\n",
    "\n",
    "# Define explicit labels for the legend\n",
    "legend_labels = ['Not Interested', 'Interested']\n",
    "\n",
    "# Move the legend below the plot\n",
    "ax.legend(labels=legend_labels, loc='upper center', bbox_to_anchor=(0.5, -0.15), fancybox=True, shadow=True, ncol=2)\n",
    "\n",
    "##### TITLE #####\n",
    "# Calculate the midpoint of the x-axis\n",
    "x_midpoint = (ax.get_xlim()[0] + ax.get_xlim()[1]) / 2 # Calculate the midpoint of the y-axis\n",
    "y_top = (ax.get_ylim()[0] + ax.get_ylim()[1]) + 1000 # Add the title at the top of the axes\n",
    "\n",
    "ax.text(x_midpoint, y_top, s='Histogram of the Region Code from 0 to 26', fontsize=15, color='#8C908F', weight='bold', ha='center', va='top')\n",
    "\n",
    "# PLOT\n",
    "plt.tight_layout()\n",
    "plt.show()"
   ]
  },
  {
   "cell_type": "code",
   "execution_count": null,
   "id": "4dfc310e",
   "metadata": {
    "ExecuteTime": {
     "end_time": "2024-04-20T10:06:51.470354Z",
     "start_time": "2024-04-20T10:06:50.467065Z"
    },
    "hide_input": true
   },
   "outputs": [],
   "source": [
    "###### DATA FILTERING #####\n",
    "df_rc52 = df4[df4['region_code'] > 26]\n",
    "\n",
    "##### CHART CREATION #####\n",
    "fig, ax = plt.subplots(figsize=(10, 5)) # Define the figure and axis for the graph\n",
    "\n",
    "sns.histplot(data=df_rc52, x='region_code', kde=True, hue='response', ax=ax) # creating the graph\n",
    "\n",
    "##### SETTING THE AXIS X LABELS ( TO APPEAR AL NUMBERS) #####\n",
    "\n",
    "# Obtaining the values for 'region_code'\n",
    "unique_region_codes = sorted(df_rc52['region_code'].unique())\n",
    "\n",
    "# Setting unique values as ticks do eixo x\n",
    "plt.xticks(ticks=unique_region_codes)\n",
    "\n",
    "##### HIDE ELEMENTS #####\n",
    "# Hide only the vertical grid lines\n",
    "ax.grid(axis='x', linestyle='None') # Hide only the vertical grid line\n",
    "ax.set_xlabel(None) # Hide x label\n",
    "ax.set_ylabel(None) # Hide y label\n",
    "\n",
    "##### ADD A PERSONALIZED LEGEND #####\n",
    "\n",
    "# Define explicit labels for the legend\n",
    "legend_labels = ['Not Interested', 'Interested']\n",
    "\n",
    "# Move the legend below the plot\n",
    "ax.legend(labels=legend_labels, loc='upper center', bbox_to_anchor=(0.5, -0.15), fancybox=True, shadow=True, ncol=2)\n",
    "\n",
    "##### TITLE #####\n",
    "# Calculate the midpoint of the x-axis\n",
    "x_midpoint = (ax.get_xlim()[0] + ax.get_xlim()[1]) / 2 # Calculate the midpoint of the y-axis\n",
    "y_top = (ax.get_ylim()[0] + ax.get_ylim()[1]) + 1000   # Add the title at the top of the axes\n",
    "\n",
    "ax.text(x_midpoint, y_top, s='Histogram of the Region Code from 26 to 52', fontsize=15, color='#8C908F', weight='bold', ha='center', va='top')\n",
    "\n",
    "# PLOT\n",
    "plt.tight_layout()\n",
    "plt.show()"
   ]
  },
  {
   "cell_type": "markdown",
   "id": "9df4aed6",
   "metadata": {
    "hide_input": true
   },
   "source": [
    "#### 4.1.2 - Num. Feature: policy_sales_channel"
   ]
  },
  {
   "cell_type": "markdown",
   "id": "26a424f7",
   "metadata": {},
   "source": [
    "**policy sales channel**: Anonymized Code for the channel of outreaching to the customer ie. Different Agents, Over Mail, Over Phone, In Person, etc.\n",
    "\n",
    "Taking a look into the charts for this feature, it is possible to identify that some channel stand out from the others. The top 5 channel with a high volum of customers are:\n",
    "\n",
    "1. policy sales channel 152: 80000 customers approximatelly.\n",
    "2. policy sales channel 26: 50000 customers approximatelly.\n",
    "3. policy sales channel 124: 44000 customers approximatelly.\n",
    "4. policy sales channel 160: 13000 customers approximatelly.\n",
    "5. policy sales channel 156: 6500 customers approximatelly.\n",
    "\n",
    "\n",
    "More than 70% of the customers are from these 5 channel, and approximately 75% of the interested customers are within these channel. This is also a valuable information for the company, where they can analyse if it is necessary to have a range of more than 160 ways to contact customers when 5 of them hold the high volum of customers."
   ]
  },
  {
   "cell_type": "markdown",
   "id": "9fd8d784",
   "metadata": {},
   "source": [
    "**There are also too much data**, my approach will be same as above, I will divide the content in eight graphs."
   ]
  },
  {
   "cell_type": "code",
   "execution_count": null,
   "id": "f6e051e8",
   "metadata": {
    "ExecuteTime": {
     "end_time": "2024-04-20T10:07:01.828795Z",
     "start_time": "2024-04-20T10:07:01.340464Z"
    },
    "hide_input": true
   },
   "outputs": [],
   "source": [
    "###### DATA FILTERING #####\n",
    "df_psc20 = df4[df4['policy_sales_channel'] <= 20]\n",
    "\n",
    "##### CHART CREATION #####\n",
    "fig, ax = plt.subplots(figsize=(10, 5)) # Define the figure and axis for the graph\n",
    "\n",
    "sns.histplot(data=df_psc20, x='policy_sales_channel', kde=True, hue='response', ax=ax) # creating the graph\n",
    "\n",
    "##### SETTING THE AXIS X LABELS ( TO APPEAR AL NUMBERS) #####\n",
    "\n",
    "# Obtaining the values for 'region_code'\n",
    "unique_psc = sorted(df_psc20['policy_sales_channel'].unique())\n",
    "\n",
    "# Setting unique values as ticks do eixo x\n",
    "plt.xticks(ticks=unique_psc)\n",
    "\n",
    "##### HIDE ELEMENTS #####\n",
    "# Hide only the vertical grid lines\n",
    "ax.grid(axis='x', linestyle='None') # Hide only the vertical grid line\n",
    "ax.set_xlabel(None) # Hide x label\n",
    "ax.set_ylabel(None) # Hide y label\n",
    "\n",
    "##### ADD A PERSONALIZED LEGEND #####\n",
    "\n",
    "# Define explicit labels for the legend\n",
    "legend_labels = ['Not Interested', 'Interested']\n",
    "\n",
    "# Move the legend below the plot\n",
    "ax.legend(labels=legend_labels, loc='upper center', bbox_to_anchor=(0.5, -0.15), fancybox=True, shadow=True, ncol=2)\n",
    "\n",
    "##### TITLE #####\n",
    "# Calculate the midpoint of the x-axis\n",
    "x_midpoint = (ax.get_xlim()[0] + ax.get_xlim()[1]) / 2 # Calculate the midpoint of the y-axis\n",
    "y_top = (ax.get_ylim()[0] + ax.get_ylim()[1]) + 100 # Add the title at the top of the axes\n",
    "\n",
    "ax.text(x_midpoint, y_top, s='Policy Sales Channel from 0 to 20', fontsize=15, color='#8C908F', weight='bold', ha='center', va='top')\n",
    "\n",
    "# PLOT\n",
    "plt.tight_layout()\n",
    "plt.show()"
   ]
  },
  {
   "cell_type": "code",
   "execution_count": null,
   "id": "81853ed2",
   "metadata": {
    "ExecuteTime": {
     "end_time": "2024-04-20T10:07:07.975874Z",
     "start_time": "2024-04-20T10:07:07.065603Z"
    },
    "hide_input": true
   },
   "outputs": [],
   "source": [
    "###### DATA FILTERING #####\n",
    "df_psc40 = df4[ (df4['policy_sales_channel'] > 20) & (df4['policy_sales_channel'] <= 40)]\n",
    "\n",
    "##### CHART CREATION #####\n",
    "fig, ax = plt.subplots(figsize=(10, 5)) # Define the figure and axis for the graph\n",
    "\n",
    "sns.histplot(data=df_psc40, x='policy_sales_channel', kde=True, hue='response', ax=ax) # creating the graph\n",
    "\n",
    "##### SETTING THE AXIS X LABELS ( TO APPEAR AL NUMBERS) #####\n",
    "\n",
    "# Obtaining the values for 'region_code'\n",
    "unique_psc = sorted(df_psc40['policy_sales_channel'].unique())\n",
    "\n",
    "# Setting unique values as ticks do eixo x\n",
    "plt.xticks(ticks=unique_psc)\n",
    "\n",
    "##### HIDE ELEMENTS #####\n",
    "# Hide only the vertical grid lines\n",
    "ax.grid(axis='x', linestyle='None') # Hide only the vertical grid line\n",
    "ax.set_xlabel(None) # Hide x label\n",
    "ax.set_ylabel(None) # Hide y label\n",
    "\n",
    "##### ADD A PERSONALIZED LEGEND #####\n",
    "\n",
    "# Define explicit labels for the legend\n",
    "legend_labels = ['Not Interested', 'Interested']\n",
    "\n",
    "# Move the legend below the plot\n",
    "ax.legend(labels=legend_labels, loc='upper center', bbox_to_anchor=(0.5, -0.15), fancybox=True, shadow=True, ncol=2)\n",
    "\n",
    "##### TITLE #####\n",
    "# Calculate the midpoint of the x-axis\n",
    "x_midpoint = (ax.get_xlim()[0] + ax.get_xlim()[1]) / 2 # Calculate the midpoint of the y-axis\n",
    "y_top = (ax.get_ylim()[0] + ax.get_ylim()[1]) + 3000   # Add the title at the top of the axes\n",
    "\n",
    "ax.text(x_midpoint, y_top, s='Policy Sales Channel from 20 to 40', fontsize=15, color='#8C908F', weight='bold', ha='center', va='top')\n",
    "\n",
    "# PLOT\n",
    "plt.tight_layout()\n",
    "plt.show()"
   ]
  },
  {
   "cell_type": "code",
   "execution_count": null,
   "id": "cf951cc9",
   "metadata": {
    "ExecuteTime": {
     "end_time": "2024-04-20T10:07:09.502030Z",
     "start_time": "2024-04-20T10:07:08.984592Z"
    },
    "hide_input": true
   },
   "outputs": [],
   "source": [
    "##### DATA FILTERING #####\n",
    "df_psc60 = df4[ (df4['policy_sales_channel'] > 40) & (df4['policy_sales_channel'] <= 60)]\n",
    "\n",
    "##### CHART CREATION #####\n",
    "fig, ax = plt.subplots(figsize=(10, 5)) # Define the figure and axis for the graph\n",
    "\n",
    "sns.histplot(data=df_psc60, x='policy_sales_channel', kde=True, hue='response', ax=ax) # creating the graph\n",
    "\n",
    "##### SETTING THE AXIS X LABELS ( TO APPEAR AL NUMBERS) #####\n",
    "\n",
    "# Obtaining the values for 'region_code'\n",
    "unique_psc = sorted(df_psc60['policy_sales_channel'].unique())\n",
    "\n",
    "# Setting unique values as ticks do eixo x\n",
    "plt.xticks(ticks=unique_psc)\n",
    "\n",
    "##### HIDE ELEMENTS #####\n",
    "# Hide only the vertical grid lines\n",
    "ax.grid(axis='x', linestyle='None') # Hide only the vertical grid line\n",
    "ax.set_xlabel(None) # Hide x label\n",
    "ax.set_ylabel(None) # Hide y label\n",
    "\n",
    "##### ADD A PERSONALIZED LEGEND #####\n",
    "\n",
    "# Define explicit labels for the legend\n",
    "legend_labels = ['Not Interested', 'Interested']\n",
    "\n",
    "# Move the legend below the plot\n",
    "ax.legend(labels=legend_labels, loc='upper center', bbox_to_anchor=(0.5, -0.15), fancybox=True, shadow=True, ncol=2)\n",
    "\n",
    "##### TITLE #####\n",
    "# Calculate the midpoint of the x-axis\n",
    "x_midpoint = (ax.get_xlim()[0] + ax.get_xlim()[1]) / 2 # Calculate the midpoint of the y-axis\n",
    "y_top = (ax.get_ylim()[0] + ax.get_ylim()[1]) + 50     # Add the title at the top of the axes\n",
    "\n",
    "ax.text(x_midpoint, y_top, s='Policy Sales Channel from 40 to 60', fontsize=15, color='#8C908F', weight='bold', ha='center', va='top')\n",
    "\n",
    "# PLOT\n",
    "plt.tight_layout()\n",
    "plt.show()"
   ]
  },
  {
   "cell_type": "code",
   "execution_count": null,
   "id": "c710ed71",
   "metadata": {
    "ExecuteTime": {
     "end_time": "2024-04-20T10:07:17.285728Z",
     "start_time": "2024-04-20T10:07:16.848241Z"
    },
    "hide_input": true
   },
   "outputs": [],
   "source": [
    "##### DATA FILTERING #####\n",
    "df_psc80 = df4[ (df4['policy_sales_channel'] > 60) & (df4['policy_sales_channel'] <= 80)]\n",
    "\n",
    "##### CHART CREATION #####\n",
    "fig, ax = plt.subplots(figsize=(10, 5)) # Define the figure and axis for the graph\n",
    "\n",
    "sns.histplot(data=df_psc80, x='policy_sales_channel', kde=True, hue='response', ax=ax) # creating the graph\n",
    "\n",
    "##### SETTING THE AXIS X LABELS ( TO APPEAR AL NUMBERS) #####\n",
    "\n",
    "# Obtaining the values for 'region_code'\n",
    "unique_psc = sorted(df_psc80['policy_sales_channel'].unique())\n",
    "\n",
    "# Setting unique values as ticks do eixo x\n",
    "plt.xticks(ticks=unique_psc)\n",
    "\n",
    "##### HIDE ELEMENTS #####\n",
    "# Hide only the vertical grid lines\n",
    "ax.grid(axis='x', linestyle='None') # Hide only the vertical grid line\n",
    "ax.set_xlabel(None) # Hide x label\n",
    "ax.set_ylabel(None) # Hide y label\n",
    "\n",
    "##### ADD A PERSONALIZED LEGEND #####\n",
    "\n",
    "# Define explicit labels for the legend\n",
    "legend_labels = ['Not Interested', 'Interested']\n",
    "\n",
    "# Move the legend below the plot\n",
    "ax.legend(labels=legend_labels, loc='upper center', bbox_to_anchor=(0.5, -0.15), fancybox=True, shadow=True, ncol=2)\n",
    "\n",
    "##### TITLE #####\n",
    "# Calculate the midpoint of the x-axis\n",
    "x_midpoint = (ax.get_xlim()[0] + ax.get_xlim()[1]) / 2 # Calculate the midpoint of the y-axis\n",
    "y_top = (ax.get_ylim()[0] + ax.get_ylim()[1]) + 5 # Add the title at the top of the axes\n",
    "\n",
    "ax.text(x_midpoint, y_top, s='Policy Sales Channel from 80 to 100', fontsize=15, color='#8C908F', weight='bold', ha='center', va='top')\n",
    "\n",
    "# PLOT\n",
    "plt.tight_layout()\n",
    "plt.show()"
   ]
  },
  {
   "cell_type": "code",
   "execution_count": null,
   "id": "8ed43c6f",
   "metadata": {
    "ExecuteTime": {
     "end_time": "2024-04-20T10:07:20.813527Z",
     "start_time": "2024-04-20T10:07:20.355591Z"
    },
    "hide_input": true
   },
   "outputs": [],
   "source": [
    "##### DATA FILTERING #####\n",
    "df_psc100 = df4[ (df4['policy_sales_channel'] > 80) & (df4['policy_sales_channel'] <= 100)]\n",
    "\n",
    "##### CHART CREATION #####\n",
    "fig, ax = plt.subplots(figsize=(10, 5)) # Define the figure and axis for the graph\n",
    "\n",
    "sns.histplot(data=df_psc100, x='policy_sales_channel', kde=True, hue='response', ax=ax) # creating the graph\n",
    "\n",
    "##### SETTING THE AXIS X LABELS ( TO APPEAR AL NUMBERS) #####\n",
    "\n",
    "# Obtaining the values for 'region_code'\n",
    "unique_psc = sorted(df_psc100['policy_sales_channel'].unique())\n",
    "\n",
    "# Setting unique values as ticks do eixo x\n",
    "plt.xticks(ticks=unique_psc)\n",
    "\n",
    "##### HIDE ELEMENTS #####\n",
    "# Hide only the vertical grid lines\n",
    "ax.grid(axis='x', linestyle='None') # Hide only the vertical grid line\n",
    "\n",
    "ax.set_xlabel(None) # Hide x label\n",
    "ax.set_ylabel(None) # Hide y label\n",
    "\n",
    "##### ADD A PERSONALIZED LEGEND #####\n",
    "\n",
    "# Define explicit labels for the legend\n",
    "legend_labels = ['Not Interested', 'Interested']\n",
    "\n",
    "# Move the legend below the plot\n",
    "ax.legend(labels=legend_labels, loc='upper center', bbox_to_anchor=(0.5, -0.15), fancybox=True, shadow=True, ncol=2)\n",
    "\n",
    "##### TITLE #####\n",
    "# Calculate the midpoint of the x-axis\n",
    "x_midpoint = (ax.get_xlim()[0] + ax.get_xlim()[1]) / 2 # Calculate the midpoint of the y-axis\n",
    "y_top = (ax.get_ylim()[0] + ax.get_ylim()[1]) + 5 # Add the title at the top of the axes\n",
    "\n",
    "ax.text(x_midpoint, y_top, s='Policy Sales Channel from 80 to 100', fontsize=15, color='#8C908F', weight='bold', ha='center', va='top')\n",
    "\n",
    "# PLOT\n",
    "plt.tight_layout()\n",
    "plt.show()"
   ]
  },
  {
   "cell_type": "code",
   "execution_count": null,
   "id": "aa3179c2",
   "metadata": {
    "ExecuteTime": {
     "end_time": "2024-04-20T10:07:23.901256Z",
     "start_time": "2024-04-20T10:07:23.457013Z"
    },
    "hide_input": true
   },
   "outputs": [],
   "source": [
    "##### DATA FILTERING #####\n",
    "df_psc120 = df4[ (df4['policy_sales_channel'] > 100) & (df4['policy_sales_channel'] <= 120)]\n",
    "\n",
    "##### CHART CREATION #####\n",
    "fig, ax = plt.subplots(figsize=(10, 5)) # Define the figure and axis for the graph\n",
    "\n",
    "sns.histplot(data=df_psc120, x='policy_sales_channel', kde=True, hue='response', ax=ax) # creating the graph\n",
    "\n",
    "##### SETTING THE AXIS X LABELS ( TO APPEAR AL NUMBERS) #####\n",
    "\n",
    "# Obtaining the values for 'region_code'\n",
    "unique_psc = sorted(df_psc120['policy_sales_channel'].unique())\n",
    "\n",
    "# Setting unique values as ticks do eixo x\n",
    "plt.xticks(ticks=unique_psc)\n",
    "\n",
    "##### HIDE ELEMENTS #####\n",
    "# Hide only the vertical grid lines\n",
    "ax.grid(axis='x', linestyle='None') # Hide only the vertical grid line\n",
    "ax.set_xlabel(None) # Hide x label\n",
    "ax.set_ylabel(None) # Hide y label\n",
    "\n",
    "##### ADD A PERSONALIZED LEGEND #####\n",
    "\n",
    "# Define explicit labels for the legend\n",
    "legend_labels = ['Not Interested', 'Interested']\n",
    "\n",
    "# Move the legend below the plot\n",
    "ax.legend(labels=legend_labels, loc='upper center', bbox_to_anchor=(0.5, -0.15), fancybox=True, shadow=True, ncol=2)\n",
    "\n",
    "##### TITLE #####\n",
    "# Calculate the midpoint of the x-axis\n",
    "x_midpoint = (ax.get_xlim()[0] + ax.get_xlim()[1]) / 2 # Calculate the midpoint of the y-axis\n",
    "y_top = (ax.get_ylim()[0] + ax.get_ylim()[1]) + 100 # Add the title at the top of the axes\n",
    "\n",
    "ax.text(x_midpoint, y_top, s='Policy Sales Channel from 100 to 120', fontsize=15, color='#8C908F', weight='bold', ha='center', va='top')\n",
    "\n",
    "# PLOT\n",
    "plt.tight_layout()\n",
    "plt.show()"
   ]
  },
  {
   "cell_type": "code",
   "execution_count": null,
   "id": "3d143520",
   "metadata": {
    "ExecuteTime": {
     "end_time": "2024-04-20T10:07:28.091233Z",
     "start_time": "2024-04-20T10:07:27.194665Z"
    },
    "hide_input": true
   },
   "outputs": [],
   "source": [
    "##### DATA FILTERING #####\n",
    "df_psc140 = df4[ (df4['policy_sales_channel'] > 120) & (df4['policy_sales_channel'] <= 140)]\n",
    "\n",
    "##### CHART CREATION #####\n",
    "fig, ax = plt.subplots(figsize=(10, 5)) # Define the figure and axis for the graph\n",
    "\n",
    "sns.histplot(data=df_psc140, x='policy_sales_channel', kde=True, hue='response', ax=ax) # creating the graph\n",
    "\n",
    "##### SETTING THE AXIS X LABELS ( TO APPEAR AL NUMBERS) #####\n",
    "\n",
    "# Obtaining the values for 'region_code'\n",
    "unique_psc = sorted(df_psc140['policy_sales_channel'].unique())\n",
    "\n",
    "# Setting unique values as ticks do eixo x\n",
    "plt.xticks(ticks=unique_psc)\n",
    "\n",
    "##### HIDE ELEMENTS #####\n",
    "# Hide only the vertical grid lines\n",
    "ax.grid(axis='x', linestyle='None') # Hide only the vertical grid line\n",
    "ax.set_xlabel(None) # Hide x label\n",
    "ax.set_ylabel(None) # Hide y label\n",
    "\n",
    "##### ADD A PERSONALIZED LEGEND #####\n",
    "\n",
    "# Define explicit labels for the legend\n",
    "legend_labels = ['Not Interested', 'Interested']\n",
    "\n",
    "# Move the legend below the plot\n",
    "ax.legend(labels=legend_labels, loc='upper center', bbox_to_anchor=(0.5, -0.15), fancybox=True, shadow=True, ncol=2)\n",
    "\n",
    "##### TITLE #####\n",
    "# Calculate the midpoint of the x-axis\n",
    "x_midpoint = (ax.get_xlim()[0] + ax.get_xlim()[1]) / 2 # Calculate the midpoint of the y-axis\n",
    "y_top = (ax.get_ylim()[0] + ax.get_ylim()[1]) + 10 # Add the title at the top of the axes\n",
    "\n",
    "ax.text(x_midpoint, y_top, s='Policy Sales Channel from 120 to 140', fontsize=15, color='#8C908F', weight='bold', ha='center', va='top')\n",
    "\n",
    "# PLOT\n",
    "plt.tight_layout()\n",
    "plt.show()"
   ]
  },
  {
   "cell_type": "code",
   "execution_count": null,
   "id": "6e6c8edb",
   "metadata": {
    "ExecuteTime": {
     "end_time": "2024-04-20T10:07:32.179151Z",
     "start_time": "2024-04-20T10:07:30.908712Z"
    },
    "hide_input": true
   },
   "outputs": [],
   "source": [
    "##### DATA FILTERING #####\n",
    "df_psc160 = df4[ (df4['policy_sales_channel'] > 140) & (df4['policy_sales_channel'] <= 200)]\n",
    "\n",
    "##### CHART CREATION #####\n",
    "fig, ax = plt.subplots(figsize=(10, 5)) # Define the figure and axis for the graph\n",
    "\n",
    "sns.histplot(data=df_psc160, x='policy_sales_channel', kde=True, hue='response', ax=ax) # creating the graph\n",
    "\n",
    "##### SETTING THE AXIS X LABELS ( TO APPEAR AL NUMBERS) #####\n",
    "\n",
    "# Obtaining the values for 'region_code'\n",
    "unique_psc = sorted(df_psc160['policy_sales_channel'].unique())\n",
    "\n",
    "# Setting unique values as ticks do eixo x\n",
    "plt.xticks(ticks=unique_psc)\n",
    "\n",
    "##### HIDE ELEMENTS #####\n",
    "# Hide only the vertical grid lines\n",
    "ax.grid(axis='x', linestyle='None') # Hide only the vertical grid line\n",
    "ax.set_xlabel(None) # Hide x label\n",
    "ax.set_ylabel(None) # Hide y label\n",
    "\n",
    "##### ADD A PERSONALIZED LEGEND #####\n",
    "\n",
    "# Define explicit labels for the legend\n",
    "legend_labels = ['Not Interested', 'Interested']\n",
    "\n",
    "# Move the legend below the plot\n",
    "ax.legend(labels=legend_labels, loc='upper center', bbox_to_anchor=(0.5, -0.15), fancybox=True, shadow=True, ncol=2)\n",
    "\n",
    "##### TITLE #####\n",
    "# Calculate the midpoint of the x-axis\n",
    "x_midpoint = (ax.get_xlim()[0] + ax.get_xlim()[1]) / 2 # Calculate the midpoint of the y-axis\n",
    "y_top = (ax.get_ylim()[0] + ax.get_ylim()[1]) + 5000 # Add the title at the top of the axes\n",
    "\n",
    "ax.text(x_midpoint, y_top, s='Policy Sales Channel from 140 to 163', fontsize=15, color='#8C908F', weight='bold', ha='center', va='top')\n",
    "\n",
    "# PLOT\n",
    "plt.tight_layout()\n",
    "plt.show()"
   ]
  },
  {
   "cell_type": "markdown",
   "id": "7b2c44a0",
   "metadata": {},
   "source": [
    "#### 4.1.3 - Num. Feature: driving_license"
   ]
  },
  {
   "cell_type": "markdown",
   "id": "a0d5e557",
   "metadata": {
    "hide_input": true
   },
   "source": [
    "It is possible to identify that almost all clients have driving license. However there are a small number of customers that own a car but does not have driving license. The company could consider promotions or strategies to attract more customers with this profile."
   ]
  },
  {
   "cell_type": "code",
   "execution_count": null,
   "id": "18ffaec8",
   "metadata": {
    "ExecuteTime": {
     "end_time": "2024-04-20T10:07:38.475113Z",
     "start_time": "2024-04-20T10:07:38.243161Z"
    },
    "hide_input": false
   },
   "outputs": [],
   "source": [
    "##### DATA FILTERING #####\n",
    "df_dl = df4[['id','response','driving_license']].groupby(['driving_license','response']).count().reset_index()\n",
    "\n",
    "df_dl_0 = df_dl[df_dl['driving_license'] == 0 ]\n",
    "df_dl_1 = df_dl[df_dl['driving_license'] == 1 ]\n",
    "\n",
    "##### AXIS X LABEL DEFINITION #####\n",
    "label = ['Not Interested','Interested']\n",
    "\n",
    "##### CHART CREATION #####\n",
    "# Defining the figure and axis for the bar chart\n",
    "fig, (ax1, ax2) = plt.subplots(1, 2, figsize=(8, 3))\n",
    "\n",
    "# Defining a vetor for each element \n",
    "x = np.array(range(1, df_dl_0.shape[0]+1))\n",
    "\n",
    "# Plot the bars\n",
    "wb = 0.20 # set the width of the bars\n",
    "\n",
    "# Plotting bars with orange color for the first bar in each subplot\n",
    "ydl = ax1.bar(x=x, height='id', data=df_dl_1, width=wb, label='With Driving License', color=['#82B1FF'] + ['#FF9100']*(len(x)-1))\n",
    "ndl = ax2.bar(x=x, height='id', data=df_dl_0, width=wb, label='No Drivign License', color=['#82B1FF'] + ['#FF9100']*(len(x)-1))\n",
    "\n",
    "##### HIDE ELEMENTS OF CHART #####\n",
    "\n",
    "# HIDE GRID\n",
    "ax1.grid(False) # hiding the grid\n",
    "ax2.grid(False) # hiding the grid\n",
    "\n",
    "# HIDE Y AXIS IN BOTH\n",
    "ax1.tick_params(axis='y', which='both', left=False, right=False, labelleft=False)\n",
    "ax2.tick_params(axis='y', which='both', left=False, right=False, labelleft=False)#\n",
    "\n",
    "\n",
    "# ##### ADD & EDITING TEXT ELEMENTS #####\n",
    "\n",
    "# # Labels of the axis X\n",
    "\n",
    "ax1.set_xticks(x)\n",
    "ax1.set_xticklabels(label, fontsize=12, color='#656A69');\n",
    "\n",
    "ax2.set_xticks(x)\n",
    "ax2.set_xticklabels(label, fontsize=12, color='#656A69');\n",
    "\n",
    "# Title\n",
    "# Add titles using plt.text()\n",
    "plt.text(x=0.5, y=1.15, s='With Driving License', fontsize=14, color='black', ha='center', transform=ax1.transAxes);\n",
    "plt.text(x=0.5, y=1.15, s='No Driving License', fontsize=14, color='black', ha='center', transform=ax2.transAxes);\n",
    "\n",
    "# Add labels for each bar in the second subplot\n",
    "for bar in ndl:\n",
    "    height = bar.get_height()\n",
    "    ax2.annotate('{}'.format(height),\n",
    "                xy=(bar.get_x() + bar.get_width() / 2, height),\n",
    "                xytext=(0, 3),  # 3 points vertical offset\n",
    "                textcoords=\"offset points\",\n",
    "                ha='center', va='bottom',\n",
    "                fontsize=10, color='black')\n",
    "for bar in ydl:\n",
    "    height = bar.get_height()\n",
    "    ax1.annotate('{}'.format(height),\n",
    "                xy=(bar.get_x() + bar.get_width() / 2, height),\n",
    "                xytext=(0, 3),  # 3 points vertical offset\n",
    "                textcoords=\"offset points\",\n",
    "                ha='center', va='bottom',\n",
    "                fontsize=10, color='black')\n",
    "\n",
    "fig.tight_layout()\n",
    "plt.show()"
   ]
  },
  {
   "cell_type": "markdown",
   "id": "b7260097",
   "metadata": {
    "hide_input": true
   },
   "source": [
    "#### 4.1.4 - Num.  Feature: previously_insured"
   ]
  },
  {
   "cell_type": "markdown",
   "id": "05b52b3e",
   "metadata": {},
   "source": [
    "The largest volume of customers had been insured, however the ones that had not been insured before shows an greater interest in buying the new product. Another insight where the company can adopt strategies or promotions to attract more customers with both profiles."
   ]
  },
  {
   "cell_type": "code",
   "execution_count": null,
   "id": "ab6e4836",
   "metadata": {
    "ExecuteTime": {
     "end_time": "2024-04-20T10:07:40.779077Z",
     "start_time": "2024-04-20T10:07:40.260089Z"
    },
    "hide_input": false
   },
   "outputs": [],
   "source": [
    "##### DATA FILTERING #####\n",
    "df_pi = df4[['id','previously_insured','response']].groupby(['previously_insured','response']).count().reset_index()\n",
    "\n",
    "df_pi_0 = df_pi[df_pi['previously_insured'] == 0 ]\n",
    "df_pi_1 = df_pi[df_pi['previously_insured'] == 1 ]\n",
    "\n",
    "##### AXIS X LABEL DEFINITION #####\n",
    "label = ['Not Interested','Interested']\n",
    "\n",
    "##### CHART CREATION #####\n",
    "# Defining the figure and axis for the bar chart\n",
    "fig, (ax1, ax2) = plt.subplots(1, 2, figsize=(8, 3))\n",
    "\n",
    "# Defining a vetor for each element \n",
    "x = np.array(range(1, df_pi_0.shape[0]+1))\n",
    "\n",
    "# Plot the bars\n",
    "wb = 0.20 # set the width of the bars\n",
    "\n",
    "# Plotting bars with orange color for the first bar in each subplot\n",
    "ypi = ax1.bar(x=x, height='id', data=df_pi_1, width=wb, label='Previously Insured', color=['#82B1FF'] + ['#FF9100']*(len(x)-1))\n",
    "npi = ax2.bar(x=x, height='id', data=df_pi_0, width=wb, label='Not Insured', color=['#82B1FF'] + ['#FF9100']*(len(x)-1))\n",
    "\n",
    "##### HIDE ELEMENTS OF CHART #####\n",
    "\n",
    "# HIDE GRID\n",
    "ax1.grid(False) # hiding the grid\n",
    "ax2.grid(False) # hiding the grid\n",
    "\n",
    "# HIDE Y AXIS IN BOTH\n",
    "ax1.tick_params(axis='y', which='both', left=False, right=False, labelleft=False)\n",
    "ax2.tick_params(axis='y', which='both', left=False, right=False, labelleft=False)#\n",
    "\n",
    "\n",
    "# ##### ADD & EDITING TEXT ELEMENTS #####\n",
    "\n",
    "# # Labels of the axis X\n",
    "\n",
    "ax1.set_xticks(x)\n",
    "ax1.set_xticklabels(label, fontsize=12, color='#656A69');\n",
    "\n",
    "ax2.set_xticks(x)\n",
    "ax2.set_xticklabels(label, fontsize=12, color='#656A69');\n",
    "\n",
    "# Title\n",
    "# Add titles using plt.text()\n",
    "plt.text(x=0.5, y=1.15, s='Previously Insured', fontsize=14, color='black', ha='center', transform=ax1.transAxes);\n",
    "plt.text(x=0.5, y=1.15, s='Not Insured', fontsize=14, color='black', ha='center', transform=ax2.transAxes);\n",
    "\n",
    "# Add labels for each bar in the second subplot\n",
    "for bar in npi:\n",
    "    height = bar.get_height()\n",
    "    ax2.annotate('{}'.format(height),\n",
    "                xy=(bar.get_x() + bar.get_width() / 2, height),\n",
    "                xytext=(0, 3),  # 3 points vertical offset\n",
    "                textcoords=\"offset points\",\n",
    "                ha='center', va='bottom',\n",
    "                fontsize=10, color='black')\n",
    "for bar in ypi:\n",
    "    height = bar.get_height()\n",
    "    ax1.annotate('{}'.format(height),\n",
    "                xy=(bar.get_x() + bar.get_width() / 2, height),\n",
    "                xytext=(0, 3),  # 3 points vertical offset\n",
    "                textcoords=\"offset points\",\n",
    "                ha='center', va='bottom',\n",
    "                fontsize=10, color='black')\n",
    "\n",
    "fig.tight_layout()\n",
    "plt.show()"
   ]
  },
  {
   "cell_type": "markdown",
   "id": "0b9f9234",
   "metadata": {},
   "source": [
    "#### 4.1.5 - Num. Feature: vintage"
   ]
  },
  {
   "cell_type": "markdown",
   "id": "6034c496",
   "metadata": {},
   "source": [
    "I can't see much relevant information on this chart, the only thing is kind of a pattern on the dates and volum of customers that the company absorves."
   ]
  },
  {
   "cell_type": "code",
   "execution_count": null,
   "id": "417135b2",
   "metadata": {
    "ExecuteTime": {
     "end_time": "2024-04-20T10:07:41.846875Z",
     "start_time": "2024-04-20T10:07:40.781775Z"
    },
    "hide_input": false
   },
   "outputs": [],
   "source": [
    "##### CHART CREATION #####\n",
    "# Defining the figure and axis for the bar chart\n",
    "fig, ax = plt.subplots(figsize=(10, 5))\n",
    "\n",
    "# Plotting the histogram\n",
    "sns.histplot(data=df4, x='vintage', kde=True, hue='response', bins=50, ax=ax)\n",
    "\n",
    "##### HIDE ELEMENTS OF CHART #####\n",
    "\n",
    "# HIDE GRID\n",
    "ax.grid(False) # Hide Grid\n",
    "\n",
    "plt.gca().axes.get_yaxis().set_visible(False) # Hide y axis\n",
    "\n",
    "# Remove the x-axis label\n",
    "ax.set_xlabel(None)\n",
    "\n",
    "##### TITLE #####\n",
    "x_midpoint = (ax.get_xlim()[0] + ax.get_xlim()[1]) / 2 # Calculate the midpoint of the y-axis\n",
    "y_top = (ax.get_ylim()[0] + ax.get_ylim()[1]) # Add the title at the top of the axes\n",
    "plt.text(x_midpoint, y_top, s='Number of Days within the Company (Vintage)', fontsize=15, color='Grey', ha='center')\n",
    "\n",
    "# Define explicit labels for the legend\n",
    "legend_labels = ['Not Interested', 'Interested']\n",
    "\n",
    "# Move the legend below the plot\n",
    "plt.legend(labels=legend_labels, loc='upper center', bbox_to_anchor=(0.5, -0.10), fancybox=True, shadow=True, ncol=2)\n",
    "\n",
    "plt.show()"
   ]
  },
  {
   "cell_type": "markdown",
   "id": "65b853bc",
   "metadata": {
    "ExecuteTime": {
     "end_time": "2024-04-11T20:20:42.371060Z",
     "start_time": "2024-04-11T20:20:42.357719Z"
    }
   },
   "source": [
    "#### 4.1.6 - Num. Feature: annual_premium"
   ]
  },
  {
   "cell_type": "code",
   "execution_count": null,
   "id": "df02740c",
   "metadata": {
    "ExecuteTime": {
     "end_time": "2024-04-20T10:07:41.886687Z",
     "start_time": "2024-04-20T10:07:41.851225Z"
    },
    "hide_input": false
   },
   "outputs": [],
   "source": [
    "# calculating the percentiles\n",
    "\n",
    "ap_0 = df4[df4['response'] == 0]\n",
    "ap_1 = df4[df4['response'] == 1]\n",
    "perc_0 = ap_0['annual_premium'].describe(percentiles=[.25, .5, .75]).loc[['25%', '50%', '75%']]\n",
    "perc_1 = ap_1['annual_premium'].describe(percentiles=[.25, .5, .75]).loc[['25%', '50%', '75%']]\n",
    "\n",
    "# Print percentile when customers are not interested\n",
    "print(f'The annual premium percentiles when the response is 0 are:\\n{perc_0}')\n",
    "\n",
    "# Print percentile when customer are interested\n",
    "print(f'The annual premium percentiles when the response is 1 are:\\n{perc_1}')"
   ]
  },
  {
   "cell_type": "code",
   "execution_count": null,
   "id": "049595f2",
   "metadata": {
    "ExecuteTime": {
     "end_time": "2024-04-20T10:07:42.095691Z",
     "start_time": "2024-04-20T10:07:41.888687Z"
    },
    "hide_input": false
   },
   "outputs": [],
   "source": [
    "##### CHART CREATIN #####\n",
    "fig, ax = plt.subplots(figsize=(10, 5))\n",
    "\n",
    "sns.boxplot(data=df4, x='response',y='annual_premium', ax=ax);\n",
    "\n",
    "#### HIDE ELEMENTS ####\n",
    "\n",
    "ax.grid(False) # Hide grid\n",
    "\n",
    "ax.set_ylabel(None) # Hide y label\n",
    "ax.set_xlabel(None) # Hide x label\n",
    "\n",
    "##### DESIGN #####\n",
    "\n",
    "plt.text(x=0.45, y=600000, s='Boxplot Annual Premium', fontsize=15, color='Grey', ha='center')\n",
    "\n",
    "label = ['Not Interested','Interested']\n",
    "ax.set_xticklabels(label, fontsize=15, color='#656A69');\n",
    "\n",
    "plt.show()"
   ]
  },
  {
   "cell_type": "code",
   "execution_count": null,
   "id": "a1b5e894",
   "metadata": {
    "ExecuteTime": {
     "end_time": "2024-04-20T10:07:45.072556Z",
     "start_time": "2024-04-20T10:07:42.098711Z"
    },
    "hide_input": false
   },
   "outputs": [],
   "source": [
    "##### CHART CREATION #####\n",
    "fig, ax = plt.subplots(figsize=(10, 5)) # Define the figure and axis for the graph\n",
    "\n",
    "sns.histplot(data=df4, x='annual_premium', kde=True, hue='response', bins=50, ax=ax); # creating the graph\n",
    "\n",
    "##### HIDE ELEMENTS #####\n",
    "# Hide only the vertical grid lines\n",
    "ax.grid(axis='x', linestyle='None') # Hide only the vertical grid line\n",
    "ax.set_ylabel(None) # Hide axis y label\n",
    "\n",
    "##### ADD A PERSONALIZED LEGEND #####\n",
    "\n",
    "# Define explicit labels for the legend\n",
    "legend_labels = ['Not Interested', 'Interested']\n",
    "\n",
    "# Move the legend below the plot\n",
    "ax.legend(labels=legend_labels, loc='upper center', bbox_to_anchor=(0.5, -0.20), fancybox=True, shadow=True, ncol=2)\n",
    "\n",
    "##### TITLE #####\n",
    "# Calculate the midpoint of the x-axis\n",
    "x_midpoint = (ax.get_xlim()[0] + ax.get_xlim()[1]) / 2 # Calculate the midpoint of the y-axis\n",
    "y_top = (ax.get_ylim()[0] + ax.get_ylim()[1]) + 5000 # Add the title at the top of the axes\n",
    "\n",
    "ax.text(x_midpoint, y_top, s='Histogram of Annual Prmeium', fontsize=15, color='#8C908F', weight='bold', ha='center', va='top')\n",
    "\n",
    "# PLOT\n",
    "plt.tight_layout()\n",
    "plt.show()"
   ]
  },
  {
   "cell_type": "markdown",
   "id": "4cf42f56",
   "metadata": {},
   "source": [
    "On the graphs above, we can identify that 75% of the customers spend up to an approximately value of 41.000 on insurance. And only a small group spend more than 100.000 on the product.\n",
    "\n",
    "And on the step 1.2.1 I have printed a table with a statistic summary and I realised an min. value of 2630 and an max of 540165.0, I will have a close look to these values.\n",
    "\n",
    "Through the percentils above, we can identify that 50% of the data are within the interval from 24.000 to 41.500. So I will have a look on the values below 24.000 and above the 41.000."
   ]
  },
  {
   "cell_type": "markdown",
   "id": "513e3f5a",
   "metadata": {},
   "source": [
    "#### Annual Premium below 24.000"
   ]
  },
  {
   "cell_type": "code",
   "execution_count": null,
   "id": "c9af18d1",
   "metadata": {
    "ExecuteTime": {
     "end_time": "2024-04-20T10:07:45.086710Z",
     "start_time": "2024-04-20T10:07:45.077095Z"
    },
    "hide_input": false
   },
   "outputs": [],
   "source": [
    "# FILTER FOR ANNUAL PREMIUM BELOW THAN 24.000\n",
    "aux_24k = df4[df4['annual_premium'] <= 24000]"
   ]
  },
  {
   "cell_type": "code",
   "execution_count": null,
   "id": "ae0d4056",
   "metadata": {
    "ExecuteTime": {
     "end_time": "2024-04-20T10:07:45.102037Z",
     "start_time": "2024-04-20T10:07:45.090655Z"
    },
    "hide_input": false
   },
   "outputs": [],
   "source": [
    "aux_24k['response'].value_counts()"
   ]
  },
  {
   "cell_type": "code",
   "execution_count": null,
   "id": "c95ad5fb",
   "metadata": {
    "ExecuteTime": {
     "end_time": "2024-04-20T10:07:45.118065Z",
     "start_time": "2024-04-20T10:07:45.105065Z"
    },
    "hide_input": false
   },
   "outputs": [],
   "source": [
    "aux_24k['annual_premium'].describe()"
   ]
  },
  {
   "cell_type": "code",
   "execution_count": null,
   "id": "31a8304c",
   "metadata": {
    "ExecuteTime": {
     "end_time": "2024-04-20T10:07:45.749314Z",
     "start_time": "2024-04-20T10:07:45.121064Z"
    },
    "hide_input": false
   },
   "outputs": [],
   "source": [
    "##### CHART CREATION #####\n",
    "fig, ax = plt.subplots(figsize=(10, 5)) # Define the figure and axis for the graph\n",
    "sns.histplot(data=aux_24k, x='annual_premium', kde=True, hue='response', bins=50, ax=ax); # creating the graph\n",
    "\n",
    "##### HIDE ELEMENTS #####\n",
    "# Hide only the vertical grid lines\n",
    "ax.grid(axis='x', linestyle='None') # Hide only the vertical grid line\n",
    "ax.set_ylabel(None) # Hide axis y label\n",
    "\n",
    "##### ADD A PERSONALIZED LEGEND #####\n",
    "\n",
    "# Define explicit labels for the legend\n",
    "legend_labels = ['Not Interested', 'Interested']\n",
    "\n",
    "# Move the legend below the plot\n",
    "ax.legend(labels=legend_labels, loc='upper center', bbox_to_anchor=(0.5, -0.15), fancybox=True, shadow=True, ncol=2)\n",
    "\n",
    "##### TITLE #####\n",
    "# Calculate the midpoint of the x-axis\n",
    "x_midpoint = (ax.get_xlim()[0] + ax.get_xlim()[1]) / 2 # Calculate the midpoint of the y-axis\n",
    "y_top = (ax.get_ylim()[0] + ax.get_ylim()[1]) + 2000 # Add the title at the top of the axes\n",
    "\n",
    "ax.text(x_midpoint, y_top, s='Histogram of Annual Prmeium below 24000', fontsize=15, color='#8C908F', weight='bold', ha='center', va='top')\n",
    "\n",
    "# PLOT\n",
    "plt.tight_layout()\n",
    "plt.show()"
   ]
  },
  {
   "cell_type": "markdown",
   "id": "70ff5a09",
   "metadata": {},
   "source": [
    "##### Observation\n",
    "1. There are 55158 records within the interval from 0 to 24.000; Analysing these data I have identified that 40.000 customers have paid the same amount for their life insurance. I will identify now which value is this and further on I will decide how to handle this."
   ]
  },
  {
   "cell_type": "code",
   "execution_count": null,
   "id": "126d85da",
   "metadata": {
    "ExecuteTime": {
     "end_time": "2024-04-20T10:07:45.763083Z",
     "start_time": "2024-04-20T10:07:45.752024Z"
    }
   },
   "outputs": [],
   "source": [
    "# Selecting data balow 5000\n",
    "aux_5000 = df4[df4['annual_premium'] <= 5000] "
   ]
  },
  {
   "cell_type": "code",
   "execution_count": null,
   "id": "3742c255",
   "metadata": {
    "ExecuteTime": {
     "end_time": "2024-04-20T10:07:45.785284Z",
     "start_time": "2024-04-20T10:07:45.764350Z"
    }
   },
   "outputs": [],
   "source": [
    "aux_5000['response'].value_counts()"
   ]
  },
  {
   "cell_type": "code",
   "execution_count": null,
   "id": "adce3494",
   "metadata": {
    "ExecuteTime": {
     "end_time": "2024-04-20T10:07:45.921155Z",
     "start_time": "2024-04-20T10:07:45.788387Z"
    },
    "hide_input": false
   },
   "outputs": [],
   "source": [
    "##### CHART CREATION #####\n",
    "\n",
    "# Defining the figure and axis for the bar chart\n",
    "fig, ax = plt.subplots(figsize=(7,3))\n",
    "\n",
    "# Plot the bar\n",
    "sns.countplot(aux_5000, x=\"annual_premium\", width=0.5, ax=ax)\n",
    "\n",
    "##### ADD LABELS WITH TOTAL VALUES #####\n",
    "for p in ax.patches:\n",
    "    ax.annotate(format(p.get_height(), '.0f'), (p.get_x() + p.get_width() / 2., p.get_height()), ha = 'center', va = 'center', xytext = (0, 10), textcoords = 'offset points')\n",
    "\n",
    "##### DESIGN #####\n",
    "\n",
    "##### HIDE ELEMENTS OF CHART #####\n",
    "ax.set_ylabel(None)\n",
    "ax.set_xlabel(None)\n",
    "#ax.grid(False) # hiding the grid\n",
    "\n",
    "# Title\n",
    "x_pos = (ax.get_xlim()[0] + ax.get_xlim()[1]) - 0.15 # Calculate the midpoint of the y-axis\n",
    "y_pos = (ax.get_ylim()[0] + ax.get_ylim()[1]) + 7000 # Calculate the midpoint of the y-axis\n",
    "\n",
    "plt.text(x_pos, y_pos, s='Annual Premium', fontsize=15, color='#8C908F', weight='bold' )\n",
    "\n",
    "plt.tight_layout()\n",
    "plt.show()"
   ]
  },
  {
   "cell_type": "markdown",
   "id": "45d2aef0",
   "metadata": {
    "ExecuteTime": {
     "end_time": "2024-04-15T20:51:17.971853Z",
     "start_time": "2024-04-15T20:51:17.959264Z"
    }
   },
   "source": [
    "I have identify 39109 records where these customers have spend the same amount of 2630 on their life insurance. This is a high volum of data and my approach will be:\n",
    "\n",
    "I will consider all these data and I will evaluate the machine learning model and afterwards, I will compare it's results with another version of the same algorithm, where I will evaluate it filtering these data."
   ]
  },
  {
   "cell_type": "markdown",
   "id": "a853371a",
   "metadata": {},
   "source": [
    "#### Now, let's have a look into the datas from 41.000"
   ]
  },
  {
   "cell_type": "code",
   "execution_count": null,
   "id": "a6ad64d4",
   "metadata": {
    "ExecuteTime": {
     "end_time": "2024-04-20T10:07:45.936491Z",
     "start_time": "2024-04-20T10:07:45.924155Z"
    }
   },
   "outputs": [],
   "source": [
    "aux_41k = df4[(df4['annual_premium'] >= 41000) & (df4['annual_premium'] <= 70000)] "
   ]
  },
  {
   "cell_type": "code",
   "execution_count": null,
   "id": "0538f699",
   "metadata": {
    "ExecuteTime": {
     "end_time": "2024-04-20T10:07:45.958199Z",
     "start_time": "2024-04-20T10:07:45.939527Z"
    }
   },
   "outputs": [],
   "source": [
    "aux_41k['response'].value_counts()"
   ]
  },
  {
   "cell_type": "code",
   "execution_count": null,
   "id": "faf09bd7",
   "metadata": {
    "ExecuteTime": {
     "end_time": "2024-04-20T10:07:45.976832Z",
     "start_time": "2024-04-20T10:07:45.963197Z"
    }
   },
   "outputs": [],
   "source": [
    "aux_41k['annual_premium'].describe()"
   ]
  },
  {
   "cell_type": "code",
   "execution_count": null,
   "id": "8e670c70",
   "metadata": {
    "ExecuteTime": {
     "end_time": "2024-04-20T10:07:46.166679Z",
     "start_time": "2024-04-20T10:07:45.979447Z"
    },
    "hide_input": false
   },
   "outputs": [],
   "source": [
    "##### CHART CREATION #####\n",
    "fig, ax = plt.subplots(figsize=(8, 5))\n",
    "sns.boxplot(data=aux_41k, x='response',y='annual_premium');\n",
    "\n",
    "#### HIDE ELEMENTS ####\n",
    "\n",
    "ax.grid(False) # Hide grid\n",
    "\n",
    "ax.set_ylabel(None) # Hide y label\n",
    "ax.set_xlabel(None) # Hide x label\n",
    "\n",
    "##### DESIGN #####\n",
    "\n",
    "plt.text(x=0.45, y=75000, s='Boxplot Annual Premium', fontsize=15, color='Grey', ha='center')\n",
    "\n",
    "label = ['Not Interested','Interested']\n",
    "ax.set_xticklabels(label, fontsize=15, color='#656A69');\n",
    "\n",
    "plt.tight_layout()\n",
    "plt.show()"
   ]
  },
  {
   "cell_type": "code",
   "execution_count": null,
   "id": "cff4a20d",
   "metadata": {
    "ExecuteTime": {
     "end_time": "2024-04-20T10:07:46.743902Z",
     "start_time": "2024-04-20T10:07:46.169679Z"
    }
   },
   "outputs": [],
   "source": [
    "##### CHART CREATION #####\n",
    "fig, ax = plt.subplots(figsize=(10, 5))\n",
    "\n",
    "sns.histplot(data=aux_41k, x='annual_premium', kde=True, hue='response', bins=50);\n",
    "\n",
    "#### DESIGN ####\n",
    "# HIDE ELEMENTS\n",
    "ax.grid(axis='x', linestyle='None') # Hide only the vertical grid line\n",
    "ax.set_xlabel(None) # Hide x label\n",
    "ax.set_ylabel(None) # Hide y label\n",
    "\n",
    "# ADD & EDITING TEXT ELEMENTS\n",
    "\n",
    "# LEGEND\n",
    "# Define explicit labels for the legend\n",
    "legend_labels = ['Not Interested', 'Interested']\n",
    "\n",
    "# Move the legend below the plot\n",
    "ax.legend(labels=legend_labels, loc='upper center', bbox_to_anchor=(0.5, -0.15), fancybox=True, shadow=True, ncol=2)\n",
    "\n",
    "# TITLE\n",
    "# Calculate the midpoint of the x-axis\n",
    "x_midpoint = (ax.get_xlim()[0] + ax.get_xlim()[1]) / 2 # Calculate the midpoint of the y-axis\n",
    "y_top = (ax.get_ylim()[0] + ax.get_ylim()[1]) # Add the title at the top of the axes\n",
    "\n",
    "plt.text(x_midpoint, y_top, s='Histogram of Annual Prmeium from 40.000 to 70.0000', fontsize=15, color='#8C908F', weight='bold', ha='center')\n",
    "\n",
    "plt.tight_layout()\n",
    "plt.show()"
   ]
  },
  {
   "cell_type": "markdown",
   "id": "945dc294",
   "metadata": {},
   "source": [
    "##### Observations:\n",
    "\n",
    "On this interval, the values and the data distribuition seems to be okay, nothing that attract my attendion due distortion os something; I will continue the analysis;"
   ]
  },
  {
   "cell_type": "markdown",
   "id": "98659360",
   "metadata": {
    "ExecuteTime": {
     "end_time": "2024-04-15T20:59:11.543427Z",
     "start_time": "2024-04-15T20:59:11.531681Z"
    }
   },
   "source": [
    "#### Annual Premium above 70000 below 150000"
   ]
  },
  {
   "cell_type": "code",
   "execution_count": null,
   "id": "842f59d7",
   "metadata": {
    "ExecuteTime": {
     "end_time": "2024-04-20T10:07:46.769970Z",
     "start_time": "2024-04-20T10:07:46.746447Z"
    }
   },
   "outputs": [],
   "source": [
    "aux_70k = df4[(df4['annual_premium'] >= 70000) & (df4['annual_premium'] <= 150000)] "
   ]
  },
  {
   "cell_type": "code",
   "execution_count": null,
   "id": "02ad6843",
   "metadata": {
    "ExecuteTime": {
     "end_time": "2024-04-20T10:07:46.787192Z",
     "start_time": "2024-04-20T10:07:46.771443Z"
    }
   },
   "outputs": [],
   "source": [
    "aux_70k['annual_premium'].describe()"
   ]
  },
  {
   "cell_type": "code",
   "execution_count": null,
   "id": "effbff5f",
   "metadata": {
    "ExecuteTime": {
     "end_time": "2024-04-20T10:07:46.956225Z",
     "start_time": "2024-04-20T10:07:46.788822Z"
    }
   },
   "outputs": [],
   "source": [
    "##### CHART CREATION #####\n",
    "fig, ax = plt.subplots(figsize=(8, 5))\n",
    "sns.boxplot(data=aux_70k, x='response',y='annual_premium');\n",
    "\n",
    "#### HIDE ELEMENTS ####\n",
    "\n",
    "ax.grid(False) # Hide grid\n",
    "\n",
    "ax.set_ylabel(None) # Hide y label\n",
    "ax.set_xlabel(None) # Hide x label\n",
    "\n",
    "##### DESIGN #####\n",
    "x_pos = (ax.get_xlim()[0] + ax.get_xlim()[1]) / 2 # Calculate the midpoint of the y-axis\n",
    "y_pos = (ax.get_ylim()[1])                        # Add the title at the top of the axes\n",
    "\n",
    "plt.text(x_pos, y_pos, s='Boxplot Annual Premium', fontsize=15, color='Grey', ha='center')\n",
    "\n",
    "label = ['Not Interested','Interested']\n",
    "ax.set_xticklabels(label, fontsize=15, color='#656A69');\n",
    "\n",
    "plt.tight_layout()\n",
    "plt.show()"
   ]
  },
  {
   "cell_type": "code",
   "execution_count": null,
   "id": "1c5e7828",
   "metadata": {
    "ExecuteTime": {
     "end_time": "2024-04-20T10:07:47.409186Z",
     "start_time": "2024-04-20T10:07:46.958824Z"
    }
   },
   "outputs": [],
   "source": [
    "##### CHART CREATION #####\n",
    "fig, ax = plt.subplots(figsize=(10, 5))\n",
    "sns.histplot(data=aux_70k, x='annual_premium', kde=True, hue='response', bins=50);\n",
    "\n",
    "#### DESIGN ####\n",
    "# HIDE ELEMENTS\n",
    "ax.grid(axis='x', linestyle='None') # Hide only the vertical grid line\n",
    "ax.set_xlabel(None) # Hide x label\n",
    "ax.set_ylabel(None) # Hide y label\n",
    "\n",
    "# ADD & EDITING TEXT ELEMENTS\n",
    "\n",
    "# LEGEND\n",
    "# Define explicit labels for the legend\n",
    "legend_labels = ['Not Interested', 'Interested']\n",
    "\n",
    "# Move the legend below the plot\n",
    "ax.legend(labels=legend_labels, loc='upper center', bbox_to_anchor=(0.5, -0.15), fancybox=True, shadow=True, ncol=2)\n",
    "\n",
    "# TEXT\n",
    "x_pos = (ax.get_xlim()[0] + ax.get_xlim()[1]) / 2 # Calculate the midpoint of the y-axis\n",
    "y_pos = (ax.get_ylim()[1])                        # Add the title at the top of the axes\n",
    "\n",
    "plt.text(x_pos, y_pos, s='Histogram Annual Premium from 70.000 to 150.000', fontsize=15, color='Grey', ha='center')\n",
    "\n",
    "plt.tight_layout()\n",
    "plt.show()"
   ]
  },
  {
   "cell_type": "markdown",
   "id": "c8c2627a",
   "metadata": {},
   "source": [
    "#### Annual Premium above 150000"
   ]
  },
  {
   "cell_type": "code",
   "execution_count": null,
   "id": "1418e2fd",
   "metadata": {
    "ExecuteTime": {
     "end_time": "2024-04-20T10:07:47.425047Z",
     "start_time": "2024-04-20T10:07:47.411218Z"
    },
    "hide_input": false
   },
   "outputs": [],
   "source": [
    "aux_150k = df4[df4['annual_premium'] >= 150000]"
   ]
  },
  {
   "cell_type": "code",
   "execution_count": null,
   "id": "d4e266f9",
   "metadata": {
    "ExecuteTime": {
     "end_time": "2024-04-20T10:07:47.444249Z",
     "start_time": "2024-04-20T10:07:47.428339Z"
    }
   },
   "outputs": [],
   "source": [
    "aux_150k['response'].value_counts()"
   ]
  },
  {
   "cell_type": "code",
   "execution_count": null,
   "id": "b4cd7dbf",
   "metadata": {
    "ExecuteTime": {
     "end_time": "2024-04-20T10:07:47.459931Z",
     "start_time": "2024-04-20T10:07:47.447226Z"
    },
    "hide_input": true
   },
   "outputs": [],
   "source": [
    "aux_150k['annual_premium'].describe()"
   ]
  },
  {
   "cell_type": "code",
   "execution_count": null,
   "id": "f0a1e311",
   "metadata": {
    "ExecuteTime": {
     "end_time": "2024-04-20T10:07:47.641132Z",
     "start_time": "2024-04-20T10:07:47.462766Z"
    },
    "hide_input": true
   },
   "outputs": [],
   "source": [
    "\n",
    "##### CHART CREATION #####\n",
    "fig, ax = plt.subplots(figsize=(8, 5))\n",
    "sns.boxplot(data=aux_150k, x='response',y='annual_premium');\n",
    "\n",
    "#### HIDE ELEMENTS ####\n",
    "\n",
    "ax.grid(False) # Hide grid\n",
    "\n",
    "ax.set_ylabel(None) # Hide y label\n",
    "ax.set_xlabel(None) # Hide x label\n",
    "\n",
    "##### DESIGN #####\n",
    "x_pos = (ax.get_xlim()[0] + ax.get_xlim()[1]) / 2 # Calculate the midpoint of the y-axis\n",
    "y_pos = (ax.get_ylim()[1])                        # Add the title at the top of the axes\n",
    "\n",
    "plt.text(x_pos, y_pos, s='Boxplot Annual Premium from 150.000', fontsize=15, color='Grey', ha='center')\n",
    "\n",
    "label = ['Not Interested','Interested']\n",
    "ax.set_xticklabels(label, fontsize=15, color='#656A69');\n",
    "\n",
    "plt.tight_layout()\n",
    "plt.show()"
   ]
  },
  {
   "cell_type": "code",
   "execution_count": null,
   "id": "c94cd2c7",
   "metadata": {
    "ExecuteTime": {
     "end_time": "2024-04-20T10:07:48.072684Z",
     "start_time": "2024-04-20T10:07:47.644133Z"
    },
    "hide_input": true
   },
   "outputs": [],
   "source": [
    "\n",
    "##### CHART CREATION #####\n",
    "fig, ax = plt.subplots(figsize=(10, 5))\n",
    "sns.histplot(data=aux_150k, x='annual_premium', kde=True, hue='response', bins=50);\n",
    "\n",
    "#### DESIGN ####\n",
    "# HIDE ELEMENTS\n",
    "ax.grid(axis='x', linestyle='None') # Hide only the vertical grid line\n",
    "ax.set_xlabel(None) # Hide x label\n",
    "ax.set_ylabel(None) # Hide y label\n",
    "\n",
    "# ADD & EDITING TEXT ELEMENTS\n",
    "\n",
    "# LEGEND\n",
    "# Define explicit labels for the legend\n",
    "legend_labels = ['Not Interested', 'Interested']\n",
    "\n",
    "# Move the legend below the plot\n",
    "ax.legend(labels=legend_labels, loc='upper center', bbox_to_anchor=(0.5, -0.15), fancybox=True, shadow=True, ncol=2)\n",
    "\n",
    "# TEXT\n",
    "x_pos = (ax.get_xlim()[0] + ax.get_xlim()[1]) / 2 # Calculate the midpoint of the y-axis\n",
    "y_pos = (ax.get_ylim()[1])                        # Add the title at the top of the axes\n",
    "\n",
    "plt.text(x_pos, y_pos, s='Histogram for Annual Premium from 150.000', fontsize=15, color='Grey', ha='center')\n",
    "\n",
    "plt.tight_layout()\n",
    "plt.show()"
   ]
  },
  {
   "cell_type": "markdown",
   "id": "a8535d83",
   "metadata": {},
   "source": [
    "##### Observations:\n",
    "\n",
    "There are 110 records within the interval from 150.000 to 550.000 and only 15 of these represents the interested customers;\n",
    "I will continue the analysis and further on, I will come back to this step, analyse the insights and decide how to handle these values.\n",
    "\n",
    "What I am considering is:\n",
    "    \n",
    "    1 - If I remove the interested customers that spend more than 150.000 I will loose 15 records, but maybe this might help my algorithm to make better classifications;"
   ]
  },
  {
   "cell_type": "markdown",
   "id": "e8d49de7",
   "metadata": {},
   "source": [
    "#### 4.1.7 - Num. Feature: Age"
   ]
  },
  {
   "cell_type": "code",
   "execution_count": null,
   "id": "0d104466",
   "metadata": {
    "ExecuteTime": {
     "end_time": "2024-04-20T10:07:53.568315Z",
     "start_time": "2024-04-20T10:07:53.383577Z"
    }
   },
   "outputs": [],
   "source": [
    "##### CHART CREATION #####\n",
    "fig, ax = plt.subplots(figsize=(8, 5))\n",
    "sns.boxplot(data=df4, x='response',y='age');\n",
    "\n",
    "#### HIDE ELEMENTS ####\n",
    "\n",
    "ax.grid(False) # Hide grid\n",
    "\n",
    "ax.set_ylabel(None) # Hide y label\n",
    "ax.set_xlabel(None) # Hide x label\n",
    "\n",
    "##### DESIGN #####\n",
    "x_pos = (ax.get_xlim()[0] + ax.get_xlim()[1]) / 2 # Calculate the midpoint of the y-axis\n",
    "y_pos = (ax.get_ylim()[1])                        # Add the title at the top of the axes\n",
    "\n",
    "plt.text(x_pos, y_pos, s='Boxplot for Age', fontsize=15, color='Grey', ha='center')\n",
    "\n",
    "label = ['Not Interested','Interested']\n",
    "ax.set_xticklabels(label, fontsize=15, color='#656A69');\n",
    "\n",
    "plt.tight_layout()\n",
    "plt.show()"
   ]
  },
  {
   "cell_type": "code",
   "execution_count": null,
   "id": "15388705",
   "metadata": {
    "ExecuteTime": {
     "end_time": "2024-04-20T10:07:54.742986Z",
     "start_time": "2024-04-20T10:07:53.571585Z"
    }
   },
   "outputs": [],
   "source": [
    "##### CHART CREATION #####\n",
    "fig, ax = plt.subplots(figsize=(10, 5))\n",
    "sns.histplot(data=df4, x='age', kde=True, hue='response', bins=50);\n",
    "\n",
    "#### DESIGN ####\n",
    "# HIDE ELEMENTS\n",
    "ax.grid(axis='x', linestyle='None') # Hide only the vertical grid line\n",
    "ax.set_xlabel(None) # Hide x label\n",
    "ax.set_ylabel(None) # Hide y label\n",
    "\n",
    "# ADD & EDITING TEXT ELEMENTS\n",
    "\n",
    "# LEGEND\n",
    "# Define explicit labels for the legend\n",
    "legend_labels = ['Not Interested', 'Interested']\n",
    "\n",
    "# Move the legend below the plot\n",
    "ax.legend(labels=legend_labels, loc='upper center', bbox_to_anchor=(0.5, -0.15), fancybox=True, shadow=True, ncol=2)\n",
    "\n",
    "# TITLE\n",
    "x_pos = (ax.get_xlim()[0] + ax.get_xlim()[1]) / 2 # Calculate the midpoint of the y-axis\n",
    "y_pos = (ax.get_ylim()[1])                        # Add the title at the top of the axes\n",
    "\n",
    "plt.text(x_pos, y_pos, s='Histogram for Age', fontsize=15, color='Grey', ha='center')\n",
    "\n",
    "plt.tight_layout()\n",
    "plt.show()"
   ]
  },
  {
   "cell_type": "markdown",
   "id": "e01cb33b",
   "metadata": {
    "ExecuteTime": {
     "end_time": "2024-04-11T20:25:57.279350Z",
     "start_time": "2024-04-11T20:25:57.272498Z"
    }
   },
   "source": [
    "#### 4.1.9 - Cat. feature: gender"
   ]
  },
  {
   "cell_type": "code",
   "execution_count": null,
   "id": "9e1f5b7c",
   "metadata": {
    "ExecuteTime": {
     "end_time": "2024-04-20T10:07:54.914985Z",
     "start_time": "2024-04-20T10:07:54.746009Z"
    }
   },
   "outputs": [],
   "source": [
    "df_cg = df4[['id','gender','response']].groupby(['response','gender']).count().reset_index()\n",
    "df_cg = df_cg.rename(columns={'id': 'qty'})\n",
    "\n",
    "df_cg_m = df_cg[df_cg['response']==0]\n",
    "df_cg_f = df_cg[df_cg['response']==1]\n",
    "\n",
    "##### CHART CREATION #####\n",
    "\n",
    "# Defining the figure and axis for the bar chart\n",
    "fig, ax = plt.subplots(figsize=(10, 5))\n",
    "\n",
    "# Defining a vetor for each element \n",
    "x = np.array(range(1, df_cg_m.shape[0]+1))\n",
    "\n",
    "# Plot the bars\n",
    "wb = 0.20 # set the width of the bars\n",
    "mcg = ax.bar(x=x-wb/2, height='qty', data=df_cg_m, width=wb) # ploting the bars into the left\n",
    "fcg = ax.bar(x=x+wb/2, height='qty', data=df_cg_f, width=wb) # ploting the bars into the right\n",
    "\n",
    "##### DESIGN #####\n",
    "\n",
    "##### HIDE ELEMENTS OF CHART #####\n",
    "ax.grid(False) # hiding the grid\n",
    "plt.gca().axes.get_yaxis().set_visible(False) # Hide y axis|\n",
    "\n",
    "##### ADD & EDITING TEXT ELEMENTS #####\n",
    "\n",
    "# AXIS X LABEL DEFINITION\n",
    "label = ['Female','Male']\n",
    "\n",
    "ax.set_xticks(x)\n",
    "ax.set_xticklabels(label, fontsize=12, color='#656A69');\n",
    "\n",
    "# TITLE\n",
    "x_pos = (ax.get_xlim()[0] + ax.get_xlim()[1]) / 2 # Calculate the midpoint of the y-axis\n",
    "y_pos = (ax.get_ylim()[1])                        # Add the title at the top of the axes\n",
    "\n",
    "plt.text(x_pos, y_pos, s='Gender Distribution', fontsize=18, color='Grey', ha='center')\n",
    "\n",
    "# LEGEND\n",
    "legend_labels = ['Not Interested', 'Interested']   # Define explicit labels for the legend\n",
    "ax.legend(labels=legend_labels, loc='upper center', bbox_to_anchor=(0.5, -0.15), fancybox=True, shadow=True, ncol=2) # Move the legend below the plot\n",
    "\n",
    "def add_bar_labels(bars):\n",
    "    for bar in bars:\n",
    "        height = bar.get_height()\n",
    "        ax.annotate('{}'.format(height), xy=(bar.get_x() + bar.get_width() / 2, height), xytext=(0, 3), textcoords=\"offset points\", ha='center', va='bottom', fontsize=12, color='#656A69')\n",
    "        \n",
    "add_bar_labels(mcg)\n",
    "add_bar_labels(fcg)        \n",
    "\n",
    "fig.tight_layout()\n",
    "plt.show()"
   ]
  },
  {
   "cell_type": "markdown",
   "id": "06f9bbb0",
   "metadata": {},
   "source": [
    "#### 4.1.10 - Cat. Feature: vehicle_age"
   ]
  },
  {
   "cell_type": "code",
   "execution_count": null,
   "id": "a4724752",
   "metadata": {
    "ExecuteTime": {
     "end_time": "2024-04-20T10:10:15.356122Z",
     "start_time": "2024-04-20T10:10:15.333467Z"
    }
   },
   "outputs": [],
   "source": [
    "df_va0"
   ]
  },
  {
   "cell_type": "code",
   "execution_count": null,
   "id": "630a2cd2",
   "metadata": {
    "ExecuteTime": {
     "end_time": "2024-04-20T10:10:20.990519Z",
     "start_time": "2024-04-20T10:10:20.982032Z"
    }
   },
   "outputs": [],
   "source": [
    "df_va1"
   ]
  },
  {
   "cell_type": "code",
   "execution_count": null,
   "id": "550a3441",
   "metadata": {
    "ExecuteTime": {
     "end_time": "2024-04-20T10:13:06.459058Z",
     "start_time": "2024-04-20T10:13:06.270763Z"
    }
   },
   "outputs": [],
   "source": [
    "##### DATA FILTERING #####\n",
    "df_va = df4[['id','vehicle_age','response']].groupby(['response','vehicle_age']).count().reset_index()\n",
    "df_va = df_va.rename(columns={'id': 'qty'})\n",
    "\n",
    "df_va0 = df_va[df_va['response']==0]\n",
    "df_va1 = df_va[df_va['response']==1]\n",
    "\n",
    "##### CHART CREATION #####\n",
    "\n",
    "# Defining the figure and axis for the bar chart\n",
    "fig, ax = plt.subplots(figsize=(10, 5))\n",
    "\n",
    "# Defining a vetor for each element \n",
    "x = np.array(range(1, df_va0.shape[0]+1))\n",
    "\n",
    "# Plot the bars\n",
    "wb = 0.20 # set the width of the bars\n",
    "br = ax.bar(x=x-wb/2, height='qty', data=df_va0, width=wb) # ploting the bars into the left\n",
    "bl = ax.bar(x=x+wb/2, height='qty', data=df_va1, width=wb) # ploting the bars into the right\n",
    "\n",
    "##### DESIGN #####\n",
    "\n",
    "##### HIDE ELEMENTS OF CHART #####\n",
    "ax.grid(False) # hiding the grid\n",
    "plt.gca().axes.get_yaxis().set_visible(False) # Hide y axis\n",
    "\n",
    "##### ADD & EDITING TEXT ELEMENTS #####\n",
    "\n",
    "# AXIS X LABEL DEFINITION\n",
    "label = ['Used cars','New Cars', 'Old Cars']\n",
    "ax.set_xticks(x)\n",
    "ax.set_xticklabels(label, fontsize=12, color='#656A69');\n",
    "\n",
    "# TITLE\n",
    "x_pos = (ax.get_xlim()[0] + ax.get_xlim()[1]) / 2 # Calculate the midpoint of the y-axis\n",
    "y_pos = (ax.get_ylim()[1]) + 7000                  # Add the title at the top of the axes\n",
    "plt.text(x_pos, y_pos, s='Vehicle Age Distribution', fontsize=18, color='Grey', ha='center')\n",
    "\n",
    "# LEGEND\n",
    "legend_labels = ['Not Interested', 'Interested']   # Define explicit labels for the legend\n",
    "ax.legend(labels=legend_labels, loc='upper center', bbox_to_anchor=(0.5, -0.15), fancybox=True, shadow=True, ncol=2) # Move the legend below the plot\n",
    "\n",
    "def add_bar_labels(bars):\n",
    "    for bar in bars:\n",
    "        height = bar.get_height()\n",
    "        ax.annotate('{}'.format(height), xy=(bar.get_x() + bar.get_width() / 2, height), xytext=(0, 3), textcoords=\"offset points\", ha='center', va='bottom', fontsize=12, color='#656A69')\n",
    "        \n",
    "add_bar_labels(br)\n",
    "add_bar_labels(bl)        \n",
    "\n",
    "fig.tight_layout()\n",
    "plt.show()"
   ]
  },
  {
   "cell_type": "markdown",
   "id": "115a57a7",
   "metadata": {},
   "source": [
    "#### 4.1.11 - Cat. Feature: vehicle_damage"
   ]
  },
  {
   "cell_type": "code",
   "execution_count": null,
   "id": "b2361a92",
   "metadata": {
    "ExecuteTime": {
     "end_time": "2024-04-20T10:13:19.595854Z",
     "start_time": "2024-04-20T10:13:19.432096Z"
    }
   },
   "outputs": [],
   "source": [
    "##### DATA FILTERING #####\n",
    "df_vd = df4[['id','vehicle_damage','response']].groupby(['response','vehicle_damage']).count().reset_index()\n",
    "df_vd = df_vd.rename(columns={'id': 'qty'})\n",
    "\n",
    "df_vd0 = df_vd[df_vd['response'] == 0]\n",
    "df_vd1 = df_vd[df_vd['response'] == 1]\n",
    "\n",
    "###### DESIGN #####\n",
    "\n",
    "# CREATION OF GRAPH FIGURE AND AXIS\n",
    "fig, ax = plt.subplots(figsize=(10, 5))\n",
    "\n",
    "# PLOT THE BARS\n",
    "wb = 0.35  # Bar width\n",
    "x = np.arange(1, len(df_vd0) + 1)  # Vetor for index the bars\n",
    "br = ax.bar(x - wb / 2, df_vd0['qty'], width=wb, label='Not Interested')  # Ploting the bars when response is 0 (not interested)\n",
    "bl = ax.bar(x + wb / 2, df_vd1['qty'], width=wb, label='Interested')  # Ploting the bars when response is 1 (interested)\n",
    "\n",
    "##### STYLE #####\n",
    "ax.grid(False) # Hide grid\n",
    "plt.gca().axes.get_yaxis().set_visible(False) # Hide y axis\n",
    "\n",
    "# AXIS LABELS\n",
    "ax.set_xticks(x)\n",
    "ax.set_xticklabels(['Not Damaged', 'Damaged'], fontsize=12, color='#656A69')\n",
    "\n",
    "# TITLE\n",
    "plt.title('Vehicle Condition Distribution', fontsize=18, color='Grey')\n",
    "\n",
    "# LEGEND\n",
    "ax.legend(loc='upper center', bbox_to_anchor=(0.5, -0.15), fancybox=True, shadow=True, ncol=2)\n",
    "\n",
    "# BAR LABELS\n",
    "def add_bar_labels(bars):\n",
    "    for bar in bars:\n",
    "        height = bar.get_height()\n",
    "        ax.annotate('{}'.format(height), xy=(bar.get_x() + bar.get_width() / 2, height),\n",
    "                    xytext=(0, 3), textcoords=\"offset points\", ha='center', va='bottom',\n",
    "                    fontsize=12, color='#656A69')\n",
    "\n",
    "add_bar_labels(br)\n",
    "add_bar_labels(bl)\n",
    "\n",
    "# layout and show graph\n",
    "fig.tight_layout()\n",
    "plt.show()\n"
   ]
  },
  {
   "cell_type": "markdown",
   "id": "31f0ae48",
   "metadata": {},
   "source": [
    "#### 4.2.2 - Business Hyphotesis"
   ]
  },
  {
   "cell_type": "markdown",
   "id": "0ea32255",
   "metadata": {},
   "source": [
    "##### 1. Taking into account customers who have previously had their cars damaged and have not had insurance before, the majority of them are interested in acquiring insurance. The result can provide insights for the company where it can create programs to attract one or more customer profiles."
   ]
  },
  {
   "cell_type": "markdown",
   "id": "6facedae",
   "metadata": {},
   "source": [
    "Taking into account customers who have previously had their cars damaged and have not had insurance before, the majority of them are interested in acquiring insurance. The result can provide insights for the company where it can create programs to attract one or more customer profiles. **Hypothesis False**. 75% of the customers does not have interest in buying the vehicle insurance."
   ]
  },
  {
   "cell_type": "code",
   "execution_count": null,
   "id": "80a55960",
   "metadata": {
    "ExecuteTime": {
     "end_time": "2024-04-20T10:13:37.237314Z",
     "start_time": "2024-04-20T10:13:37.144659Z"
    },
    "hide_input": false
   },
   "outputs": [],
   "source": [
    "# FILTERING DATA\n",
    "d1 = df4[( df4['previously_insured'] == 0) & (df4['vehicle_damage'] == 1)]\n",
    "ax1 = d1[['response','id']].groupby('response').count().reset_index()\n",
    "ax1['percentage'] = round(ax1['id'] / d1['id'].count()*100)\n",
    "ax1['response'] = ax1['response'].apply(lambda x: 'No' if (x == 0) else 'Yes')\n",
    "\n",
    "# BAR CHART\n",
    "fig1 = px.bar(ax1,\n",
    "              x='response', \n",
    "              y='percentage', \n",
    "              color='response', \n",
    "              text='percentage', \n",
    "              width=1000,\n",
    "              height=650,\n",
    "              color_discrete_sequence=['#82B1FF', '#FF9100'])\n",
    "\n",
    "fig1.update_traces(texttemplate='%{text:.2s}%', \n",
    "                   textposition='outside')\n",
    "\n",
    "fig1.update_layout(title_text=\"Hypothesis 1: Purchase Interest vs Vehicle Damage.\", \n",
    "                   title_x=0.15,\n",
    "                   font=dict(size=20),\n",
    "                   xaxis_visible=True,\n",
    "                   yaxis_visible=False,\n",
    "                   plot_bgcolor='rgba(0, 0, 0, 0)',\n",
    "                   paper_bgcolor='rgba(0, 0, 0, 0)',\n",
    "                   showlegend=False)\n",
    "\n",
    "fig1.show()"
   ]
  },
  {
   "cell_type": "markdown",
   "id": "9ba291bb",
   "metadata": {},
   "source": [
    "Hiphotesys is false once 75% of customers doesn't show interest in buying the vehicle insurance. "
   ]
  },
  {
   "cell_type": "markdown",
   "id": "33165a58",
   "metadata": {
    "ExecuteTime": {
     "end_time": "2024-04-20T08:31:09.837567Z",
     "start_time": "2024-04-20T08:31:09.830270Z"
    }
   },
   "source": [
    "#### 2. The interest on purchase the vehicle insurance is greater for woman than men. "
   ]
  },
  {
   "cell_type": "markdown",
   "id": "b5892049",
   "metadata": {},
   "source": [
    "**Hypothesis is false**. Only 10% of women express interest in buying vehicle insurance, compared to 14% of men."
   ]
  },
  {
   "cell_type": "code",
   "execution_count": null,
   "id": "c3ba18b9",
   "metadata": {
    "ExecuteTime": {
     "end_time": "2024-04-20T10:07:57.903913Z",
     "start_time": "2024-04-20T10:07:57.749126Z"
    },
    "hide_input": true
   },
   "outputs": [],
   "source": [
    "ax2 = pd.crosstab(df4['gender'], df4['response'])\n",
    "ax2['percentage'] = round(ax2[1]/(ax2[0]+ax2[1])*100)\n",
    "\n",
    "# Creating new dataframe for a bar chart\n",
    "aux2 = [['Female', 10],['Male',14]]\n",
    "aux2_df = pd.DataFrame(aux2, columns=['gender','percentage'])\n",
    "\n",
    "# Bar chart\n",
    "fig2 = px.bar(aux2_df, \n",
    "             x='gender', \n",
    "             y='percentage', \n",
    "             color='gender', \n",
    "             text='percentage',\n",
    "             width=1000,\n",
    "             height=650,\n",
    "             color_discrete_sequence=['#82B1FF', '#FF9100'])\n",
    "\n",
    "fig2.update_traces(texttemplate='%{text:.2s}%', \n",
    "                   textposition='outside')\n",
    "\n",
    "fig2.update_layout(title_text='Hypothesis 2: Purchase Interest vs Gender', \n",
    "                   title_x=0.15,\n",
    "                   font=dict(size=20),\n",
    "                   xaxis_visible=True,\n",
    "                   yaxis_visible=False,\n",
    "                   plot_bgcolor='rgba(0, 0, 0, 0)',\n",
    "                   paper_bgcolor='rgba(0, 0, 0, 0)',\n",
    "                   showlegend=False)\n",
    "\n",
    "fig2.show()"
   ]
  },
  {
   "cell_type": "markdown",
   "id": "8dc1d9c5",
   "metadata": {},
   "source": [
    "#### 3. The interest on purchase the vehicle insurance is greater for customers that spend less than 30k for annual premium. "
   ]
  },
  {
   "cell_type": "markdown",
   "id": "0c0a74c1",
   "metadata": {},
   "source": [
    "**Hyphothesis is false**. The interest in buying the insurance is greater within the customers that spent more than 30k."
   ]
  },
  {
   "cell_type": "code",
   "execution_count": null,
   "id": "efb96e3e",
   "metadata": {
    "ExecuteTime": {
     "end_time": "2024-04-20T10:07:58.375209Z",
     "start_time": "2024-04-20T10:07:58.276060Z"
    },
    "hide_input": true
   },
   "outputs": [],
   "source": [
    "# Data Filtering\n",
    "aux5 = df4[df4['annual_premium'] > 30000][['id','response']]\n",
    "aux6 = df4[df4['annual_premium'] <= 30000][['id','response']]\n",
    "\n",
    "# Percentage of interested customers that spend more than 30k in annual premium\n",
    "aux16 = aux5[['response','id']].groupby('response').count().reset_index()\n",
    "aux16['percentage'] = round( aux16['id'] / aux5.shape[0] * 100 )\n",
    "\n",
    "# Percentage of interested customers that spend less than 30k in annual premium\n",
    "aux17 = aux6[['response','id']].groupby('response').count().reset_index()\n",
    "aux17['percentage'] = round( aux17['id'] / aux6.shape[0] * 100 )\n",
    "\n",
    "# Creating new dataframe for a bar chart\n",
    "ax4 = [['30k or more in annual premium', 13],['30k or less in annual premium', 11]]\n",
    "ax4_df = pd.DataFrame(ax4, columns=['annual_premium','percentage'])\n",
    "\n",
    "# Bar chart\n",
    "fig3 = px.bar(ax4_df,\n",
    "             x='annual_premium',\n",
    "             y='percentage', \n",
    "             color='annual_premium', \n",
    "             text='percentage', \n",
    "             width=1000,\n",
    "             height=650,\n",
    "             color_discrete_sequence=['#82B1FF', '#FF9100'])\n",
    "\n",
    "fig3.update_traces(texttemplate='%{text:.2s}%', \n",
    "                   textposition='outside')\n",
    "\n",
    "fig3.update_layout(title_text='Hypothesis 3: Purchase Interest vs Annual Premium', \n",
    "                   title_x=0.15,\n",
    "                   font=dict(size=20),\n",
    "                   xaxis_visible=True,\n",
    "                   yaxis_visible=False,\n",
    "                   plot_bgcolor='rgba(0, 0, 0, 0)',\n",
    "                   paper_bgcolor='rgba(0, 0, 0, 0)',\n",
    "                   showlegend=False)\n",
    "\n",
    "fig3.show()"
   ]
  },
  {
   "cell_type": "markdown",
   "id": "82239139",
   "metadata": {},
   "source": [
    "#### 4. The interest on purchase the vehicle insurance is greater for customers that have driver license."
   ]
  },
  {
   "cell_type": "markdown",
   "id": "2fb9690c",
   "metadata": {},
   "source": [
    "**Hyphotesis is true.** 12% of the customers that hold driving license shows interest in buying the vehicle insurance while only 5% of the customers that does not have driving license shows interest in acquire the insurance. "
   ]
  },
  {
   "cell_type": "code",
   "execution_count": null,
   "id": "ea3171df",
   "metadata": {
    "ExecuteTime": {
     "end_time": "2024-04-20T10:07:58.817987Z",
     "start_time": "2024-04-20T10:07:58.720115Z"
    },
    "hide_input": true
   },
   "outputs": [],
   "source": [
    "aux9 = pd.crosstab(df4['driving_license'], df4['response'])\n",
    "aux9['percentage'] = round(aux9[1]/(aux9[0]+aux9[1])*100)\n",
    "\n",
    "# Creating new dataframe for a bar chart\n",
    "ax9 = [['No', 5 ],['Yes', 12]]\n",
    "ax9_df = pd.DataFrame(ax9, columns=['driving_license','percentage'])\n",
    "\n",
    "# Bar chart\n",
    "fig4 = px.bar(ax9_df, \n",
    "             x='driving_license', \n",
    "             y='percentage', \n",
    "             color='driving_license', \n",
    "             text='percentage', \n",
    "             width=1000,\n",
    "             height=650,\n",
    "             color_discrete_sequence=['#82B1FF', '#FF9100'])\n",
    "\n",
    "fig4.update_traces(texttemplate='%{text:.2s}%', \n",
    "                   textposition='outside')\n",
    "\n",
    "fig4.update_layout(title_text='Hypothesis 4: Purchase Interest vs Driving License.', \n",
    "                   title_x=0.15,\n",
    "                   font=dict(size=20),\n",
    "                   xaxis_visible=True,\n",
    "                   yaxis_visible=False,\n",
    "                   plot_bgcolor='rgba(0, 0, 0, 0)',\n",
    "                   paper_bgcolor='rgba(0, 0, 0, 0)',\n",
    "                   showlegend=False)\n",
    "fig4.show()"
   ]
  },
  {
   "cell_type": "markdown",
   "id": "03be836c",
   "metadata": {},
   "source": [
    "#### 5. The interest on purchase the vehicle insurance is greater for customers that have new cars."
   ]
  },
  {
   "cell_type": "markdown",
   "id": "5c2d73d3",
   "metadata": {},
   "source": [
    "**Hypothesis is false.** The interest is greater within customers that have old cars."
   ]
  },
  {
   "cell_type": "code",
   "execution_count": null,
   "id": "3a73549c",
   "metadata": {
    "ExecuteTime": {
     "end_time": "2024-04-20T10:07:59.386611Z",
     "start_time": "2024-04-20T10:07:59.288096Z"
    },
    "hide_input": true
   },
   "outputs": [],
   "source": [
    "aux10 = pd.crosstab(df4['vehicle_age'], df4['response'])\n",
    "aux10['percentage'] = round(aux10[1]/(aux10[0]+aux10[1])*100)\n",
    "\n",
    "# Creating new dataframe for a bar chart\n",
    "ax10 = [['New', 4 ],['Used', 17],['Old', 29]]\n",
    "ax10_df = pd.DataFrame(ax10, columns=['vehicle_age','percentage'])\n",
    "\n",
    "# Bar chart\n",
    "fig5 = px.bar(ax10_df, \n",
    "             x='vehicle_age', \n",
    "             y='percentage', \n",
    "             color='vehicle_age', \n",
    "             text='percentage',\n",
    "             width=1000,\n",
    "             height=650,\n",
    "             color_discrete_sequence=['#82B1FF', '#FF9100', '#40C4FF'])\n",
    "\n",
    "fig5.update_traces(texttemplate='%{text:.2s}%', \n",
    "                   textposition='outside')\n",
    "\n",
    "fig5.update_layout(title_text='Hypothesis 5: Purchase Interest vs Vehicle Age', \n",
    "                   title_x=0.15,\n",
    "                   font=dict(size=20),\n",
    "                   xaxis_visible=True,\n",
    "                   yaxis_visible=False,\n",
    "                   plot_bgcolor='rgba(0, 0, 0, 0)',\n",
    "                   paper_bgcolor='rgba(0, 0, 0, 0)',\n",
    "                   showlegend=False)\n",
    "fig5.show()"
   ]
  },
  {
   "cell_type": "markdown",
   "id": "04d10796",
   "metadata": {},
   "source": [
    "**Hypothesis Validation**\n",
    "\n",
    "1. Taking into account customers who have previously had their cars damaged and have not had insurance before, the majority of them are interested in acquiring insurance. The result can provide insights for the company where it can create programs to attract one or more customer profiles.         \n",
    "**Hypothesis False**. 75% of the customers does not have interest in buying the vehicle insurance.\n",
    "\n",
    "2. The interest on purchase the vehicle insurance is greater for woman than men. \n",
    "**Hypothesis is false**. Only 10% of women express interest in buying vehicle insurance, compared to 14% of men.\n",
    "\n",
    "3. The interest on purchase the vehicle insurance is greater for customers that spend less than 30k for annual premium. \n",
    "**Hyphothesis is false**. The interest in buying the insurance is greater within the customers that spent more than 30k.\n",
    "\n",
    "4. The interest on purchase the vehicle insurance is greater for customers that have driver license.\n",
    "**Hyphotesis is true.** 12% of the customers that hold driving license shows interest in buying the vehicle insurance while only 5% of the customers that does not have driving license shows interest in acquire the insurance.\n",
    "\n",
    "5. The interest on purchase the vehicle insurance is greater for customers that have new cars.\n",
    "**Hypothesis is false.** The interest is greater within customers that have old cars."
   ]
  },
  {
   "cell_type": "markdown",
   "id": "90475f72",
   "metadata": {},
   "source": [
    "### 4.3 - MULTIVARIATE ANALYSIS"
   ]
  },
  {
   "cell_type": "code",
   "execution_count": null,
   "id": "2da90963",
   "metadata": {
    "ExecuteTime": {
     "start_time": "2024-04-20T10:21:40.417Z"
    }
   },
   "outputs": [],
   "source": [
    "pip uninstall matplotlib"
   ]
  },
  {
   "cell_type": "code",
   "execution_count": null,
   "id": "bf0797de",
   "metadata": {
    "ExecuteTime": {
     "start_time": "2024-04-20T10:24:26.271Z"
    }
   },
   "outputs": [],
   "source": [
    "import matplotlib\n",
    "print(matplotlib.__version__)"
   ]
  },
  {
   "cell_type": "code",
   "execution_count": null,
   "id": "15349514",
   "metadata": {},
   "outputs": [],
   "source": []
  },
  {
   "cell_type": "code",
   "execution_count": null,
   "id": "59da86da",
   "metadata": {
    "ExecuteTime": {
     "end_time": "2024-04-20T10:15:13.525218Z",
     "start_time": "2024-04-20T10:15:13.077025Z"
    }
   },
   "outputs": [],
   "source": [
    "# Drop non-numeric columns\n",
    "numeric_df4 = df4.select_dtypes(include='number')\n",
    "\n",
    "# Calculate correlation\n",
    "correlation = numeric_df4.corr().round(2)\n",
    "\n",
    "# Plot heatmap\n",
    "plt.figure(figsize=(14, 7))\n",
    "sns.heatmap(correlation, annot=True)\n",
    "plt.show()"
   ]
  },
  {
   "cell_type": "markdown",
   "id": "550169f4",
   "metadata": {
    "heading_collapsed": true
   },
   "source": [
    "## 5 - DATA PREPARATION"
   ]
  },
  {
   "cell_type": "code",
   "execution_count": null,
   "id": "f5d489a5",
   "metadata": {
    "ExecuteTime": {
     "end_time": "2023-09-18T19:41:10.109039Z",
     "start_time": "2023-09-18T19:41:10.078258Z"
    },
    "hidden": true
   },
   "outputs": [],
   "source": [
    "from feature_engine.transformation import PowerTransformer"
   ]
  },
  {
   "cell_type": "code",
   "execution_count": null,
   "id": "6bbc3fea",
   "metadata": {
    "ExecuteTime": {
     "end_time": "2023-09-18T19:41:10.640654Z",
     "start_time": "2023-09-18T19:41:10.622674Z"
    },
    "hidden": true
   },
   "outputs": [],
   "source": [
    "from feature_engine.encoding import WoEEncoder"
   ]
  },
  {
   "cell_type": "code",
   "execution_count": null,
   "id": "601ca8c9",
   "metadata": {
    "ExecuteTime": {
     "end_time": "2023-09-18T19:41:11.026624Z",
     "start_time": "2023-09-18T19:41:11.006355Z"
    },
    "hidden": true
   },
   "outputs": [],
   "source": [
    "woe_encoder  = WoEEncoder(variables=['gender', 'vehicle_age', 'vehicle_damage'])\n",
    "power_transform = PowerTransformer(variables=['id', 'age', 'region_code', 'policy_sales_channel', 'driving_license','previously_insured', 'annual_premium', 'vintage'])"
   ]
  },
  {
   "cell_type": "markdown",
   "id": "f30e8518",
   "metadata": {
    "ExecuteTime": {
     "end_time": "2023-07-23T15:03:21.608286Z",
     "start_time": "2023-07-23T15:03:21.601284Z"
    },
    "heading_collapsed": true,
    "hidden": true
   },
   "source": [
    "### 5.1 - ML MODELS"
   ]
  },
  {
   "cell_type": "code",
   "execution_count": null,
   "id": "dc5970ba",
   "metadata": {
    "ExecuteTime": {
     "end_time": "2023-09-18T19:41:17.657445Z",
     "start_time": "2023-09-18T19:41:17.606343Z"
    },
    "hidden": true
   },
   "outputs": [],
   "source": [
    "# Parameter \"scale_pos_weight\" definition\n",
    "\n",
    "from collections import Counter\n",
    "\n",
    "# ESTIMATE SCALE_POS_WEIGHT\n",
    "counter = Counter(y_train)\n",
    "estimate = counter[0]/counter[1]\n",
    "print('Estimate: %.3f' % estimate)"
   ]
  },
  {
   "cell_type": "markdown",
   "id": "bbbc5db0",
   "metadata": {
    "hidden": true
   },
   "source": [
    "#### Logistic Regression"
   ]
  },
  {
   "cell_type": "code",
   "execution_count": null,
   "id": "a31912ca",
   "metadata": {
    "ExecuteTime": {
     "end_time": "2023-09-18T19:44:55.946706Z",
     "start_time": "2023-09-18T19:44:55.933502Z"
    },
    "hidden": true
   },
   "outputs": [],
   "source": [
    "# Model Definition\n",
    "clf_lr = LogisticRegression()"
   ]
  },
  {
   "cell_type": "code",
   "execution_count": null,
   "id": "69837499",
   "metadata": {
    "ExecuteTime": {
     "end_time": "2023-09-18T19:45:22.312504Z",
     "start_time": "2023-09-18T19:45:22.296942Z"
    },
    "hidden": true
   },
   "outputs": [],
   "source": [
    "# Pipeline\n",
    "model_pipeline_lr = pipeline.Pipeline( steps = [(\"woe_encoder\", woe_encoder),\n",
    "                                                  (\"power_transform\", power_transform),\n",
    "                                                  (\"clf_lr\", clf_lr)])"
   ]
  },
  {
   "cell_type": "code",
   "execution_count": null,
   "id": "511797b9",
   "metadata": {
    "ExecuteTime": {
     "end_time": "2023-09-18T19:45:34.604222Z",
     "start_time": "2023-09-18T19:45:22.755053Z"
    },
    "hidden": true
   },
   "outputs": [],
   "source": [
    "cross_validation(5, 'lr', model_pipeline_lr, x_train, y_train, 20000)"
   ]
  },
  {
   "cell_type": "code",
   "execution_count": null,
   "id": "dc7e6ccb",
   "metadata": {
    "ExecuteTime": {
     "end_time": "2023-09-18T19:45:37.345741Z",
     "start_time": "2023-09-18T19:45:34.608175Z"
    },
    "hidden": true
   },
   "outputs": [],
   "source": [
    "model_pipeline_lr.fit(x_train, y_train)"
   ]
  },
  {
   "cell_type": "code",
   "execution_count": null,
   "id": "af89a80f",
   "metadata": {
    "ExecuteTime": {
     "end_time": "2023-09-18T19:45:49.995619Z",
     "start_time": "2023-09-18T19:45:49.823781Z"
    },
    "hidden": true
   },
   "outputs": [],
   "source": [
    "yhat_lr_valid = model_pipeline_lr.predict_proba(x_valid)"
   ]
  },
  {
   "cell_type": "code",
   "execution_count": null,
   "id": "c425be65",
   "metadata": {
    "ExecuteTime": {
     "end_time": "2023-09-18T19:46:30.000263Z",
     "start_time": "2023-09-18T19:46:28.359045Z"
    },
    "hidden": true
   },
   "outputs": [],
   "source": [
    "fig, axs = plt.subplots(ncols= 3, figsize = (18,5))\n",
    "\n",
    "# cumulative gain - Metric for sorting problem\n",
    "skplt.metrics.plot_cumulative_gain(y_valid, yhat_lr_valid, ax=axs[0],title='Cumulative Gain - Logistic Regression');\n",
    "\n",
    "# Lift Curve\n",
    "skplt.metrics.plot_lift_curve(y_valid, yhat_lr_valid,ax=axs[1],title='Lift Curve - Logistic Regression');\n",
    "\n",
    "# Roc Curve\n",
    "skplt.metrics.plot_roc(y_valid, yhat_lr_valid, ax=axs[2], title='ROC-Curve - Logistic Regression');\n",
    "\n",
    "plt.tight_layout()"
   ]
  },
  {
   "cell_type": "code",
   "execution_count": null,
   "id": "4248da0c",
   "metadata": {
    "ExecuteTime": {
     "end_time": "2023-09-18T19:47:09.305444Z",
     "start_time": "2023-09-18T19:47:09.185613Z"
    },
    "hidden": true
   },
   "outputs": [],
   "source": [
    "# Precision and Recall @K\n",
    "# As per Cumulative Gain chart, it is possible to identify that between 40% and 50% the model is able to find all interested customers.\n",
    "aux = x_valid['id'].count()\n",
    "k_value = 20000\n",
    "\n",
    "precision_lr = precision_at_k_cv(y_valid, yhat_lr_valid, k_value)\n",
    "recall_lr = recall_at_k_cv(y_valid, yhat_lr_valid, k_value)\n",
    "LR_performance = ml_performance('LR', precision_lr, recall_lr )\n",
    "LR_performance"
   ]
  },
  {
   "cell_type": "markdown",
   "id": "58268455",
   "metadata": {
    "hidden": true
   },
   "source": [
    "#### XGB"
   ]
  },
  {
   "cell_type": "code",
   "execution_count": null,
   "id": "1733eb2a",
   "metadata": {
    "ExecuteTime": {
     "end_time": "2023-09-18T19:47:14.672386Z",
     "start_time": "2023-09-18T19:47:14.664350Z"
    },
    "hidden": true
   },
   "outputs": [],
   "source": [
    "# Model Definition\n",
    "clf_xgb = XGBClassifier(scale_pos_weight = estimate)"
   ]
  },
  {
   "cell_type": "code",
   "execution_count": null,
   "id": "11eac5f8",
   "metadata": {
    "ExecuteTime": {
     "end_time": "2023-09-18T19:47:15.327543Z",
     "start_time": "2023-09-18T19:47:15.313802Z"
    },
    "hidden": true
   },
   "outputs": [],
   "source": [
    "# Pipeline\n",
    "model_pipeline_xgb = pipeline.Pipeline( steps = [(\"woe_encoder\", woe_encoder),\n",
    "                                                  (\"power_transform\", power_transform),\n",
    "                                                  (\"clf_xgb\", clf_xgb)])"
   ]
  },
  {
   "cell_type": "code",
   "execution_count": null,
   "id": "62e8fa8e",
   "metadata": {
    "ExecuteTime": {
     "end_time": "2023-09-18T19:48:12.929513Z",
     "start_time": "2023-09-18T19:47:16.049438Z"
    },
    "hidden": true
   },
   "outputs": [],
   "source": [
    "cross_validation(5, 'xgb', model_pipeline_xgb, x_train, y_train, 20000)"
   ]
  },
  {
   "cell_type": "code",
   "execution_count": null,
   "id": "66dee81e",
   "metadata": {
    "ExecuteTime": {
     "end_time": "2023-09-18T19:48:26.705027Z",
     "start_time": "2023-09-18T19:48:12.932624Z"
    },
    "hidden": true
   },
   "outputs": [],
   "source": [
    "model_pipeline_xgb.fit(x_train, y_train)"
   ]
  },
  {
   "cell_type": "code",
   "execution_count": null,
   "id": "f896c0e7",
   "metadata": {
    "ExecuteTime": {
     "end_time": "2023-09-18T19:48:26.936784Z",
     "start_time": "2023-09-18T19:48:26.707587Z"
    },
    "hidden": true
   },
   "outputs": [],
   "source": [
    "yhat_xgb = model_pipeline_xgb.predict_proba(x_valid)"
   ]
  },
  {
   "cell_type": "code",
   "execution_count": null,
   "id": "61c68086",
   "metadata": {
    "ExecuteTime": {
     "end_time": "2023-09-18T19:48:28.570248Z",
     "start_time": "2023-09-18T19:48:26.939880Z"
    },
    "hidden": true
   },
   "outputs": [],
   "source": [
    "fig, axs = plt.subplots(ncols= 3, figsize = (18,5))\n",
    "\n",
    "# cumulative gain - Metric for sorting problem\n",
    "skplt.metrics.plot_cumulative_gain(y_valid, yhat_xgb, ax=axs[0],title='Cumulative Gain - XGB');\n",
    "\n",
    "# Lift Curve\n",
    "skplt.metrics.plot_lift_curve(y_valid, yhat_xgb, ax=axs[1],title='Lift Curve - XGB');\n",
    "\n",
    "# Roc Curve\n",
    "skplt.metrics.plot_roc(y_valid, yhat_xgb, ax=axs[2], title='ROC-Curve - XGB');\n",
    "\n",
    "plt.tight_layout()"
   ]
  },
  {
   "cell_type": "code",
   "execution_count": null,
   "id": "37c2d95f",
   "metadata": {
    "ExecuteTime": {
     "end_time": "2023-09-18T19:48:28.677840Z",
     "start_time": "2023-09-18T19:48:28.571463Z"
    },
    "hidden": true
   },
   "outputs": [],
   "source": [
    "# Precision and Recall @K\n",
    "\n",
    "# As per Cumulative Gain chart, it is possible to identify that between 40% and 50% the model is able to find all interested customers.\n",
    "aux = x_valid['id'].count()\n",
    "k_value = 20000\n",
    "\n",
    "\n",
    "precision_xgb = precision_at_k_cv(y_valid, yhat_xgb, k_value)\n",
    "recall_xgb = recall_at_k_cv(y_valid, yhat_xgb, k_value)\n",
    "XGB_performance = ml_performance('XGB', precision_xgb, recall_xgb )\n",
    "XGB_performance"
   ]
  },
  {
   "cell_type": "markdown",
   "id": "550f9cbc",
   "metadata": {
    "hidden": true,
    "tags": []
   },
   "source": [
    "#### KNN"
   ]
  },
  {
   "cell_type": "code",
   "execution_count": null,
   "id": "9c2ce8fb",
   "metadata": {
    "ExecuteTime": {
     "end_time": "2023-09-18T19:48:28.693242Z",
     "start_time": "2023-09-18T19:48:28.680109Z"
    },
    "hidden": true
   },
   "outputs": [],
   "source": [
    "# Model Definition\n",
    "clf_knn = KNeighborsClassifier( n_neighbors = 8 )"
   ]
  },
  {
   "cell_type": "code",
   "execution_count": null,
   "id": "727aaf9a",
   "metadata": {
    "ExecuteTime": {
     "end_time": "2023-09-18T19:48:28.708865Z",
     "start_time": "2023-09-18T19:48:28.696564Z"
    },
    "hidden": true
   },
   "outputs": [],
   "source": [
    "# Pipeline\n",
    "model_pipeline_knn = pipeline.Pipeline( steps = [ (\"woe_encoder\", woe_encoder),\n",
    "                                                  (\"power_transform\", power_transform),\n",
    "                                                  (\"clf_knn\", clf_knn)])"
   ]
  },
  {
   "cell_type": "code",
   "execution_count": null,
   "id": "561ae8ea",
   "metadata": {
    "ExecuteTime": {
     "end_time": "2023-09-18T19:48:47.202933Z",
     "start_time": "2023-09-18T19:48:28.713134Z"
    },
    "hidden": true
   },
   "outputs": [],
   "source": [
    "cross_validation(5, 'knn', model_pipeline_knn, x_train, y_train, 20000)"
   ]
  },
  {
   "cell_type": "code",
   "execution_count": null,
   "id": "1426d45e",
   "metadata": {
    "ExecuteTime": {
     "end_time": "2023-09-18T19:48:49.126291Z",
     "start_time": "2023-09-18T19:48:47.209397Z"
    },
    "hidden": true
   },
   "outputs": [],
   "source": [
    "model_pipeline_knn.fit(x_train, y_train)"
   ]
  },
  {
   "cell_type": "code",
   "execution_count": null,
   "id": "63d1ea0e",
   "metadata": {
    "ExecuteTime": {
     "end_time": "2023-09-18T19:48:53.012103Z",
     "start_time": "2023-09-18T19:48:49.133518Z"
    },
    "hidden": true
   },
   "outputs": [],
   "source": [
    "yhat_knn = model_pipeline_knn.predict_proba(x_valid)"
   ]
  },
  {
   "cell_type": "code",
   "execution_count": null,
   "id": "12376c24",
   "metadata": {
    "ExecuteTime": {
     "end_time": "2023-09-18T19:48:54.502143Z",
     "start_time": "2023-09-18T19:48:53.014926Z"
    },
    "hidden": true
   },
   "outputs": [],
   "source": [
    "fig, axs = plt.subplots(ncols= 3, figsize = (18,5))\n",
    "\n",
    "# cumulative gain - Metric for sorting problem\n",
    "skplt.metrics.plot_cumulative_gain(y_valid, yhat_knn, ax=axs[0],title='Cumulative Gain - XGB');\n",
    "\n",
    "# Lift Curve\n",
    "skplt.metrics.plot_lift_curve(y_valid, yhat_knn, ax=axs[1],title='Lift Curve - XGB');\n",
    "\n",
    "# Roc Curve\n",
    "skplt.metrics.plot_roc(y_valid, yhat_knn, ax=axs[2], title='ROC-Curve - XGB');\n",
    "\n",
    "plt.tight_layout()"
   ]
  },
  {
   "cell_type": "code",
   "execution_count": null,
   "id": "fa062091",
   "metadata": {
    "ExecuteTime": {
     "end_time": "2023-09-18T19:48:54.594432Z",
     "start_time": "2023-09-18T19:48:54.504417Z"
    },
    "hidden": true
   },
   "outputs": [],
   "source": [
    "# Precision and Recall @K\n",
    "k_value = 20000\n",
    "\n",
    "\n",
    "precision_knn = precision_at_k_cv(y_valid, yhat_knn, k_value)\n",
    "recall_knn = recall_at_k_cv(y_valid, yhat_knn, k_value)\n",
    "KNN_performance = ml_performance('KNN', precision_knn, recall_knn )\n",
    "KNN_performance"
   ]
  },
  {
   "cell_type": "markdown",
   "id": "a742dc95",
   "metadata": {
    "heading_collapsed": true,
    "tags": []
   },
   "source": [
    "## 9 - HYPERPARAMETER FINE TUNING"
   ]
  },
  {
   "cell_type": "markdown",
   "id": "5e84828f",
   "metadata": {
    "hidden": true
   },
   "source": [
    "### 9.1 - XGB Fine Tuning"
   ]
  },
  {
   "cell_type": "code",
   "execution_count": null,
   "id": "44ce8708",
   "metadata": {
    "ExecuteTime": {
     "end_time": "2023-09-18T19:53:23.677906Z",
     "start_time": "2023-09-18T19:53:23.657767Z"
    },
    "hidden": true
   },
   "outputs": [],
   "source": [
    "# XGB\n",
    "def objective_xgb(trial):\n",
    "    \"\"\"Define the objective function\"\"\"\n",
    "    params = {\n",
    "        'clf_xgb__max_depth': trial.suggest_int('clf_xgb__max_depth', 5, 20),\n",
    "        'clf_xgb__eta': trial.suggest_float('clf_xgb__eta', 0.01, 0.05),\n",
    "        'clf_xgb__learning_rate': trial.suggest_loguniform('clf_xgb__learning_rate', 0.01, 1.0),\n",
    "        'clf_xgb__n_estimators': trial.suggest_int('clf_xgb__n_estimators', 100, 1000),\n",
    "        'clf_xgb__min_child_weight': trial.suggest_int('clf_xgb__min_child_weight', 1, 15),\n",
    "        'clf_xgb__gamma': trial.suggest_loguniform('clf_xgb__gamma', 1e-8, 1.0),\n",
    "        'clf_xgb__subsample': trial.suggest_loguniform('clf_xgb__subsample', 0.01, 1.0),\n",
    "        'clf_xgb__colsample_bytree': trial.suggest_loguniform('clf_xgb__colsample_bytree', 0.1, 1.0),\n",
    "        'clf_xgb__reg_alpha': trial.suggest_loguniform('clf_xgb__reg_alpha', 1e-8, 1.0),\n",
    "        'clf_xgb__reg_lambda': trial.suggest_loguniform('clf_xgb__reg_lambda', 1e-8, 1.0),\n",
    "        'clf_xgb__eval_metric': 'mlogloss'\n",
    "    }\n",
    "\n",
    "    # Fit the model\n",
    "    model_pipeline_xgb.set_params(**params)\n",
    "    model_pipeline_xgb.fit(x_train, y_train)\n",
    "\n",
    "    # Make predictions\n",
    "    optuna_xgb_pred = model_pipeline_xgb.predict_proba(x_valid)\n",
    "\n",
    "    # Evaluate predictions\n",
    "    aux = x_valid['id'].count()\n",
    "    k_value = round(0.4 * aux)\n",
    "    k_value\n",
    "    recall_atK = recall_at_k_cv(y_valid, optuna_xgb_pred, k_value)\n",
    "    return  recall_atK"
   ]
  },
  {
   "cell_type": "code",
   "execution_count": null,
   "id": "5d0eed2c",
   "metadata": {
    "ExecuteTime": {
     "end_time": "2023-09-18T19:54:53.437927Z",
     "start_time": "2023-09-18T19:53:24.130418Z"
    },
    "hidden": true
   },
   "outputs": [],
   "source": [
    "study_xgb = optuna.create_study(direction='maximize')\n",
    "study_xgb.optimize(objective_xgb, n_trials=2)"
   ]
  },
  {
   "cell_type": "code",
   "execution_count": null,
   "id": "9efec248",
   "metadata": {
    "ExecuteTime": {
     "end_time": "2023-09-18T19:54:53.453581Z",
     "start_time": "2023-09-18T19:54:53.440220Z"
    },
    "hidden": true
   },
   "outputs": [],
   "source": [
    "print('Number of finished trials: {}'.format(len(study_xgb.trials)))\n",
    "print('Best trial:')\n",
    "trial = study_xgb.best_trial\n",
    "\n",
    "print('  Value: {}'.format(trial.value))\n",
    "print('  Params: ')\n",
    "\n",
    "for key, value in trial.params.items():\n",
    "    print('    {}: {}'.format(key, value))"
   ]
  },
  {
   "cell_type": "code",
   "execution_count": null,
   "id": "34b87e34",
   "metadata": {
    "ExecuteTime": {
     "end_time": "2023-09-18T19:54:53.469167Z",
     "start_time": "2023-09-18T19:54:53.455947Z"
    },
    "hidden": true
   },
   "outputs": [],
   "source": [
    "param_xgb = {'scale_pos_weight': estimate,\n",
    "             'max_depth': 6,\n",
    "             'eta': 0.0310260525237683,\n",
    "             'learning_rate': 0.03914508739999509,\n",
    "             'n_estimators': 619,\n",
    "             'min_child_weight': 9,\n",
    "             'gamma': 3.06408087126589e-05,\n",
    "             'subsample': 0.3640515535413122,\n",
    "             'colsample_bytree': 0.449945653612218,\n",
    "             'reg_alpha': 0.143727642904309,\n",
    "             'reg_lambda': 0.020464155005749916\n",
    "            }"
   ]
  },
  {
   "cell_type": "markdown",
   "id": "13330095",
   "metadata": {
    "heading_collapsed": true
   },
   "source": [
    "## 9.3 - ML Model After Tuning"
   ]
  },
  {
   "cell_type": "code",
   "execution_count": null,
   "id": "03df4181-48bb-46db-b967-d4ef01023965",
   "metadata": {
    "ExecuteTime": {
     "end_time": "2023-09-18T19:55:11.579669Z",
     "start_time": "2023-09-18T19:55:11.525761Z"
    },
    "hidden": true
   },
   "outputs": [],
   "source": [
    "x_lasttrain = pd.concat([x_train, x_valid], axis=0)\n",
    "y_lasttrain = pd.concat([y_train, y_valid], axis=0)"
   ]
  },
  {
   "cell_type": "markdown",
   "id": "d7fb8697",
   "metadata": {
    "hidden": true
   },
   "source": [
    "### XGB After Tuning"
   ]
  },
  {
   "cell_type": "code",
   "execution_count": null,
   "id": "487221b7",
   "metadata": {
    "ExecuteTime": {
     "end_time": "2023-09-18T19:55:12.686187Z",
     "start_time": "2023-09-18T19:55:12.668796Z"
    },
    "hidden": true
   },
   "outputs": [],
   "source": [
    "# Model Definition\n",
    "clf_xgb_ft = XGBClassifier(**param_xgb)\n"
   ]
  },
  {
   "cell_type": "code",
   "execution_count": null,
   "id": "f3d06b9b",
   "metadata": {
    "ExecuteTime": {
     "end_time": "2023-09-18T19:55:13.597080Z",
     "start_time": "2023-09-18T19:55:13.579148Z"
    },
    "hidden": true
   },
   "outputs": [],
   "source": [
    "# Pipeline\n",
    "model_pipeline_xgb_ft = pipeline.Pipeline( steps = [(\"woe_encoder\", woe_encoder),\n",
    "                                                   (\"power_transform\", power_transform),\n",
    "                                                   (\"clf_xgb_ft\", clf_xgb_ft)])"
   ]
  },
  {
   "cell_type": "code",
   "execution_count": null,
   "id": "4cce593c",
   "metadata": {
    "ExecuteTime": {
     "end_time": "2023-09-18T19:56:17.603631Z",
     "start_time": "2023-09-18T19:55:15.140768Z"
    },
    "hidden": true
   },
   "outputs": [],
   "source": [
    "model_pipeline_xgb_ft.fit(x_lasttrain, y_lasttrain)"
   ]
  },
  {
   "cell_type": "code",
   "execution_count": null,
   "id": "c06c34fb-7621-45c9-bdda-39b2b652d3be",
   "metadata": {
    "ExecuteTime": {
     "end_time": "2023-09-18T19:56:18.063613Z",
     "start_time": "2023-09-18T19:56:17.603631Z"
    },
    "hidden": true
   },
   "outputs": [],
   "source": [
    "yhat_xgb_ft = model_pipeline_xgb_ft.predict_proba(x_test)"
   ]
  },
  {
   "cell_type": "code",
   "execution_count": null,
   "id": "d605b041",
   "metadata": {
    "ExecuteTime": {
     "end_time": "2023-09-18T19:56:20.026636Z",
     "start_time": "2023-09-18T19:56:18.065610Z"
    },
    "hidden": true
   },
   "outputs": [],
   "source": [
    "fig, axs = plt.subplots(ncols= 3, figsize = (18,5))\n",
    "\n",
    "# cumulative gain - Metric for sorting problem\n",
    "skplt.metrics.plot_cumulative_gain(y_test, yhat_xgb_ft, ax=axs[0],title='Cumulative Gain - XGB');\n",
    "\n",
    "# Lift Curve\n",
    "skplt.metrics.plot_lift_curve(y_test, yhat_xgb_ft,ax=axs[1],title='Lift Curve - XGB');\n",
    "\n",
    "# Roc Curve\n",
    "skplt.metrics.plot_roc(y_test, yhat_xgb_ft, ax=axs[2], title='ROC-Curve - XGB');\n",
    "\n",
    "plt.tight_layout()"
   ]
  },
  {
   "cell_type": "code",
   "execution_count": null,
   "id": "edcc335c-498a-4f88-b0cf-54d53b19664b",
   "metadata": {
    "ExecuteTime": {
     "end_time": "2023-09-18T19:56:20.181974Z",
     "start_time": "2023-09-18T19:56:20.026636Z"
    },
    "hidden": true
   },
   "outputs": [],
   "source": [
    "# Precision and Recall @K\n",
    "k_value = 20000\n",
    "\n",
    "\n",
    "precision_xgb_ft = precision_at_k_cv(y_test, yhat_xgb_ft, k_value)\n",
    "recall_xgb_ft = recall_at_k_cv(y_test, yhat_xgb_ft, k_value)\n",
    "KNN_performance = ml_performance('XGB FT', precision_xgb_ft, recall_xgb_ft )\n",
    "KNN_performance"
   ]
  },
  {
   "cell_type": "code",
   "execution_count": null,
   "id": "2ac305c3",
   "metadata": {
    "ExecuteTime": {
     "end_time": "2023-09-18T20:00:27.579204Z",
     "start_time": "2023-09-18T19:56:20.186081Z"
    },
    "hidden": true
   },
   "outputs": [],
   "source": [
    "# Precision and Recall @K\n",
    "cross_validation(5, 'xgb_tuned', model_pipeline_xgb_ft, x_lasttrain, y_lasttrain, 20000)"
   ]
  },
  {
   "cell_type": "markdown",
   "id": "27a55409",
   "metadata": {
    "heading_collapsed": true,
    "jp-MarkdownHeadingCollapsed": true,
    "tags": []
   },
   "source": [
    "## 10 - DEPLOYING MODEL TO PRODUCTION"
   ]
  },
  {
   "cell_type": "markdown",
   "id": "04e92906",
   "metadata": {
    "hidden": true
   },
   "source": [
    "### 10.1 - HEALTHINSURANCE CLASS"
   ]
  },
  {
   "cell_type": "code",
   "execution_count": null,
   "id": "6fa080b9",
   "metadata": {
    "hidden": true
   },
   "outputs": [],
   "source": [
    "import pickle\n",
    "import inflection\n",
    "import numpy  as np\n",
    "import pandas as pd\n",
    "\n",
    "class HealthInsurance:\n",
    "    \n",
    "    def __init__( self ):\n",
    "        self.home_path                                = ''\n",
    "        self.frequency_encode_policy_sales_scaler     = pickle.load( open( self.home_path + 'src/features/frequency_encode_policy_sales_scaler.pkl', 'rb') )\n",
    "        self.frequency_encode_region_code_scaler      = pickle.load( open( self.home_path + 'src/features/frequency_encode_region_code_scaler.pkl', 'rb') )\n",
    "        self.target_encode_gender_scaler              = pickle.load( open( self.home_path + 'src/features/target_encode_gender_scaler.pkl', 'rb') )\n",
    "        self.target_encode_vintage_month_scaler       = pickle.load( open( self.home_path + 'src/features/target_encode_vintage_month_scaler.pkl', 'rb') )\n",
    "        self.age_scaler                               = pickle.load( open( self.home_path + 'src/features/age_scaler.pkl', 'rb') )\n",
    "        self.avg_vehicle_damage_region_code_scaler    = pickle.load( open( self.home_path + 'src/features/age_scaler.pkl', 'rb') )\n",
    "        self.avg_vintage_age_scaler                   = pickle.load( open( self.home_path + 'src/features/avg_vintage_age_scaler.pkl', 'rb') )\n",
    "        self.vintage_scaler                           = pickle.load( open( self.home_path + 'src/features/vintage_scaler.pkl', 'rb') )\n",
    "        self.age_premium_scaler                       = pickle.load( open( self.home_path + 'src/features/age_premium_scaler.pkl', 'rb') )\n",
    "        self.annual_premium_scaler                    = pickle.load( open( self.home_path + 'src/features/age_premium_scaler.pkl', 'rb') )\n",
    "        self.avg_day_premium_policy_scaler            = pickle.load( open( self.home_path + 'src/features/avg_day_premium_policy_scaler.pkl', 'rb') )\n",
    "        self.day_premium_scaler                       = pickle.load( open( self.home_path + 'src/features/day_premium_scaler.pkl', 'rb') )\n",
    "        self.median_premium_by_region_scaler          = pickle.load( open( self.home_path + 'src/features/median_premium_by_region_scaler.pkl', 'rb') )\n",
    "        self.region_premium_scaler                    = pickle.load( open( self.home_path + 'src/features/region_premium_scaler.pkl', 'rb') )\n",
    "    \n",
    "    def data_cleaning( self, df5 ):\n",
    " \n",
    "        ## rename Columns\n",
    "        cols_old = ['id', 'Gender', 'Age', 'Driving_License', 'Region_Code', 'Previously_Insured', 'Vehicle_Age', 'Vehicle_Damage', 'Annual_Premium', 'Policy_Sales_Channel', 'Vintage']\n",
    "\n",
    "        snakecase = lambda x: inflection.underscore( x )\n",
    "        cols_new = list( map( snakecase, cols_old ) )\n",
    "        \n",
    "        # rename\n",
    "        df5.columns = cols_new\n",
    "        \n",
    "        return( df5 )\n",
    "\n",
    "    def feature_engineering( self, df5 ):\n",
    "        \n",
    "        # Fitting vehicle_age column\n",
    "        df5['vehicle_age'] = df5['vehicle_age'].apply(lambda x: 1 if (x == '< 1 Year') else 2 if (x == '1-2 Year') else 3)\n",
    "\n",
    "        # Fitting vehicle_damage column\n",
    "        df5['vehicle_damage'] = df5['vehicle_damage'].apply(lambda x: 1 if (x == 'Yes') else 0)\n",
    "        \n",
    "        # median_premium_by_region\n",
    "        dict_region_code = df5[['annual_premium', 'region_code']].groupby('region_code').median().to_dict(orient='dict')['annual_premium']\n",
    "        df5['median_premium_by_region'] = df5['region_code'].map(dict_region_code)\n",
    "\n",
    "        # moda policy sales chanel por idade\n",
    "        mode_policy_per_age = df5[['age', 'policy_sales_channel']].groupby('age').agg(pd.Series.mode).to_dict(orient='dict')['policy_sales_channel']\n",
    "        df5['mode_policy_per_age'] = df5['age'].map(mode_policy_per_age)\n",
    "\n",
    "        # Media de carros danificados por idade\n",
    "        avg_carros_danificados_idade = df5[['age', 'vehicle_damage']].groupby('age').mean().to_dict(orient='dict')['vehicle_damage']\n",
    "        df5['avg_vehicle_damage_per_age'] = df5['age'].map(avg_carros_danificados_idade)\n",
    "\n",
    "        # Media de carros danificados por regiao\n",
    "        avg_carros_danificados_regiao = df5[['age', 'region_code']].groupby('age').mean().to_dict(orient='dict')['region_code']\n",
    "        df5['avg_vehicle_damage_region_code'] = df5['age'].map(avg_carros_danificados_regiao)\n",
    "\n",
    "        # age_group feature creation\n",
    "        df5['age_group'] = df5['age'].apply(lambda x: 1 if (x >= 18 | x < 30 ) else 2 if (x >= 30 | x < 60 ) else 3)\n",
    "\n",
    "        # vintage_month feature cration\n",
    "        df5['vintage_month'] = round(df5['vintage'] / 31)\n",
    "\n",
    "        # day_premium feature creation\n",
    "        df5['day_premium'] = df5['annual_premium']/df5['vintage']\n",
    "\n",
    "        # age_premium feature cration\n",
    "        df5['age_premium'] = df5['annual_premium']/df5['age']\n",
    "\n",
    "        # Calculating Median Annual Premium by Region_code\n",
    "        premium_rc = df5[['annual_premium', 'region_code']].groupby('region_code').median().to_dict(orient='dict')['annual_premium']\n",
    "        df5['region_premium'] = df5['region_code'].map(premium_rc)\n",
    "\n",
    "        # Calculating Median Aday_premium per policy_sales_channel\n",
    "        day_premium_psc = df5[['day_premium', 'policy_sales_channel']].groupby('policy_sales_channel').mean().to_dict(orient='dict')['day_premium']\n",
    "        df5['avg_day_premium_policy'] = df5['policy_sales_channel'].map(day_premium_psc)\n",
    "\n",
    "        # avg vintage per age\n",
    "        avg_vintage_per_age = df5[['age', 'vintage']].groupby('age').mean().to_dict(orient='dict')['vintage']\n",
    "        df5['avg_vintage_age'] = df5['age'].map(avg_vintage_per_age)\n",
    "        \n",
    "        return( df5 )\n",
    "    \n",
    "    def data_preparation( self, df5 ):\n",
    "              \n",
    "        # STANDARDIZATION\n",
    "\n",
    "        # annual premium\n",
    "        df5['annual_premium'] = self.annual_premium_scaler.transform( df5[['annual_premium']].values )\n",
    "\n",
    "        # age_premium\n",
    "        df5['age_premium'] = self.age_premium_scaler.transform( df5[['age_premium']].values )\n",
    "\n",
    "        # day_premium\n",
    "        df5['day_premium'] = self.day_premium_scaler.transform( df5[['day_premium']].values )\n",
    "\n",
    "        # avg_day_premium_policy\n",
    "        df5['avg_day_premium_policy'] = self.avg_day_premium_policy_scaler.transform( df5[['avg_day_premium_policy']].values )\n",
    "\n",
    "        # median_premium_by_region\n",
    "        df5['median_premium_by_region'] = self.median_premium_by_region_scaler.transform( df5[['median_premium_by_region']].values )\n",
    "\n",
    "        # region_premium\n",
    "        df5['region_premium'] = self.region_premium_scaler.transform( df5[['region_premium']].values )\n",
    "\n",
    "\n",
    "\n",
    "        # REESCALING\n",
    "\n",
    "        # age\n",
    "        df5['age'] = self.age_scaler.transform( df5[['age']].values )\n",
    "\n",
    "        # vintage\n",
    "        df5['vintage'] = self.vintage_scaler.transform( df5[['vintage']].values )\n",
    "\n",
    "        # avg_vintage_age\n",
    "        df5['avg_vintage_age'] = self.avg_vintage_age_scaler.transform( df5[['avg_vintage_age']].values )\n",
    "\n",
    "        # vintage_month\n",
    "        df5['vintage_month'] = self.vintage_scaler.transform( df5[['vintage_month']].values )\n",
    "\n",
    "        # avg_vehicle_damage_region_code\n",
    "        df5['avg_vehicle_damage_region_code'] = self.avg_vehicle_damage_region_code_scaler.transform( df5[['avg_vehicle_damage_region_code']].values )\n",
    "\n",
    "\n",
    "\n",
    "        # ENCODER\n",
    "\n",
    "        # policy sales channel\n",
    "        df5.loc[:, 'policy_sales_channel'] = df5['policy_sales_channel'].map( self.frequency_encode_policy_sales_scaler )\n",
    "\n",
    "        # region code\n",
    "        df5.loc[:, 'region_code'] = df5['region_code'].map( self.frequency_encode_region_code_scaler )\n",
    "\n",
    "        # gender\n",
    "        df5.loc[:, 'gender'] = df5['gender'].map( self.target_encode_gender_scaler )\n",
    "\n",
    "        # vintage_month\n",
    "        df5.loc[:, 'vintage_month'] = df5['vintage_month'].map( self.target_encode_vintage_month_scaler )\n",
    "\n",
    "        # FILL NAN VALUES\n",
    "        x_valid = x_valid.fillna(0)\n",
    "        \n",
    "        # Feature Selection\n",
    "        cols_selected = ['vehicle_damage','previously_insured','vintage','day_premium','age_premium','annual_premium','vintage_month','region_code','avg_vehicle_damage_per_age','policy_sales_channel','age','median_premium_by_region','region_premium',\n",
    "                         'avg_day_premium_policy','vehicle_age','avg_vehicle_damage_region_code','avg_vintage_age','gender']\n",
    "        \n",
    "        return df5[cols_selected]\n",
    "    \n",
    "\n",
    "    def get_prediction( self, model, original_data, test_data ):\n",
    "        # prediction\n",
    "        pred = model.predict_proba( test_data )\n",
    "        \n",
    "        # join pred into the original data\n",
    "        original_data['score'] = pred[:, 1].tolist()\n",
    "        \n",
    "        return original_data.to_json( orient='records', date_format='iso' )"
   ]
  },
  {
   "cell_type": "markdown",
   "id": "13ce5926",
   "metadata": {
    "heading_collapsed": true,
    "hidden": true
   },
   "source": [
    "### 10.2 - API HANDLER"
   ]
  },
  {
   "cell_type": "code",
   "execution_count": null,
   "id": "a985f9b0",
   "metadata": {
    "hidden": true
   },
   "outputs": [],
   "source": [
    "import pickle\n",
    "import pandas as pd\n",
    "import os\n",
    "from flask                           import Flask, request, Response\n",
    "from healthinsurance.healthinsurance import HealthInsurance\n",
    "\n",
    "# logading model\n",
    "model = pickle.load( open( 'src/models/xgb_model.pkl', 'rb' ) )\n",
    "                          \n",
    "# initialize API\n",
    "app = Flask( __name__ )\n",
    "\n",
    "@app.route( '/healthinsurance/predict', methods=['POST'] )\n",
    "def health_insurance_predict():\n",
    "    test_json = request.get_json()\n",
    "    \n",
    "    if test_json: #there is data\n",
    "               \n",
    "        if isinstance( test_json, dict ): # unique example\n",
    "            test_raw = pd.DataFrame( test_json, index=[0] )\n",
    "    \n",
    "        else:\n",
    "            test_raw = pd.DataFrame( test_json, columns=test_json[0].keys() ) # multiple examples\n",
    "            \n",
    "        # Instantiate Rossmann Class\n",
    "        pipeline = HealthInsurance()\n",
    "\n",
    "        # data cleaning\n",
    "        df1 = pipeline.data_cleaning( test_raw )\n",
    "              \n",
    "        # feature engineering\n",
    "        df2 = pipeline.feature_engineering( df1 )\n",
    "\n",
    "        # Data Preparation\n",
    "        df3 = pipeline.data_preparation( df2 )\n",
    "                              \n",
    "        # prediction\n",
    "        df_response = pipeline.get_prediction( model, test_raw, df3 )\n",
    "        \n",
    "        return df_response\n",
    "        \n",
    "    else:\n",
    "        return Response( '{}', status=200, mimetype='application/json' )\n",
    "\n",
    "if __name__ == '__main__':\n",
    "    app.run('0.0.0.0')\n",
    "\n",
    "#    port = os.environ.get('PORT', 5000)\n",
    "#    app.run( host='0.0.0.0', port=port )"
   ]
  },
  {
   "cell_type": "markdown",
   "id": "bb70275f",
   "metadata": {
    "heading_collapsed": true,
    "jp-MarkdownHeadingCollapsed": true,
    "tags": []
   },
   "source": [
    "## 11 - BUSINESS QUESTIONS"
   ]
  },
  {
   "cell_type": "code",
   "execution_count": null,
   "id": "e8953a91",
   "metadata": {
    "ExecuteTime": {
     "end_time": "2023-07-26T20:52:47.996484Z",
     "start_time": "2023-07-26T20:52:47.976533Z"
    },
    "hidden": true
   },
   "outputs": [],
   "source": [
    "df_11 = pd.concat([x_test, y_test], axis=1)"
   ]
  },
  {
   "cell_type": "code",
   "execution_count": null,
   "id": "0ce6f402",
   "metadata": {
    "ExecuteTime": {
     "end_time": "2023-07-26T20:53:21.733106Z",
     "start_time": "2023-07-26T20:53:21.719723Z"
    },
    "hidden": true
   },
   "outputs": [],
   "source": [
    "df_11['prediction'] = yhat_lgbm_ft[:,1]"
   ]
  },
  {
   "cell_type": "code",
   "execution_count": null,
   "id": "e773baf2",
   "metadata": {
    "ExecuteTime": {
     "end_time": "2023-07-26T20:53:23.906194Z",
     "start_time": "2023-07-26T20:53:23.876472Z"
    },
    "hidden": true
   },
   "outputs": [],
   "source": [
    "df_11.head()"
   ]
  },
  {
   "cell_type": "markdown",
   "id": "dcad5aa4",
   "metadata": {
    "hidden": true
   },
   "source": [
    "### 1 - What percentage of customers interested in purchasing a car insurance will the sales team be able to contact by making 20,000 calls?"
   ]
  },
  {
   "cell_type": "code",
   "execution_count": null,
   "id": "ade1e518",
   "metadata": {
    "ExecuteTime": {
     "end_time": "2023-07-26T21:12:26.137506Z",
     "start_time": "2023-07-26T21:12:26.095182Z"
    },
    "hidden": true,
    "hide_input": true
   },
   "outputs": [],
   "source": [
    "n = 20000\n",
    "ax1 = df_11['id'][(df_11['prediction'] > 0.5)].count()\n",
    "q1 = df_11.sort_values(by='prediction', ascending=False)\n",
    "ax2 = q1.iloc[:20000]\n",
    "ax3 = (ax2['response'] == 1).sum()\n",
    "ax4 = (df_11['response'] == 1).sum()\n",
    "\n",
    "print(f'Numbers os contacts: {n} ({n/len(df_11):.2%})')\n",
    "print(f'Will impact {ax3/ax4:.2%} of interested customers')"
   ]
  },
  {
   "cell_type": "markdown",
   "id": "60c32be7",
   "metadata": {
    "hidden": true
   },
   "source": [
    "### 2 -  And if the sales team's capacity increases to 40,000 calls, what percentage of customers interested in purchasing a car insurance will the sales team be able to contact?"
   ]
  },
  {
   "cell_type": "code",
   "execution_count": null,
   "id": "ec34b16a",
   "metadata": {
    "ExecuteTime": {
     "end_time": "2023-07-26T21:12:56.558662Z",
     "start_time": "2023-07-26T21:12:56.505149Z"
    },
    "hidden": true
   },
   "outputs": [],
   "source": [
    "n = 40000\n",
    "ax1 = df_11['id'][(df_11['prediction'] > 0.5)].count()\n",
    "q1 = df_11.sort_values(by='prediction', ascending=False)\n",
    "ax2 = q1.iloc[:40000]\n",
    "ax3 = (ax2['response'] == 1).sum()\n",
    "ax4 = (df_11['response'] == 1).sum()\n",
    "\n",
    "print(f'Numbers os contacts: {n} ({n/len(df_11):.2%})')\n",
    "print(f'Will impact {ax3/ax4:.2%} of interested customers')"
   ]
  },
  {
   "cell_type": "markdown",
   "id": "7802ffc0",
   "metadata": {
    "hidden": true
   },
   "source": [
    "### 3 - How many calls does the sales team need to make to contact 80% of customers interested in purchasing a car insurance?"
   ]
  },
  {
   "cell_type": "code",
   "execution_count": null,
   "id": "c92b19e5",
   "metadata": {
    "ExecuteTime": {
     "end_time": "2023-07-26T21:19:23.516664Z",
     "start_time": "2023-07-26T21:19:23.479729Z"
    },
    "hidden": true
   },
   "outputs": [],
   "source": [
    "n = 20000\n",
    "ax1 = df_11['id'][(df_11['prediction'] > 0.5)].count()\n",
    "q1 = df_11.sort_values(by='prediction', ascending=False)\n",
    "ax2 = q1.iloc[:23500]\n",
    "ax3 = (ax2['response'] == 1).sum()\n",
    "ax4 = (df_11['response'] == 1).sum()\n",
    "\n",
    "print(f'Numbers os contacts: {n} ({n/len(df_11):.2%})')\n",
    "print(f'Will impact {ax3/ax4:.2%} of interested customers')"
   ]
  }
 ],
 "metadata": {
  "hide_input": false,
  "kernelspec": {
   "display_name": "Python 3 (ipykernel)",
   "language": "python",
   "name": "python3"
  },
  "language_info": {
   "codemirror_mode": {
    "name": "ipython",
    "version": 3
   },
   "file_extension": ".py",
   "mimetype": "text/x-python",
   "name": "python",
   "nbconvert_exporter": "python",
   "pygments_lexer": "ipython3",
   "version": "3.10.14"
  }
 },
 "nbformat": 4,
 "nbformat_minor": 5
}
