{
 "cells": [
  {
   "cell_type": "markdown",
   "id": "8ba1e0d7",
   "metadata": {},
   "source": [
    "# PA004 - HEALTH INSURANCE CROS-SELL"
   ]
  },
  {
   "cell_type": "markdown",
   "id": "c8ee28ec",
   "metadata": {},
   "source": [
    "Last version of project, according Machine Learning Fundamentals course"
   ]
  },
  {
   "cell_type": "markdown",
   "id": "ce96817c",
   "metadata": {},
   "source": [
    "## 0 - IMPORTS AND FUNCTIONS"
   ]
  },
  {
   "cell_type": "code",
   "execution_count": 1,
   "id": "17f6ae08",
   "metadata": {
    "ExecuteTime": {
     "end_time": "2023-07-15T18:03:09.960940Z",
     "start_time": "2023-07-15T18:03:07.132059Z"
    }
   },
   "outputs": [
    {
     "name": "stderr",
     "output_type": "stream",
     "text": [
      "C:\\Users\\perot\\anaconda3\\envs\\health_insurance_venv\\lib\\site-packages\\tqdm\\auto.py:22: TqdmWarning: IProgress not found. Please update jupyter and ipywidgets. See https://ipywidgets.readthedocs.io/en/stable/user_install.html\n",
      "  from .autonotebook import tqdm as notebook_tqdm\n",
      "C:\\Users\\perot\\AppData\\Local\\Temp\\ipykernel_976\\3899416516.py:21: DeprecationWarning: `import pandas_profiling` is going to be deprecated by April 1st. Please use `import ydata_profiling` instead.\n",
      "  from pandas_profiling        import ProfileReport\n"
     ]
    }
   ],
   "source": [
    "import warnings\n",
    "import optuna\n",
    "import random\n",
    "import pickle\n",
    "\n",
    "import lightgbm                                               as lgbm\n",
    "import scikitplot                                             as skplt\n",
    "import matplotlib.patches                                     as mpatches\n",
    "import matplotlib.pyplot                                      as plt\n",
    "import numpy                                                  as np\n",
    "import plotly.express                                         as px\n",
    "import pandas                                                 as pd\n",
    "import seaborn                                                as sns\n",
    "\n",
    "from sklearn                 import preprocessing             as pp\n",
    "from sklearn                 import model_selection           as ms\n",
    "from sklearn                 import neighbors                 as nh\n",
    "from sklearn                 import ensemble                  as en\n",
    "from sklearn                 import metrics                   as mt\n",
    "\n",
    "from pandas_profiling        import ProfileReport\n",
    "from IPython.core.display    import HTML\n",
    "from IPython.display         import Image\n",
    "from xgboost                 import XGBClassifier\n",
    "from sklearn.metrics         import log_loss\n",
    "from sklearn.model_selection import StratifiedKFold\n",
    "from optuna.integration      import LightGBMPruningCallback\n",
    "from sklearn.metrics         import precision_recall_curve\n",
    "\n",
    "warnings.filterwarnings( 'ignore' )"
   ]
  },
  {
   "cell_type": "markdown",
   "id": "43cdef58",
   "metadata": {},
   "source": [
    "### 0.1 - HELPER FUNCTIONS"
   ]
  },
  {
   "cell_type": "code",
   "execution_count": 2,
   "id": "cc80304a",
   "metadata": {
    "ExecuteTime": {
     "end_time": "2023-07-15T18:03:10.009812Z",
     "start_time": "2023-07-15T18:03:09.962942Z"
    },
    "code_folding": []
   },
   "outputs": [],
   "source": [
    "def recall_at_k (data, k=20000):\n",
    "    # Reset Index\n",
    "    data = data.reset_index( drop=True )\n",
    "\n",
    "    # Create Ranking Order\n",
    "    data['ranking'] = data.index + 1\n",
    "\n",
    "    data['recall_at_k'] = data['response'].cumsum() / data['response'].sum()\n",
    "\n",
    "    return data.loc[k, 'recall_at_k'] \n",
    "\n",
    "def precision_at_k (data, k=20000):\n",
    "    # Reset Index\n",
    "    data = data.reset_index( drop=True )\n",
    "\n",
    "    # Create Ranking Order\n",
    "    data['ranking'] = data.index + 1\n",
    "\n",
    "    data['precision_at_k'] = data['response'].cumsum() / data['ranking']\n",
    "\n",
    "    return data.loc[k, 'precision_at_k']\n",
    "\n",
    "def cramer_v( x, y):\n",
    "    cm = pd.crosstab( x, y).values   \n",
    "    n = cm.sum()\n",
    "    r, k = cm.shape    \n",
    "    \n",
    "    chi2 = ss.chi2_contingency( cm )[0]\n",
    "    chi2corr = max( 0, chi2 - (k-1)*(r-1)/(n-1) )\n",
    "    kcorr = k - (k-1)**2/(n-1)\n",
    "    rcorr = r - (r-1)**2/(n-1) \n",
    "    \n",
    "    return np.sqrt( (chi2corr/n) / ( min( kcorr-1, rcorr-1 ) ) )\n",
    "\n",
    "def prediction_score(model, data):\n",
    "    # Separating train and validation dataset for each kfold\n",
    "    x_train = data.drop(columns=['response'])\n",
    "    y_train = data['response']\n",
    "    \n",
    "    # prediction probability (score)\n",
    "    yhat_proba = model.predict_proba(x_train)[:, 1].tolist()\n",
    "    \n",
    "    # merging score to dataset\n",
    "    data_scored = data.copy()\n",
    "    data_scored['score'] = yhat_proba\n",
    "    \n",
    "    # sort\n",
    "    data_scored = data_scored.sort_values('score', ascending=False)\n",
    "    \n",
    "    # precision and recall\n",
    "    data_scored = data_scored.reset_index(drop=True)\n",
    "    data_scored['n_samples'] = data_scored.index + 1\n",
    "    data_scored['precision_at_k'] = data_scored['response'].cumsum() / data_scored['n_samples']\n",
    "    data_scored['recall_at_k'] = data_scored['response'].cumsum() / data_scored['response'].sum()\n",
    "    \n",
    "    return data_scored\n",
    "\n",
    "def cross_validation(kfold, modelName, model, data, at_k):\n",
    "    \n",
    "    # Number of folds\n",
    "    fold=ms.StratifiedKFold(n_splits = kfold, shuffle=True, random_state=42)\n",
    "    \n",
    "    # Performance variables\n",
    "    precision_list = []\n",
    "    recall_list = []\n",
    "    cv_performance = {}\n",
    "    \n",
    "    for train_cv,val_cv in fold.split(data, data['response']):\n",
    "        \n",
    "        # Separating train and validation dataset for each kfold\n",
    "        # training data\n",
    "        x_train_fold = data.iloc[train_cv]\n",
    "        x_train_fold = x_train_fold[cols_selected]\n",
    "        \n",
    "        y_train_fold = data['response'].iloc[train_cv]\n",
    "        \n",
    "        # validation data\n",
    "        x_val_fold = data.iloc[val_cv]\n",
    "        x_val_fold = x_val_fold[cols_selected]\n",
    "        \n",
    "        y_val_fold = data['response'].iloc[val_cv]\n",
    "        \n",
    "        # fitting the model\n",
    "        model_fitted = model.fit(x_train_fold,y_train_fold)\n",
    "        \n",
    "        # getting the prediction probability\n",
    "        x_val_fold['response'] = y_val_fold\n",
    "        val_scored = prediction_score(model_fitted, x_val_fold)\n",
    "        \n",
    "        # Getting precision and recall at k\n",
    "        precision = val_scored.loc[at_k, 'precision_at_k']\n",
    "        recall = val_scored.loc[at_k, 'recall_at_k']\n",
    "        \n",
    "        precision_list.append(precision)\n",
    "        recall_list.append(recall)\n",
    "        \n",
    "    # calculating the mean and std performance of all kfolds\n",
    "    precision_cv = np.round(np.mean(precision_list),4).astype(float)\n",
    "    std_precision_cv = '+/-' + np.round(np.std(precision_list),4).astype(str)\n",
    "    recall_cv = np.round(np.mean(recall_list),4).astype(float)\n",
    "    std_recall_cv = ' +/- ' + np.round(np.std(recall_list),4).astype(str)\n",
    "        \n",
    "    cv_performance[modelName] = [precision_cv, std_precision_cv, recall_cv, std_recall_cv]\n",
    "    model_performance_cv = pd.DataFrame(cv_performance, index=['precision_at_k', 'std_precision', 'recall_at_k', 'std_recall'])\n",
    "\n",
    "    return model_performance_cv\n",
    "\n",
    "def ml_performance( model_name, precision_atK, recall_atK ):\n",
    "    \n",
    "    return pd.DataFrame( {'Model Name': model_name,\n",
    "                          'Precision_at_K': precision_atK,\n",
    "                          'Recall_at_K': recall_atK}, index=[0])\n",
    "\n",
    "def data_preparation (df_prep):\n",
    "    # Fitting vehicle_age column\n",
    "    df_prep['vehicle_age'] = df_prep['vehicle_age'].apply(lambda x: 1 if (x == '< 1 Year') else 2 if (x == '1-2 Year') else 3)\n",
    "\n",
    "    # Fitting vehicle_damage column\n",
    "    df_prep['vehicle_damage'] = df_prep['vehicle_damage'].apply(lambda x: 1 if (x == 'Yes') else 0)\n",
    "    \n",
    "    # STANDARDIZATION\n",
    "\n",
    "    # annual premium\n",
    "    df_prep.loc[:, 'annual_premium'] = ss_ap.transform( df_prep[['annual_premium']].values )\n",
    "\n",
    "\n",
    "\n",
    "    # REESCALING\n",
    "\n",
    "    # age\n",
    "    df_prep.loc[:, 'age'] = mms_age.transform( df_prep[['age']].values )\n",
    "\n",
    "    # vintage\n",
    "    df_prep.loc[:, 'vintage'] = mms_vintage.transform( df_prep[['vintage']].values )\n",
    "\n",
    "\n",
    "\n",
    "    # ENCODER\n",
    "\n",
    "    # policy sales channel\n",
    "    df_prep.loc[:, 'policy_sales_channel'] = df_prep['policy_sales_channel'].map( fe_policy_sales_channel )\n",
    "\n",
    "    # region code\n",
    "    df_prep.loc[:, 'region_code'] = df_prep.loc[:, 'region_code'].map( fe_region_code )\n",
    "\n",
    "    # gender\n",
    "    df_prep.loc[:, 'gender'] = df_prep.loc[:, 'gender'].map( fe_gender )\n",
    "\n",
    "    # FILL NAN VALUES\n",
    "    df_prep = df_prep.fillna(0)\n",
    "    \n",
    "    # Feature Selection\n",
    "    cols_selected = ['vintage', 'annual_premium','age','region_code','vehicle_damage','policy_sales_channel','previously_insured','vehicle_age']\n",
    "    \n",
    "    return( df_prep[cols_selected] )\n",
    "\n",
    "def jupyter_settings():\n",
    "    %matplotlib inline\n",
    "    %pylab inline\n",
    "    \n",
    "    plt.style.use( 'bmh' )\n",
    "    plt.rcParams['figure.figsize'] = [12, 6]\n",
    "    plt.rcParams['font.size'] = 24\n",
    "    sns.set(font_scale=2)\n",
    "    display( HTML( '<style>.container {width:100% !important; }</style>') )\n",
    "    pd.options.display.max_columns = None\n",
    "    pd.options.display.max_rows = None\n",
    "    pd.set_option( 'display.expand_frame_repr', False )\n",
    "    sns.set()"
   ]
  },
  {
   "cell_type": "code",
   "execution_count": 3,
   "id": "6ab556ae",
   "metadata": {
    "ExecuteTime": {
     "end_time": "2023-07-15T18:03:10.537120Z",
     "start_time": "2023-07-15T18:03:10.506867Z"
    }
   },
   "outputs": [
    {
     "name": "stdout",
     "output_type": "stream",
     "text": [
      "%pylab is deprecated, use %matplotlib inline and import the required libraries.\n",
      "Populating the interactive namespace from numpy and matplotlib\n"
     ]
    },
    {
     "data": {
      "text/html": [
       "<style>.container {width:100% !important; }</style>"
      ],
      "text/plain": [
       "<IPython.core.display.HTML object>"
      ]
     },
     "metadata": {},
     "output_type": "display_data"
    }
   ],
   "source": [
    "jupyter_settings()"
   ]
  },
  {
   "cell_type": "markdown",
   "id": "82380eb7",
   "metadata": {
    "cell_style": "center"
   },
   "source": [
    "## 1 - DATA LOAD & DATA DESCRIPTIVE"
   ]
  },
  {
   "cell_type": "code",
   "execution_count": 4,
   "id": "c520d31c",
   "metadata": {
    "ExecuteTime": {
     "end_time": "2023-07-15T18:03:13.755022Z",
     "start_time": "2023-07-15T18:03:13.405837Z"
    },
    "cell_style": "center"
   },
   "outputs": [],
   "source": [
    "# All data - Linux\n",
    "#df = pd.read_csv('/home/reng/Documents/ds_repos/Projects/Health_Insurance_Cross_Sell/data/raw/data.csv')\n",
    "\n",
    "# All Data - Windows\n",
    "df_raw = pd.read_csv('C:/Users/perot/Documents/ds_repos/projects/Health_Insurance_Cross_Sell/data/raw/data.csv') "
   ]
  },
  {
   "cell_type": "markdown",
   "id": "3495e100",
   "metadata": {},
   "source": [
    "### 1.1 - SPLIT DATASET INTO TRAINING, TEST AND VALIDATION"
   ]
  },
  {
   "cell_type": "code",
   "execution_count": 5,
   "id": "e6fc3fe6",
   "metadata": {
    "ExecuteTime": {
     "end_time": "2023-07-15T18:03:17.233757Z",
     "start_time": "2023-07-15T18:03:17.027916Z"
    }
   },
   "outputs": [
    {
     "name": "stdout",
     "output_type": "stream",
     "text": [
      " x_train: (275350, 11)\n",
      " y_train: (275350,)\n",
      " x_valid: (57167, 11)\n",
      " y_valid: (57167,)\n",
      " x_test: (48592, 11)\n",
      " y_test: (48592,)\n",
      "\n"
     ]
    }
   ],
   "source": [
    "# Applying train test split to create Train, Validation and Test datasets\n",
    "\n",
    "X = df_raw.drop( 'response', axis=1 )\n",
    "y = df_raw['response'].copy()\n",
    "x_train, x_valid, y_train, y_valid = ms.train_test_split( X, y, test_size=0.15 )\n",
    "x_train, x_test, y_train, y_test = ms.train_test_split( x_train, y_train, test_size=0.15, shuffle=True, random_state=None )\n",
    "\n",
    "print(f\" x_train: {x_train.shape}\\n y_train: {y_train.shape}\\n x_valid: {x_valid.shape}\\n y_valid: {y_valid.shape}\\n x_test: {x_test.shape}\\n y_test: {y_test.shape}\\n\")"
   ]
  },
  {
   "cell_type": "markdown",
   "id": "c71cfb62",
   "metadata": {},
   "source": [
    "### 1.2 - DATA DESCRIPTION"
   ]
  },
  {
   "cell_type": "code",
   "execution_count": 6,
   "id": "66adb583",
   "metadata": {
    "ExecuteTime": {
     "end_time": "2023-07-15T18:03:17.970404Z",
     "start_time": "2023-07-15T18:03:17.960256Z"
    }
   },
   "outputs": [],
   "source": [
    "df1 = x_train.copy()"
   ]
  },
  {
   "cell_type": "code",
   "execution_count": null,
   "id": "2fefcc95",
   "metadata": {
    "ExecuteTime": {
     "end_time": "2023-05-22T19:43:23.361663Z",
     "start_time": "2023-05-22T19:43:08.796652Z"
    }
   },
   "outputs": [],
   "source": [
    "prof = ProfileReport(df1)\n",
    "prof.to_file(output_file='data_descriptive.html')"
   ]
  },
  {
   "cell_type": "markdown",
   "id": "8a2a7dd3",
   "metadata": {},
   "source": [
    "## 2 - FEATURE ENGINEERING"
   ]
  },
  {
   "cell_type": "code",
   "execution_count": 7,
   "id": "c16f684f",
   "metadata": {
    "ExecuteTime": {
     "end_time": "2023-07-15T18:03:26.809260Z",
     "start_time": "2023-07-15T18:03:26.795842Z"
    }
   },
   "outputs": [],
   "source": [
    "df2 = df1.copy()"
   ]
  },
  {
   "cell_type": "code",
   "execution_count": null,
   "id": "82e97cfa",
   "metadata": {
    "ExecuteTime": {
     "end_time": "2023-05-24T19:11:44.632778Z",
     "start_time": "2023-05-24T19:11:44.382240Z"
    }
   },
   "outputs": [],
   "source": [
    "# Fitting vehicle_age column\n",
    "df2['vehicle_age'] = df2['vehicle_age'].apply(lambda x: 1 if (x == '< 1 Year') else 2 if (x == '1-2 Year') else 3)\n",
    "\n",
    "# Fitting vehicle_damage column\n",
    "df2['vehicle_damage'] = df2['vehicle_damage'].apply(lambda x: 1 if (x == 'Yes') else 0)"
   ]
  },
  {
   "cell_type": "markdown",
   "id": "05338a2e",
   "metadata": {},
   "source": [
    "## 3 - DATA FILTERING"
   ]
  },
  {
   "cell_type": "code",
   "execution_count": 10,
   "id": "883783bd",
   "metadata": {
    "ExecuteTime": {
     "end_time": "2023-07-15T18:03:43.976957Z",
     "start_time": "2023-07-15T18:03:43.964438Z"
    }
   },
   "outputs": [],
   "source": [
    "df3 = df2.copy()"
   ]
  },
  {
   "cell_type": "markdown",
   "id": "2a69264e",
   "metadata": {},
   "source": [
    "## 4 - EXPLORATORY DATA ANALYSIS (EDA)"
   ]
  },
  {
   "cell_type": "code",
   "execution_count": 11,
   "id": "289d64ea",
   "metadata": {
    "ExecuteTime": {
     "end_time": "2023-07-15T18:03:45.846080Z",
     "start_time": "2023-07-15T18:03:45.835076Z"
    }
   },
   "outputs": [],
   "source": [
    "df4 = df3.copy()"
   ]
  },
  {
   "cell_type": "code",
   "execution_count": 12,
   "id": "11099712",
   "metadata": {
    "ExecuteTime": {
     "end_time": "2023-07-15T18:03:46.194868Z",
     "start_time": "2023-07-15T18:03:46.175172Z"
    }
   },
   "outputs": [],
   "source": [
    "df4_eda = pd.concat([df4, y_train], axis=1)"
   ]
  },
  {
   "cell_type": "markdown",
   "id": "1056e2c3",
   "metadata": {},
   "source": [
    "### 4.1 - UNIVARIATE ANALYSIS"
   ]
  },
  {
   "cell_type": "code",
   "execution_count": null,
   "id": "a8ecfce0",
   "metadata": {
    "ExecuteTime": {
     "end_time": "2023-07-15T17:59:18.832256Z",
     "start_time": "2023-07-15T17:59:18.796205Z"
    }
   },
   "outputs": [],
   "source": [
    "df4_eda.head()"
   ]
  },
  {
   "cell_type": "code",
   "execution_count": null,
   "id": "5b015ba9",
   "metadata": {
    "ExecuteTime": {
     "end_time": "2023-05-22T19:43:26.350200Z",
     "start_time": "2023-05-22T19:43:23.598002Z"
    }
   },
   "outputs": [],
   "source": [
    "plt.figure(figsize = (20, 25))\n",
    "plt.suptitle(\"Analysis Of Variable Response\",fontweight=\"bold\", fontsize=20)\n",
    "\n",
    "plt.subplot(6,2,1)\n",
    "sns.countplot(x = 'response', hue = 'gender', palette = 'Set2', data = df4_eda)\n",
    "\n",
    "plt.subplot(6,2,2)\n",
    "sns.countplot(x = 'response', hue = 'previously_insured', palette = 'Set2', data = df4_eda)\n",
    "\n",
    "plt.subplot(6,2,3)\n",
    "sns.countplot(x = 'response', hue = 'vehicle_age', palette = 'Set2', data = df4_eda)\n",
    "\n",
    "plt.subplot(6,2,4)\n",
    "sns.countplot(x = 'response', hue = 'vehicle_damage', palette = 'Set2', data = df4_eda)\n",
    "\n",
    "plt.subplot(6,2,5)\n",
    "sns.countplot(x = 'response', hue = 'driving_license', palette = 'Set2', data = df4_eda)\n",
    "\n",
    "plt.subplot(6,2,6)\n",
    "sns.kdeplot(x='age', hue='response', palette = 'Set2', shade=True, data=df4_eda)\n",
    "\n",
    "plt.subplot(6,2,7)\n",
    "sns.kdeplot(x='vintage', hue='response', palette = 'Set2', shade=True, data=df4_eda)"
   ]
  },
  {
   "cell_type": "code",
   "execution_count": null,
   "id": "dd20a476",
   "metadata": {
    "ExecuteTime": {
     "end_time": "2023-05-22T19:43:28.563027Z",
     "start_time": "2023-05-22T19:43:26.352718Z"
    }
   },
   "outputs": [],
   "source": [
    "# 'policy_sales_channel'\n",
    "\n",
    "# set the figure size\n",
    "plt.figure(figsize=(25, 10))\n",
    "\n",
    "# from raw value to percentage\n",
    "total = df4_eda.groupby('policy_sales_channel')['id'].count().reset_index()\n",
    "response_1 = df4_eda.loc[df4_eda.response == 1 ].groupby('policy_sales_channel')['id'].count().reset_index()\n",
    "response_0 = df4_eda.loc[df4_eda.response == 0 ].groupby('policy_sales_channel')['response'].sum().reset_index()\n",
    "resp = pd.merge(response_1, response_0, how = 'outer', on = 'policy_sales_channel')\n",
    "resp['id'] = resp['id'].fillna(0)\n",
    "resp = resp.sort_values(by='policy_sales_channel')\n",
    "resp['id'] = [i / j * 100 for i,j in zip(resp['id'], total['id'])]\n",
    "total['id'] = [i / j * 100 for i,j in zip(total['id'], total['id'])]\n",
    "\n",
    "# bar chart 1 -> top bars (group of 'smoker=No')\n",
    "bar1 = sns.barplot(x=\"policy_sales_channel\",  y=\"id\", data=total, color='darkblue')\n",
    "\n",
    "# bar chart 2 -> bottom bars (group of 'smoker=Yes')\n",
    "bar2 = sns.barplot(x=\"policy_sales_channel\", y=\"id\", data=resp, color='lightblue')\n",
    "\n",
    "# add legend\n",
    "plt.xticks(rotation=90)\n",
    "top_bar = mpatches.Patch(color='darkblue', label='response = No')\n",
    "bottom_bar = mpatches.Patch(color='lightblue', label='response = Yes')\n",
    "plt.legend(handles=[top_bar, bottom_bar])\n",
    "\n",
    "# show the graph\n",
    "plt.show()"
   ]
  },
  {
   "cell_type": "markdown",
   "id": "35dd946a",
   "metadata": {},
   "source": [
    "### 4.2 - BIVARIATE ANALYSIS"
   ]
  },
  {
   "cell_type": "code",
   "execution_count": 14,
   "id": "c3a3ca58",
   "metadata": {
    "ExecuteTime": {
     "end_time": "2023-07-15T18:08:10.271737Z",
     "start_time": "2023-07-15T18:08:10.225907Z"
    }
   },
   "outputs": [
    {
     "data": {
      "text/html": [
       "<div>\n",
       "<style scoped>\n",
       "    .dataframe tbody tr th:only-of-type {\n",
       "        vertical-align: middle;\n",
       "    }\n",
       "\n",
       "    .dataframe tbody tr th {\n",
       "        vertical-align: top;\n",
       "    }\n",
       "\n",
       "    .dataframe thead th {\n",
       "        text-align: right;\n",
       "    }\n",
       "</style>\n",
       "<table border=\"1\" class=\"dataframe\">\n",
       "  <thead>\n",
       "    <tr style=\"text-align: right;\">\n",
       "      <th></th>\n",
       "      <th>response</th>\n",
       "      <th>id</th>\n",
       "      <th>percentage</th>\n",
       "    </tr>\n",
       "  </thead>\n",
       "  <tbody>\n",
       "  </tbody>\n",
       "</table>\n",
       "</div>"
      ],
      "text/plain": [
       "Empty DataFrame\n",
       "Columns: [response, id, percentage]\n",
       "Index: []"
      ]
     },
     "execution_count": 14,
     "metadata": {},
     "output_type": "execute_result"
    }
   ],
   "source": [
    "#1.The interest on purchase the vehicle insurance is greater for customers that damaged their vehicle before and doesn't have insurance. (FALSE)\n",
    "d1 = df4_eda[( df4_eda['previously_insured'] == 0) & (df4_eda['vehicle_damage'] == 1)]\n",
    "\n",
    "ax1 = d1[['response','id']].groupby('response').count().reset_index()\n",
    "ax1['percentage'] = round(ax1['id'] / d1['id'].count()*100)\n",
    "ax1"
   ]
  },
  {
   "cell_type": "code",
   "execution_count": 13,
   "id": "c3ba18b9",
   "metadata": {
    "ExecuteTime": {
     "end_time": "2023-07-15T18:03:51.076251Z",
     "start_time": "2023-07-15T18:03:51.005973Z"
    }
   },
   "outputs": [
    {
     "data": {
      "text/html": [
       "<div>\n",
       "<style scoped>\n",
       "    .dataframe tbody tr th:only-of-type {\n",
       "        vertical-align: middle;\n",
       "    }\n",
       "\n",
       "    .dataframe tbody tr th {\n",
       "        vertical-align: top;\n",
       "    }\n",
       "\n",
       "    .dataframe thead th {\n",
       "        text-align: right;\n",
       "    }\n",
       "</style>\n",
       "<table border=\"1\" class=\"dataframe\">\n",
       "  <thead>\n",
       "    <tr style=\"text-align: right;\">\n",
       "      <th>response</th>\n",
       "      <th>0</th>\n",
       "      <th>1</th>\n",
       "      <th>percentage</th>\n",
       "    </tr>\n",
       "    <tr>\n",
       "      <th>gender</th>\n",
       "      <th></th>\n",
       "      <th></th>\n",
       "      <th></th>\n",
       "    </tr>\n",
       "  </thead>\n",
       "  <tbody>\n",
       "    <tr>\n",
       "      <th>Female</th>\n",
       "      <td>113179</td>\n",
       "      <td>13234</td>\n",
       "      <td>0.104689</td>\n",
       "    </tr>\n",
       "    <tr>\n",
       "      <th>Male</th>\n",
       "      <td>128229</td>\n",
       "      <td>20708</td>\n",
       "      <td>0.139039</td>\n",
       "    </tr>\n",
       "  </tbody>\n",
       "</table>\n",
       "</div>"
      ],
      "text/plain": [
       "response       0      1  percentage\n",
       "gender                             \n",
       "Female    113179  13234    0.104689\n",
       "Male      128229  20708    0.139039"
      ]
     },
     "execution_count": 13,
     "metadata": {},
     "output_type": "execute_result"
    }
   ],
   "source": [
    "# 2. The interest on purchase the vehicle insurance is greater for woman than men. (FALSE)\n",
    "aux2 = pd.crosstab(df4_eda['gender'], df4_eda['response'])\n",
    "aux2['percentage'] = aux2[1]/(aux2[0]+aux2[1])\n",
    "aux2"
   ]
  },
  {
   "cell_type": "code",
   "execution_count": null,
   "id": "efb96e3e",
   "metadata": {
    "ExecuteTime": {
     "end_time": "2023-05-22T19:43:28.892598Z",
     "start_time": "2023-05-22T19:43:28.643346Z"
    }
   },
   "outputs": [],
   "source": [
    "# 4. The interest on purchase the vehicle insurance is greater for customers that spend less than 30k for annual premium.\n",
    "aux5 = df4_eda[df4_eda['annual_premium'] > 30000][['id','response']]\n",
    "aux6 = df4_eda[df4_eda['annual_premium'] <= 30000][['id','response']]\n",
    "\n",
    "fix, axs = plt.subplots(ncols = 2, figsize = (15,4))\n",
    "sns.countplot(x = aux5['response'], ax=axs[0]).set_title('Annual Premium: 30k or more')\n",
    "sns.countplot(x = aux6['response'], ax=axs[1]).set_title('Annual Premium: 30k or less')"
   ]
  },
  {
   "cell_type": "code",
   "execution_count": null,
   "id": "bac81428",
   "metadata": {
    "ExecuteTime": {
     "end_time": "2023-05-22T19:43:28.908555Z",
     "start_time": "2023-05-22T19:43:28.894598Z"
    }
   },
   "outputs": [],
   "source": [
    "aux16 = aux5[['response','id']].groupby('response').count().reset_index()\n",
    "aux16['percentage'] = round( aux16['id'] / aux5.shape[0] * 100 )\n",
    "aux16"
   ]
  },
  {
   "cell_type": "code",
   "execution_count": null,
   "id": "29533831",
   "metadata": {
    "ExecuteTime": {
     "end_time": "2023-05-22T19:43:28.940398Z",
     "start_time": "2023-05-22T19:43:28.910581Z"
    }
   },
   "outputs": [],
   "source": [
    "aux17 = aux6[['response','id']].groupby('response').count().reset_index()\n",
    "aux17['percentage'] = round( aux17['id'] / aux6.shape[0] * 100 )\n",
    "aux17"
   ]
  },
  {
   "cell_type": "code",
   "execution_count": null,
   "id": "ea3171df",
   "metadata": {
    "ExecuteTime": {
     "end_time": "2023-05-22T19:43:28.986784Z",
     "start_time": "2023-05-22T19:43:28.942208Z"
    }
   },
   "outputs": [],
   "source": [
    "# 6. The interest on purchase the vehicle insurance is greater for customers that have driver license.\n",
    "aux9 = pd.crosstab(df4_eda['driving_license'], df4_eda['response'])\n",
    "aux9['percentage'] = round(aux9[1]/(aux9[0]+aux9[1])*100)\n",
    "aux9"
   ]
  },
  {
   "cell_type": "code",
   "execution_count": null,
   "id": "3a73549c",
   "metadata": {
    "ExecuteTime": {
     "end_time": "2023-05-22T19:43:29.032823Z",
     "start_time": "2023-05-22T19:43:28.988671Z"
    }
   },
   "outputs": [],
   "source": [
    "# 7. The interest on purchase the vehicle insurance is greater for customers that have new cars.\n",
    "aux10 = pd.crosstab(df4_eda['vehicle_age'], df4_eda['response'])\n",
    "aux10['percentage'] = round(aux10[1]/(aux10[0]+aux10[1])*100)\n",
    "aux10"
   ]
  },
  {
   "cell_type": "code",
   "execution_count": null,
   "id": "36101afa",
   "metadata": {
    "ExecuteTime": {
     "end_time": "2023-05-22T19:43:29.079992Z",
     "start_time": "2023-05-22T19:43:29.034819Z"
    }
   },
   "outputs": [],
   "source": [
    "# 8. The interest on purchase the vehicle insurance is greater for customers that have new cars and have damaged their vehicles.\n",
    "aux11 = df4_eda[(df4_eda['vehicle_damage'] == 1 )]\n",
    "aux12 = pd.crosstab(aux11['vehicle_age'], aux11['response'])\n",
    "aux12['percentage'] = round(aux12[1]/(aux12[0]+aux12[1])*100)\n",
    "aux12"
   ]
  },
  {
   "cell_type": "code",
   "execution_count": null,
   "id": "ab602a47",
   "metadata": {
    "ExecuteTime": {
     "end_time": "2023-05-22T19:43:29.126438Z",
     "start_time": "2023-05-22T19:43:29.082128Z"
    }
   },
   "outputs": [],
   "source": [
    "# 10. The interest on purchase the vehicle insurance is lower for customers that are already insured.\n",
    "aux15 = pd.crosstab(df4_eda['previously_insured'], df4_eda['response'])\n",
    "aux15['percentage'] = round(aux15[1]/(aux15[0]+aux15[1])*100)\n",
    "aux15"
   ]
  },
  {
   "cell_type": "markdown",
   "id": "04d10796",
   "metadata": {},
   "source": [
    "**Hypothesis Validation**\n",
    "\n",
    "1. The interest on purchase the vehicle insurance is greater for customers that damaged their vehicle before and doesn't have insurance.\n",
    "    **False, of the customers that damaged their car and doesn't have insurance, only 25% show interest in acquire vehicle insurance.**\n",
    "\n",
    "2. The interest on purchase the vehicle insurance is greater for woman than men.\n",
    "    **False, only 10% of women show interest in acquire vehicle insurance, whereas 13% of the men show interest on acquire vehicle insurance.**\n",
    "\n",
    "3. The interest on purchase vehicle insurance is greater for vintage customers ( 7 months or more ).\n",
    "    **False, the period that customers are on the company doensn't show influency on interest in buying vehicle insurance.**\n",
    "\n",
    "4. The interest on purchase the vehicle insurance is greater for young customers.(Between 18 and 30 years old.)\n",
    "    **False, customers that spend more than 30k yearly show greter interest on purchase vehicle insurance.**\n",
    "\n",
    "5. The interest on purchase the vehicle insurance is greater for young customers.(Between 18 and 30 years old.)\n",
    "    **False, adults and elderlies show greater interest on buying vehicle insurance.**\n",
    "\n",
    "6. The interest on purchase the vehicle insurance is greater for customers that have driver license.\n",
    "    **True, arround 12% of customers that hold a driving license show interest in buying the vehicle insurance.**\n",
    "\n",
    "7. The interest on purchase the vehicle insurance is greater for customers that have new cars.\n",
    "    **False, the interest is greater for customers that own an old car.**\n",
    "\n",
    "8. The interest on purchase the vehicle insurance is greater for customers that have new cars and have damaged their vehicles.\n",
    "    **False, of the customers who damaged their car, the ones that own a old car show greater interest in buying the vehicle insurance (29%), followed by customers that own used cars (27%).**\n",
    "\n",
    "9. The interest on purchase the vehicle insurance is greater for elderly women.\n",
    "    **False, adult women show greater interest in buying the vehicle insurance.**\n",
    "\n",
    "10. The interest on purchase the vehicle insurance is lower for customers that are already insured.\n",
    "    **True, less than 1% of customers already insured show interest on purchase the vehicle insurance.**\n"
   ]
  },
  {
   "cell_type": "markdown",
   "id": "90475f72",
   "metadata": {},
   "source": [
    "### 4.3 - MULTIVARIATE ANALYSIS"
   ]
  },
  {
   "cell_type": "code",
   "execution_count": null,
   "id": "59da86da",
   "metadata": {
    "ExecuteTime": {
     "end_time": "2023-05-22T19:43:29.673960Z",
     "start_time": "2023-05-22T19:43:29.128335Z"
    }
   },
   "outputs": [],
   "source": [
    "correlation = df4_eda.corr().round(2)\n",
    "plt.figure(figsize = (14,7))\n",
    "sns.heatmap(correlation, annot = True)"
   ]
  },
  {
   "cell_type": "markdown",
   "id": "550169f4",
   "metadata": {},
   "source": [
    "## 5 - DATA PREPARATION"
   ]
  },
  {
   "cell_type": "code",
   "execution_count": null,
   "id": "c122e836",
   "metadata": {
    "ExecuteTime": {
     "end_time": "2023-05-24T19:12:08.396020Z",
     "start_time": "2023-05-24T19:12:08.369117Z"
    }
   },
   "outputs": [],
   "source": [
    "df5 = df4.copy()"
   ]
  },
  {
   "cell_type": "code",
   "execution_count": null,
   "id": "03e9666f",
   "metadata": {
    "ExecuteTime": {
     "end_time": "2023-05-24T19:12:09.189177Z",
     "start_time": "2023-05-24T19:12:09.155126Z"
    }
   },
   "outputs": [],
   "source": [
    "df5.dtypes"
   ]
  },
  {
   "cell_type": "markdown",
   "id": "8a3c188c",
   "metadata": {},
   "source": [
    "### 5.1 - STANDARDIZATION"
   ]
  },
  {
   "cell_type": "code",
   "execution_count": null,
   "id": "8b784e41",
   "metadata": {
    "ExecuteTime": {
     "end_time": "2023-05-24T19:12:35.835907Z",
     "start_time": "2023-05-24T19:12:35.797133Z"
    }
   },
   "outputs": [],
   "source": [
    "ss_ap = pp.StandardScaler()\n",
    "df5['annual_premium'] = ss_ap.fit_transform( df5[['annual_premium']].values )\n",
    "\n",
    "#pickle.dump(ss_ap, open('C:/Users/perot/Documents/ds_repos/projects/Health_Insurance_Cross_Sell/src/features/annual_premium_scaler.pkl', 'wb'))"
   ]
  },
  {
   "cell_type": "markdown",
   "id": "5a42cf00",
   "metadata": {},
   "source": [
    "### 5.2 - REESCALING"
   ]
  },
  {
   "cell_type": "code",
   "execution_count": null,
   "id": "b436a08e",
   "metadata": {
    "ExecuteTime": {
     "end_time": "2023-05-24T19:12:36.677839Z",
     "start_time": "2023-05-24T19:12:36.606768Z"
    }
   },
   "outputs": [],
   "source": [
    "mms_age = pp.MinMaxScaler()\n",
    "mms_vintage = pp.MinMaxScaler()\n",
    "mms_dl = pp.MinMaxScaler()\n",
    "\n",
    "# Age\n",
    "df5['age'] = mms_age.fit_transform( df5[['age']].values )\n",
    "#pickle.dump(mms_age, open('C:/Users/perot/Documents/ds_repos/projects/Health_Insurance_Cross_Sell/src/features/age_scaler.pkl', 'wb'))\n",
    "\n",
    "# Vintage\n",
    "df5['vintage'] = mms_vintage.fit_transform( df5[['vintage']].values )\n",
    "#pickle.dump(mms_vintage, open('C:/Users/perot/Documents/ds_repos/projects/Health_Insurance_Cross_Sell/src/features/vintage_scaler.pkl', 'wb'))\n",
    "\n",
    "# Driving License\n",
    "df5['driving_license'] = mms_dl.fit_transform( df5[['driving_license']].values )"
   ]
  },
  {
   "cell_type": "markdown",
   "id": "d7a873ae",
   "metadata": {
    "ExecuteTime": {
     "end_time": "2023-02-04T09:25:06.367009Z",
     "start_time": "2023-02-04T09:25:06.354601Z"
    }
   },
   "source": [
    "### 5.3 - ENCODER"
   ]
  },
  {
   "cell_type": "code",
   "execution_count": null,
   "id": "a7e1c9ce",
   "metadata": {
    "ExecuteTime": {
     "end_time": "2023-05-24T19:12:37.395564Z",
     "start_time": "2023-05-24T19:12:37.272925Z"
    }
   },
   "outputs": [],
   "source": [
    "# gender\n",
    "fe_gender = df5.groupby('gender').size() / len(df5)\n",
    "df5.loc[:, 'gender'] = df5['gender'].map( fe_gender )\n",
    "#pickle.dump(target_encode_gender, open('C:/Users/perot/Documents/ds_repos/projects/Health_Insurance_Cross_Sell/src/features/target_encode_gender_scaler.pkl', 'wb'))\n",
    "\n",
    "# region_code - Frequency Encoding / Target Encoding / Weighted Targed Encoding\n",
    "fe_region_code = df5.groupby( 'region_code').size() / len( df5 )\n",
    "df5.loc[:, 'region_code'] = df5['region_code'].map( fe_region_code )\n",
    "#pickle.dump(fe_region_code, open('C:/Users/perot/Documents/ds_repos/projects/Health_Insurance_Cross_Sell/src/features/frequency_encode_region_code_scaler.pkl', 'wb'))\n",
    "\n",
    "# policy_sales_channel - Frequency Encoding / Target Encoding\n",
    "fe_policy_sales_channel = df5.groupby( 'policy_sales_channel' ).size() / len( df5 ) \n",
    "df5.loc[:, 'policy_sales_channel'] = df5['policy_sales_channel'].map( fe_policy_sales_channel )\n",
    "#pickle.dump(fe_policy_sales_channel, open('C:/Users/perot/Documents/ds_repos/projects/Health_Insurance_Cross_Sell/src/features/frequency_encode_policy_sales_scaler.pkl', 'wb'))"
   ]
  },
  {
   "cell_type": "markdown",
   "id": "40b5b2d5",
   "metadata": {},
   "source": [
    "### 5.4 - VALIDATION PREPARATION"
   ]
  },
  {
   "cell_type": "markdown",
   "id": "86200fe8",
   "metadata": {},
   "source": [
    "#### 5.5.1 -  Apply Feature Engineering on validation dataset"
   ]
  },
  {
   "cell_type": "code",
   "execution_count": null,
   "id": "95cdc0dd",
   "metadata": {
    "ExecuteTime": {
     "end_time": "2023-05-24T19:12:38.673052Z",
     "start_time": "2023-05-24T19:12:38.592878Z"
    }
   },
   "outputs": [],
   "source": [
    "# Fitting vehicle_age column\n",
    "x_valid['vehicle_age'] = x_valid['vehicle_age'].apply(lambda x: 1 if (x == '< 1 Year') else 2 if (x == '1-2 Year') else 3)\n",
    "\n",
    "# Fitting vehicle_damage column\n",
    "x_valid['vehicle_damage'] = x_valid['vehicle_damage'].apply(lambda x: 1 if (x == 'Yes') else 0)"
   ]
  },
  {
   "cell_type": "markdown",
   "id": "580ad7c6",
   "metadata": {},
   "source": [
    "#### 5.5.2 -  Apply Data Transformation on validation dataset"
   ]
  },
  {
   "cell_type": "code",
   "execution_count": null,
   "id": "068a216f",
   "metadata": {
    "ExecuteTime": {
     "end_time": "2023-05-24T19:12:39.593490Z",
     "start_time": "2023-05-24T19:12:39.500782Z"
    },
    "code_folding": []
   },
   "outputs": [],
   "source": [
    "# STANDARDIZATION\n",
    "\n",
    "# annual premium\n",
    "x_valid.loc[:, 'annual_premium'] = ss_ap.transform( x_valid[['annual_premium']].values )\n",
    "\n",
    "\n",
    "\n",
    "# REESCALING\n",
    "\n",
    "# age\n",
    "x_valid.loc[:, 'age'] = mms_age.transform( x_valid[['age']].values )\n",
    "\n",
    "# vintage\n",
    "x_valid.loc[:, 'vintage'] = mms_vintage.transform( x_valid[['vintage']].values )\n",
    "\n",
    "\n",
    "\n",
    "# ENCODER\n",
    "\n",
    "# policy sales channel\n",
    "x_valid.loc[:, 'policy_sales_channel'] = x_valid['policy_sales_channel'].map( fe_policy_sales_channel )\n",
    "\n",
    "# region code\n",
    "x_valid.loc[:, 'region_code'] = x_valid.loc[:, 'region_code'].map( fe_region_code )\n",
    "\n",
    "# gender\n",
    "x_valid.loc[:, 'gender'] = x_valid.loc[:, 'gender'].map( fe_gender )\n",
    "\n",
    "# FILL NAN VALUES\n",
    "x_valid = x_valid.fillna(0)"
   ]
  },
  {
   "cell_type": "markdown",
   "id": "9ff58fed",
   "metadata": {},
   "source": [
    "## 6 - FEATURE SELECTION"
   ]
  },
  {
   "cell_type": "code",
   "execution_count": null,
   "id": "908fd545",
   "metadata": {
    "ExecuteTime": {
     "end_time": "2023-05-22T19:43:30.027117Z",
     "start_time": "2023-05-22T19:43:29.999894Z"
    }
   },
   "outputs": [],
   "source": [
    "df6 = df5.copy()"
   ]
  },
  {
   "cell_type": "code",
   "execution_count": null,
   "id": "2173550d",
   "metadata": {
    "ExecuteTime": {
     "end_time": "2023-05-22T19:43:35.088852Z",
     "start_time": "2023-05-22T19:43:30.031101Z"
    }
   },
   "outputs": [],
   "source": [
    "# model definition\n",
    "forest = en.ExtraTreesClassifier( n_estimators =250, random_state=0, n_jobs=-1 )\n",
    "\n",
    "# data preparation\n",
    "df6_n = df6.drop( ['id'], axis=1 )\n",
    "y_train_n  = y_train.values\n",
    "forest.fit( df6_n, y_train_n )"
   ]
  },
  {
   "cell_type": "code",
   "execution_count": null,
   "id": "f9b946fa",
   "metadata": {
    "ExecuteTime": {
     "end_time": "2023-05-22T19:43:35.635632Z",
     "start_time": "2023-05-22T19:43:35.090959Z"
    },
    "scrolled": true
   },
   "outputs": [],
   "source": [
    "importances = forest.feature_importances_\n",
    "std = np.std([tree.feature_importances_ for tree in forest.estimators_], axis=0 )\n",
    "indices = np.argsort(importances)[::-1]\n",
    "\n",
    "# Print the feature ranking \n",
    "print(\"Feature ranking:\")\n",
    "df = pd.DataFrame()\n",
    "for i,j in zip( df6_n, forest.feature_importances_ ):\n",
    "    aux = pd.DataFrame( {'feature': i, 'importance': j}, index=[0] )\n",
    "    df = pd.concat( [df,aux], axis = 0 )\n",
    "    \n",
    "print( df.sort_values( 'importance', ascending=False ) )\n",
    "\n",
    "# Plot the impurity-based feature importances of the forest\n",
    "plt.figure()\n",
    "plt.title(\"Feature importances\")\n",
    "plt.bar(range(df6_n.shape[1]), importances[indices], color=\"r\", yerr=std[indices], align=\"center\")\n",
    "plt.xticks(range(df6_n.shape[1]), indices)\n",
    "plt.xlim([-1, df6_n.shape[1]])\n",
    "plt.show()"
   ]
  },
  {
   "cell_type": "code",
   "execution_count": null,
   "id": "a7228449",
   "metadata": {
    "ExecuteTime": {
     "end_time": "2023-05-24T19:12:44.356679Z",
     "start_time": "2023-05-24T19:12:44.331542Z"
    }
   },
   "outputs": [],
   "source": [
    "cols_selected = ['vintage', 'annual_premium','age','region_code','vehicle_damage','policy_sales_channel','previously_insured','vehicle_age']\n",
    "\n",
    "x_training = df6[ cols_selected ]\n",
    "x_validation = x_valid[ cols_selected ]\n",
    "y_validation = y_valid"
   ]
  },
  {
   "cell_type": "markdown",
   "id": "d4c0ce6e",
   "metadata": {},
   "source": [
    "## 7 - ML MODELS TRAINING"
   ]
  },
  {
   "cell_type": "markdown",
   "id": "a2c2509c",
   "metadata": {
    "heading_collapsed": true
   },
   "source": [
    "#### MACHILE LEARNING TRAINING"
   ]
  },
  {
   "cell_type": "code",
   "execution_count": null,
   "id": "2c7cf570",
   "metadata": {
    "ExecuteTime": {
     "end_time": "2023-05-22T19:43:40.081685Z",
     "start_time": "2023-05-22T19:43:35.653418Z"
    },
    "hidden": true
   },
   "outputs": [],
   "source": [
    "# Treinamento do modelo com os dados de treino\n",
    "xgb_model = XGBClassifier(scale_pos_weight=7.2)\n",
    "xgb_model.fit( x_training, y_train )"
   ]
  },
  {
   "cell_type": "code",
   "execution_count": null,
   "id": "768b38a8",
   "metadata": {
    "ExecuteTime": {
     "end_time": "2023-05-22T19:43:41.328888Z",
     "start_time": "2023-05-22T19:43:40.083689Z"
    },
    "hidden": true
   },
   "outputs": [],
   "source": [
    "# Recall sobre dados de Treinamento\n",
    "yhat_xgb_train = xgb_model.predict( x_training )\n",
    "recall_train = mt.recall_score(y_train, yhat_xgb_train)\n",
    "print(\"Recall Over Training {}\".format(recall_train))\n",
    "\n",
    "# Recall sobre dados de Validacao\n",
    "yhat_xgb_valid = xgb_model.predict( x_validation )\n",
    "recall_valid = mt.recall_score(y_valid, yhat_xgb_valid)\n",
    "print(\"Recall Over Valid {}\".format(recall_valid))\n",
    "\n",
    "# Recall sobre dados de Teste\n",
    "yhat_xgb_test = xgb_model.predict( x_test )\n",
    "recall_test = mt.recall_score(y_test, yhat_xgb_test)\n",
    "print(\"Recall Over Test {}\".format(recall_test))"
   ]
  },
  {
   "cell_type": "markdown",
   "id": "610eefe4",
   "metadata": {},
   "source": [
    "#### 7.1.1 - XGB Model"
   ]
  },
  {
   "cell_type": "code",
   "execution_count": null,
   "id": "053ae15b",
   "metadata": {
    "ExecuteTime": {
     "end_time": "2023-05-24T19:13:05.438807Z",
     "start_time": "2023-05-24T19:13:05.405693Z"
    }
   },
   "outputs": [],
   "source": [
    "x_training.head()"
   ]
  },
  {
   "cell_type": "code",
   "execution_count": null,
   "id": "d6c40e9a",
   "metadata": {
    "ExecuteTime": {
     "end_time": "2023-05-22T19:44:11.462527Z",
     "start_time": "2023-05-22T19:44:11.435431Z"
    }
   },
   "outputs": [],
   "source": [
    "# Parameter \"scale_pos_weight\" definition\n",
    "\n",
    "from collections import Counter\n",
    "\n",
    "# ESTIMATE SCALE_POS_WEIGHT\n",
    "counter = Counter(y_train)\n",
    "estimate = counter[0]/counter[1]\n",
    "print('Estimate: %.3f' % estimate)"
   ]
  },
  {
   "cell_type": "code",
   "execution_count": null,
   "id": "a3107d6a",
   "metadata": {
    "ExecuteTime": {
     "end_time": "2023-05-22T19:44:16.913353Z",
     "start_time": "2023-05-22T19:44:12.592457Z"
    }
   },
   "outputs": [],
   "source": [
    "# model definition\n",
    "xgb_model = XGBClassifier(scale_pos_weight=estimate)\n",
    "\n",
    "# model training\n",
    "xgb_model.fit( x_training, y_train )\n",
    "\n",
    "# model prediction - Check if the model perform well\n",
    "yhat_xgb = xgb_model.predict_proba( x_validation )"
   ]
  },
  {
   "cell_type": "code",
   "execution_count": null,
   "id": "11d7f10c",
   "metadata": {
    "ExecuteTime": {
     "end_time": "2023-05-22T19:44:17.647102Z",
     "start_time": "2023-05-22T19:44:16.915352Z"
    }
   },
   "outputs": [],
   "source": [
    "fig, axs = plt.subplots(ncols= 3, figsize = (18,5))\n",
    "\n",
    "# cumulative gain - Metric for sorting problem\n",
    "skplt.metrics.plot_cumulative_gain(y_validation, yhat_xgb, ax=axs[0],title='Cumulative Gain - XGB');\n",
    "\n",
    "# Lift Curve\n",
    "skplt.metrics.plot_lift_curve(y_validation, yhat_xgb,ax=axs[1],title='Lift Curve - XGB');\n",
    "\n",
    "# Roc Curve\n",
    "skplt.metrics.plot_roc(y_validation, yhat_xgb, ax=axs[2], title='ROC-Curve - XGB');\n",
    "\n",
    "plt.tight_layout()"
   ]
  },
  {
   "cell_type": "markdown",
   "id": "f2755c6b",
   "metadata": {},
   "source": [
    "#### 7.1.2 - KNN"
   ]
  },
  {
   "cell_type": "code",
   "execution_count": null,
   "id": "ef56b7dd",
   "metadata": {
    "ExecuteTime": {
     "end_time": "2023-05-22T19:44:22.881160Z",
     "start_time": "2023-05-22T19:44:17.650104Z"
    }
   },
   "outputs": [],
   "source": [
    "# model definition\n",
    "knn_model = nh.KNeighborsClassifier( n_neighbors=8 )\n",
    "\n",
    "# model training\n",
    "knn_model.fit( x_training, y_train )\n",
    "\n",
    "# model prediction - The generalization POWER\n",
    "yhat_knn = knn_model.predict_proba( x_validation )"
   ]
  },
  {
   "cell_type": "code",
   "execution_count": null,
   "id": "2b7c4ca4",
   "metadata": {
    "ExecuteTime": {
     "end_time": "2023-05-22T19:44:23.612959Z",
     "start_time": "2023-05-22T19:44:22.883981Z"
    }
   },
   "outputs": [],
   "source": [
    "fig, axs = plt.subplots(ncols= 3, figsize = (18,5))\n",
    "\n",
    "# cumulative gain - Metric for sorting problem\n",
    "skplt.metrics.plot_cumulative_gain(y_validation, yhat_knn, ax=axs[0],title='Cumulative Gain - KNN');\n",
    "\n",
    "# Lift Curve\n",
    "skplt.metrics.plot_lift_curve(y_validation, yhat_knn, ax=axs[1],title='Lift Curve - KNN');\n",
    "\n",
    "# Roc Curve\n",
    "skplt.metrics.plot_roc(y_validation, yhat_knn, ax=axs[2], title='ROC-Curve - KNN');\n",
    "\n",
    "plt.tight_layout()"
   ]
  },
  {
   "cell_type": "markdown",
   "id": "65fa88ad",
   "metadata": {},
   "source": [
    "#### 7.1.3 - Light gradient Boostin Machine Classifier Model"
   ]
  },
  {
   "cell_type": "code",
   "execution_count": null,
   "id": "2f91bffe",
   "metadata": {
    "ExecuteTime": {
     "end_time": "2023-05-22T19:44:24.099760Z",
     "start_time": "2023-05-22T19:44:23.614942Z"
    }
   },
   "outputs": [],
   "source": [
    "# Model Definition\n",
    "lgbm_model = lgbm.LGBMClassifier( learning_rate=0.09, max_depth=-5, random_state=42 )\n",
    "\n",
    "# Model training\n",
    "model_lgbm = lgbm_model.fit( x_training, y_train )\n",
    "\n",
    "# Model Prediction\n",
    "yhat_lgbm = model_lgbm.predict_proba( x_validation )"
   ]
  },
  {
   "cell_type": "code",
   "execution_count": null,
   "id": "dcfc4939",
   "metadata": {
    "ExecuteTime": {
     "end_time": "2023-05-22T19:44:24.833127Z",
     "start_time": "2023-05-22T19:44:24.101771Z"
    }
   },
   "outputs": [],
   "source": [
    "fig, axs = plt.subplots(ncols= 3, figsize = (18,5))\n",
    "\n",
    "# cumulative gain - Metric for sorting problem\n",
    "skplt.metrics.plot_cumulative_gain(y_validation, yhat_lgbm, ax=axs[0],title='Cumulative Gain - LGBM');\n",
    "\n",
    "# Lift Curve\n",
    "skplt.metrics.plot_lift_curve(y_validation, yhat_lgbm,ax=axs[1],title='Lift Curve - LGBM');\n",
    "\n",
    "# Roc Curve\n",
    "skplt.metrics.plot_roc(y_validation, yhat_lgbm, ax=axs[2], title='ROC-Curve - LGBM');\n",
    "\n",
    "plt.tight_layout()"
   ]
  },
  {
   "cell_type": "markdown",
   "id": "6ebee327",
   "metadata": {},
   "source": [
    "## 8 - MODEL PERFORMANCE"
   ]
  },
  {
   "cell_type": "markdown",
   "id": "6ef8218b",
   "metadata": {},
   "source": [
    "### 8.1 - XGB MODEL PERFORMANCE"
   ]
  },
  {
   "cell_type": "code",
   "execution_count": null,
   "id": "49ccef64",
   "metadata": {
    "ExecuteTime": {
     "end_time": "2023-05-22T19:44:24.879867Z",
     "start_time": "2023-05-22T19:44:24.835127Z"
    }
   },
   "outputs": [],
   "source": [
    "# Copy Data\n",
    "perf_valid= x_validation.copy()\n",
    "perf_valid['response'] = y_validation.copy()\n",
    "\n",
    "# Propensity score\n",
    "perf_valid['score'] = yhat_xgb[:,1].tolist()\n",
    "\n",
    "# sorted clients by score\n",
    "perf_valid = perf_valid.sort_values( 'score', ascending=False )\n",
    "\n",
    "# Compute precision at K\n",
    "precision_atK = precision_at_k(perf_valid, k=20000 )\n",
    "\n",
    "# Compute precision at K\n",
    "recall_atK = recall_at_k(perf_valid, k=20000 )\n",
    "\n",
    "xgb_performance = ml_performance('XGB Model', precision_atK, recall_atK )\n",
    "xgb_performance"
   ]
  },
  {
   "cell_type": "markdown",
   "id": "f26618e4",
   "metadata": {
    "ExecuteTime": {
     "end_time": "2023-02-04T17:36:04.884987Z",
     "start_time": "2023-02-04T17:36:04.868607Z"
    }
   },
   "source": [
    "### 8.2 - KNN MODEL PERFORMANCE"
   ]
  },
  {
   "cell_type": "code",
   "execution_count": null,
   "id": "5c6408ed",
   "metadata": {
    "ExecuteTime": {
     "end_time": "2023-05-22T19:44:24.910962Z",
     "start_time": "2023-05-22T19:44:24.880886Z"
    }
   },
   "outputs": [],
   "source": [
    "# Copy Data\n",
    "perf_valid = x_validation.copy()\n",
    "perf_valid['response'] = y_validation.copy()\n",
    "\n",
    "# Propensity score\n",
    "perf_valid['score'] = yhat_knn[:,1].tolist()\n",
    "\n",
    "# sorted clients by score\n",
    "perf_valid = perf_valid.sort_values( 'score', ascending=False )\n",
    "\n",
    "# Compute precision at K\n",
    "precision_atK = precision_at_k(perf_valid, k=20000 )\n",
    "\n",
    "# Compute precision at K\n",
    "recall_atK = recall_at_k(perf_valid, k=20000 )\n",
    "\n",
    "KNN_performance = ml_performance('KNN_Model', precision_atK, recall_atK )\n",
    "KNN_performance"
   ]
  },
  {
   "cell_type": "markdown",
   "id": "5a210e9d",
   "metadata": {},
   "source": [
    "### 8.3 - LGBM MODEL PERFORMANCE"
   ]
  },
  {
   "cell_type": "code",
   "execution_count": null,
   "id": "c9b7ce56",
   "metadata": {
    "ExecuteTime": {
     "end_time": "2023-05-22T19:44:24.957447Z",
     "start_time": "2023-05-22T19:44:24.912050Z"
    }
   },
   "outputs": [],
   "source": [
    "# Copy Data\n",
    "perf_valid = x_validation.copy()\n",
    "perf_valid['response'] = y_validation.copy()\n",
    "\n",
    "# Propensity score\n",
    "perf_valid['score'] = yhat_lgbm[:,1].tolist()\n",
    "\n",
    "# sorted clients by score\n",
    "perf_valid = perf_valid.sort_values( 'score', ascending=False )\n",
    "\n",
    "# Compute precision at K\n",
    "precision_atK = precision_at_k(perf_valid, k=20000 )\n",
    "\n",
    "# Compute precision at K\n",
    "recall_atK = recall_at_k(perf_valid, k=20000 )\n",
    "\n",
    "lgbm_performance = ml_performance('LGBM Model', precision_atK, recall_atK )\n",
    "lgbm_performance"
   ]
  },
  {
   "cell_type": "markdown",
   "id": "ab61b11d",
   "metadata": {},
   "source": [
    "### 8.3 - PERFORMANCE FOR ALL MODELS"
   ]
  },
  {
   "cell_type": "code",
   "execution_count": null,
   "id": "d5b69c53",
   "metadata": {
    "ExecuteTime": {
     "end_time": "2023-05-22T19:44:24.972785Z",
     "start_time": "2023-05-22T19:44:24.959958Z"
    }
   },
   "outputs": [],
   "source": [
    "model_performance = pd.concat( [xgb_performance, KNN_performance, lgbm_performance] )\n",
    "model_performance.sort_values('Precision_at_K', ascending= False)"
   ]
  },
  {
   "cell_type": "markdown",
   "id": "a742dc95",
   "metadata": {},
   "source": [
    "## 9 - HYPERPARAMETER FINE TUNING"
   ]
  },
  {
   "cell_type": "markdown",
   "id": "470b77a0",
   "metadata": {},
   "source": [
    "### 9.1 - LGBM Fine Tunning"
   ]
  },
  {
   "cell_type": "code",
   "execution_count": null,
   "id": "d58deb2e",
   "metadata": {
    "ExecuteTime": {
     "end_time": "2023-05-22T20:25:28.564457Z",
     "start_time": "2023-05-22T20:25:28.549265Z"
    }
   },
   "outputs": [],
   "source": [
    "import random"
   ]
  },
  {
   "cell_type": "code",
   "execution_count": null,
   "id": "e3433bb9",
   "metadata": {
    "ExecuteTime": {
     "end_time": "2023-05-22T20:25:28.876367Z",
     "start_time": "2023-05-22T20:25:28.855487Z"
    }
   },
   "outputs": [],
   "source": [
    "# Union of training dataset to select best parameters for XGB Model\n",
    "x_train_lgbm = pd.concat([x_training, y_train], axis=1)"
   ]
  },
  {
   "cell_type": "code",
   "execution_count": null,
   "id": "9892c9b7",
   "metadata": {
    "ExecuteTime": {
     "end_time": "2023-05-22T20:25:29.203103Z",
     "start_time": "2023-05-22T20:25:29.184696Z"
    }
   },
   "outputs": [],
   "source": [
    "param = {\n",
    "'n_estimators':[100,350,550,850,1000],\n",
    "'learning_rate': [0.01, 0.03, 0.05, 0.08, 0.1],\n",
    "'max_depth':[5, 9, 13, 17, 20]}\n",
    "\n",
    "MAX_EVAL = 5"
   ]
  },
  {
   "cell_type": "code",
   "execution_count": null,
   "id": "2d52460e",
   "metadata": {
    "ExecuteTime": {
     "end_time": "2023-05-22T20:25:44.326302Z",
     "start_time": "2023-05-22T20:25:29.539386Z"
    }
   },
   "outputs": [],
   "source": [
    "final_result = pd.DataFrame()\n",
    "\n",
    "for i in range( MAX_EVAL ):\n",
    "# choose values for parameters randomly\n",
    "    hp = { k: random.sample(v, 1)[0] for k, v in param.items() }\n",
    "    print( hp )\n",
    "    \n",
    "#    # model\n",
    "    lgbm_model = lgbm.LGBMClassifier( scale_pos_weight=7.2,\n",
    "                                      n_estimators =hp['n_estimators'],\n",
    "                                      learning_rate=hp['learning_rate'],\n",
    "                                      max_depth=hp['max_depth'],\n",
    "                                      objective='binary',\n",
    "                                      metric='binary_logloss')\n",
    "    # performance\n",
    "    result = cross_validation(2, 'lgbm classifier', lgbm_model, x_train_lgbm, 20000)\n",
    "    final_result = pd.concat( [final_result, result] )\n",
    "\n",
    "final_result"
   ]
  },
  {
   "cell_type": "markdown",
   "id": "deab9d90",
   "metadata": {},
   "source": [
    "### 9.3 - XGB Fine Tunning"
   ]
  },
  {
   "cell_type": "code",
   "execution_count": null,
   "id": "20a5938d",
   "metadata": {
    "ExecuteTime": {
     "end_time": "2023-05-22T20:25:44.341533Z",
     "start_time": "2023-05-22T20:25:44.329306Z"
    }
   },
   "outputs": [],
   "source": [
    "import random"
   ]
  },
  {
   "cell_type": "code",
   "execution_count": null,
   "id": "ab1a0c80",
   "metadata": {
    "ExecuteTime": {
     "end_time": "2023-05-22T20:25:44.357578Z",
     "start_time": "2023-05-22T20:25:44.342539Z"
    }
   },
   "outputs": [],
   "source": [
    "# Union of training dataset to select best parameters for XGB Model\n",
    "x_train_xgb = pd.concat([x_training, y_train], axis=1)"
   ]
  },
  {
   "cell_type": "code",
   "execution_count": null,
   "id": "e866b8a8",
   "metadata": {
    "ExecuteTime": {
     "end_time": "2023-05-22T20:25:44.373374Z",
     "start_time": "2023-05-22T20:25:44.358547Z"
    }
   },
   "outputs": [],
   "source": [
    "param = {\n",
    "     'n_estimators': [100,350,550,850,1000], \n",
    "     'eta': [0.01, 0.03],\n",
    "     'max_depth': [5, 9, 13, 17, 20],\n",
    "     'subsample': [0.1, 0.5, 0.7],\n",
    "     'colsample_bytree': [0.3, 0.7, 0.9],\n",
    "     'min_child_weight':[3, 8, 15] }\n",
    "\n",
    "MAX_EVAL = 5"
   ]
  },
  {
   "cell_type": "code",
   "execution_count": null,
   "id": "f7774795",
   "metadata": {
    "ExecuteTime": {
     "end_time": "2023-05-22T20:28:15.260132Z",
     "start_time": "2023-05-22T20:25:44.374358Z"
    }
   },
   "outputs": [],
   "source": [
    "final_result = pd.DataFrame()\n",
    "\n",
    "for i in range( MAX_EVAL ):\n",
    "# choose values for parameters randomly\n",
    "    hp = { k: random.sample(v, 1)[0] for k, v in param.items() }\n",
    "    print( hp )\n",
    "    \n",
    "#    # model\n",
    "    model_xgb = XGBClassifier( scale_pos_weight=7.2,\n",
    "                               colsample_bytree =hp['colsample_bytree'],\n",
    "                               subsample = hp['subsample'],\n",
    "                               objective='binary:logistic',\n",
    "                               eval_metric='logloss', \n",
    "                               n_estimators=hp['n_estimators'], \n",
    "                               max_depth=hp['max_depth'],\n",
    "                               min_child_weight = hp['min_child_weight'],\n",
    "                               eta=hp['eta'])\n",
    "    # performance\n",
    "    result = cross_validation(2, 'xgb classifier', model_xgb, x_train_xgb, 20000)\n",
    "    final_result = pd.concat( [final_result, result] )\n",
    "\n",
    "final_result"
   ]
  },
  {
   "cell_type": "markdown",
   "id": "bdb0ee87",
   "metadata": {},
   "source": [
    "###  9.3.2 - Last model training with all datas"
   ]
  },
  {
   "cell_type": "markdown",
   "id": "f7415b67",
   "metadata": {},
   "source": [
    "#### 9.3.2.1 - Data preparation applied on validation and test datasets."
   ]
  },
  {
   "cell_type": "code",
   "execution_count": null,
   "id": "96633515",
   "metadata": {
    "ExecuteTime": {
     "end_time": "2023-05-22T20:43:28.034215Z",
     "start_time": "2023-05-22T20:43:27.970587Z"
    }
   },
   "outputs": [],
   "source": [
    "x_test = data_preparation( x_test )"
   ]
  },
  {
   "cell_type": "markdown",
   "id": "c982ff47",
   "metadata": {},
   "source": [
    "#### 9.3.2.2 - Union of training and validation data."
   ]
  },
  {
   "cell_type": "code",
   "execution_count": null,
   "id": "9e7dd1b9",
   "metadata": {
    "ExecuteTime": {
     "end_time": "2023-05-22T20:43:28.894273Z",
     "start_time": "2023-05-22T20:43:28.869179Z"
    }
   },
   "outputs": [],
   "source": [
    "x_train_treino = pd.concat([ x_training, x_validation ] )\n",
    "y_train_treino = pd.concat([ y_train, y_validation ] )"
   ]
  },
  {
   "cell_type": "markdown",
   "id": "35a62cfd",
   "metadata": {},
   "source": [
    "#### 9.3.2.3 - Generalization capacity of LGBM Model"
   ]
  },
  {
   "cell_type": "code",
   "execution_count": null,
   "id": "eae3fba2",
   "metadata": {
    "ExecuteTime": {
     "end_time": "2023-05-22T20:43:29.427836Z",
     "start_time": "2023-05-22T20:43:29.408818Z"
    }
   },
   "outputs": [],
   "source": [
    "params_lgbm = { 'scale_pos_weight':7.2,\n",
    "                'n_estimators':350,\n",
    "                'learning_rate':0.1,\n",
    "                'max_depth':5,\n",
    "                'objective':'binary',\n",
    "                'metric':'binary_logloss'}"
   ]
  },
  {
   "cell_type": "code",
   "execution_count": null,
   "id": "edb17247",
   "metadata": {
    "ExecuteTime": {
     "end_time": "2023-05-22T20:43:30.617740Z",
     "start_time": "2023-05-22T20:43:29.573268Z"
    }
   },
   "outputs": [],
   "source": [
    "# Model Definition\n",
    "lgbm_model = lgbm.LGBMClassifier(**params_lgbm )\n",
    "\n",
    "# Model Training\n",
    "model_lgbm = lgbm_model.fit( x_train_treino, y_train_treino )"
   ]
  },
  {
   "cell_type": "code",
   "execution_count": null,
   "id": "4a2b3362",
   "metadata": {
    "ExecuteTime": {
     "end_time": "2023-05-22T20:43:30.713566Z",
     "start_time": "2023-05-22T20:43:30.619740Z"
    }
   },
   "outputs": [],
   "source": [
    "# Model Prediction\n",
    "yhat_lgbm = model_lgbm.predict_proba( x_test )"
   ]
  },
  {
   "cell_type": "code",
   "execution_count": null,
   "id": "04cbc24b",
   "metadata": {
    "ExecuteTime": {
     "end_time": "2023-05-22T20:43:30.761570Z",
     "start_time": "2023-05-22T20:43:30.715567Z"
    }
   },
   "outputs": [],
   "source": [
    "# Copy Data\n",
    "df_test = x_test.copy()\n",
    "df_test['response'] = y_test.copy()\n",
    "\n",
    "# Propensity score\n",
    "df_test['score'] = yhat_lgbm[:,1].tolist()\n",
    "\n",
    "# sorted clients by score\n",
    "df_test = df_test.sort_values( 'score', ascending=False )\n",
    "\n",
    "# Compute precision at K\n",
    "precision_atK = precision_at_k(df_test, k=20000 )\n",
    "\n",
    "# Compute precision at K\n",
    "recall_atK = recall_at_k(df_test, k=20000 )\n",
    "\n",
    "lgbm_performance_cv = ml_performance('LGBM Model', precision_atK, recall_atK )\n",
    "lgbm_performance_cv"
   ]
  },
  {
   "cell_type": "code",
   "execution_count": null,
   "id": "ddeb2e5f",
   "metadata": {
    "ExecuteTime": {
     "end_time": "2023-05-22T20:43:30.777567Z",
     "start_time": "2023-05-22T20:43:30.764568Z"
    }
   },
   "outputs": [],
   "source": [
    "yhat_lgbm_curve = yhat_lgbm[:,1]"
   ]
  },
  {
   "cell_type": "code",
   "execution_count": null,
   "id": "90e1e47b",
   "metadata": {
    "ExecuteTime": {
     "end_time": "2023-05-22T20:43:30.807947Z",
     "start_time": "2023-05-22T20:43:30.779567Z"
    }
   },
   "outputs": [],
   "source": [
    "precision, recall, thresholds = precision_recall_curve(y_test, yhat_lgbm_curve)"
   ]
  },
  {
   "cell_type": "code",
   "execution_count": null,
   "id": "e5af7a3d",
   "metadata": {
    "ExecuteTime": {
     "end_time": "2023-05-22T20:43:31.139702Z",
     "start_time": "2023-05-22T20:43:30.809929Z"
    }
   },
   "outputs": [],
   "source": [
    "# plot curves\n",
    "plt.plot(thresholds, precision[:-1], marker='.', label='Precision')\n",
    "plt.plot(thresholds, recall[:-1], marker='.', label='Recall')\n",
    "plt.xlabel('thresholds')\n",
    "plt.ylabel('Precision, Recall')\n",
    "plt.legend()\n",
    "plt.show()"
   ]
  },
  {
   "cell_type": "markdown",
   "id": "22900979",
   "metadata": {},
   "source": [
    "#### 9.3.2.4 - Generalization capacity of XGB Model"
   ]
  },
  {
   "cell_type": "code",
   "execution_count": null,
   "id": "cabc51f2",
   "metadata": {
    "ExecuteTime": {
     "end_time": "2023-05-22T20:43:31.218683Z",
     "start_time": "2023-05-22T20:43:31.201619Z"
    }
   },
   "outputs": [],
   "source": [
    "params_xgb = {'scale_pos_weight':7.2,\n",
    "              'colsample_bytree':0.9, \n",
    "              'subsample':0.5, \n",
    "              'objective':'binary:logistic',\n",
    "              'eval_metric':'logloss', \n",
    "              'n_estimators':1000, \n",
    "              'max_depth':13, \n",
    "              'min_child_weight':15,\n",
    "              'eta':0.01}"
   ]
  },
  {
   "cell_type": "code",
   "execution_count": null,
   "id": "18f1961d",
   "metadata": {
    "ExecuteTime": {
     "end_time": "2023-05-22T20:45:07.610376Z",
     "start_time": "2023-05-22T20:43:31.420267Z"
    }
   },
   "outputs": [],
   "source": [
    "# XGB Model\n",
    "\n",
    "# model definition\n",
    "model_xgb_cv = XGBClassifier(** params_xgb)\n",
    "\n",
    "# model training\n",
    "model_xgb_cv.fit( x_training, y_train )\n",
    "\n",
    "# model prediction - The generalization POWER\n",
    "yhat_xgb_cv = model_xgb_cv.predict_proba( x_test )"
   ]
  },
  {
   "cell_type": "code",
   "execution_count": null,
   "id": "40cc77d8",
   "metadata": {
    "ExecuteTime": {
     "end_time": "2023-05-22T20:45:07.673377Z",
     "start_time": "2023-05-22T20:45:07.614379Z"
    }
   },
   "outputs": [],
   "source": [
    "# Copy Data\n",
    "df_test = x_test.copy()\n",
    "df_test['response'] = y_test.copy()\n",
    "\n",
    "# Propensity score\n",
    "df_test['score'] = yhat_xgb_cv[:,1].tolist()\n",
    "\n",
    "# sorted clients by score\n",
    "df_test = df_test.sort_values( 'score', ascending=False )\n",
    "\n",
    "# Compute precision at K\n",
    "precision_atK = precision_at_k(df_test, k=20000 )\n",
    "\n",
    "# Compute precision at K\n",
    "recall_atK = recall_at_k(df_test, k=20000 )\n",
    "\n",
    "xgb_performance_cv = ml_performance('XGB Model', precision_atK, recall_atK )\n",
    "xgb_performance_cv"
   ]
  },
  {
   "cell_type": "code",
   "execution_count": null,
   "id": "e81de3bf",
   "metadata": {
    "ExecuteTime": {
     "end_time": "2023-05-22T20:45:08.404136Z",
     "start_time": "2023-05-22T20:45:07.675377Z"
    }
   },
   "outputs": [],
   "source": [
    "fig, axs = plt.subplots(ncols= 3, figsize = (18,5))\n",
    "\n",
    "# cumulative gain - Metric for sorting problem\n",
    "skplt.metrics.plot_cumulative_gain(y_test, yhat_xgb_cv, ax=axs[0],title='Cumulative Gain - XGB');\n",
    "\n",
    "# Lift Curve\n",
    "skplt.metrics.plot_lift_curve(y_test, yhat_xgb_cv,ax=axs[1],title='Lift Curve - XGB');\n",
    "\n",
    "# Roc Curve\n",
    "skplt.metrics.plot_roc(y_test, yhat_xgb_cv, ax=axs[2], title='ROC-Curve - XGB');\n",
    "\n",
    "plt.tight_layout()"
   ]
  },
  {
   "cell_type": "code",
   "execution_count": null,
   "id": "03a25b92",
   "metadata": {
    "ExecuteTime": {
     "end_time": "2023-05-22T20:45:08.420144Z",
     "start_time": "2023-05-22T20:45:08.409121Z"
    }
   },
   "outputs": [],
   "source": [
    "yhat_xgb_curve = yhat_xgb_cv[:,1]"
   ]
  },
  {
   "cell_type": "code",
   "execution_count": null,
   "id": "e0b8047d",
   "metadata": {
    "ExecuteTime": {
     "end_time": "2023-05-22T20:45:08.452235Z",
     "start_time": "2023-05-22T20:45:08.422137Z"
    }
   },
   "outputs": [],
   "source": [
    "precision, recall, thresholds = precision_recall_curve( y_test, yhat_xgb_curve)"
   ]
  },
  {
   "cell_type": "code",
   "execution_count": null,
   "id": "04ca8348",
   "metadata": {
    "ExecuteTime": {
     "end_time": "2023-05-22T20:45:08.468137Z",
     "start_time": "2023-05-22T20:45:08.455119Z"
    }
   },
   "outputs": [],
   "source": [
    "x_test.shape"
   ]
  },
  {
   "cell_type": "code",
   "execution_count": null,
   "id": "aa49427f",
   "metadata": {
    "ExecuteTime": {
     "end_time": "2023-05-22T20:45:08.484135Z",
     "start_time": "2023-05-22T20:45:08.470118Z"
    }
   },
   "outputs": [],
   "source": [
    "thresholds"
   ]
  },
  {
   "cell_type": "code",
   "execution_count": null,
   "id": "1eda4357",
   "metadata": {
    "ExecuteTime": {
     "end_time": "2023-05-22T21:12:43.099931Z",
     "start_time": "2023-05-22T21:12:42.753831Z"
    }
   },
   "outputs": [],
   "source": [
    "# plot curves\n",
    "plt.plot(thresholds, precision[:-1], marker='.', label='Precision')\n",
    "plt.plot(thresholds, recall[:-1], marker='.', label='Recall')\n",
    "plt.xlabel('thresholds')\n",
    "plt.ylabel('Precision, Recall')\n",
    "plt.legend()\n",
    "plt.show()"
   ]
  },
  {
   "cell_type": "markdown",
   "id": "d66bf176",
   "metadata": {},
   "source": [
    "### 9.1 - Cross Validation"
   ]
  },
  {
   "cell_type": "code",
   "execution_count": null,
   "id": "aaeb314b",
   "metadata": {
    "ExecuteTime": {
     "end_time": "2023-05-22T20:45:08.905211Z",
     "start_time": "2023-05-22T20:45:08.875711Z"
    }
   },
   "outputs": [],
   "source": [
    "df_cc = pd.concat([x_train_treino, y_train_treino], axis=1)"
   ]
  },
  {
   "cell_type": "code",
   "execution_count": null,
   "id": "a8ef51e5",
   "metadata": {
    "ExecuteTime": {
     "end_time": "2023-05-22T20:53:01.090989Z",
     "start_time": "2023-05-22T20:45:08.908217Z"
    }
   },
   "outputs": [],
   "source": [
    "# Dictioary with models instantiated\n",
    "models = {'XGB Model': model_xgb_cv,\n",
    "          'LGBM Model': model_lgbm }\n",
    "\n",
    "# Cross-validated models performance\n",
    "model_performance = pd.DataFrame()\n",
    "\n",
    "for key in models.keys():\n",
    "    performance_cv = cross_validation(5, key, models[key], df_cc, 20000)\n",
    "    model_performance = pd.concat([model_performance, performance_cv], axis=1)\n",
    "\n",
    "model_performance.T"
   ]
  },
  {
   "cell_type": "markdown",
   "id": "0c9860a3",
   "metadata": {},
   "source": [
    "#### 9.3.2.5 - Last training with all datas before deploying to production"
   ]
  },
  {
   "cell_type": "code",
   "execution_count": null,
   "id": "e3762813",
   "metadata": {
    "ExecuteTime": {
     "end_time": "2023-05-22T20:53:01.612700Z",
     "start_time": "2023-05-22T20:53:01.093220Z"
    }
   },
   "outputs": [],
   "source": [
    "# Union of training, validation and test datasets\n",
    "df_last = df_raw.copy()\n",
    "\n",
    "# Split response variable into a new dataset\n",
    "x_last_training = df_last.drop( 'response', axis=1 )\n",
    "y_last_training = df_last['response'].copy()\n",
    "\n",
    "# Applying data transformation\n",
    "x_last_training = data_preparation( x_last_training )"
   ]
  },
  {
   "cell_type": "code",
   "execution_count": null,
   "id": "c6a383b7",
   "metadata": {
    "ExecuteTime": {
     "end_time": "2023-05-22T20:55:15.573704Z",
     "start_time": "2023-05-22T20:53:01.614574Z"
    }
   },
   "outputs": [],
   "source": [
    "# XGB Model Last Training\n",
    "\n",
    "# model definition\n",
    "model_xgb_lv= XGBClassifier( **params_xgb )\n",
    "\n",
    "# model training\n",
    "model_xgb_lv.fit( x_last_training, y_last_training )"
   ]
  },
  {
   "cell_type": "code",
   "execution_count": null,
   "id": "a56d8bc8",
   "metadata": {
    "ExecuteTime": {
     "end_time": "2023-05-22T20:55:15.763323Z",
     "start_time": "2023-05-22T20:55:15.576705Z"
    }
   },
   "outputs": [],
   "source": [
    "pickle.dump(model_xgb_lv, open('C:/Users/perot/Documents/ds_repos/projects/Health_Insurance_Cross_Sell/src/models/xgb_model.pkl', 'wb'))"
   ]
  },
  {
   "cell_type": "markdown",
   "id": "27a55409",
   "metadata": {},
   "source": [
    "## 10 - DEPLOYING MODEL TO PRODUCTION"
   ]
  },
  {
   "cell_type": "markdown",
   "id": "04e92906",
   "metadata": {},
   "source": [
    "### 10.1 - HEALTHINSURANCE CLASS"
   ]
  },
  {
   "cell_type": "code",
   "execution_count": null,
   "id": "6fa080b9",
   "metadata": {},
   "outputs": [],
   "source": [
    "import pickle\n",
    "import inflection\n",
    "import numpy  as np\n",
    "import pandas as pd\n",
    "\n",
    "class HealthInsurance:\n",
    "    \n",
    "    def __init__( self ):\n",
    "        self.home_path                                = ''\n",
    "        self.frequency_encode_policy_sales_scaler     = pickle.load( open( self.home_path + 'src/features/frequency_encode_policy_sales_scaler.pkl', 'rb') )\n",
    "        self.frequency_encode_region_code_scaler      = pickle.load( open( self.home_path + 'src/features/frequency_encode_region_code_scaler.pkl', 'rb') )\n",
    "        self.target_encode_gender_scaler              = pickle.load( open( self.home_path + 'src/features/target_encode_gender_scaler.pkl', 'rb') )\n",
    "        self.age_scaler                               = pickle.load( open( self.home_path + 'src/features/age_scaler.pkl', 'rb') )\n",
    "        self.vintage_scaler                           = pickle.load( open( self.home_path + 'src/features/vintage_scaler.pkl', 'rb') )\n",
    "        self.annual_premium_scaler                    = pickle.load( open( self.home_path + 'src/features/annual_premium_scaler.pkl', 'rb') )\n",
    "\n",
    "    \n",
    "    def data_cleaning( self, df5 ):\n",
    " \n",
    "        ## rename Columns\n",
    "        cols_old = ['id', 'Gender', 'Age', 'Driving_License', 'Region_Code', 'Previously_Insured', 'Vehicle_Age', 'Vehicle_Damage', 'Annual_Premium', 'Policy_Sales_Channel', 'Vintage']\n",
    "\n",
    "        snakecase = lambda x: inflection.underscore( x )\n",
    "        cols_new = list( map( snakecase, cols_old ) )\n",
    "        \n",
    "        # rename\n",
    "        df5.columns = cols_new\n",
    "        \n",
    "        return( df5 )\n",
    "\n",
    "    def feature_engineering( self, df5 ):\n",
    "        \n",
    "        # Changing data types\n",
    "        df5['region_code'] = df5['region_code'].astype(object)\n",
    "        df5['policy_sales_channel'] = df5['policy_sales_channel'].astype(object)\n",
    "        \n",
    "        # Fitting vehicle_age column\n",
    "        df5['vehicle_age'] = df5['vehicle_age'].apply(lambda x: 1 if (x == '< 1 Year') else 2 if (x == '1-2 Year') else 3)\n",
    "\n",
    "        # Fitting vehicle_damage column\n",
    "        df5['vehicle_damage'] = df5['vehicle_damage'].apply(lambda x: 1 if (x == 'Yes') else 0)\n",
    "              \n",
    "        return( df5 )\n",
    "    \n",
    "    def data_preparation( self, df5 ):\n",
    "              \n",
    "        # STANDARDIZATION\n",
    "\n",
    "        # annual premium\n",
    "        df5['annual_premium'] = self.annual_premium_scaler.transform( df5[['annual_premium']].values )\n",
    "\n",
    "\n",
    "        # REESCALING\n",
    "\n",
    "        # age\n",
    "        df5['age'] = self.age_scaler.transform( df5[['age']].values )\n",
    "\n",
    "        # vintage\n",
    "        df5['vintage'] = self.vintage_scaler.transform( df5[['vintage']].values )\n",
    "\n",
    "\n",
    "\n",
    "        # ENCODER\n",
    "\n",
    "        # policy sales channel\n",
    "        df5.loc[:, 'policy_sales_channel'] = df5['policy_sales_channel'].map( self.frequency_encode_policy_sales_scaler )\n",
    "\n",
    "        # region code\n",
    "        df5.loc[:, 'region_code'] = df5['region_code'].map( self.frequency_encode_region_code_scaler )\n",
    "\n",
    "        # gender\n",
    "        df5.loc[:, 'gender'] = df5['gender'].map( self.target_encode_gender_scaler )\n",
    "\n",
    "        # FILL NAN VALUES\n",
    "        df5 = df5.fillna(0)\n",
    "        \n",
    "        # Feature Selection\n",
    "        cols_selected = ['vintage', 'annual_premium','age','region_code','vehicle_damage','policy_sales_channel','previously_insured','vehicle_age']\n",
    "        \n",
    "        return df5[cols_selected]\n",
    "    \n",
    "\n",
    "    def get_prediction( self, model, original_data, test_data ):\n",
    "        # prediction\n",
    "        pred = model.predict_proba( test_data )\n",
    "        \n",
    "        # join pred into the original data\n",
    "        original_data['score'] = pred[:, 1].tolist()\n",
    "        \n",
    "        return original_data.to_json( orient='records', date_format='iso' )"
   ]
  },
  {
   "cell_type": "markdown",
   "id": "13ce5926",
   "metadata": {},
   "source": [
    "### 10.2 - API HANDLER"
   ]
  },
  {
   "cell_type": "code",
   "execution_count": null,
   "id": "a985f9b0",
   "metadata": {},
   "outputs": [],
   "source": [
    "import pickle\n",
    "import pandas as pd\n",
    "import os\n",
    "from flask                           import Flask, request, Response\n",
    "from healthinsurance.healthinsurance import HealthInsurance\n",
    "\n",
    "# logading model\n",
    "model = pickle.load( open( 'src/models/xgb_m odel.pkl', 'rb' ) )\n",
    "                          \n",
    "# initialize API\n",
    "app = Flask( __name__ )\n",
    "\n",
    "@app.route( '/healthinsurance/predict', methods=['POST'] )\n",
    "def health_insurance_predict():\n",
    "    test_json = request.get_json()\n",
    "    \n",
    "    if test_json: #there is data\n",
    "               \n",
    "        if isinstance( test_json, dict ): # unique example\n",
    "            test_raw = pd.DataFrame( test_json, index=[0] )\n",
    "    \n",
    "        else:\n",
    "            test_raw = pd.DataFrame( test_json, columns=test_json[0].keys() ) # multiple examples\n",
    "            \n",
    "        # Instantiate Rossmann Class\n",
    "        pipeline = HealthInsurance()\n",
    "\n",
    "        # data cleaning\n",
    "        df1 = pipeline.data_cleaning( test_raw )\n",
    "              \n",
    "        # feature engineering\n",
    "        df2 = pipeline.feature_engineering( df1 )\n",
    "\n",
    "        # Data Preparation\n",
    "        df3 = pipeline.data_preparation( df2 )\n",
    "                              \n",
    "        # prediction\n",
    "        df_response = pipeline.get_prediction( model, test_raw, df3 )\n",
    "        \n",
    "        return df_response\n",
    "        \n",
    "    else:\n",
    "        return Response( '{}', status=200, mimetype='application/json' )\n",
    "\n",
    "if __name__ == '__main__':\n",
    "    app.run('0.0.0.0')\n",
    "\n",
    "#    port = os.environ.get('PORT', 5000)\n",
    "#    app.run( host='0.0.0.0', port=port )"
   ]
  },
  {
   "cell_type": "markdown",
   "id": "0ab1ba52",
   "metadata": {},
   "source": [
    "### 10.3 - API Tester"
   ]
  },
  {
   "cell_type": "code",
   "execution_count": null,
   "id": "db6e9ca5",
   "metadata": {
    "ExecuteTime": {
     "end_time": "2023-05-22T19:16:15.205801Z",
     "start_time": "2023-05-22T19:16:15.195491Z"
    }
   },
   "outputs": [],
   "source": [
    "import requests\n",
    "import pandas as pd"
   ]
  },
  {
   "cell_type": "code",
   "execution_count": null,
   "id": "2f9ef3c7",
   "metadata": {
    "ExecuteTime": {
     "end_time": "2023-05-22T19:16:16.095574Z",
     "start_time": "2023-05-22T19:16:15.979174Z"
    }
   },
   "outputs": [],
   "source": [
    "# Load Datasets\n",
    "df_test = pd.read_csv('C:/Users/perot/Documents/ds_repos/projects/Health_Insurance_Cross_Sell/data/raw/test.csv')"
   ]
  },
  {
   "cell_type": "code",
   "execution_count": null,
   "id": "c5d70a53",
   "metadata": {
    "ExecuteTime": {
     "end_time": "2023-05-22T19:16:16.764133Z",
     "start_time": "2023-05-22T19:16:16.760098Z"
    }
   },
   "outputs": [],
   "source": [
    "#df_test = df_test.sample(10)"
   ]
  },
  {
   "cell_type": "code",
   "execution_count": null,
   "id": "2909572d",
   "metadata": {
    "ExecuteTime": {
     "end_time": "2023-05-22T19:16:17.121849Z",
     "start_time": "2023-05-22T19:16:17.107833Z"
    }
   },
   "outputs": [],
   "source": [
    "df_test.head()"
   ]
  },
  {
   "cell_type": "code",
   "execution_count": null,
   "id": "6379bc1f",
   "metadata": {
    "ExecuteTime": {
     "end_time": "2023-05-22T19:16:20.778492Z",
     "start_time": "2023-05-22T19:16:19.571914Z"
    }
   },
   "outputs": [],
   "source": [
    "# convert dataframe to json\n",
    "data = json.dumps( df_test.to_dict( orient='records' ) )"
   ]
  },
  {
   "cell_type": "code",
   "execution_count": null,
   "id": "85946966",
   "metadata": {
    "ExecuteTime": {
     "end_time": "2023-05-22T19:16:24.691254Z",
     "start_time": "2023-05-22T19:16:23.195452Z"
    }
   },
   "outputs": [],
   "source": [
    "# API Call\n",
    "#url = 'https://healthinsurance-api.onrender.com/healthinsurance/predict'\n",
    "url = 'http://127.0.0.1:5000/healthinsurance/predict'\n",
    "header = {'Content-type': 'application/json' }\n",
    "\n",
    "r = requests.post( url, data=data, headers=header )\n",
    "print( 'Status Code {}'.format( r.status_code ) )"
   ]
  },
  {
   "cell_type": "code",
   "execution_count": null,
   "id": "dbfd728f",
   "metadata": {
    "ExecuteTime": {
     "end_time": "2023-05-22T19:16:25.734735Z",
     "start_time": "2023-05-22T19:16:24.693160Z"
    }
   },
   "outputs": [],
   "source": [
    "d2 = pd.DataFrame( r.json(), columns=r.json()[0].keys() )"
   ]
  },
  {
   "cell_type": "code",
   "execution_count": null,
   "id": "d2a682e3",
   "metadata": {
    "ExecuteTime": {
     "end_time": "2023-05-22T19:21:08.870379Z",
     "start_time": "2023-05-22T19:21:08.058639Z"
    }
   },
   "outputs": [],
   "source": [
    "d2.to_csv('scores.csv')"
   ]
  }
 ],
 "metadata": {
  "hide_input": false,
  "kernelspec": {
   "display_name": "Python 3 (ipykernel)",
   "language": "python",
   "name": "python3"
  },
  "language_info": {
   "codemirror_mode": {
    "name": "ipython",
    "version": 3
   },
   "file_extension": ".py",
   "mimetype": "text/x-python",
   "name": "python",
   "nbconvert_exporter": "python",
   "pygments_lexer": "ipython3",
   "version": "3.9.15"
  }
 },
 "nbformat": 4,
 "nbformat_minor": 5
}
