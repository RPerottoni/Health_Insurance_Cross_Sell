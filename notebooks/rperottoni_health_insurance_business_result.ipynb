{
 "cells": [
  {
   "cell_type": "markdown",
   "id": "cc556fc9",
   "metadata": {},
   "source": [
    "# 0 - IMPORTS"
   ]
  },
  {
   "cell_type": "code",
   "execution_count": 2,
   "id": "ac584dd7",
   "metadata": {
    "ExecuteTime": {
     "end_time": "2023-05-23T21:21:35.292384Z",
     "start_time": "2023-05-23T21:21:34.618333Z"
    }
   },
   "outputs": [],
   "source": [
    "import pandas as pd"
   ]
  },
  {
   "cell_type": "markdown",
   "id": "5596e370",
   "metadata": {},
   "source": [
    "# 1 - DATAS"
   ]
  },
  {
   "cell_type": "code",
   "execution_count": 3,
   "id": "66bd157e",
   "metadata": {
    "ExecuteTime": {
     "end_time": "2023-05-23T21:21:36.659634Z",
     "start_time": "2023-05-23T21:21:36.501553Z"
    }
   },
   "outputs": [],
   "source": [
    "df = pd.read_csv('C:/Users/perot/Documents/ds_repos/projects/Health_Insurance_Cross_Sell/data/processed/scores.csv')"
   ]
  },
  {
   "cell_type": "markdown",
   "id": "5c4a8df0",
   "metadata": {},
   "source": [
    "# 2 - BUSINESS RESULTS"
   ]
  },
  {
   "cell_type": "code",
   "execution_count": 21,
   "id": "b1e6adb2",
   "metadata": {
    "ExecuteTime": {
     "end_time": "2023-05-23T21:48:33.285160Z",
     "start_time": "2023-05-23T21:48:33.260090Z"
    }
   },
   "outputs": [],
   "source": [
    "df_score = df['score'].sort_values(ascending=False)"
   ]
  },
  {
   "cell_type": "code",
   "execution_count": 23,
   "id": "f765a6ae",
   "metadata": {
    "ExecuteTime": {
     "end_time": "2023-05-23T21:48:46.382091Z",
     "start_time": "2023-05-23T21:48:46.371908Z"
    }
   },
   "outputs": [],
   "source": [
    "# Threshold\n",
    "th = 0.6\n",
    "\n",
    "# Precision\n",
    "\n",
    "#With a threshold set at 0.6, the precision metric of approximately 0.36 means that out of the clients assigned as buyers,\n",
    "# approximately 36% of them are expected to definitely purchase the product."
   ]
  },
  {
   "cell_type": "code",
   "execution_count": 24,
   "id": "da8dcef0",
   "metadata": {
    "ExecuteTime": {
     "end_time": "2023-05-23T21:48:48.452726Z",
     "start_time": "2023-05-23T21:48:48.430310Z"
    }
   },
   "outputs": [],
   "source": [
    "score = [1 if i > th else 0 for i in df_score]"
   ]
  },
  {
   "cell_type": "markdown",
   "id": "aceb415a",
   "metadata": {},
   "source": [
    "## 2.1 - BUSINESS ASSUMPTIONS"
   ]
  },
  {
   "cell_type": "markdown",
   "id": "35b6beb3",
   "metadata": {},
   "source": [
    "##### The cost for contacting each client has been set at $40.00."
   ]
  },
  {
   "cell_type": "code",
   "execution_count": 53,
   "id": "21414fc3",
   "metadata": {
    "ExecuteTime": {
     "end_time": "2023-05-23T22:05:08.829485Z",
     "start_time": "2023-05-23T22:05:08.819724Z"
    }
   },
   "outputs": [],
   "source": [
    "cost = 40"
   ]
  },
  {
   "cell_type": "markdown",
   "id": "c15350ff",
   "metadata": {},
   "source": [
    "##### The minimum price for the new product will be set at $1,100.00."
   ]
  },
  {
   "cell_type": "code",
   "execution_count": 54,
   "id": "56c7ad35",
   "metadata": {
    "ExecuteTime": {
     "end_time": "2023-05-23T22:05:09.575268Z",
     "start_time": "2023-05-23T22:05:09.559260Z"
    }
   },
   "outputs": [],
   "source": [
    "price = 1100"
   ]
  },
  {
   "cell_type": "markdown",
   "id": "d6e978ff",
   "metadata": {
    "ExecuteTime": {
     "end_time": "2023-05-23T21:39:29.066719Z",
     "start_time": "2023-05-23T21:39:29.057264Z"
    }
   },
   "source": [
    "##### The revenue will be calculated by multiplying the product price per client and subtracting the costs for contacting each customer."
   ]
  },
  {
   "cell_type": "markdown",
   "id": "db232256",
   "metadata": {},
   "source": [
    "## 2.2 - BUSINESS QUESTIONS"
   ]
  },
  {
   "cell_type": "code",
   "execution_count": null,
   "id": "c48230fd",
   "metadata": {},
   "outputs": [],
   "source": [
    "#What percentage of customers interested in purchasing car insurance will the sales team be able to contact\n",
    "# by making 20,000 calls?"
   ]
  },
  {
   "cell_type": "code",
   "execution_count": 39,
   "id": "68d8a846",
   "metadata": {
    "ExecuteTime": {
     "end_time": "2023-05-23T21:57:37.165681Z",
     "start_time": "2023-05-23T21:57:37.150571Z"
    }
   },
   "outputs": [],
   "source": [
    "Q1 = score[:20000]"
   ]
  },
  {
   "cell_type": "code",
   "execution_count": 77,
   "id": "97cdc20c",
   "metadata": {
    "ExecuteTime": {
     "end_time": "2023-05-23T22:27:20.116101Z",
     "start_time": "2023-05-23T22:27:20.101930Z"
    }
   },
   "outputs": [
    {
     "name": "stdout",
     "output_type": "stream",
     "text": [
      "By doing 20.000 calls, the sales team will make contact with 32% of the interested customers, with represents a revenue of $6179500.00\n"
     ]
    }
   ],
   "source": [
    "# Percentage of Interested Customers\n",
    "a = Q1.count(1)\n",
    "b = len(Q1)\n",
    "r1 = round((a/b)*100)\n",
    "\n",
    "# Profit\n",
    "prof = (a * price) - (b * cost)\n",
    "\n",
    "\n",
    "print('By doing 20.000 calls, the sales team will make contact with {}% of the interested customers, resulting in a revenue of ${}.00'.format(r1, prof))"
   ]
  },
  {
   "cell_type": "code",
   "execution_count": null,
   "id": "17fbb8fc",
   "metadata": {},
   "outputs": [],
   "source": [
    "# If the sales team's capacity increases to 40,000 calls, what percentage of customers interested in purchasing car\n",
    "# insurance will the sales team be able to contact?"
   ]
  },
  {
   "cell_type": "code",
   "execution_count": 58,
   "id": "34289473",
   "metadata": {
    "ExecuteTime": {
     "end_time": "2023-05-23T22:09:18.121513Z",
     "start_time": "2023-05-23T22:09:18.105911Z"
    }
   },
   "outputs": [],
   "source": [
    "Q2 = score[:40000]"
   ]
  },
  {
   "cell_type": "code",
   "execution_count": 80,
   "id": "394540bd",
   "metadata": {
    "ExecuteTime": {
     "end_time": "2023-05-23T22:31:39.741845Z",
     "start_time": "2023-05-23T22:31:39.727024Z"
    }
   },
   "outputs": [
    {
     "name": "stdout",
     "output_type": "stream",
     "text": [
      "By doing 20.000 calls, the sales team will make contact with 16% of the interested customers, resulting in a revenue of 5379500,00.\n"
     ]
    }
   ],
   "source": [
    "# Percentage of Interested Customers\n",
    "a = Q2.count(1)\n",
    "b = len(Q2)\n",
    "r2 = round((a/b)*100)\n",
    "\n",
    "# Profit\n",
    "prof = (a * price) - (b * cost)\n",
    "\n",
    "\n",
    "print('By doing 40.000 calls, the sales team will make contact with {}% of the interested customers, resulting in a revenue of {},00.'.format(r2, prof))"
   ]
  },
  {
   "cell_type": "code",
   "execution_count": null,
   "id": "2bed4ffb",
   "metadata": {},
   "outputs": [],
   "source": [
    "# How many calls does the sales team need to make to contact 80% of customers interested in purchasing car insurance?"
   ]
  },
  {
   "cell_type": "code",
   "execution_count": 73,
   "id": "760a21f0",
   "metadata": {
    "ExecuteTime": {
     "end_time": "2023-05-23T22:21:58.103344Z",
     "start_time": "2023-05-23T22:21:58.094922Z"
    }
   },
   "outputs": [
    {
     "name": "stdout",
     "output_type": "stream",
     "text": [
      "By doing 5076 calls, the sales team will make contact with 80% of the interested customers, resulting in a revenue of $6776460\n"
     ]
    }
   ],
   "source": [
    "Q3 = score.count(1)\n",
    "r3 = round(0.8 * Q3)\n",
    "\n",
    "# Profit\n",
    "prof = (Q3 * price) - (r3 * cost)\n",
    "\n",
    "print('By doing {} calls, the sales team will make contact with 80% of the interested customers, resulting in a revenue of ${}'.format(r3, prof))"
   ]
  },
  {
   "cell_type": "code",
   "execution_count": null,
   "id": "ff6cf0bf",
   "metadata": {},
   "outputs": [],
   "source": []
  },
  {
   "cell_type": "code",
   "execution_count": null,
   "id": "dadb0090",
   "metadata": {},
   "outputs": [],
   "source": []
  },
  {
   "cell_type": "code",
   "execution_count": null,
   "id": "bccede73",
   "metadata": {},
   "outputs": [],
   "source": []
  },
  {
   "cell_type": "code",
   "execution_count": null,
   "id": "e8e47964",
   "metadata": {},
   "outputs": [],
   "source": []
  },
  {
   "cell_type": "code",
   "execution_count": null,
   "id": "3c52a930",
   "metadata": {},
   "outputs": [],
   "source": []
  },
  {
   "cell_type": "code",
   "execution_count": null,
   "id": "dabffee3",
   "metadata": {},
   "outputs": [],
   "source": []
  }
 ],
 "metadata": {
  "hide_input": false,
  "kernelspec": {
   "display_name": "Python 3 (ipykernel)",
   "language": "python",
   "name": "python3"
  },
  "language_info": {
   "codemirror_mode": {
    "name": "ipython",
    "version": 3
   },
   "file_extension": ".py",
   "mimetype": "text/x-python",
   "name": "python",
   "nbconvert_exporter": "python",
   "pygments_lexer": "ipython3",
   "version": "3.9.15"
  }
 },
 "nbformat": 4,
 "nbformat_minor": 5
}
