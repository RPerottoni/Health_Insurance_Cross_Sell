{
 "cells": [
  {
   "cell_type": "markdown",
   "id": "8ba1e0d7",
   "metadata": {},
   "source": [
    "# PA004 - HEALTH INSURANCE CROS-SELL - FIRST CYCLE"
   ]
  },
  {
   "cell_type": "markdown",
   "id": "ce96817c",
   "metadata": {},
   "source": [
    "## 0 - IMPORTS AND FUNCTIONS"
   ]
  },
  {
   "cell_type": "code",
   "execution_count": null,
   "id": "17f6ae08",
   "metadata": {
    "ExecuteTime": {
     "end_time": "2023-05-05T18:16:24.946817Z",
     "start_time": "2023-05-05T18:16:21.310693Z"
    }
   },
   "outputs": [],
   "source": [
    "import pandas              as pd\n",
    "import scikitplot          as skplt\n",
    "import matplotlib.pyplot   as plt\n",
    "import lightgbm            as lgbm\n",
    "\n",
    "from pandas_profiling      import ProfileReport\n",
    "from IPython.display       import HTML\n",
    "from catboost              import CatBoostClassifier\n",
    "from xgboost               import XGBClassifier\n",
    "from sklearn.utils         import resample\n",
    "from sklearn               import metrics               as mt\n",
    "from sklearn               import model_selection       as ms"
   ]
  },
  {
   "cell_type": "markdown",
   "id": "43cdef58",
   "metadata": {},
   "source": [
    "### 0.1 - HELPER FUNCTIONS"
   ]
  },
  {
   "cell_type": "code",
   "execution_count": null,
   "id": "1dd3bff4",
   "metadata": {
    "ExecuteTime": {
     "end_time": "2023-05-05T18:16:25.945667Z",
     "start_time": "2023-05-05T18:16:25.929226Z"
    }
   },
   "outputs": [],
   "source": [
    "def ml_performance( model_name, precision_atK, recall_atK, accuracy ):\n",
    "        \n",
    "        return pd.DataFrame( {'Model Name': model_name,\n",
    "                              'Precision_at_K': precision_atK,\n",
    "                              'Recall_at_K': recall_atK}, index=[0] )\n",
    "                          \n",
    "def recall_at_k (data, k=20000):\n",
    "    # Reset Index\n",
    "    data = data.reset_index( drop=True )\n",
    "\n",
    "    # Create Ranking Order\n",
    "    data['ranking'] = data.index + 1\n",
    "\n",
    "    data['recall_at_k'] = data['response'].cumsum() / data['response'].sum()\n",
    "\n",
    "    return data.loc[k, 'recall_at_k'] \n",
    "\n",
    "def precision_at_k (data, k=20000):\n",
    "    # Reset Index\n",
    "    data = data.reset_index( drop=True )\n",
    "\n",
    "    # Create Ranking Order\n",
    "    data['ranking'] = data.index + 1\n",
    "\n",
    "    data['precision_at_k'] = data['response'].cumsum() / data['ranking']\n",
    "\n",
    "    return data.loc[k, 'precision_at_k']\n",
    "\n",
    "def prediction_score(model, data):\n",
    "    # Separating train and validation dataset for each kfold\n",
    "    x_train = data.drop(columns=['response'])\n",
    "    y_train = data['response']\n",
    "    \n",
    "    # prediction probability (score)\n",
    "    yhat_proba = model.predict_proba(x_train)[:, 1].tolist()\n",
    "    \n",
    "    # merging score to dataset\n",
    "    data_scored = data.copy()\n",
    "    data_scored['score'] = yhat_proba\n",
    "    \n",
    "    # sort\n",
    "    data_scored = data_scored.sort_values('score', ascending=False)\n",
    "    \n",
    "    # precision and recall\n",
    "    data_scored = data_scored.reset_index(drop=True)\n",
    "    data_scored['n_samples'] = data_scored.index + 1\n",
    "    data_scored['precision_at_k'] = data_scored['response'].cumsum() / data_scored['n_samples']\n",
    "    data_scored['recall_at_k'] = data_scored['response'].cumsum() / data_scored['response'].sum()\n",
    "    \n",
    "    return data_scored\n",
    "\n",
    "def cross_validation(kfold, modelName, model, data, at_k):\n",
    "    \n",
    "    # Number of folds\n",
    "    fold=ms.StratifiedKFold(n_splits = kfold, shuffle=True, random_state=42)\n",
    "    \n",
    "    # Performance variables\n",
    "    precision_list = []\n",
    "    recall_list = []\n",
    "    cv_performance = {}\n",
    "    \n",
    "    for train_cv,val_cv in fold.split(data, data['response']):\n",
    "        \n",
    "        # Separating train and validation dataset for each kfold\n",
    "        # training data\n",
    "        x_train_fold = data.iloc[train_cv]\n",
    "        x_train_fold = x_train_fold[cols_selected]\n",
    "        \n",
    "        y_train_fold = data['response'].iloc[train_cv]\n",
    "        \n",
    "        # validation data\n",
    "        x_val_fold = data.iloc[val_cv]\n",
    "        x_val_fold = x_val_fold[cols_selected]\n",
    "        \n",
    "        y_val_fold = data['response'].iloc[val_cv]\n",
    "        \n",
    "        # fitting the model\n",
    "        model_fitted = model.fit(x_train_fold,y_train_fold)\n",
    "        \n",
    "        # getting the prediction probability\n",
    "        x_val_fold['response'] = y_val_fold\n",
    "        val_scored = prediction_score(model_fitted, x_val_fold)\n",
    "        \n",
    "        # Getting precision and recall at k\n",
    "        precision = val_scored.loc[at_k, 'precision_at_k']\n",
    "        recall = val_scored.loc[at_k, 'recall_at_k']\n",
    "        \n",
    "        precision_list.append(precision)\n",
    "        recall_list.append(recall)\n",
    "        \n",
    "    # calculating the mean and std performance of all kfolds\n",
    "    precision_cv = np.round(np.mean(precision_list),4).astype(float)\n",
    "    std_precision_cv = '+/-' + np.round(np.std(precision_list),4).astype(str)\n",
    "    recall_cv = np.round(np.mean(recall_list),4).astype(float)\n",
    "    std_recall_cv = ' +/- ' + np.round(np.std(recall_list),4).astype(str)\n",
    "        \n",
    "    cv_performance[modelName] = [precision_cv, std_precision_cv, recall_cv, std_recall_cv]\n",
    "    model_performance_cv = pd.DataFrame(cv_performance, index=['precision_at_k', 'std_precision', 'recall_at_k', 'std_recall'])\n",
    "\n",
    "    return model_performance_cv\n",
    "\n",
    "def ml_performance( model_name, precision_atK, recall_atK ):\n",
    "    \n",
    "    return pd.DataFrame( {'Model Name': model_name,\n",
    "                          'Precision_at_K': precision_atK,\n",
    "                          'Recall_at_K': recall_atK}, index=[0])"
   ]
  },
  {
   "cell_type": "markdown",
   "id": "82380eb7",
   "metadata": {
    "cell_style": "center"
   },
   "source": [
    "## 1 - LOADING AND UNDESTANDING DATA"
   ]
  },
  {
   "cell_type": "code",
   "execution_count": null,
   "id": "c520d31c",
   "metadata": {
    "ExecuteTime": {
     "end_time": "2023-05-05T18:16:29.559824Z",
     "start_time": "2023-05-05T18:16:29.245206Z"
    },
    "cell_style": "center"
   },
   "outputs": [],
   "source": [
    "# All data - Linux\n",
    "#df = pd.read_csv('/home/reng/Documents/ds_repos/Projects/Health_Insurance_Cross_Sell/data/raw/data.csv')\n",
    "\n",
    "# All Data - Windows\n",
    "df = pd.read_csv('C:/Users/perot/Documents/ds_repos/projects/Health_Insurance_Cross_Sell/data/raw/data.csv') "
   ]
  },
  {
   "cell_type": "markdown",
   "id": "3495e100",
   "metadata": {},
   "source": [
    "### 1.1 - SPLIT DATASET INTO TRAINING, TEST AND VALIDATION"
   ]
  },
  {
   "cell_type": "code",
   "execution_count": null,
   "id": "e6fc3fe6",
   "metadata": {
    "ExecuteTime": {
     "end_time": "2023-05-05T18:17:31.201945Z",
     "start_time": "2023-05-05T18:17:31.060350Z"
    }
   },
   "outputs": [],
   "source": [
    "# Applying train test split to create Train, Validation and Test datasets\n",
    "\n",
    "X = df.drop( 'response', axis=1 )\n",
    "y = df['response'].copy()\n",
    "x_train, x_valid, y_train, y_valid = ms.train_test_split( X, y, test_size=0.2 )\n",
    "x_train, x_test, y_train, y_test = ms.train_test_split( x_train, y_train, test_size=0.2, shuffle=True, random_state=None )\n",
    "\n",
    "print(f\" x_train: {x_train.shape}\\n y_train: {y_train.shape}\\n x_valid: {x_valid.shape}\\n y_valid: {y_valid.shape}\\n x_test: {x_test.shape}\\n y_test: {y_test.shape}\\n\")"
   ]
  },
  {
   "cell_type": "code",
   "execution_count": null,
   "id": "a99a17f8",
   "metadata": {
    "ExecuteTime": {
     "end_time": "2023-05-05T18:18:06.299627Z",
     "start_time": "2023-05-05T18:18:06.274304Z"
    }
   },
   "outputs": [],
   "source": [
    "df_train_balanced = pd.concat([x_train,y_train], axis=1)"
   ]
  },
  {
   "cell_type": "code",
   "execution_count": null,
   "id": "061388b5",
   "metadata": {
    "ExecuteTime": {
     "end_time": "2023-05-05T18:18:14.350820Z",
     "start_time": "2023-05-05T18:18:14.302590Z"
    }
   },
   "outputs": [],
   "source": [
    "df_train_balanced.head()"
   ]
  },
  {
   "cell_type": "code",
   "execution_count": null,
   "id": "078ac753",
   "metadata": {
    "ExecuteTime": {
     "end_time": "2023-05-05T18:18:37.990649Z",
     "start_time": "2023-05-05T18:18:37.967588Z"
    }
   },
   "outputs": [],
   "source": [
    "df_train_balanced['response'].value_counts()"
   ]
  },
  {
   "cell_type": "markdown",
   "id": "030882a0",
   "metadata": {},
   "source": [
    "##### 1.1.1 - Balancing Datasets according to majority class qty"
   ]
  },
  {
   "cell_type": "code",
   "execution_count": null,
   "id": "2c2201bb",
   "metadata": {
    "ExecuteTime": {
     "end_time": "2023-05-05T18:20:06.675556Z",
     "start_time": "2023-05-05T18:20:06.587630Z"
    }
   },
   "outputs": [],
   "source": [
    "#create two different dataframe of majority and minority class \n",
    "df_majority = df_train_balanced[(df_train_balanced['response']==0)] \n",
    "df_minority = df_train_balanced[(df_train_balanced['response']==1)] \n",
    "\n",
    "# upsample minority class\n",
    "df_minority_upsampled = resample(df_minority, \n",
    "                                 replace=True,    # sample with replacement\n",
    "                                 n_samples= 214091, # to match majority class\n",
    "                                 random_state=0)  # reproducible results\n",
    "\n",
    "# Combine majority class with upsampled minority class\n",
    "df_upsampled = pd.concat([df_minority_upsampled, df_majority])"
   ]
  },
  {
   "cell_type": "code",
   "execution_count": null,
   "id": "2a91b716",
   "metadata": {
    "ExecuteTime": {
     "end_time": "2023-05-05T18:20:07.662453Z",
     "start_time": "2023-05-05T18:20:07.638344Z"
    }
   },
   "outputs": [],
   "source": [
    "df_upsampled['response'].value_counts()"
   ]
  },
  {
   "cell_type": "code",
   "execution_count": null,
   "id": "b5564f87",
   "metadata": {
    "ExecuteTime": {
     "end_time": "2023-05-05T18:20:54.523912Z",
     "start_time": "2023-05-05T18:20:54.514660Z"
    }
   },
   "outputs": [],
   "source": [
    "df_upsampled.dtypes"
   ]
  },
  {
   "cell_type": "code",
   "execution_count": null,
   "id": "9519e4ed",
   "metadata": {
    "ExecuteTime": {
     "end_time": "2023-05-05T18:21:44.117942Z",
     "start_time": "2023-05-05T18:21:43.950271Z"
    }
   },
   "outputs": [],
   "source": [
    "df_upsampled['id'] = df_upsampled['id'].astype('category')\n",
    "df_upsampled['gender'] = df_upsampled['gender'].astype('category')\n",
    "df_upsampled['region_code'] = df_upsampled['region_code'].astype('category')\n",
    "df_upsampled['policy_sales_channel'] = df_upsampled['policy_sales_channel'].astype('category')\n",
    "df_upsampled['vehicle_age'] = df_upsampled['vehicle_age'].astype('category')\n",
    "df_upsampled['vehicle_damage'] = df_upsampled['vehicle_damage'].astype('category')\n",
    "df_upsampled['driving_license'] = df_upsampled['driving_license'].astype('category')\n",
    "df_upsampled['previously_insured'] = df_upsampled['previously_insured'].astype('category')\n",
    "df_upsampled['age'] = df_upsampled['age'].astype('float')\n",
    "df_upsampled['vintage'] = df_upsampled['vintage'].astype('float')\n",
    "df_upsampled['annual_premium'] = df_upsampled['annual_premium'].astype('float')\n",
    "df_upsampled['response'] = df_upsampled['response'].astype('category')"
   ]
  },
  {
   "cell_type": "code",
   "execution_count": null,
   "id": "823b1670",
   "metadata": {
    "ExecuteTime": {
     "end_time": "2023-05-05T18:23:33.405816Z",
     "start_time": "2023-05-05T18:23:33.390316Z"
    }
   },
   "outputs": [],
   "source": [
    "x_training = df_upsampled.drop('response', axis = 1)\n",
    "y_training = df_upsampled['response'].copy()"
   ]
  },
  {
   "cell_type": "code",
   "execution_count": null,
   "id": "5a43aa81",
   "metadata": {
    "ExecuteTime": {
     "start_time": "2023-05-04T21:22:45.942Z"
    }
   },
   "outputs": [],
   "source": [
    "#Remove Outlier using Z-Score Method\n",
    "import scipy.stats as stats\n",
    "import numpy       as np\n",
    "z = np.abs(stats.zscore(df_upsampled))\n",
    "data_clean = df_upsampled[(z<3).all(axis = 1)] \n",
    "data_clean.shape"
   ]
  },
  {
   "cell_type": "markdown",
   "id": "c71cfb62",
   "metadata": {},
   "source": [
    "### 1.2 - DATA DESCRIPTION"
   ]
  },
  {
   "cell_type": "code",
   "execution_count": null,
   "id": "5d193971",
   "metadata": {
    "ExecuteTime": {
     "end_time": "2023-05-04T20:11:56.237280Z",
     "start_time": "2023-05-04T20:11:56.223251Z"
    }
   },
   "outputs": [],
   "source": [
    "#df1 = pd.concat([x_train,y_train], axis=1)"
   ]
  },
  {
   "cell_type": "code",
   "execution_count": null,
   "id": "6c6ce7d6",
   "metadata": {
    "ExecuteTime": {
     "end_time": "2023-05-04T20:11:56.253320Z",
     "start_time": "2023-05-04T20:11:56.239281Z"
    }
   },
   "outputs": [],
   "source": [
    "#prof = ProfileReport(df1)\n",
    "#prof.to_file(output_file='eda_x_training.html')"
   ]
  },
  {
   "cell_type": "code",
   "execution_count": null,
   "id": "c536f3d3",
   "metadata": {
    "ExecuteTime": {
     "end_time": "2023-05-04T20:11:56.268915Z",
     "start_time": "2023-05-04T20:11:56.255321Z"
    }
   },
   "outputs": [],
   "source": [
    "#HTML(filename='eda_x_training.html')"
   ]
  },
  {
   "cell_type": "markdown",
   "id": "8a2a7dd3",
   "metadata": {},
   "source": [
    "## 2 - FEATURE ENGINEERING"
   ]
  },
  {
   "cell_type": "code",
   "execution_count": null,
   "id": "c16f684f",
   "metadata": {
    "ExecuteTime": {
     "end_time": "2023-05-04T20:48:01.212948Z",
     "start_time": "2023-05-04T20:48:01.194174Z"
    }
   },
   "outputs": [],
   "source": [
    "df2 = x_train.copy()"
   ]
  },
  {
   "cell_type": "code",
   "execution_count": null,
   "id": "d0572822",
   "metadata": {
    "ExecuteTime": {
     "end_time": "2023-05-04T20:48:01.761226Z",
     "start_time": "2023-05-04T20:48:01.526097Z"
    }
   },
   "outputs": [],
   "source": [
    "df2['id'] = df2['id'].astype('category')\n",
    "df2['gender'] = df2['gender'].astype('category')\n",
    "df2['region_code'] = df2['region_code'].astype('category')\n",
    "df2['policy_sales_channel'] = df2['policy_sales_channel'].astype('category')\n",
    "df2['vehicle_age'] = df2['vehicle_age'].astype('category')\n",
    "df2['vehicle_damage'] = df2['vehicle_damage'].astype('category')\n",
    "df2['driving_license'] = df2['driving_license'].astype('category')\n",
    "df2['previously_insured'] = df2['previously_insured'].astype('category')"
   ]
  },
  {
   "cell_type": "code",
   "execution_count": null,
   "id": "0ed5c07c",
   "metadata": {
    "ExecuteTime": {
     "end_time": "2023-05-05T18:24:35.279761Z",
     "start_time": "2023-05-05T18:24:35.228604Z"
    }
   },
   "outputs": [],
   "source": [
    "x_valid['id'] = x_valid['id'].astype('category')\n",
    "x_valid['gender'] = x_valid['gender'].astype('category')\n",
    "x_valid['region_code'] = x_valid['region_code'].astype('category')\n",
    "x_valid['policy_sales_channel'] = x_valid['policy_sales_channel'].astype('category')\n",
    "x_valid['vehicle_age'] = x_valid['vehicle_age'].astype('category')\n",
    "x_valid['vehicle_damage'] = x_valid['vehicle_damage'].astype('category')\n",
    "x_valid['driving_license'] = x_valid['driving_license'].astype('category')\n",
    "x_valid['previously_insured'] = x_valid['previously_insured'].astype('category')"
   ]
  },
  {
   "cell_type": "code",
   "execution_count": null,
   "id": "a7228449",
   "metadata": {
    "ExecuteTime": {
     "end_time": "2023-05-05T18:24:47.030549Z",
     "start_time": "2023-05-05T18:24:47.006437Z"
    }
   },
   "outputs": [],
   "source": [
    "x_validation = x_valid\n",
    "y_validation = y_valid"
   ]
  },
  {
   "cell_type": "markdown",
   "id": "d4c0ce6e",
   "metadata": {},
   "source": [
    "## 7 - ML MODELS TRAINING"
   ]
  },
  {
   "cell_type": "code",
   "execution_count": null,
   "id": "a6be452a",
   "metadata": {
    "ExecuteTime": {
     "end_time": "2023-05-04T20:48:06.112471Z",
     "start_time": "2023-05-04T20:48:06.068682Z"
    }
   },
   "outputs": [],
   "source": [
    "# Parameter \"scale_pos_weight\" definition\n",
    "\n",
    "from collections import Counter\n",
    "\n",
    "# ESTIMATE SCALE_POS_WEIGHT\n",
    "counter = Counter(y_train)\n",
    "estimate = counter[0]/counter[1]\n",
    "print('Estimate: %.3f' % estimate)"
   ]
  },
  {
   "cell_type": "markdown",
   "id": "273e03ee",
   "metadata": {},
   "source": [
    "#### 7.1.1 - LGBM Baseline Model"
   ]
  },
  {
   "cell_type": "code",
   "execution_count": null,
   "id": "f5335dba",
   "metadata": {
    "ExecuteTime": {
     "end_time": "2023-05-05T18:25:50.367826Z",
     "start_time": "2023-05-05T18:25:50.359427Z"
    }
   },
   "outputs": [],
   "source": [
    "y_training.shape"
   ]
  },
  {
   "cell_type": "code",
   "execution_count": null,
   "id": "1024fd6d",
   "metadata": {
    "ExecuteTime": {
     "end_time": "2023-05-05T18:24:56.976017Z",
     "start_time": "2023-05-05T18:24:50.300133Z"
    }
   },
   "outputs": [],
   "source": [
    "# Model Definition\n",
    "lgbm_base_model = lgbm.LGBMClassifier()\n",
    "\n",
    "# Model training\n",
    "lgbm_baseline = lgbm_base_model.fit( x_training, y_training )\n",
    "\n",
    "# Model Prediction\n",
    "yhat_lgbm_baseline = lgbm_baseline.predict_proba( x_validation )"
   ]
  },
  {
   "cell_type": "code",
   "execution_count": null,
   "id": "f7a122fb",
   "metadata": {
    "ExecuteTime": {
     "end_time": "2023-05-05T18:25:00.642764Z",
     "start_time": "2023-05-05T18:25:00.082327Z"
    }
   },
   "outputs": [],
   "source": [
    "fig, axs = plt.subplots(ncols= 3, figsize = (18,5))\n",
    "\n",
    "# cumulative gain - Metric for sorting problem\n",
    "skplt.metrics.plot_cumulative_gain(y_validation, yhat_lgbm_baseline, ax=axs[0],title='Cumulative Gain - LGBM');\n",
    "\n",
    "# Lift Curve\n",
    "skplt.metrics.plot_lift_curve(y_validation, yhat_lgbm_baseline,ax=axs[1],title='Lift Curve - LGBM');\n",
    "\n",
    "# Roc Curve\n",
    "skplt.metrics.plot_roc(y_validation, yhat_lgbm_baseline, ax=axs[2], title='ROC-Curve - LGBM');\n",
    "\n",
    "plt.tight_layout()"
   ]
  },
  {
   "cell_type": "code",
   "execution_count": null,
   "id": "c9b7ce56",
   "metadata": {
    "ExecuteTime": {
     "end_time": "2023-05-05T18:25:01.026729Z",
     "start_time": "2023-05-05T18:25:00.975587Z"
    }
   },
   "outputs": [],
   "source": [
    "# Copy Data\n",
    "perf_valid = x_validation.copy()\n",
    "perf_valid['response'] = y_validation.copy()\n",
    "\n",
    "# Propensity score\n",
    "perf_valid['score'] = yhat_lgbm_baseline[:,1].tolist()\n",
    "\n",
    "# sorted clients by score\n",
    "perf_valid = perf_valid.sort_values( 'score', ascending=False )\n",
    "\n",
    "# Compute precision at K\n",
    "precision_atK = precision_at_k(perf_valid, k=20000 )\n",
    "\n",
    "# Compute precision at K\n",
    "recall_atK = recall_at_k(perf_valid, k=20000 )\n",
    "\n",
    "lgbm_baseline_performance = ml_performance('LGBM Baseline Model', precision_atK, recall_atK )\n",
    "lgbm_baseline_performance"
   ]
  },
  {
   "cell_type": "markdown",
   "id": "8e502283",
   "metadata": {},
   "source": [
    "#### 7.1.2 - CatBoost Baseline Model"
   ]
  },
  {
   "cell_type": "code",
   "execution_count": null,
   "id": "5ebecece",
   "metadata": {
    "ExecuteTime": {
     "end_time": "2023-05-05T18:27:30.339806Z",
     "start_time": "2023-05-05T18:27:30.324119Z"
    }
   },
   "outputs": [],
   "source": [
    "cat_features=['id',\n",
    "              'gender',\n",
    "              'region_code',\n",
    "              'policy_sales_channel',\n",
    "              'driving_license',\n",
    "              'vehicle_age',\n",
    "              'vehicle_damage',\n",
    "              'previously_insured'   \n",
    "]"
   ]
  },
  {
   "cell_type": "code",
   "execution_count": null,
   "id": "bc4e9b0f",
   "metadata": {
    "ExecuteTime": {
     "end_time": "2023-05-05T18:28:23.616292Z",
     "start_time": "2023-05-05T18:27:49.767754Z"
    }
   },
   "outputs": [],
   "source": [
    "# Model Definition\n",
    "cb_base_model = CatBoostClassifier(task_type='GPU')\n",
    "\n",
    "# Model training\n",
    "cb_baseline = cb_base_model.fit( x_training, y_training, cat_features)\n",
    "\n",
    "# Model Prediction\n",
    "yhat_cb_baseline = cb_baseline.predict_proba( x_validation )"
   ]
  },
  {
   "cell_type": "code",
   "execution_count": null,
   "id": "b73e4d72",
   "metadata": {
    "ExecuteTime": {
     "end_time": "2023-05-05T18:28:35.012197Z",
     "start_time": "2023-05-05T18:28:34.529660Z"
    }
   },
   "outputs": [],
   "source": [
    "fig, axs = plt.subplots(ncols= 3, figsize = (18,5))\n",
    "\n",
    "# cumulative gain - Metric for sorting problem\n",
    "skplt.metrics.plot_cumulative_gain(y_validation, yhat_cb_baseline, ax=axs[0],title='Cumulative Gain - LGBM');\n",
    "\n",
    "# Lift Curve\n",
    "skplt.metrics.plot_lift_curve(y_validation, yhat_cb_baseline, ax=axs[1],title='Lift Curve - LGBM');\n",
    "\n",
    "# Roc Curve\n",
    "skplt.metrics.plot_roc(y_validation, yhat_cb_baseline, ax=axs[2], title='ROC-Curve - LGBM');\n",
    "\n",
    "plt.tight_layout()"
   ]
  },
  {
   "cell_type": "code",
   "execution_count": null,
   "id": "b3e374bd",
   "metadata": {
    "ExecuteTime": {
     "end_time": "2023-05-05T18:28:35.080417Z",
     "start_time": "2023-05-05T18:28:35.036870Z"
    }
   },
   "outputs": [],
   "source": [
    "# Copy Data\n",
    "perf_valid = x_validation.copy()\n",
    "perf_valid['response'] = y_validation.copy()\n",
    "\n",
    "# Propensity score\n",
    "perf_valid['score'] = yhat_cb_baseline[:,1].tolist()\n",
    "\n",
    "# sorted clients by score\n",
    "perf_valid = perf_valid.sort_values( 'score', ascending=False )\n",
    "\n",
    "# Compute precision at K\n",
    "precision_atK = precision_at_k(perf_valid, k=20000 )\n",
    "\n",
    "# Compute precision at K\n",
    "recall_atK = recall_at_k(perf_valid, k=20000 )\n",
    "\n",
    "cb_baseline_performance = ml_performance('CatBoost Baseline Model', precision_atK, recall_atK )\n",
    "cb_baseline_performance"
   ]
  },
  {
   "cell_type": "markdown",
   "id": "882d3f52",
   "metadata": {},
   "source": [
    "#### XGB Classifier Baseline Model"
   ]
  },
  {
   "cell_type": "code",
   "execution_count": null,
   "id": "71bcd3c0",
   "metadata": {
    "ExecuteTime": {
     "end_time": "2023-05-05T18:29:40.292652Z",
     "start_time": "2023-05-05T18:28:54.821658Z"
    }
   },
   "outputs": [],
   "source": [
    "# Model Definition\n",
    "xgb_base_model = XGBClassifier(enable_categorical=True, tree_method='gpu_hist')\n",
    "\n",
    "# Model training\n",
    "xgb_baseline = xgb_base_model.fit( x_training, y_training )\n",
    "\n",
    "# Model Prediction\n",
    "yhat_xgb_baseline = xgb_baseline.predict_proba( x_validation )"
   ]
  },
  {
   "cell_type": "code",
   "execution_count": null,
   "id": "d511cc79",
   "metadata": {
    "ExecuteTime": {
     "end_time": "2023-05-05T18:29:40.803968Z",
     "start_time": "2023-05-05T18:29:40.295521Z"
    }
   },
   "outputs": [],
   "source": [
    "fig, axs = plt.subplots(ncols= 3, figsize = (18,5))\n",
    "\n",
    "# cumulative gain - Metric for sorting problem\n",
    "skplt.metrics.plot_cumulative_gain(y_validation, yhat_xgb_baseline, ax=axs[0],title='Cumulative Gain - LGBM');\n",
    "\n",
    "# Lift Curve\n",
    "skplt.metrics.plot_lift_curve(y_validation, yhat_xgb_baseline, ax=axs[1],title='Lift Curve - LGBM');\n",
    "\n",
    "# Roc Curve\n",
    "skplt.metrics.plot_roc(y_validation, yhat_xgb_baseline, ax=axs[2], title='ROC-Curve - LGBM');\n",
    "\n",
    "plt.tight_layout()"
   ]
  },
  {
   "cell_type": "code",
   "execution_count": null,
   "id": "e182b2b8",
   "metadata": {
    "ExecuteTime": {
     "end_time": "2023-05-05T18:29:40.854968Z",
     "start_time": "2023-05-05T18:29:40.803968Z"
    }
   },
   "outputs": [],
   "source": [
    "# Copy Data\n",
    "perf_valid = x_validation.copy()\n",
    "perf_valid['response'] = y_validation.copy()\n",
    "\n",
    "# Propensity score\n",
    "perf_valid['score'] = yhat_xgb_baseline[:,1].tolist()\n",
    "\n",
    "# sorted clients by score\n",
    "perf_valid = perf_valid.sort_values( 'score', ascending=False )\n",
    "\n",
    "# Compute precision at K\n",
    "precision_atK = precision_at_k(perf_valid, k=20000 )\n",
    "\n",
    "# Compute precision at K\n",
    "recall_atK = recall_at_k(perf_valid, k=20000 )\n",
    "\n",
    "xgb_baseline_performance = ml_performance('XGB Baseline Model', precision_atK, recall_atK )\n",
    "xgb_baseline_performance"
   ]
  },
  {
   "cell_type": "code",
   "execution_count": null,
   "id": "6c9d4318",
   "metadata": {
    "ExecuteTime": {
     "end_time": "2023-05-05T18:29:40.867065Z",
     "start_time": "2023-05-05T18:29:40.856285Z"
    }
   },
   "outputs": [],
   "source": [
    "# Baseline Performance for all Machine Leraning Algorithms\n",
    "baseline_performance = pd.concat( [lgbm_baseline_performance, cb_baseline_performance, xgb_baseline_performance] )\n",
    "baseline_performance.sort_values('Precision_at_K', ascending= False)"
   ]
  },
  {
   "cell_type": "markdown",
   "id": "a742dc95",
   "metadata": {},
   "source": [
    "## 9 - HYPERPARAMETER FINE TUNING"
   ]
  },
  {
   "cell_type": "markdown",
   "id": "470b77a0",
   "metadata": {
    "heading_collapsed": true
   },
   "source": [
    "### 9.1 - LGBM Fine Tunning"
   ]
  },
  {
   "cell_type": "markdown",
   "id": "deab9d90",
   "metadata": {},
   "source": [
    "### 9.2 - CatBoost Fine Tunning"
   ]
  },
  {
   "cell_type": "markdown",
   "id": "c1b8e019",
   "metadata": {},
   "source": [
    "### 9.2 - XGBoost Fine Tunning"
   ]
  },
  {
   "cell_type": "markdown",
   "id": "bdb0ee87",
   "metadata": {},
   "source": [
    "###  9.3 - Last model training with all datas"
   ]
  },
  {
   "cell_type": "markdown",
   "id": "f7415b67",
   "metadata": {},
   "source": [
    "#### 9.3.2.1 - Data preparation applied on validation and test datasets."
   ]
  },
  {
   "cell_type": "code",
   "execution_count": null,
   "id": "96633515",
   "metadata": {
    "ExecuteTime": {
     "end_time": "2023-05-01T14:02:29.331456Z",
     "start_time": "2023-05-01T14:02:29.211905Z"
    }
   },
   "outputs": [],
   "source": [
    "x_test = data_preparation( x_test )"
   ]
  },
  {
   "cell_type": "markdown",
   "id": "c982ff47",
   "metadata": {},
   "source": [
    "#### 9.3.2.2 - Union of training and validation data."
   ]
  },
  {
   "cell_type": "code",
   "execution_count": null,
   "id": "9e7dd1b9",
   "metadata": {
    "ExecuteTime": {
     "end_time": "2023-05-01T14:02:36.876062Z",
     "start_time": "2023-05-01T14:02:36.838997Z"
    }
   },
   "outputs": [],
   "source": [
    "x_train_treino = pd.concat([ x_training, x_validation ] )\n",
    "y_train_treino = pd.concat([ y_train, y_validation ] )"
   ]
  },
  {
   "cell_type": "markdown",
   "id": "35a62cfd",
   "metadata": {},
   "source": [
    "#### 9.3.2.3 - Generalization capacity of LGBM Model"
   ]
  },
  {
   "cell_type": "code",
   "execution_count": null,
   "id": "edb17247",
   "metadata": {
    "ExecuteTime": {
     "end_time": "2023-05-01T14:03:02.276890Z",
     "start_time": "2023-05-01T14:02:51.722883Z"
    }
   },
   "outputs": [],
   "source": [
    "# Model Definition\n",
    "lgbm_model = lgbm.LGBMClassifier(**params )\n",
    "\n",
    "# Model Training\n",
    "model_lgbm = lgbm_model.fit( x_train_treino, y_train_treino )"
   ]
  },
  {
   "cell_type": "code",
   "execution_count": null,
   "id": "4a2b3362",
   "metadata": {
    "ExecuteTime": {
     "end_time": "2023-05-01T14:03:03.192451Z",
     "start_time": "2023-05-01T14:03:03.149550Z"
    }
   },
   "outputs": [],
   "source": [
    "# Model Prediction\n",
    "yhat_lgbm = model_lgbm.predict_proba( x_test )"
   ]
  },
  {
   "cell_type": "code",
   "execution_count": null,
   "id": "04cbc24b",
   "metadata": {
    "ExecuteTime": {
     "end_time": "2023-05-01T14:03:05.769720Z",
     "start_time": "2023-05-01T14:03:05.706840Z"
    }
   },
   "outputs": [],
   "source": [
    "# Copy Data\n",
    "df_test = x_test.copy()\n",
    "df_test['response'] = y_test.copy()\n",
    "\n",
    "# Propensity score\n",
    "df_test['score'] = yhat_lgbm[:,1].tolist()\n",
    "\n",
    "# sorted clients by score\n",
    "df_test = df_test.sort_values( 'score', ascending=False )\n",
    "\n",
    "# Compute precision at K\n",
    "precision_atK = precision_at_k(df_test, k=20000 )\n",
    "\n",
    "# Compute precision at K\n",
    "recall_atK = recall_at_k(df_test, k=20000 )\n",
    "\n",
    "lgbm_performance_cv = ml_performance('LGBM Model', precision_atK, recall_atK )\n",
    "lgbm_performance_cv"
   ]
  },
  {
   "cell_type": "code",
   "execution_count": null,
   "id": "ddeb2e5f",
   "metadata": {
    "ExecuteTime": {
     "end_time": "2023-05-01T14:03:18.850934Z",
     "start_time": "2023-05-01T14:03:18.830934Z"
    }
   },
   "outputs": [],
   "source": [
    "yhat_lgbm_curve = yhat_lgbm[:,1]"
   ]
  },
  {
   "cell_type": "code",
   "execution_count": null,
   "id": "90e1e47b",
   "metadata": {
    "ExecuteTime": {
     "end_time": "2023-05-01T14:03:19.487476Z",
     "start_time": "2023-05-01T14:03:19.461357Z"
    }
   },
   "outputs": [],
   "source": [
    "precision, recall, thresholds = precision_recall_curve(y_test, yhat_lgbm_curve)"
   ]
  },
  {
   "cell_type": "code",
   "execution_count": null,
   "id": "e5af7a3d",
   "metadata": {
    "ExecuteTime": {
     "end_time": "2023-05-01T14:03:20.551766Z",
     "start_time": "2023-05-01T14:03:20.181592Z"
    }
   },
   "outputs": [],
   "source": [
    "# plot curves\n",
    "plt.plot(thresholds, precision[:-1], marker='.', label='Precision')\n",
    "plt.plot(thresholds, recall[:-1], marker='.', label='Recall')\n",
    "plt.xlabel('thresholds')\n",
    "plt.ylabel('Precision, Recall')\n",
    "plt.legend()\n",
    "plt.show()"
   ]
  },
  {
   "cell_type": "markdown",
   "id": "22900979",
   "metadata": {},
   "source": [
    "#### 9.3.2.4 - Generalization capacity of XGB Model"
   ]
  },
  {
   "cell_type": "code",
   "execution_count": null,
   "id": "18f1961d",
   "metadata": {
    "ExecuteTime": {
     "end_time": "2023-05-01T14:04:07.648942Z",
     "start_time": "2023-05-01T14:03:31.147129Z"
    }
   },
   "outputs": [],
   "source": [
    "# XGB Model\n",
    "\n",
    "# model definition\n",
    "model_xgb_cv = XGBClassifier( scale_pos_weight=7.2,\n",
    "                              colsample_bytree = 0.3,\n",
    "                              subsample = 0.5,\n",
    "                              objective='binary:logistic', \n",
    "                              n_estimators=1500, \n",
    "                              max_depth=3,\n",
    "                              min_child_weight = 3,\n",
    "                              eta= 0.03 )\n",
    "\n",
    "# model training\n",
    "model_xgb_cv.fit( x_training, y_train )\n",
    "\n",
    "# model prediction - The generalization POWER\n",
    "yhat_xgb_cv = model_xgb_cv.predict_proba( x_test )"
   ]
  },
  {
   "cell_type": "code",
   "execution_count": null,
   "id": "40cc77d8",
   "metadata": {
    "ExecuteTime": {
     "end_time": "2023-05-01T14:04:07.711451Z",
     "start_time": "2023-05-01T14:04:07.651446Z"
    }
   },
   "outputs": [],
   "source": [
    "# Copy Data\n",
    "df_test = x_test.copy()\n",
    "df_test['response'] = y_test.copy()\n",
    "\n",
    "# Propensity score\n",
    "df_test['score'] = yhat_xgb_cv[:,1].tolist()\n",
    "\n",
    "# sorted clients by score\n",
    "df_test = df_test.sort_values( 'score', ascending=False )\n",
    "\n",
    "# Compute precision at K\n",
    "precision_atK = precision_at_k(df_test, k=20000 )\n",
    "\n",
    "# Compute precision at K\n",
    "recall_atK = recall_at_k(df_test, k=20000 )\n",
    "\n",
    "xgb_performance_cv = ml_performance('XGB Model', precision_atK, recall_atK )\n",
    "xgb_performance_cv"
   ]
  },
  {
   "cell_type": "code",
   "execution_count": null,
   "id": "e81de3bf",
   "metadata": {
    "ExecuteTime": {
     "end_time": "2023-05-01T14:04:08.576862Z",
     "start_time": "2023-05-01T14:04:07.714454Z"
    }
   },
   "outputs": [],
   "source": [
    "fig, axs = plt.subplots(ncols= 3, figsize = (18,5))\n",
    "\n",
    "# cumulative gain - Metric for sorting problem\n",
    "skplt.metrics.plot_cumulative_gain(y_test, yhat_xgb_cv, ax=axs[0],title='Cumulative Gain - XGB');\n",
    "\n",
    "# Lift Curve\n",
    "skplt.metrics.plot_lift_curve(y_test, yhat_xgb_cv,ax=axs[1],title='Lift Curve - XGB');\n",
    "\n",
    "# Roc Curve\n",
    "skplt.metrics.plot_roc(y_test, yhat_xgb_cv, ax=axs[2], title='ROC-Curve - XGB');\n",
    "\n",
    "plt.tight_layout()"
   ]
  },
  {
   "cell_type": "code",
   "execution_count": null,
   "id": "03a25b92",
   "metadata": {
    "ExecuteTime": {
     "end_time": "2023-05-01T14:04:08.592959Z",
     "start_time": "2023-05-01T14:04:08.578893Z"
    }
   },
   "outputs": [],
   "source": [
    "yhat_xgb_curve = yhat_xgb_cv[:,1]"
   ]
  },
  {
   "cell_type": "code",
   "execution_count": null,
   "id": "e0b8047d",
   "metadata": {
    "ExecuteTime": {
     "end_time": "2023-05-01T14:04:08.625130Z",
     "start_time": "2023-05-01T14:04:08.595937Z"
    }
   },
   "outputs": [],
   "source": [
    "precision, recall, thresholds = precision_recall_curve( y_test, yhat_xgb_curve)"
   ]
  },
  {
   "cell_type": "code",
   "execution_count": null,
   "id": "04ca8348",
   "metadata": {
    "ExecuteTime": {
     "end_time": "2023-05-01T14:04:08.640358Z",
     "start_time": "2023-05-01T14:04:08.629251Z"
    }
   },
   "outputs": [],
   "source": [
    "x_test.shape"
   ]
  },
  {
   "cell_type": "code",
   "execution_count": null,
   "id": "aa49427f",
   "metadata": {
    "ExecuteTime": {
     "end_time": "2023-05-01T14:04:08.655490Z",
     "start_time": "2023-05-01T14:04:08.645370Z"
    }
   },
   "outputs": [],
   "source": [
    "thresholds"
   ]
  },
  {
   "cell_type": "code",
   "execution_count": null,
   "id": "1eda4357",
   "metadata": {
    "ExecuteTime": {
     "end_time": "2023-05-01T14:04:09.253843Z",
     "start_time": "2023-05-01T14:04:08.659400Z"
    }
   },
   "outputs": [],
   "source": [
    "# plot curves\n",
    "plt.plot(thresholds, precision[:-1], marker='.', label='Precision')\n",
    "plt.plot(thresholds, recall[:-1], marker='.', label='Recall')\n",
    "plt.xlabel('thresholds')\n",
    "plt.ylabel('Precision, Recall')\n",
    "plt.legend()\n",
    "plt.show()"
   ]
  },
  {
   "cell_type": "markdown",
   "id": "d66bf176",
   "metadata": {},
   "source": [
    "### 9.1 - Cross Validation"
   ]
  },
  {
   "cell_type": "code",
   "execution_count": null,
   "id": "aaeb314b",
   "metadata": {
    "ExecuteTime": {
     "end_time": "2023-04-19T20:53:36.468517Z",
     "start_time": "2023-04-19T20:53:36.447284Z"
    }
   },
   "outputs": [],
   "source": [
    "df_cc = pd.concat([x_train_treino, y_train_treino], axis=1)"
   ]
  },
  {
   "cell_type": "code",
   "execution_count": null,
   "id": "a8ef51e5",
   "metadata": {
    "ExecuteTime": {
     "end_time": "2023-04-19T20:57:38.338190Z",
     "start_time": "2023-04-19T20:53:36.873045Z"
    }
   },
   "outputs": [],
   "source": [
    "# Dictioary with models instantiated\n",
    "models = {'XGB Model': model_xgb_cv,\n",
    "          'LGBM Model': model_lgbm }\n",
    "\n",
    "# Cross-validated models performance\n",
    "model_performance = pd.DataFrame()\n",
    "\n",
    "for key in models.keys():\n",
    "    performance_cv = cross_validation(5, key, models[key], df_cc, 20000)\n",
    "    model_performance = pd.concat([model_performance, performance_cv], axis=1)\n",
    "\n",
    "model_performance.T"
   ]
  },
  {
   "cell_type": "markdown",
   "id": "0c9860a3",
   "metadata": {},
   "source": [
    "#### 9.3.2.5 - Last training with all datas before deploying to production"
   ]
  },
  {
   "cell_type": "code",
   "execution_count": null,
   "id": "e3762813",
   "metadata": {
    "ExecuteTime": {
     "end_time": "2023-04-19T20:58:59.227851Z",
     "start_time": "2023-04-19T20:58:58.656778Z"
    }
   },
   "outputs": [],
   "source": [
    "# Union of training, validation and test datasets\n",
    "df_last = df.copy()\n",
    "\n",
    "# Split response variable into a new dataset\n",
    "x_last_training = df_last.drop( 'response', axis=1 )\n",
    "y_last_training = df_last['response'].copy()\n",
    "\n",
    "# Applying data transformation\n",
    "x_last_training = data_preparation( x_last_training )"
   ]
  },
  {
   "cell_type": "code",
   "execution_count": null,
   "id": "c6a383b7",
   "metadata": {
    "ExecuteTime": {
     "end_time": "2023-04-19T20:59:56.215232Z",
     "start_time": "2023-04-19T20:59:00.058906Z"
    }
   },
   "outputs": [],
   "source": [
    "# XGB Model Last Training\n",
    "\n",
    "# model definition\n",
    "model_xgb_lv= XGBClassifier( scale_pos_weight=7.2,\n",
    "                              colsample_bytree = 0.3,\n",
    "                              subsample = 0.5,\n",
    "                              objective='binary:logistic', \n",
    "                              n_estimators=1500, \n",
    "                              max_depth=3,\n",
    "                              min_child_weight = 3,\n",
    "                              eta= 0.03 )\n",
    "\n",
    "# model training\n",
    "model_xgb_lv.fit( x_last_training, y_last_training )"
   ]
  },
  {
   "cell_type": "code",
   "execution_count": null,
   "id": "a56d8bc8",
   "metadata": {
    "ExecuteTime": {
     "end_time": "2023-04-19T20:59:56.262585Z",
     "start_time": "2023-04-19T20:59:56.218237Z"
    }
   },
   "outputs": [],
   "source": [
    "pickle.dump(model_xgb_lv, open('C:/Users/perot/Documents/ds_repos/projects/Health_Insurance_Cross_Sell/src/models/xgb_model.pkl', 'wb'))"
   ]
  },
  {
   "cell_type": "markdown",
   "id": "27a55409",
   "metadata": {},
   "source": [
    "## 10 - DEPLOYING MODEL TO PRODUCTION"
   ]
  },
  {
   "cell_type": "markdown",
   "id": "04e92906",
   "metadata": {},
   "source": [
    "### 10.1 - HEALTHINSURANCE CLASS"
   ]
  },
  {
   "cell_type": "code",
   "execution_count": null,
   "id": "6fa080b9",
   "metadata": {},
   "outputs": [],
   "source": [
    "import pickle\n",
    "import inflection\n",
    "import numpy  as np\n",
    "import pandas as pd\n",
    "\n",
    "class HealthInsurance:\n",
    "    \n",
    "    def __init__( self ):\n",
    "        self.home_path                                = ''\n",
    "        self.frequency_encode_policy_sales_scaler     = pickle.load( open( self.home_path + 'src/features/frequency_encode_policy_sales_scaler.pkl', 'rb') )\n",
    "        self.frequency_encode_region_code_scaler      = pickle.load( open( self.home_path + 'src/features/frequency_encode_region_code_scaler.pkl', 'rb') )\n",
    "        self.target_encode_gender_scaler              = pickle.load( open( self.home_path + 'src/features/target_encode_gender_scaler.pkl', 'rb') )\n",
    "        self.age_scaler                               = pickle.load( open( self.home_path + 'src/features/age_scaler.pkl', 'rb') )\n",
    "        self.vintage_scaler                           = pickle.load( open( self.home_path + 'src/features/vintage_scaler.pkl', 'rb') )\n",
    "        self.annual_premium_scaler                    = pickle.load( open( self.home_path + 'src/features/annual_premium_scaler.pkl', 'rb') )\n",
    "\n",
    "    \n",
    "    def data_cleaning( self, df5 ):\n",
    " \n",
    "        ## rename Columns\n",
    "        cols_old = ['id', 'Gender', 'Age', 'Driving_License', 'Region_Code', 'Previously_Insured', 'Vehicle_Age', 'Vehicle_Damage', 'Annual_Premium', 'Policy_Sales_Channel', 'Vintage']\n",
    "\n",
    "        snakecase = lambda x: inflection.underscore( x )\n",
    "        cols_new = list( map( snakecase, cols_old ) )\n",
    "        \n",
    "        # rename\n",
    "        df5.columns = cols_new\n",
    "        \n",
    "        return( df5 )\n",
    "\n",
    "    def feature_engineering( self, df5 ):\n",
    "        \n",
    "        # Changing data types\n",
    "        df5['region_code'] = df5['region_code'].astype(object)\n",
    "        df5['policy_sales_channel'] = df5['policy_sales_channel'].astype(object)\n",
    "        \n",
    "        # Fitting vehicle_age column\n",
    "        df5['vehicle_age'] = df5['vehicle_age'].apply(lambda x: 1 if (x == '< 1 Year') else 2 if (x == '1-2 Year') else 3)\n",
    "\n",
    "        # Fitting vehicle_damage column\n",
    "        df5['vehicle_damage'] = df5['vehicle_damage'].apply(lambda x: 1 if (x == 'Yes') else 0)\n",
    "              \n",
    "        return( df5 )\n",
    "    \n",
    "    def data_preparation( self, df5 ):\n",
    "              \n",
    "        # STANDARDIZATION\n",
    "\n",
    "        # annual premium\n",
    "        df5['annual_premium'] = self.annual_premium_scaler.transform( df5[['annual_premium']].values )\n",
    "\n",
    "\n",
    "        # REESCALING\n",
    "\n",
    "        # age\n",
    "        df5['age'] = self.age_scaler.transform( df5[['age']].values )\n",
    "\n",
    "        # vintage\n",
    "        df5['vintage'] = self.vintage_scaler.transform( df5[['vintage']].values )\n",
    "\n",
    "\n",
    "\n",
    "        # ENCODER\n",
    "\n",
    "        # policy sales channel\n",
    "        df5.loc[:, 'policy_sales_channel'] = df5['policy_sales_channel'].map( self.frequency_encode_policy_sales_scaler )\n",
    "\n",
    "        # region code\n",
    "        df5.loc[:, 'region_code'] = df5['region_code'].map( self.frequency_encode_region_code_scaler )\n",
    "\n",
    "        # gender\n",
    "        df5.loc[:, 'gender'] = df5['gender'].map( self.target_encode_gender_scaler )\n",
    "\n",
    "        # FILL NAN VALUES\n",
    "        df5 = df5.fillna(0)\n",
    "        \n",
    "        # Feature Selection\n",
    "        cols_selected = ['vintage', 'annual_premium','age','region_code','vehicle_damage','policy_sales_channel','previously_insured','vehicle_age']\n",
    "        \n",
    "        return df5[cols_selected]\n",
    "    \n",
    "\n",
    "    def get_prediction( self, model, original_data, test_data ):\n",
    "        # prediction\n",
    "        pred = model.predict_proba( test_data )\n",
    "        \n",
    "        # join pred into the original data\n",
    "        original_data['score'] = pred[:, 1].tolist()\n",
    "        \n",
    "        return original_data.to_json( orient='records', date_format='iso' )"
   ]
  },
  {
   "cell_type": "markdown",
   "id": "13ce5926",
   "metadata": {},
   "source": [
    "### 10.2 - API HANDLER"
   ]
  },
  {
   "cell_type": "code",
   "execution_count": null,
   "id": "a985f9b0",
   "metadata": {},
   "outputs": [],
   "source": [
    "import pickle\n",
    "import pandas as pd\n",
    "import os\n",
    "from flask                           import Flask, request, Response\n",
    "from healthinsurance.healthinsurance import HealthInsurance\n",
    "\n",
    "# logading model\n",
    "model = pickle.load( open( 'src/models/xgb_m odel.pkl', 'rb' ) )\n",
    "                          \n",
    "# initialize API\n",
    "app = Flask( __name__ )\n",
    "\n",
    "@app.route( '/healthinsurance/predict', methods=['POST'] )\n",
    "def health_insurance_predict():\n",
    "    test_json = request.get_json()\n",
    "    \n",
    "    if test_json: #there is data\n",
    "               \n",
    "        if isinstance( test_json, dict ): # unique example\n",
    "            test_raw = pd.DataFrame( test_json, index=[0] )\n",
    "    \n",
    "        else:\n",
    "            test_raw = pd.DataFrame( test_json, columns=test_json[0].keys() ) # multiple examples\n",
    "            \n",
    "        # Instantiate Rossmann Class\n",
    "        pipeline = HealthInsurance()\n",
    "\n",
    "        # data cleaning\n",
    "        df1 = pipeline.data_cleaning( test_raw )\n",
    "              \n",
    "        # feature engineering\n",
    "        df2 = pipeline.feature_engineering( df1 )\n",
    "\n",
    "        # Data Preparation\n",
    "        df3 = pipeline.data_preparation( df2 )\n",
    "                              \n",
    "        # prediction\n",
    "        df_response = pipeline.get_prediction( model, test_raw, df3 )\n",
    "        \n",
    "        return df_response\n",
    "        \n",
    "    else:\n",
    "        return Response( '{}', status=200, mimetype='application/json' )\n",
    "\n",
    "if __name__ == '__main__':\n",
    "    app.run('0.0.0.0')\n",
    "\n",
    "#    port = os.environ.get('PORT', 5000)\n",
    "#    app.run( host='0.0.0.0', port=port )"
   ]
  },
  {
   "cell_type": "markdown",
   "id": "0ab1ba52",
   "metadata": {},
   "source": [
    "### 10.3 - API Tester"
   ]
  },
  {
   "cell_type": "code",
   "execution_count": null,
   "id": "db6e9ca5",
   "metadata": {
    "ExecuteTime": {
     "end_time": "2023-04-19T20:43:28.686223Z",
     "start_time": "2023-04-19T20:43:28.153161Z"
    }
   },
   "outputs": [],
   "source": [
    "import requests\n",
    "import pandas as pd"
   ]
  },
  {
   "cell_type": "code",
   "execution_count": null,
   "id": "2f9ef3c7",
   "metadata": {
    "ExecuteTime": {
     "end_time": "2023-04-19T20:43:29.494841Z",
     "start_time": "2023-04-19T20:43:29.314100Z"
    }
   },
   "outputs": [],
   "source": [
    "# Load Datasets\n",
    "df_test = pd.read_csv('C:/Users/perot/Documents/ds_repos/projects/Health_Insurance_Cross_Sell/data/raw/test.csv')"
   ]
  },
  {
   "cell_type": "code",
   "execution_count": null,
   "id": "c5d70a53",
   "metadata": {
    "ExecuteTime": {
     "end_time": "2023-04-19T20:43:30.038359Z",
     "start_time": "2023-04-19T20:43:30.026336Z"
    }
   },
   "outputs": [],
   "source": [
    "df_test = df_test.sample(10)"
   ]
  },
  {
   "cell_type": "code",
   "execution_count": null,
   "id": "2909572d",
   "metadata": {
    "ExecuteTime": {
     "end_time": "2023-04-19T20:43:31.174664Z",
     "start_time": "2023-04-19T20:43:31.129285Z"
    }
   },
   "outputs": [],
   "source": [
    "df_test.head()"
   ]
  },
  {
   "cell_type": "code",
   "execution_count": null,
   "id": "6379bc1f",
   "metadata": {
    "ExecuteTime": {
     "end_time": "2023-04-19T20:43:32.062574Z",
     "start_time": "2023-04-19T20:43:32.051570Z"
    }
   },
   "outputs": [],
   "source": [
    "# convert dataframe to json\n",
    "data = json.dumps( df_test.to_dict( orient='records' ) )"
   ]
  },
  {
   "cell_type": "code",
   "execution_count": null,
   "id": "85946966",
   "metadata": {
    "ExecuteTime": {
     "end_time": "2023-04-19T20:43:33.043855Z",
     "start_time": "2023-04-19T20:43:32.930743Z"
    }
   },
   "outputs": [],
   "source": [
    "# API Call\n",
    "#url = 'https://healthinsurance-api.onrender.com/healthinsurance/predict'\n",
    "url = 'http://127.0.0.1:5000/healthinsurance/predict'\n",
    "header = {'Content-type': 'application/json' }\n",
    "\n",
    "r = requests.post( url, data=data, headers=header )\n",
    "print( 'Status Code {}'.format( r.status_code ) )"
   ]
  },
  {
   "cell_type": "code",
   "execution_count": null,
   "id": "dbfd728f",
   "metadata": {},
   "outputs": [],
   "source": [
    "d2 = pd.DataFrame( r.json(), columns=r.json()[0].keys() )"
   ]
  }
 ],
 "metadata": {
  "hide_input": false,
  "kernelspec": {
   "display_name": "Python 3 (ipykernel)",
   "language": "python",
   "name": "python3"
  },
  "language_info": {
   "codemirror_mode": {
    "name": "ipython",
    "version": 3
   },
   "file_extension": ".py",
   "mimetype": "text/x-python",
   "name": "python",
   "nbconvert_exporter": "python",
   "pygments_lexer": "ipython3",
   "version": "3.9.15"
  }
 },
 "nbformat": 4,
 "nbformat_minor": 5
}
